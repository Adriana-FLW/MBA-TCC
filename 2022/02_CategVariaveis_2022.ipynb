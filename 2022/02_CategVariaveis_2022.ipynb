{
  "nbformat": 4,
  "nbformat_minor": 0,
  "metadata": {
    "colab": {
      "provenance": [],
      "mount_file_id": "13VaVPXlEeED9Ghc4VOe2bYvijOsaEAKW",
      "authorship_tag": "ABX9TyN6SVdW+eHN2hNEB7BgYj7Q",
      "include_colab_link": true
    },
    "kernelspec": {
      "name": "python3",
      "display_name": "Python 3"
    },
    "language_info": {
      "name": "python"
    }
  },
  "cells": [
    {
      "cell_type": "markdown",
      "metadata": {
        "id": "view-in-github",
        "colab_type": "text"
      },
      "source": [
        "<a href=\"https://colab.research.google.com/github/Adriana-FLW/MBA_TCC/blob/main/02_CategVariaveis_2022.ipynb\" target=\"_parent\"><img src=\"https://colab.research.google.com/assets/colab-badge.svg\" alt=\"Open In Colab\"/></a>"
      ]
    },
    {
      "cell_type": "markdown",
      "source": [
        "\n",
        "# **ENEM 2022**"
      ],
      "metadata": {
        "id": "cvmTA9hvz6WR"
      }
    },
    {
      "cell_type": "code",
      "source": [
        "#from google.colab import drive\n",
        "#drive.mount('/content/drive')"
      ],
      "metadata": {
        "id": "UVF1E7U0SZYa"
      },
      "execution_count": null,
      "outputs": []
    },
    {
      "cell_type": "markdown",
      "source": [
        "# - **Bibliotecas**"
      ],
      "metadata": {
        "id": "mYMdtT9R0AGA"
      }
    },
    {
      "cell_type": "code",
      "source": [
        "import pandas as pd\n",
        "import numpy as np"
      ],
      "metadata": {
        "id": "vZP9nhSc0Fq_"
      },
      "execution_count": null,
      "outputs": []
    },
    {
      "cell_type": "markdown",
      "source": [
        "# **Importar Base 2022**"
      ],
      "metadata": {
        "id": "gH-3IGXK0MT3"
      }
    },
    {
      "cell_type": "code",
      "source": [
        "df_ft = pd.read_csv('/content/drive/MyDrive/MBA_TCC/DADOS/df_ft_2022.csv',sep=',',encoding='ISO-8859-1')\n",
        "df_ft.shape"
      ],
      "metadata": {
        "colab": {
          "base_uri": "https://localhost:8080/"
        },
        "id": "8IA_ob080QPp",
        "outputId": "e3f8d245-69ab-46cb-b937-bdee853ee70e"
      },
      "execution_count": null,
      "outputs": [
        {
          "output_type": "execute_result",
          "data": {
            "text/plain": [
              "(1920850, 51)"
            ]
          },
          "metadata": {},
          "execution_count": 3
        }
      ]
    },
    {
      "cell_type": "code",
      "source": [
        "df_ft.info()"
      ],
      "metadata": {
        "colab": {
          "base_uri": "https://localhost:8080/"
        },
        "id": "9fyVyre10Wx5",
        "outputId": "8cc39b3b-da9f-49df-f90f-73a6eda598b5"
      },
      "execution_count": null,
      "outputs": [
        {
          "output_type": "stream",
          "name": "stdout",
          "text": [
            "<class 'pandas.core.frame.DataFrame'>\n",
            "RangeIndex: 1920850 entries, 0 to 1920849\n",
            "Data columns (total 51 columns):\n",
            " #   Column              Dtype  \n",
            "---  ------              -----  \n",
            " 0   NU_INSCRICAO        int64  \n",
            " 1   NU_ANO              int64  \n",
            " 2   TP_FAIXA_ETARIA     int64  \n",
            " 3   TP_SEXO             object \n",
            " 4   TP_ESTADO_CIVIL     int64  \n",
            " 5   TP_COR_RACA         int64  \n",
            " 6   TP_ST_CONCLUSAO     int64  \n",
            " 7   TP_ANO_CONCLUIU     int64  \n",
            " 8   TP_ESCOLA           int64  \n",
            " 9   TP_ENSINO           int64  \n",
            " 10  CO_MUNICIPIO_ESC    float64\n",
            " 11  NO_MUNICIPIO_ESC    object \n",
            " 12  SG_UF_ESC           object \n",
            " 13  TP_LOCALIZACAO_ESC  int64  \n",
            " 14  CO_MUNICIPIO_PROVA  float64\n",
            " 15  NO_MUNICIPIO_PROVA  object \n",
            " 16  SG_UF_PROVA         object \n",
            " 17  NU_NOTA_CN          float64\n",
            " 18  NU_NOTA_CH          float64\n",
            " 19  NU_NOTA_LC          float64\n",
            " 20  NU_NOTA_MT          float64\n",
            " 21  TP_LINGUA           int64  \n",
            " 22  NU_NOTA_REDACAO     float64\n",
            " 23  Q001                object \n",
            " 24  Q002                object \n",
            " 25  Q003                object \n",
            " 26  Q004                object \n",
            " 27  Q005                float64\n",
            " 28  Q006                object \n",
            " 29  Q007                object \n",
            " 30  Q008                object \n",
            " 31  Q009                object \n",
            " 32  Q010                object \n",
            " 33  Q011                object \n",
            " 34  Q012                object \n",
            " 35  Q013                object \n",
            " 36  Q014                object \n",
            " 37  Q015                object \n",
            " 38  Q016                object \n",
            " 39  Q017                object \n",
            " 40  Q018                object \n",
            " 41  Q019                object \n",
            " 42  Q020                object \n",
            " 43  Q021                object \n",
            " 44  Q022                object \n",
            " 45  Q023                object \n",
            " 46  Q024                object \n",
            " 47  Q025                object \n",
            " 48  Sum_Target          int64  \n",
            " 49  Sum_Target_2        int64  \n",
            " 50  Sum_Target_3        int64  \n",
            "dtypes: float64(8), int64(14), object(29)\n",
            "memory usage: 747.4+ MB\n"
          ]
        }
      ]
    },
    {
      "cell_type": "code",
      "source": [
        "df_ft.head()"
      ],
      "metadata": {
        "colab": {
          "base_uri": "https://localhost:8080/",
          "height": 300
        },
        "id": "pd5hCXFqTTne",
        "outputId": "228e71b8-504b-4578-a4f6-8a7982557e48"
      },
      "execution_count": null,
      "outputs": [
        {
          "output_type": "execute_result",
          "data": {
            "text/plain": [
              "   NU_INSCRICAO  NU_ANO  TP_FAIXA_ETARIA TP_SEXO  TP_ESTADO_CIVIL  \\\n",
              "0  210057280536    2022                5       F                1   \n",
              "1  210055724397    2022                6       M                1   \n",
              "2  210055778089    2022                6       F                1   \n",
              "3  210055461467    2022                4       F                1   \n",
              "4  210054972570    2022                2       F                1   \n",
              "\n",
              "   TP_COR_RACA  TP_ST_CONCLUSAO  TP_ANO_CONCLUIU  TP_ESCOLA  TP_ENSINO  ...  \\\n",
              "0            2                1                2          1          9  ...   \n",
              "1            3                1                2          1          9  ...   \n",
              "2            2                1                0          1          9  ...   \n",
              "3            3                1                1          1          9  ...   \n",
              "4            1                2                0          3          1  ...   \n",
              "\n",
              "   Q019 Q020 Q021  Q022  Q023 Q024 Q025  Sum_Target  Sum_Target_2  \\\n",
              "0     A    A    A     C     A    A    B           3             1   \n",
              "1     C    A    A     C     B    B    B           1             0   \n",
              "2     C    A    A     E     A    A    B           0             0   \n",
              "3     B    A    A     B     A    A    B           0             0   \n",
              "4     B    A    A     C     A    A    B           2             0   \n",
              "\n",
              "   Sum_Target_3  \n",
              "0             1  \n",
              "1             0  \n",
              "2             0  \n",
              "3             0  \n",
              "4             1  \n",
              "\n",
              "[5 rows x 51 columns]"
            ],
            "text/html": [
              "\n",
              "  <div id=\"df-590c0379-3583-44f1-8d23-50a45953bdec\">\n",
              "    <div class=\"colab-df-container\">\n",
              "      <div>\n",
              "<style scoped>\n",
              "    .dataframe tbody tr th:only-of-type {\n",
              "        vertical-align: middle;\n",
              "    }\n",
              "\n",
              "    .dataframe tbody tr th {\n",
              "        vertical-align: top;\n",
              "    }\n",
              "\n",
              "    .dataframe thead th {\n",
              "        text-align: right;\n",
              "    }\n",
              "</style>\n",
              "<table border=\"1\" class=\"dataframe\">\n",
              "  <thead>\n",
              "    <tr style=\"text-align: right;\">\n",
              "      <th></th>\n",
              "      <th>NU_INSCRICAO</th>\n",
              "      <th>NU_ANO</th>\n",
              "      <th>TP_FAIXA_ETARIA</th>\n",
              "      <th>TP_SEXO</th>\n",
              "      <th>TP_ESTADO_CIVIL</th>\n",
              "      <th>TP_COR_RACA</th>\n",
              "      <th>TP_ST_CONCLUSAO</th>\n",
              "      <th>TP_ANO_CONCLUIU</th>\n",
              "      <th>TP_ESCOLA</th>\n",
              "      <th>TP_ENSINO</th>\n",
              "      <th>...</th>\n",
              "      <th>Q019</th>\n",
              "      <th>Q020</th>\n",
              "      <th>Q021</th>\n",
              "      <th>Q022</th>\n",
              "      <th>Q023</th>\n",
              "      <th>Q024</th>\n",
              "      <th>Q025</th>\n",
              "      <th>Sum_Target</th>\n",
              "      <th>Sum_Target_2</th>\n",
              "      <th>Sum_Target_3</th>\n",
              "    </tr>\n",
              "  </thead>\n",
              "  <tbody>\n",
              "    <tr>\n",
              "      <th>0</th>\n",
              "      <td>210057280536</td>\n",
              "      <td>2022</td>\n",
              "      <td>5</td>\n",
              "      <td>F</td>\n",
              "      <td>1</td>\n",
              "      <td>2</td>\n",
              "      <td>1</td>\n",
              "      <td>2</td>\n",
              "      <td>1</td>\n",
              "      <td>9</td>\n",
              "      <td>...</td>\n",
              "      <td>A</td>\n",
              "      <td>A</td>\n",
              "      <td>A</td>\n",
              "      <td>C</td>\n",
              "      <td>A</td>\n",
              "      <td>A</td>\n",
              "      <td>B</td>\n",
              "      <td>3</td>\n",
              "      <td>1</td>\n",
              "      <td>1</td>\n",
              "    </tr>\n",
              "    <tr>\n",
              "      <th>1</th>\n",
              "      <td>210055724397</td>\n",
              "      <td>2022</td>\n",
              "      <td>6</td>\n",
              "      <td>M</td>\n",
              "      <td>1</td>\n",
              "      <td>3</td>\n",
              "      <td>1</td>\n",
              "      <td>2</td>\n",
              "      <td>1</td>\n",
              "      <td>9</td>\n",
              "      <td>...</td>\n",
              "      <td>C</td>\n",
              "      <td>A</td>\n",
              "      <td>A</td>\n",
              "      <td>C</td>\n",
              "      <td>B</td>\n",
              "      <td>B</td>\n",
              "      <td>B</td>\n",
              "      <td>1</td>\n",
              "      <td>0</td>\n",
              "      <td>0</td>\n",
              "    </tr>\n",
              "    <tr>\n",
              "      <th>2</th>\n",
              "      <td>210055778089</td>\n",
              "      <td>2022</td>\n",
              "      <td>6</td>\n",
              "      <td>F</td>\n",
              "      <td>1</td>\n",
              "      <td>2</td>\n",
              "      <td>1</td>\n",
              "      <td>0</td>\n",
              "      <td>1</td>\n",
              "      <td>9</td>\n",
              "      <td>...</td>\n",
              "      <td>C</td>\n",
              "      <td>A</td>\n",
              "      <td>A</td>\n",
              "      <td>E</td>\n",
              "      <td>A</td>\n",
              "      <td>A</td>\n",
              "      <td>B</td>\n",
              "      <td>0</td>\n",
              "      <td>0</td>\n",
              "      <td>0</td>\n",
              "    </tr>\n",
              "    <tr>\n",
              "      <th>3</th>\n",
              "      <td>210055461467</td>\n",
              "      <td>2022</td>\n",
              "      <td>4</td>\n",
              "      <td>F</td>\n",
              "      <td>1</td>\n",
              "      <td>3</td>\n",
              "      <td>1</td>\n",
              "      <td>1</td>\n",
              "      <td>1</td>\n",
              "      <td>9</td>\n",
              "      <td>...</td>\n",
              "      <td>B</td>\n",
              "      <td>A</td>\n",
              "      <td>A</td>\n",
              "      <td>B</td>\n",
              "      <td>A</td>\n",
              "      <td>A</td>\n",
              "      <td>B</td>\n",
              "      <td>0</td>\n",
              "      <td>0</td>\n",
              "      <td>0</td>\n",
              "    </tr>\n",
              "    <tr>\n",
              "      <th>4</th>\n",
              "      <td>210054972570</td>\n",
              "      <td>2022</td>\n",
              "      <td>2</td>\n",
              "      <td>F</td>\n",
              "      <td>1</td>\n",
              "      <td>1</td>\n",
              "      <td>2</td>\n",
              "      <td>0</td>\n",
              "      <td>3</td>\n",
              "      <td>1</td>\n",
              "      <td>...</td>\n",
              "      <td>B</td>\n",
              "      <td>A</td>\n",
              "      <td>A</td>\n",
              "      <td>C</td>\n",
              "      <td>A</td>\n",
              "      <td>A</td>\n",
              "      <td>B</td>\n",
              "      <td>2</td>\n",
              "      <td>0</td>\n",
              "      <td>1</td>\n",
              "    </tr>\n",
              "  </tbody>\n",
              "</table>\n",
              "<p>5 rows × 51 columns</p>\n",
              "</div>\n",
              "      <button class=\"colab-df-convert\" onclick=\"convertToInteractive('df-590c0379-3583-44f1-8d23-50a45953bdec')\"\n",
              "              title=\"Convert this dataframe to an interactive table.\"\n",
              "              style=\"display:none;\">\n",
              "        \n",
              "  <svg xmlns=\"http://www.w3.org/2000/svg\" height=\"24px\"viewBox=\"0 0 24 24\"\n",
              "       width=\"24px\">\n",
              "    <path d=\"M0 0h24v24H0V0z\" fill=\"none\"/>\n",
              "    <path d=\"M18.56 5.44l.94 2.06.94-2.06 2.06-.94-2.06-.94-.94-2.06-.94 2.06-2.06.94zm-11 1L8.5 8.5l.94-2.06 2.06-.94-2.06-.94L8.5 2.5l-.94 2.06-2.06.94zm10 10l.94 2.06.94-2.06 2.06-.94-2.06-.94-.94-2.06-.94 2.06-2.06.94z\"/><path d=\"M17.41 7.96l-1.37-1.37c-.4-.4-.92-.59-1.43-.59-.52 0-1.04.2-1.43.59L10.3 9.45l-7.72 7.72c-.78.78-.78 2.05 0 2.83L4 21.41c.39.39.9.59 1.41.59.51 0 1.02-.2 1.41-.59l7.78-7.78 2.81-2.81c.8-.78.8-2.07 0-2.86zM5.41 20L4 18.59l7.72-7.72 1.47 1.35L5.41 20z\"/>\n",
              "  </svg>\n",
              "      </button>\n",
              "      \n",
              "  <style>\n",
              "    .colab-df-container {\n",
              "      display:flex;\n",
              "      flex-wrap:wrap;\n",
              "      gap: 12px;\n",
              "    }\n",
              "\n",
              "    .colab-df-convert {\n",
              "      background-color: #E8F0FE;\n",
              "      border: none;\n",
              "      border-radius: 50%;\n",
              "      cursor: pointer;\n",
              "      display: none;\n",
              "      fill: #1967D2;\n",
              "      height: 32px;\n",
              "      padding: 0 0 0 0;\n",
              "      width: 32px;\n",
              "    }\n",
              "\n",
              "    .colab-df-convert:hover {\n",
              "      background-color: #E2EBFA;\n",
              "      box-shadow: 0px 1px 2px rgba(60, 64, 67, 0.3), 0px 1px 3px 1px rgba(60, 64, 67, 0.15);\n",
              "      fill: #174EA6;\n",
              "    }\n",
              "\n",
              "    [theme=dark] .colab-df-convert {\n",
              "      background-color: #3B4455;\n",
              "      fill: #D2E3FC;\n",
              "    }\n",
              "\n",
              "    [theme=dark] .colab-df-convert:hover {\n",
              "      background-color: #434B5C;\n",
              "      box-shadow: 0px 1px 3px 1px rgba(0, 0, 0, 0.15);\n",
              "      filter: drop-shadow(0px 1px 2px rgba(0, 0, 0, 0.3));\n",
              "      fill: #FFFFFF;\n",
              "    }\n",
              "  </style>\n",
              "\n",
              "      <script>\n",
              "        const buttonEl =\n",
              "          document.querySelector('#df-590c0379-3583-44f1-8d23-50a45953bdec button.colab-df-convert');\n",
              "        buttonEl.style.display =\n",
              "          google.colab.kernel.accessAllowed ? 'block' : 'none';\n",
              "\n",
              "        async function convertToInteractive(key) {\n",
              "          const element = document.querySelector('#df-590c0379-3583-44f1-8d23-50a45953bdec');\n",
              "          const dataTable =\n",
              "            await google.colab.kernel.invokeFunction('convertToInteractive',\n",
              "                                                     [key], {});\n",
              "          if (!dataTable) return;\n",
              "\n",
              "          const docLinkHtml = 'Like what you see? Visit the ' +\n",
              "            '<a target=\"_blank\" href=https://colab.research.google.com/notebooks/data_table.ipynb>data table notebook</a>'\n",
              "            + ' to learn more about interactive tables.';\n",
              "          element.innerHTML = '';\n",
              "          dataTable['output_type'] = 'display_data';\n",
              "          await google.colab.output.renderOutput(dataTable, element);\n",
              "          const docLink = document.createElement('div');\n",
              "          docLink.innerHTML = docLinkHtml;\n",
              "          element.appendChild(docLink);\n",
              "        }\n",
              "      </script>\n",
              "    </div>\n",
              "  </div>\n",
              "  "
            ]
          },
          "metadata": {},
          "execution_count": 5
        }
      ]
    },
    {
      "cell_type": "code",
      "source": [
        "df_ft.columns"
      ],
      "metadata": {
        "colab": {
          "base_uri": "https://localhost:8080/"
        },
        "id": "xw2IVuTTdWVs",
        "outputId": "483f5ff2-e64e-4c51-8735-b91dca93c1a9"
      },
      "execution_count": null,
      "outputs": [
        {
          "output_type": "execute_result",
          "data": {
            "text/plain": [
              "Index(['NU_INSCRICAO', 'NU_ANO', 'TP_FAIXA_ETARIA', 'TP_SEXO',\n",
              "       'TP_ESTADO_CIVIL', 'TP_COR_RACA', 'TP_ST_CONCLUSAO', 'TP_ANO_CONCLUIU',\n",
              "       'TP_ESCOLA', 'TP_ENSINO', 'CO_MUNICIPIO_ESC', 'NO_MUNICIPIO_ESC',\n",
              "       'SG_UF_ESC', 'TP_LOCALIZACAO_ESC', 'CO_MUNICIPIO_PROVA',\n",
              "       'NO_MUNICIPIO_PROVA', 'SG_UF_PROVA', 'NU_NOTA_CN', 'NU_NOTA_CH',\n",
              "       'NU_NOTA_LC', 'NU_NOTA_MT', 'TP_LINGUA', 'NU_NOTA_REDACAO', 'Q001',\n",
              "       'Q002', 'Q003', 'Q004', 'Q005', 'Q006', 'Q007', 'Q008', 'Q009', 'Q010',\n",
              "       'Q011', 'Q012', 'Q013', 'Q014', 'Q015', 'Q016', 'Q017', 'Q018', 'Q019',\n",
              "       'Q020', 'Q021', 'Q022', 'Q023', 'Q024', 'Q025', 'Sum_Target',\n",
              "       'Sum_Target_2', 'Sum_Target_3'],\n",
              "      dtype='object')"
            ]
          },
          "metadata": {},
          "execution_count": 6
        }
      ]
    },
    {
      "cell_type": "markdown",
      "source": [
        "# **Criação de Variáveis**"
      ],
      "metadata": {
        "id": "_22D8WOQD-UK"
      }
    },
    {
      "cell_type": "markdown",
      "source": [
        "- - Computador/Celular/Internet"
      ],
      "metadata": {
        "id": "hF2OcXNiEnG9"
      }
    },
    {
      "cell_type": "code",
      "source": [
        "df_ft['Ter_Cel'] = np.where(df_ft['Q022'] == 'A', 0, 1)\n",
        "df_ft['Ter_Com'] = np.where(df_ft['Q024'] == 'A', 0, 1)\n",
        "df_ft['Ter_Int'] = np.where(df_ft['Q025'] == 'A', 0, 1)\n",
        "df_ft['Sum_TIC3'] = df_ft['Ter_Cel'] + df_ft['Ter_Com'] + df_ft['Ter_Int']"
      ],
      "metadata": {
        "id": "IMHHFqA3EoYQ"
      },
      "execution_count": null,
      "outputs": []
    },
    {
      "cell_type": "code",
      "source": [
        "df_ft['Ter_Cel'].value_counts().sort_index()"
      ],
      "metadata": {
        "id": "K9CyX7QgE842",
        "colab": {
          "base_uri": "https://localhost:8080/"
        },
        "outputId": "fa4df26b-76db-43cc-8e07-9681596a0e5d"
      },
      "execution_count": null,
      "outputs": [
        {
          "output_type": "execute_result",
          "data": {
            "text/plain": [
              "0      40538\n",
              "1    1880312\n",
              "Name: Ter_Cel, dtype: int64"
            ]
          },
          "metadata": {},
          "execution_count": 8
        }
      ]
    },
    {
      "cell_type": "code",
      "source": [
        "df_ft['Ter_Com'].value_counts().sort_index()"
      ],
      "metadata": {
        "id": "WUGPuZ7BE9AT",
        "colab": {
          "base_uri": "https://localhost:8080/"
        },
        "outputId": "4a885641-b080-4a23-82d7-9814d88101c4"
      },
      "execution_count": null,
      "outputs": [
        {
          "output_type": "execute_result",
          "data": {
            "text/plain": [
              "0     850763\n",
              "1    1070087\n",
              "Name: Ter_Com, dtype: int64"
            ]
          },
          "metadata": {},
          "execution_count": 9
        }
      ]
    },
    {
      "cell_type": "code",
      "source": [
        "df_ft['Ter_Int'].value_counts().sort_index()"
      ],
      "metadata": {
        "id": "VR98ogHfE9G7",
        "colab": {
          "base_uri": "https://localhost:8080/"
        },
        "outputId": "2eb21080-6beb-4ad6-e7bf-1bac5b0a4207"
      },
      "execution_count": null,
      "outputs": [
        {
          "output_type": "execute_result",
          "data": {
            "text/plain": [
              "0     167252\n",
              "1    1753598\n",
              "Name: Ter_Int, dtype: int64"
            ]
          },
          "metadata": {},
          "execution_count": 10
        }
      ]
    },
    {
      "cell_type": "code",
      "source": [
        "df_ft['Sum_TIC3'].value_counts().sort_index()"
      ],
      "metadata": {
        "id": "GU7xoaMBE9N-",
        "colab": {
          "base_uri": "https://localhost:8080/"
        },
        "outputId": "630cc65f-8155-447a-dc49-f5fe1c20d4fc"
      },
      "execution_count": null,
      "outputs": [
        {
          "output_type": "execute_result",
          "data": {
            "text/plain": [
              "0      11806\n",
              "1     157218\n",
              "2     708699\n",
              "3    1043127\n",
              "Name: Sum_TIC3, dtype: int64"
            ]
          },
          "metadata": {},
          "execution_count": 11
        }
      ]
    },
    {
      "cell_type": "code",
      "source": [
        "df_ft.loc[df_ft.Sum_TIC3 == 0 ,'Sum_TIC3_']='1'\n",
        "df_ft.loc[df_ft.Sum_TIC3 == 1 ,'Sum_TIC3_']='1'\n",
        "df_ft.loc[df_ft.Sum_TIC3 == 2 ,'Sum_TIC3_']='2'\n",
        "df_ft.loc[df_ft.Sum_TIC3 == 3 ,'Sum_TIC3_']='3'"
      ],
      "metadata": {
        "id": "6hRztoEiyIRZ"
      },
      "execution_count": null,
      "outputs": []
    },
    {
      "cell_type": "markdown",
      "source": [
        "- Computador/Celular/Internet/TV/Tel Fixo"
      ],
      "metadata": {
        "id": "5bvj-jgxFDYU"
      }
    },
    {
      "cell_type": "code",
      "source": [
        "df_ft['Ter_TVa'] = np.where(df_ft['Q021'] == 'A', 0, 1)\n",
        "df_ft['Ter_TFi'] = np.where(df_ft['Q023'] == 'A', 0, 1)\n",
        "df_ft['Sum_TIC5'] = df_ft['Ter_Cel'] + df_ft['Ter_Com'] + df_ft['Ter_Int'] + df_ft['Ter_TVa'] + df_ft['Ter_TFi']\n"
      ],
      "metadata": {
        "id": "n0-HpcqXFZi1"
      },
      "execution_count": null,
      "outputs": []
    },
    {
      "cell_type": "code",
      "source": [
        "df_ft['Ter_TVa'].value_counts().sort_index()"
      ],
      "metadata": {
        "id": "_DVNmJRrFZq4",
        "colab": {
          "base_uri": "https://localhost:8080/"
        },
        "outputId": "fa614506-4129-4279-e969-0409fe880110"
      },
      "execution_count": null,
      "outputs": [
        {
          "output_type": "execute_result",
          "data": {
            "text/plain": [
              "0    1485334\n",
              "1     435516\n",
              "Name: Ter_TVa, dtype: int64"
            ]
          },
          "metadata": {},
          "execution_count": 14
        }
      ]
    },
    {
      "cell_type": "code",
      "source": [
        "df_ft['Ter_TFi'].value_counts().sort_index()"
      ],
      "metadata": {
        "id": "ASr-QJd-FZx9",
        "colab": {
          "base_uri": "https://localhost:8080/"
        },
        "outputId": "4541ef7a-43ef-42ce-e0a7-3df857e77f50"
      },
      "execution_count": null,
      "outputs": [
        {
          "output_type": "execute_result",
          "data": {
            "text/plain": [
              "0    1671395\n",
              "1     249455\n",
              "Name: Ter_TFi, dtype: int64"
            ]
          },
          "metadata": {},
          "execution_count": 15
        }
      ]
    },
    {
      "cell_type": "code",
      "source": [
        "df_ft['Sum_TIC5'].value_counts().sort_index()"
      ],
      "metadata": {
        "id": "Dx0wHQCYFZ48",
        "colab": {
          "base_uri": "https://localhost:8080/"
        },
        "outputId": "c143021b-d5bb-4e83-95bf-2de7713d1417"
      },
      "execution_count": null,
      "outputs": [
        {
          "output_type": "execute_result",
          "data": {
            "text/plain": [
              "0     11501\n",
              "1    150130\n",
              "2    597637\n",
              "3    708276\n",
              "4    347794\n",
              "5    105512\n",
              "Name: Sum_TIC5, dtype: int64"
            ]
          },
          "metadata": {},
          "execution_count": 16
        }
      ]
    },
    {
      "cell_type": "code",
      "source": [
        "df_ft.loc[df_ft.Sum_TIC5 == 0 ,'Sum_TIC5_']='1'\n",
        "df_ft.loc[df_ft.Sum_TIC5 == 1 ,'Sum_TIC5_']='1'\n",
        "df_ft.loc[df_ft.Sum_TIC5 == 2 ,'Sum_TIC5_']='2'\n",
        "df_ft.loc[df_ft.Sum_TIC5 == 3 ,'Sum_TIC5_']='3'\n",
        "df_ft.loc[df_ft.Sum_TIC5 == 4 ,'Sum_TIC5_']='4'\n",
        "df_ft.loc[df_ft.Sum_TIC5 == 5 ,'Sum_TIC5_']='5'"
      ],
      "metadata": {
        "id": "hRBIqcIFylf_"
      },
      "execution_count": null,
      "outputs": []
    },
    {
      "cell_type": "markdown",
      "source": [
        "- Qtde de Eletrodomésticos"
      ],
      "metadata": {
        "id": "3Rf00n9PFkLz"
      }
    },
    {
      "cell_type": "code",
      "source": [
        "df_ft['Ter_Gel'] = np.where(df_ft['Q012'] == 'A', 0, 1)\n",
        "df_ft['Ter_Fre'] = np.where(df_ft['Q013'] == 'A', 0, 1)\n",
        "df_ft['Ter_LvR'] = np.where(df_ft['Q014'] == 'A', 0, 1)\n",
        "df_ft['Ter_ScR'] = np.where(df_ft['Q015'] == 'A', 0, 1)\n",
        "df_ft['Ter_Mio'] = np.where(df_ft['Q016'] == 'A', 0, 1)\n",
        "df_ft['Ter_LvL'] = np.where(df_ft['Q017'] == 'A', 0, 1)\n",
        "df_ft['Ter_Asp'] = np.where(df_ft['Q018'] == 'A', 0, 1)\n",
        "df_ft['Ter_TV'] = np.where(df_ft['Q019'] == 'A', 0, 1)\n",
        "df_ft['Ter_DVD'] = np.where(df_ft['Q020'] == 'A', 0, 1)\n",
        "df_ft['Sum_Elet'] = df_ft['Ter_Gel'] + df_ft['Ter_Fre'] + df_ft['Ter_LvR'] + df_ft['Ter_ScR'] + df_ft['Ter_Mio'] + df_ft['Ter_LvL'] + df_ft['Ter_Asp'] + df_ft['Ter_TV'] + df_ft['Ter_DVD']"
      ],
      "metadata": {
        "id": "DDQmxi3KFkaf"
      },
      "execution_count": null,
      "outputs": []
    },
    {
      "cell_type": "code",
      "source": [
        "df_ft['Ter_Gel'].value_counts().sort_index()"
      ],
      "metadata": {
        "id": "azQ6qenTFkhG",
        "colab": {
          "base_uri": "https://localhost:8080/"
        },
        "outputId": "9507a76f-d19f-4a0a-f9a6-a909a785e395"
      },
      "execution_count": null,
      "outputs": [
        {
          "output_type": "execute_result",
          "data": {
            "text/plain": [
              "0      24431\n",
              "1    1896419\n",
              "Name: Ter_Gel, dtype: int64"
            ]
          },
          "metadata": {},
          "execution_count": 19
        }
      ]
    },
    {
      "cell_type": "code",
      "source": [
        "df_ft['Ter_Fre'].value_counts().sort_index()"
      ],
      "metadata": {
        "id": "lqBg7QseFkny",
        "colab": {
          "base_uri": "https://localhost:8080/"
        },
        "outputId": "842619e8-2cb7-4442-dc2e-d475bd4cfc41"
      },
      "execution_count": null,
      "outputs": [
        {
          "output_type": "execute_result",
          "data": {
            "text/plain": [
              "0    991293\n",
              "1    929557\n",
              "Name: Ter_Fre, dtype: int64"
            ]
          },
          "metadata": {},
          "execution_count": 20
        }
      ]
    },
    {
      "cell_type": "code",
      "source": [
        "df_ft['Ter_LvR'].value_counts().sort_index()"
      ],
      "metadata": {
        "id": "ls7WBX3tFku5",
        "colab": {
          "base_uri": "https://localhost:8080/"
        },
        "outputId": "1f152961-dad3-4ebc-b183-c2098d8b21f6"
      },
      "execution_count": null,
      "outputs": [
        {
          "output_type": "execute_result",
          "data": {
            "text/plain": [
              "0     674836\n",
              "1    1246014\n",
              "Name: Ter_LvR, dtype: int64"
            ]
          },
          "metadata": {},
          "execution_count": 21
        }
      ]
    },
    {
      "cell_type": "code",
      "source": [
        "df_ft['Ter_ScR'].value_counts().sort_index()"
      ],
      "metadata": {
        "id": "VkV0O2DlGBRO",
        "colab": {
          "base_uri": "https://localhost:8080/"
        },
        "outputId": "6a66924f-6d30-4848-fffd-18a046c3e2a8"
      },
      "execution_count": null,
      "outputs": [
        {
          "output_type": "execute_result",
          "data": {
            "text/plain": [
              "0    1660781\n",
              "1     260069\n",
              "Name: Ter_ScR, dtype: int64"
            ]
          },
          "metadata": {},
          "execution_count": 22
        }
      ]
    },
    {
      "cell_type": "code",
      "source": [
        "df_ft['Ter_Mio'].value_counts().sort_index()"
      ],
      "metadata": {
        "id": "CLczRd4lGBUd",
        "colab": {
          "base_uri": "https://localhost:8080/"
        },
        "outputId": "9c4c02bc-9e9c-4f6c-b880-30480dc3ccb5"
      },
      "execution_count": null,
      "outputs": [
        {
          "output_type": "execute_result",
          "data": {
            "text/plain": [
              "0    929971\n",
              "1    990879\n",
              "Name: Ter_Mio, dtype: int64"
            ]
          },
          "metadata": {},
          "execution_count": 23
        }
      ]
    },
    {
      "cell_type": "code",
      "source": [
        "df_ft['Ter_LvL'].value_counts().sort_index()"
      ],
      "metadata": {
        "id": "Sxj1NSDiGBYE",
        "colab": {
          "base_uri": "https://localhost:8080/"
        },
        "outputId": "74c093e0-eb6a-465f-ebf4-a8d1802890b9"
      },
      "execution_count": null,
      "outputs": [
        {
          "output_type": "execute_result",
          "data": {
            "text/plain": [
              "0    1857937\n",
              "1      62913\n",
              "Name: Ter_LvL, dtype: int64"
            ]
          },
          "metadata": {},
          "execution_count": 24
        }
      ]
    },
    {
      "cell_type": "code",
      "source": [
        "df_ft['Ter_Asp'].value_counts().sort_index()"
      ],
      "metadata": {
        "id": "QGtjNeeSGBba",
        "colab": {
          "base_uri": "https://localhost:8080/"
        },
        "outputId": "40116587-1a3f-45f8-8708-2890dae9c427"
      },
      "execution_count": null,
      "outputs": [
        {
          "output_type": "execute_result",
          "data": {
            "text/plain": [
              "0    1431741\n",
              "1     489109\n",
              "Name: Ter_Asp, dtype: int64"
            ]
          },
          "metadata": {},
          "execution_count": 25
        }
      ]
    },
    {
      "cell_type": "code",
      "source": [
        "df_ft['Ter_TV'].value_counts().sort_index()"
      ],
      "metadata": {
        "id": "g5dORvo7GBeV",
        "colab": {
          "base_uri": "https://localhost:8080/"
        },
        "outputId": "38044e00-903a-41c1-93df-dff38fdc78a1"
      },
      "execution_count": null,
      "outputs": [
        {
          "output_type": "execute_result",
          "data": {
            "text/plain": [
              "0     108563\n",
              "1    1812287\n",
              "Name: Ter_TV, dtype: int64"
            ]
          },
          "metadata": {},
          "execution_count": 26
        }
      ]
    },
    {
      "cell_type": "code",
      "source": [
        "df_ft['Ter_DVD'].value_counts().sort_index()"
      ],
      "metadata": {
        "id": "agxbobGGGBhr",
        "colab": {
          "base_uri": "https://localhost:8080/"
        },
        "outputId": "c39f9e3a-16a8-4301-a7d9-b7487723694e"
      },
      "execution_count": null,
      "outputs": [
        {
          "output_type": "execute_result",
          "data": {
            "text/plain": [
              "0    1590534\n",
              "1     330316\n",
              "Name: Ter_DVD, dtype: int64"
            ]
          },
          "metadata": {},
          "execution_count": 27
        }
      ]
    },
    {
      "cell_type": "code",
      "source": [
        "df_ft['Sum_Elet'].value_counts().sort_index()"
      ],
      "metadata": {
        "id": "OY7_2uZ7GDkv",
        "colab": {
          "base_uri": "https://localhost:8080/"
        },
        "outputId": "23c5f4e6-933a-43aa-bb34-4d2771d08847"
      },
      "execution_count": null,
      "outputs": [
        {
          "output_type": "execute_result",
          "data": {
            "text/plain": [
              "0      8957\n",
              "1     52905\n",
              "2    356863\n",
              "3    342315\n",
              "4    344929\n",
              "5    336735\n",
              "6    265883\n",
              "7    146718\n",
              "8     51633\n",
              "9     13912\n",
              "Name: Sum_Elet, dtype: int64"
            ]
          },
          "metadata": {},
          "execution_count": 28
        }
      ]
    },
    {
      "cell_type": "code",
      "source": [
        "df_ft.loc[df_ft.Sum_Elet == 0 ,'Sum_Elet_']='1'\n",
        "df_ft.loc[df_ft.Sum_Elet == 1 ,'Sum_Elet_']='1'\n",
        "df_ft.loc[df_ft.Sum_Elet == 2 ,'Sum_Elet_']='2'\n",
        "df_ft.loc[df_ft.Sum_Elet == 3 ,'Sum_Elet_']='3'\n",
        "df_ft.loc[df_ft.Sum_Elet == 4 ,'Sum_Elet_']='4'\n",
        "df_ft.loc[df_ft.Sum_Elet == 5 ,'Sum_Elet_']='5'\n",
        "df_ft.loc[df_ft.Sum_Elet == 6 ,'Sum_Elet_']='6'\n",
        "df_ft.loc[df_ft.Sum_Elet == 7 ,'Sum_Elet_']='7'\n",
        "df_ft.loc[df_ft.Sum_Elet == 8 ,'Sum_Elet_']='8'\n",
        "df_ft.loc[df_ft.Sum_Elet == 9 ,'Sum_Elet_']='8'"
      ],
      "metadata": {
        "id": "7CVcoKzJI_So"
      },
      "execution_count": null,
      "outputs": []
    },
    {
      "cell_type": "markdown",
      "source": [
        "- Escolaridade máxima de pelo menos um dos pais"
      ],
      "metadata": {
        "id": "eAKWkMioW51V"
      }
    },
    {
      "cell_type": "code",
      "source": [
        "df_ft['Q001_'] = np.where(df_ft['Q001'] == 'H', ' ', df_ft.Q001)\n",
        "df_ft['Q002_'] = np.where(df_ft['Q002'] == 'H', ' ', df_ft.Q002)\n",
        "\n",
        "conditionlist = [(df_ft['Q001_'] >= df_ft['Q002_']),\n",
        "                 (df_ft['Q001_'] < df_ft['Q002_'])]\n",
        "choicelist = [df_ft.Q001, df_ft.Q002]\n",
        "df_ft['Esc_Max'] = np.select(conditionlist, choicelist, default='Not Specified')\n",
        "display(df_ft.Esc_Max.value_counts().sort_index())"
      ],
      "metadata": {
        "colab": {
          "base_uri": "https://localhost:8080/",
          "height": 173
        },
        "id": "-JzwkkKVW_Rf",
        "outputId": "8da1627a-7b61-419f-af54-81fbb1c4bcb7"
      },
      "execution_count": null,
      "outputs": [
        {
          "output_type": "display_data",
          "data": {
            "text/plain": [
              "A     26426\n",
              "B    172889\n",
              "C    170740\n",
              "D    202674\n",
              "E    727886\n",
              "F    292415\n",
              "G    289083\n",
              "H     38737\n",
              "Name: Esc_Max, dtype: int64"
            ]
          },
          "metadata": {}
        }
      ]
    },
    {
      "cell_type": "code",
      "source": [
        "df_valid = df_ft[['Q001','Q002','Q001_','Q002_','Esc_Max','NU_INSCRICAO']].loc[(df_ft['Q001'] == 'H') | (df_ft['Q002'] == 'H')].head(10)\n",
        "df_valid"
      ],
      "metadata": {
        "colab": {
          "base_uri": "https://localhost:8080/",
          "height": 363
        },
        "id": "6T1k0QhzW6Ng",
        "outputId": "03513e67-0fd8-404f-c660-0e492f870b36"
      },
      "execution_count": null,
      "outputs": [
        {
          "output_type": "execute_result",
          "data": {
            "text/plain": [
              "    Q001 Q002 Q001_ Q002_ Esc_Max  NU_INSCRICAO\n",
              "10     H    H                   H  210057510589\n",
              "56     H    C           C       C  210057428878\n",
              "76     C    H     C             C  210057584667\n",
              "95     H    E           E       E  210054582594\n",
              "104    H    H                   H  210057511905\n",
              "113    H    D           D       D  210055520125\n",
              "121    H    B           B       B  210055864562\n",
              "122    H    H                   H  210055512864\n",
              "126    C    H     C             C  210055813238\n",
              "127    H    H                   H  210055554922"
            ],
            "text/html": [
              "\n",
              "  <div id=\"df-b27dfc75-53a1-48df-8452-1b7d39504e90\">\n",
              "    <div class=\"colab-df-container\">\n",
              "      <div>\n",
              "<style scoped>\n",
              "    .dataframe tbody tr th:only-of-type {\n",
              "        vertical-align: middle;\n",
              "    }\n",
              "\n",
              "    .dataframe tbody tr th {\n",
              "        vertical-align: top;\n",
              "    }\n",
              "\n",
              "    .dataframe thead th {\n",
              "        text-align: right;\n",
              "    }\n",
              "</style>\n",
              "<table border=\"1\" class=\"dataframe\">\n",
              "  <thead>\n",
              "    <tr style=\"text-align: right;\">\n",
              "      <th></th>\n",
              "      <th>Q001</th>\n",
              "      <th>Q002</th>\n",
              "      <th>Q001_</th>\n",
              "      <th>Q002_</th>\n",
              "      <th>Esc_Max</th>\n",
              "      <th>NU_INSCRICAO</th>\n",
              "    </tr>\n",
              "  </thead>\n",
              "  <tbody>\n",
              "    <tr>\n",
              "      <th>10</th>\n",
              "      <td>H</td>\n",
              "      <td>H</td>\n",
              "      <td></td>\n",
              "      <td></td>\n",
              "      <td>H</td>\n",
              "      <td>210057510589</td>\n",
              "    </tr>\n",
              "    <tr>\n",
              "      <th>56</th>\n",
              "      <td>H</td>\n",
              "      <td>C</td>\n",
              "      <td></td>\n",
              "      <td>C</td>\n",
              "      <td>C</td>\n",
              "      <td>210057428878</td>\n",
              "    </tr>\n",
              "    <tr>\n",
              "      <th>76</th>\n",
              "      <td>C</td>\n",
              "      <td>H</td>\n",
              "      <td>C</td>\n",
              "      <td></td>\n",
              "      <td>C</td>\n",
              "      <td>210057584667</td>\n",
              "    </tr>\n",
              "    <tr>\n",
              "      <th>95</th>\n",
              "      <td>H</td>\n",
              "      <td>E</td>\n",
              "      <td></td>\n",
              "      <td>E</td>\n",
              "      <td>E</td>\n",
              "      <td>210054582594</td>\n",
              "    </tr>\n",
              "    <tr>\n",
              "      <th>104</th>\n",
              "      <td>H</td>\n",
              "      <td>H</td>\n",
              "      <td></td>\n",
              "      <td></td>\n",
              "      <td>H</td>\n",
              "      <td>210057511905</td>\n",
              "    </tr>\n",
              "    <tr>\n",
              "      <th>113</th>\n",
              "      <td>H</td>\n",
              "      <td>D</td>\n",
              "      <td></td>\n",
              "      <td>D</td>\n",
              "      <td>D</td>\n",
              "      <td>210055520125</td>\n",
              "    </tr>\n",
              "    <tr>\n",
              "      <th>121</th>\n",
              "      <td>H</td>\n",
              "      <td>B</td>\n",
              "      <td></td>\n",
              "      <td>B</td>\n",
              "      <td>B</td>\n",
              "      <td>210055864562</td>\n",
              "    </tr>\n",
              "    <tr>\n",
              "      <th>122</th>\n",
              "      <td>H</td>\n",
              "      <td>H</td>\n",
              "      <td></td>\n",
              "      <td></td>\n",
              "      <td>H</td>\n",
              "      <td>210055512864</td>\n",
              "    </tr>\n",
              "    <tr>\n",
              "      <th>126</th>\n",
              "      <td>C</td>\n",
              "      <td>H</td>\n",
              "      <td>C</td>\n",
              "      <td></td>\n",
              "      <td>C</td>\n",
              "      <td>210055813238</td>\n",
              "    </tr>\n",
              "    <tr>\n",
              "      <th>127</th>\n",
              "      <td>H</td>\n",
              "      <td>H</td>\n",
              "      <td></td>\n",
              "      <td></td>\n",
              "      <td>H</td>\n",
              "      <td>210055554922</td>\n",
              "    </tr>\n",
              "  </tbody>\n",
              "</table>\n",
              "</div>\n",
              "      <button class=\"colab-df-convert\" onclick=\"convertToInteractive('df-b27dfc75-53a1-48df-8452-1b7d39504e90')\"\n",
              "              title=\"Convert this dataframe to an interactive table.\"\n",
              "              style=\"display:none;\">\n",
              "        \n",
              "  <svg xmlns=\"http://www.w3.org/2000/svg\" height=\"24px\"viewBox=\"0 0 24 24\"\n",
              "       width=\"24px\">\n",
              "    <path d=\"M0 0h24v24H0V0z\" fill=\"none\"/>\n",
              "    <path d=\"M18.56 5.44l.94 2.06.94-2.06 2.06-.94-2.06-.94-.94-2.06-.94 2.06-2.06.94zm-11 1L8.5 8.5l.94-2.06 2.06-.94-2.06-.94L8.5 2.5l-.94 2.06-2.06.94zm10 10l.94 2.06.94-2.06 2.06-.94-2.06-.94-.94-2.06-.94 2.06-2.06.94z\"/><path d=\"M17.41 7.96l-1.37-1.37c-.4-.4-.92-.59-1.43-.59-.52 0-1.04.2-1.43.59L10.3 9.45l-7.72 7.72c-.78.78-.78 2.05 0 2.83L4 21.41c.39.39.9.59 1.41.59.51 0 1.02-.2 1.41-.59l7.78-7.78 2.81-2.81c.8-.78.8-2.07 0-2.86zM5.41 20L4 18.59l7.72-7.72 1.47 1.35L5.41 20z\"/>\n",
              "  </svg>\n",
              "      </button>\n",
              "      \n",
              "  <style>\n",
              "    .colab-df-container {\n",
              "      display:flex;\n",
              "      flex-wrap:wrap;\n",
              "      gap: 12px;\n",
              "    }\n",
              "\n",
              "    .colab-df-convert {\n",
              "      background-color: #E8F0FE;\n",
              "      border: none;\n",
              "      border-radius: 50%;\n",
              "      cursor: pointer;\n",
              "      display: none;\n",
              "      fill: #1967D2;\n",
              "      height: 32px;\n",
              "      padding: 0 0 0 0;\n",
              "      width: 32px;\n",
              "    }\n",
              "\n",
              "    .colab-df-convert:hover {\n",
              "      background-color: #E2EBFA;\n",
              "      box-shadow: 0px 1px 2px rgba(60, 64, 67, 0.3), 0px 1px 3px 1px rgba(60, 64, 67, 0.15);\n",
              "      fill: #174EA6;\n",
              "    }\n",
              "\n",
              "    [theme=dark] .colab-df-convert {\n",
              "      background-color: #3B4455;\n",
              "      fill: #D2E3FC;\n",
              "    }\n",
              "\n",
              "    [theme=dark] .colab-df-convert:hover {\n",
              "      background-color: #434B5C;\n",
              "      box-shadow: 0px 1px 3px 1px rgba(0, 0, 0, 0.15);\n",
              "      filter: drop-shadow(0px 1px 2px rgba(0, 0, 0, 0.3));\n",
              "      fill: #FFFFFF;\n",
              "    }\n",
              "  </style>\n",
              "\n",
              "      <script>\n",
              "        const buttonEl =\n",
              "          document.querySelector('#df-b27dfc75-53a1-48df-8452-1b7d39504e90 button.colab-df-convert');\n",
              "        buttonEl.style.display =\n",
              "          google.colab.kernel.accessAllowed ? 'block' : 'none';\n",
              "\n",
              "        async function convertToInteractive(key) {\n",
              "          const element = document.querySelector('#df-b27dfc75-53a1-48df-8452-1b7d39504e90');\n",
              "          const dataTable =\n",
              "            await google.colab.kernel.invokeFunction('convertToInteractive',\n",
              "                                                     [key], {});\n",
              "          if (!dataTable) return;\n",
              "\n",
              "          const docLinkHtml = 'Like what you see? Visit the ' +\n",
              "            '<a target=\"_blank\" href=https://colab.research.google.com/notebooks/data_table.ipynb>data table notebook</a>'\n",
              "            + ' to learn more about interactive tables.';\n",
              "          element.innerHTML = '';\n",
              "          dataTable['output_type'] = 'display_data';\n",
              "          await google.colab.output.renderOutput(dataTable, element);\n",
              "          const docLink = document.createElement('div');\n",
              "          docLink.innerHTML = docLinkHtml;\n",
              "          element.appendChild(docLink);\n",
              "        }\n",
              "      </script>\n",
              "    </div>\n",
              "  </div>\n",
              "  "
            ]
          },
          "metadata": {},
          "execution_count": 31
        }
      ]
    },
    {
      "cell_type": "markdown",
      "source": [
        "- Carro e Moto"
      ],
      "metadata": {
        "id": "8yRVXiwLXD5B"
      }
    },
    {
      "cell_type": "code",
      "source": [
        "df_ft['Q010_'] = np.where((df_ft['Q010'] == 'D') | (df_ft['Q010'] == 'E'), 'C', df_ft.Q010)\n",
        "df_ft['Q011_'] = np.where((df_ft['Q011'] == 'D') | (df_ft['Q011'] == 'E'), 'C', df_ft.Q011)\n",
        "\n",
        "conditionlist = [(df_ft['Q010_'] == 'A') & (df_ft['Q011_'] == 'A'), # 0 carro e 0 moto\n",
        "                 (df_ft['Q010_'] == 'A') & (df_ft['Q011_'] == 'B'), # 0 carro e 1 moto\n",
        "                 (df_ft['Q010_'] == 'A') & (df_ft['Q011_'] == 'C'), # 0 carro e >1 moto\n",
        "                 (df_ft['Q010_'] == 'B') & (df_ft['Q011_'] == 'A'), # 1 carro e 0 moto\n",
        "                 (df_ft['Q010_'] == 'B') & (df_ft['Q011_'] == 'B'), # 1 carro e 1 moto\n",
        "                 (df_ft['Q010_'] == 'B') & (df_ft['Q011_'] == 'C'), # 1 carro e >1 moto\n",
        "                 (df_ft['Q010_'] == 'C') & (df_ft['Q011_'] == 'A'), # >1 carro e 0 moto\n",
        "                 (df_ft['Q010_'] == 'C') & (df_ft['Q011_'] == 'B'), # >1 carro e 1 moto\n",
        "                 (df_ft['Q010_'] == 'C') & (df_ft['Q011_'] == 'C')] # >1 carro e >1 moto\n",
        "choicelist = [1,2,3,4,5,6,7,8,9]\n",
        "df_ft['Car_Mot'] = np.select(conditionlist, choicelist, default='Not Specified')\n",
        "df_ft.Car_Mot.value_counts().sort_index()"
      ],
      "metadata": {
        "colab": {
          "base_uri": "https://localhost:8080/"
        },
        "id": "8kFUgpbwXGT-",
        "outputId": "41e0e098-6d14-43a5-c15e-8c4bdb28cd00"
      },
      "execution_count": null,
      "outputs": [
        {
          "output_type": "execute_result",
          "data": {
            "text/plain": [
              "1    738992\n",
              "2    205807\n",
              "3     19703\n",
              "4    552546\n",
              "5    179587\n",
              "6     24703\n",
              "7    154646\n",
              "8     35866\n",
              "9      9000\n",
              "Name: Car_Mot, dtype: int64"
            ]
          },
          "metadata": {},
          "execution_count": 32
        }
      ]
    },
    {
      "cell_type": "code",
      "source": [
        "df_ft.loc[df_ft.Car_Mot == '1','Car_Mot_']='1'\n",
        "df_ft.loc[df_ft.Car_Mot == '2','Car_Mot_']='2'\n",
        "df_ft.loc[df_ft.Car_Mot == '3','Car_Mot_']='2'\n",
        "df_ft.loc[df_ft.Car_Mot == '4','Car_Mot_']='3'\n",
        "df_ft.loc[df_ft.Car_Mot == '5','Car_Mot_']='4'\n",
        "df_ft.loc[df_ft.Car_Mot == '6','Car_Mot_']='4'\n",
        "df_ft.loc[df_ft.Car_Mot == '7','Car_Mot_']='5'\n",
        "df_ft.loc[df_ft.Car_Mot == '8','Car_Mot_']='6'\n",
        "df_ft.loc[df_ft.Car_Mot == '9','Car_Mot_']='6'\n",
        "df_ft.Car_Mot_.value_counts().sort_index()"
      ],
      "metadata": {
        "id": "DZcwg5lsKNG9",
        "colab": {
          "base_uri": "https://localhost:8080/"
        },
        "outputId": "f747ba11-6a9f-4d84-b527-ffd144233e03"
      },
      "execution_count": null,
      "outputs": [
        {
          "output_type": "execute_result",
          "data": {
            "text/plain": [
              "1    738992\n",
              "2    225510\n",
              "3    552546\n",
              "4    204290\n",
              "5    154646\n",
              "6     44866\n",
              "Name: Car_Mot_, dtype: int64"
            ]
          },
          "metadata": {},
          "execution_count": 33
        }
      ]
    },
    {
      "cell_type": "code",
      "source": [
        "df_valid = df_ft[['Q010','Q011','Q010_','Q011_','Car_Mot','Car_Mot_','NU_INSCRICAO']].loc[(df_ft['Q010'] == 'E')].head(10)\n",
        "df_valid"
      ],
      "metadata": {
        "colab": {
          "base_uri": "https://localhost:8080/",
          "height": 363
        },
        "id": "NCyd3VjS1wSt",
        "outputId": "d7297bfa-4d3c-4c26-9834-cbdcfd15ac04"
      },
      "execution_count": null,
      "outputs": [
        {
          "output_type": "execute_result",
          "data": {
            "text/plain": [
              "      Q010 Q011 Q010_ Q011_ Car_Mot Car_Mot_  NU_INSCRICAO\n",
              "2694     E    A     C     A       7        5  210054481624\n",
              "3426     E    E     C     C       9        6  210055674437\n",
              "3702     E    A     C     A       7        5  210057209686\n",
              "5380     E    B     C     B       8        6  210054857104\n",
              "6137     E    B     C     B       8        6  210055561468\n",
              "6874     E    A     C     A       7        5  210057873187\n",
              "6901     E    B     C     B       8        6  210057016386\n",
              "8789     E    A     C     A       7        5  210056077387\n",
              "10079    E    A     C     A       7        5  210055897979\n",
              "10404    E    A     C     A       7        5  210054669675"
            ],
            "text/html": [
              "\n",
              "  <div id=\"df-c5dfceb0-addb-41dc-a184-ff6ea98fab9d\">\n",
              "    <div class=\"colab-df-container\">\n",
              "      <div>\n",
              "<style scoped>\n",
              "    .dataframe tbody tr th:only-of-type {\n",
              "        vertical-align: middle;\n",
              "    }\n",
              "\n",
              "    .dataframe tbody tr th {\n",
              "        vertical-align: top;\n",
              "    }\n",
              "\n",
              "    .dataframe thead th {\n",
              "        text-align: right;\n",
              "    }\n",
              "</style>\n",
              "<table border=\"1\" class=\"dataframe\">\n",
              "  <thead>\n",
              "    <tr style=\"text-align: right;\">\n",
              "      <th></th>\n",
              "      <th>Q010</th>\n",
              "      <th>Q011</th>\n",
              "      <th>Q010_</th>\n",
              "      <th>Q011_</th>\n",
              "      <th>Car_Mot</th>\n",
              "      <th>Car_Mot_</th>\n",
              "      <th>NU_INSCRICAO</th>\n",
              "    </tr>\n",
              "  </thead>\n",
              "  <tbody>\n",
              "    <tr>\n",
              "      <th>2694</th>\n",
              "      <td>E</td>\n",
              "      <td>A</td>\n",
              "      <td>C</td>\n",
              "      <td>A</td>\n",
              "      <td>7</td>\n",
              "      <td>5</td>\n",
              "      <td>210054481624</td>\n",
              "    </tr>\n",
              "    <tr>\n",
              "      <th>3426</th>\n",
              "      <td>E</td>\n",
              "      <td>E</td>\n",
              "      <td>C</td>\n",
              "      <td>C</td>\n",
              "      <td>9</td>\n",
              "      <td>6</td>\n",
              "      <td>210055674437</td>\n",
              "    </tr>\n",
              "    <tr>\n",
              "      <th>3702</th>\n",
              "      <td>E</td>\n",
              "      <td>A</td>\n",
              "      <td>C</td>\n",
              "      <td>A</td>\n",
              "      <td>7</td>\n",
              "      <td>5</td>\n",
              "      <td>210057209686</td>\n",
              "    </tr>\n",
              "    <tr>\n",
              "      <th>5380</th>\n",
              "      <td>E</td>\n",
              "      <td>B</td>\n",
              "      <td>C</td>\n",
              "      <td>B</td>\n",
              "      <td>8</td>\n",
              "      <td>6</td>\n",
              "      <td>210054857104</td>\n",
              "    </tr>\n",
              "    <tr>\n",
              "      <th>6137</th>\n",
              "      <td>E</td>\n",
              "      <td>B</td>\n",
              "      <td>C</td>\n",
              "      <td>B</td>\n",
              "      <td>8</td>\n",
              "      <td>6</td>\n",
              "      <td>210055561468</td>\n",
              "    </tr>\n",
              "    <tr>\n",
              "      <th>6874</th>\n",
              "      <td>E</td>\n",
              "      <td>A</td>\n",
              "      <td>C</td>\n",
              "      <td>A</td>\n",
              "      <td>7</td>\n",
              "      <td>5</td>\n",
              "      <td>210057873187</td>\n",
              "    </tr>\n",
              "    <tr>\n",
              "      <th>6901</th>\n",
              "      <td>E</td>\n",
              "      <td>B</td>\n",
              "      <td>C</td>\n",
              "      <td>B</td>\n",
              "      <td>8</td>\n",
              "      <td>6</td>\n",
              "      <td>210057016386</td>\n",
              "    </tr>\n",
              "    <tr>\n",
              "      <th>8789</th>\n",
              "      <td>E</td>\n",
              "      <td>A</td>\n",
              "      <td>C</td>\n",
              "      <td>A</td>\n",
              "      <td>7</td>\n",
              "      <td>5</td>\n",
              "      <td>210056077387</td>\n",
              "    </tr>\n",
              "    <tr>\n",
              "      <th>10079</th>\n",
              "      <td>E</td>\n",
              "      <td>A</td>\n",
              "      <td>C</td>\n",
              "      <td>A</td>\n",
              "      <td>7</td>\n",
              "      <td>5</td>\n",
              "      <td>210055897979</td>\n",
              "    </tr>\n",
              "    <tr>\n",
              "      <th>10404</th>\n",
              "      <td>E</td>\n",
              "      <td>A</td>\n",
              "      <td>C</td>\n",
              "      <td>A</td>\n",
              "      <td>7</td>\n",
              "      <td>5</td>\n",
              "      <td>210054669675</td>\n",
              "    </tr>\n",
              "  </tbody>\n",
              "</table>\n",
              "</div>\n",
              "      <button class=\"colab-df-convert\" onclick=\"convertToInteractive('df-c5dfceb0-addb-41dc-a184-ff6ea98fab9d')\"\n",
              "              title=\"Convert this dataframe to an interactive table.\"\n",
              "              style=\"display:none;\">\n",
              "        \n",
              "  <svg xmlns=\"http://www.w3.org/2000/svg\" height=\"24px\"viewBox=\"0 0 24 24\"\n",
              "       width=\"24px\">\n",
              "    <path d=\"M0 0h24v24H0V0z\" fill=\"none\"/>\n",
              "    <path d=\"M18.56 5.44l.94 2.06.94-2.06 2.06-.94-2.06-.94-.94-2.06-.94 2.06-2.06.94zm-11 1L8.5 8.5l.94-2.06 2.06-.94-2.06-.94L8.5 2.5l-.94 2.06-2.06.94zm10 10l.94 2.06.94-2.06 2.06-.94-2.06-.94-.94-2.06-.94 2.06-2.06.94z\"/><path d=\"M17.41 7.96l-1.37-1.37c-.4-.4-.92-.59-1.43-.59-.52 0-1.04.2-1.43.59L10.3 9.45l-7.72 7.72c-.78.78-.78 2.05 0 2.83L4 21.41c.39.39.9.59 1.41.59.51 0 1.02-.2 1.41-.59l7.78-7.78 2.81-2.81c.8-.78.8-2.07 0-2.86zM5.41 20L4 18.59l7.72-7.72 1.47 1.35L5.41 20z\"/>\n",
              "  </svg>\n",
              "      </button>\n",
              "      \n",
              "  <style>\n",
              "    .colab-df-container {\n",
              "      display:flex;\n",
              "      flex-wrap:wrap;\n",
              "      gap: 12px;\n",
              "    }\n",
              "\n",
              "    .colab-df-convert {\n",
              "      background-color: #E8F0FE;\n",
              "      border: none;\n",
              "      border-radius: 50%;\n",
              "      cursor: pointer;\n",
              "      display: none;\n",
              "      fill: #1967D2;\n",
              "      height: 32px;\n",
              "      padding: 0 0 0 0;\n",
              "      width: 32px;\n",
              "    }\n",
              "\n",
              "    .colab-df-convert:hover {\n",
              "      background-color: #E2EBFA;\n",
              "      box-shadow: 0px 1px 2px rgba(60, 64, 67, 0.3), 0px 1px 3px 1px rgba(60, 64, 67, 0.15);\n",
              "      fill: #174EA6;\n",
              "    }\n",
              "\n",
              "    [theme=dark] .colab-df-convert {\n",
              "      background-color: #3B4455;\n",
              "      fill: #D2E3FC;\n",
              "    }\n",
              "\n",
              "    [theme=dark] .colab-df-convert:hover {\n",
              "      background-color: #434B5C;\n",
              "      box-shadow: 0px 1px 3px 1px rgba(0, 0, 0, 0.15);\n",
              "      filter: drop-shadow(0px 1px 2px rgba(0, 0, 0, 0.3));\n",
              "      fill: #FFFFFF;\n",
              "    }\n",
              "  </style>\n",
              "\n",
              "      <script>\n",
              "        const buttonEl =\n",
              "          document.querySelector('#df-c5dfceb0-addb-41dc-a184-ff6ea98fab9d button.colab-df-convert');\n",
              "        buttonEl.style.display =\n",
              "          google.colab.kernel.accessAllowed ? 'block' : 'none';\n",
              "\n",
              "        async function convertToInteractive(key) {\n",
              "          const element = document.querySelector('#df-c5dfceb0-addb-41dc-a184-ff6ea98fab9d');\n",
              "          const dataTable =\n",
              "            await google.colab.kernel.invokeFunction('convertToInteractive',\n",
              "                                                     [key], {});\n",
              "          if (!dataTable) return;\n",
              "\n",
              "          const docLinkHtml = 'Like what you see? Visit the ' +\n",
              "            '<a target=\"_blank\" href=https://colab.research.google.com/notebooks/data_table.ipynb>data table notebook</a>'\n",
              "            + ' to learn more about interactive tables.';\n",
              "          element.innerHTML = '';\n",
              "          dataTable['output_type'] = 'display_data';\n",
              "          await google.colab.output.renderOutput(dataTable, element);\n",
              "          const docLink = document.createElement('div');\n",
              "          docLink.innerHTML = docLinkHtml;\n",
              "          element.appendChild(docLink);\n",
              "        }\n",
              "      </script>\n",
              "    </div>\n",
              "  </div>\n",
              "  "
            ]
          },
          "metadata": {},
          "execution_count": 34
        }
      ]
    },
    {
      "cell_type": "markdown",
      "source": [
        "- Porte da Casa"
      ],
      "metadata": {
        "id": "yqeMz0gyXGyy"
      }
    },
    {
      "cell_type": "code",
      "source": [
        "# Q007\n",
        "df_ft['Q007_'] = df_ft['Q007']\n",
        "conditionlist = [(df_ft['Q007_'] == 'A'),\n",
        "                 (df_ft['Q007_'] == 'B'),\n",
        "                 (df_ft['Q007_'] == 'C'),\n",
        "                 (df_ft['Q007_'] == 'D')]\n",
        "choicelist = [0,1,2,2]\n",
        "df_ft['Q007_f2'] = np.select(conditionlist, choicelist, default='Not Specified')\n",
        "df_ft['Q007_f'] = pd.to_numeric(np.select(conditionlist, choicelist, default='Not Specified'), errors = 'coerce')\n",
        "\n",
        "\n",
        "# Q008\n",
        "df_ft['Q008_'] = df_ft['Q008']\n",
        "conditionlist = [(df_ft['Q008_'] == 'A'),\n",
        "                 (df_ft['Q008_'] == 'B'),\n",
        "                 (df_ft['Q008_'] == 'C'),\n",
        "                 (df_ft['Q008_'] == 'D'),\n",
        "                 (df_ft['Q008_'] == 'E')]\n",
        "choicelist = [0,1,2,3,3]\n",
        "df_ft['Q008_f2'] = np.select(conditionlist, choicelist, default='Not Specified')\n",
        "df_ft['Q008_f'] = pd.to_numeric(np.select(conditionlist, choicelist, default='Not Specified'), errors = 'coerce')\n",
        "\n",
        "\n",
        "# Q009\n",
        "df_ft['Q009_'] = df_ft['Q009']\n",
        "conditionlist = [(df_ft['Q009_'] == 'A'),\n",
        "                 (df_ft['Q009_'] == 'B'),\n",
        "                 (df_ft['Q009_'] == 'C'),\n",
        "                 (df_ft['Q009_'] == 'D'),\n",
        "                 (df_ft['Q009_'] == 'E')]\n",
        "choicelist = [0,1,2,3,3]\n",
        "df_ft['Q009_f2'] = np.select(conditionlist, choicelist, default='Not Specified')\n",
        "df_ft['Q009_f'] = pd.to_numeric(np.select(conditionlist, choicelist, default='Not Specified'), errors = 'coerce')\n",
        "\n",
        "\n",
        "# Soma\n",
        "df_ft['Tot_PtCasa_2'] = df_ft['Q007_f2'] + df_ft['Q008_f2'] + df_ft['Q009_f2']\n",
        "df_ft['Tot_PtCasa'] = df_ft['Q007_f'] + df_ft['Q008_f'] + df_ft['Q009_f']\n"
      ],
      "metadata": {
        "id": "cwhf75IGeLy6"
      },
      "execution_count": null,
      "outputs": []
    },
    {
      "cell_type": "code",
      "source": [
        "df_ft.Q007_f.value_counts().sort_index()"
      ],
      "metadata": {
        "colab": {
          "base_uri": "https://localhost:8080/"
        },
        "id": "nV3Q91PYf4ve",
        "outputId": "f6e474fa-dca8-4873-8094-1a879ea95f09"
      },
      "execution_count": null,
      "outputs": [
        {
          "output_type": "execute_result",
          "data": {
            "text/plain": [
              "0    1765876\n",
              "1      87123\n",
              "2      67851\n",
              "Name: Q007_f, dtype: int64"
            ]
          },
          "metadata": {},
          "execution_count": 36
        }
      ]
    },
    {
      "cell_type": "code",
      "source": [
        "df_ft.Q008_f.value_counts().sort_index()"
      ],
      "metadata": {
        "colab": {
          "base_uri": "https://localhost:8080/"
        },
        "id": "nBeuRXPxgxmT",
        "outputId": "3619e35d-8f01-452c-f6dd-eaacd7609f89"
      },
      "execution_count": null,
      "outputs": [
        {
          "output_type": "execute_result",
          "data": {
            "text/plain": [
              "0      11969\n",
              "1    1223933\n",
              "2     474696\n",
              "3     210252\n",
              "Name: Q008_f, dtype: int64"
            ]
          },
          "metadata": {},
          "execution_count": 37
        }
      ]
    },
    {
      "cell_type": "code",
      "source": [
        "df_ft.Q009_f.value_counts().sort_index()"
      ],
      "metadata": {
        "colab": {
          "base_uri": "https://localhost:8080/"
        },
        "id": "ZH0AShktgxv0",
        "outputId": "5ddaaf8d-fafd-486c-b8ef-e1e4ee656fc0"
      },
      "execution_count": null,
      "outputs": [
        {
          "output_type": "execute_result",
          "data": {
            "text/plain": [
              "0     12125\n",
              "1    206383\n",
              "2    955035\n",
              "3    747307\n",
              "Name: Q009_f, dtype: int64"
            ]
          },
          "metadata": {},
          "execution_count": 38
        }
      ]
    },
    {
      "cell_type": "code",
      "source": [
        "df_ft.Tot_PtCasa_2.value_counts().sort_index()"
      ],
      "metadata": {
        "colab": {
          "base_uri": "https://localhost:8080/"
        },
        "id": "lEM_5MezlwTy",
        "outputId": "44d2a8e1-d46c-41b9-c681-30bf2e5fe1e2"
      },
      "execution_count": null,
      "outputs": [
        {
          "output_type": "execute_result",
          "data": {
            "text/plain": [
              "000      2325\n",
              "001      4075\n",
              "002      3932\n",
              "003      1255\n",
              "010      9228\n",
              "011    191881\n",
              "012    735628\n",
              "013    253884\n",
              "020       118\n",
              "021      3653\n",
              "022    165888\n",
              "023    265730\n",
              "030        11\n",
              "031       150\n",
              "032     14531\n",
              "033    113587\n",
              "100        46\n",
              "101       129\n",
              "102        57\n",
              "103        24\n",
              "110       232\n",
              "111      3967\n",
              "112     10957\n",
              "113      3927\n",
              "120         6\n",
              "121       122\n",
              "122      7715\n",
              "123     18389\n",
              "130         4\n",
              "131        10\n",
              "132      3077\n",
              "133     38461\n",
              "200        16\n",
              "201        47\n",
              "202        52\n",
              "203        11\n",
              "210       127\n",
              "211      2254\n",
              "212      8449\n",
              "213      3399\n",
              "220         9\n",
              "221        73\n",
              "222      3279\n",
              "223      9714\n",
              "230         3\n",
              "231        22\n",
              "232      1470\n",
              "233     38926\n",
              "Name: Tot_PtCasa_2, dtype: int64"
            ]
          },
          "metadata": {},
          "execution_count": 39
        }
      ]
    },
    {
      "cell_type": "code",
      "source": [
        "df_ft.Tot_PtCasa.value_counts().sort_index()"
      ],
      "metadata": {
        "colab": {
          "base_uri": "https://localhost:8080/"
        },
        "id": "6qzNZf19hAc1",
        "outputId": "b60a608c-a080-4015-941c-4ce51a6f97b1"
      },
      "execution_count": null,
      "outputs": [
        {
          "output_type": "execute_result",
          "data": {
            "text/plain": [
              "0      2325\n",
              "1     13349\n",
              "2    196308\n",
              "3    744751\n",
              "4    433344\n",
              "5    300449\n",
              "6    141753\n",
              "7     49645\n",
              "8     38926\n",
              "Name: Tot_PtCasa, dtype: int64"
            ]
          },
          "metadata": {},
          "execution_count": 40
        }
      ]
    },
    {
      "cell_type": "code",
      "source": [
        "df_valid = df_ft[['Q007','Q008','Q009','Q007_f','Q008_f','Q009_f','Tot_PtCasa','NU_INSCRICAO']].loc[(df_ft['Q007_f'] == 2) & (df_ft['Q009_f'] < 1)].head(10)\n",
        "df_valid"
      ],
      "metadata": {
        "id": "Jkb0V4RvjtaF",
        "colab": {
          "base_uri": "https://localhost:8080/",
          "height": 363
        },
        "outputId": "5f1ad201-9b49-44f5-e52d-3cb589d74a37"
      },
      "execution_count": null,
      "outputs": [
        {
          "output_type": "execute_result",
          "data": {
            "text/plain": [
              "      Q007 Q008 Q009  Q007_f  Q008_f  Q009_f  Tot_PtCasa  NU_INSCRICAO\n",
              "3753     D    B    A       2       1       0           3  210055701460\n",
              "7908     D    B    A       2       1       0           3  210056823132\n",
              "8414     D    B    A       2       1       0           3  210055195511\n",
              "11039    D    B    A       2       1       0           3  210054753395\n",
              "12051    D    B    A       2       1       0           3  210057969784\n",
              "20863    C    B    A       2       1       0           3  210056189833\n",
              "43954    C    B    A       2       1       0           3  210054803265\n",
              "45692    C    B    A       2       1       0           3  210056294776\n",
              "66610    C    A    A       2       0       0           2  210057502575\n",
              "72629    D    B    A       2       1       0           3  210056245169"
            ],
            "text/html": [
              "\n",
              "  <div id=\"df-a50b3248-15ba-4b5b-a16e-5f41ecf920f6\">\n",
              "    <div class=\"colab-df-container\">\n",
              "      <div>\n",
              "<style scoped>\n",
              "    .dataframe tbody tr th:only-of-type {\n",
              "        vertical-align: middle;\n",
              "    }\n",
              "\n",
              "    .dataframe tbody tr th {\n",
              "        vertical-align: top;\n",
              "    }\n",
              "\n",
              "    .dataframe thead th {\n",
              "        text-align: right;\n",
              "    }\n",
              "</style>\n",
              "<table border=\"1\" class=\"dataframe\">\n",
              "  <thead>\n",
              "    <tr style=\"text-align: right;\">\n",
              "      <th></th>\n",
              "      <th>Q007</th>\n",
              "      <th>Q008</th>\n",
              "      <th>Q009</th>\n",
              "      <th>Q007_f</th>\n",
              "      <th>Q008_f</th>\n",
              "      <th>Q009_f</th>\n",
              "      <th>Tot_PtCasa</th>\n",
              "      <th>NU_INSCRICAO</th>\n",
              "    </tr>\n",
              "  </thead>\n",
              "  <tbody>\n",
              "    <tr>\n",
              "      <th>3753</th>\n",
              "      <td>D</td>\n",
              "      <td>B</td>\n",
              "      <td>A</td>\n",
              "      <td>2</td>\n",
              "      <td>1</td>\n",
              "      <td>0</td>\n",
              "      <td>3</td>\n",
              "      <td>210055701460</td>\n",
              "    </tr>\n",
              "    <tr>\n",
              "      <th>7908</th>\n",
              "      <td>D</td>\n",
              "      <td>B</td>\n",
              "      <td>A</td>\n",
              "      <td>2</td>\n",
              "      <td>1</td>\n",
              "      <td>0</td>\n",
              "      <td>3</td>\n",
              "      <td>210056823132</td>\n",
              "    </tr>\n",
              "    <tr>\n",
              "      <th>8414</th>\n",
              "      <td>D</td>\n",
              "      <td>B</td>\n",
              "      <td>A</td>\n",
              "      <td>2</td>\n",
              "      <td>1</td>\n",
              "      <td>0</td>\n",
              "      <td>3</td>\n",
              "      <td>210055195511</td>\n",
              "    </tr>\n",
              "    <tr>\n",
              "      <th>11039</th>\n",
              "      <td>D</td>\n",
              "      <td>B</td>\n",
              "      <td>A</td>\n",
              "      <td>2</td>\n",
              "      <td>1</td>\n",
              "      <td>0</td>\n",
              "      <td>3</td>\n",
              "      <td>210054753395</td>\n",
              "    </tr>\n",
              "    <tr>\n",
              "      <th>12051</th>\n",
              "      <td>D</td>\n",
              "      <td>B</td>\n",
              "      <td>A</td>\n",
              "      <td>2</td>\n",
              "      <td>1</td>\n",
              "      <td>0</td>\n",
              "      <td>3</td>\n",
              "      <td>210057969784</td>\n",
              "    </tr>\n",
              "    <tr>\n",
              "      <th>20863</th>\n",
              "      <td>C</td>\n",
              "      <td>B</td>\n",
              "      <td>A</td>\n",
              "      <td>2</td>\n",
              "      <td>1</td>\n",
              "      <td>0</td>\n",
              "      <td>3</td>\n",
              "      <td>210056189833</td>\n",
              "    </tr>\n",
              "    <tr>\n",
              "      <th>43954</th>\n",
              "      <td>C</td>\n",
              "      <td>B</td>\n",
              "      <td>A</td>\n",
              "      <td>2</td>\n",
              "      <td>1</td>\n",
              "      <td>0</td>\n",
              "      <td>3</td>\n",
              "      <td>210054803265</td>\n",
              "    </tr>\n",
              "    <tr>\n",
              "      <th>45692</th>\n",
              "      <td>C</td>\n",
              "      <td>B</td>\n",
              "      <td>A</td>\n",
              "      <td>2</td>\n",
              "      <td>1</td>\n",
              "      <td>0</td>\n",
              "      <td>3</td>\n",
              "      <td>210056294776</td>\n",
              "    </tr>\n",
              "    <tr>\n",
              "      <th>66610</th>\n",
              "      <td>C</td>\n",
              "      <td>A</td>\n",
              "      <td>A</td>\n",
              "      <td>2</td>\n",
              "      <td>0</td>\n",
              "      <td>0</td>\n",
              "      <td>2</td>\n",
              "      <td>210057502575</td>\n",
              "    </tr>\n",
              "    <tr>\n",
              "      <th>72629</th>\n",
              "      <td>D</td>\n",
              "      <td>B</td>\n",
              "      <td>A</td>\n",
              "      <td>2</td>\n",
              "      <td>1</td>\n",
              "      <td>0</td>\n",
              "      <td>3</td>\n",
              "      <td>210056245169</td>\n",
              "    </tr>\n",
              "  </tbody>\n",
              "</table>\n",
              "</div>\n",
              "      <button class=\"colab-df-convert\" onclick=\"convertToInteractive('df-a50b3248-15ba-4b5b-a16e-5f41ecf920f6')\"\n",
              "              title=\"Convert this dataframe to an interactive table.\"\n",
              "              style=\"display:none;\">\n",
              "        \n",
              "  <svg xmlns=\"http://www.w3.org/2000/svg\" height=\"24px\"viewBox=\"0 0 24 24\"\n",
              "       width=\"24px\">\n",
              "    <path d=\"M0 0h24v24H0V0z\" fill=\"none\"/>\n",
              "    <path d=\"M18.56 5.44l.94 2.06.94-2.06 2.06-.94-2.06-.94-.94-2.06-.94 2.06-2.06.94zm-11 1L8.5 8.5l.94-2.06 2.06-.94-2.06-.94L8.5 2.5l-.94 2.06-2.06.94zm10 10l.94 2.06.94-2.06 2.06-.94-2.06-.94-.94-2.06-.94 2.06-2.06.94z\"/><path d=\"M17.41 7.96l-1.37-1.37c-.4-.4-.92-.59-1.43-.59-.52 0-1.04.2-1.43.59L10.3 9.45l-7.72 7.72c-.78.78-.78 2.05 0 2.83L4 21.41c.39.39.9.59 1.41.59.51 0 1.02-.2 1.41-.59l7.78-7.78 2.81-2.81c.8-.78.8-2.07 0-2.86zM5.41 20L4 18.59l7.72-7.72 1.47 1.35L5.41 20z\"/>\n",
              "  </svg>\n",
              "      </button>\n",
              "      \n",
              "  <style>\n",
              "    .colab-df-container {\n",
              "      display:flex;\n",
              "      flex-wrap:wrap;\n",
              "      gap: 12px;\n",
              "    }\n",
              "\n",
              "    .colab-df-convert {\n",
              "      background-color: #E8F0FE;\n",
              "      border: none;\n",
              "      border-radius: 50%;\n",
              "      cursor: pointer;\n",
              "      display: none;\n",
              "      fill: #1967D2;\n",
              "      height: 32px;\n",
              "      padding: 0 0 0 0;\n",
              "      width: 32px;\n",
              "    }\n",
              "\n",
              "    .colab-df-convert:hover {\n",
              "      background-color: #E2EBFA;\n",
              "      box-shadow: 0px 1px 2px rgba(60, 64, 67, 0.3), 0px 1px 3px 1px rgba(60, 64, 67, 0.15);\n",
              "      fill: #174EA6;\n",
              "    }\n",
              "\n",
              "    [theme=dark] .colab-df-convert {\n",
              "      background-color: #3B4455;\n",
              "      fill: #D2E3FC;\n",
              "    }\n",
              "\n",
              "    [theme=dark] .colab-df-convert:hover {\n",
              "      background-color: #434B5C;\n",
              "      box-shadow: 0px 1px 3px 1px rgba(0, 0, 0, 0.15);\n",
              "      filter: drop-shadow(0px 1px 2px rgba(0, 0, 0, 0.3));\n",
              "      fill: #FFFFFF;\n",
              "    }\n",
              "  </style>\n",
              "\n",
              "      <script>\n",
              "        const buttonEl =\n",
              "          document.querySelector('#df-a50b3248-15ba-4b5b-a16e-5f41ecf920f6 button.colab-df-convert');\n",
              "        buttonEl.style.display =\n",
              "          google.colab.kernel.accessAllowed ? 'block' : 'none';\n",
              "\n",
              "        async function convertToInteractive(key) {\n",
              "          const element = document.querySelector('#df-a50b3248-15ba-4b5b-a16e-5f41ecf920f6');\n",
              "          const dataTable =\n",
              "            await google.colab.kernel.invokeFunction('convertToInteractive',\n",
              "                                                     [key], {});\n",
              "          if (!dataTable) return;\n",
              "\n",
              "          const docLinkHtml = 'Like what you see? Visit the ' +\n",
              "            '<a target=\"_blank\" href=https://colab.research.google.com/notebooks/data_table.ipynb>data table notebook</a>'\n",
              "            + ' to learn more about interactive tables.';\n",
              "          element.innerHTML = '';\n",
              "          dataTable['output_type'] = 'display_data';\n",
              "          await google.colab.output.renderOutput(dataTable, element);\n",
              "          const docLink = document.createElement('div');\n",
              "          docLink.innerHTML = docLinkHtml;\n",
              "          element.appendChild(docLink);\n",
              "        }\n",
              "      </script>\n",
              "    </div>\n",
              "  </div>\n",
              "  "
            ]
          },
          "metadata": {},
          "execution_count": 41
        }
      ]
    },
    {
      "cell_type": "code",
      "source": [
        "df_ft.loc[df_ft.Tot_PtCasa == 0,'Tot_PtCasa_']='1'\n",
        "df_ft.loc[df_ft.Tot_PtCasa == 1,'Tot_PtCasa_']='1'\n",
        "df_ft.loc[df_ft.Tot_PtCasa == 2,'Tot_PtCasa_']='1'\n",
        "df_ft.loc[df_ft.Tot_PtCasa == 3,'Tot_PtCasa_']='2'\n",
        "df_ft.loc[df_ft.Tot_PtCasa == 4,'Tot_PtCasa_']='3'\n",
        "df_ft.loc[df_ft.Tot_PtCasa == 5,'Tot_PtCasa_']='4'\n",
        "df_ft.loc[df_ft.Tot_PtCasa == 6,'Tot_PtCasa_']='5'\n",
        "df_ft.loc[df_ft.Tot_PtCasa == 7,'Tot_PtCasa_']='6'\n",
        "df_ft.loc[df_ft.Tot_PtCasa == 8,'Tot_PtCasa_']='6'"
      ],
      "metadata": {
        "id": "t2Np--1oL-yO"
      },
      "execution_count": null,
      "outputs": []
    },
    {
      "cell_type": "markdown",
      "source": [
        "- Região Geográfica"
      ],
      "metadata": {
        "id": "hdEWeeydC18H"
      }
    },
    {
      "cell_type": "code",
      "source": [
        "df_ft['RegGeo_Prova'] = df_ft.CO_MUNICIPIO_PROVA.astype(str).str[0] # transforma primeiro em string, depois seleciona o digito"
      ],
      "metadata": {
        "id": "uqc7eiCrEs4P"
      },
      "execution_count": null,
      "outputs": []
    },
    {
      "cell_type": "code",
      "source": [
        "df_ft.RegGeo_Prova.value_counts().sort_index()"
      ],
      "metadata": {
        "id": "IYaKTFQ3GRVd",
        "colab": {
          "base_uri": "https://localhost:8080/"
        },
        "outputId": "8b945398-3409-4a3c-b5f8-6ec75f27280a"
      },
      "execution_count": null,
      "outputs": [
        {
          "output_type": "execute_result",
          "data": {
            "text/plain": [
              "1    207571\n",
              "2    688858\n",
              "3    654342\n",
              "4    210709\n",
              "5    159370\n",
              "Name: RegGeo_Prova, dtype: int64"
            ]
          },
          "metadata": {},
          "execution_count": 44
        }
      ]
    },
    {
      "cell_type": "code",
      "source": [
        "pd.crosstab(df_ft.SG_UF_PROVA, df_ft.RegGeo_Prova, margins=True, dropna=False)"
      ],
      "metadata": {
        "id": "mEdtS7lhGX85",
        "colab": {
          "base_uri": "https://localhost:8080/",
          "height": 959
        },
        "outputId": "fb83ad4e-dfa4-40dc-85d2-b192648d7dfb"
      },
      "execution_count": null,
      "outputs": [
        {
          "output_type": "execute_result",
          "data": {
            "text/plain": [
              "RegGeo_Prova       1       2       3       4       5      All\n",
              "SG_UF_PROVA                                                  \n",
              "AC             12703       0       0       0       0    12703\n",
              "AL                 0   36508       0       0       0    36508\n",
              "AM             37052       0       0       0       0    37052\n",
              "AP             12139       0       0       0       0    12139\n",
              "BA                 0  150459       0       0       0   150459\n",
              "CE                 0  129146       0       0       0   129146\n",
              "DF                 0       0       0       0   38810    38810\n",
              "ES                 0       0   34730       0       0    34730\n",
              "GO                 0       0       0       0   68424    68424\n",
              "MA                 0   73820       0       0       0    73820\n",
              "MG                 0       0  172416       0       0   172416\n",
              "MS                 0       0       0       0   22937    22937\n",
              "MT                 0       0       0       0   29199    29199\n",
              "PA            111232       0       0       0       0   111232\n",
              "PB                 0   59405       0       0       0    59405\n",
              "PE                 0  105496       0       0       0   105496\n",
              "PI                 0   47808       0       0       0    47808\n",
              "PR                 0       0       0   82403       0    82403\n",
              "RJ                 0       0  143163       0       0   143163\n",
              "RN                 0   52969       0       0       0    52969\n",
              "RO             15702       0       0       0       0    15702\n",
              "RR              3973       0       0       0       0     3973\n",
              "RS                 0       0       0   84751       0    84751\n",
              "SC                 0       0       0   43555       0    43555\n",
              "SE                 0   33247       0       0       0    33247\n",
              "SP                 0       0  304033       0       0   304033\n",
              "TO             14770       0       0       0       0    14770\n",
              "All           207571  688858  654342  210709  159370  1920850"
            ],
            "text/html": [
              "\n",
              "  <div id=\"df-5a492d40-dd7e-4d23-804b-e6f8663ebfbe\">\n",
              "    <div class=\"colab-df-container\">\n",
              "      <div>\n",
              "<style scoped>\n",
              "    .dataframe tbody tr th:only-of-type {\n",
              "        vertical-align: middle;\n",
              "    }\n",
              "\n",
              "    .dataframe tbody tr th {\n",
              "        vertical-align: top;\n",
              "    }\n",
              "\n",
              "    .dataframe thead th {\n",
              "        text-align: right;\n",
              "    }\n",
              "</style>\n",
              "<table border=\"1\" class=\"dataframe\">\n",
              "  <thead>\n",
              "    <tr style=\"text-align: right;\">\n",
              "      <th>RegGeo_Prova</th>\n",
              "      <th>1</th>\n",
              "      <th>2</th>\n",
              "      <th>3</th>\n",
              "      <th>4</th>\n",
              "      <th>5</th>\n",
              "      <th>All</th>\n",
              "    </tr>\n",
              "    <tr>\n",
              "      <th>SG_UF_PROVA</th>\n",
              "      <th></th>\n",
              "      <th></th>\n",
              "      <th></th>\n",
              "      <th></th>\n",
              "      <th></th>\n",
              "      <th></th>\n",
              "    </tr>\n",
              "  </thead>\n",
              "  <tbody>\n",
              "    <tr>\n",
              "      <th>AC</th>\n",
              "      <td>12703</td>\n",
              "      <td>0</td>\n",
              "      <td>0</td>\n",
              "      <td>0</td>\n",
              "      <td>0</td>\n",
              "      <td>12703</td>\n",
              "    </tr>\n",
              "    <tr>\n",
              "      <th>AL</th>\n",
              "      <td>0</td>\n",
              "      <td>36508</td>\n",
              "      <td>0</td>\n",
              "      <td>0</td>\n",
              "      <td>0</td>\n",
              "      <td>36508</td>\n",
              "    </tr>\n",
              "    <tr>\n",
              "      <th>AM</th>\n",
              "      <td>37052</td>\n",
              "      <td>0</td>\n",
              "      <td>0</td>\n",
              "      <td>0</td>\n",
              "      <td>0</td>\n",
              "      <td>37052</td>\n",
              "    </tr>\n",
              "    <tr>\n",
              "      <th>AP</th>\n",
              "      <td>12139</td>\n",
              "      <td>0</td>\n",
              "      <td>0</td>\n",
              "      <td>0</td>\n",
              "      <td>0</td>\n",
              "      <td>12139</td>\n",
              "    </tr>\n",
              "    <tr>\n",
              "      <th>BA</th>\n",
              "      <td>0</td>\n",
              "      <td>150459</td>\n",
              "      <td>0</td>\n",
              "      <td>0</td>\n",
              "      <td>0</td>\n",
              "      <td>150459</td>\n",
              "    </tr>\n",
              "    <tr>\n",
              "      <th>CE</th>\n",
              "      <td>0</td>\n",
              "      <td>129146</td>\n",
              "      <td>0</td>\n",
              "      <td>0</td>\n",
              "      <td>0</td>\n",
              "      <td>129146</td>\n",
              "    </tr>\n",
              "    <tr>\n",
              "      <th>DF</th>\n",
              "      <td>0</td>\n",
              "      <td>0</td>\n",
              "      <td>0</td>\n",
              "      <td>0</td>\n",
              "      <td>38810</td>\n",
              "      <td>38810</td>\n",
              "    </tr>\n",
              "    <tr>\n",
              "      <th>ES</th>\n",
              "      <td>0</td>\n",
              "      <td>0</td>\n",
              "      <td>34730</td>\n",
              "      <td>0</td>\n",
              "      <td>0</td>\n",
              "      <td>34730</td>\n",
              "    </tr>\n",
              "    <tr>\n",
              "      <th>GO</th>\n",
              "      <td>0</td>\n",
              "      <td>0</td>\n",
              "      <td>0</td>\n",
              "      <td>0</td>\n",
              "      <td>68424</td>\n",
              "      <td>68424</td>\n",
              "    </tr>\n",
              "    <tr>\n",
              "      <th>MA</th>\n",
              "      <td>0</td>\n",
              "      <td>73820</td>\n",
              "      <td>0</td>\n",
              "      <td>0</td>\n",
              "      <td>0</td>\n",
              "      <td>73820</td>\n",
              "    </tr>\n",
              "    <tr>\n",
              "      <th>MG</th>\n",
              "      <td>0</td>\n",
              "      <td>0</td>\n",
              "      <td>172416</td>\n",
              "      <td>0</td>\n",
              "      <td>0</td>\n",
              "      <td>172416</td>\n",
              "    </tr>\n",
              "    <tr>\n",
              "      <th>MS</th>\n",
              "      <td>0</td>\n",
              "      <td>0</td>\n",
              "      <td>0</td>\n",
              "      <td>0</td>\n",
              "      <td>22937</td>\n",
              "      <td>22937</td>\n",
              "    </tr>\n",
              "    <tr>\n",
              "      <th>MT</th>\n",
              "      <td>0</td>\n",
              "      <td>0</td>\n",
              "      <td>0</td>\n",
              "      <td>0</td>\n",
              "      <td>29199</td>\n",
              "      <td>29199</td>\n",
              "    </tr>\n",
              "    <tr>\n",
              "      <th>PA</th>\n",
              "      <td>111232</td>\n",
              "      <td>0</td>\n",
              "      <td>0</td>\n",
              "      <td>0</td>\n",
              "      <td>0</td>\n",
              "      <td>111232</td>\n",
              "    </tr>\n",
              "    <tr>\n",
              "      <th>PB</th>\n",
              "      <td>0</td>\n",
              "      <td>59405</td>\n",
              "      <td>0</td>\n",
              "      <td>0</td>\n",
              "      <td>0</td>\n",
              "      <td>59405</td>\n",
              "    </tr>\n",
              "    <tr>\n",
              "      <th>PE</th>\n",
              "      <td>0</td>\n",
              "      <td>105496</td>\n",
              "      <td>0</td>\n",
              "      <td>0</td>\n",
              "      <td>0</td>\n",
              "      <td>105496</td>\n",
              "    </tr>\n",
              "    <tr>\n",
              "      <th>PI</th>\n",
              "      <td>0</td>\n",
              "      <td>47808</td>\n",
              "      <td>0</td>\n",
              "      <td>0</td>\n",
              "      <td>0</td>\n",
              "      <td>47808</td>\n",
              "    </tr>\n",
              "    <tr>\n",
              "      <th>PR</th>\n",
              "      <td>0</td>\n",
              "      <td>0</td>\n",
              "      <td>0</td>\n",
              "      <td>82403</td>\n",
              "      <td>0</td>\n",
              "      <td>82403</td>\n",
              "    </tr>\n",
              "    <tr>\n",
              "      <th>RJ</th>\n",
              "      <td>0</td>\n",
              "      <td>0</td>\n",
              "      <td>143163</td>\n",
              "      <td>0</td>\n",
              "      <td>0</td>\n",
              "      <td>143163</td>\n",
              "    </tr>\n",
              "    <tr>\n",
              "      <th>RN</th>\n",
              "      <td>0</td>\n",
              "      <td>52969</td>\n",
              "      <td>0</td>\n",
              "      <td>0</td>\n",
              "      <td>0</td>\n",
              "      <td>52969</td>\n",
              "    </tr>\n",
              "    <tr>\n",
              "      <th>RO</th>\n",
              "      <td>15702</td>\n",
              "      <td>0</td>\n",
              "      <td>0</td>\n",
              "      <td>0</td>\n",
              "      <td>0</td>\n",
              "      <td>15702</td>\n",
              "    </tr>\n",
              "    <tr>\n",
              "      <th>RR</th>\n",
              "      <td>3973</td>\n",
              "      <td>0</td>\n",
              "      <td>0</td>\n",
              "      <td>0</td>\n",
              "      <td>0</td>\n",
              "      <td>3973</td>\n",
              "    </tr>\n",
              "    <tr>\n",
              "      <th>RS</th>\n",
              "      <td>0</td>\n",
              "      <td>0</td>\n",
              "      <td>0</td>\n",
              "      <td>84751</td>\n",
              "      <td>0</td>\n",
              "      <td>84751</td>\n",
              "    </tr>\n",
              "    <tr>\n",
              "      <th>SC</th>\n",
              "      <td>0</td>\n",
              "      <td>0</td>\n",
              "      <td>0</td>\n",
              "      <td>43555</td>\n",
              "      <td>0</td>\n",
              "      <td>43555</td>\n",
              "    </tr>\n",
              "    <tr>\n",
              "      <th>SE</th>\n",
              "      <td>0</td>\n",
              "      <td>33247</td>\n",
              "      <td>0</td>\n",
              "      <td>0</td>\n",
              "      <td>0</td>\n",
              "      <td>33247</td>\n",
              "    </tr>\n",
              "    <tr>\n",
              "      <th>SP</th>\n",
              "      <td>0</td>\n",
              "      <td>0</td>\n",
              "      <td>304033</td>\n",
              "      <td>0</td>\n",
              "      <td>0</td>\n",
              "      <td>304033</td>\n",
              "    </tr>\n",
              "    <tr>\n",
              "      <th>TO</th>\n",
              "      <td>14770</td>\n",
              "      <td>0</td>\n",
              "      <td>0</td>\n",
              "      <td>0</td>\n",
              "      <td>0</td>\n",
              "      <td>14770</td>\n",
              "    </tr>\n",
              "    <tr>\n",
              "      <th>All</th>\n",
              "      <td>207571</td>\n",
              "      <td>688858</td>\n",
              "      <td>654342</td>\n",
              "      <td>210709</td>\n",
              "      <td>159370</td>\n",
              "      <td>1920850</td>\n",
              "    </tr>\n",
              "  </tbody>\n",
              "</table>\n",
              "</div>\n",
              "      <button class=\"colab-df-convert\" onclick=\"convertToInteractive('df-5a492d40-dd7e-4d23-804b-e6f8663ebfbe')\"\n",
              "              title=\"Convert this dataframe to an interactive table.\"\n",
              "              style=\"display:none;\">\n",
              "        \n",
              "  <svg xmlns=\"http://www.w3.org/2000/svg\" height=\"24px\"viewBox=\"0 0 24 24\"\n",
              "       width=\"24px\">\n",
              "    <path d=\"M0 0h24v24H0V0z\" fill=\"none\"/>\n",
              "    <path d=\"M18.56 5.44l.94 2.06.94-2.06 2.06-.94-2.06-.94-.94-2.06-.94 2.06-2.06.94zm-11 1L8.5 8.5l.94-2.06 2.06-.94-2.06-.94L8.5 2.5l-.94 2.06-2.06.94zm10 10l.94 2.06.94-2.06 2.06-.94-2.06-.94-.94-2.06-.94 2.06-2.06.94z\"/><path d=\"M17.41 7.96l-1.37-1.37c-.4-.4-.92-.59-1.43-.59-.52 0-1.04.2-1.43.59L10.3 9.45l-7.72 7.72c-.78.78-.78 2.05 0 2.83L4 21.41c.39.39.9.59 1.41.59.51 0 1.02-.2 1.41-.59l7.78-7.78 2.81-2.81c.8-.78.8-2.07 0-2.86zM5.41 20L4 18.59l7.72-7.72 1.47 1.35L5.41 20z\"/>\n",
              "  </svg>\n",
              "      </button>\n",
              "      \n",
              "  <style>\n",
              "    .colab-df-container {\n",
              "      display:flex;\n",
              "      flex-wrap:wrap;\n",
              "      gap: 12px;\n",
              "    }\n",
              "\n",
              "    .colab-df-convert {\n",
              "      background-color: #E8F0FE;\n",
              "      border: none;\n",
              "      border-radius: 50%;\n",
              "      cursor: pointer;\n",
              "      display: none;\n",
              "      fill: #1967D2;\n",
              "      height: 32px;\n",
              "      padding: 0 0 0 0;\n",
              "      width: 32px;\n",
              "    }\n",
              "\n",
              "    .colab-df-convert:hover {\n",
              "      background-color: #E2EBFA;\n",
              "      box-shadow: 0px 1px 2px rgba(60, 64, 67, 0.3), 0px 1px 3px 1px rgba(60, 64, 67, 0.15);\n",
              "      fill: #174EA6;\n",
              "    }\n",
              "\n",
              "    [theme=dark] .colab-df-convert {\n",
              "      background-color: #3B4455;\n",
              "      fill: #D2E3FC;\n",
              "    }\n",
              "\n",
              "    [theme=dark] .colab-df-convert:hover {\n",
              "      background-color: #434B5C;\n",
              "      box-shadow: 0px 1px 3px 1px rgba(0, 0, 0, 0.15);\n",
              "      filter: drop-shadow(0px 1px 2px rgba(0, 0, 0, 0.3));\n",
              "      fill: #FFFFFF;\n",
              "    }\n",
              "  </style>\n",
              "\n",
              "      <script>\n",
              "        const buttonEl =\n",
              "          document.querySelector('#df-5a492d40-dd7e-4d23-804b-e6f8663ebfbe button.colab-df-convert');\n",
              "        buttonEl.style.display =\n",
              "          google.colab.kernel.accessAllowed ? 'block' : 'none';\n",
              "\n",
              "        async function convertToInteractive(key) {\n",
              "          const element = document.querySelector('#df-5a492d40-dd7e-4d23-804b-e6f8663ebfbe');\n",
              "          const dataTable =\n",
              "            await google.colab.kernel.invokeFunction('convertToInteractive',\n",
              "                                                     [key], {});\n",
              "          if (!dataTable) return;\n",
              "\n",
              "          const docLinkHtml = 'Like what you see? Visit the ' +\n",
              "            '<a target=\"_blank\" href=https://colab.research.google.com/notebooks/data_table.ipynb>data table notebook</a>'\n",
              "            + ' to learn more about interactive tables.';\n",
              "          element.innerHTML = '';\n",
              "          dataTable['output_type'] = 'display_data';\n",
              "          await google.colab.output.renderOutput(dataTable, element);\n",
              "          const docLink = document.createElement('div');\n",
              "          docLink.innerHTML = docLinkHtml;\n",
              "          element.appendChild(docLink);\n",
              "        }\n",
              "      </script>\n",
              "    </div>\n",
              "  </div>\n",
              "  "
            ]
          },
          "metadata": {},
          "execution_count": 45
        }
      ]
    },
    {
      "cell_type": "markdown",
      "source": [
        "- SG PROVA"
      ],
      "metadata": {
        "id": "pnrhpPq0mPie"
      }
    },
    {
      "cell_type": "code",
      "source": [
        "gr_uf = {'AC': 1,'AL': 1,'AM': 1,'AP': 1,'MA': 1,'PA': 1,'PI': 1,'RO': 1,'TO': 1,\n",
        "         'BA': 2,'CE': 2,'MT': 2,'PB': 2,'PE': 2,'RR': 2,'SE': 2,\n",
        "         'GO': 3,'MS': 3,'RN': 3,\n",
        "         'DF': 4,'ES': 4,'MG': 4,'PR': 4,'RJ': 4,'RS': 4,'SC': 4,'SP': 4}"
      ],
      "metadata": {
        "id": "ewhEnd1Cd1XA"
      },
      "execution_count": null,
      "outputs": []
    },
    {
      "cell_type": "code",
      "source": [
        "df_ft['SG_UF_PROVA_'] = df_ft['SG_UF_PROVA'].map(gr_uf)"
      ],
      "metadata": {
        "id": "FpyU8Y8lx7cU"
      },
      "execution_count": null,
      "outputs": []
    },
    {
      "cell_type": "code",
      "source": [
        "df_ft.SG_UF_PROVA_.value_counts().sort_index()"
      ],
      "metadata": {
        "id": "Tscl1WYCzV_h",
        "colab": {
          "base_uri": "https://localhost:8080/"
        },
        "outputId": "57f1ea50-724d-489f-99ea-e67e0528e570"
      },
      "execution_count": null,
      "outputs": [
        {
          "output_type": "execute_result",
          "data": {
            "text/plain": [
              "1    361734\n",
              "2    510925\n",
              "3    144330\n",
              "4    903861\n",
              "Name: SG_UF_PROVA_, dtype: int64"
            ]
          },
          "metadata": {},
          "execution_count": 48
        }
      ]
    },
    {
      "cell_type": "code",
      "source": [
        "# Exemplo\n",
        "# df['Status'] = [\"Senior\" if s >=400 else \"Junior\" for s in df['Salary']]"
      ],
      "metadata": {
        "id": "QQazVOgj1D9S"
      },
      "execution_count": null,
      "outputs": []
    },
    {
      "cell_type": "markdown",
      "source": [
        "# **Recategorização das Variáveis**"
      ],
      "metadata": {
        "id": "6Vg0gzaCnLpo"
      }
    },
    {
      "cell_type": "markdown",
      "source": [
        "- Faixa Etária     "
      ],
      "metadata": {
        "id": "BWpnbgFL024l"
      }
    },
    {
      "cell_type": "code",
      "source": [
        "df_ft.loc[df_ft.TP_FAIXA_ETARIA == 1 ,'TP_FAIXA_ETARIA_']='1'\n",
        "df_ft.loc[df_ft.TP_FAIXA_ETARIA == 2 ,'TP_FAIXA_ETARIA_']='1'\n",
        "df_ft.loc[df_ft.TP_FAIXA_ETARIA == 3 ,'TP_FAIXA_ETARIA_']='2'\n",
        "df_ft.loc[df_ft.TP_FAIXA_ETARIA == 4 ,'TP_FAIXA_ETARIA_']='2'\n",
        "df_ft.loc[df_ft.TP_FAIXA_ETARIA == 5 ,'TP_FAIXA_ETARIA_']='2'\n",
        "df_ft.loc[df_ft.TP_FAIXA_ETARIA == 6 ,'TP_FAIXA_ETARIA_']='3'\n",
        "df_ft.loc[df_ft.TP_FAIXA_ETARIA == 7 ,'TP_FAIXA_ETARIA_']='3'\n",
        "df_ft.loc[df_ft.TP_FAIXA_ETARIA == 8 ,'TP_FAIXA_ETARIA_']='3'\n",
        "df_ft.loc[df_ft.TP_FAIXA_ETARIA == 9 ,'TP_FAIXA_ETARIA_']='3'\n",
        "df_ft.loc[df_ft.TP_FAIXA_ETARIA == 10 ,'TP_FAIXA_ETARIA_']='3'\n",
        "df_ft.loc[df_ft.TP_FAIXA_ETARIA == 11 ,'TP_FAIXA_ETARIA_']='3'\n",
        "df_ft.loc[df_ft.TP_FAIXA_ETARIA == 12 ,'TP_FAIXA_ETARIA_']='4'\n",
        "df_ft.loc[df_ft.TP_FAIXA_ETARIA == 13 ,'TP_FAIXA_ETARIA_']='4'\n",
        "df_ft.loc[df_ft.TP_FAIXA_ETARIA == 14 ,'TP_FAIXA_ETARIA_']='5'\n",
        "df_ft.loc[df_ft.TP_FAIXA_ETARIA == 15 ,'TP_FAIXA_ETARIA_']='5'\n",
        "df_ft.loc[df_ft.TP_FAIXA_ETARIA == 16 ,'TP_FAIXA_ETARIA_']='5'\n",
        "df_ft.loc[df_ft.TP_FAIXA_ETARIA == 17 ,'TP_FAIXA_ETARIA_']='5'\n",
        "df_ft.loc[df_ft.TP_FAIXA_ETARIA == 18 ,'TP_FAIXA_ETARIA_']='5'\n",
        "df_ft.loc[df_ft.TP_FAIXA_ETARIA == 19 ,'TP_FAIXA_ETARIA_']='5'\n",
        "df_ft.loc[df_ft.TP_FAIXA_ETARIA == 20 ,'TP_FAIXA_ETARIA_']='5'"
      ],
      "metadata": {
        "id": "FvCuzryJWUzm"
      },
      "execution_count": null,
      "outputs": []
    },
    {
      "cell_type": "markdown",
      "source": [
        "- Estado Civil"
      ],
      "metadata": {
        "id": "LznZJtzeAjgu"
      }
    },
    {
      "cell_type": "code",
      "source": [
        "df_ft.loc[df_ft.TP_ESTADO_CIVIL == 0 ,'TP_ESTADO_CIVIL_']='1'\n",
        "df_ft.loc[df_ft.TP_ESTADO_CIVIL == 1 ,'TP_ESTADO_CIVIL_']='2'\n",
        "df_ft.loc[df_ft.TP_ESTADO_CIVIL == 2 ,'TP_ESTADO_CIVIL_']='3'\n",
        "df_ft.loc[df_ft.TP_ESTADO_CIVIL == 3 ,'TP_ESTADO_CIVIL_']='3'\n",
        "df_ft.loc[df_ft.TP_ESTADO_CIVIL == 4 ,'TP_ESTADO_CIVIL_']='3'"
      ],
      "metadata": {
        "id": "1xH94aYNBPXX"
      },
      "execution_count": null,
      "outputs": []
    },
    {
      "cell_type": "markdown",
      "source": [
        "- Cor/Raça"
      ],
      "metadata": {
        "id": "jaPsnY6MB614"
      }
    },
    {
      "cell_type": "code",
      "source": [
        "df_ft.loc[df_ft.TP_COR_RACA == 0 ,'TP_COR_RACA_']='1'\n",
        "df_ft.loc[df_ft.TP_COR_RACA == 1 ,'TP_COR_RACA_']='2'\n",
        "df_ft.loc[df_ft.TP_COR_RACA == 2 ,'TP_COR_RACA_']='3'\n",
        "df_ft.loc[df_ft.TP_COR_RACA == 3 ,'TP_COR_RACA_']='3'\n",
        "df_ft.loc[df_ft.TP_COR_RACA == 4 ,'TP_COR_RACA_']='4'\n",
        "df_ft.loc[df_ft.TP_COR_RACA == 5 ,'TP_COR_RACA_']='5'\n",
        "df_ft.loc[df_ft.TP_COR_RACA == 6 ,'TP_COR_RACA_']='1'"
      ],
      "metadata": {
        "id": "4bV8KM8YCgby"
      },
      "execution_count": null,
      "outputs": []
    },
    {
      "cell_type": "markdown",
      "source": [
        "- Ano que concluiu"
      ],
      "metadata": {
        "id": "GPMpHLO6PAnv"
      }
    },
    {
      "cell_type": "code",
      "source": [
        "df_ft.loc[df_ft.TP_ANO_CONCLUIU == 0 ,'TP_ANO_CONCLUIU_']='1'\n",
        "df_ft.loc[df_ft.TP_ANO_CONCLUIU == 1 ,'TP_ANO_CONCLUIU_']='2'\n",
        "df_ft.loc[df_ft.TP_ANO_CONCLUIU == 2 ,'TP_ANO_CONCLUIU_']='2'\n",
        "df_ft.loc[df_ft.TP_ANO_CONCLUIU == 3 ,'TP_ANO_CONCLUIU_']='3'\n",
        "df_ft.loc[df_ft.TP_ANO_CONCLUIU == 4 ,'TP_ANO_CONCLUIU_']='3'\n",
        "df_ft.loc[df_ft.TP_ANO_CONCLUIU == 5 ,'TP_ANO_CONCLUIU_']='3'\n",
        "df_ft.loc[df_ft.TP_ANO_CONCLUIU == 6 ,'TP_ANO_CONCLUIU_']='4'\n",
        "df_ft.loc[df_ft.TP_ANO_CONCLUIU == 7 ,'TP_ANO_CONCLUIU_']='4'\n",
        "df_ft.loc[df_ft.TP_ANO_CONCLUIU == 8 ,'TP_ANO_CONCLUIU_']='4'\n",
        "df_ft.loc[df_ft.TP_ANO_CONCLUIU == 9 ,'TP_ANO_CONCLUIU_']='5'\n",
        "df_ft.loc[df_ft.TP_ANO_CONCLUIU == 10 ,'TP_ANO_CONCLUIU_']='5'\n",
        "df_ft.loc[df_ft.TP_ANO_CONCLUIU == 11 ,'TP_ANO_CONCLUIU_']='5'\n",
        "df_ft.loc[df_ft.TP_ANO_CONCLUIU == 12 ,'TP_ANO_CONCLUIU_']='6'\n",
        "df_ft.loc[df_ft.TP_ANO_CONCLUIU == 13 ,'TP_ANO_CONCLUIU_']='6'\n",
        "df_ft.loc[df_ft.TP_ANO_CONCLUIU == 14 ,'TP_ANO_CONCLUIU_']='6'\n",
        "df_ft.loc[df_ft.TP_ANO_CONCLUIU == 15 ,'TP_ANO_CONCLUIU_']='6'\n",
        "df_ft.loc[df_ft.TP_ANO_CONCLUIU == 16 ,'TP_ANO_CONCLUIU_']='6'"
      ],
      "metadata": {
        "id": "gb-147ngPfhs"
      },
      "execution_count": null,
      "outputs": []
    },
    {
      "cell_type": "markdown",
      "source": [
        "- Tipo de Escola"
      ],
      "metadata": {
        "id": "Ehxbnf7PQ9n9"
      }
    },
    {
      "cell_type": "code",
      "source": [
        "df_ft.loc[df_ft.TP_ESCOLA == 1 ,'TP_ESCOLA_']='1'\n",
        "df_ft.loc[df_ft.TP_ESCOLA == 2 ,'TP_ESCOLA_']='2'\n",
        "df_ft.loc[df_ft.TP_ESCOLA == 3 ,'TP_ESCOLA_']='3'\n",
        "df_ft.loc[df_ft.TP_ESCOLA == 4 ,'TP_ESCOLA_']='1'"
      ],
      "metadata": {
        "id": "YskTTCSbSi9V"
      },
      "execution_count": null,
      "outputs": []
    },
    {
      "cell_type": "markdown",
      "source": [
        "- Tipo de Ensino"
      ],
      "metadata": {
        "id": "Y39fm66cT2SV"
      }
    },
    {
      "cell_type": "code",
      "source": [
        "df_ft.loc[df_ft.TP_ENSINO == 1 ,'TP_ENSINO_']='1'\n",
        "df_ft.loc[df_ft.TP_ENSINO == 2 ,'TP_ENSINO_']='2'\n",
        "df_ft.loc[df_ft.TP_ENSINO == 3 ,'TP_ENSINO_']='2'\n",
        "df_ft.loc[df_ft.TP_ENSINO == 9 ,'TP_ENSINO_']='9'"
      ],
      "metadata": {
        "id": "Ws2VGMEwUcRV"
      },
      "execution_count": null,
      "outputs": []
    },
    {
      "cell_type": "markdown",
      "source": [
        "- Quantidade de Moradores na Residência"
      ],
      "metadata": {
        "id": "xaFjwhgur8wx"
      }
    },
    {
      "cell_type": "code",
      "source": [
        "df_ft.loc[df_ft.Q005 == 1 ,'Q005_']='1'\n",
        "df_ft.loc[df_ft.Q005 == 2 ,'Q005_']='1'\n",
        "df_ft.loc[df_ft.Q005 == 3 ,'Q005_']='1'\n",
        "df_ft.loc[df_ft.Q005 == 4 ,'Q005_']='1'\n",
        "df_ft.loc[df_ft.Q005 == 5 ,'Q005_']='2'\n",
        "df_ft.loc[df_ft.Q005 == 6 ,'Q005_']='3'\n",
        "df_ft.loc[df_ft.Q005 == 7 ,'Q005_']='4'\n",
        "df_ft.loc[df_ft.Q005 == 8 ,'Q005_']='5'\n",
        "df_ft.loc[df_ft.Q005 == 9 ,'Q005_']='5'\n",
        "df_ft.loc[df_ft.Q005 == 10 ,'Q005_']='5'\n",
        "df_ft.loc[df_ft.Q005 == 11 ,'Q005_']='5'\n",
        "df_ft.loc[df_ft.Q005 == 12 ,'Q005_']='5'\n",
        "df_ft.loc[df_ft.Q005 == 13 ,'Q005_']='5'\n",
        "df_ft.loc[df_ft.Q005 == 14 ,'Q005_']='5'\n",
        "df_ft.loc[df_ft.Q005 == 15 ,'Q005_']='5'\n",
        "df_ft.loc[df_ft.Q005 == 16 ,'Q005_']='5'\n",
        "df_ft.loc[df_ft.Q005 == 17 ,'Q005_']='5'\n",
        "df_ft.loc[df_ft.Q005 == 18 ,'Q005_']='5'\n",
        "df_ft.loc[df_ft.Q005 == 19 ,'Q005_']='5'\n",
        "df_ft.loc[df_ft.Q005 == 20 ,'Q005_']='5'"
      ],
      "metadata": {
        "id": "DI5SVBvgsAW-"
      },
      "execution_count": null,
      "outputs": []
    },
    {
      "cell_type": "markdown",
      "source": [
        "- Renda"
      ],
      "metadata": {
        "id": "_G3MiZ6AtUKI"
      }
    },
    {
      "cell_type": "code",
      "source": [
        "df_ft.loc[df_ft.Q006 == 'A' ,'Q006_']='1'\n",
        "df_ft.loc[df_ft.Q006 == 'B' ,'Q006_']='2'\n",
        "df_ft.loc[df_ft.Q006 == 'C' ,'Q006_']='3'\n",
        "df_ft.loc[df_ft.Q006 == 'D' ,'Q006_']='4'\n",
        "df_ft.loc[df_ft.Q006 == 'E' ,'Q006_']='5'\n",
        "df_ft.loc[df_ft.Q006 == 'F' ,'Q006_']='6'\n",
        "df_ft.loc[df_ft.Q006 == 'G' ,'Q006_']='6'\n",
        "df_ft.loc[df_ft.Q006 == 'H' ,'Q006_']='7'\n",
        "df_ft.loc[df_ft.Q006 == 'I' ,'Q006_']='7'\n",
        "df_ft.loc[df_ft.Q006 == 'J' ,'Q006_']='8'\n",
        "df_ft.loc[df_ft.Q006 == 'K' ,'Q006_']='8'\n",
        "df_ft.loc[df_ft.Q006 == 'L' ,'Q006_']='9'\n",
        "df_ft.loc[df_ft.Q006 == 'M' ,'Q006_']='9'\n",
        "df_ft.loc[df_ft.Q006 == 'N' ,'Q006_']='10'\n",
        "df_ft.loc[df_ft.Q006 == 'O' ,'Q006_']='10'\n",
        "df_ft.loc[df_ft.Q006 == 'P' ,'Q006_']='10'\n",
        "df_ft.loc[df_ft.Q006 == 'Q' ,'Q006_']='10'"
      ],
      "metadata": {
        "id": "jmnD8XO0tUUS"
      },
      "execution_count": null,
      "outputs": []
    },
    {
      "cell_type": "markdown",
      "source": [
        "- Ter Empregada Doméstica"
      ],
      "metadata": {
        "id": "RFzwvvhIvHc4"
      }
    },
    {
      "cell_type": "code",
      "source": [
        "df_ft.loc[df_ft.Q007 == 'A' ,'Q007_']='1'\n",
        "df_ft.loc[df_ft.Q007 == 'B' ,'Q007_']='2'\n",
        "df_ft.loc[df_ft.Q007 == 'C' ,'Q007_']='2'\n",
        "df_ft.loc[df_ft.Q007 == 'D' ,'Q007_']='2'"
      ],
      "metadata": {
        "id": "MAVGaCpevHmZ"
      },
      "execution_count": null,
      "outputs": []
    },
    {
      "cell_type": "markdown",
      "source": [
        "- Qtde de Banheiros"
      ],
      "metadata": {
        "id": "KmYHiLuzwGIj"
      }
    },
    {
      "cell_type": "code",
      "source": [
        "df_ft.loc[df_ft.Q008 == 'A' ,'Q008_']='1'\n",
        "df_ft.loc[df_ft.Q008 == 'B' ,'Q008_']='1'\n",
        "df_ft.loc[df_ft.Q008 == 'C' ,'Q008_']='2'\n",
        "df_ft.loc[df_ft.Q008 == 'D' ,'Q008_']='3'\n",
        "df_ft.loc[df_ft.Q008 == 'E' ,'Q008_']='4'"
      ],
      "metadata": {
        "id": "AfXP2wY0wGSm"
      },
      "execution_count": null,
      "outputs": []
    },
    {
      "cell_type": "markdown",
      "source": [
        "- Qtde de Quartos"
      ],
      "metadata": {
        "id": "0wsN9ifSwuYc"
      }
    },
    {
      "cell_type": "code",
      "source": [
        "df_ft.loc[df_ft.Q009 == 'A' ,'Q009_']='1'\n",
        "df_ft.loc[df_ft.Q009 == 'B' ,'Q009_']='1'\n",
        "df_ft.loc[df_ft.Q009 == 'C' ,'Q009_']='2'\n",
        "df_ft.loc[df_ft.Q009 == 'D' ,'Q009_']='3'\n",
        "df_ft.loc[df_ft.Q009 == 'E' ,'Q009_']='4'"
      ],
      "metadata": {
        "id": "RdhjBpzuwuhC"
      },
      "execution_count": null,
      "outputs": []
    },
    {
      "cell_type": "markdown",
      "source": [
        "- Qtde de Carros"
      ],
      "metadata": {
        "id": "tsLiUC7VxNoN"
      }
    },
    {
      "cell_type": "code",
      "source": [
        "df_ft.loc[df_ft.Q010 == 'A' ,'Q010_']='1'\n",
        "df_ft.loc[df_ft.Q010 == 'B' ,'Q010_']='2'\n",
        "df_ft.loc[df_ft.Q010 == 'C' ,'Q010_']='3'\n",
        "df_ft.loc[df_ft.Q010 == 'D' ,'Q010_']='4'\n",
        "df_ft.loc[df_ft.Q010 == 'E' ,'Q010_']='4'"
      ],
      "metadata": {
        "id": "2TLqMB63xNwx"
      },
      "execution_count": null,
      "outputs": []
    },
    {
      "cell_type": "markdown",
      "source": [
        "- Qtde de Motos"
      ],
      "metadata": {
        "id": "MIe-ytOlxqzh"
      }
    },
    {
      "cell_type": "code",
      "source": [
        "df_ft.loc[df_ft.Q011 == 'A' ,'Q011_']='1'\n",
        "df_ft.loc[df_ft.Q011 == 'B' ,'Q011_']='2'\n",
        "df_ft.loc[df_ft.Q011 == 'C' ,'Q011_']='3'\n",
        "df_ft.loc[df_ft.Q011 == 'D' ,'Q011_']='3'\n",
        "df_ft.loc[df_ft.Q011 == 'E' ,'Q011_']='3'"
      ],
      "metadata": {
        "id": "XsBLvQ4Lxq8U"
      },
      "execution_count": null,
      "outputs": []
    },
    {
      "cell_type": "markdown",
      "source": [
        "- Qtde de Geladeiras"
      ],
      "metadata": {
        "id": "BMHN5x5tyowt"
      }
    },
    {
      "cell_type": "code",
      "source": [
        "df_ft.loc[df_ft.Q012 == 'A' ,'Q012_']='1'\n",
        "df_ft.loc[df_ft.Q012 == 'B' ,'Q012_']='2'\n",
        "df_ft.loc[df_ft.Q012 == 'C' ,'Q012_']='3'\n",
        "df_ft.loc[df_ft.Q012 == 'D' ,'Q012_']='3'\n",
        "df_ft.loc[df_ft.Q012 == 'E' ,'Q012_']='3'"
      ],
      "metadata": {
        "id": "ppl49W2hyo8C"
      },
      "execution_count": null,
      "outputs": []
    },
    {
      "cell_type": "markdown",
      "source": [
        "- Qtde de Freezer"
      ],
      "metadata": {
        "id": "YgSjY8HQy5dE"
      }
    },
    {
      "cell_type": "code",
      "source": [
        "df_ft.loc[df_ft.Q013 == 'A' ,'Q013_']='1'\n",
        "df_ft.loc[df_ft.Q013 == 'B' ,'Q013_']='2'\n",
        "df_ft.loc[df_ft.Q013 == 'C' ,'Q013_']='3'\n",
        "df_ft.loc[df_ft.Q013 == 'D' ,'Q013_']='3'\n",
        "df_ft.loc[df_ft.Q013 == 'E' ,'Q013_']='3'"
      ],
      "metadata": {
        "id": "Ual5LhU4y5qR"
      },
      "execution_count": null,
      "outputs": []
    },
    {
      "cell_type": "markdown",
      "source": [
        "- Qtde de Lavadora de Roupa"
      ],
      "metadata": {
        "id": "kfvX_DZCzgww"
      }
    },
    {
      "cell_type": "code",
      "source": [
        "df_ft.loc[df_ft.Q014 == 'A' ,'Q014_']='1'\n",
        "df_ft.loc[df_ft.Q014 == 'B' ,'Q014_']='2'\n",
        "df_ft.loc[df_ft.Q014 == 'C' ,'Q014_']='3'\n",
        "df_ft.loc[df_ft.Q014 == 'D' ,'Q014_']='3'\n",
        "df_ft.loc[df_ft.Q014 == 'E' ,'Q014_']='3'"
      ],
      "metadata": {
        "id": "qujTGuRMzg7X"
      },
      "execution_count": null,
      "outputs": []
    },
    {
      "cell_type": "markdown",
      "source": [
        "- Qtde de Secadora de Roupa"
      ],
      "metadata": {
        "id": "bUdAlDA9z-lI"
      }
    },
    {
      "cell_type": "code",
      "source": [
        "df_ft.loc[df_ft.Q015 == 'A' ,'Q015_']='1'\n",
        "df_ft.loc[df_ft.Q015 == 'B' ,'Q015_']='2'\n",
        "df_ft.loc[df_ft.Q015 == 'C' ,'Q015_']='2'\n",
        "df_ft.loc[df_ft.Q015 == 'D' ,'Q015_']='2'\n",
        "df_ft.loc[df_ft.Q015 == 'E' ,'Q015_']='2'"
      ],
      "metadata": {
        "id": "Pm1MyRT8z-tX"
      },
      "execution_count": null,
      "outputs": []
    },
    {
      "cell_type": "markdown",
      "source": [
        "- Qtde de Microondas"
      ],
      "metadata": {
        "id": "SJOillJJ0Vxn"
      }
    },
    {
      "cell_type": "code",
      "source": [
        "df_ft.loc[df_ft.Q016 == 'A' ,'Q016_']='1'\n",
        "df_ft.loc[df_ft.Q016 == 'B' ,'Q016_']='2'\n",
        "df_ft.loc[df_ft.Q016 == 'C' ,'Q016_']='2'\n",
        "df_ft.loc[df_ft.Q016 == 'D' ,'Q016_']='2'\n",
        "df_ft.loc[df_ft.Q016 == 'E' ,'Q016_']='2'"
      ],
      "metadata": {
        "id": "cXqQdRPh0V4K"
      },
      "execution_count": null,
      "outputs": []
    },
    {
      "cell_type": "markdown",
      "source": [
        "- Qtde de Lavadora de Louças"
      ],
      "metadata": {
        "id": "5I-6DAVu0lyu"
      }
    },
    {
      "cell_type": "code",
      "source": [
        "df_ft.loc[df_ft.Q017 == 'A' ,'Q017_']='1'\n",
        "df_ft.loc[df_ft.Q017 == 'B' ,'Q017_']='2'\n",
        "df_ft.loc[df_ft.Q017 == 'C' ,'Q017_']='2'\n",
        "df_ft.loc[df_ft.Q017 == 'D' ,'Q017_']='2'\n",
        "df_ft.loc[df_ft.Q017 == 'E' ,'Q017_']='2'"
      ],
      "metadata": {
        "id": "QtCOPNZq0l7q"
      },
      "execution_count": null,
      "outputs": []
    },
    {
      "cell_type": "markdown",
      "source": [
        "- Qtde de TVs"
      ],
      "metadata": {
        "id": "qnUe4FCF1I4V"
      }
    },
    {
      "cell_type": "code",
      "source": [
        "df_ft.loc[df_ft.Q019 == 'A' ,'Q019_']='1'\n",
        "df_ft.loc[df_ft.Q019 == 'B' ,'Q019_']='2'\n",
        "df_ft.loc[df_ft.Q019 == 'C' ,'Q019_']='3'\n",
        "df_ft.loc[df_ft.Q019 == 'D' ,'Q019_']='4'\n",
        "df_ft.loc[df_ft.Q019 == 'E' ,'Q019_']='5'"
      ],
      "metadata": {
        "id": "SAoC34rG02IY"
      },
      "execution_count": null,
      "outputs": []
    },
    {
      "cell_type": "markdown",
      "source": [
        "- Qtde de computadores"
      ],
      "metadata": {
        "id": "rUTcrnjT2cHU"
      }
    },
    {
      "cell_type": "code",
      "source": [
        "df_ft.loc[df_ft.Q024 == 'A' ,'Q024_']='1'\n",
        "df_ft.loc[df_ft.Q024 == 'B' ,'Q024_']='2'\n",
        "df_ft.loc[df_ft.Q024 == 'C' ,'Q024_']='3'\n",
        "df_ft.loc[df_ft.Q024 == 'D' ,'Q024_']='4'\n",
        "df_ft.loc[df_ft.Q024 == 'E' ,'Q024_']='4'"
      ],
      "metadata": {
        "id": "Rs9iwMXf2cOn"
      },
      "execution_count": null,
      "outputs": []
    },
    {
      "cell_type": "markdown",
      "source": [
        "# **Definição de Variáveis**"
      ],
      "metadata": {
        "id": "hiBS1KNcEI1M"
      }
    },
    {
      "cell_type": "code",
      "source": [
        "df_ft.columns"
      ],
      "metadata": {
        "id": "jmWQjMy2zXqd",
        "colab": {
          "base_uri": "https://localhost:8080/"
        },
        "outputId": "98731f62-4dbb-418a-cceb-7341fbbb0bbd"
      },
      "execution_count": null,
      "outputs": [
        {
          "output_type": "execute_result",
          "data": {
            "text/plain": [
              "Index(['NU_INSCRICAO', 'NU_ANO', 'TP_FAIXA_ETARIA', 'TP_SEXO',\n",
              "       'TP_ESTADO_CIVIL', 'TP_COR_RACA', 'TP_ST_CONCLUSAO', 'TP_ANO_CONCLUIU',\n",
              "       'TP_ESCOLA', 'TP_ENSINO',\n",
              "       ...\n",
              "       'Q005_', 'Q006_', 'Q012_', 'Q013_', 'Q014_', 'Q015_', 'Q016_', 'Q017_',\n",
              "       'Q019_', 'Q024_'],\n",
              "      dtype='object', length=108)"
            ]
          },
          "metadata": {},
          "execution_count": 71
        }
      ]
    },
    {
      "cell_type": "code",
      "source": [
        "df_varquali = df_ft[['TP_FAIXA_ETARIA','TP_FAIXA_ETARIA_',\n",
        "                     'TP_SEXO',\n",
        "                     'TP_ESTADO_CIVIL', 'TP_ESTADO_CIVIL_',\n",
        "                     'TP_COR_RACA', 'TP_COR_RACA_',\n",
        "                     'TP_ESCOLA', 'TP_ESCOLA_',\n",
        "                     'TP_ENSINO', 'TP_ENSINO_',\n",
        "                     'SG_UF_ESC',\n",
        "                     'SG_UF_PROVA', 'SG_UF_PROVA_',\n",
        "                     'TP_ANO_CONCLUIU', 'TP_ANO_CONCLUIU_',\n",
        "                     'TP_LINGUA',\n",
        "                     'Q001',\n",
        "                     'Q002',\n",
        "                     'Q003',\n",
        "                     'Q004',\n",
        "                     'Q005', 'Q005_',\n",
        "                     'Q006', 'Q006_',\n",
        "                     'Q007', 'Q007_',\n",
        "                     'Q008', 'Q008_',\n",
        "                     'Q009', 'Q009_',\n",
        "                     'Q010', 'Q010_',\n",
        "                     'Q011', 'Q011_',\n",
        "                     'Q012', 'Q012_',\n",
        "                     'Q013', 'Q013_',\n",
        "                     'Q014', 'Q014_',\n",
        "                     'Q015', 'Q015_',\n",
        "                     'Q016', 'Q016_',\n",
        "                     'Q017', 'Q017_',\n",
        "                     'Q018',\n",
        "                     'Q019', 'Q019_',\n",
        "                     'Q020',\n",
        "                     'Q021',\n",
        "                     'Q022',\n",
        "                     'Q023',\n",
        "                     'Q024', 'Q024_',\n",
        "                     'Q025',\n",
        "                     'Sum_TIC3', 'Sum_TIC3_',\n",
        "                     'Sum_TIC5', 'Sum_TIC5_',\n",
        "                     'Sum_Elet', 'Sum_Elet_',\n",
        "                     'Esc_Max',\n",
        "                     'Car_Mot', 'Car_Mot_',\n",
        "                     'Tot_PtCasa', 'Tot_PtCasa_',\n",
        "                     'RegGeo_Prova',\n",
        "                     'Ter_Cel', 'Ter_Com',\n",
        "                     'Sum_Target_2']]"
      ],
      "metadata": {
        "id": "Kq_8tKS0dbKs"
      },
      "execution_count": null,
      "outputs": []
    },
    {
      "cell_type": "code",
      "source": [
        "df_varquali.info()"
      ],
      "metadata": {
        "id": "ZCCRs5MxUbly",
        "colab": {
          "base_uri": "https://localhost:8080/"
        },
        "outputId": "fcf6ebf0-97b9-48a4-c13d-de675c758259"
      },
      "execution_count": null,
      "outputs": [
        {
          "output_type": "stream",
          "name": "stdout",
          "text": [
            "<class 'pandas.core.frame.DataFrame'>\n",
            "RangeIndex: 1920850 entries, 0 to 1920849\n",
            "Data columns (total 72 columns):\n",
            " #   Column            Dtype  \n",
            "---  ------            -----  \n",
            " 0   TP_FAIXA_ETARIA   int64  \n",
            " 1   TP_FAIXA_ETARIA_  object \n",
            " 2   TP_SEXO           object \n",
            " 3   TP_ESTADO_CIVIL   int64  \n",
            " 4   TP_ESTADO_CIVIL_  object \n",
            " 5   TP_COR_RACA       int64  \n",
            " 6   TP_COR_RACA_      object \n",
            " 7   TP_ESCOLA         int64  \n",
            " 8   TP_ESCOLA_        object \n",
            " 9   TP_ENSINO         int64  \n",
            " 10  TP_ENSINO_        object \n",
            " 11  SG_UF_ESC         object \n",
            " 12  SG_UF_PROVA       object \n",
            " 13  SG_UF_PROVA_      int64  \n",
            " 14  TP_ANO_CONCLUIU   int64  \n",
            " 15  TP_ANO_CONCLUIU_  object \n",
            " 16  TP_LINGUA         int64  \n",
            " 17  Q001              object \n",
            " 18  Q002              object \n",
            " 19  Q003              object \n",
            " 20  Q004              object \n",
            " 21  Q005              float64\n",
            " 22  Q005_             object \n",
            " 23  Q006              object \n",
            " 24  Q006_             object \n",
            " 25  Q007              object \n",
            " 26  Q007_             object \n",
            " 27  Q008              object \n",
            " 28  Q008_             object \n",
            " 29  Q009              object \n",
            " 30  Q009_             object \n",
            " 31  Q010              object \n",
            " 32  Q010_             object \n",
            " 33  Q011              object \n",
            " 34  Q011_             object \n",
            " 35  Q012              object \n",
            " 36  Q012_             object \n",
            " 37  Q013              object \n",
            " 38  Q013_             object \n",
            " 39  Q014              object \n",
            " 40  Q014_             object \n",
            " 41  Q015              object \n",
            " 42  Q015_             object \n",
            " 43  Q016              object \n",
            " 44  Q016_             object \n",
            " 45  Q017              object \n",
            " 46  Q017_             object \n",
            " 47  Q018              object \n",
            " 48  Q019              object \n",
            " 49  Q019_             object \n",
            " 50  Q020              object \n",
            " 51  Q021              object \n",
            " 52  Q022              object \n",
            " 53  Q023              object \n",
            " 54  Q024              object \n",
            " 55  Q024_             object \n",
            " 56  Q025              object \n",
            " 57  Sum_TIC3          int64  \n",
            " 58  Sum_TIC3_         object \n",
            " 59  Sum_TIC5          int64  \n",
            " 60  Sum_TIC5_         object \n",
            " 61  Sum_Elet          int64  \n",
            " 62  Sum_Elet_         object \n",
            " 63  Esc_Max           object \n",
            " 64  Car_Mot           object \n",
            " 65  Car_Mot_          object \n",
            " 66  Tot_PtCasa        int64  \n",
            " 67  Tot_PtCasa_       object \n",
            " 68  RegGeo_Prova      object \n",
            " 69  Ter_Cel           int64  \n",
            " 70  Ter_Com           int64  \n",
            " 71  Sum_Target_2      int64  \n",
            "dtypes: float64(1), int64(15), object(56)\n",
            "memory usage: 1.0+ GB\n"
          ]
        }
      ]
    },
    {
      "cell_type": "markdown",
      "source": [
        "# **Análise das Categorias das Variáveis**"
      ],
      "metadata": {
        "id": "2YndI83d0Yzj"
      }
    },
    {
      "cell_type": "code",
      "source": [
        "table_categ = pd.DataFrame()\n",
        "totais_valid = pd.DataFrame()\n",
        "i = 0\n",
        "\n",
        "for column in df_varquali:\n",
        "  var = df_varquali.columns[i]\n",
        "  c1 = df_varquali[column].value_counts().sort_index()\n",
        "  c2 = round(df_varquali[column].value_counts().sort_index()/df_varquali.shape[0] * 100,2)\n",
        "  c3 = df_varquali.groupby([column])['Sum_Target_2'].sum()\n",
        "  c4 = round(c3/df_ft['Sum_Target_2'].sum() * 100, 2)\n",
        "  c5 = c1 - c3\n",
        "  c6 = round(c5/df_ft['Sum_Target_2'].loc[df_ft.Sum_Target_2 == 0].count() * 100, 2)\n",
        "  c7 = round(c3/c1 * 100, 2)\n",
        "  c8 = round(c4/c6,2)\n",
        "\n",
        "  table = pd.concat([c1, c2, c3, c4, c5, c6, c7, c8], axis=1)\n",
        "  table.columns = ['n', '% Total', 'n AD', '% AD Total','n BD', '% BD Total', '% AD Categoria', 'Razão AD/BD']\n",
        "\n",
        "  totais = round(table.sum())\n",
        "  totais_ = pd.DataFrame(data=totais, columns=['Total'])\n",
        "  totais_t = totais_.transpose()\n",
        "  totais_valid = pd.concat([totais_valid, totais_t])\n",
        "\n",
        "  table['Variavel'] = var\n",
        "  table_categ = pd.concat([table_categ, table])\n",
        "  i = i + 1\n",
        "\n",
        "  #n = table_categ.shape\n",
        "  #table_categ.loc[n[0]+1]=['','','','','',''] # Criar linha vazia entre as tabelas\n",
        "\n",
        "table_categ['Ano'] = 2022\n",
        "\n",
        "table_categ.to_excel('/content/drive/MyDrive/MBA_TCC/RESULTADOS/Table_Categorias_2022.xlsx')\n",
        "totais_valid.to_excel('/content/drive/MyDrive/MBA_TCC/RESULTADOS/Totais_Table_Categorias_2022.xlsx')"
      ],
      "metadata": {
        "id": "axxA261-eBba"
      },
      "execution_count": null,
      "outputs": []
    },
    {
      "cell_type": "markdown",
      "source": [
        "# **Análises Adicionais**"
      ],
      "metadata": {
        "id": "ECCS8445owAd"
      }
    },
    {
      "cell_type": "code",
      "source": [
        "df_teste = df_ft.loc[df_ft['Sum_Target_2'] == 1]\n",
        "df_teste.shape"
      ],
      "metadata": {
        "id": "wzEdYZ4TpOGi",
        "colab": {
          "base_uri": "https://localhost:8080/"
        },
        "outputId": "a0b06510-8f8c-45a8-cbe8-a10af66676fa"
      },
      "execution_count": null,
      "outputs": [
        {
          "output_type": "execute_result",
          "data": {
            "text/plain": [
              "(946529, 108)"
            ]
          },
          "metadata": {},
          "execution_count": 75
        }
      ]
    },
    {
      "cell_type": "code",
      "source": [
        "pd.crosstab(df_ft.TP_FAIXA_ETARIA,df_ft.TP_ST_CONCLUSAO, margins=True, dropna=False)"
      ],
      "metadata": {
        "id": "fppQXkH9o26H",
        "colab": {
          "base_uri": "https://localhost:8080/",
          "height": 739
        },
        "outputId": "d9c22866-062c-47c5-ff34-a8eb279d9d4d"
      },
      "execution_count": null,
      "outputs": [
        {
          "output_type": "execute_result",
          "data": {
            "text/plain": [
              "TP_ST_CONCLUSAO       1       2      All\n",
              "TP_FAIXA_ETARIA                         \n",
              "1                   619    8658     9277\n",
              "2                  4221  408741   412962\n",
              "3                137437  439606   577043\n",
              "4                199291   67107   266398\n",
              "5                133892   16814   150706\n",
              "6                 90374    5036    95410\n",
              "7                 65117    2184    67301\n",
              "8                 48440    1234    49674\n",
              "9                 35892     836    36728\n",
              "10                29429     653    30082\n",
              "11                85502    2219    87721\n",
              "12                45360    1456    46816\n",
              "13                32966    1165    34131\n",
              "14                22978     810    23788\n",
              "15                14686     539    15225\n",
              "16                 8900     348     9248\n",
              "17                 4880     229     5109\n",
              "18                 2018      56     2074\n",
              "19                  818      25      843\n",
              "20                  299      15      314\n",
              "All              963119  957731  1920850"
            ],
            "text/html": [
              "\n",
              "  <div id=\"df-49a9aea6-c869-43ff-b312-65e2dce9e8ec\">\n",
              "    <div class=\"colab-df-container\">\n",
              "      <div>\n",
              "<style scoped>\n",
              "    .dataframe tbody tr th:only-of-type {\n",
              "        vertical-align: middle;\n",
              "    }\n",
              "\n",
              "    .dataframe tbody tr th {\n",
              "        vertical-align: top;\n",
              "    }\n",
              "\n",
              "    .dataframe thead th {\n",
              "        text-align: right;\n",
              "    }\n",
              "</style>\n",
              "<table border=\"1\" class=\"dataframe\">\n",
              "  <thead>\n",
              "    <tr style=\"text-align: right;\">\n",
              "      <th>TP_ST_CONCLUSAO</th>\n",
              "      <th>1</th>\n",
              "      <th>2</th>\n",
              "      <th>All</th>\n",
              "    </tr>\n",
              "    <tr>\n",
              "      <th>TP_FAIXA_ETARIA</th>\n",
              "      <th></th>\n",
              "      <th></th>\n",
              "      <th></th>\n",
              "    </tr>\n",
              "  </thead>\n",
              "  <tbody>\n",
              "    <tr>\n",
              "      <th>1</th>\n",
              "      <td>619</td>\n",
              "      <td>8658</td>\n",
              "      <td>9277</td>\n",
              "    </tr>\n",
              "    <tr>\n",
              "      <th>2</th>\n",
              "      <td>4221</td>\n",
              "      <td>408741</td>\n",
              "      <td>412962</td>\n",
              "    </tr>\n",
              "    <tr>\n",
              "      <th>3</th>\n",
              "      <td>137437</td>\n",
              "      <td>439606</td>\n",
              "      <td>577043</td>\n",
              "    </tr>\n",
              "    <tr>\n",
              "      <th>4</th>\n",
              "      <td>199291</td>\n",
              "      <td>67107</td>\n",
              "      <td>266398</td>\n",
              "    </tr>\n",
              "    <tr>\n",
              "      <th>5</th>\n",
              "      <td>133892</td>\n",
              "      <td>16814</td>\n",
              "      <td>150706</td>\n",
              "    </tr>\n",
              "    <tr>\n",
              "      <th>6</th>\n",
              "      <td>90374</td>\n",
              "      <td>5036</td>\n",
              "      <td>95410</td>\n",
              "    </tr>\n",
              "    <tr>\n",
              "      <th>7</th>\n",
              "      <td>65117</td>\n",
              "      <td>2184</td>\n",
              "      <td>67301</td>\n",
              "    </tr>\n",
              "    <tr>\n",
              "      <th>8</th>\n",
              "      <td>48440</td>\n",
              "      <td>1234</td>\n",
              "      <td>49674</td>\n",
              "    </tr>\n",
              "    <tr>\n",
              "      <th>9</th>\n",
              "      <td>35892</td>\n",
              "      <td>836</td>\n",
              "      <td>36728</td>\n",
              "    </tr>\n",
              "    <tr>\n",
              "      <th>10</th>\n",
              "      <td>29429</td>\n",
              "      <td>653</td>\n",
              "      <td>30082</td>\n",
              "    </tr>\n",
              "    <tr>\n",
              "      <th>11</th>\n",
              "      <td>85502</td>\n",
              "      <td>2219</td>\n",
              "      <td>87721</td>\n",
              "    </tr>\n",
              "    <tr>\n",
              "      <th>12</th>\n",
              "      <td>45360</td>\n",
              "      <td>1456</td>\n",
              "      <td>46816</td>\n",
              "    </tr>\n",
              "    <tr>\n",
              "      <th>13</th>\n",
              "      <td>32966</td>\n",
              "      <td>1165</td>\n",
              "      <td>34131</td>\n",
              "    </tr>\n",
              "    <tr>\n",
              "      <th>14</th>\n",
              "      <td>22978</td>\n",
              "      <td>810</td>\n",
              "      <td>23788</td>\n",
              "    </tr>\n",
              "    <tr>\n",
              "      <th>15</th>\n",
              "      <td>14686</td>\n",
              "      <td>539</td>\n",
              "      <td>15225</td>\n",
              "    </tr>\n",
              "    <tr>\n",
              "      <th>16</th>\n",
              "      <td>8900</td>\n",
              "      <td>348</td>\n",
              "      <td>9248</td>\n",
              "    </tr>\n",
              "    <tr>\n",
              "      <th>17</th>\n",
              "      <td>4880</td>\n",
              "      <td>229</td>\n",
              "      <td>5109</td>\n",
              "    </tr>\n",
              "    <tr>\n",
              "      <th>18</th>\n",
              "      <td>2018</td>\n",
              "      <td>56</td>\n",
              "      <td>2074</td>\n",
              "    </tr>\n",
              "    <tr>\n",
              "      <th>19</th>\n",
              "      <td>818</td>\n",
              "      <td>25</td>\n",
              "      <td>843</td>\n",
              "    </tr>\n",
              "    <tr>\n",
              "      <th>20</th>\n",
              "      <td>299</td>\n",
              "      <td>15</td>\n",
              "      <td>314</td>\n",
              "    </tr>\n",
              "    <tr>\n",
              "      <th>All</th>\n",
              "      <td>963119</td>\n",
              "      <td>957731</td>\n",
              "      <td>1920850</td>\n",
              "    </tr>\n",
              "  </tbody>\n",
              "</table>\n",
              "</div>\n",
              "      <button class=\"colab-df-convert\" onclick=\"convertToInteractive('df-49a9aea6-c869-43ff-b312-65e2dce9e8ec')\"\n",
              "              title=\"Convert this dataframe to an interactive table.\"\n",
              "              style=\"display:none;\">\n",
              "        \n",
              "  <svg xmlns=\"http://www.w3.org/2000/svg\" height=\"24px\"viewBox=\"0 0 24 24\"\n",
              "       width=\"24px\">\n",
              "    <path d=\"M0 0h24v24H0V0z\" fill=\"none\"/>\n",
              "    <path d=\"M18.56 5.44l.94 2.06.94-2.06 2.06-.94-2.06-.94-.94-2.06-.94 2.06-2.06.94zm-11 1L8.5 8.5l.94-2.06 2.06-.94-2.06-.94L8.5 2.5l-.94 2.06-2.06.94zm10 10l.94 2.06.94-2.06 2.06-.94-2.06-.94-.94-2.06-.94 2.06-2.06.94z\"/><path d=\"M17.41 7.96l-1.37-1.37c-.4-.4-.92-.59-1.43-.59-.52 0-1.04.2-1.43.59L10.3 9.45l-7.72 7.72c-.78.78-.78 2.05 0 2.83L4 21.41c.39.39.9.59 1.41.59.51 0 1.02-.2 1.41-.59l7.78-7.78 2.81-2.81c.8-.78.8-2.07 0-2.86zM5.41 20L4 18.59l7.72-7.72 1.47 1.35L5.41 20z\"/>\n",
              "  </svg>\n",
              "      </button>\n",
              "      \n",
              "  <style>\n",
              "    .colab-df-container {\n",
              "      display:flex;\n",
              "      flex-wrap:wrap;\n",
              "      gap: 12px;\n",
              "    }\n",
              "\n",
              "    .colab-df-convert {\n",
              "      background-color: #E8F0FE;\n",
              "      border: none;\n",
              "      border-radius: 50%;\n",
              "      cursor: pointer;\n",
              "      display: none;\n",
              "      fill: #1967D2;\n",
              "      height: 32px;\n",
              "      padding: 0 0 0 0;\n",
              "      width: 32px;\n",
              "    }\n",
              "\n",
              "    .colab-df-convert:hover {\n",
              "      background-color: #E2EBFA;\n",
              "      box-shadow: 0px 1px 2px rgba(60, 64, 67, 0.3), 0px 1px 3px 1px rgba(60, 64, 67, 0.15);\n",
              "      fill: #174EA6;\n",
              "    }\n",
              "\n",
              "    [theme=dark] .colab-df-convert {\n",
              "      background-color: #3B4455;\n",
              "      fill: #D2E3FC;\n",
              "    }\n",
              "\n",
              "    [theme=dark] .colab-df-convert:hover {\n",
              "      background-color: #434B5C;\n",
              "      box-shadow: 0px 1px 3px 1px rgba(0, 0, 0, 0.15);\n",
              "      filter: drop-shadow(0px 1px 2px rgba(0, 0, 0, 0.3));\n",
              "      fill: #FFFFFF;\n",
              "    }\n",
              "  </style>\n",
              "\n",
              "      <script>\n",
              "        const buttonEl =\n",
              "          document.querySelector('#df-49a9aea6-c869-43ff-b312-65e2dce9e8ec button.colab-df-convert');\n",
              "        buttonEl.style.display =\n",
              "          google.colab.kernel.accessAllowed ? 'block' : 'none';\n",
              "\n",
              "        async function convertToInteractive(key) {\n",
              "          const element = document.querySelector('#df-49a9aea6-c869-43ff-b312-65e2dce9e8ec');\n",
              "          const dataTable =\n",
              "            await google.colab.kernel.invokeFunction('convertToInteractive',\n",
              "                                                     [key], {});\n",
              "          if (!dataTable) return;\n",
              "\n",
              "          const docLinkHtml = 'Like what you see? Visit the ' +\n",
              "            '<a target=\"_blank\" href=https://colab.research.google.com/notebooks/data_table.ipynb>data table notebook</a>'\n",
              "            + ' to learn more about interactive tables.';\n",
              "          element.innerHTML = '';\n",
              "          dataTable['output_type'] = 'display_data';\n",
              "          await google.colab.output.renderOutput(dataTable, element);\n",
              "          const docLink = document.createElement('div');\n",
              "          docLink.innerHTML = docLinkHtml;\n",
              "          element.appendChild(docLink);\n",
              "        }\n",
              "      </script>\n",
              "    </div>\n",
              "  </div>\n",
              "  "
            ]
          },
          "metadata": {},
          "execution_count": 76
        }
      ]
    },
    {
      "cell_type": "code",
      "source": [
        "pd.crosstab(df_teste.TP_FAIXA_ETARIA,df_teste.TP_ST_CONCLUSAO, margins=True, dropna=False)"
      ],
      "metadata": {
        "id": "6q2Q6n2fpTgz",
        "colab": {
          "base_uri": "https://localhost:8080/",
          "height": 739
        },
        "outputId": "adf2f680-0cc5-4ca4-d17d-de4a2270083e"
      },
      "execution_count": null,
      "outputs": [
        {
          "output_type": "execute_result",
          "data": {
            "text/plain": [
              "TP_ST_CONCLUSAO       1       2     All\n",
              "TP_FAIXA_ETARIA                        \n",
              "1                   408    4959    5367\n",
              "2                  2458  217015  219473\n",
              "3                 81553  199859  281412\n",
              "4                108845   20627  129472\n",
              "5                 70831    3995   74826\n",
              "6                 47043     999   48042\n",
              "7                 33639     344   33983\n",
              "8                 24771     150   24921\n",
              "9                 18016     102   18118\n",
              "10                14717      65   14782\n",
              "11                41570     236   41806\n",
              "12                21266     136   21402\n",
              "13                13745      66   13811\n",
              "14                 8275      73    8348\n",
              "15                 4951      48    4999\n",
              "16                 3020      22    3042\n",
              "17                 1706      20    1726\n",
              "18                  683       2     685\n",
              "19                  240       0     240\n",
              "20                   73       1      74\n",
              "All              497810  448719  946529"
            ],
            "text/html": [
              "\n",
              "  <div id=\"df-95d5d350-1567-4e83-8d7e-a685ed8d5863\">\n",
              "    <div class=\"colab-df-container\">\n",
              "      <div>\n",
              "<style scoped>\n",
              "    .dataframe tbody tr th:only-of-type {\n",
              "        vertical-align: middle;\n",
              "    }\n",
              "\n",
              "    .dataframe tbody tr th {\n",
              "        vertical-align: top;\n",
              "    }\n",
              "\n",
              "    .dataframe thead th {\n",
              "        text-align: right;\n",
              "    }\n",
              "</style>\n",
              "<table border=\"1\" class=\"dataframe\">\n",
              "  <thead>\n",
              "    <tr style=\"text-align: right;\">\n",
              "      <th>TP_ST_CONCLUSAO</th>\n",
              "      <th>1</th>\n",
              "      <th>2</th>\n",
              "      <th>All</th>\n",
              "    </tr>\n",
              "    <tr>\n",
              "      <th>TP_FAIXA_ETARIA</th>\n",
              "      <th></th>\n",
              "      <th></th>\n",
              "      <th></th>\n",
              "    </tr>\n",
              "  </thead>\n",
              "  <tbody>\n",
              "    <tr>\n",
              "      <th>1</th>\n",
              "      <td>408</td>\n",
              "      <td>4959</td>\n",
              "      <td>5367</td>\n",
              "    </tr>\n",
              "    <tr>\n",
              "      <th>2</th>\n",
              "      <td>2458</td>\n",
              "      <td>217015</td>\n",
              "      <td>219473</td>\n",
              "    </tr>\n",
              "    <tr>\n",
              "      <th>3</th>\n",
              "      <td>81553</td>\n",
              "      <td>199859</td>\n",
              "      <td>281412</td>\n",
              "    </tr>\n",
              "    <tr>\n",
              "      <th>4</th>\n",
              "      <td>108845</td>\n",
              "      <td>20627</td>\n",
              "      <td>129472</td>\n",
              "    </tr>\n",
              "    <tr>\n",
              "      <th>5</th>\n",
              "      <td>70831</td>\n",
              "      <td>3995</td>\n",
              "      <td>74826</td>\n",
              "    </tr>\n",
              "    <tr>\n",
              "      <th>6</th>\n",
              "      <td>47043</td>\n",
              "      <td>999</td>\n",
              "      <td>48042</td>\n",
              "    </tr>\n",
              "    <tr>\n",
              "      <th>7</th>\n",
              "      <td>33639</td>\n",
              "      <td>344</td>\n",
              "      <td>33983</td>\n",
              "    </tr>\n",
              "    <tr>\n",
              "      <th>8</th>\n",
              "      <td>24771</td>\n",
              "      <td>150</td>\n",
              "      <td>24921</td>\n",
              "    </tr>\n",
              "    <tr>\n",
              "      <th>9</th>\n",
              "      <td>18016</td>\n",
              "      <td>102</td>\n",
              "      <td>18118</td>\n",
              "    </tr>\n",
              "    <tr>\n",
              "      <th>10</th>\n",
              "      <td>14717</td>\n",
              "      <td>65</td>\n",
              "      <td>14782</td>\n",
              "    </tr>\n",
              "    <tr>\n",
              "      <th>11</th>\n",
              "      <td>41570</td>\n",
              "      <td>236</td>\n",
              "      <td>41806</td>\n",
              "    </tr>\n",
              "    <tr>\n",
              "      <th>12</th>\n",
              "      <td>21266</td>\n",
              "      <td>136</td>\n",
              "      <td>21402</td>\n",
              "    </tr>\n",
              "    <tr>\n",
              "      <th>13</th>\n",
              "      <td>13745</td>\n",
              "      <td>66</td>\n",
              "      <td>13811</td>\n",
              "    </tr>\n",
              "    <tr>\n",
              "      <th>14</th>\n",
              "      <td>8275</td>\n",
              "      <td>73</td>\n",
              "      <td>8348</td>\n",
              "    </tr>\n",
              "    <tr>\n",
              "      <th>15</th>\n",
              "      <td>4951</td>\n",
              "      <td>48</td>\n",
              "      <td>4999</td>\n",
              "    </tr>\n",
              "    <tr>\n",
              "      <th>16</th>\n",
              "      <td>3020</td>\n",
              "      <td>22</td>\n",
              "      <td>3042</td>\n",
              "    </tr>\n",
              "    <tr>\n",
              "      <th>17</th>\n",
              "      <td>1706</td>\n",
              "      <td>20</td>\n",
              "      <td>1726</td>\n",
              "    </tr>\n",
              "    <tr>\n",
              "      <th>18</th>\n",
              "      <td>683</td>\n",
              "      <td>2</td>\n",
              "      <td>685</td>\n",
              "    </tr>\n",
              "    <tr>\n",
              "      <th>19</th>\n",
              "      <td>240</td>\n",
              "      <td>0</td>\n",
              "      <td>240</td>\n",
              "    </tr>\n",
              "    <tr>\n",
              "      <th>20</th>\n",
              "      <td>73</td>\n",
              "      <td>1</td>\n",
              "      <td>74</td>\n",
              "    </tr>\n",
              "    <tr>\n",
              "      <th>All</th>\n",
              "      <td>497810</td>\n",
              "      <td>448719</td>\n",
              "      <td>946529</td>\n",
              "    </tr>\n",
              "  </tbody>\n",
              "</table>\n",
              "</div>\n",
              "      <button class=\"colab-df-convert\" onclick=\"convertToInteractive('df-95d5d350-1567-4e83-8d7e-a685ed8d5863')\"\n",
              "              title=\"Convert this dataframe to an interactive table.\"\n",
              "              style=\"display:none;\">\n",
              "        \n",
              "  <svg xmlns=\"http://www.w3.org/2000/svg\" height=\"24px\"viewBox=\"0 0 24 24\"\n",
              "       width=\"24px\">\n",
              "    <path d=\"M0 0h24v24H0V0z\" fill=\"none\"/>\n",
              "    <path d=\"M18.56 5.44l.94 2.06.94-2.06 2.06-.94-2.06-.94-.94-2.06-.94 2.06-2.06.94zm-11 1L8.5 8.5l.94-2.06 2.06-.94-2.06-.94L8.5 2.5l-.94 2.06-2.06.94zm10 10l.94 2.06.94-2.06 2.06-.94-2.06-.94-.94-2.06-.94 2.06-2.06.94z\"/><path d=\"M17.41 7.96l-1.37-1.37c-.4-.4-.92-.59-1.43-.59-.52 0-1.04.2-1.43.59L10.3 9.45l-7.72 7.72c-.78.78-.78 2.05 0 2.83L4 21.41c.39.39.9.59 1.41.59.51 0 1.02-.2 1.41-.59l7.78-7.78 2.81-2.81c.8-.78.8-2.07 0-2.86zM5.41 20L4 18.59l7.72-7.72 1.47 1.35L5.41 20z\"/>\n",
              "  </svg>\n",
              "      </button>\n",
              "      \n",
              "  <style>\n",
              "    .colab-df-container {\n",
              "      display:flex;\n",
              "      flex-wrap:wrap;\n",
              "      gap: 12px;\n",
              "    }\n",
              "\n",
              "    .colab-df-convert {\n",
              "      background-color: #E8F0FE;\n",
              "      border: none;\n",
              "      border-radius: 50%;\n",
              "      cursor: pointer;\n",
              "      display: none;\n",
              "      fill: #1967D2;\n",
              "      height: 32px;\n",
              "      padding: 0 0 0 0;\n",
              "      width: 32px;\n",
              "    }\n",
              "\n",
              "    .colab-df-convert:hover {\n",
              "      background-color: #E2EBFA;\n",
              "      box-shadow: 0px 1px 2px rgba(60, 64, 67, 0.3), 0px 1px 3px 1px rgba(60, 64, 67, 0.15);\n",
              "      fill: #174EA6;\n",
              "    }\n",
              "\n",
              "    [theme=dark] .colab-df-convert {\n",
              "      background-color: #3B4455;\n",
              "      fill: #D2E3FC;\n",
              "    }\n",
              "\n",
              "    [theme=dark] .colab-df-convert:hover {\n",
              "      background-color: #434B5C;\n",
              "      box-shadow: 0px 1px 3px 1px rgba(0, 0, 0, 0.15);\n",
              "      filter: drop-shadow(0px 1px 2px rgba(0, 0, 0, 0.3));\n",
              "      fill: #FFFFFF;\n",
              "    }\n",
              "  </style>\n",
              "\n",
              "      <script>\n",
              "        const buttonEl =\n",
              "          document.querySelector('#df-95d5d350-1567-4e83-8d7e-a685ed8d5863 button.colab-df-convert');\n",
              "        buttonEl.style.display =\n",
              "          google.colab.kernel.accessAllowed ? 'block' : 'none';\n",
              "\n",
              "        async function convertToInteractive(key) {\n",
              "          const element = document.querySelector('#df-95d5d350-1567-4e83-8d7e-a685ed8d5863');\n",
              "          const dataTable =\n",
              "            await google.colab.kernel.invokeFunction('convertToInteractive',\n",
              "                                                     [key], {});\n",
              "          if (!dataTable) return;\n",
              "\n",
              "          const docLinkHtml = 'Like what you see? Visit the ' +\n",
              "            '<a target=\"_blank\" href=https://colab.research.google.com/notebooks/data_table.ipynb>data table notebook</a>'\n",
              "            + ' to learn more about interactive tables.';\n",
              "          element.innerHTML = '';\n",
              "          dataTable['output_type'] = 'display_data';\n",
              "          await google.colab.output.renderOutput(dataTable, element);\n",
              "          const docLink = document.createElement('div');\n",
              "          docLink.innerHTML = docLinkHtml;\n",
              "          element.appendChild(docLink);\n",
              "        }\n",
              "      </script>\n",
              "    </div>\n",
              "  </div>\n",
              "  "
            ]
          },
          "metadata": {},
          "execution_count": 77
        }
      ]
    },
    {
      "cell_type": "code",
      "source": [
        "pd.crosstab(df_ft.Q001,df_ft.Q002, margins=True, dropna=False)"
      ],
      "metadata": {
        "id": "1q7qxwGTZC2E",
        "colab": {
          "base_uri": "https://localhost:8080/",
          "height": 363
        },
        "outputId": "21907096-9bc8-419f-a02b-48a5a57c7e23"
      },
      "execution_count": null,
      "outputs": [
        {
          "output_type": "execute_result",
          "data": {
            "text/plain": [
              "Q002      A       B       C       D       E       F       G      H      All\n",
              "Q001                                                                       \n",
              "A     22824   21990    8177    5142    8381    1271     895    935    69615\n",
              "B     10759  121042   48906   38060   71370   12532    9774   2870   315313\n",
              "C      3357   24153   66707   40798   81103   16430   13773   2479   248800\n",
              "D      1502   13773   25227   55068   81872   20303   16073   2302   216120\n",
              "E      2005   20351   33672   55189  310291   86474   66366   5933   580281\n",
              "F       213    2215    3940    7501   60470   66465   42764   1119   184687\n",
              "G        94     893    1612    3166   26673   30682   65130    861   129111\n",
              "H      2667   16228   16961   20802   57719   13482   10327  38737   176923\n",
              "All   43421  220645  205202  225726  697879  247639  225102  55236  1920850"
            ],
            "text/html": [
              "\n",
              "  <div id=\"df-53c0914d-9f8d-4f71-a4c7-a95752855623\">\n",
              "    <div class=\"colab-df-container\">\n",
              "      <div>\n",
              "<style scoped>\n",
              "    .dataframe tbody tr th:only-of-type {\n",
              "        vertical-align: middle;\n",
              "    }\n",
              "\n",
              "    .dataframe tbody tr th {\n",
              "        vertical-align: top;\n",
              "    }\n",
              "\n",
              "    .dataframe thead th {\n",
              "        text-align: right;\n",
              "    }\n",
              "</style>\n",
              "<table border=\"1\" class=\"dataframe\">\n",
              "  <thead>\n",
              "    <tr style=\"text-align: right;\">\n",
              "      <th>Q002</th>\n",
              "      <th>A</th>\n",
              "      <th>B</th>\n",
              "      <th>C</th>\n",
              "      <th>D</th>\n",
              "      <th>E</th>\n",
              "      <th>F</th>\n",
              "      <th>G</th>\n",
              "      <th>H</th>\n",
              "      <th>All</th>\n",
              "    </tr>\n",
              "    <tr>\n",
              "      <th>Q001</th>\n",
              "      <th></th>\n",
              "      <th></th>\n",
              "      <th></th>\n",
              "      <th></th>\n",
              "      <th></th>\n",
              "      <th></th>\n",
              "      <th></th>\n",
              "      <th></th>\n",
              "      <th></th>\n",
              "    </tr>\n",
              "  </thead>\n",
              "  <tbody>\n",
              "    <tr>\n",
              "      <th>A</th>\n",
              "      <td>22824</td>\n",
              "      <td>21990</td>\n",
              "      <td>8177</td>\n",
              "      <td>5142</td>\n",
              "      <td>8381</td>\n",
              "      <td>1271</td>\n",
              "      <td>895</td>\n",
              "      <td>935</td>\n",
              "      <td>69615</td>\n",
              "    </tr>\n",
              "    <tr>\n",
              "      <th>B</th>\n",
              "      <td>10759</td>\n",
              "      <td>121042</td>\n",
              "      <td>48906</td>\n",
              "      <td>38060</td>\n",
              "      <td>71370</td>\n",
              "      <td>12532</td>\n",
              "      <td>9774</td>\n",
              "      <td>2870</td>\n",
              "      <td>315313</td>\n",
              "    </tr>\n",
              "    <tr>\n",
              "      <th>C</th>\n",
              "      <td>3357</td>\n",
              "      <td>24153</td>\n",
              "      <td>66707</td>\n",
              "      <td>40798</td>\n",
              "      <td>81103</td>\n",
              "      <td>16430</td>\n",
              "      <td>13773</td>\n",
              "      <td>2479</td>\n",
              "      <td>248800</td>\n",
              "    </tr>\n",
              "    <tr>\n",
              "      <th>D</th>\n",
              "      <td>1502</td>\n",
              "      <td>13773</td>\n",
              "      <td>25227</td>\n",
              "      <td>55068</td>\n",
              "      <td>81872</td>\n",
              "      <td>20303</td>\n",
              "      <td>16073</td>\n",
              "      <td>2302</td>\n",
              "      <td>216120</td>\n",
              "    </tr>\n",
              "    <tr>\n",
              "      <th>E</th>\n",
              "      <td>2005</td>\n",
              "      <td>20351</td>\n",
              "      <td>33672</td>\n",
              "      <td>55189</td>\n",
              "      <td>310291</td>\n",
              "      <td>86474</td>\n",
              "      <td>66366</td>\n",
              "      <td>5933</td>\n",
              "      <td>580281</td>\n",
              "    </tr>\n",
              "    <tr>\n",
              "      <th>F</th>\n",
              "      <td>213</td>\n",
              "      <td>2215</td>\n",
              "      <td>3940</td>\n",
              "      <td>7501</td>\n",
              "      <td>60470</td>\n",
              "      <td>66465</td>\n",
              "      <td>42764</td>\n",
              "      <td>1119</td>\n",
              "      <td>184687</td>\n",
              "    </tr>\n",
              "    <tr>\n",
              "      <th>G</th>\n",
              "      <td>94</td>\n",
              "      <td>893</td>\n",
              "      <td>1612</td>\n",
              "      <td>3166</td>\n",
              "      <td>26673</td>\n",
              "      <td>30682</td>\n",
              "      <td>65130</td>\n",
              "      <td>861</td>\n",
              "      <td>129111</td>\n",
              "    </tr>\n",
              "    <tr>\n",
              "      <th>H</th>\n",
              "      <td>2667</td>\n",
              "      <td>16228</td>\n",
              "      <td>16961</td>\n",
              "      <td>20802</td>\n",
              "      <td>57719</td>\n",
              "      <td>13482</td>\n",
              "      <td>10327</td>\n",
              "      <td>38737</td>\n",
              "      <td>176923</td>\n",
              "    </tr>\n",
              "    <tr>\n",
              "      <th>All</th>\n",
              "      <td>43421</td>\n",
              "      <td>220645</td>\n",
              "      <td>205202</td>\n",
              "      <td>225726</td>\n",
              "      <td>697879</td>\n",
              "      <td>247639</td>\n",
              "      <td>225102</td>\n",
              "      <td>55236</td>\n",
              "      <td>1920850</td>\n",
              "    </tr>\n",
              "  </tbody>\n",
              "</table>\n",
              "</div>\n",
              "      <button class=\"colab-df-convert\" onclick=\"convertToInteractive('df-53c0914d-9f8d-4f71-a4c7-a95752855623')\"\n",
              "              title=\"Convert this dataframe to an interactive table.\"\n",
              "              style=\"display:none;\">\n",
              "        \n",
              "  <svg xmlns=\"http://www.w3.org/2000/svg\" height=\"24px\"viewBox=\"0 0 24 24\"\n",
              "       width=\"24px\">\n",
              "    <path d=\"M0 0h24v24H0V0z\" fill=\"none\"/>\n",
              "    <path d=\"M18.56 5.44l.94 2.06.94-2.06 2.06-.94-2.06-.94-.94-2.06-.94 2.06-2.06.94zm-11 1L8.5 8.5l.94-2.06 2.06-.94-2.06-.94L8.5 2.5l-.94 2.06-2.06.94zm10 10l.94 2.06.94-2.06 2.06-.94-2.06-.94-.94-2.06-.94 2.06-2.06.94z\"/><path d=\"M17.41 7.96l-1.37-1.37c-.4-.4-.92-.59-1.43-.59-.52 0-1.04.2-1.43.59L10.3 9.45l-7.72 7.72c-.78.78-.78 2.05 0 2.83L4 21.41c.39.39.9.59 1.41.59.51 0 1.02-.2 1.41-.59l7.78-7.78 2.81-2.81c.8-.78.8-2.07 0-2.86zM5.41 20L4 18.59l7.72-7.72 1.47 1.35L5.41 20z\"/>\n",
              "  </svg>\n",
              "      </button>\n",
              "      \n",
              "  <style>\n",
              "    .colab-df-container {\n",
              "      display:flex;\n",
              "      flex-wrap:wrap;\n",
              "      gap: 12px;\n",
              "    }\n",
              "\n",
              "    .colab-df-convert {\n",
              "      background-color: #E8F0FE;\n",
              "      border: none;\n",
              "      border-radius: 50%;\n",
              "      cursor: pointer;\n",
              "      display: none;\n",
              "      fill: #1967D2;\n",
              "      height: 32px;\n",
              "      padding: 0 0 0 0;\n",
              "      width: 32px;\n",
              "    }\n",
              "\n",
              "    .colab-df-convert:hover {\n",
              "      background-color: #E2EBFA;\n",
              "      box-shadow: 0px 1px 2px rgba(60, 64, 67, 0.3), 0px 1px 3px 1px rgba(60, 64, 67, 0.15);\n",
              "      fill: #174EA6;\n",
              "    }\n",
              "\n",
              "    [theme=dark] .colab-df-convert {\n",
              "      background-color: #3B4455;\n",
              "      fill: #D2E3FC;\n",
              "    }\n",
              "\n",
              "    [theme=dark] .colab-df-convert:hover {\n",
              "      background-color: #434B5C;\n",
              "      box-shadow: 0px 1px 3px 1px rgba(0, 0, 0, 0.15);\n",
              "      filter: drop-shadow(0px 1px 2px rgba(0, 0, 0, 0.3));\n",
              "      fill: #FFFFFF;\n",
              "    }\n",
              "  </style>\n",
              "\n",
              "      <script>\n",
              "        const buttonEl =\n",
              "          document.querySelector('#df-53c0914d-9f8d-4f71-a4c7-a95752855623 button.colab-df-convert');\n",
              "        buttonEl.style.display =\n",
              "          google.colab.kernel.accessAllowed ? 'block' : 'none';\n",
              "\n",
              "        async function convertToInteractive(key) {\n",
              "          const element = document.querySelector('#df-53c0914d-9f8d-4f71-a4c7-a95752855623');\n",
              "          const dataTable =\n",
              "            await google.colab.kernel.invokeFunction('convertToInteractive',\n",
              "                                                     [key], {});\n",
              "          if (!dataTable) return;\n",
              "\n",
              "          const docLinkHtml = 'Like what you see? Visit the ' +\n",
              "            '<a target=\"_blank\" href=https://colab.research.google.com/notebooks/data_table.ipynb>data table notebook</a>'\n",
              "            + ' to learn more about interactive tables.';\n",
              "          element.innerHTML = '';\n",
              "          dataTable['output_type'] = 'display_data';\n",
              "          await google.colab.output.renderOutput(dataTable, element);\n",
              "          const docLink = document.createElement('div');\n",
              "          docLink.innerHTML = docLinkHtml;\n",
              "          element.appendChild(docLink);\n",
              "        }\n",
              "      </script>\n",
              "    </div>\n",
              "  </div>\n",
              "  "
            ]
          },
          "metadata": {},
          "execution_count": 78
        }
      ]
    },
    {
      "cell_type": "code",
      "source": [
        "pd.crosstab(df_teste.Q001,df_teste.Q002, margins=True, dropna=False)"
      ],
      "metadata": {
        "id": "Pllxp5rQZdoH",
        "colab": {
          "base_uri": "https://localhost:8080/",
          "height": 363
        },
        "outputId": "946c8ac0-0950-451c-e1da-8885449c8550"
      },
      "execution_count": null,
      "outputs": [
        {
          "output_type": "execute_result",
          "data": {
            "text/plain": [
              "Q002     A      B      C      D       E       F       G      H     All\n",
              "Q001                                                                  \n",
              "A     3636   5096   2144   1359    2469     501     369    143   15717\n",
              "B     2497  32626  15487  13213   27600    6046    4868    655  102992\n",
              "C      888   8353  22433  15486   36721    9286    7939    693  101799\n",
              "D      390   5049  10331  19861   39042   12220    9849    742   97484\n",
              "E      514   7997  15158  26255  162968   58397   46597   2218  320104\n",
              "F       90   1103   2382   4636   42745   53406   35826    653  140841\n",
              "G       40    406    845   1856   18942   26193   54838    513  103633\n",
              "H      558   4380   5260   6878   23311    7765    6011   9796   63959\n",
              "All   8613  65010  74040  89544  353798  173814  166297  15413  946529"
            ],
            "text/html": [
              "\n",
              "  <div id=\"df-1ae7f549-f8ba-4a4b-9b5a-4809625c896d\">\n",
              "    <div class=\"colab-df-container\">\n",
              "      <div>\n",
              "<style scoped>\n",
              "    .dataframe tbody tr th:only-of-type {\n",
              "        vertical-align: middle;\n",
              "    }\n",
              "\n",
              "    .dataframe tbody tr th {\n",
              "        vertical-align: top;\n",
              "    }\n",
              "\n",
              "    .dataframe thead th {\n",
              "        text-align: right;\n",
              "    }\n",
              "</style>\n",
              "<table border=\"1\" class=\"dataframe\">\n",
              "  <thead>\n",
              "    <tr style=\"text-align: right;\">\n",
              "      <th>Q002</th>\n",
              "      <th>A</th>\n",
              "      <th>B</th>\n",
              "      <th>C</th>\n",
              "      <th>D</th>\n",
              "      <th>E</th>\n",
              "      <th>F</th>\n",
              "      <th>G</th>\n",
              "      <th>H</th>\n",
              "      <th>All</th>\n",
              "    </tr>\n",
              "    <tr>\n",
              "      <th>Q001</th>\n",
              "      <th></th>\n",
              "      <th></th>\n",
              "      <th></th>\n",
              "      <th></th>\n",
              "      <th></th>\n",
              "      <th></th>\n",
              "      <th></th>\n",
              "      <th></th>\n",
              "      <th></th>\n",
              "    </tr>\n",
              "  </thead>\n",
              "  <tbody>\n",
              "    <tr>\n",
              "      <th>A</th>\n",
              "      <td>3636</td>\n",
              "      <td>5096</td>\n",
              "      <td>2144</td>\n",
              "      <td>1359</td>\n",
              "      <td>2469</td>\n",
              "      <td>501</td>\n",
              "      <td>369</td>\n",
              "      <td>143</td>\n",
              "      <td>15717</td>\n",
              "    </tr>\n",
              "    <tr>\n",
              "      <th>B</th>\n",
              "      <td>2497</td>\n",
              "      <td>32626</td>\n",
              "      <td>15487</td>\n",
              "      <td>13213</td>\n",
              "      <td>27600</td>\n",
              "      <td>6046</td>\n",
              "      <td>4868</td>\n",
              "      <td>655</td>\n",
              "      <td>102992</td>\n",
              "    </tr>\n",
              "    <tr>\n",
              "      <th>C</th>\n",
              "      <td>888</td>\n",
              "      <td>8353</td>\n",
              "      <td>22433</td>\n",
              "      <td>15486</td>\n",
              "      <td>36721</td>\n",
              "      <td>9286</td>\n",
              "      <td>7939</td>\n",
              "      <td>693</td>\n",
              "      <td>101799</td>\n",
              "    </tr>\n",
              "    <tr>\n",
              "      <th>D</th>\n",
              "      <td>390</td>\n",
              "      <td>5049</td>\n",
              "      <td>10331</td>\n",
              "      <td>19861</td>\n",
              "      <td>39042</td>\n",
              "      <td>12220</td>\n",
              "      <td>9849</td>\n",
              "      <td>742</td>\n",
              "      <td>97484</td>\n",
              "    </tr>\n",
              "    <tr>\n",
              "      <th>E</th>\n",
              "      <td>514</td>\n",
              "      <td>7997</td>\n",
              "      <td>15158</td>\n",
              "      <td>26255</td>\n",
              "      <td>162968</td>\n",
              "      <td>58397</td>\n",
              "      <td>46597</td>\n",
              "      <td>2218</td>\n",
              "      <td>320104</td>\n",
              "    </tr>\n",
              "    <tr>\n",
              "      <th>F</th>\n",
              "      <td>90</td>\n",
              "      <td>1103</td>\n",
              "      <td>2382</td>\n",
              "      <td>4636</td>\n",
              "      <td>42745</td>\n",
              "      <td>53406</td>\n",
              "      <td>35826</td>\n",
              "      <td>653</td>\n",
              "      <td>140841</td>\n",
              "    </tr>\n",
              "    <tr>\n",
              "      <th>G</th>\n",
              "      <td>40</td>\n",
              "      <td>406</td>\n",
              "      <td>845</td>\n",
              "      <td>1856</td>\n",
              "      <td>18942</td>\n",
              "      <td>26193</td>\n",
              "      <td>54838</td>\n",
              "      <td>513</td>\n",
              "      <td>103633</td>\n",
              "    </tr>\n",
              "    <tr>\n",
              "      <th>H</th>\n",
              "      <td>558</td>\n",
              "      <td>4380</td>\n",
              "      <td>5260</td>\n",
              "      <td>6878</td>\n",
              "      <td>23311</td>\n",
              "      <td>7765</td>\n",
              "      <td>6011</td>\n",
              "      <td>9796</td>\n",
              "      <td>63959</td>\n",
              "    </tr>\n",
              "    <tr>\n",
              "      <th>All</th>\n",
              "      <td>8613</td>\n",
              "      <td>65010</td>\n",
              "      <td>74040</td>\n",
              "      <td>89544</td>\n",
              "      <td>353798</td>\n",
              "      <td>173814</td>\n",
              "      <td>166297</td>\n",
              "      <td>15413</td>\n",
              "      <td>946529</td>\n",
              "    </tr>\n",
              "  </tbody>\n",
              "</table>\n",
              "</div>\n",
              "      <button class=\"colab-df-convert\" onclick=\"convertToInteractive('df-1ae7f549-f8ba-4a4b-9b5a-4809625c896d')\"\n",
              "              title=\"Convert this dataframe to an interactive table.\"\n",
              "              style=\"display:none;\">\n",
              "        \n",
              "  <svg xmlns=\"http://www.w3.org/2000/svg\" height=\"24px\"viewBox=\"0 0 24 24\"\n",
              "       width=\"24px\">\n",
              "    <path d=\"M0 0h24v24H0V0z\" fill=\"none\"/>\n",
              "    <path d=\"M18.56 5.44l.94 2.06.94-2.06 2.06-.94-2.06-.94-.94-2.06-.94 2.06-2.06.94zm-11 1L8.5 8.5l.94-2.06 2.06-.94-2.06-.94L8.5 2.5l-.94 2.06-2.06.94zm10 10l.94 2.06.94-2.06 2.06-.94-2.06-.94-.94-2.06-.94 2.06-2.06.94z\"/><path d=\"M17.41 7.96l-1.37-1.37c-.4-.4-.92-.59-1.43-.59-.52 0-1.04.2-1.43.59L10.3 9.45l-7.72 7.72c-.78.78-.78 2.05 0 2.83L4 21.41c.39.39.9.59 1.41.59.51 0 1.02-.2 1.41-.59l7.78-7.78 2.81-2.81c.8-.78.8-2.07 0-2.86zM5.41 20L4 18.59l7.72-7.72 1.47 1.35L5.41 20z\"/>\n",
              "  </svg>\n",
              "      </button>\n",
              "      \n",
              "  <style>\n",
              "    .colab-df-container {\n",
              "      display:flex;\n",
              "      flex-wrap:wrap;\n",
              "      gap: 12px;\n",
              "    }\n",
              "\n",
              "    .colab-df-convert {\n",
              "      background-color: #E8F0FE;\n",
              "      border: none;\n",
              "      border-radius: 50%;\n",
              "      cursor: pointer;\n",
              "      display: none;\n",
              "      fill: #1967D2;\n",
              "      height: 32px;\n",
              "      padding: 0 0 0 0;\n",
              "      width: 32px;\n",
              "    }\n",
              "\n",
              "    .colab-df-convert:hover {\n",
              "      background-color: #E2EBFA;\n",
              "      box-shadow: 0px 1px 2px rgba(60, 64, 67, 0.3), 0px 1px 3px 1px rgba(60, 64, 67, 0.15);\n",
              "      fill: #174EA6;\n",
              "    }\n",
              "\n",
              "    [theme=dark] .colab-df-convert {\n",
              "      background-color: #3B4455;\n",
              "      fill: #D2E3FC;\n",
              "    }\n",
              "\n",
              "    [theme=dark] .colab-df-convert:hover {\n",
              "      background-color: #434B5C;\n",
              "      box-shadow: 0px 1px 3px 1px rgba(0, 0, 0, 0.15);\n",
              "      filter: drop-shadow(0px 1px 2px rgba(0, 0, 0, 0.3));\n",
              "      fill: #FFFFFF;\n",
              "    }\n",
              "  </style>\n",
              "\n",
              "      <script>\n",
              "        const buttonEl =\n",
              "          document.querySelector('#df-1ae7f549-f8ba-4a4b-9b5a-4809625c896d button.colab-df-convert');\n",
              "        buttonEl.style.display =\n",
              "          google.colab.kernel.accessAllowed ? 'block' : 'none';\n",
              "\n",
              "        async function convertToInteractive(key) {\n",
              "          const element = document.querySelector('#df-1ae7f549-f8ba-4a4b-9b5a-4809625c896d');\n",
              "          const dataTable =\n",
              "            await google.colab.kernel.invokeFunction('convertToInteractive',\n",
              "                                                     [key], {});\n",
              "          if (!dataTable) return;\n",
              "\n",
              "          const docLinkHtml = 'Like what you see? Visit the ' +\n",
              "            '<a target=\"_blank\" href=https://colab.research.google.com/notebooks/data_table.ipynb>data table notebook</a>'\n",
              "            + ' to learn more about interactive tables.';\n",
              "          element.innerHTML = '';\n",
              "          dataTable['output_type'] = 'display_data';\n",
              "          await google.colab.output.renderOutput(dataTable, element);\n",
              "          const docLink = document.createElement('div');\n",
              "          docLink.innerHTML = docLinkHtml;\n",
              "          element.appendChild(docLink);\n",
              "        }\n",
              "      </script>\n",
              "    </div>\n",
              "  </div>\n",
              "  "
            ]
          },
          "metadata": {},
          "execution_count": 79
        }
      ]
    },
    {
      "cell_type": "code",
      "source": [
        "pd.crosstab(df_ft.Q010,df_ft.Q011, margins=True, dropna=False)"
      ],
      "metadata": {
        "id": "u_E863-ec1BF",
        "colab": {
          "base_uri": "https://localhost:8080/",
          "height": 269
        },
        "outputId": "89233730-5fd7-4999-e74a-13777527fc80"
      },
      "execution_count": null,
      "outputs": [
        {
          "output_type": "execute_result",
          "data": {
            "text/plain": [
              "Q011        A       B      C     D    E      All\n",
              "Q010                                            \n",
              "A      738992  205807  18299  1265  139   964502\n",
              "B      552546  179587  22386  2055  262   756836\n",
              "C      136132   31205   5928   840  197   174302\n",
              "D       15610    3765   1022   277   85    20759\n",
              "E        2904     896    379   123  149     4451\n",
              "All   1446184  421260  48014  4560  832  1920850"
            ],
            "text/html": [
              "\n",
              "  <div id=\"df-38548642-7110-4fb6-9ea8-adab2085dbfc\">\n",
              "    <div class=\"colab-df-container\">\n",
              "      <div>\n",
              "<style scoped>\n",
              "    .dataframe tbody tr th:only-of-type {\n",
              "        vertical-align: middle;\n",
              "    }\n",
              "\n",
              "    .dataframe tbody tr th {\n",
              "        vertical-align: top;\n",
              "    }\n",
              "\n",
              "    .dataframe thead th {\n",
              "        text-align: right;\n",
              "    }\n",
              "</style>\n",
              "<table border=\"1\" class=\"dataframe\">\n",
              "  <thead>\n",
              "    <tr style=\"text-align: right;\">\n",
              "      <th>Q011</th>\n",
              "      <th>A</th>\n",
              "      <th>B</th>\n",
              "      <th>C</th>\n",
              "      <th>D</th>\n",
              "      <th>E</th>\n",
              "      <th>All</th>\n",
              "    </tr>\n",
              "    <tr>\n",
              "      <th>Q010</th>\n",
              "      <th></th>\n",
              "      <th></th>\n",
              "      <th></th>\n",
              "      <th></th>\n",
              "      <th></th>\n",
              "      <th></th>\n",
              "    </tr>\n",
              "  </thead>\n",
              "  <tbody>\n",
              "    <tr>\n",
              "      <th>A</th>\n",
              "      <td>738992</td>\n",
              "      <td>205807</td>\n",
              "      <td>18299</td>\n",
              "      <td>1265</td>\n",
              "      <td>139</td>\n",
              "      <td>964502</td>\n",
              "    </tr>\n",
              "    <tr>\n",
              "      <th>B</th>\n",
              "      <td>552546</td>\n",
              "      <td>179587</td>\n",
              "      <td>22386</td>\n",
              "      <td>2055</td>\n",
              "      <td>262</td>\n",
              "      <td>756836</td>\n",
              "    </tr>\n",
              "    <tr>\n",
              "      <th>C</th>\n",
              "      <td>136132</td>\n",
              "      <td>31205</td>\n",
              "      <td>5928</td>\n",
              "      <td>840</td>\n",
              "      <td>197</td>\n",
              "      <td>174302</td>\n",
              "    </tr>\n",
              "    <tr>\n",
              "      <th>D</th>\n",
              "      <td>15610</td>\n",
              "      <td>3765</td>\n",
              "      <td>1022</td>\n",
              "      <td>277</td>\n",
              "      <td>85</td>\n",
              "      <td>20759</td>\n",
              "    </tr>\n",
              "    <tr>\n",
              "      <th>E</th>\n",
              "      <td>2904</td>\n",
              "      <td>896</td>\n",
              "      <td>379</td>\n",
              "      <td>123</td>\n",
              "      <td>149</td>\n",
              "      <td>4451</td>\n",
              "    </tr>\n",
              "    <tr>\n",
              "      <th>All</th>\n",
              "      <td>1446184</td>\n",
              "      <td>421260</td>\n",
              "      <td>48014</td>\n",
              "      <td>4560</td>\n",
              "      <td>832</td>\n",
              "      <td>1920850</td>\n",
              "    </tr>\n",
              "  </tbody>\n",
              "</table>\n",
              "</div>\n",
              "      <button class=\"colab-df-convert\" onclick=\"convertToInteractive('df-38548642-7110-4fb6-9ea8-adab2085dbfc')\"\n",
              "              title=\"Convert this dataframe to an interactive table.\"\n",
              "              style=\"display:none;\">\n",
              "        \n",
              "  <svg xmlns=\"http://www.w3.org/2000/svg\" height=\"24px\"viewBox=\"0 0 24 24\"\n",
              "       width=\"24px\">\n",
              "    <path d=\"M0 0h24v24H0V0z\" fill=\"none\"/>\n",
              "    <path d=\"M18.56 5.44l.94 2.06.94-2.06 2.06-.94-2.06-.94-.94-2.06-.94 2.06-2.06.94zm-11 1L8.5 8.5l.94-2.06 2.06-.94-2.06-.94L8.5 2.5l-.94 2.06-2.06.94zm10 10l.94 2.06.94-2.06 2.06-.94-2.06-.94-.94-2.06-.94 2.06-2.06.94z\"/><path d=\"M17.41 7.96l-1.37-1.37c-.4-.4-.92-.59-1.43-.59-.52 0-1.04.2-1.43.59L10.3 9.45l-7.72 7.72c-.78.78-.78 2.05 0 2.83L4 21.41c.39.39.9.59 1.41.59.51 0 1.02-.2 1.41-.59l7.78-7.78 2.81-2.81c.8-.78.8-2.07 0-2.86zM5.41 20L4 18.59l7.72-7.72 1.47 1.35L5.41 20z\"/>\n",
              "  </svg>\n",
              "      </button>\n",
              "      \n",
              "  <style>\n",
              "    .colab-df-container {\n",
              "      display:flex;\n",
              "      flex-wrap:wrap;\n",
              "      gap: 12px;\n",
              "    }\n",
              "\n",
              "    .colab-df-convert {\n",
              "      background-color: #E8F0FE;\n",
              "      border: none;\n",
              "      border-radius: 50%;\n",
              "      cursor: pointer;\n",
              "      display: none;\n",
              "      fill: #1967D2;\n",
              "      height: 32px;\n",
              "      padding: 0 0 0 0;\n",
              "      width: 32px;\n",
              "    }\n",
              "\n",
              "    .colab-df-convert:hover {\n",
              "      background-color: #E2EBFA;\n",
              "      box-shadow: 0px 1px 2px rgba(60, 64, 67, 0.3), 0px 1px 3px 1px rgba(60, 64, 67, 0.15);\n",
              "      fill: #174EA6;\n",
              "    }\n",
              "\n",
              "    [theme=dark] .colab-df-convert {\n",
              "      background-color: #3B4455;\n",
              "      fill: #D2E3FC;\n",
              "    }\n",
              "\n",
              "    [theme=dark] .colab-df-convert:hover {\n",
              "      background-color: #434B5C;\n",
              "      box-shadow: 0px 1px 3px 1px rgba(0, 0, 0, 0.15);\n",
              "      filter: drop-shadow(0px 1px 2px rgba(0, 0, 0, 0.3));\n",
              "      fill: #FFFFFF;\n",
              "    }\n",
              "  </style>\n",
              "\n",
              "      <script>\n",
              "        const buttonEl =\n",
              "          document.querySelector('#df-38548642-7110-4fb6-9ea8-adab2085dbfc button.colab-df-convert');\n",
              "        buttonEl.style.display =\n",
              "          google.colab.kernel.accessAllowed ? 'block' : 'none';\n",
              "\n",
              "        async function convertToInteractive(key) {\n",
              "          const element = document.querySelector('#df-38548642-7110-4fb6-9ea8-adab2085dbfc');\n",
              "          const dataTable =\n",
              "            await google.colab.kernel.invokeFunction('convertToInteractive',\n",
              "                                                     [key], {});\n",
              "          if (!dataTable) return;\n",
              "\n",
              "          const docLinkHtml = 'Like what you see? Visit the ' +\n",
              "            '<a target=\"_blank\" href=https://colab.research.google.com/notebooks/data_table.ipynb>data table notebook</a>'\n",
              "            + ' to learn more about interactive tables.';\n",
              "          element.innerHTML = '';\n",
              "          dataTable['output_type'] = 'display_data';\n",
              "          await google.colab.output.renderOutput(dataTable, element);\n",
              "          const docLink = document.createElement('div');\n",
              "          docLink.innerHTML = docLinkHtml;\n",
              "          element.appendChild(docLink);\n",
              "        }\n",
              "      </script>\n",
              "    </div>\n",
              "  </div>\n",
              "  "
            ]
          },
          "metadata": {},
          "execution_count": 80
        }
      ]
    },
    {
      "cell_type": "code",
      "source": [
        "pd.crosstab(df_teste.Q010,df_teste.Q011, margins=True, dropna=False)"
      ],
      "metadata": {
        "id": "__IlEuwgG1J-",
        "colab": {
          "base_uri": "https://localhost:8080/",
          "height": 269
        },
        "outputId": "4103a218-f0d7-4d60-89fb-e76225629567"
      },
      "execution_count": null,
      "outputs": [
        {
          "output_type": "execute_result",
          "data": {
            "text/plain": [
              "Q011       A       B      C     D    E     All\n",
              "Q010                                          \n",
              "A     277232   69671   6300   366   24  353593\n",
              "B     336643   94054  11147   855   96  442795\n",
              "C     105881   20809   3533   441   97  130761\n",
              "D      12514    2644    651   187   53   16049\n",
              "E       2270     652    239    76   94    3331\n",
              "All   734540  187830  21870  1925  364  946529"
            ],
            "text/html": [
              "\n",
              "  <div id=\"df-06ec4e5c-aee0-48fc-82cd-7bafd505cde5\">\n",
              "    <div class=\"colab-df-container\">\n",
              "      <div>\n",
              "<style scoped>\n",
              "    .dataframe tbody tr th:only-of-type {\n",
              "        vertical-align: middle;\n",
              "    }\n",
              "\n",
              "    .dataframe tbody tr th {\n",
              "        vertical-align: top;\n",
              "    }\n",
              "\n",
              "    .dataframe thead th {\n",
              "        text-align: right;\n",
              "    }\n",
              "</style>\n",
              "<table border=\"1\" class=\"dataframe\">\n",
              "  <thead>\n",
              "    <tr style=\"text-align: right;\">\n",
              "      <th>Q011</th>\n",
              "      <th>A</th>\n",
              "      <th>B</th>\n",
              "      <th>C</th>\n",
              "      <th>D</th>\n",
              "      <th>E</th>\n",
              "      <th>All</th>\n",
              "    </tr>\n",
              "    <tr>\n",
              "      <th>Q010</th>\n",
              "      <th></th>\n",
              "      <th></th>\n",
              "      <th></th>\n",
              "      <th></th>\n",
              "      <th></th>\n",
              "      <th></th>\n",
              "    </tr>\n",
              "  </thead>\n",
              "  <tbody>\n",
              "    <tr>\n",
              "      <th>A</th>\n",
              "      <td>277232</td>\n",
              "      <td>69671</td>\n",
              "      <td>6300</td>\n",
              "      <td>366</td>\n",
              "      <td>24</td>\n",
              "      <td>353593</td>\n",
              "    </tr>\n",
              "    <tr>\n",
              "      <th>B</th>\n",
              "      <td>336643</td>\n",
              "      <td>94054</td>\n",
              "      <td>11147</td>\n",
              "      <td>855</td>\n",
              "      <td>96</td>\n",
              "      <td>442795</td>\n",
              "    </tr>\n",
              "    <tr>\n",
              "      <th>C</th>\n",
              "      <td>105881</td>\n",
              "      <td>20809</td>\n",
              "      <td>3533</td>\n",
              "      <td>441</td>\n",
              "      <td>97</td>\n",
              "      <td>130761</td>\n",
              "    </tr>\n",
              "    <tr>\n",
              "      <th>D</th>\n",
              "      <td>12514</td>\n",
              "      <td>2644</td>\n",
              "      <td>651</td>\n",
              "      <td>187</td>\n",
              "      <td>53</td>\n",
              "      <td>16049</td>\n",
              "    </tr>\n",
              "    <tr>\n",
              "      <th>E</th>\n",
              "      <td>2270</td>\n",
              "      <td>652</td>\n",
              "      <td>239</td>\n",
              "      <td>76</td>\n",
              "      <td>94</td>\n",
              "      <td>3331</td>\n",
              "    </tr>\n",
              "    <tr>\n",
              "      <th>All</th>\n",
              "      <td>734540</td>\n",
              "      <td>187830</td>\n",
              "      <td>21870</td>\n",
              "      <td>1925</td>\n",
              "      <td>364</td>\n",
              "      <td>946529</td>\n",
              "    </tr>\n",
              "  </tbody>\n",
              "</table>\n",
              "</div>\n",
              "      <button class=\"colab-df-convert\" onclick=\"convertToInteractive('df-06ec4e5c-aee0-48fc-82cd-7bafd505cde5')\"\n",
              "              title=\"Convert this dataframe to an interactive table.\"\n",
              "              style=\"display:none;\">\n",
              "        \n",
              "  <svg xmlns=\"http://www.w3.org/2000/svg\" height=\"24px\"viewBox=\"0 0 24 24\"\n",
              "       width=\"24px\">\n",
              "    <path d=\"M0 0h24v24H0V0z\" fill=\"none\"/>\n",
              "    <path d=\"M18.56 5.44l.94 2.06.94-2.06 2.06-.94-2.06-.94-.94-2.06-.94 2.06-2.06.94zm-11 1L8.5 8.5l.94-2.06 2.06-.94-2.06-.94L8.5 2.5l-.94 2.06-2.06.94zm10 10l.94 2.06.94-2.06 2.06-.94-2.06-.94-.94-2.06-.94 2.06-2.06.94z\"/><path d=\"M17.41 7.96l-1.37-1.37c-.4-.4-.92-.59-1.43-.59-.52 0-1.04.2-1.43.59L10.3 9.45l-7.72 7.72c-.78.78-.78 2.05 0 2.83L4 21.41c.39.39.9.59 1.41.59.51 0 1.02-.2 1.41-.59l7.78-7.78 2.81-2.81c.8-.78.8-2.07 0-2.86zM5.41 20L4 18.59l7.72-7.72 1.47 1.35L5.41 20z\"/>\n",
              "  </svg>\n",
              "      </button>\n",
              "      \n",
              "  <style>\n",
              "    .colab-df-container {\n",
              "      display:flex;\n",
              "      flex-wrap:wrap;\n",
              "      gap: 12px;\n",
              "    }\n",
              "\n",
              "    .colab-df-convert {\n",
              "      background-color: #E8F0FE;\n",
              "      border: none;\n",
              "      border-radius: 50%;\n",
              "      cursor: pointer;\n",
              "      display: none;\n",
              "      fill: #1967D2;\n",
              "      height: 32px;\n",
              "      padding: 0 0 0 0;\n",
              "      width: 32px;\n",
              "    }\n",
              "\n",
              "    .colab-df-convert:hover {\n",
              "      background-color: #E2EBFA;\n",
              "      box-shadow: 0px 1px 2px rgba(60, 64, 67, 0.3), 0px 1px 3px 1px rgba(60, 64, 67, 0.15);\n",
              "      fill: #174EA6;\n",
              "    }\n",
              "\n",
              "    [theme=dark] .colab-df-convert {\n",
              "      background-color: #3B4455;\n",
              "      fill: #D2E3FC;\n",
              "    }\n",
              "\n",
              "    [theme=dark] .colab-df-convert:hover {\n",
              "      background-color: #434B5C;\n",
              "      box-shadow: 0px 1px 3px 1px rgba(0, 0, 0, 0.15);\n",
              "      filter: drop-shadow(0px 1px 2px rgba(0, 0, 0, 0.3));\n",
              "      fill: #FFFFFF;\n",
              "    }\n",
              "  </style>\n",
              "\n",
              "      <script>\n",
              "        const buttonEl =\n",
              "          document.querySelector('#df-06ec4e5c-aee0-48fc-82cd-7bafd505cde5 button.colab-df-convert');\n",
              "        buttonEl.style.display =\n",
              "          google.colab.kernel.accessAllowed ? 'block' : 'none';\n",
              "\n",
              "        async function convertToInteractive(key) {\n",
              "          const element = document.querySelector('#df-06ec4e5c-aee0-48fc-82cd-7bafd505cde5');\n",
              "          const dataTable =\n",
              "            await google.colab.kernel.invokeFunction('convertToInteractive',\n",
              "                                                     [key], {});\n",
              "          if (!dataTable) return;\n",
              "\n",
              "          const docLinkHtml = 'Like what you see? Visit the ' +\n",
              "            '<a target=\"_blank\" href=https://colab.research.google.com/notebooks/data_table.ipynb>data table notebook</a>'\n",
              "            + ' to learn more about interactive tables.';\n",
              "          element.innerHTML = '';\n",
              "          dataTable['output_type'] = 'display_data';\n",
              "          await google.colab.output.renderOutput(dataTable, element);\n",
              "          const docLink = document.createElement('div');\n",
              "          docLink.innerHTML = docLinkHtml;\n",
              "          element.appendChild(docLink);\n",
              "        }\n",
              "      </script>\n",
              "    </div>\n",
              "  </div>\n",
              "  "
            ]
          },
          "metadata": {},
          "execution_count": 81
        }
      ]
    },
    {
      "cell_type": "markdown",
      "source": [
        "# **Exclusão de Colunas**"
      ],
      "metadata": {
        "id": "8zqCz9RIEa_Q"
      }
    },
    {
      "cell_type": "code",
      "source": [
        "df_ft.shape"
      ],
      "metadata": {
        "id": "3Zt9HmZSGZMu",
        "colab": {
          "base_uri": "https://localhost:8080/"
        },
        "outputId": "0e3e8556-3bab-4b83-84ce-9dc219f0e98d"
      },
      "execution_count": null,
      "outputs": [
        {
          "output_type": "execute_result",
          "data": {
            "text/plain": [
              "(1920850, 108)"
            ]
          },
          "metadata": {},
          "execution_count": 82
        }
      ]
    },
    {
      "cell_type": "code",
      "source": [
        "df_ft.drop(['TP_FAIXA_ETARIA','TP_ESTADO_CIVIL','TP_COR_RACA','TP_ST_CONCLUSAO','TP_ANO_CONCLUIU',\n",
        "            'TP_ESCOLA', 'TP_ENSINO', 'Q005', 'Q006', 'Q007', 'Q008', 'Q009', 'Q010', 'Q011',\n",
        "            'Q012', 'Q013', 'Q014', 'Q015', 'Q016', 'Q017', 'Q019', 'Q024', 'Sum_TIC3', 'Sum_TIC5',\n",
        "            'Sum_Elet', 'Car_Mot', 'Tot_PtCasa', 'Q001_', 'Q002_', 'Ter_Asp', 'Ter_TV', 'Ter_DVD',\n",
        "            'Ter_TVa', 'Ter_TFi', 'Ter_Gel', 'Ter_Fre', 'Ter_LvR', 'Ter_ScR', 'Ter_Mio', 'Ter_LvL',\n",
        "            'Q007_f2', 'Q007_f', 'Q008_f2', 'Q008_f', 'Q009_f2', 'Q009_f', 'Tot_PtCasa_2', 'Ter_Int'], axis = 1, inplace = True)\n",
        "df_ft.shape"
      ],
      "metadata": {
        "id": "NFDqcyeKEeDB",
        "colab": {
          "base_uri": "https://localhost:8080/"
        },
        "outputId": "2731d446-c1dc-40c8-cf25-6b4fb9d31c10"
      },
      "execution_count": null,
      "outputs": [
        {
          "output_type": "execute_result",
          "data": {
            "text/plain": [
              "(1920850, 60)"
            ]
          },
          "metadata": {},
          "execution_count": 83
        }
      ]
    },
    {
      "cell_type": "code",
      "source": [
        "df_ft.columns"
      ],
      "metadata": {
        "colab": {
          "base_uri": "https://localhost:8080/"
        },
        "id": "lXal5YB7NkkX",
        "outputId": "abf66709-bcf2-4059-af48-ab3c06d012a5"
      },
      "execution_count": null,
      "outputs": [
        {
          "output_type": "execute_result",
          "data": {
            "text/plain": [
              "Index(['NU_INSCRICAO', 'NU_ANO', 'TP_SEXO', 'CO_MUNICIPIO_ESC',\n",
              "       'NO_MUNICIPIO_ESC', 'SG_UF_ESC', 'TP_LOCALIZACAO_ESC',\n",
              "       'CO_MUNICIPIO_PROVA', 'NO_MUNICIPIO_PROVA', 'SG_UF_PROVA', 'NU_NOTA_CN',\n",
              "       'NU_NOTA_CH', 'NU_NOTA_LC', 'NU_NOTA_MT', 'TP_LINGUA',\n",
              "       'NU_NOTA_REDACAO', 'Q001', 'Q002', 'Q003', 'Q004', 'Q018', 'Q020',\n",
              "       'Q021', 'Q022', 'Q023', 'Q025', 'Sum_Target', 'Sum_Target_2',\n",
              "       'Sum_Target_3', 'Ter_Cel', 'Ter_Com', 'Sum_TIC3_', 'Sum_TIC5_',\n",
              "       'Sum_Elet_', 'Esc_Max', 'Q010_', 'Q011_', 'Car_Mot_', 'Q007_', 'Q008_',\n",
              "       'Q009_', 'Tot_PtCasa_', 'RegGeo_Prova', 'SG_UF_PROVA_',\n",
              "       'TP_FAIXA_ETARIA_', 'TP_ESTADO_CIVIL_', 'TP_COR_RACA_',\n",
              "       'TP_ANO_CONCLUIU_', 'TP_ESCOLA_', 'TP_ENSINO_', 'Q005_', 'Q006_',\n",
              "       'Q012_', 'Q013_', 'Q014_', 'Q015_', 'Q016_', 'Q017_', 'Q019_', 'Q024_'],\n",
              "      dtype='object')"
            ]
          },
          "metadata": {},
          "execution_count": 84
        }
      ]
    },
    {
      "cell_type": "markdown",
      "source": [
        "# **Exportar Base Final**"
      ],
      "metadata": {
        "id": "ELpe4LhT-4xC"
      }
    },
    {
      "cell_type": "code",
      "source": [
        "df_ft.to_csv('/content/drive/MyDrive/MBA_TCC/DADOS/df_ft_2022_categ.csv', index=False)"
      ],
      "metadata": {
        "id": "bx8Msgub-_LO"
      },
      "execution_count": null,
      "outputs": []
    }
  ]
}
