{
  "nbformat": 4,
  "nbformat_minor": 0,
  "metadata": {
    "colab": {
      "provenance": [],
      "gpuType": "T4",
      "toc_visible": true,
      "mount_file_id": "1vMP7KwTtTby9vGbvVvRQxoTHZkWd8aEg",
      "authorship_tag": "ABX9TyNXEIOPXATTo5PR7MJ4NmLh",
      "include_colab_link": true
    },
    "kernelspec": {
      "name": "python3",
      "display_name": "Python 3"
    },
    "language_info": {
      "name": "python"
    },
    "accelerator": "GPU"
  },
  "cells": [
    {
      "cell_type": "markdown",
      "metadata": {
        "id": "view-in-github",
        "colab_type": "text"
      },
      "source": [
        "<a href=\"https://colab.research.google.com/github/Adriana-FLW/MBA-TCC/blob/main/03_Analise_2018.ipynb\" target=\"_parent\"><img src=\"https://colab.research.google.com/assets/colab-badge.svg\" alt=\"Open In Colab\"/></a>"
      ]
    },
    {
      "cell_type": "markdown",
      "source": [
        "# **ENEM 2018**"
      ],
      "metadata": {
        "id": "m4ZoKrTs5l2N"
      }
    },
    {
      "cell_type": "code",
      "execution_count": 1,
      "metadata": {
        "id": "_avWAEwv5Odi",
        "colab": {
          "base_uri": "https://localhost:8080/"
        },
        "outputId": "9fb4dc2e-bf55-4936-d05a-9edaaafc0a93"
      },
      "outputs": [
        {
          "output_type": "stream",
          "name": "stdout",
          "text": [
            "Mounted at /content/drive\n"
          ]
        }
      ],
      "source": [
        "from google.colab import drive\n",
        "drive.mount('/content/drive')"
      ]
    },
    {
      "cell_type": "markdown",
      "source": [
        "# **Análises**"
      ],
      "metadata": {
        "id": "M8Wco-fkSfTf"
      }
    },
    {
      "cell_type": "markdown",
      "source": [
        "1. Target: Sum_Target_2\n",
        "\n",
        "   Alto Desempenho: Estar acima da mediana em pelo menos 3 competências\n",
        "\n",
        "\n",
        "2. Target: Target_Media\n",
        "\n",
        "  Alto Desempenho: Estar acima da mediana da média das cinco competências\n",
        "  "
      ],
      "metadata": {
        "id": "FZY8qZqXSkHd"
      }
    },
    {
      "cell_type": "markdown",
      "source": [
        "# **Bibliotecas**"
      ],
      "metadata": {
        "id": "lE6RA0Qe6sg-"
      }
    },
    {
      "cell_type": "code",
      "source": [
        "import pandas as pd\n",
        "import numpy as np\n",
        "import random as rd\n",
        "\n",
        "\n",
        "# Árvore de Decisão\n",
        "from sklearn.tree import DecisionTreeClassifier\n",
        "from sklearn.tree import plot_tree\n",
        "\n",
        "# Eliminação Recursiva de Atributos com CV\n",
        "from sklearn.feature_selection import RFECV\n",
        "from sklearn.feature_selection import RFE\n",
        "\n",
        "# ExtraTreesClassifier\n",
        "from sklearn.ensemble import ExtraTreesClassifier\n",
        "\n",
        "# Fine-tuning de hiper-parâmetros\n",
        "from sklearn.model_selection import GridSearchCV\n",
        "\n",
        "# Gradiente Boosting\n",
        "from sklearn.ensemble import GradientBoostingClassifier\n",
        "\n",
        "# LightGBM\n",
        "from lightgbm import LGBMClassifier\n",
        "\n",
        "# Pipeline\n",
        "from sklearn.pipeline import Pipeline\n",
        "\n",
        "# Seleção de Variáveis Independentes Relevantes\n",
        "from sklearn.feature_selection import SelectKBest, chi2\n",
        "\n",
        "# Split\n",
        "from sklearn.model_selection import train_test_split\n",
        "\n",
        "# Regressão Logistica\n",
        "from sklearn.linear_model import LogisticRegression\n",
        "\n",
        "# Random Forest\n",
        "from sklearn.ensemble import RandomForestClassifier\n",
        "\n",
        "# XGBoost\n",
        "from xgboost import XGBClassifier\n",
        "\n",
        "# kNN\n",
        "from sklearn.neighbors import KNeighborsClassifier\n",
        "\n",
        "# Pre Processamento\n",
        "from sklearn.preprocessing import LabelEncoder\n",
        "\n",
        "# Validação\n",
        "from sklearn.metrics import roc_auc_score, roc_curve, accuracy_score\n",
        "from sklearn.metrics import confusion_matrix\n",
        "from sklearn.metrics import classification_report\n",
        "from sklearn import metrics\n",
        "\n",
        "# Validação Cruzada\n",
        "from sklearn.model_selection import StratifiedKFold\n",
        "\n",
        "# Gráficos\n",
        "import seaborn as sns\n",
        "import matplotlib.pyplot as plt"
      ],
      "metadata": {
        "id": "3WF24elD6zNS"
      },
      "execution_count": 2,
      "outputs": []
    },
    {
      "cell_type": "markdown",
      "source": [
        "# **Importar Base**"
      ],
      "metadata": {
        "id": "wI8D48NZ604_"
      }
    },
    {
      "cell_type": "code",
      "source": [
        "df_ft_categ_2018 = pd.read_csv('/content/drive/MyDrive/MBA_TCC/DADOS/df_ft_2018_categ.csv',sep=',',encoding='ISO-8859-1')\n",
        "df_ft_categ_2018.shape"
      ],
      "metadata": {
        "colab": {
          "base_uri": "https://localhost:8080/"
        },
        "id": "ehaH2CrT66wX",
        "outputId": "fb8db4fb-7cce-4793-d556-39ea0b5d1794"
      },
      "execution_count": null,
      "outputs": [
        {
          "output_type": "execute_result",
          "data": {
            "text/plain": [
              "(3369104, 60)"
            ]
          },
          "metadata": {},
          "execution_count": 3
        }
      ]
    },
    {
      "cell_type": "markdown",
      "source": [
        "# **Alteração do Índice**"
      ],
      "metadata": {
        "id": "4JKJkIVSnaKg"
      }
    },
    {
      "cell_type": "code",
      "source": [
        "def f_alteracao_indice(df):\n",
        "  df_altind = df.set_index('NU_INSCRICAO')\n",
        "  return df_altind\n",
        "\n",
        "df_altind = f_alteracao_indice(df_ft_categ_2018)\n",
        "df_altind.sort_index()\n",
        "df_altind.head()"
      ],
      "metadata": {
        "colab": {
          "base_uri": "https://localhost:8080/",
          "height": 348
        },
        "id": "hveaQia01ME4",
        "outputId": "49f937a8-0c85-45a4-acb9-bbebe6501a19"
      },
      "execution_count": null,
      "outputs": [
        {
          "output_type": "execute_result",
          "data": {
            "text/plain": [
              "              NU_ANO TP_SEXO  CO_MUNICIPIO_ESC    NO_MUNICIPIO_ESC SG_UF_ESC  \\\n",
              "NU_INSCRICAO                                                                   \n",
              "180007186625    2018       F         1500800.0          Ananindeua        PA   \n",
              "180007186627    2018       F              -1.0                  -1        -1   \n",
              "180007186628    2018       M         3155603.0  Rio Pardo de Minas        MG   \n",
              "180007186629    2018       F         1500800.0          Ananindeua        PA   \n",
              "180007186631    2018       F              -1.0                  -1        -1   \n",
              "\n",
              "              TP_LOCALIZACAO_ESC  CO_MUNICIPIO_PROVA  \\\n",
              "NU_INSCRICAO                                           \n",
              "180007186625                   1           1500800.0   \n",
              "180007186627                  -1           1503200.0   \n",
              "180007186628                   1           3155603.0   \n",
              "180007186629                   1           1500800.0   \n",
              "180007186631                  -1           2610905.0   \n",
              "\n",
              "                     NO_MUNICIPIO_PROVA SG_UF_PROVA  NU_NOTA_CN  ...  Q005_  \\\n",
              "NU_INSCRICAO                                                     ...          \n",
              "180007186625                 Ananindeua          PA       534.2  ...      1   \n",
              "180007186627  IgarapÃÂÃÂ©-AÃÂÃÂ§u          PA       506.9  ...      1   \n",
              "180007186628         Rio Pardo de Minas          MG       470.6  ...      4   \n",
              "180007186629                 Ananindeua          PA       588.9  ...      1   \n",
              "180007186631                  Pesqueira          PE       477.8  ...      1   \n",
              "\n",
              "              Q006_  Q012_  Q013_  Q014_ Q015_ Q016_ Q017_ Q019_ Q024_  \n",
              "NU_INSCRICAO                                                            \n",
              "180007186625      6      1      2      1     1     2     1     3     3  \n",
              "180007186627      2      2      1      1     1     1     1     2     1  \n",
              "180007186628      2      2      1      1     1     1     1     2     1  \n",
              "180007186629      7      2      1      2     1     1     1     3     1  \n",
              "180007186631      3      2      1      1     1     1     1     2     2  \n",
              "\n",
              "[5 rows x 59 columns]"
            ],
            "text/html": [
              "\n",
              "\n",
              "  <div id=\"df-31112131-1b8f-42bb-beb9-3ec18ba26b25\">\n",
              "    <div class=\"colab-df-container\">\n",
              "      <div>\n",
              "<style scoped>\n",
              "    .dataframe tbody tr th:only-of-type {\n",
              "        vertical-align: middle;\n",
              "    }\n",
              "\n",
              "    .dataframe tbody tr th {\n",
              "        vertical-align: top;\n",
              "    }\n",
              "\n",
              "    .dataframe thead th {\n",
              "        text-align: right;\n",
              "    }\n",
              "</style>\n",
              "<table border=\"1\" class=\"dataframe\">\n",
              "  <thead>\n",
              "    <tr style=\"text-align: right;\">\n",
              "      <th></th>\n",
              "      <th>NU_ANO</th>\n",
              "      <th>TP_SEXO</th>\n",
              "      <th>CO_MUNICIPIO_ESC</th>\n",
              "      <th>NO_MUNICIPIO_ESC</th>\n",
              "      <th>SG_UF_ESC</th>\n",
              "      <th>TP_LOCALIZACAO_ESC</th>\n",
              "      <th>CO_MUNICIPIO_PROVA</th>\n",
              "      <th>NO_MUNICIPIO_PROVA</th>\n",
              "      <th>SG_UF_PROVA</th>\n",
              "      <th>NU_NOTA_CN</th>\n",
              "      <th>...</th>\n",
              "      <th>Q005_</th>\n",
              "      <th>Q006_</th>\n",
              "      <th>Q012_</th>\n",
              "      <th>Q013_</th>\n",
              "      <th>Q014_</th>\n",
              "      <th>Q015_</th>\n",
              "      <th>Q016_</th>\n",
              "      <th>Q017_</th>\n",
              "      <th>Q019_</th>\n",
              "      <th>Q024_</th>\n",
              "    </tr>\n",
              "    <tr>\n",
              "      <th>NU_INSCRICAO</th>\n",
              "      <th></th>\n",
              "      <th></th>\n",
              "      <th></th>\n",
              "      <th></th>\n",
              "      <th></th>\n",
              "      <th></th>\n",
              "      <th></th>\n",
              "      <th></th>\n",
              "      <th></th>\n",
              "      <th></th>\n",
              "      <th></th>\n",
              "      <th></th>\n",
              "      <th></th>\n",
              "      <th></th>\n",
              "      <th></th>\n",
              "      <th></th>\n",
              "      <th></th>\n",
              "      <th></th>\n",
              "      <th></th>\n",
              "      <th></th>\n",
              "      <th></th>\n",
              "    </tr>\n",
              "  </thead>\n",
              "  <tbody>\n",
              "    <tr>\n",
              "      <th>180007186625</th>\n",
              "      <td>2018</td>\n",
              "      <td>F</td>\n",
              "      <td>1500800.0</td>\n",
              "      <td>Ananindeua</td>\n",
              "      <td>PA</td>\n",
              "      <td>1</td>\n",
              "      <td>1500800.0</td>\n",
              "      <td>Ananindeua</td>\n",
              "      <td>PA</td>\n",
              "      <td>534.2</td>\n",
              "      <td>...</td>\n",
              "      <td>1</td>\n",
              "      <td>6</td>\n",
              "      <td>1</td>\n",
              "      <td>2</td>\n",
              "      <td>1</td>\n",
              "      <td>1</td>\n",
              "      <td>2</td>\n",
              "      <td>1</td>\n",
              "      <td>3</td>\n",
              "      <td>3</td>\n",
              "    </tr>\n",
              "    <tr>\n",
              "      <th>180007186627</th>\n",
              "      <td>2018</td>\n",
              "      <td>F</td>\n",
              "      <td>-1.0</td>\n",
              "      <td>-1</td>\n",
              "      <td>-1</td>\n",
              "      <td>-1</td>\n",
              "      <td>1503200.0</td>\n",
              "      <td>IgarapÃÂÃÂ©-AÃÂÃÂ§u</td>\n",
              "      <td>PA</td>\n",
              "      <td>506.9</td>\n",
              "      <td>...</td>\n",
              "      <td>1</td>\n",
              "      <td>2</td>\n",
              "      <td>2</td>\n",
              "      <td>1</td>\n",
              "      <td>1</td>\n",
              "      <td>1</td>\n",
              "      <td>1</td>\n",
              "      <td>1</td>\n",
              "      <td>2</td>\n",
              "      <td>1</td>\n",
              "    </tr>\n",
              "    <tr>\n",
              "      <th>180007186628</th>\n",
              "      <td>2018</td>\n",
              "      <td>M</td>\n",
              "      <td>3155603.0</td>\n",
              "      <td>Rio Pardo de Minas</td>\n",
              "      <td>MG</td>\n",
              "      <td>1</td>\n",
              "      <td>3155603.0</td>\n",
              "      <td>Rio Pardo de Minas</td>\n",
              "      <td>MG</td>\n",
              "      <td>470.6</td>\n",
              "      <td>...</td>\n",
              "      <td>4</td>\n",
              "      <td>2</td>\n",
              "      <td>2</td>\n",
              "      <td>1</td>\n",
              "      <td>1</td>\n",
              "      <td>1</td>\n",
              "      <td>1</td>\n",
              "      <td>1</td>\n",
              "      <td>2</td>\n",
              "      <td>1</td>\n",
              "    </tr>\n",
              "    <tr>\n",
              "      <th>180007186629</th>\n",
              "      <td>2018</td>\n",
              "      <td>F</td>\n",
              "      <td>1500800.0</td>\n",
              "      <td>Ananindeua</td>\n",
              "      <td>PA</td>\n",
              "      <td>1</td>\n",
              "      <td>1500800.0</td>\n",
              "      <td>Ananindeua</td>\n",
              "      <td>PA</td>\n",
              "      <td>588.9</td>\n",
              "      <td>...</td>\n",
              "      <td>1</td>\n",
              "      <td>7</td>\n",
              "      <td>2</td>\n",
              "      <td>1</td>\n",
              "      <td>2</td>\n",
              "      <td>1</td>\n",
              "      <td>1</td>\n",
              "      <td>1</td>\n",
              "      <td>3</td>\n",
              "      <td>1</td>\n",
              "    </tr>\n",
              "    <tr>\n",
              "      <th>180007186631</th>\n",
              "      <td>2018</td>\n",
              "      <td>F</td>\n",
              "      <td>-1.0</td>\n",
              "      <td>-1</td>\n",
              "      <td>-1</td>\n",
              "      <td>-1</td>\n",
              "      <td>2610905.0</td>\n",
              "      <td>Pesqueira</td>\n",
              "      <td>PE</td>\n",
              "      <td>477.8</td>\n",
              "      <td>...</td>\n",
              "      <td>1</td>\n",
              "      <td>3</td>\n",
              "      <td>2</td>\n",
              "      <td>1</td>\n",
              "      <td>1</td>\n",
              "      <td>1</td>\n",
              "      <td>1</td>\n",
              "      <td>1</td>\n",
              "      <td>2</td>\n",
              "      <td>2</td>\n",
              "    </tr>\n",
              "  </tbody>\n",
              "</table>\n",
              "<p>5 rows × 59 columns</p>\n",
              "</div>\n",
              "      <button class=\"colab-df-convert\" onclick=\"convertToInteractive('df-31112131-1b8f-42bb-beb9-3ec18ba26b25')\"\n",
              "              title=\"Convert this dataframe to an interactive table.\"\n",
              "              style=\"display:none;\">\n",
              "\n",
              "  <svg xmlns=\"http://www.w3.org/2000/svg\" height=\"24px\"viewBox=\"0 0 24 24\"\n",
              "       width=\"24px\">\n",
              "    <path d=\"M0 0h24v24H0V0z\" fill=\"none\"/>\n",
              "    <path d=\"M18.56 5.44l.94 2.06.94-2.06 2.06-.94-2.06-.94-.94-2.06-.94 2.06-2.06.94zm-11 1L8.5 8.5l.94-2.06 2.06-.94-2.06-.94L8.5 2.5l-.94 2.06-2.06.94zm10 10l.94 2.06.94-2.06 2.06-.94-2.06-.94-.94-2.06-.94 2.06-2.06.94z\"/><path d=\"M17.41 7.96l-1.37-1.37c-.4-.4-.92-.59-1.43-.59-.52 0-1.04.2-1.43.59L10.3 9.45l-7.72 7.72c-.78.78-.78 2.05 0 2.83L4 21.41c.39.39.9.59 1.41.59.51 0 1.02-.2 1.41-.59l7.78-7.78 2.81-2.81c.8-.78.8-2.07 0-2.86zM5.41 20L4 18.59l7.72-7.72 1.47 1.35L5.41 20z\"/>\n",
              "  </svg>\n",
              "      </button>\n",
              "\n",
              "\n",
              "\n",
              "    <div id=\"df-104fad00-03c9-4712-aac1-4b936900b8c7\">\n",
              "      <button class=\"colab-df-quickchart\" onclick=\"quickchart('df-104fad00-03c9-4712-aac1-4b936900b8c7')\"\n",
              "              title=\"Suggest charts.\"\n",
              "              style=\"display:none;\">\n",
              "\n",
              "<svg xmlns=\"http://www.w3.org/2000/svg\" height=\"24px\"viewBox=\"0 0 24 24\"\n",
              "     width=\"24px\">\n",
              "    <g>\n",
              "        <path d=\"M19 3H5c-1.1 0-2 .9-2 2v14c0 1.1.9 2 2 2h14c1.1 0 2-.9 2-2V5c0-1.1-.9-2-2-2zM9 17H7v-7h2v7zm4 0h-2V7h2v10zm4 0h-2v-4h2v4z\"/>\n",
              "    </g>\n",
              "</svg>\n",
              "      </button>\n",
              "    </div>\n",
              "\n",
              "<style>\n",
              "  .colab-df-quickchart {\n",
              "    background-color: #E8F0FE;\n",
              "    border: none;\n",
              "    border-radius: 50%;\n",
              "    cursor: pointer;\n",
              "    display: none;\n",
              "    fill: #1967D2;\n",
              "    height: 32px;\n",
              "    padding: 0 0 0 0;\n",
              "    width: 32px;\n",
              "  }\n",
              "\n",
              "  .colab-df-quickchart:hover {\n",
              "    background-color: #E2EBFA;\n",
              "    box-shadow: 0px 1px 2px rgba(60, 64, 67, 0.3), 0px 1px 3px 1px rgba(60, 64, 67, 0.15);\n",
              "    fill: #174EA6;\n",
              "  }\n",
              "\n",
              "  [theme=dark] .colab-df-quickchart {\n",
              "    background-color: #3B4455;\n",
              "    fill: #D2E3FC;\n",
              "  }\n",
              "\n",
              "  [theme=dark] .colab-df-quickchart:hover {\n",
              "    background-color: #434B5C;\n",
              "    box-shadow: 0px 1px 3px 1px rgba(0, 0, 0, 0.15);\n",
              "    filter: drop-shadow(0px 1px 2px rgba(0, 0, 0, 0.3));\n",
              "    fill: #FFFFFF;\n",
              "  }\n",
              "</style>\n",
              "\n",
              "    <script>\n",
              "      async function quickchart(key) {\n",
              "        const containerElement = document.querySelector('#' + key);\n",
              "        const charts = await google.colab.kernel.invokeFunction(\n",
              "            'suggestCharts', [key], {});\n",
              "      }\n",
              "    </script>\n",
              "\n",
              "      <script>\n",
              "\n",
              "function displayQuickchartButton(domScope) {\n",
              "  let quickchartButtonEl =\n",
              "    domScope.querySelector('#df-104fad00-03c9-4712-aac1-4b936900b8c7 button.colab-df-quickchart');\n",
              "  quickchartButtonEl.style.display =\n",
              "    google.colab.kernel.accessAllowed ? 'block' : 'none';\n",
              "}\n",
              "\n",
              "        displayQuickchartButton(document);\n",
              "      </script>\n",
              "      <style>\n",
              "    .colab-df-container {\n",
              "      display:flex;\n",
              "      flex-wrap:wrap;\n",
              "      gap: 12px;\n",
              "    }\n",
              "\n",
              "    .colab-df-convert {\n",
              "      background-color: #E8F0FE;\n",
              "      border: none;\n",
              "      border-radius: 50%;\n",
              "      cursor: pointer;\n",
              "      display: none;\n",
              "      fill: #1967D2;\n",
              "      height: 32px;\n",
              "      padding: 0 0 0 0;\n",
              "      width: 32px;\n",
              "    }\n",
              "\n",
              "    .colab-df-convert:hover {\n",
              "      background-color: #E2EBFA;\n",
              "      box-shadow: 0px 1px 2px rgba(60, 64, 67, 0.3), 0px 1px 3px 1px rgba(60, 64, 67, 0.15);\n",
              "      fill: #174EA6;\n",
              "    }\n",
              "\n",
              "    [theme=dark] .colab-df-convert {\n",
              "      background-color: #3B4455;\n",
              "      fill: #D2E3FC;\n",
              "    }\n",
              "\n",
              "    [theme=dark] .colab-df-convert:hover {\n",
              "      background-color: #434B5C;\n",
              "      box-shadow: 0px 1px 3px 1px rgba(0, 0, 0, 0.15);\n",
              "      filter: drop-shadow(0px 1px 2px rgba(0, 0, 0, 0.3));\n",
              "      fill: #FFFFFF;\n",
              "    }\n",
              "  </style>\n",
              "\n",
              "      <script>\n",
              "        const buttonEl =\n",
              "          document.querySelector('#df-31112131-1b8f-42bb-beb9-3ec18ba26b25 button.colab-df-convert');\n",
              "        buttonEl.style.display =\n",
              "          google.colab.kernel.accessAllowed ? 'block' : 'none';\n",
              "\n",
              "        async function convertToInteractive(key) {\n",
              "          const element = document.querySelector('#df-31112131-1b8f-42bb-beb9-3ec18ba26b25');\n",
              "          const dataTable =\n",
              "            await google.colab.kernel.invokeFunction('convertToInteractive',\n",
              "                                                     [key], {});\n",
              "          if (!dataTable) return;\n",
              "\n",
              "          const docLinkHtml = 'Like what you see? Visit the ' +\n",
              "            '<a target=\"_blank\" href=https://colab.research.google.com/notebooks/data_table.ipynb>data table notebook</a>'\n",
              "            + ' to learn more about interactive tables.';\n",
              "          element.innerHTML = '';\n",
              "          dataTable['output_type'] = 'display_data';\n",
              "          await google.colab.output.renderOutput(dataTable, element);\n",
              "          const docLink = document.createElement('div');\n",
              "          docLink.innerHTML = docLinkHtml;\n",
              "          element.appendChild(docLink);\n",
              "        }\n",
              "      </script>\n",
              "    </div>\n",
              "  </div>\n"
            ]
          },
          "metadata": {},
          "execution_count": 6
        }
      ]
    },
    {
      "cell_type": "markdown",
      "source": [
        "# **Inclusão do Target 2**"
      ],
      "metadata": {
        "id": "TqGjR2O8Oq1I"
      }
    },
    {
      "cell_type": "code",
      "source": [
        "df_altind['Media_Notas'] = (df_altind.NU_NOTA_CN +\n",
        "                            df_altind.NU_NOTA_CH +\n",
        "                            df_altind.NU_NOTA_LC +\n",
        "                            df_altind.NU_NOTA_MT +\n",
        "                            df_altind.NU_NOTA_REDACAO)/5\n",
        "df_altind['Target_Media'] = np.where(df_altind['Media_Notas'] > np.median(df_altind.Media_Notas), 1, 0)"
      ],
      "metadata": {
        "id": "W5otR-QjOvCI"
      },
      "execution_count": null,
      "outputs": []
    },
    {
      "cell_type": "code",
      "source": [
        "tb1 = pd.crosstab(df_altind.Sum_Target_2,df_altind.Target_Media, margins=True, dropna=False)\n",
        "display(tb1)"
      ],
      "metadata": {
        "colab": {
          "base_uri": "https://localhost:8080/",
          "height": 175
        },
        "id": "0GeO50O_5_eH",
        "outputId": "6a8e8119-ae92-4aca-c67e-cab391e9560f"
      },
      "execution_count": null,
      "outputs": [
        {
          "output_type": "display_data",
          "data": {
            "text/plain": [
              "Target_Media        0        1      All\n",
              "Sum_Target_2                           \n",
              "0             1559224   175001  1734225\n",
              "1              125547  1509332  1634879\n",
              "All           1684771  1684333  3369104"
            ],
            "text/html": [
              "\n",
              "\n",
              "  <div id=\"df-f7be33c4-5af7-4351-8d80-6873f2719cb2\">\n",
              "    <div class=\"colab-df-container\">\n",
              "      <div>\n",
              "<style scoped>\n",
              "    .dataframe tbody tr th:only-of-type {\n",
              "        vertical-align: middle;\n",
              "    }\n",
              "\n",
              "    .dataframe tbody tr th {\n",
              "        vertical-align: top;\n",
              "    }\n",
              "\n",
              "    .dataframe thead th {\n",
              "        text-align: right;\n",
              "    }\n",
              "</style>\n",
              "<table border=\"1\" class=\"dataframe\">\n",
              "  <thead>\n",
              "    <tr style=\"text-align: right;\">\n",
              "      <th>Target_Media</th>\n",
              "      <th>0</th>\n",
              "      <th>1</th>\n",
              "      <th>All</th>\n",
              "    </tr>\n",
              "    <tr>\n",
              "      <th>Sum_Target_2</th>\n",
              "      <th></th>\n",
              "      <th></th>\n",
              "      <th></th>\n",
              "    </tr>\n",
              "  </thead>\n",
              "  <tbody>\n",
              "    <tr>\n",
              "      <th>0</th>\n",
              "      <td>1559224</td>\n",
              "      <td>175001</td>\n",
              "      <td>1734225</td>\n",
              "    </tr>\n",
              "    <tr>\n",
              "      <th>1</th>\n",
              "      <td>125547</td>\n",
              "      <td>1509332</td>\n",
              "      <td>1634879</td>\n",
              "    </tr>\n",
              "    <tr>\n",
              "      <th>All</th>\n",
              "      <td>1684771</td>\n",
              "      <td>1684333</td>\n",
              "      <td>3369104</td>\n",
              "    </tr>\n",
              "  </tbody>\n",
              "</table>\n",
              "</div>\n",
              "      <button class=\"colab-df-convert\" onclick=\"convertToInteractive('df-f7be33c4-5af7-4351-8d80-6873f2719cb2')\"\n",
              "              title=\"Convert this dataframe to an interactive table.\"\n",
              "              style=\"display:none;\">\n",
              "\n",
              "  <svg xmlns=\"http://www.w3.org/2000/svg\" height=\"24px\"viewBox=\"0 0 24 24\"\n",
              "       width=\"24px\">\n",
              "    <path d=\"M0 0h24v24H0V0z\" fill=\"none\"/>\n",
              "    <path d=\"M18.56 5.44l.94 2.06.94-2.06 2.06-.94-2.06-.94-.94-2.06-.94 2.06-2.06.94zm-11 1L8.5 8.5l.94-2.06 2.06-.94-2.06-.94L8.5 2.5l-.94 2.06-2.06.94zm10 10l.94 2.06.94-2.06 2.06-.94-2.06-.94-.94-2.06-.94 2.06-2.06.94z\"/><path d=\"M17.41 7.96l-1.37-1.37c-.4-.4-.92-.59-1.43-.59-.52 0-1.04.2-1.43.59L10.3 9.45l-7.72 7.72c-.78.78-.78 2.05 0 2.83L4 21.41c.39.39.9.59 1.41.59.51 0 1.02-.2 1.41-.59l7.78-7.78 2.81-2.81c.8-.78.8-2.07 0-2.86zM5.41 20L4 18.59l7.72-7.72 1.47 1.35L5.41 20z\"/>\n",
              "  </svg>\n",
              "      </button>\n",
              "\n",
              "\n",
              "\n",
              "    <div id=\"df-7380d631-1664-4d2d-8d46-82c157d82825\">\n",
              "      <button class=\"colab-df-quickchart\" onclick=\"quickchart('df-7380d631-1664-4d2d-8d46-82c157d82825')\"\n",
              "              title=\"Suggest charts.\"\n",
              "              style=\"display:none;\">\n",
              "\n",
              "<svg xmlns=\"http://www.w3.org/2000/svg\" height=\"24px\"viewBox=\"0 0 24 24\"\n",
              "     width=\"24px\">\n",
              "    <g>\n",
              "        <path d=\"M19 3H5c-1.1 0-2 .9-2 2v14c0 1.1.9 2 2 2h14c1.1 0 2-.9 2-2V5c0-1.1-.9-2-2-2zM9 17H7v-7h2v7zm4 0h-2V7h2v10zm4 0h-2v-4h2v4z\"/>\n",
              "    </g>\n",
              "</svg>\n",
              "      </button>\n",
              "    </div>\n",
              "\n",
              "<style>\n",
              "  .colab-df-quickchart {\n",
              "    background-color: #E8F0FE;\n",
              "    border: none;\n",
              "    border-radius: 50%;\n",
              "    cursor: pointer;\n",
              "    display: none;\n",
              "    fill: #1967D2;\n",
              "    height: 32px;\n",
              "    padding: 0 0 0 0;\n",
              "    width: 32px;\n",
              "  }\n",
              "\n",
              "  .colab-df-quickchart:hover {\n",
              "    background-color: #E2EBFA;\n",
              "    box-shadow: 0px 1px 2px rgba(60, 64, 67, 0.3), 0px 1px 3px 1px rgba(60, 64, 67, 0.15);\n",
              "    fill: #174EA6;\n",
              "  }\n",
              "\n",
              "  [theme=dark] .colab-df-quickchart {\n",
              "    background-color: #3B4455;\n",
              "    fill: #D2E3FC;\n",
              "  }\n",
              "\n",
              "  [theme=dark] .colab-df-quickchart:hover {\n",
              "    background-color: #434B5C;\n",
              "    box-shadow: 0px 1px 3px 1px rgba(0, 0, 0, 0.15);\n",
              "    filter: drop-shadow(0px 1px 2px rgba(0, 0, 0, 0.3));\n",
              "    fill: #FFFFFF;\n",
              "  }\n",
              "</style>\n",
              "\n",
              "    <script>\n",
              "      async function quickchart(key) {\n",
              "        const containerElement = document.querySelector('#' + key);\n",
              "        const charts = await google.colab.kernel.invokeFunction(\n",
              "            'suggestCharts', [key], {});\n",
              "      }\n",
              "    </script>\n",
              "\n",
              "      <script>\n",
              "\n",
              "function displayQuickchartButton(domScope) {\n",
              "  let quickchartButtonEl =\n",
              "    domScope.querySelector('#df-7380d631-1664-4d2d-8d46-82c157d82825 button.colab-df-quickchart');\n",
              "  quickchartButtonEl.style.display =\n",
              "    google.colab.kernel.accessAllowed ? 'block' : 'none';\n",
              "}\n",
              "\n",
              "        displayQuickchartButton(document);\n",
              "      </script>\n",
              "      <style>\n",
              "    .colab-df-container {\n",
              "      display:flex;\n",
              "      flex-wrap:wrap;\n",
              "      gap: 12px;\n",
              "    }\n",
              "\n",
              "    .colab-df-convert {\n",
              "      background-color: #E8F0FE;\n",
              "      border: none;\n",
              "      border-radius: 50%;\n",
              "      cursor: pointer;\n",
              "      display: none;\n",
              "      fill: #1967D2;\n",
              "      height: 32px;\n",
              "      padding: 0 0 0 0;\n",
              "      width: 32px;\n",
              "    }\n",
              "\n",
              "    .colab-df-convert:hover {\n",
              "      background-color: #E2EBFA;\n",
              "      box-shadow: 0px 1px 2px rgba(60, 64, 67, 0.3), 0px 1px 3px 1px rgba(60, 64, 67, 0.15);\n",
              "      fill: #174EA6;\n",
              "    }\n",
              "\n",
              "    [theme=dark] .colab-df-convert {\n",
              "      background-color: #3B4455;\n",
              "      fill: #D2E3FC;\n",
              "    }\n",
              "\n",
              "    [theme=dark] .colab-df-convert:hover {\n",
              "      background-color: #434B5C;\n",
              "      box-shadow: 0px 1px 3px 1px rgba(0, 0, 0, 0.15);\n",
              "      filter: drop-shadow(0px 1px 2px rgba(0, 0, 0, 0.3));\n",
              "      fill: #FFFFFF;\n",
              "    }\n",
              "  </style>\n",
              "\n",
              "      <script>\n",
              "        const buttonEl =\n",
              "          document.querySelector('#df-f7be33c4-5af7-4351-8d80-6873f2719cb2 button.colab-df-convert');\n",
              "        buttonEl.style.display =\n",
              "          google.colab.kernel.accessAllowed ? 'block' : 'none';\n",
              "\n",
              "        async function convertToInteractive(key) {\n",
              "          const element = document.querySelector('#df-f7be33c4-5af7-4351-8d80-6873f2719cb2');\n",
              "          const dataTable =\n",
              "            await google.colab.kernel.invokeFunction('convertToInteractive',\n",
              "                                                     [key], {});\n",
              "          if (!dataTable) return;\n",
              "\n",
              "          const docLinkHtml = 'Like what you see? Visit the ' +\n",
              "            '<a target=\"_blank\" href=https://colab.research.google.com/notebooks/data_table.ipynb>data table notebook</a>'\n",
              "            + ' to learn more about interactive tables.';\n",
              "          element.innerHTML = '';\n",
              "          dataTable['output_type'] = 'display_data';\n",
              "          await google.colab.output.renderOutput(dataTable, element);\n",
              "          const docLink = document.createElement('div');\n",
              "          docLink.innerHTML = docLinkHtml;\n",
              "          element.appendChild(docLink);\n",
              "        }\n",
              "      </script>\n",
              "    </div>\n",
              "  </div>\n"
            ]
          },
          "metadata": {}
        }
      ]
    },
    {
      "cell_type": "code",
      "source": [
        "from sklearn.metrics import cohen_kappa_score\n",
        "\n",
        "kappa_score = cohen_kappa_score(df_altind.Sum_Target_2, df_altind.Target_Media) # Concordância entre as medidas\n",
        "print(\"Coeficiente de Kappa:\", round(kappa_score,4))"
      ],
      "metadata": {
        "colab": {
          "base_uri": "https://localhost:8080/"
        },
        "id": "T78v2dNP62uG",
        "outputId": "0b098fb7-3c56-41ec-98a4-f13e39a6daf5"
      },
      "execution_count": null,
      "outputs": [
        {
          "output_type": "stream",
          "name": "stdout",
          "text": [
            "Coeficiente de Kappa: 0.8216\n"
          ]
        }
      ]
    },
    {
      "cell_type": "code",
      "source": [
        "from sklearn.metrics import accuracy_score\n",
        "\n",
        "acuracia = accuracy_score(df_altind.Sum_Target_2, df_altind.Target_Media) # Taxa de Classificação entre as medidas\n",
        "print(\"Acurácia:\", round(acuracia,4))"
      ],
      "metadata": {
        "colab": {
          "base_uri": "https://localhost:8080/"
        },
        "id": "hOluYhPM7YFw",
        "outputId": "5860c9e6-8318-4bd5-fa0a-4910dafdb41e"
      },
      "execution_count": null,
      "outputs": [
        {
          "output_type": "stream",
          "name": "stdout",
          "text": [
            "Acurácia: 0.9108\n"
          ]
        }
      ]
    },
    {
      "cell_type": "code",
      "source": [
        "np.median(df_altind.Media_Notas)"
      ],
      "metadata": {
        "colab": {
          "base_uri": "https://localhost:8080/"
        },
        "id": "LX8_lMUiE7m8",
        "outputId": "dc4f5da0-4492-446d-b6c5-c9e4f0ca6b7f"
      },
      "execution_count": null,
      "outputs": [
        {
          "output_type": "execute_result",
          "data": {
            "text/plain": [
              "518.92"
            ]
          },
          "metadata": {},
          "execution_count": 10
        }
      ]
    },
    {
      "cell_type": "code",
      "source": [
        "verificar = df_altind.loc[(df_altind['Sum_Target_2'] == 1) &\n",
        "                          (df_altind['Target_Media'] == 0) &\n",
        "                          (df_altind['Sum_Target'] == 4),\n",
        "                          ['Sum_Target', 'Sum_Target_3', 'Sum_Target_2', 'Target_Media', 'Media_Notas']]\n",
        "verificar.head()"
      ],
      "metadata": {
        "colab": {
          "base_uri": "https://localhost:8080/",
          "height": 237
        },
        "id": "6jNYS5ir_LSd",
        "outputId": "9c289ad0-0225-4bd9-a8d1-4476237feebe"
      },
      "execution_count": null,
      "outputs": [
        {
          "output_type": "execute_result",
          "data": {
            "text/plain": [
              "              Sum_Target  Sum_Target_3  Sum_Target_2  Target_Media  \\\n",
              "NU_INSCRICAO                                                         \n",
              "180007187554           4             2             1             0   \n",
              "180007187996           4             2             1             0   \n",
              "180007188059           4             2             1             0   \n",
              "180007190478           4             2             1             0   \n",
              "180007190577           4             2             1             0   \n",
              "\n",
              "              Media_Notas  \n",
              "NU_INSCRICAO               \n",
              "180007187554       515.78  \n",
              "180007187996       513.56  \n",
              "180007188059       501.16  \n",
              "180007190478       515.78  \n",
              "180007190577       508.04  "
            ],
            "text/html": [
              "\n",
              "\n",
              "  <div id=\"df-8c39f1ac-4d91-4a6a-87ff-1de23090d773\">\n",
              "    <div class=\"colab-df-container\">\n",
              "      <div>\n",
              "<style scoped>\n",
              "    .dataframe tbody tr th:only-of-type {\n",
              "        vertical-align: middle;\n",
              "    }\n",
              "\n",
              "    .dataframe tbody tr th {\n",
              "        vertical-align: top;\n",
              "    }\n",
              "\n",
              "    .dataframe thead th {\n",
              "        text-align: right;\n",
              "    }\n",
              "</style>\n",
              "<table border=\"1\" class=\"dataframe\">\n",
              "  <thead>\n",
              "    <tr style=\"text-align: right;\">\n",
              "      <th></th>\n",
              "      <th>Sum_Target</th>\n",
              "      <th>Sum_Target_3</th>\n",
              "      <th>Sum_Target_2</th>\n",
              "      <th>Target_Media</th>\n",
              "      <th>Media_Notas</th>\n",
              "    </tr>\n",
              "    <tr>\n",
              "      <th>NU_INSCRICAO</th>\n",
              "      <th></th>\n",
              "      <th></th>\n",
              "      <th></th>\n",
              "      <th></th>\n",
              "      <th></th>\n",
              "    </tr>\n",
              "  </thead>\n",
              "  <tbody>\n",
              "    <tr>\n",
              "      <th>180007187554</th>\n",
              "      <td>4</td>\n",
              "      <td>2</td>\n",
              "      <td>1</td>\n",
              "      <td>0</td>\n",
              "      <td>515.78</td>\n",
              "    </tr>\n",
              "    <tr>\n",
              "      <th>180007187996</th>\n",
              "      <td>4</td>\n",
              "      <td>2</td>\n",
              "      <td>1</td>\n",
              "      <td>0</td>\n",
              "      <td>513.56</td>\n",
              "    </tr>\n",
              "    <tr>\n",
              "      <th>180007188059</th>\n",
              "      <td>4</td>\n",
              "      <td>2</td>\n",
              "      <td>1</td>\n",
              "      <td>0</td>\n",
              "      <td>501.16</td>\n",
              "    </tr>\n",
              "    <tr>\n",
              "      <th>180007190478</th>\n",
              "      <td>4</td>\n",
              "      <td>2</td>\n",
              "      <td>1</td>\n",
              "      <td>0</td>\n",
              "      <td>515.78</td>\n",
              "    </tr>\n",
              "    <tr>\n",
              "      <th>180007190577</th>\n",
              "      <td>4</td>\n",
              "      <td>2</td>\n",
              "      <td>1</td>\n",
              "      <td>0</td>\n",
              "      <td>508.04</td>\n",
              "    </tr>\n",
              "  </tbody>\n",
              "</table>\n",
              "</div>\n",
              "      <button class=\"colab-df-convert\" onclick=\"convertToInteractive('df-8c39f1ac-4d91-4a6a-87ff-1de23090d773')\"\n",
              "              title=\"Convert this dataframe to an interactive table.\"\n",
              "              style=\"display:none;\">\n",
              "\n",
              "  <svg xmlns=\"http://www.w3.org/2000/svg\" height=\"24px\"viewBox=\"0 0 24 24\"\n",
              "       width=\"24px\">\n",
              "    <path d=\"M0 0h24v24H0V0z\" fill=\"none\"/>\n",
              "    <path d=\"M18.56 5.44l.94 2.06.94-2.06 2.06-.94-2.06-.94-.94-2.06-.94 2.06-2.06.94zm-11 1L8.5 8.5l.94-2.06 2.06-.94-2.06-.94L8.5 2.5l-.94 2.06-2.06.94zm10 10l.94 2.06.94-2.06 2.06-.94-2.06-.94-.94-2.06-.94 2.06-2.06.94z\"/><path d=\"M17.41 7.96l-1.37-1.37c-.4-.4-.92-.59-1.43-.59-.52 0-1.04.2-1.43.59L10.3 9.45l-7.72 7.72c-.78.78-.78 2.05 0 2.83L4 21.41c.39.39.9.59 1.41.59.51 0 1.02-.2 1.41-.59l7.78-7.78 2.81-2.81c.8-.78.8-2.07 0-2.86zM5.41 20L4 18.59l7.72-7.72 1.47 1.35L5.41 20z\"/>\n",
              "  </svg>\n",
              "      </button>\n",
              "\n",
              "\n",
              "\n",
              "    <div id=\"df-3a667877-f26a-4951-9298-30d085c297ca\">\n",
              "      <button class=\"colab-df-quickchart\" onclick=\"quickchart('df-3a667877-f26a-4951-9298-30d085c297ca')\"\n",
              "              title=\"Suggest charts.\"\n",
              "              style=\"display:none;\">\n",
              "\n",
              "<svg xmlns=\"http://www.w3.org/2000/svg\" height=\"24px\"viewBox=\"0 0 24 24\"\n",
              "     width=\"24px\">\n",
              "    <g>\n",
              "        <path d=\"M19 3H5c-1.1 0-2 .9-2 2v14c0 1.1.9 2 2 2h14c1.1 0 2-.9 2-2V5c0-1.1-.9-2-2-2zM9 17H7v-7h2v7zm4 0h-2V7h2v10zm4 0h-2v-4h2v4z\"/>\n",
              "    </g>\n",
              "</svg>\n",
              "      </button>\n",
              "    </div>\n",
              "\n",
              "<style>\n",
              "  .colab-df-quickchart {\n",
              "    background-color: #E8F0FE;\n",
              "    border: none;\n",
              "    border-radius: 50%;\n",
              "    cursor: pointer;\n",
              "    display: none;\n",
              "    fill: #1967D2;\n",
              "    height: 32px;\n",
              "    padding: 0 0 0 0;\n",
              "    width: 32px;\n",
              "  }\n",
              "\n",
              "  .colab-df-quickchart:hover {\n",
              "    background-color: #E2EBFA;\n",
              "    box-shadow: 0px 1px 2px rgba(60, 64, 67, 0.3), 0px 1px 3px 1px rgba(60, 64, 67, 0.15);\n",
              "    fill: #174EA6;\n",
              "  }\n",
              "\n",
              "  [theme=dark] .colab-df-quickchart {\n",
              "    background-color: #3B4455;\n",
              "    fill: #D2E3FC;\n",
              "  }\n",
              "\n",
              "  [theme=dark] .colab-df-quickchart:hover {\n",
              "    background-color: #434B5C;\n",
              "    box-shadow: 0px 1px 3px 1px rgba(0, 0, 0, 0.15);\n",
              "    filter: drop-shadow(0px 1px 2px rgba(0, 0, 0, 0.3));\n",
              "    fill: #FFFFFF;\n",
              "  }\n",
              "</style>\n",
              "\n",
              "    <script>\n",
              "      async function quickchart(key) {\n",
              "        const containerElement = document.querySelector('#' + key);\n",
              "        const charts = await google.colab.kernel.invokeFunction(\n",
              "            'suggestCharts', [key], {});\n",
              "      }\n",
              "    </script>\n",
              "\n",
              "      <script>\n",
              "\n",
              "function displayQuickchartButton(domScope) {\n",
              "  let quickchartButtonEl =\n",
              "    domScope.querySelector('#df-3a667877-f26a-4951-9298-30d085c297ca button.colab-df-quickchart');\n",
              "  quickchartButtonEl.style.display =\n",
              "    google.colab.kernel.accessAllowed ? 'block' : 'none';\n",
              "}\n",
              "\n",
              "        displayQuickchartButton(document);\n",
              "      </script>\n",
              "      <style>\n",
              "    .colab-df-container {\n",
              "      display:flex;\n",
              "      flex-wrap:wrap;\n",
              "      gap: 12px;\n",
              "    }\n",
              "\n",
              "    .colab-df-convert {\n",
              "      background-color: #E8F0FE;\n",
              "      border: none;\n",
              "      border-radius: 50%;\n",
              "      cursor: pointer;\n",
              "      display: none;\n",
              "      fill: #1967D2;\n",
              "      height: 32px;\n",
              "      padding: 0 0 0 0;\n",
              "      width: 32px;\n",
              "    }\n",
              "\n",
              "    .colab-df-convert:hover {\n",
              "      background-color: #E2EBFA;\n",
              "      box-shadow: 0px 1px 2px rgba(60, 64, 67, 0.3), 0px 1px 3px 1px rgba(60, 64, 67, 0.15);\n",
              "      fill: #174EA6;\n",
              "    }\n",
              "\n",
              "    [theme=dark] .colab-df-convert {\n",
              "      background-color: #3B4455;\n",
              "      fill: #D2E3FC;\n",
              "    }\n",
              "\n",
              "    [theme=dark] .colab-df-convert:hover {\n",
              "      background-color: #434B5C;\n",
              "      box-shadow: 0px 1px 3px 1px rgba(0, 0, 0, 0.15);\n",
              "      filter: drop-shadow(0px 1px 2px rgba(0, 0, 0, 0.3));\n",
              "      fill: #FFFFFF;\n",
              "    }\n",
              "  </style>\n",
              "\n",
              "      <script>\n",
              "        const buttonEl =\n",
              "          document.querySelector('#df-8c39f1ac-4d91-4a6a-87ff-1de23090d773 button.colab-df-convert');\n",
              "        buttonEl.style.display =\n",
              "          google.colab.kernel.accessAllowed ? 'block' : 'none';\n",
              "\n",
              "        async function convertToInteractive(key) {\n",
              "          const element = document.querySelector('#df-8c39f1ac-4d91-4a6a-87ff-1de23090d773');\n",
              "          const dataTable =\n",
              "            await google.colab.kernel.invokeFunction('convertToInteractive',\n",
              "                                                     [key], {});\n",
              "          if (!dataTable) return;\n",
              "\n",
              "          const docLinkHtml = 'Like what you see? Visit the ' +\n",
              "            '<a target=\"_blank\" href=https://colab.research.google.com/notebooks/data_table.ipynb>data table notebook</a>'\n",
              "            + ' to learn more about interactive tables.';\n",
              "          element.innerHTML = '';\n",
              "          dataTable['output_type'] = 'display_data';\n",
              "          await google.colab.output.renderOutput(dataTable, element);\n",
              "          const docLink = document.createElement('div');\n",
              "          docLink.innerHTML = docLinkHtml;\n",
              "          element.appendChild(docLink);\n",
              "        }\n",
              "      </script>\n",
              "    </div>\n",
              "  </div>\n"
            ]
          },
          "metadata": {},
          "execution_count": 11
        }
      ]
    },
    {
      "cell_type": "code",
      "source": [
        "verificar.Sum_Target.value_counts().sort_index()"
      ],
      "metadata": {
        "colab": {
          "base_uri": "https://localhost:8080/"
        },
        "id": "bZXzg7Rr-SLh",
        "outputId": "f5fd0c91-f365-431f-823b-d6c75d4360cd"
      },
      "execution_count": null,
      "outputs": [
        {
          "output_type": "execute_result",
          "data": {
            "text/plain": [
              "4    12259\n",
              "Name: Sum_Target, dtype: int64"
            ]
          },
          "metadata": {},
          "execution_count": 12
        }
      ]
    },
    {
      "cell_type": "code",
      "source": [
        "verificar2 = df_altind.loc[[180007187000], ['NU_NOTA_CN', 'NU_NOTA_CH', 'NU_NOTA_LC', 'NU_NOTA_MT', 'NU_NOTA_REDACAO']]\n",
        "verificar2"
      ],
      "metadata": {
        "colab": {
          "base_uri": "https://localhost:8080/",
          "height": 112
        },
        "id": "o6LB2JSaFYqQ",
        "outputId": "0799cf11-9e2f-432f-8111-c40bf4848aec"
      },
      "execution_count": null,
      "outputs": [
        {
          "output_type": "execute_result",
          "data": {
            "text/plain": [
              "              NU_NOTA_CN  NU_NOTA_CH  NU_NOTA_LC  NU_NOTA_MT  NU_NOTA_REDACAO\n",
              "NU_INSCRICAO                                                                 \n",
              "180007187000       460.1       579.4       474.3       650.5            480.0"
            ],
            "text/html": [
              "\n",
              "\n",
              "  <div id=\"df-baea357d-06e1-4fcb-bf0d-cdb9c6d1beaf\">\n",
              "    <div class=\"colab-df-container\">\n",
              "      <div>\n",
              "<style scoped>\n",
              "    .dataframe tbody tr th:only-of-type {\n",
              "        vertical-align: middle;\n",
              "    }\n",
              "\n",
              "    .dataframe tbody tr th {\n",
              "        vertical-align: top;\n",
              "    }\n",
              "\n",
              "    .dataframe thead th {\n",
              "        text-align: right;\n",
              "    }\n",
              "</style>\n",
              "<table border=\"1\" class=\"dataframe\">\n",
              "  <thead>\n",
              "    <tr style=\"text-align: right;\">\n",
              "      <th></th>\n",
              "      <th>NU_NOTA_CN</th>\n",
              "      <th>NU_NOTA_CH</th>\n",
              "      <th>NU_NOTA_LC</th>\n",
              "      <th>NU_NOTA_MT</th>\n",
              "      <th>NU_NOTA_REDACAO</th>\n",
              "    </tr>\n",
              "    <tr>\n",
              "      <th>NU_INSCRICAO</th>\n",
              "      <th></th>\n",
              "      <th></th>\n",
              "      <th></th>\n",
              "      <th></th>\n",
              "      <th></th>\n",
              "    </tr>\n",
              "  </thead>\n",
              "  <tbody>\n",
              "    <tr>\n",
              "      <th>180007187000</th>\n",
              "      <td>460.1</td>\n",
              "      <td>579.4</td>\n",
              "      <td>474.3</td>\n",
              "      <td>650.5</td>\n",
              "      <td>480.0</td>\n",
              "    </tr>\n",
              "  </tbody>\n",
              "</table>\n",
              "</div>\n",
              "      <button class=\"colab-df-convert\" onclick=\"convertToInteractive('df-baea357d-06e1-4fcb-bf0d-cdb9c6d1beaf')\"\n",
              "              title=\"Convert this dataframe to an interactive table.\"\n",
              "              style=\"display:none;\">\n",
              "\n",
              "  <svg xmlns=\"http://www.w3.org/2000/svg\" height=\"24px\"viewBox=\"0 0 24 24\"\n",
              "       width=\"24px\">\n",
              "    <path d=\"M0 0h24v24H0V0z\" fill=\"none\"/>\n",
              "    <path d=\"M18.56 5.44l.94 2.06.94-2.06 2.06-.94-2.06-.94-.94-2.06-.94 2.06-2.06.94zm-11 1L8.5 8.5l.94-2.06 2.06-.94-2.06-.94L8.5 2.5l-.94 2.06-2.06.94zm10 10l.94 2.06.94-2.06 2.06-.94-2.06-.94-.94-2.06-.94 2.06-2.06.94z\"/><path d=\"M17.41 7.96l-1.37-1.37c-.4-.4-.92-.59-1.43-.59-.52 0-1.04.2-1.43.59L10.3 9.45l-7.72 7.72c-.78.78-.78 2.05 0 2.83L4 21.41c.39.39.9.59 1.41.59.51 0 1.02-.2 1.41-.59l7.78-7.78 2.81-2.81c.8-.78.8-2.07 0-2.86zM5.41 20L4 18.59l7.72-7.72 1.47 1.35L5.41 20z\"/>\n",
              "  </svg>\n",
              "      </button>\n",
              "\n",
              "\n",
              "\n",
              "    <div id=\"df-0fe77167-86ab-4bac-97ad-9c5012ec4499\">\n",
              "      <button class=\"colab-df-quickchart\" onclick=\"quickchart('df-0fe77167-86ab-4bac-97ad-9c5012ec4499')\"\n",
              "              title=\"Suggest charts.\"\n",
              "              style=\"display:none;\">\n",
              "\n",
              "<svg xmlns=\"http://www.w3.org/2000/svg\" height=\"24px\"viewBox=\"0 0 24 24\"\n",
              "     width=\"24px\">\n",
              "    <g>\n",
              "        <path d=\"M19 3H5c-1.1 0-2 .9-2 2v14c0 1.1.9 2 2 2h14c1.1 0 2-.9 2-2V5c0-1.1-.9-2-2-2zM9 17H7v-7h2v7zm4 0h-2V7h2v10zm4 0h-2v-4h2v4z\"/>\n",
              "    </g>\n",
              "</svg>\n",
              "      </button>\n",
              "    </div>\n",
              "\n",
              "<style>\n",
              "  .colab-df-quickchart {\n",
              "    background-color: #E8F0FE;\n",
              "    border: none;\n",
              "    border-radius: 50%;\n",
              "    cursor: pointer;\n",
              "    display: none;\n",
              "    fill: #1967D2;\n",
              "    height: 32px;\n",
              "    padding: 0 0 0 0;\n",
              "    width: 32px;\n",
              "  }\n",
              "\n",
              "  .colab-df-quickchart:hover {\n",
              "    background-color: #E2EBFA;\n",
              "    box-shadow: 0px 1px 2px rgba(60, 64, 67, 0.3), 0px 1px 3px 1px rgba(60, 64, 67, 0.15);\n",
              "    fill: #174EA6;\n",
              "  }\n",
              "\n",
              "  [theme=dark] .colab-df-quickchart {\n",
              "    background-color: #3B4455;\n",
              "    fill: #D2E3FC;\n",
              "  }\n",
              "\n",
              "  [theme=dark] .colab-df-quickchart:hover {\n",
              "    background-color: #434B5C;\n",
              "    box-shadow: 0px 1px 3px 1px rgba(0, 0, 0, 0.15);\n",
              "    filter: drop-shadow(0px 1px 2px rgba(0, 0, 0, 0.3));\n",
              "    fill: #FFFFFF;\n",
              "  }\n",
              "</style>\n",
              "\n",
              "    <script>\n",
              "      async function quickchart(key) {\n",
              "        const containerElement = document.querySelector('#' + key);\n",
              "        const charts = await google.colab.kernel.invokeFunction(\n",
              "            'suggestCharts', [key], {});\n",
              "      }\n",
              "    </script>\n",
              "\n",
              "      <script>\n",
              "\n",
              "function displayQuickchartButton(domScope) {\n",
              "  let quickchartButtonEl =\n",
              "    domScope.querySelector('#df-0fe77167-86ab-4bac-97ad-9c5012ec4499 button.colab-df-quickchart');\n",
              "  quickchartButtonEl.style.display =\n",
              "    google.colab.kernel.accessAllowed ? 'block' : 'none';\n",
              "}\n",
              "\n",
              "        displayQuickchartButton(document);\n",
              "      </script>\n",
              "      <style>\n",
              "    .colab-df-container {\n",
              "      display:flex;\n",
              "      flex-wrap:wrap;\n",
              "      gap: 12px;\n",
              "    }\n",
              "\n",
              "    .colab-df-convert {\n",
              "      background-color: #E8F0FE;\n",
              "      border: none;\n",
              "      border-radius: 50%;\n",
              "      cursor: pointer;\n",
              "      display: none;\n",
              "      fill: #1967D2;\n",
              "      height: 32px;\n",
              "      padding: 0 0 0 0;\n",
              "      width: 32px;\n",
              "    }\n",
              "\n",
              "    .colab-df-convert:hover {\n",
              "      background-color: #E2EBFA;\n",
              "      box-shadow: 0px 1px 2px rgba(60, 64, 67, 0.3), 0px 1px 3px 1px rgba(60, 64, 67, 0.15);\n",
              "      fill: #174EA6;\n",
              "    }\n",
              "\n",
              "    [theme=dark] .colab-df-convert {\n",
              "      background-color: #3B4455;\n",
              "      fill: #D2E3FC;\n",
              "    }\n",
              "\n",
              "    [theme=dark] .colab-df-convert:hover {\n",
              "      background-color: #434B5C;\n",
              "      box-shadow: 0px 1px 3px 1px rgba(0, 0, 0, 0.15);\n",
              "      filter: drop-shadow(0px 1px 2px rgba(0, 0, 0, 0.3));\n",
              "      fill: #FFFFFF;\n",
              "    }\n",
              "  </style>\n",
              "\n",
              "      <script>\n",
              "        const buttonEl =\n",
              "          document.querySelector('#df-baea357d-06e1-4fcb-bf0d-cdb9c6d1beaf button.colab-df-convert');\n",
              "        buttonEl.style.display =\n",
              "          google.colab.kernel.accessAllowed ? 'block' : 'none';\n",
              "\n",
              "        async function convertToInteractive(key) {\n",
              "          const element = document.querySelector('#df-baea357d-06e1-4fcb-bf0d-cdb9c6d1beaf');\n",
              "          const dataTable =\n",
              "            await google.colab.kernel.invokeFunction('convertToInteractive',\n",
              "                                                     [key], {});\n",
              "          if (!dataTable) return;\n",
              "\n",
              "          const docLinkHtml = 'Like what you see? Visit the ' +\n",
              "            '<a target=\"_blank\" href=https://colab.research.google.com/notebooks/data_table.ipynb>data table notebook</a>'\n",
              "            + ' to learn more about interactive tables.';\n",
              "          element.innerHTML = '';\n",
              "          dataTable['output_type'] = 'display_data';\n",
              "          await google.colab.output.renderOutput(dataTable, element);\n",
              "          const docLink = document.createElement('div');\n",
              "          docLink.innerHTML = docLinkHtml;\n",
              "          element.appendChild(docLink);\n",
              "        }\n",
              "      </script>\n",
              "    </div>\n",
              "  </div>\n"
            ]
          },
          "metadata": {},
          "execution_count": 13
        }
      ]
    },
    {
      "cell_type": "code",
      "source": [
        "verificar3 = df_altind.loc[[180007187554],\n",
        "                           ['NU_NOTA_CN', 'NU_NOTA_CH', 'NU_NOTA_LC', 'NU_NOTA_MT', 'NU_NOTA_REDACAO']]\n",
        "verificar3"
      ],
      "metadata": {
        "colab": {
          "base_uri": "https://localhost:8080/",
          "height": 112
        },
        "id": "CWRgCy1LJ-XB",
        "outputId": "c61e0718-4880-4841-a835-915e2b6a1585"
      },
      "execution_count": null,
      "outputs": [
        {
          "output_type": "execute_result",
          "data": {
            "text/plain": [
              "              NU_NOTA_CN  NU_NOTA_CH  NU_NOTA_LC  NU_NOTA_MT  NU_NOTA_REDACAO\n",
              "NU_INSCRICAO                                                                 \n",
              "180007187554       385.1       596.0       542.2       515.6            540.0"
            ],
            "text/html": [
              "\n",
              "\n",
              "  <div id=\"df-30a57eb8-61f8-4977-8667-ec4242ee3ffb\">\n",
              "    <div class=\"colab-df-container\">\n",
              "      <div>\n",
              "<style scoped>\n",
              "    .dataframe tbody tr th:only-of-type {\n",
              "        vertical-align: middle;\n",
              "    }\n",
              "\n",
              "    .dataframe tbody tr th {\n",
              "        vertical-align: top;\n",
              "    }\n",
              "\n",
              "    .dataframe thead th {\n",
              "        text-align: right;\n",
              "    }\n",
              "</style>\n",
              "<table border=\"1\" class=\"dataframe\">\n",
              "  <thead>\n",
              "    <tr style=\"text-align: right;\">\n",
              "      <th></th>\n",
              "      <th>NU_NOTA_CN</th>\n",
              "      <th>NU_NOTA_CH</th>\n",
              "      <th>NU_NOTA_LC</th>\n",
              "      <th>NU_NOTA_MT</th>\n",
              "      <th>NU_NOTA_REDACAO</th>\n",
              "    </tr>\n",
              "    <tr>\n",
              "      <th>NU_INSCRICAO</th>\n",
              "      <th></th>\n",
              "      <th></th>\n",
              "      <th></th>\n",
              "      <th></th>\n",
              "      <th></th>\n",
              "    </tr>\n",
              "  </thead>\n",
              "  <tbody>\n",
              "    <tr>\n",
              "      <th>180007187554</th>\n",
              "      <td>385.1</td>\n",
              "      <td>596.0</td>\n",
              "      <td>542.2</td>\n",
              "      <td>515.6</td>\n",
              "      <td>540.0</td>\n",
              "    </tr>\n",
              "  </tbody>\n",
              "</table>\n",
              "</div>\n",
              "      <button class=\"colab-df-convert\" onclick=\"convertToInteractive('df-30a57eb8-61f8-4977-8667-ec4242ee3ffb')\"\n",
              "              title=\"Convert this dataframe to an interactive table.\"\n",
              "              style=\"display:none;\">\n",
              "\n",
              "  <svg xmlns=\"http://www.w3.org/2000/svg\" height=\"24px\"viewBox=\"0 0 24 24\"\n",
              "       width=\"24px\">\n",
              "    <path d=\"M0 0h24v24H0V0z\" fill=\"none\"/>\n",
              "    <path d=\"M18.56 5.44l.94 2.06.94-2.06 2.06-.94-2.06-.94-.94-2.06-.94 2.06-2.06.94zm-11 1L8.5 8.5l.94-2.06 2.06-.94-2.06-.94L8.5 2.5l-.94 2.06-2.06.94zm10 10l.94 2.06.94-2.06 2.06-.94-2.06-.94-.94-2.06-.94 2.06-2.06.94z\"/><path d=\"M17.41 7.96l-1.37-1.37c-.4-.4-.92-.59-1.43-.59-.52 0-1.04.2-1.43.59L10.3 9.45l-7.72 7.72c-.78.78-.78 2.05 0 2.83L4 21.41c.39.39.9.59 1.41.59.51 0 1.02-.2 1.41-.59l7.78-7.78 2.81-2.81c.8-.78.8-2.07 0-2.86zM5.41 20L4 18.59l7.72-7.72 1.47 1.35L5.41 20z\"/>\n",
              "  </svg>\n",
              "      </button>\n",
              "\n",
              "\n",
              "\n",
              "    <div id=\"df-ebcda3e0-ec3e-4922-9109-d624440bed74\">\n",
              "      <button class=\"colab-df-quickchart\" onclick=\"quickchart('df-ebcda3e0-ec3e-4922-9109-d624440bed74')\"\n",
              "              title=\"Suggest charts.\"\n",
              "              style=\"display:none;\">\n",
              "\n",
              "<svg xmlns=\"http://www.w3.org/2000/svg\" height=\"24px\"viewBox=\"0 0 24 24\"\n",
              "     width=\"24px\">\n",
              "    <g>\n",
              "        <path d=\"M19 3H5c-1.1 0-2 .9-2 2v14c0 1.1.9 2 2 2h14c1.1 0 2-.9 2-2V5c0-1.1-.9-2-2-2zM9 17H7v-7h2v7zm4 0h-2V7h2v10zm4 0h-2v-4h2v4z\"/>\n",
              "    </g>\n",
              "</svg>\n",
              "      </button>\n",
              "    </div>\n",
              "\n",
              "<style>\n",
              "  .colab-df-quickchart {\n",
              "    background-color: #E8F0FE;\n",
              "    border: none;\n",
              "    border-radius: 50%;\n",
              "    cursor: pointer;\n",
              "    display: none;\n",
              "    fill: #1967D2;\n",
              "    height: 32px;\n",
              "    padding: 0 0 0 0;\n",
              "    width: 32px;\n",
              "  }\n",
              "\n",
              "  .colab-df-quickchart:hover {\n",
              "    background-color: #E2EBFA;\n",
              "    box-shadow: 0px 1px 2px rgba(60, 64, 67, 0.3), 0px 1px 3px 1px rgba(60, 64, 67, 0.15);\n",
              "    fill: #174EA6;\n",
              "  }\n",
              "\n",
              "  [theme=dark] .colab-df-quickchart {\n",
              "    background-color: #3B4455;\n",
              "    fill: #D2E3FC;\n",
              "  }\n",
              "\n",
              "  [theme=dark] .colab-df-quickchart:hover {\n",
              "    background-color: #434B5C;\n",
              "    box-shadow: 0px 1px 3px 1px rgba(0, 0, 0, 0.15);\n",
              "    filter: drop-shadow(0px 1px 2px rgba(0, 0, 0, 0.3));\n",
              "    fill: #FFFFFF;\n",
              "  }\n",
              "</style>\n",
              "\n",
              "    <script>\n",
              "      async function quickchart(key) {\n",
              "        const containerElement = document.querySelector('#' + key);\n",
              "        const charts = await google.colab.kernel.invokeFunction(\n",
              "            'suggestCharts', [key], {});\n",
              "      }\n",
              "    </script>\n",
              "\n",
              "      <script>\n",
              "\n",
              "function displayQuickchartButton(domScope) {\n",
              "  let quickchartButtonEl =\n",
              "    domScope.querySelector('#df-ebcda3e0-ec3e-4922-9109-d624440bed74 button.colab-df-quickchart');\n",
              "  quickchartButtonEl.style.display =\n",
              "    google.colab.kernel.accessAllowed ? 'block' : 'none';\n",
              "}\n",
              "\n",
              "        displayQuickchartButton(document);\n",
              "      </script>\n",
              "      <style>\n",
              "    .colab-df-container {\n",
              "      display:flex;\n",
              "      flex-wrap:wrap;\n",
              "      gap: 12px;\n",
              "    }\n",
              "\n",
              "    .colab-df-convert {\n",
              "      background-color: #E8F0FE;\n",
              "      border: none;\n",
              "      border-radius: 50%;\n",
              "      cursor: pointer;\n",
              "      display: none;\n",
              "      fill: #1967D2;\n",
              "      height: 32px;\n",
              "      padding: 0 0 0 0;\n",
              "      width: 32px;\n",
              "    }\n",
              "\n",
              "    .colab-df-convert:hover {\n",
              "      background-color: #E2EBFA;\n",
              "      box-shadow: 0px 1px 2px rgba(60, 64, 67, 0.3), 0px 1px 3px 1px rgba(60, 64, 67, 0.15);\n",
              "      fill: #174EA6;\n",
              "    }\n",
              "\n",
              "    [theme=dark] .colab-df-convert {\n",
              "      background-color: #3B4455;\n",
              "      fill: #D2E3FC;\n",
              "    }\n",
              "\n",
              "    [theme=dark] .colab-df-convert:hover {\n",
              "      background-color: #434B5C;\n",
              "      box-shadow: 0px 1px 3px 1px rgba(0, 0, 0, 0.15);\n",
              "      filter: drop-shadow(0px 1px 2px rgba(0, 0, 0, 0.3));\n",
              "      fill: #FFFFFF;\n",
              "    }\n",
              "  </style>\n",
              "\n",
              "      <script>\n",
              "        const buttonEl =\n",
              "          document.querySelector('#df-30a57eb8-61f8-4977-8667-ec4242ee3ffb button.colab-df-convert');\n",
              "        buttonEl.style.display =\n",
              "          google.colab.kernel.accessAllowed ? 'block' : 'none';\n",
              "\n",
              "        async function convertToInteractive(key) {\n",
              "          const element = document.querySelector('#df-30a57eb8-61f8-4977-8667-ec4242ee3ffb');\n",
              "          const dataTable =\n",
              "            await google.colab.kernel.invokeFunction('convertToInteractive',\n",
              "                                                     [key], {});\n",
              "          if (!dataTable) return;\n",
              "\n",
              "          const docLinkHtml = 'Like what you see? Visit the ' +\n",
              "            '<a target=\"_blank\" href=https://colab.research.google.com/notebooks/data_table.ipynb>data table notebook</a>'\n",
              "            + ' to learn more about interactive tables.';\n",
              "          element.innerHTML = '';\n",
              "          dataTable['output_type'] = 'display_data';\n",
              "          await google.colab.output.renderOutput(dataTable, element);\n",
              "          const docLink = document.createElement('div');\n",
              "          docLink.innerHTML = docLinkHtml;\n",
              "          element.appendChild(docLink);\n",
              "        }\n",
              "      </script>\n",
              "    </div>\n",
              "  </div>\n"
            ]
          },
          "metadata": {},
          "execution_count": 14
        }
      ]
    },
    {
      "cell_type": "markdown",
      "source": [
        "- 'Sum_Target' == 0 e 'Target_Media' == 1\n",
        "\n",
        "Correspondem aos alunos que vão muito bem em apenas 1 ou 2 competências. Assim a média fica alta.\n",
        "\n",
        "\n",
        "- 'Sum_Target' == 1 e 'Target_Media' == 0\n",
        "\n",
        "Correspondem aos alunos que vão bem de forma mediana em 3 ou 4 competências, mesmo assim, a média é baixa, ou, vão muito mau em uma ou duas competências.\n"
      ],
      "metadata": {
        "id": "F9oohd7SIkVd"
      }
    },
    {
      "cell_type": "markdown",
      "source": [
        "# **Amostra para Análise dos Hiperparâmetros**"
      ],
      "metadata": {
        "id": "yzJZ_oodKuLp"
      }
    },
    {
      "cell_type": "code",
      "source": [
        "df_altind['grupo_valid'] =  [1 if rd.random() < 0.01 else 0 for _ in range(len(df_altind))]"
      ],
      "metadata": {
        "id": "zb3YUe5pLLHL"
      },
      "execution_count": null,
      "outputs": []
    },
    {
      "cell_type": "code",
      "source": [
        "df_altind.grupo_valid.value_counts()"
      ],
      "metadata": {
        "colab": {
          "base_uri": "https://localhost:8080/"
        },
        "id": "0mpIj1d5QCgt",
        "outputId": "02943f68-f3d5-4c0a-abe3-461b271ae881"
      },
      "execution_count": null,
      "outputs": [
        {
          "output_type": "execute_result",
          "data": {
            "text/plain": [
              "0    3335214\n",
              "1      33890\n",
              "Name: grupo_valid, dtype: int64"
            ]
          },
          "metadata": {},
          "execution_count": 12
        }
      ]
    },
    {
      "cell_type": "code",
      "source": [
        "df_altind.to_csv('/content/drive/MyDrive/MBA_TCC/DADOS/df_altind_2018.csv')"
      ],
      "metadata": {
        "id": "Vmt0Wh-3ec6Y"
      },
      "execution_count": null,
      "outputs": []
    },
    {
      "cell_type": "code",
      "source": [
        "df_altind = pd.read_csv('/content/drive/MyDrive/MBA_TCC/DADOS/df_altind_2018.csv',sep=',',encoding='ISO-8859-1')\n",
        "df_altind.shape"
      ],
      "metadata": {
        "id": "_7zFxYAbZwxj",
        "colab": {
          "base_uri": "https://localhost:8080/"
        },
        "outputId": "cccb73ab-ca2a-4d90-fc72-ac81e2da4540"
      },
      "execution_count": null,
      "outputs": [
        {
          "output_type": "execute_result",
          "data": {
            "text/plain": [
              "(3369104, 63)"
            ]
          },
          "metadata": {},
          "execution_count": 3
        }
      ]
    },
    {
      "cell_type": "markdown",
      "source": [
        "# **Seleção de Variáveis Independentes**"
      ],
      "metadata": {
        "id": "O03WvEIB9zNL"
      }
    },
    {
      "cell_type": "code",
      "source": [
        "def f_selec_varind(df):\n",
        "  df_VarInd = df[[\n",
        "    'TP_SEXO', 'TP_LINGUA', 'TP_FAIXA_ETARIA_', 'TP_ESTADO_CIVIL_', 'TP_COR_RACA_', 'TP_ANO_CONCLUIU_',\n",
        "    'TP_ESCOLA_', 'TP_ENSINO_', 'RegGeo_Prova', 'Q001', 'Q002', 'Q003', 'Q004', 'Q005_', 'Q006_', 'Q007_',\n",
        "    'Q008_', 'Q009_', 'Q010_', 'Q011_', 'Q012_', 'Q013_', 'Q014_', 'Q015_', 'Q016_', 'Q017_', 'Q018',\n",
        "    'Q019_', 'Q020', 'Q021', 'Q022', 'Q023', 'Q024_', 'Q025'\n",
        "    ]]\n",
        "  return df_VarInd"
      ],
      "metadata": {
        "id": "iyM3qT9y6NlI"
      },
      "execution_count": 3,
      "outputs": []
    },
    {
      "cell_type": "code",
      "source": [
        "def f_trans_var_intcateg(df):\n",
        "  X = pd.DataFrame()\n",
        "  for column in df:\n",
        "    X[column] = df[column].astype('object')\n",
        "  return X"
      ],
      "metadata": {
        "id": "F2ZBhYLXmcdv"
      },
      "execution_count": 4,
      "outputs": []
    },
    {
      "cell_type": "markdown",
      "source": [
        "# **Definição do Target**"
      ],
      "metadata": {
        "id": "fu2ZiufCZSRT"
      }
    },
    {
      "cell_type": "code",
      "source": [
        "def f_def_target(df):\n",
        "  Y = df[['Sum_Target_2','Target_Media']]\n",
        "  return Y"
      ],
      "metadata": {
        "id": "YnjCx7voZZJo"
      },
      "execution_count": 5,
      "outputs": []
    },
    {
      "cell_type": "markdown",
      "source": [
        "# **Seleção de Variáveis Relevantes**"
      ],
      "metadata": {
        "id": "gb6fR7e6exaY"
      }
    },
    {
      "cell_type": "markdown",
      "source": [
        "- Seleção de k variáveis relevantes através da estatística Chi^2 que irá verificar a associação de cada variável independente e o target. Quanto maior o valor dessa estatística, mais provável é a associação.\n",
        "- Há outros métodos, como a 'mutual_info_classif', cada qual podem escolher diferentes variáveis. Verificar e testar.\n",
        "- Vantagem: obter a mesma acurácia com uma fração menor de variáveis.\n",
        "\n",
        "- Aqui, optou por excluir 20% das variáveis com menor valor da estatística."
      ],
      "metadata": {
        "id": "akRY7po-dFjd"
      }
    },
    {
      "cell_type": "code",
      "source": [
        "def f_kbestVar(df,Y,k):\n",
        "  k_bestVar = SelectKBest(chi2, k=k)\n",
        "  df_k_VarInd = k_bestVar.fit_transform(df, Y)\n",
        "  cols = k_bestVar.get_support()\n",
        "  names = df.columns.values[cols]\n",
        "  scores = k_bestVar.scores_[cols]\n",
        "  names_scores = list(zip(names, scores))\n",
        "  print(names_scores)\n",
        "  return cols"
      ],
      "metadata": {
        "id": "ueLNR0ddfPQ4"
      },
      "execution_count": 6,
      "outputs": []
    },
    {
      "cell_type": "markdown",
      "source": [
        "# **Codificação**"
      ],
      "metadata": {
        "id": "ZzyWnY3Rv0w5"
      }
    },
    {
      "cell_type": "code",
      "source": [
        "# Encoding\n",
        "def f_onehotencoder(df):\n",
        "  df_OneHot =  pd.DataFrame()\n",
        "  X = pd.DataFrame()\n",
        "  i = 0\n",
        "\n",
        "  for column in df:\n",
        "    df_OneHot = pd.get_dummies(df[column], prefix=df.columns[i], prefix_sep='_', drop_first=True)\n",
        "    X = pd.concat([X, df_OneHot], axis=1)\n",
        "    i = i + 1\n",
        "  return X"
      ],
      "metadata": {
        "id": "QU9Shinhp5Pw"
      },
      "execution_count": 7,
      "outputs": []
    },
    {
      "cell_type": "code",
      "source": [
        "def f_labelencoder(df):\n",
        "  le = LabelEncoder()\n",
        "  X = pd.DataFrame()\n",
        "\n",
        "  for column in df:\n",
        "    X[column] = le.fit_transform(df[column])\n",
        "  return X"
      ],
      "metadata": {
        "id": "71bdxl3Xv5g_"
      },
      "execution_count": 8,
      "outputs": []
    },
    {
      "cell_type": "code",
      "source": [
        "df_VarInd.head(50).to_excel('/content/drive/MyDrive/MBA_TCC/RESULTADOS/Verificar_OneHot_1_2018.xlsx', index=False)\n",
        "df_OneHot.head(50).to_excel('/content/drive/MyDrive/MBA_TCC/RESULTADOS/Verificar_OneHot_2_2018.xlsx', index=False)"
      ],
      "metadata": {
        "id": "IwfkRHrdf8fA"
      },
      "execution_count": null,
      "outputs": []
    },
    {
      "cell_type": "markdown",
      "source": [
        "# **Pré-processamento Final**"
      ],
      "metadata": {
        "id": "z_RM9jKBTtMa"
      }
    },
    {
      "cell_type": "markdown",
      "source": [
        "- Amostra (1%) para verificação dos parâmetros de cada algoritmo."
      ],
      "metadata": {
        "id": "EutuIXcHG9NG"
      }
    },
    {
      "cell_type": "code",
      "source": [
        "# Amostra\n",
        "df_analise = df_altind.loc[df_altind['grupo_valid'] == 1]\n",
        "df_analise.shape"
      ],
      "metadata": {
        "colab": {
          "base_uri": "https://localhost:8080/"
        },
        "id": "3nsrxSjKXf18",
        "outputId": "52e034fe-6f5e-4dc5-aa4a-9e359c72803a"
      },
      "execution_count": null,
      "outputs": [
        {
          "output_type": "execute_result",
          "data": {
            "text/plain": [
              "(33890, 63)"
            ]
          },
          "metadata": {},
          "execution_count": 56
        }
      ]
    },
    {
      "cell_type": "code",
      "source": [
        "df_analise.to_csv('/content/drive/MyDrive/MBA_TCC/DADOS/df_analise_2018.csv')"
      ],
      "metadata": {
        "id": "4x3YtFq-q4_g"
      },
      "execution_count": null,
      "outputs": []
    },
    {
      "cell_type": "code",
      "source": [
        "df_analise = pd.read_csv('/content/drive/MyDrive/MBA_TCC/DADOS/df_analise_2018.csv',sep=',',encoding='ISO-8859-1', index_col=1)\n",
        "df_analise.shape"
      ],
      "metadata": {
        "colab": {
          "base_uri": "https://localhost:8080/"
        },
        "id": "4oXV5KE0qxK_",
        "outputId": "5f7526bb-d8b5-499b-99f6-e3e8d894b575"
      },
      "execution_count": 9,
      "outputs": [
        {
          "output_type": "execute_result",
          "data": {
            "text/plain": [
              "(33890, 63)"
            ]
          },
          "metadata": {},
          "execution_count": 9
        }
      ]
    },
    {
      "cell_type": "code",
      "source": [
        "# Seleção das Variáveis Independentes\n",
        "df_VarInd = f_selec_varind(df_analise)\n",
        "df_VarInd.shape"
      ],
      "metadata": {
        "colab": {
          "base_uri": "https://localhost:8080/"
        },
        "id": "cJq8y6FYXUvo",
        "outputId": "61de06f5-72cf-4024-d256-cbfb7252d675"
      },
      "execution_count": 10,
      "outputs": [
        {
          "output_type": "execute_result",
          "data": {
            "text/plain": [
              "(33890, 34)"
            ]
          },
          "metadata": {},
          "execution_count": 10
        }
      ]
    },
    {
      "cell_type": "code",
      "source": [
        "# Codificação LabelEncoder\n",
        "df_VarEnc = f_labelencoder(df_VarInd)\n",
        "df_VarEnc.shape"
      ],
      "metadata": {
        "colab": {
          "base_uri": "https://localhost:8080/"
        },
        "id": "_Xcqdxw8fSk8",
        "outputId": "01853d8a-a53b-46c8-c0a5-e4fe8cee44af"
      },
      "execution_count": 11,
      "outputs": [
        {
          "output_type": "execute_result",
          "data": {
            "text/plain": [
              "(33890, 34)"
            ]
          },
          "metadata": {},
          "execution_count": 11
        }
      ]
    },
    {
      "cell_type": "code",
      "source": [
        "# Seleção do Target\n",
        "Y = f_def_target(df_analise)\n",
        "Y.shape"
      ],
      "metadata": {
        "colab": {
          "base_uri": "https://localhost:8080/"
        },
        "id": "gB_h4w-EYPzE",
        "outputId": "a2b4e810-5644-4544-a499-85b7e5beef5c"
      },
      "execution_count": 12,
      "outputs": [
        {
          "output_type": "execute_result",
          "data": {
            "text/plain": [
              "(33890, 2)"
            ]
          },
          "metadata": {},
          "execution_count": 12
        }
      ]
    },
    {
      "cell_type": "code",
      "source": [
        "# Seleção de Variáveis Relevantes - Target 1\n",
        "col_kbest = f_kbestVar(df_VarEnc,Y.Sum_Target_2,round(df_VarEnc.shape[1]*0.8))\n",
        "col_kbest"
      ],
      "metadata": {
        "colab": {
          "base_uri": "https://localhost:8080/"
        },
        "id": "9TIG41PJie-t",
        "outputId": "ee93770b-fbeb-49da-fdb6-58cf340ce7d4"
      },
      "execution_count": 13,
      "outputs": [
        {
          "output_type": "stream",
          "name": "stdout",
          "text": [
            "[('TP_LINGUA', 851.459278877067), ('TP_FAIXA_ETARIA_', 204.5017442631493), ('TP_COR_RACA_', 173.918526929637), ('TP_ENSINO_', 659.001965121616), ('RegGeo_Prova', 319.86242991150795), ('Q001', 1484.6923228232836), ('Q002', 1571.05471270438), ('Q003', 1449.7534708405442), ('Q004', 1640.7253022057919), ('Q005_', 578.4808124473925), ('Q006_', 7325.136436846811), ('Q007_', 461.74543903443623), ('Q008_', 2840.5938998489582), ('Q009_', 391.4636522749095), ('Q010_', 1897.7268838294117), ('Q013_', 1055.1129316297383), ('Q014_', 631.3336494533256), ('Q015_', 242.53735863330184), ('Q016_', 847.7265391210772), ('Q017_', 202.4191756679607), ('Q018', 1357.6124596959169), ('Q019_', 663.4110295303294), ('Q021', 945.5813697791748), ('Q022', 894.5109830409399), ('Q023', 999.098971015929), ('Q024_', 2712.1818287560186), ('Q025', 423.96240951194005)]\n"
          ]
        },
        {
          "output_type": "execute_result",
          "data": {
            "text/plain": [
              "array([False,  True,  True, False,  True, False, False,  True,  True,\n",
              "        True,  True,  True,  True,  True,  True,  True,  True,  True,\n",
              "        True, False, False,  True,  True,  True,  True,  True,  True,\n",
              "        True, False,  True,  True,  True,  True,  True])"
            ]
          },
          "metadata": {},
          "execution_count": 13
        }
      ]
    },
    {
      "cell_type": "code",
      "source": [
        "num_true = np.count_nonzero(col_kbest)\n",
        "num_false = np.count_nonzero(~col_kbest)\n",
        "\n",
        "print(\"Número de True:\", num_true)\n",
        "print(\"Número de False:\", num_false)"
      ],
      "metadata": {
        "colab": {
          "base_uri": "https://localhost:8080/"
        },
        "id": "z8XMFUB0qw86",
        "outputId": "1353d599-9f17-4a45-bc04-6f7b5c9f8812"
      },
      "execution_count": 15,
      "outputs": [
        {
          "output_type": "stream",
          "name": "stdout",
          "text": [
            "Número de True: 27\n",
            "Número de False: 7\n"
          ]
        }
      ]
    },
    {
      "cell_type": "code",
      "source": [
        "# Seleção de Variáveis Relevantes - Target 2\n",
        "col_kbest2 = f_kbestVar(df_VarEnc,Y.Target_Media,round(df_VarEnc.shape[1]*0.8))\n",
        "col_kbest2"
      ],
      "metadata": {
        "colab": {
          "base_uri": "https://localhost:8080/"
        },
        "id": "7jEDBGBT0Bn9",
        "outputId": "d717620d-d80c-4b1a-bcbf-2f0a8af4027a"
      },
      "execution_count": 16,
      "outputs": [
        {
          "output_type": "stream",
          "name": "stdout",
          "text": [
            "[('TP_LINGUA', 830.1823077480703), ('TP_FAIXA_ETARIA_', 330.1015702156337), ('TP_COR_RACA_', 157.19128404644823), ('TP_ENSINO_', 607.9971006591918), ('RegGeo_Prova', 251.3159261384869), ('Q001', 1459.419286457026), ('Q002', 1622.8224914782802), ('Q003', 1359.4679687410617), ('Q004', 1621.3949707170323), ('Q005_', 574.3149022572951), ('Q006_', 7144.528035017201), ('Q007_', 445.34549287117113), ('Q008_', 2757.2192912554788), ('Q009_', 403.4139744640554), ('Q010_', 1838.504985973339), ('Q013_', 1012.5758177957457), ('Q014_', 595.7648052961883), ('Q015_', 219.69274859391487), ('Q016_', 772.3535666619102), ('Q017_', 181.07850405232813), ('Q018', 1278.1781853414495), ('Q019_', 639.3969045859211), ('Q021', 926.9604039942817), ('Q022', 904.2854332911918), ('Q023', 922.4185517427973), ('Q024_', 2624.3656691592023), ('Q025', 432.1879290693852)]\n"
          ]
        },
        {
          "output_type": "execute_result",
          "data": {
            "text/plain": [
              "array([False,  True,  True, False,  True, False, False,  True,  True,\n",
              "        True,  True,  True,  True,  True,  True,  True,  True,  True,\n",
              "        True, False, False,  True,  True,  True,  True,  True,  True,\n",
              "        True, False,  True,  True,  True,  True,  True])"
            ]
          },
          "metadata": {},
          "execution_count": 16
        }
      ]
    },
    {
      "cell_type": "code",
      "source": [
        "# Apenas verificação. Ambas respostas excluiram as mesmas variáveis.\n",
        "list(zip(col_kbest, col_kbest2))"
      ],
      "metadata": {
        "colab": {
          "base_uri": "https://localhost:8080/"
        },
        "id": "WiB1d85d0SzX",
        "outputId": "a0c90600-5215-4edb-f963-e8644208d1e0"
      },
      "execution_count": 17,
      "outputs": [
        {
          "output_type": "execute_result",
          "data": {
            "text/plain": [
              "[(False, False),\n",
              " (True, True),\n",
              " (True, True),\n",
              " (False, False),\n",
              " (True, True),\n",
              " (False, False),\n",
              " (False, False),\n",
              " (True, True),\n",
              " (True, True),\n",
              " (True, True),\n",
              " (True, True),\n",
              " (True, True),\n",
              " (True, True),\n",
              " (True, True),\n",
              " (True, True),\n",
              " (True, True),\n",
              " (True, True),\n",
              " (True, True),\n",
              " (True, True),\n",
              " (False, False),\n",
              " (False, False),\n",
              " (True, True),\n",
              " (True, True),\n",
              " (True, True),\n",
              " (True, True),\n",
              " (True, True),\n",
              " (True, True),\n",
              " (True, True),\n",
              " (False, False),\n",
              " (True, True),\n",
              " (True, True),\n",
              " (True, True),\n",
              " (True, True),\n",
              " (True, True)]"
            ]
          },
          "metadata": {},
          "execution_count": 17
        }
      ]
    },
    {
      "cell_type": "code",
      "source": [
        "df_kbest = df_VarEnc.loc[:, col_kbest]\n",
        "df_kbest.shape"
      ],
      "metadata": {
        "colab": {
          "base_uri": "https://localhost:8080/"
        },
        "id": "nt-YXaZYkihD",
        "outputId": "2ba0ae06-d6b1-444c-fa97-cd42164f393b"
      },
      "execution_count": 14,
      "outputs": [
        {
          "output_type": "execute_result",
          "data": {
            "text/plain": [
              "(33890, 27)"
            ]
          },
          "metadata": {},
          "execution_count": 14
        }
      ]
    },
    {
      "cell_type": "markdown",
      "source": [
        "# **Análise dos Hiperparâmetros**"
      ],
      "metadata": {
        "id": "cyeCqsjmGj5U"
      }
    },
    {
      "cell_type": "markdown",
      "source": [
        "# *Regressão Logística*"
      ],
      "metadata": {
        "id": "L4I8-B0AMel-"
      }
    },
    {
      "cell_type": "markdown",
      "source": [
        "Utiliza a função logística/sigmoide para encontrar a probabilidade de uma determinada instância pertencer a uma das classes em função das variáveis de entrada. Principais características:\n",
        "\n",
        "- Função Sigmoid: A função sigmoid é usada para modelar a probabilidade e é definida como: 1 / (1 + exp(-z)), onde z é uma combinação linear das variáveis de entrada (features) multiplicadas pelos coeficientes aprendidos pelo modelo.\n",
        "\n",
        "- Coeficientes: Durante o treinamento, obtem-se os coeficientes (pesos) para cada feature e um intercepto.\n",
        "\n",
        "- Treinamento por Otimização: O treinamento geralmente é realizado usando técnicas de otimização, como a descida do gradiente (gradient descent), para encontrar os melhores coeficientes que minimizam a função de perda, que é baseada na diferença entre as probabilidades previstas e as classes reais.\n",
        "\n",
        "- Limiar de Decisão: Para fazer previsões, é necessário definir um limiar de decisão. Se a probabilidade prevista for maior que o limiar, a instância é classificada como pertencente à classe positiva; caso contrário, é classificada como pertencente à classe negativa.\n",
        "\n",
        "- Regularização: pode incluir termos de regularização para evitar o overfitting e melhorar a generalização do modelo, como a regularização L1 (Lasso) ou L2 (Ridge).\n",
        "\n",
        "\n"
      ],
      "metadata": {
        "id": "gd17Txo-xqut"
      }
    },
    {
      "cell_type": "markdown",
      "source": [
        "- **RFE** para a realização da eliminação recursiva de variáveis."
      ],
      "metadata": {
        "id": "WMJMZwXo5CwF"
      }
    },
    {
      "cell_type": "code",
      "source": [
        "def cls_Reg_Logistic_RFE (y_tr, y_te):\n",
        "  cls_RegLogistic = LogisticRegression()\n",
        "\n",
        "  param_grid = {\n",
        "      'random_state': list(range(0, 101, 50)),\n",
        "      'solver': ['liblinear', 'saga', 'lbfgs'], # Algoritmo otimizador\n",
        "      # 'max_iter': [50,100],                   # número máximo de iterações permitidas para o solver convergir.\n",
        "      'tol': [1e-3, 1e-4],                      # Critério de tolerância para parada do treinamento\n",
        "      'C': [0.1, 0.5, 1.0],                     # Parâmetro de regularização. Valores menores de C indicam uma regularização mais forte, o que pode ajudar a evitar overfitting.\n",
        "      'penalty': ['l1', 'l2']                   # Tipo de penalidade a ser usada. L1: LASSO e L2: Ridge\n",
        "       # multi_class:                           # Esquema para lidar com problemas de classificação multiclasse. Algumas opções são 'ovr' (one-vs-rest) e 'multinomial'.\n",
        "  }\n",
        "\n",
        "  grid_search = GridSearchCV(estimator=cls_RegLogistic, param_grid=param_grid, cv=5, scoring='accuracy')\n",
        "  grid_search.fit(X_train, y_tr)\n",
        "\n",
        "  # Melhor acurácia obtida durante a validação cruzada\n",
        "  best_accuracy = grid_search.best_score_\n",
        "\n",
        "  # Acurácia do modelo no conjunto de teste\n",
        "  test_accuracy = grid_search.score(X_test, y_te)\n",
        "\n",
        "  # Melhor combinação de hiperparâmetros encontrada\n",
        "  best_params = grid_search.best_params_\n",
        "\n",
        "  # Modelo de Regressão Logística com os melhores hiperparâmetros obtidos pelo GridSearch\n",
        "  rfe_RegLogistic = LogisticRegression(**best_params)\n",
        "\n",
        "  # RFE com o melhor modelo de Regressão Logística\n",
        "  df_results_RL = pd.DataFrame()\n",
        "\n",
        "  for k in [10,15,20]:\n",
        "    rfe = RFE(estimator=rfe_RegLogistic,\n",
        "              step=1, n_features_to_select=k)\n",
        "    rfe.fit(X_train, y_tr)\n",
        "\n",
        "    # Quantidade de Variáveis Selecionadas\n",
        "    n_features_optimal = rfe.n_features_\n",
        "\n",
        "    # Variáveis selecionadas\n",
        "    mask_varsel = rfe.support_\n",
        "    varsel = X_train.columns.values[mask_varsel]\n",
        "    conf = list(rfe.get_feature_names_out())\n",
        "\n",
        "    # Respectivos Coeficientes\n",
        "    best_coef_RL = list(np.abs(rfe.estimator_.coef_[0])) # Apenas para verificar a magnitude do coeficiente, seja ele positivo ou negativo\n",
        "    Info = {'Variaveis': conf,\n",
        "            'Coeficientes': best_coef_RL}\n",
        "    results_RL = pd.DataFrame(Info)\n",
        "    results_RL['k'] = n_features_optimal\n",
        "\n",
        "    # Acurácia do modelo final\n",
        "    y_pred_RL = rfe.predict(X_test)\n",
        "    test_accuracy_final = accuracy_score(y_te,y_pred_RL)\n",
        "    results_RL['Acuracia'] = test_accuracy_final\n",
        "\n",
        "    df_results_RL = pd.concat([df_results_RL,results_RL], ignore_index=True)\n",
        "\n",
        "  print(' ')\n",
        "  print(\"Melhor combinação de hiperparâmetros:\", best_params)\n",
        "  print(\"Melhor acurácia durante a validação cruzada:\", best_accuracy)\n",
        "  print(\"Acurácia do modelo no conjunto de teste:\", test_accuracy)\n",
        "  print(' ')\n",
        "  print(\"Variáveis Selecionadas pela RFE:\", df_results_RL)\n",
        "\n",
        "  return df_results_RL"
      ],
      "metadata": {
        "id": "JKVE-naF5C61"
      },
      "execution_count": 34,
      "outputs": []
    },
    {
      "cell_type": "markdown",
      "source": [
        "# *Decision Tree*"
      ],
      "metadata": {
        "id": "62b-iWDnM3HY"
      }
    },
    {
      "cell_type": "markdown",
      "source": [
        "Modelos que aprendem a tomar decisões através de uma estrutura de árvore onde cada nó representa um teste em um atributo e cada folha representa a classe de saída. Principais características:\n",
        "\n",
        "- Divisões Baseadas em Recursos: O algoritmo escolhe o recurso (feature) que melhor divide os dados em cada nó da árvore. A divisão é feita com base em algum critério de impureza, como o índice Gini ou a entropia, para maximizar a homogeneidade das classes nas folhas.\n",
        "\n",
        "- Aprendizado Hierárquico: O processo de treinamento é hierárquico, onde a árvore é construída recursivamente, dividindo o conjunto de dados em subconjuntos mais homogêneos a cada nível.\n",
        "\n",
        "- Predições por Maioria de Votos: Quando uma nova instância precisa ser classificada, ela percorre a árvore de decisão a partir da raiz até chegar a uma folha, onde a classe é atribuída com base na maioria de votos das amostras de treinamento naquela folha.\n",
        "\n",
        "- Limitação de Profundidade: É comum aplicar limitações na profundidade máxima da árvore ou no número mínimo de amostras por folha para controlar o overfitting.\n",
        "\n",
        "- Tratamento de Dados Ausentes: O DecisionTreeClassifier pode lidar automaticamente com dados ausentes durante o treinamento.\n",
        "\n",
        "\n"
      ],
      "metadata": {
        "id": "lf9Qw_m4uZIF"
      }
    },
    {
      "cell_type": "code",
      "source": [
        "def cls_Decision_Tree(y_tr,y_te):\n",
        "  cls_DecisionTree = DecisionTreeClassifier()\n",
        "\n",
        "  param_grid = {\n",
        "      'random_state': list(range(0, 9001,3000)),\n",
        "      'criterion': ['gini', 'entropy','log_loss'], # Função de medição de qualidade da divisão dos nós\n",
        "      'max_depth': [8,12,15],                      # Profundidade máxima da árvore\n",
        "      'max_features': [0.1, 0.2, 0.3],             # Quantidade de atributos a serem considerados ao procurar a melhor divisão (número, proporção, ...)\n",
        "      'min_samples_leaf': [0.05,0.15,0.30],        # Quantidade míninma no nó folha (nó final) (número ou proporção)\n",
        "      'min_samples_split': [0.05,0.15,0.30]        # Quantidade mínima de casos para dividir um nó interno (número ou proporção)\n",
        "       # max_leaf_nodes                            # Quantidade máxima de folhas (nós terminais) permitidas na árvore\n",
        "  }\n",
        "\n",
        "  grid_search = GridSearchCV(estimator=cls_DecisionTree, param_grid=param_grid, cv=5, scoring='accuracy')\n",
        "  grid_search.fit(X_train, y_tr)\n",
        "\n",
        "  # Melhor combinação de hiperparâmetros encontrada\n",
        "  best_params = grid_search.best_params_\n",
        "\n",
        "  # Melhor acurácia obtida durante a validação cruzada\n",
        "  best_accuracy = grid_search.best_score_\n",
        "\n",
        "  # Acurácia do modelo no conjunto de teste\n",
        "  test_accuracy = grid_search.score(X_test, y_te)\n",
        "\n",
        "  # Obter os melhores modelos encontrados\n",
        "  best_model = grid_search.best_estimator_\n",
        "\n",
        "  # Obter as feature_importances_ (coeficientes)\n",
        "  feature_importances = best_model.feature_importances_\n",
        "\n",
        "  print(' ')\n",
        "  print(\"Melhor combinação de hiperparâmetros:\", best_params)\n",
        "  print(\"Melhor acurácia durante a validação cruzada:\", best_accuracy)\n",
        "  print(\"Acurácia do modelo no conjunto de teste:\", test_accuracy)\n",
        "\n",
        "  return feature_importances"
      ],
      "metadata": {
        "id": "tCfD_UEUM6af"
      },
      "execution_count": null,
      "outputs": []
    },
    {
      "cell_type": "markdown",
      "source": [
        "# *Random Forest*"
      ],
      "metadata": {
        "id": "quaRTJx4YqXI"
      }
    },
    {
      "cell_type": "markdown",
      "source": [
        "Método Ensemble que combina várias árvores de decisão individuais para criar um modelo de classificação mais preciso e robusto. As árvores individuais são treinadas em subconjuntos aleatórios do conjunto de dados e fazem previsões independentemente. Principais características:\n",
        "\n",
        "- Construção de Árvores de Decisão: Cada árvore é construída utilizando uma parte do conjunto de dados de treinamento, escolhida aleatoriamente com reposição (bootstrap).\n",
        "\n",
        "- Amostragem de Recursos: Além da amostragem com reposição dos dados, também ocorre uma amostragem aleatória dos recursos em cada divisão do nó da árvore. Isso significa que em cada nó, o algoritmo considera apenas um subconjunto aleatório dos recursos disponíveis para escolher a melhor divisão.\n",
        "\n",
        "- Maioria por Votação: Quando uma nova instância precisa ser classificada, todas as árvores no RandomForestClassifier emitem suas previsões individuais. A classe prevista é determinada por votação majoritária entre as previsões das árvores.\n",
        "\n",
        "- Redução de Overfitting: A combinação de várias árvores de decisão e o uso de amostragem aleatória de dados e recursos ajudam a reduzir o overfitting, tornando o modelo mais geral e menos sensível a ruídos e variações no conjunto de treinamento.\n",
        "\n",
        "- Importância das Features: Mensuração da importância de cada recurso no processo de tomada de decisão. Isso é útil para entender quais recursos são mais relevantes para a classificação."
      ],
      "metadata": {
        "id": "Hx6-DCgn_DqD"
      }
    },
    {
      "cell_type": "code",
      "source": [
        "def cls_Random_Forest(y_tr, y_te):\n",
        "  cls_RandomForest = RandomForestClassifier()\n",
        "\n",
        "  param_grid = {\n",
        "      'random_state': [0, 6000],\n",
        "      'criterion': ['gini', 'entropy'], # Função de medição de qualidade da divisão para cada árvore na floresta\n",
        "      'n_estimators': [50, 100],        # Quantidade de árvores\n",
        "      'min_samples_split': [0.05, 0.1], # Quantidade mínima de casos para dividir um nó interno em uma árvore (número ou proporção)\n",
        "      'min_samples_leaf': [0.05, 0.1],  # Quantidade míninma no nó folha (nó final) (número ou proporção)\n",
        "      'max_depth': [8,12],              # Profundidade máxima da árvore\n",
        "      'max_features': [0.05, 0.1, 0.2], # Quantidade de atributos a serem considerados ao procurar a melhor divisão (número, proporção, ...)\n",
        "      'max_samples':  [0.05, 0.15]      # Quantidade de casos extraídos de X para treinar cada estimador\n",
        "      # max_leaf_nodes: []              # Quantidade máxima de folhas (nós terminais) permitidas em cada árvore da floresta\n",
        "  }\n",
        "\n",
        "  grid_search = GridSearchCV(estimator=cls_RandomForest, param_grid=param_grid, cv=5, scoring='accuracy')\n",
        "  grid_search.fit(X_train, y_tr)\n",
        "\n",
        "  # Melhor combinação de hiperparâmetros encontrada\n",
        "  best_params = grid_search.best_params_\n",
        "\n",
        "  # Melhor acurácia obtida durante a validação cruzada\n",
        "  best_accuracy = grid_search.best_score_\n",
        "\n",
        "  # Acurácia do modelo no conjunto de teste\n",
        "  test_accuracy = grid_search.score(X_test, y_te)\n",
        "\n",
        "  # Melhor modelo ajustado\n",
        "  best_model = grid_search.best_estimator_\n",
        "\n",
        "  # Feature_importances_ do melhor modelo ajustado\n",
        "  feature_importances = best_model.feature_importances_\n",
        "\n",
        "  print(' ')\n",
        "  print(\"Melhor combinação de hiperparâmetros:\", best_params)\n",
        "  print(\"Melhor acurácia durante a validação cruzada:\", best_accuracy)\n",
        "  print(\"Acurácia do modelo no conjunto de teste:\", test_accuracy)\n",
        "\n",
        "  return feature_importances"
      ],
      "metadata": {
        "id": "TLoI_yHnYxfb"
      },
      "execution_count": null,
      "outputs": []
    },
    {
      "cell_type": "markdown",
      "source": [
        "# *Extra Trees Classifier*"
      ],
      "metadata": {
        "id": "tGyI9VxjolLp"
      }
    },
    {
      "cell_type": "markdown",
      "source": [
        "Assim como o RandomForestClassifier, também utiliza árvores de decisão em conjunto para fazer previsões mais precisas e robustas. A principal diferença entre ambos é a forma como as árvores são construídas. No ExtraTreesClassifier, a divisão dos nós é feita de forma ainda mais aleatória do que no RandomForestClassifier, o que pode aumentar a variabilidade e reduzir o viés do modelo. Principais Características:\n",
        "\n",
        "- Amostragem Aleatória: Ao construir cada árvore de decisão, o ExtraTreesClassifier também usa amostragem com reposição (bootstrap) para selecionar aleatoriamente subconjuntos dos dados de treinamento. No entanto, em vez de calcular a melhor divisão possível para cada nó da árvore, ele faz uma escolha aleatória a partir de um subconjunto de divisões e seleciona a melhor entre essas escolhas aleatórias. Isso torna as árvores no ExtraTreesClassifier ainda mais aleatórias em comparação com as árvores no RandomForestClassifier.\n",
        "\n",
        "- Amostragem Aleatória de Recursos: Além da amostragem com reposição dos dados, o ExtraTreesClassifier também aplica amostragem aleatória de recursos em cada nó da árvore, assim como o RandomForestClassifier. Ele considera apenas um subconjunto aleatório dos recursos disponíveis para escolher a melhor divisão em cada nó.\n",
        "\n",
        "- Maioria por Votação: Da mesma forma que o RandomForestClassifier, quando uma nova instância precisa ser classificada, todas as árvores no ExtraTreesClassifier emitem suas previsões individuais, e a classe prevista é determinada por votação majoritária.\n",
        "\n",
        "- Redução de Overfitting: A natureza mais aleatória do ExtraTreesClassifier em relação ao RandomForestClassifier pode ajudar a reduzir ainda mais o overfitting e tornar o modelo mais geral e menos sensível a ruídos e variações no conjunto de treinamento."
      ],
      "metadata": {
        "id": "OReSHoUS-yFO"
      }
    },
    {
      "cell_type": "code",
      "source": [
        "def cls_Extra_Trees(y_tr,y_te):\n",
        "  cls_ExtraTreesClassifier = ExtraTreesClassifier()\n",
        "\n",
        "  param_grid = {\n",
        "      'random_state': [0,6000],\n",
        "      'criterion': ['gini', 'entropy'], # Função de medição de qualidade da divisão para cada árvore na floresta\n",
        "      'n_estimators': [50,100],         # Quantidade de árvores\n",
        "      'min_samples_split': [0.05,0.10], # Quantidade mínima de casos para dividir um nó interno em uma árvore (número ou proporção)\n",
        "      'min_samples_leaf': [0.05,0.10],  # Quantidade míninma no nó folha (nó final) (número ou proporção)\n",
        "      'max_depth': [8,12],              # Profundidade máxima da árvore\n",
        "      'max_features': [0.05, 0.10]      # Quantidade de atributos a serem considerados ao procurar a melhor divisão (número, proporção, ...)\n",
        "      # 'max_samples':  [0.05, 0.15]    # Quantidade de casos extraídos de X para treinar cada estimador\n",
        "      #'max_leaf_nodes': []             # Quantidade máxima de folhas (nós terminais) permitidas em cada árvore da floresta\n",
        "  }\n",
        "\n",
        "  grid_search = GridSearchCV(estimator=cls_ExtraTreesClassifier, param_grid=param_grid, cv=5, scoring='accuracy')\n",
        "  grid_search.fit(X_train, y_tr)\n",
        "\n",
        "  # Melhor combinação de hiperparâmetros encontrada\n",
        "  best_params = grid_search.best_params_\n",
        "\n",
        "  # Melhor acurácia obtida durante a validação cruzada\n",
        "  best_accuracy = grid_search.best_score_\n",
        "\n",
        "  # Acurácia do modelo no conjunto de teste\n",
        "  test_accuracy = grid_search.score(X_test, y_te)\n",
        "\n",
        "  # Melhor modelo ajustado\n",
        "  best_model = grid_search.best_estimator_\n",
        "\n",
        "  # Feature_importances_ do melhor modelo ajustado\n",
        "  feature_importances = best_model.feature_importances_\n",
        "\n",
        "  print(' ')\n",
        "  print(\"Melhor combinação de hiperparâmetros:\", best_params)\n",
        "  print(\"Melhor acurácia durante a validação cruzada:\", best_accuracy)\n",
        "  print(\"Acurácia do modelo no conjunto de teste:\", test_accuracy)\n",
        "\n",
        "  return feature_importances"
      ],
      "metadata": {
        "id": "TEIkD9m1vqdT"
      },
      "execution_count": null,
      "outputs": []
    },
    {
      "cell_type": "markdown",
      "source": [
        "# *Gradient Boosting*"
      ],
      "metadata": {
        "id": "eym2vTKbx54V"
      }
    },
    {
      "cell_type": "markdown",
      "source": [
        "Também é um Método Ensemble. No entanto, ao contrário do RandomForestClassifier e ExtraTreesClassifier, constrói uma sequência de modelos fracos, como árvores de decisão simples, e combina suas previsões para formar um modelo forte e robusto. É  eficaz em problemas de classificação, especialmente em dados complexos e não-lineares. Principais características:\n",
        "\n",
        "- Boosting: O algoritmo utiliza a técnica de boosting para melhorar a performance do modelo. No boosting, cada árvore de decisão subsequente é construída para corrigir os erros cometidos pelas árvores anteriores, ou seja, o foco é nas classificados incorretas anteriores.\n",
        "\n",
        "- Gradient Descent: utiliza o processo \"gradient descent\" para minimizar a função de perda, ajustando cada nova árvore na direção que reduz o erro do modelo.\n",
        "\n",
        "- Crescimento de Árvores de Decisão: utiliza árvores de decisão como estimadores básicos (modelos fracos) em cada iteração. Cada árvore é construída de forma que as decisões tomadas complementem as decisões das árvores já existentes.\n",
        "\n",
        "- Ponderação das Árvores: Cada árvore de decisão tem um peso associado a ela, dependendo da sua contribuição para o erro total do modelo. Árvores com melhor desempenho têm mais peso nas previsões finais.\n",
        "\n",
        "- Regularização: pode incluir técnicas de regularização para evitar o overfitting e melhorar a generalização do modelo, como a limitação da profundidade das árvores ou a redução da taxa de aprendizado (learning rate).\n",
        "\n",
        "- Previsões Finais: obtidas somando as previsões de todas as árvores, ponderadas pelos seus pesos.\n",
        "\n",
        "\n",
        "\n",
        "\n",
        "\n",
        "\n"
      ],
      "metadata": {
        "id": "xlxDFAfbE9np"
      }
    },
    {
      "cell_type": "code",
      "source": [
        "def cls_Gradient_Boosting(y_tr,y_te):\n",
        "  cls_GradientBoostingClassifier = GradientBoostingClassifier()\n",
        "\n",
        "  param_grid = {\n",
        "      'random_state': [0,6000],\n",
        "      'learning_rate': [0.01, 0.10],     # Taxa de aprendizado que controla a contribuição de cada árvore para a correção dos erros. Altos valores, alta contribuição, porém pode levar ao overfitting\n",
        "      'n_estimators': [50, 100],         # Quantidade de árvores na sequência (número de iterações do boosting).\n",
        "      'subsample': [0.05, 0.10],         # Proporção de amostras a serem usadas para ajustar cada árvore. Valores menores reduzem o overfitting, mas podem aumentar a variância.\n",
        "      'min_samples_split': [0.05, 0.10], # Quantidade mínima de casos para dividir um nó interno em uma árvore (número ou proporção)\n",
        "      'min_samples_leaf': [0.05, 0.10],  # Quantidade míninma no nó folha (nó final) (número ou proporção)\n",
        "      'max_depth': [8,12],               # Profundidade máxima da árvore\n",
        "      'max_features': [0.05, 0.10]       # Quantidade de atributos a serem considerados ao procurar a melhor divisão (número, proporção, ...)\n",
        "       #'max_leaf_nodes': []             # Quantidade máxima de folhas (nós terminais) permitidas em cada árvore da floresta\n",
        "       # 'tol': [1e-3, 1e-4],            # Critério de tolerância para parada do treinamento\n",
        "      }\n",
        "\n",
        "  grid_search = GridSearchCV(estimator=cls_GradientBoostingClassifier, param_grid=param_grid, cv=5, scoring='accuracy')\n",
        "  grid_search.fit(X_train, y_tr)\n",
        "\n",
        "  # Melhor combinação de hiperparâmetros encontrada\n",
        "  best_params = grid_search.best_params_\n",
        "\n",
        "  # Melhor acurácia obtida durante a validação cruzada\n",
        "  best_accuracy = grid_search.best_score_\n",
        "\n",
        "  # Acurácia do modelo no conjunto de teste\n",
        "  test_accuracy = grid_search.score(X_test, y_te)\n",
        "\n",
        "  # Melhor modelo ajustado\n",
        "  best_model = grid_search.best_estimator_\n",
        "\n",
        "  # Feature_importances_ do melhor modelo ajustado\n",
        "  feature_importances = best_model.feature_importances_\n",
        "\n",
        "  print(' ')\n",
        "  print(\"Melhor combinação de hiperparâmetros:\", best_params)\n",
        "  print(\"Melhor acurácia durante a validação cruzada:\", best_accuracy)\n",
        "  print(\"Acurácia do modelo no conjunto de teste:\", test_accuracy)\n",
        "\n",
        "  return feature_importances"
      ],
      "metadata": {
        "id": "bNQyySm2ywOL"
      },
      "execution_count": null,
      "outputs": []
    },
    {
      "cell_type": "markdown",
      "source": [
        "# *XGB Classifier*"
      ],
      "metadata": {
        "id": "pOFfoJAFzjEk"
      }
    },
    {
      "cell_type": "markdown",
      "source": [
        "É um classificador baseado em gradient boosting conhecido por sua eficiência e alto desempenho. Principais características:\n",
        "\n",
        "- Gradient Boosting: O XGBClassifier utiliza o algoritmo de boosting conhecido como Gradient Boosting. Ele constrói uma sequência de árvores de decisão, onde cada árvore tenta corrigir os erros da árvore anterior, melhorando gradualmente o modelo ao longo das iterações.\n",
        "\n",
        "- Regularização: oferece várias técnicas de regularização para evitar o overfitting, como a limitação da profundidade das árvores, a redução da taxa de aprendizado (learning rate) e o uso de termos de regularização L1 e L2.\n",
        "\n",
        "- Seleção Automática de Recursos: realiza uma seleção automática de recursos, o que significa que ele pode aprender a importância dos recursos durante o processo de treinamento e descartar os menos importantes, reduzindo a dimensionalidade do problema.\n",
        "\n",
        "- Tratamento de Dados Ausentes: tem a capacidade de lidar automaticamente com dados ausentes durante o treinamento.\n",
        "\n",
        "- Alta Performance: utiliza paralelismo e outras técnicas para acelerar o treinamento e a previsão, tornando-o adequado para grandes conjuntos de dados.\n",
        "\n",
        "- Cross-validation Integrada: possui uma funcionalidade integrada de validação cruzada para avaliar o desempenho do modelo durante o treinamento e ajustar os hiperparâmetros de forma adequada.\n",
        "\n",
        "\n"
      ],
      "metadata": {
        "id": "QFV-evWAHzSm"
      }
    },
    {
      "cell_type": "code",
      "source": [
        "def cls_XGBClassifier(y_tr,y_te):\n",
        "  cls_XGBClassifier = XGBClassifier()\n",
        "\n",
        "  param_grid = {\n",
        "      'learning_rate': [0.01, 0.10],    # Taxa de aprendizado que controla a contribuição de cada árvore para a correção dos erros. Altos valores, alta contribuição, porém pode levar ao overfitting\n",
        "      'n_estimators': [50, 100],        # Quantidade de árvores na sequência (número de iterações do boosting)\n",
        "      'subsample': [0.05, 0.10],        # Proporção de amostras a serem usadas para ajustar cada árvore. Valores menores reduzem o overfitting, mas podem aumentar a variância.\n",
        "      'min_child_weight': [0.05, 0.10], # Quantidade mínima de amostras em cada nó da árvore\n",
        "      'colsample_bytree': [0.05, 0.10], # Proporção de recursos a serem usados para ajustar cada árvore. Valores menores podem reduzir a correlação entre as árvores.\n",
        "      'max_depth': [8, 12],             # Profundidade máxima da árvore\n",
        "      # reg_alpha e reg_lambda: []      # L1 and L2 regularization term\n",
        "      # max_leaves: []                  # Maximum number of leaves;\n",
        "      # colsample_bylevel: []           # Subsample ratio of columns for each level.\n",
        "      # colsample_bynode: []            # Subsample ratio of columns for each split.\n",
        "  }\n",
        "\n",
        "  grid_search = GridSearchCV(estimator=cls_XGBClassifier, param_grid=param_grid, cv=5, scoring='accuracy')\n",
        "  grid_search.fit(X_train, y_tr)\n",
        "\n",
        "  # Melhor combinação de hiperparâmetros encontrada\n",
        "  best_params = grid_search.best_params_\n",
        "\n",
        "  # Melhor acurácia obtida durante a validação cruzada\n",
        "  best_accuracy = grid_search.best_score_\n",
        "\n",
        "  # Acurácia do modelo no conjunto de teste\n",
        "  test_accuracy = grid_search.score(X_test, y_te)\n",
        "\n",
        "  # Melhor modelo ajustado\n",
        "  best_model = grid_search.best_estimator_\n",
        "\n",
        "  # Feature_importances_ do melhor modelo ajustado\n",
        "  feature_importances = best_model.feature_importances_\n",
        "\n",
        "  print(' ')\n",
        "  print(\"Melhor combinação de hiperparâmetros:\", best_params)\n",
        "  print(\"Melhor acurácia durante a validação cruzada:\", best_accuracy)\n",
        "  print(\"Acurácia do modelo no conjunto de teste:\", test_accuracy)\n",
        "\n",
        "  return feature_importances"
      ],
      "metadata": {
        "id": "gY8r-CKEayfV"
      },
      "execution_count": null,
      "outputs": []
    },
    {
      "cell_type": "markdown",
      "source": [
        "# *LightGBM*"
      ],
      "metadata": {
        "id": "6mlRUePfDtqd"
      }
    },
    {
      "cell_type": "markdown",
      "source": [
        "Assim como o XGBoost e o GradientBoostingClassifier, é um método ensemble que combina várias árvores de decisão para construir um modelo de classificação forte e preciso. Principais características:\n",
        "\n",
        "- Gradient Boosting: O LGBMClassifier utiliza o algoritmo de boosting conhecido como Gradient Boosting. Ele constrói uma sequência de árvores de decisão, onde cada árvore tenta corrigir os erros da árvore anterior, melhorando gradualmente o modelo ao longo das iterações.\n",
        "\n",
        "- Crescimento Leaf-wise: utiliza o crescimento de árvore do tipo \"leaf-wise\", o que significa que ele escolhe o nó que possui a maior redução de erro ao fazer a divisão em cada passo. Isso pode resultar em uma construção de árvore mais profunda e com melhor desempenho, mas também pode levar a um aumento no overfitting se não for controlado adequadamente.\n",
        "\n",
        "- Paralelismo: é otimizado para eficiência computacional e usa técnicas como o \"histograma binning\" para acelerar o processo de treinamento. Além disso, ele pode aproveitar o paralelismo para treinar modelos mais rapidamente em sistemas multi-core.\n",
        "\n",
        "- Tratamento de Dados Ausentes: pode lidar automaticamente com dados ausentes durante o treinamento.\n",
        "\n",
        "- Seleção Automática de Recursos: pode aprender a importância dos recursos durante o processo de treinamento e descartar os menos importantes, reduzindo a dimensionalidade do problema.\n",
        "\n",
        "- Regularização: possui parâmetros de regularização para evitar o overfitting, como max_depth, min_child_samples, min_child_weight, entre outros.\n",
        "\n"
      ],
      "metadata": {
        "id": "k0cmwKWSLOTU"
      }
    },
    {
      "cell_type": "code",
      "source": [
        "def cls_LGBMClassifier(y_tr,y_te):\n",
        "  cls_LGBMClassifier = LGBMClassifier()\n",
        "\n",
        "  param_grid = {\n",
        "      'boosting_type': ['gbdt', 'dart', 'rf'],\n",
        "      'objective': ['binary'],            # or ‘multiclass\n",
        "      'num_leaves': [10, 20, 30],         # Quantidade máxima de folhas em uma árvore. Controla a complexidade da árvore. Valores maiores tornam o modelo mais complexo e propenso ao overfitting\n",
        "      'learning_rate': [0.01, 0.05, 0.1], # Taxa de aprendizado que controla a contribuição de cada árvore para a correção dos erros. Altos valores, alta contribuição, porém pode levar ao overfitting\n",
        "      'n_estimators': [50, 100],          # Quantidade de árvores na sequência (número de iterações do boosting)\n",
        "      'max_depth': [8, 12],               # Profundidade máxima da árvore\n",
        "      'subsample': [0.05, 0.10],          # Proporção de amostras a serem usadas para ajustar cada árvore. Valores menores reduzem o overfitting, mas podem aumentar a variância.\n",
        "      'colsample_bytree': [0.05, 0.10]    # Proporção de recursos a serem usados para ajustar cada árvore. Valores menores podem reduzir a correlação entre as árvores\n",
        "      # reg_alpha e reg_lambda            # L1 and L2 regularization term\n",
        "      # min_child_samples: []             # Quantidade mínima de amostras em cada folha (nó final) de uma árvore. Pode ser usado para evitar divisões excessivas em nós com poucas amostras\n",
        "      #'min_child_weight': [0.05, 0.10], # Quantidade mínima de amostras em cada nó da árvore\n",
        "      }\n",
        "\n",
        "  grid_search = GridSearchCV(estimator=cls_LGBMClassifier, param_grid=param_grid, cv=5, scoring='accuracy')\n",
        "  grid_search.fit(X_train, y_tr)\n",
        "\n",
        "  # Melhor combinação de hiperparâmetros encontrada\n",
        "  best_params = grid_search.best_params_\n",
        "\n",
        "  # Melhor acurácia obtida durante a validação cruzada\n",
        "  best_accuracy = grid_search.best_score_\n",
        "\n",
        "  # Acurácia do modelo no conjunto de teste\n",
        "  test_accuracy = grid_search.score(X_test, y_te)\n",
        "\n",
        "  # Melhor modelo ajustado\n",
        "  best_model = grid_search.best_estimator_\n",
        "\n",
        "  # Feature_importances_ do melhor modelo ajustado\n",
        "  feature_importances = best_model.feature_importances_\n",
        "\n",
        "  print(' ')\n",
        "  print(\"Melhor combinação de hiperparâmetros:\", best_params)\n",
        "  print(\"Melhor acurácia durante a validação cruzada:\", best_accuracy)\n",
        "  print(\"Acurácia do modelo no conjunto de teste:\", test_accuracy)\n",
        "\n",
        "  return feature_importances"
      ],
      "metadata": {
        "id": "Sjh9GpQIDypq"
      },
      "execution_count": null,
      "outputs": []
    },
    {
      "cell_type": "markdown",
      "source": [
        "# **Processamento**"
      ],
      "metadata": {
        "id": "T7vOvfSG-DBl"
      }
    },
    {
      "cell_type": "markdown",
      "source": [
        "- Função que irá ajustar um determinado algoritmo de acordo com a variável resposta definida na lista."
      ],
      "metadata": {
        "id": "oJx89zNSH8fQ"
      }
    },
    {
      "cell_type": "code",
      "source": [
        "lista_resp = ['Sum_Target_2','Target_Media']"
      ],
      "metadata": {
        "id": "RZaQvKrl_B4v"
      },
      "execution_count": 17,
      "outputs": []
    },
    {
      "cell_type": "code",
      "source": [
        "def ajuste_classificador(algoritmo):\n",
        "  lista_results = []\n",
        "  for column in lista_resp:\n",
        "    kbestparam = algoritmo(y_train_2[column],y_test_2[column])\n",
        "    lista_results.append(kbestparam)\n",
        "  return lista_results"
      ],
      "metadata": {
        "id": "ILRJ5AB5-HaV"
      },
      "execution_count": 18,
      "outputs": []
    },
    {
      "cell_type": "markdown",
      "source": [
        "- Regressão Logística\n",
        "\n",
        "  Entrada das variáveis independentes: OneHot Encoder"
      ],
      "metadata": {
        "id": "QbfRUK9bALy5"
      }
    },
    {
      "cell_type": "code",
      "source": [
        "# Codificação One Hot Encoder\n",
        "df_OneHot = f_onehotencoder(df_kbest)\n",
        "df_OneHot.shape"
      ],
      "metadata": {
        "colab": {
          "base_uri": "https://localhost:8080/"
        },
        "id": "FFy7Qb-X_fIt",
        "outputId": "fce7dc74-fcfa-4491-d020-c59d499be3da"
      },
      "execution_count": 19,
      "outputs": [
        {
          "output_type": "execute_result",
          "data": {
            "text/plain": [
              "(33890, 84)"
            ]
          },
          "metadata": {},
          "execution_count": 19
        }
      ]
    },
    {
      "cell_type": "code",
      "source": [
        "# Amostra Treino/Teste\n",
        "X_train, X_test, y_train_2, y_test_2 = train_test_split(df_OneHot, Y, test_size=0.2, random_state=42)\n",
        "print(X_train.shape, X_test.shape)\n",
        "print(y_train_2.shape, y_test_2.shape)"
      ],
      "metadata": {
        "colab": {
          "base_uri": "https://localhost:8080/"
        },
        "id": "rzUWdRrd_fQp",
        "outputId": "ab9bb9c9-9f70-4a62-e66b-52d8373dc01b"
      },
      "execution_count": 35,
      "outputs": [
        {
          "output_type": "stream",
          "name": "stdout",
          "text": [
            "(27112, 84) (6778, 84)\n",
            "(27112, 2) (6778, 2)\n"
          ]
        }
      ]
    },
    {
      "cell_type": "code",
      "source": [
        "# X_train = X_train.head(100)\n",
        "# X_test = X_test.head(100)\n",
        "# y_train = y_train_2.Target_Media.head(100)\n",
        "# y_test = y_test_2.Target_Media.head(100)"
      ],
      "metadata": {
        "id": "DVC4L3Bh860w"
      },
      "execution_count": 21,
      "outputs": []
    },
    {
      "cell_type": "code",
      "source": [
        "results_RegLog_2 = ajuste_classificador(cls_Reg_Logistic_RFE)"
      ],
      "metadata": {
        "colab": {
          "base_uri": "https://localhost:8080/"
        },
        "id": "29u8rIMSB3Kt",
        "outputId": "cc441ebb-fe2b-4341-ef63-1c4d07a29cc8"
      },
      "execution_count": 36,
      "outputs": [
        {
          "output_type": "stream",
          "name": "stderr",
          "text": [
            "/usr/local/lib/python3.10/dist-packages/sklearn/linear_model/_logistic.py:458: ConvergenceWarning: lbfgs failed to converge (status=1):\n",
            "STOP: TOTAL NO. of ITERATIONS REACHED LIMIT.\n",
            "\n",
            "Increase the number of iterations (max_iter) or scale the data as shown in:\n",
            "    https://scikit-learn.org/stable/modules/preprocessing.html\n",
            "Please also refer to the documentation for alternative solver options:\n",
            "    https://scikit-learn.org/stable/modules/linear_model.html#logistic-regression\n",
            "  n_iter_i = _check_optimize_result(\n",
            "/usr/local/lib/python3.10/dist-packages/sklearn/linear_model/_logistic.py:458: ConvergenceWarning: lbfgs failed to converge (status=1):\n",
            "STOP: TOTAL NO. of ITERATIONS REACHED LIMIT.\n",
            "\n",
            "Increase the number of iterations (max_iter) or scale the data as shown in:\n",
            "    https://scikit-learn.org/stable/modules/preprocessing.html\n",
            "Please also refer to the documentation for alternative solver options:\n",
            "    https://scikit-learn.org/stable/modules/linear_model.html#logistic-regression\n",
            "  n_iter_i = _check_optimize_result(\n",
            "/usr/local/lib/python3.10/dist-packages/sklearn/linear_model/_logistic.py:458: ConvergenceWarning: lbfgs failed to converge (status=1):\n",
            "STOP: TOTAL NO. of ITERATIONS REACHED LIMIT.\n",
            "\n",
            "Increase the number of iterations (max_iter) or scale the data as shown in:\n",
            "    https://scikit-learn.org/stable/modules/preprocessing.html\n",
            "Please also refer to the documentation for alternative solver options:\n",
            "    https://scikit-learn.org/stable/modules/linear_model.html#logistic-regression\n",
            "  n_iter_i = _check_optimize_result(\n",
            "/usr/local/lib/python3.10/dist-packages/sklearn/linear_model/_logistic.py:458: ConvergenceWarning: lbfgs failed to converge (status=1):\n",
            "STOP: TOTAL NO. of ITERATIONS REACHED LIMIT.\n",
            "\n",
            "Increase the number of iterations (max_iter) or scale the data as shown in:\n",
            "    https://scikit-learn.org/stable/modules/preprocessing.html\n",
            "Please also refer to the documentation for alternative solver options:\n",
            "    https://scikit-learn.org/stable/modules/linear_model.html#logistic-regression\n",
            "  n_iter_i = _check_optimize_result(\n",
            "/usr/local/lib/python3.10/dist-packages/sklearn/linear_model/_logistic.py:458: ConvergenceWarning: lbfgs failed to converge (status=1):\n",
            "STOP: TOTAL NO. of ITERATIONS REACHED LIMIT.\n",
            "\n",
            "Increase the number of iterations (max_iter) or scale the data as shown in:\n",
            "    https://scikit-learn.org/stable/modules/preprocessing.html\n",
            "Please also refer to the documentation for alternative solver options:\n",
            "    https://scikit-learn.org/stable/modules/linear_model.html#logistic-regression\n",
            "  n_iter_i = _check_optimize_result(\n",
            "/usr/local/lib/python3.10/dist-packages/sklearn/linear_model/_logistic.py:458: ConvergenceWarning: lbfgs failed to converge (status=1):\n",
            "STOP: TOTAL NO. of ITERATIONS REACHED LIMIT.\n",
            "\n",
            "Increase the number of iterations (max_iter) or scale the data as shown in:\n",
            "    https://scikit-learn.org/stable/modules/preprocessing.html\n",
            "Please also refer to the documentation for alternative solver options:\n",
            "    https://scikit-learn.org/stable/modules/linear_model.html#logistic-regression\n",
            "  n_iter_i = _check_optimize_result(\n",
            "/usr/local/lib/python3.10/dist-packages/sklearn/model_selection/_validation.py:378: FitFailedWarning: \n",
            "90 fits failed out of a total of 540.\n",
            "The score on these train-test partitions for these parameters will be set to nan.\n",
            "If these failures are not expected, you can try to debug them by setting error_score='raise'.\n",
            "\n",
            "Below are more details about the failures:\n",
            "--------------------------------------------------------------------------------\n",
            "90 fits failed with the following error:\n",
            "Traceback (most recent call last):\n",
            "  File \"/usr/local/lib/python3.10/dist-packages/sklearn/model_selection/_validation.py\", line 686, in _fit_and_score\n",
            "    estimator.fit(X_train, y_train, **fit_params)\n",
            "  File \"/usr/local/lib/python3.10/dist-packages/sklearn/linear_model/_logistic.py\", line 1162, in fit\n",
            "    solver = _check_solver(self.solver, self.penalty, self.dual)\n",
            "  File \"/usr/local/lib/python3.10/dist-packages/sklearn/linear_model/_logistic.py\", line 54, in _check_solver\n",
            "    raise ValueError(\n",
            "ValueError: Solver lbfgs supports only 'l2' or 'none' penalties, got l1 penalty.\n",
            "\n",
            "  warnings.warn(some_fits_failed_message, FitFailedWarning)\n",
            "/usr/local/lib/python3.10/dist-packages/sklearn/model_selection/_search.py:952: UserWarning: One or more of the test scores are non-finite: [0.68748143 0.68751832 0.68785026 0.68788715        nan        nan\n",
            " 0.68733389 0.68751832 0.68781338 0.68788715        nan        nan\n",
            " 0.68733388 0.68751832 0.68781338 0.68788715        nan        nan\n",
            " 0.68807159 0.6880347  0.68847735 0.68836671 0.68836671 0.68836671\n",
            " 0.68807159 0.6880347  0.68847736 0.68840359 0.68836671 0.68836671\n",
            " 0.68807159 0.6880347  0.68840359 0.68836671 0.68836671 0.68836671\n",
            " 0.68947318 0.68973138 0.68962069 0.68965758        nan        nan\n",
            " 0.68962072 0.6896945  0.68976824 0.68965758        nan        nan\n",
            " 0.68962072 0.68976826 0.68958381 0.68962069        nan        nan\n",
            " 0.68880931 0.68873554 0.68880929 0.6888093  0.6888093  0.6888093\n",
            " 0.68880931 0.68873554 0.68895683 0.68884619 0.6888093  0.6888093\n",
            " 0.68880931 0.68873554 0.68888307 0.68877241 0.6888093  0.6888093\n",
            " 0.68925192 0.68925192 0.68947321 0.68917815        nan        nan\n",
            " 0.6892888  0.68925192 0.68921504 0.6892888         nan        nan\n",
            " 0.68943634 0.68921504 0.68917815 0.68921503        nan        nan\n",
            " 0.68903059 0.68903059 0.68914125 0.68921501 0.68921501 0.68921501\n",
            " 0.68903059 0.68903059 0.68936255 0.68928878 0.68921501 0.68921501\n",
            " 0.68903059 0.68903059 0.68910435 0.68921501 0.68921501 0.68921501]\n",
            "  warnings.warn(\n"
          ]
        },
        {
          "output_type": "stream",
          "name": "stdout",
          "text": [
            " \n",
            "Melhor combinação de hiperparâmetros: {'C': 0.5, 'penalty': 'l1', 'random_state': 100, 'solver': 'liblinear', 'tol': 0.0001}\n",
            "Melhor acurácia durante a validação cruzada: 0.6897682609686069\n",
            "Acurácia do modelo no conjunto de teste: 0.6963706107996459\n",
            " \n",
            "Variáveis Selecionadas pela RFE:              Variaveis  Coeficientes   k  Acuracia\n",
            "0   TP_FAIXA_ETARIA__4      0.708659  10  0.646356\n",
            "1               Q003_3      0.746288  10  0.646356\n",
            "2               Q003_4      0.912758  10  0.646356\n",
            "3              Q006__6      0.766863  10  0.646356\n",
            "4              Q006__7      0.896721  10  0.646356\n",
            "5              Q006__8      1.181329  10  0.646356\n",
            "6              Q006__9      1.446115  10  0.646356\n",
            "7              Q024__1      0.855467  10  0.646356\n",
            "8              Q024__2      1.376336  10  0.646356\n",
            "9              Q024__3      1.639512  10  0.646356\n",
            "10         TP_LINGUA_1      0.573452  15  0.681765\n",
            "11  TP_FAIXA_ETARIA__4      0.652662  15  0.681765\n",
            "12      TP_COR_RACA__4      0.472399  15  0.681765\n",
            "13              Q003_3      0.596178  15  0.681765\n",
            "14              Q003_4      0.734563  15  0.681765\n",
            "15             Q006__3      0.445882  15  0.681765\n",
            "16             Q006__4      0.500835  15  0.681765\n",
            "17             Q006__5      0.764351  15  0.681765\n",
            "18             Q006__6      1.031702  15  0.681765\n",
            "19             Q006__7      1.181260  15  0.681765\n",
            "20             Q006__8      1.461465  15  0.681765\n",
            "21             Q006__9      1.706251  15  0.681765\n",
            "22             Q024__1      0.651753  15  0.681765\n",
            "23             Q024__2      1.018416  15  0.681765\n",
            "24             Q024__3      1.309801  15  0.681765\n",
            "25         TP_LINGUA_1      0.558895  20  0.682650\n",
            "26  TP_FAIXA_ETARIA__4      0.624055  20  0.682650\n",
            "27      TP_COR_RACA__4      0.449554  20  0.682650\n",
            "28        TP_ENSINO__1      0.399320  20  0.682650\n",
            "29              Q001_5      0.377789  20  0.682650\n",
            "30              Q002_5      0.378244  20  0.682650\n",
            "31              Q003_3      0.509285  20  0.682650\n",
            "32              Q003_4      0.568074  20  0.682650\n",
            "33             Q005__3      0.436209  20  0.682650\n",
            "34             Q005__4      0.417054  20  0.682650\n",
            "35             Q006__3      0.433864  20  0.682650\n",
            "36             Q006__4      0.485336  20  0.682650\n",
            "37             Q006__5      0.741248  20  0.682650\n",
            "38             Q006__6      0.980212  20  0.682650\n",
            "39             Q006__7      1.122460  20  0.682650\n",
            "40             Q006__8      1.383090  20  0.682650\n",
            "41             Q006__9      1.633527  20  0.682650\n",
            "42             Q024__1      0.627514  20  0.682650\n",
            "43             Q024__2      0.983263  20  0.682650\n",
            "44             Q024__3      1.294744  20  0.682650\n"
          ]
        },
        {
          "output_type": "stream",
          "name": "stderr",
          "text": [
            "/usr/local/lib/python3.10/dist-packages/sklearn/model_selection/_validation.py:378: FitFailedWarning: \n",
            "90 fits failed out of a total of 540.\n",
            "The score on these train-test partitions for these parameters will be set to nan.\n",
            "If these failures are not expected, you can try to debug them by setting error_score='raise'.\n",
            "\n",
            "Below are more details about the failures:\n",
            "--------------------------------------------------------------------------------\n",
            "90 fits failed with the following error:\n",
            "Traceback (most recent call last):\n",
            "  File \"/usr/local/lib/python3.10/dist-packages/sklearn/model_selection/_validation.py\", line 686, in _fit_and_score\n",
            "    estimator.fit(X_train, y_train, **fit_params)\n",
            "  File \"/usr/local/lib/python3.10/dist-packages/sklearn/linear_model/_logistic.py\", line 1162, in fit\n",
            "    solver = _check_solver(self.solver, self.penalty, self.dual)\n",
            "  File \"/usr/local/lib/python3.10/dist-packages/sklearn/linear_model/_logistic.py\", line 54, in _check_solver\n",
            "    raise ValueError(\n",
            "ValueError: Solver lbfgs supports only 'l2' or 'none' penalties, got l1 penalty.\n",
            "\n",
            "  warnings.warn(some_fits_failed_message, FitFailedWarning)\n",
            "/usr/local/lib/python3.10/dist-packages/sklearn/model_selection/_search.py:952: UserWarning: One or more of the test scores are non-finite: [0.68770257 0.68740747 0.68744431 0.68740743        nan        nan\n",
            " 0.68751813 0.68740747 0.68751808 0.68744431        nan        nan\n",
            " 0.6875919  0.68737059 0.6874812  0.68744431        nan        nan\n",
            " 0.68663287 0.68663287 0.68740745 0.68737056 0.68733367 0.68733367\n",
            " 0.68663287 0.68663287 0.68733367 0.68737056 0.68733367 0.68733367\n",
            " 0.68663287 0.68663287 0.68737056 0.68737056 0.68733367 0.68733367\n",
            " 0.68703865 0.68703866 0.68748128 0.68744439        nan        nan\n",
            " 0.68707554 0.68696489 0.68737061 0.68744438        nan        nan\n",
            " 0.68696489 0.68700177 0.68733373 0.68751816        nan        nan\n",
            " 0.68700174 0.68700175 0.68685421 0.6868542  0.68689108 0.68689108\n",
            " 0.68700174 0.68700175 0.68703863 0.68685419 0.68689108 0.68689108\n",
            " 0.68700174 0.68700175 0.68689109 0.68685419 0.68689108 0.68689108\n",
            " 0.68718619 0.68744439 0.68762882 0.68762882        nan        nan\n",
            " 0.6871493  0.68744439 0.6874444  0.68755505        nan        nan\n",
            " 0.68707553 0.6874075  0.68755505 0.68751816        nan        nan\n",
            " 0.6873706  0.68729684 0.68755502 0.68751814 0.68759191 0.68759191\n",
            " 0.6873706  0.68729684 0.68759192 0.68751814 0.68759191 0.68759191\n",
            " 0.6873706  0.68729684 0.68748126 0.68748125 0.68759191 0.68759191]\n",
            "  warnings.warn(\n"
          ]
        },
        {
          "output_type": "stream",
          "name": "stdout",
          "text": [
            " \n",
            "Melhor combinação de hiperparâmetros: {'C': 0.1, 'penalty': 'l1', 'random_state': 0, 'solver': 'liblinear', 'tol': 0.001}\n",
            "Melhor acurácia durante a validação cruzada: 0.6877025685304331\n",
            "Acurácia do modelo no conjunto de teste: 0.6925346709943936\n",
            " \n",
            "Variáveis Selecionadas pela RFE:              Variaveis  Coeficientes   k  Acuracia\n",
            "0   TP_FAIXA_ETARIA__4      0.999473  10  0.660372\n",
            "1               Q003_4      0.485167  10  0.660372\n",
            "2              Q006__5      0.757018  10  0.660372\n",
            "3              Q006__6      1.059423  10  0.660372\n",
            "4              Q006__7      1.301252  10  0.660372\n",
            "5              Q006__8      1.554040  10  0.660372\n",
            "6              Q006__9      1.905293  10  0.660372\n",
            "7              Q024__1      0.789856  10  0.660372\n",
            "8              Q024__2      1.343034  10  0.660372\n",
            "9              Q024__3      1.592117  10  0.660372\n",
            "10         TP_LINGUA_1      0.583440  15  0.682650\n",
            "11  TP_FAIXA_ETARIA__4      0.847733  15  0.682650\n",
            "12              Q002_5      0.402860  15  0.682650\n",
            "13              Q002_7      0.422290  15  0.682650\n",
            "14              Q003_3      0.595027  15  0.682650\n",
            "15              Q003_4      0.598221  15  0.682650\n",
            "16             Q005__3      0.379396  15  0.682650\n",
            "17             Q006__5      0.613244  15  0.682650\n",
            "18             Q006__6      0.792529  15  0.682650\n",
            "19             Q006__7      0.930899  15  0.682650\n",
            "20             Q006__8      1.149786  15  0.682650\n",
            "21             Q006__9      1.468304  15  0.682650\n",
            "22             Q024__1      0.675568  15  0.682650\n",
            "23             Q024__2      1.101443  15  0.682650\n",
            "24             Q024__3      1.302097  15  0.682650\n",
            "25         TP_LINGUA_1      0.556870  20  0.681027\n",
            "26  TP_FAIXA_ETARIA__4      0.821229  20  0.681027\n",
            "27              Q001_5      0.334830  20  0.681027\n",
            "28              Q002_5      0.340699  20  0.681027\n",
            "29              Q002_7      0.401264  20  0.681027\n",
            "30              Q003_3      0.498083  20  0.681027\n",
            "31              Q003_4      0.472818  20  0.681027\n",
            "32             Q005__3      0.390818  20  0.681027\n",
            "33             Q005__4      0.380752  20  0.681027\n",
            "34             Q006__3      0.312285  20  0.681027\n",
            "35             Q006__4      0.379190  20  0.681027\n",
            "36             Q006__5      0.688646  20  0.681027\n",
            "37             Q006__6      0.874362  20  0.681027\n",
            "38             Q006__7      1.026585  20  0.681027\n",
            "39             Q006__8      1.240573  20  0.681027\n",
            "40             Q006__9      1.585204  20  0.681027\n",
            "41              Q022_1      0.329891  20  0.681027\n",
            "42             Q024__1      0.559615  20  0.681027\n",
            "43             Q024__2      0.942514  20  0.681027\n",
            "44             Q024__3      1.149760  20  0.681027\n"
          ]
        }
      ]
    },
    {
      "cell_type": "code",
      "source": [
        "results_RegLog_2"
      ],
      "metadata": {
        "colab": {
          "base_uri": "https://localhost:8080/"
        },
        "id": "qe1dx49HGORt",
        "outputId": "fa7a9266-6ef9-483e-f162-b504253abb21"
      },
      "execution_count": 37,
      "outputs": [
        {
          "output_type": "execute_result",
          "data": {
            "text/plain": [
              "[             Variaveis  Coeficientes   k  Acuracia\n",
              " 0   TP_FAIXA_ETARIA__4      0.708659  10  0.646356\n",
              " 1               Q003_3      0.746288  10  0.646356\n",
              " 2               Q003_4      0.912758  10  0.646356\n",
              " 3              Q006__6      0.766863  10  0.646356\n",
              " 4              Q006__7      0.896721  10  0.646356\n",
              " 5              Q006__8      1.181329  10  0.646356\n",
              " 6              Q006__9      1.446115  10  0.646356\n",
              " 7              Q024__1      0.855467  10  0.646356\n",
              " 8              Q024__2      1.376336  10  0.646356\n",
              " 9              Q024__3      1.639512  10  0.646356\n",
              " 10         TP_LINGUA_1      0.573452  15  0.681765\n",
              " 11  TP_FAIXA_ETARIA__4      0.652662  15  0.681765\n",
              " 12      TP_COR_RACA__4      0.472399  15  0.681765\n",
              " 13              Q003_3      0.596178  15  0.681765\n",
              " 14              Q003_4      0.734563  15  0.681765\n",
              " 15             Q006__3      0.445882  15  0.681765\n",
              " 16             Q006__4      0.500835  15  0.681765\n",
              " 17             Q006__5      0.764351  15  0.681765\n",
              " 18             Q006__6      1.031702  15  0.681765\n",
              " 19             Q006__7      1.181260  15  0.681765\n",
              " 20             Q006__8      1.461465  15  0.681765\n",
              " 21             Q006__9      1.706251  15  0.681765\n",
              " 22             Q024__1      0.651753  15  0.681765\n",
              " 23             Q024__2      1.018416  15  0.681765\n",
              " 24             Q024__3      1.309801  15  0.681765\n",
              " 25         TP_LINGUA_1      0.558895  20  0.682650\n",
              " 26  TP_FAIXA_ETARIA__4      0.624055  20  0.682650\n",
              " 27      TP_COR_RACA__4      0.449554  20  0.682650\n",
              " 28        TP_ENSINO__1      0.399320  20  0.682650\n",
              " 29              Q001_5      0.377789  20  0.682650\n",
              " 30              Q002_5      0.378244  20  0.682650\n",
              " 31              Q003_3      0.509285  20  0.682650\n",
              " 32              Q003_4      0.568074  20  0.682650\n",
              " 33             Q005__3      0.436209  20  0.682650\n",
              " 34             Q005__4      0.417054  20  0.682650\n",
              " 35             Q006__3      0.433864  20  0.682650\n",
              " 36             Q006__4      0.485336  20  0.682650\n",
              " 37             Q006__5      0.741248  20  0.682650\n",
              " 38             Q006__6      0.980212  20  0.682650\n",
              " 39             Q006__7      1.122460  20  0.682650\n",
              " 40             Q006__8      1.383090  20  0.682650\n",
              " 41             Q006__9      1.633527  20  0.682650\n",
              " 42             Q024__1      0.627514  20  0.682650\n",
              " 43             Q024__2      0.983263  20  0.682650\n",
              " 44             Q024__3      1.294744  20  0.682650,\n",
              "              Variaveis  Coeficientes   k  Acuracia\n",
              " 0   TP_FAIXA_ETARIA__4      0.999473  10  0.660372\n",
              " 1               Q003_4      0.485167  10  0.660372\n",
              " 2              Q006__5      0.757018  10  0.660372\n",
              " 3              Q006__6      1.059423  10  0.660372\n",
              " 4              Q006__7      1.301252  10  0.660372\n",
              " 5              Q006__8      1.554040  10  0.660372\n",
              " 6              Q006__9      1.905293  10  0.660372\n",
              " 7              Q024__1      0.789856  10  0.660372\n",
              " 8              Q024__2      1.343034  10  0.660372\n",
              " 9              Q024__3      1.592117  10  0.660372\n",
              " 10         TP_LINGUA_1      0.583440  15  0.682650\n",
              " 11  TP_FAIXA_ETARIA__4      0.847733  15  0.682650\n",
              " 12              Q002_5      0.402860  15  0.682650\n",
              " 13              Q002_7      0.422290  15  0.682650\n",
              " 14              Q003_3      0.595027  15  0.682650\n",
              " 15              Q003_4      0.598221  15  0.682650\n",
              " 16             Q005__3      0.379396  15  0.682650\n",
              " 17             Q006__5      0.613244  15  0.682650\n",
              " 18             Q006__6      0.792529  15  0.682650\n",
              " 19             Q006__7      0.930899  15  0.682650\n",
              " 20             Q006__8      1.149786  15  0.682650\n",
              " 21             Q006__9      1.468304  15  0.682650\n",
              " 22             Q024__1      0.675568  15  0.682650\n",
              " 23             Q024__2      1.101443  15  0.682650\n",
              " 24             Q024__3      1.302097  15  0.682650\n",
              " 25         TP_LINGUA_1      0.556870  20  0.681027\n",
              " 26  TP_FAIXA_ETARIA__4      0.821229  20  0.681027\n",
              " 27              Q001_5      0.334830  20  0.681027\n",
              " 28              Q002_5      0.340699  20  0.681027\n",
              " 29              Q002_7      0.401264  20  0.681027\n",
              " 30              Q003_3      0.498083  20  0.681027\n",
              " 31              Q003_4      0.472818  20  0.681027\n",
              " 32             Q005__3      0.390818  20  0.681027\n",
              " 33             Q005__4      0.380752  20  0.681027\n",
              " 34             Q006__3      0.312285  20  0.681027\n",
              " 35             Q006__4      0.379190  20  0.681027\n",
              " 36             Q006__5      0.688646  20  0.681027\n",
              " 37             Q006__6      0.874362  20  0.681027\n",
              " 38             Q006__7      1.026585  20  0.681027\n",
              " 39             Q006__8      1.240573  20  0.681027\n",
              " 40             Q006__9      1.585204  20  0.681027\n",
              " 41              Q022_1      0.329891  20  0.681027\n",
              " 42             Q024__1      0.559615  20  0.681027\n",
              " 43             Q024__2      0.942514  20  0.681027\n",
              " 44             Q024__3      1.149760  20  0.681027]"
            ]
          },
          "metadata": {},
          "execution_count": 37
        }
      ]
    },
    {
      "cell_type": "code",
      "source": [
        "with open('/content/drive/MyDrive/MBA_TCC/RESULTADOS/best_estimators_RL_2018.txt', 'w') as arquivo:\n",
        "    vetor_string = ' '.join(str(item) for item in results_RegLog_2)\n",
        "    arquivo.write(vetor_string)"
      ],
      "metadata": {
        "id": "YSYlZ5F3UIu6"
      },
      "execution_count": 38,
      "outputs": []
    },
    {
      "cell_type": "markdown",
      "source": [
        "- Demais Algoritmos (baseados em árvores)\n",
        "\n",
        "  Entradas das variáveis independentes: Label Enconder"
      ],
      "metadata": {
        "id": "i1WDJzzqAlGM"
      }
    },
    {
      "cell_type": "code",
      "source": [
        "# Amostra Treino/Teste\n",
        "X_train, X_test, y_train_2, y_test_2 = train_test_split(df_kbest, Y, test_size=0.2, random_state=42)\n",
        "print(X_train.shape, X_test.shape)\n",
        "print(y_train_2.shape, y_test_2.shape)"
      ],
      "metadata": {
        "colab": {
          "base_uri": "https://localhost:8080/"
        },
        "id": "lO7JvywL-9pp",
        "outputId": "11c1751d-0186-4ecd-af5c-c4525b643baa"
      },
      "execution_count": null,
      "outputs": [
        {
          "output_type": "stream",
          "name": "stdout",
          "text": [
            "(27112, 27) (6778, 27)\n",
            "(27112, 2) (6778, 2)\n"
          ]
        }
      ]
    },
    {
      "cell_type": "code",
      "source": [
        "results_DecTree = ajuste_classificador(cls_Decision_Tree)\n",
        "results_DecTree"
      ],
      "metadata": {
        "colab": {
          "base_uri": "https://localhost:8080/"
        },
        "id": "JhlHoTjPBY9U",
        "outputId": "995104c5-17f6-497f-df4d-2ac1715e0dce"
      },
      "execution_count": null,
      "outputs": [
        {
          "output_type": "stream",
          "name": "stdout",
          "text": [
            " \n",
            "Melhor combinação de hiperparâmetros: {'criterion': 'entropy', 'max_depth': 8, 'max_features': 0.3, 'min_samples_leaf': 0.05, 'min_samples_split': 0.05, 'random_state': 0}\n",
            "Melhor acurácia durante a validação cruzada: 0.6716216562745954\n",
            "Acurácia do modelo no conjunto de teste: 0.6805842431395692\n",
            " \n",
            "Melhor combinação de hiperparâmetros: {'criterion': 'entropy', 'max_depth': 8, 'max_features': 0.3, 'min_samples_leaf': 0.05, 'min_samples_split': 0.15, 'random_state': 0}\n",
            "Melhor acurácia durante a validação cruzada: 0.6680068900627021\n",
            "Acurácia do modelo no conjunto de teste: 0.6743877249926232\n"
          ]
        },
        {
          "output_type": "execute_result",
          "data": {
            "text/plain": [
              "[array([0.12586585, 0.00127261, 0.        , 0.        , 0.        ,\n",
              "        0.00762645, 0.        , 0.11019531, 0.        , 0.        ,\n",
              "        0.57803296, 0.        , 0.05705527, 0.        , 0.        ,\n",
              "        0.        , 0.        , 0.        , 0.00193352, 0.        ,\n",
              "        0.        , 0.        , 0.        , 0.02568846, 0.        ,\n",
              "        0.09232957, 0.        ]),\n",
              " array([0.05072238, 0.        , 0.        , 0.        , 0.        ,\n",
              "        0.        , 0.00375327, 0.10630086, 0.02789387, 0.        ,\n",
              "        0.61348807, 0.        , 0.        , 0.        , 0.        ,\n",
              "        0.00657902, 0.        , 0.        , 0.        , 0.        ,\n",
              "        0.        , 0.        , 0.        , 0.02430127, 0.        ,\n",
              "        0.16696127, 0.        ])]"
            ]
          },
          "metadata": {},
          "execution_count": 99
        }
      ]
    },
    {
      "cell_type": "code",
      "source": [
        "with open('/content/drive/MyDrive/MBA_TCC/RESULTADOS/best_estimators_DT_2018.txt', 'w') as arquivo:\n",
        "    vetor_string = ' '.join(str(item) for item in results_DecTree)\n",
        "    arquivo.write(vetor_string)"
      ],
      "metadata": {
        "id": "39pXZkBBWjDn"
      },
      "execution_count": null,
      "outputs": []
    },
    {
      "cell_type": "code",
      "source": [
        "results_RanFore = ajuste_classificador(cls_Random_Forest)\n",
        "results_RanFore"
      ],
      "metadata": {
        "colab": {
          "base_uri": "https://localhost:8080/"
        },
        "id": "6brHnCrzC4zW",
        "outputId": "7166dbdd-6ae4-4618-8e9b-7ad05b8a33a0"
      },
      "execution_count": null,
      "outputs": [
        {
          "output_type": "stream",
          "name": "stdout",
          "text": [
            " \n",
            "Melhor combinação de hiperparâmetros: {'criterion': 'entropy', 'max_depth': 8, 'max_features': 0.2, 'max_samples': 0.15, 'min_samples_leaf': 0.05, 'min_samples_split': 0.05, 'n_estimators': 100, 'random_state': 6000}\n",
            "Melhor acurácia durante a validação cruzada: 0.6730600969829924\n",
            "Acurácia do modelo no conjunto de teste: 0.6845677190911773\n",
            " \n",
            "Melhor combinação de hiperparâmetros: {'criterion': 'entropy', 'max_depth': 8, 'max_features': 0.2, 'max_samples': 0.15, 'min_samples_leaf': 0.05, 'min_samples_split': 0.05, 'n_estimators': 100, 'random_state': 6000}\n",
            "Melhor acurácia durante a validação cruzada: 0.670625489354909\n",
            "Acurácia do modelo no conjunto de teste: 0.6782236647978754\n"
          ]
        },
        {
          "output_type": "execute_result",
          "data": {
            "text/plain": [
              "[array([0.10309278, 0.01030928, 0.01030928, 0.        , 0.        ,\n",
              "        0.05154639, 0.09278351, 0.08247423, 0.03092784, 0.        ,\n",
              "        0.18556701, 0.        , 0.        , 0.        , 0.1443299 ,\n",
              "        0.        , 0.04123711, 0.        , 0.05154639, 0.        ,\n",
              "        0.        , 0.        , 0.        , 0.04123711, 0.        ,\n",
              "        0.15463918, 0.        ]),\n",
              " array([0.11340206, 0.01030928, 0.01030928, 0.        , 0.        ,\n",
              "        0.05154639, 0.08247423, 0.08247423, 0.04123711, 0.        ,\n",
              "        0.20618557, 0.        , 0.        , 0.        , 0.13402062,\n",
              "        0.        , 0.03092784, 0.        , 0.04123711, 0.        ,\n",
              "        0.        , 0.        , 0.        , 0.06185567, 0.        ,\n",
              "        0.13402062, 0.        ])]"
            ]
          },
          "metadata": {},
          "execution_count": 101
        }
      ]
    },
    {
      "cell_type": "code",
      "source": [
        "with open('/content/drive/MyDrive/MBA_TCC/RESULTADOS/best_estimators_RF_2018.txt', 'w') as arquivo:\n",
        "    vetor_string = ' '.join(str(item) for item in results_RanFore)\n",
        "    arquivo.write(vetor_string)"
      ],
      "metadata": {
        "id": "vuQbk_SjWukQ"
      },
      "execution_count": null,
      "outputs": []
    },
    {
      "cell_type": "code",
      "source": [
        "results_ExtTree = ajuste_classificador(cls_Extra_Trees)\n",
        "results_ExtTree"
      ],
      "metadata": {
        "colab": {
          "base_uri": "https://localhost:8080/"
        },
        "id": "dzn1RqWXCnyy",
        "outputId": "5b362c5b-5692-4468-a540-bff6666e4726"
      },
      "execution_count": null,
      "outputs": [
        {
          "output_type": "stream",
          "name": "stdout",
          "text": [
            " \n",
            "Melhor combinação de hiperparâmetros: {'criterion': 'entropy', 'max_depth': 8, 'max_features': 0.1, 'min_samples_leaf': 0.05, 'min_samples_split': 0.05, 'n_estimators': 50, 'random_state': 6000}\n",
            "Melhor acurácia durante a validação cruzada: 0.6706991744453876\n",
            "Acurácia do modelo no conjunto de teste: 0.6786662732369431\n",
            " \n",
            "Melhor combinação de hiperparâmetros: {'criterion': 'gini', 'max_depth': 8, 'max_features': 0.05, 'min_samples_leaf': 0.1, 'min_samples_split': 0.05, 'n_estimators': 100, 'random_state': 6000}\n",
            "Melhor acurácia durante a validação cruzada: 0.6698875773521703\n",
            "Acurácia do modelo no conjunto de teste: 0.6708468574800827\n"
          ]
        },
        {
          "output_type": "execute_result",
          "data": {
            "text/plain": [
              "[array([0.0671012 , 0.00245818, 0.01011081, 0.01278551, 0.01520888,\n",
              "        0.03344605, 0.02440207, 0.07385878, 0.01829658, 0.00625765,\n",
              "        0.07263592, 0.00457034, 0.05852401, 0.01846893, 0.03949135,\n",
              "        0.0080002 , 0.02511656, 0.00281841, 0.07379137, 0.        ,\n",
              "        0.05722699, 0.02480504, 0.0345485 , 0.03246951, 0.03990403,\n",
              "        0.14727167, 0.09643145]),\n",
              " array([0.10422562, 0.02331723, 0.01538462, 0.02573459, 0.01944368,\n",
              "        0.0564362 , 0.01269327, 0.0396265 , 0.02466824, 0.01669525,\n",
              "        0.08289326, 0.        , 0.01771741, 0.04618891, 0.04591547,\n",
              "        0.01378386, 0.00929486, 0.01750667, 0.04345651, 0.        ,\n",
              "        0.1225479 , 0.01538462, 0.03859018, 0.05783038, 0.04921484,\n",
              "        0.07680832, 0.02464164])]"
            ]
          },
          "metadata": {},
          "execution_count": 103
        }
      ]
    },
    {
      "cell_type": "code",
      "source": [
        "with open('/content/drive/MyDrive/MBA_TCC/RESULTADOS/best_estimators_ET_2018.txt', 'w') as arquivo:\n",
        "    vetor_string = ' '.join(str(item) for item in results_ExtTree)\n",
        "    arquivo.write(vetor_string)"
      ],
      "metadata": {
        "id": "S_Ten4Y8W19y"
      },
      "execution_count": null,
      "outputs": []
    },
    {
      "cell_type": "code",
      "source": [
        "results_GraBoos = ajuste_classificador(cls_Gradient_Boosting)\n",
        "results_GraBoos"
      ],
      "metadata": {
        "colab": {
          "base_uri": "https://localhost:8080/"
        },
        "id": "Fc9aZsFgCvt1",
        "outputId": "135a50eb-741a-4a0d-e536-6d809e23350e"
      },
      "execution_count": null,
      "outputs": [
        {
          "output_type": "stream",
          "name": "stdout",
          "text": [
            " \n",
            "Melhor combinação de hiperparâmetros: {'learning_rate': 0.01, 'max_depth': 8, 'max_features': 0.05, 'min_samples_leaf': 0.05, 'min_samples_split': 0.05, 'n_estimators': 50, 'random_state': 0, 'subsample': 0.05}\n",
            "Melhor acurácia durante a validação cruzada: 0.511544704906959\n",
            "Acurácia do modelo no conjunto de teste: 0.5089997049277073\n",
            " \n",
            "Melhor combinação de hiperparâmetros: {'learning_rate': 0.01, 'max_depth': 8, 'max_features': 0.05, 'min_samples_leaf': 0.05, 'min_samples_split': 0.05, 'n_estimators': 50, 'random_state': 0, 'subsample': 0.05}\n",
            "Melhor acurácia durante a validação cruzada: 0.5027294228110076\n",
            "Acurácia do modelo no conjunto de teste: 0.5097373856594866\n"
          ]
        },
        {
          "output_type": "execute_result",
          "data": {
            "text/plain": [
              "[array([0., 0., 0., 0., 0., 0., 0., 0., 0., 0., 0., 0., 0., 0., 0., 0., 0.,\n",
              "        0., 0., 0., 0., 0., 0., 0., 0., 0., 0.]),\n",
              " array([0., 0., 0., 0., 0., 0., 0., 0., 0., 0., 0., 0., 0., 0., 0., 0., 0.,\n",
              "        0., 0., 0., 0., 0., 0., 0., 0., 0., 0.])]"
            ]
          },
          "metadata": {},
          "execution_count": 105
        }
      ]
    },
    {
      "cell_type": "code",
      "source": [
        "with open('/content/drive/MyDrive/MBA_TCC/RESULTADOS/best_estimators_GB_2018.txt', 'w') as arquivo:\n",
        "    vetor_string = ' '.join(str(item) for item in results_GraBoos)\n",
        "    arquivo.write(vetor_string)"
      ],
      "metadata": {
        "id": "NA7g3caiXDsC"
      },
      "execution_count": null,
      "outputs": []
    },
    {
      "cell_type": "code",
      "source": [
        "results_XGBClas = ajuste_classificador(cls_XGBClassifier)\n",
        "results_XGBClas"
      ],
      "metadata": {
        "colab": {
          "base_uri": "https://localhost:8080/"
        },
        "id": "yaESpPKrCv7K",
        "outputId": "35347a24-6de4-4486-ba95-a840a34a4193"
      },
      "execution_count": null,
      "outputs": [
        {
          "output_type": "stream",
          "name": "stdout",
          "text": [
            " \n",
            "Melhor combinação de hiperparâmetros: {'colsample_bytree': 0.1, 'learning_rate': 0.1, 'max_depth': 8, 'min_child_weight': 0.1, 'n_estimators': 100, 'subsample': 0.1}\n",
            "Melhor acurácia durante a validação cruzada: 0.6823913175524033\n",
            "Acurácia do modelo no conjunto de teste: 0.6919445264089702\n",
            " \n",
            "Melhor combinação de hiperparâmetros: {'colsample_bytree': 0.1, 'learning_rate': 0.1, 'max_depth': 8, 'min_child_weight': 0.1, 'n_estimators': 100, 'subsample': 0.1}\n",
            "Melhor acurácia durante a validação cruzada: 0.6805469252544237\n",
            "Acurácia do modelo no conjunto de teste: 0.6885511950427855\n"
          ]
        },
        {
          "output_type": "execute_result",
          "data": {
            "text/plain": [
              "[array([0.16405065, 0.00742223, 0.00876194, 0.00795671, 0.01078869,\n",
              "        0.02380938, 0.01490025, 0.02402571, 0.01409422, 0.01082082,\n",
              "        0.0496256 , 0.00895928, 0.03010628, 0.00502998, 0.03180092,\n",
              "        0.00733806, 0.00692192, 0.00512193, 0.0575771 , 0.00425235,\n",
              "        0.10249072, 0.00564891, 0.03748406, 0.01151205, 0.03103103,\n",
              "        0.28435242, 0.03411674], dtype=float32),\n",
              " array([0.1844096 , 0.00964   , 0.00971239, 0.00818113, 0.01179052,\n",
              "        0.02040814, 0.02015244, 0.02514228, 0.02302822, 0.01180319,\n",
              "        0.0614871 , 0.01123964, 0.042294  , 0.00615895, 0.02967278,\n",
              "        0.00920545, 0.00760507, 0.01028278, 0.04961472, 0.00407785,\n",
              "        0.04486343, 0.00620016, 0.05027631, 0.01102785, 0.02541443,\n",
              "        0.26850867, 0.03780292], dtype=float32)]"
            ]
          },
          "metadata": {},
          "execution_count": 108
        }
      ]
    },
    {
      "cell_type": "code",
      "source": [
        "with open('/content/drive/MyDrive/MBA_TCC/RESULTADOS/best_estimators_XGB_2018.txt', 'w') as arquivo:\n",
        "    vetor_string = ' '.join(str(item) for item in results_XGBClas)\n",
        "    arquivo.write(vetor_string)"
      ],
      "metadata": {
        "id": "XzN6YrbJXE7d"
      },
      "execution_count": null,
      "outputs": []
    },
    {
      "cell_type": "code",
      "source": [
        "results_LGBClas = ajuste_classificador(cls_LGBMClassifier)\n",
        "results_LGBClas"
      ],
      "metadata": {
        "colab": {
          "base_uri": "https://localhost:8080/"
        },
        "id": "BFDlMbxLDLh_",
        "outputId": "980d6cf3-2345-4260-ca44-c68bd8449b41"
      },
      "execution_count": null,
      "outputs": [
        {
          "output_type": "stream",
          "name": "stderr",
          "text": [
            "/usr/local/lib/python3.10/dist-packages/sklearn/model_selection/_validation.py:378: FitFailedWarning: \n",
            "720 fits failed out of a total of 2160.\n",
            "The score on these train-test partitions for these parameters will be set to nan.\n",
            "If these failures are not expected, you can try to debug them by setting error_score='raise'.\n",
            "\n",
            "Below are more details about the failures:\n",
            "--------------------------------------------------------------------------------\n",
            "720 fits failed with the following error:\n",
            "Traceback (most recent call last):\n",
            "  File \"/usr/local/lib/python3.10/dist-packages/sklearn/model_selection/_validation.py\", line 686, in _fit_and_score\n",
            "    estimator.fit(X_train, y_train, **fit_params)\n",
            "  File \"/usr/local/lib/python3.10/dist-packages/lightgbm/sklearn.py\", line 967, in fit\n",
            "    super().fit(X, _y, sample_weight=sample_weight, init_score=init_score, eval_set=valid_sets,\n",
            "  File \"/usr/local/lib/python3.10/dist-packages/lightgbm/sklearn.py\", line 748, in fit\n",
            "    self._Booster = train(\n",
            "  File \"/usr/local/lib/python3.10/dist-packages/lightgbm/engine.py\", line 271, in train\n",
            "    booster = Booster(params=params, train_set=train_set)\n",
            "  File \"/usr/local/lib/python3.10/dist-packages/lightgbm/basic.py\", line 2610, in __init__\n",
            "    _safe_call(_LIB.LGBM_BoosterCreate(\n",
            "  File \"/usr/local/lib/python3.10/dist-packages/lightgbm/basic.py\", line 125, in _safe_call\n",
            "    raise LightGBMError(_LIB.LGBM_GetLastError().decode('utf-8'))\n",
            "lightgbm.basic.LightGBMError: Check failed: config->bagging_freq > 0 && config->bagging_fraction < 1.0f && config->bagging_fraction > 0.0f at /__w/1/s/python-package/compile/src/boosting/rf.hpp, line 35 .\n",
            "\n",
            "\n",
            "  warnings.warn(some_fits_failed_message, FitFailedWarning)\n",
            "/usr/local/lib/python3.10/dist-packages/sklearn/model_selection/_search.py:952: UserWarning: One or more of the test scores are non-finite: [0.66147803 0.66147803 0.66147803 0.66147803 0.66147803 0.66147803\n",
            " 0.66841228 0.66841228 0.66841228 0.66841228 0.66841228 0.66841228\n",
            " 0.66147803 0.66147803 0.66147803 0.66147803 0.66147803 0.66147803\n",
            " 0.66841228 0.66841228 0.66841228 0.66841228 0.66841228 0.66841228\n",
            " 0.67139996 0.67139996 0.67139996 0.67139996 0.67139996 0.67139996\n",
            " 0.67578911 0.67578911 0.67578911 0.67578911 0.67578911 0.67578911\n",
            " 0.67139996 0.67139996 0.67139996 0.67139996 0.67139996 0.67139996\n",
            " 0.67578911 0.67578911 0.67578911 0.67578911 0.67578911 0.67578911\n",
            " 0.67302284 0.67302284 0.67302284 0.67302284 0.67302284 0.67302284\n",
            " 0.67848158 0.67848158 0.67848158 0.67848158 0.67848158 0.67848158\n",
            " 0.67302284 0.67302284 0.67302284 0.67302284 0.67302284 0.67302284\n",
            " 0.67848158 0.67848158 0.67848158 0.67848158 0.67848158 0.67848158\n",
            " 0.67575236 0.67575236 0.67645309 0.67645309 0.67630557 0.67630557\n",
            " 0.67755938 0.67755938 0.6772643  0.6772643  0.67767001 0.67767001\n",
            " 0.67575236 0.67575236 0.67645309 0.67645309 0.67630557 0.67630557\n",
            " 0.67755938 0.67755938 0.6772643  0.6772643  0.6777069  0.6777069\n",
            " 0.68139549 0.68139549 0.68209624 0.68209624 0.68257568 0.68257568\n",
            " 0.68467809 0.68467809 0.68563702 0.68563702 0.68552637 0.68552637\n",
            " 0.68139549 0.68139549 0.68209624 0.68209624 0.68268634 0.68268634\n",
            " 0.68467809 0.68467809 0.68560013 0.68560013 0.68526819 0.68526819\n",
            " 0.68534205 0.68534205 0.68504691 0.68504691 0.68574769 0.68574769\n",
            " 0.68799774 0.68799774 0.68873535 0.68873535 0.68877226 0.68877226\n",
            " 0.68534205 0.68534205 0.68504691 0.68504691 0.68552638 0.68552638\n",
            " 0.68799774 0.68799774 0.68866158 0.68866158 0.68884601 0.68884601\n",
            " 0.65631429 0.65631429 0.65631429 0.65631429 0.65631429 0.65631429\n",
            " 0.66601473 0.66601473 0.66601473 0.66601473 0.66601473 0.66601473\n",
            " 0.65631429 0.65631429 0.65631429 0.65631429 0.65631429 0.65631429\n",
            " 0.66601473 0.66601473 0.66601473 0.66601473 0.66601473 0.66601473\n",
            " 0.67199002 0.67199002 0.67199002 0.67199002 0.67199002 0.67199002\n",
            " 0.67276466 0.67276466 0.67276466 0.67276466 0.67276466 0.67276466\n",
            " 0.67199002 0.67199002 0.67199002 0.67199002 0.67199002 0.67199002\n",
            " 0.67276466 0.67276466 0.67276466 0.67276466 0.67276466 0.67276466\n",
            " 0.67305978 0.67305978 0.67305978 0.67305978 0.67305978 0.67305978\n",
            " 0.67486685 0.67486685 0.67486685 0.67486685 0.67486685 0.67486685\n",
            " 0.67305978 0.67305978 0.67305978 0.67305978 0.67305978 0.67305978\n",
            " 0.67486685 0.67486685 0.67486685 0.67486685 0.67486685 0.67486685\n",
            " 0.67302297 0.67302297 0.6732811  0.6732811  0.673613   0.673613\n",
            " 0.67486698 0.67486698 0.67542026 0.67542026 0.67575221 0.67575221\n",
            " 0.67302297 0.67302297 0.6732811  0.6732811  0.67364988 0.67364988\n",
            " 0.67486698 0.67486698 0.67542026 0.67542026 0.67575221 0.67575221\n",
            " 0.67862911 0.67862911 0.6803628  0.6803628  0.68069468 0.68069468\n",
            " 0.67859219 0.67859219 0.67940367 0.67940367 0.67962491 0.67962491\n",
            " 0.67862911 0.67862911 0.6803628  0.6803628  0.68073156 0.68073156\n",
            " 0.67859219 0.67859219 0.67940367 0.67940367 0.67966179 0.67966179\n",
            " 0.68128486 0.68128486 0.68305517 0.68305517 0.68371911 0.68371911\n",
            " 0.68353457 0.68353457 0.68305512 0.68305512 0.68371902 0.68371902\n",
            " 0.68128486 0.68128486 0.68305517 0.68305517 0.68382976 0.68382976\n",
            " 0.68353457 0.68353457 0.68316578 0.68316578 0.68346081 0.68346081\n",
            "        nan        nan        nan        nan        nan        nan\n",
            "        nan        nan        nan        nan        nan        nan\n",
            "        nan        nan        nan        nan        nan        nan\n",
            "        nan        nan        nan        nan        nan        nan\n",
            "        nan        nan        nan        nan        nan        nan\n",
            "        nan        nan        nan        nan        nan        nan\n",
            "        nan        nan        nan        nan        nan        nan\n",
            "        nan        nan        nan        nan        nan        nan\n",
            "        nan        nan        nan        nan        nan        nan\n",
            "        nan        nan        nan        nan        nan        nan\n",
            "        nan        nan        nan        nan        nan        nan\n",
            "        nan        nan        nan        nan        nan        nan\n",
            "        nan        nan        nan        nan        nan        nan\n",
            "        nan        nan        nan        nan        nan        nan\n",
            "        nan        nan        nan        nan        nan        nan\n",
            "        nan        nan        nan        nan        nan        nan\n",
            "        nan        nan        nan        nan        nan        nan\n",
            "        nan        nan        nan        nan        nan        nan\n",
            "        nan        nan        nan        nan        nan        nan\n",
            "        nan        nan        nan        nan        nan        nan\n",
            "        nan        nan        nan        nan        nan        nan\n",
            "        nan        nan        nan        nan        nan        nan\n",
            "        nan        nan        nan        nan        nan        nan\n",
            "        nan        nan        nan        nan        nan        nan]\n",
            "  warnings.warn(\n"
          ]
        },
        {
          "output_type": "stream",
          "name": "stdout",
          "text": [
            " \n",
            "Melhor combinação de hiperparâmetros: {'boosting_type': 'gbdt', 'colsample_bytree': 0.1, 'learning_rate': 0.1, 'max_depth': 12, 'n_estimators': 100, 'num_leaves': 30, 'objective': 'binary', 'subsample': 0.05}\n",
            "Melhor acurácia durante a validação cruzada: 0.6888460104043375\n",
            "Acurácia do modelo no conjunto de teste: 0.6963706107996459\n"
          ]
        },
        {
          "output_type": "stream",
          "name": "stderr",
          "text": [
            "/usr/local/lib/python3.10/dist-packages/sklearn/model_selection/_validation.py:378: FitFailedWarning: \n",
            "720 fits failed out of a total of 2160.\n",
            "The score on these train-test partitions for these parameters will be set to nan.\n",
            "If these failures are not expected, you can try to debug them by setting error_score='raise'.\n",
            "\n",
            "Below are more details about the failures:\n",
            "--------------------------------------------------------------------------------\n",
            "720 fits failed with the following error:\n",
            "Traceback (most recent call last):\n",
            "  File \"/usr/local/lib/python3.10/dist-packages/sklearn/model_selection/_validation.py\", line 686, in _fit_and_score\n",
            "    estimator.fit(X_train, y_train, **fit_params)\n",
            "  File \"/usr/local/lib/python3.10/dist-packages/lightgbm/sklearn.py\", line 967, in fit\n",
            "    super().fit(X, _y, sample_weight=sample_weight, init_score=init_score, eval_set=valid_sets,\n",
            "  File \"/usr/local/lib/python3.10/dist-packages/lightgbm/sklearn.py\", line 748, in fit\n",
            "    self._Booster = train(\n",
            "  File \"/usr/local/lib/python3.10/dist-packages/lightgbm/engine.py\", line 271, in train\n",
            "    booster = Booster(params=params, train_set=train_set)\n",
            "  File \"/usr/local/lib/python3.10/dist-packages/lightgbm/basic.py\", line 2610, in __init__\n",
            "    _safe_call(_LIB.LGBM_BoosterCreate(\n",
            "  File \"/usr/local/lib/python3.10/dist-packages/lightgbm/basic.py\", line 125, in _safe_call\n",
            "    raise LightGBMError(_LIB.LGBM_GetLastError().decode('utf-8'))\n",
            "lightgbm.basic.LightGBMError: Check failed: config->bagging_freq > 0 && config->bagging_fraction < 1.0f && config->bagging_fraction > 0.0f at /__w/1/s/python-package/compile/src/boosting/rf.hpp, line 35 .\n",
            "\n",
            "\n",
            "  warnings.warn(some_fits_failed_message, FitFailedWarning)\n",
            "/usr/local/lib/python3.10/dist-packages/sklearn/model_selection/_search.py:952: UserWarning: One or more of the test scores are non-finite: [0.66756375 0.66756375 0.66756375 0.66756375 0.66756375 0.66756375\n",
            " 0.66996112 0.66996112 0.66996112 0.66996112 0.66996112 0.66996112\n",
            " 0.66756375 0.66756375 0.66756375 0.66756375 0.66756375 0.66756375\n",
            " 0.66996112 0.66996112 0.66996112 0.66996112 0.66996112 0.66996112\n",
            " 0.66830132 0.66830132 0.66830132 0.66830132 0.66830132 0.66830132\n",
            " 0.67250612 0.67250612 0.67250612 0.67250612 0.67250612 0.67250612\n",
            " 0.66830132 0.66830132 0.66830132 0.66830132 0.66830132 0.66830132\n",
            " 0.67250612 0.67250612 0.67250612 0.67250612 0.67250612 0.67250612\n",
            " 0.66985036 0.66985036 0.66985036 0.66985036 0.66985036 0.66985036\n",
            " 0.67464527 0.67464527 0.67464527 0.67464527 0.67464527 0.67464527\n",
            " 0.66985036 0.66985036 0.66985036 0.66985036 0.66985036 0.66985036\n",
            " 0.67464527 0.67464527 0.67464527 0.67464527 0.67464527 0.67464527\n",
            " 0.67534614 0.67534614 0.67494034 0.67494034 0.6749403  0.6749403\n",
            " 0.67501424 0.67501424 0.67567806 0.67567806 0.67567802 0.67567802\n",
            " 0.67534614 0.67534614 0.67494034 0.67494034 0.6749403  0.6749403\n",
            " 0.67501424 0.67501424 0.67567806 0.67567806 0.6757149  0.6757149\n",
            " 0.67899755 0.67899755 0.6785918  0.6785918  0.67914508 0.67914508\n",
            " 0.68397707 0.68397707 0.68316564 0.68316564 0.68438283 0.68438283\n",
            " 0.67899755 0.67899755 0.6785918  0.6785918  0.67914509 0.67914509\n",
            " 0.68397707 0.68397707 0.68320252 0.68320252 0.68416151 0.68416151\n",
            " 0.68331321 0.68331321 0.68423528 0.68423528 0.68349751 0.68349751\n",
            " 0.68748125 0.68748125 0.68729678 0.68729678 0.68663283 0.68663283\n",
            " 0.68331321 0.68331321 0.68419839 0.68419839 0.68368196 0.68368196\n",
            " 0.68748125 0.68748125 0.68748122 0.68748122 0.68703854 0.68703854\n",
            " 0.66811696 0.66811696 0.66811696 0.66811696 0.66811696 0.66811696\n",
            " 0.66929714 0.66929714 0.66929714 0.66929714 0.66929714 0.66929714\n",
            " 0.66811696 0.66811696 0.66811696 0.66811696 0.66811696 0.66811696\n",
            " 0.66929714 0.66929714 0.66929714 0.66929714 0.66929714 0.66929714\n",
            " 0.66830136 0.66830136 0.66830136 0.66830136 0.66830136 0.66830136\n",
            " 0.67062482 0.67062482 0.67062482 0.67062482 0.67062482 0.67062482\n",
            " 0.66830136 0.66830136 0.66830136 0.66830136 0.66830136 0.66830136\n",
            " 0.67062482 0.67062482 0.67062482 0.67062482 0.67062482 0.67062482\n",
            " 0.66948156 0.66948156 0.66948156 0.66948156 0.66948156 0.66948156\n",
            " 0.6728379  0.6728379  0.6728379  0.6728379  0.6728379  0.6728379\n",
            " 0.66948156 0.66948156 0.66948156 0.66948156 0.66948156 0.66948156\n",
            " 0.6728379  0.6728379  0.6728379  0.6728379  0.6728379  0.6728379\n",
            " 0.67479292 0.67479292 0.67453464 0.67453464 0.6747191  0.6747191\n",
            " 0.67346512 0.67346512 0.67412899 0.67412899 0.67438723 0.67438723\n",
            " 0.67479292 0.67479292 0.67453464 0.67453464 0.6747191  0.6747191\n",
            " 0.67346512 0.67346512 0.67412899 0.67412899 0.67438723 0.67438723\n",
            " 0.67789113 0.67789113 0.67730094 0.67730094 0.6780017  0.6780017\n",
            " 0.67744842 0.67744842 0.67682153 0.67682153 0.67663702 0.67663702\n",
            " 0.67789113 0.67789113 0.67730094 0.67730094 0.6780017  0.6780017\n",
            " 0.67744842 0.67744842 0.67682153 0.67682153 0.6766739  0.6766739\n",
            " 0.68058364 0.68058364 0.68032548 0.68032548 0.68017789 0.68017789\n",
            " 0.68084196 0.68084196 0.68187473 0.68187473 0.68180093 0.68180093\n",
            " 0.68058364 0.68058364 0.68032548 0.68032548 0.68014101 0.68014101\n",
            " 0.68084196 0.68084196 0.68183784 0.68183784 0.68187471 0.68187471\n",
            "        nan        nan        nan        nan        nan        nan\n",
            "        nan        nan        nan        nan        nan        nan\n",
            "        nan        nan        nan        nan        nan        nan\n",
            "        nan        nan        nan        nan        nan        nan\n",
            "        nan        nan        nan        nan        nan        nan\n",
            "        nan        nan        nan        nan        nan        nan\n",
            "        nan        nan        nan        nan        nan        nan\n",
            "        nan        nan        nan        nan        nan        nan\n",
            "        nan        nan        nan        nan        nan        nan\n",
            "        nan        nan        nan        nan        nan        nan\n",
            "        nan        nan        nan        nan        nan        nan\n",
            "        nan        nan        nan        nan        nan        nan\n",
            "        nan        nan        nan        nan        nan        nan\n",
            "        nan        nan        nan        nan        nan        nan\n",
            "        nan        nan        nan        nan        nan        nan\n",
            "        nan        nan        nan        nan        nan        nan\n",
            "        nan        nan        nan        nan        nan        nan\n",
            "        nan        nan        nan        nan        nan        nan\n",
            "        nan        nan        nan        nan        nan        nan\n",
            "        nan        nan        nan        nan        nan        nan\n",
            "        nan        nan        nan        nan        nan        nan\n",
            "        nan        nan        nan        nan        nan        nan\n",
            "        nan        nan        nan        nan        nan        nan\n",
            "        nan        nan        nan        nan        nan        nan]\n",
            "  warnings.warn(\n"
          ]
        },
        {
          "output_type": "stream",
          "name": "stdout",
          "text": [
            " \n",
            "Melhor combinação de hiperparâmetros: {'boosting_type': 'gbdt', 'colsample_bytree': 0.1, 'learning_rate': 0.1, 'max_depth': 8, 'n_estimators': 100, 'num_leaves': 10, 'objective': 'binary', 'subsample': 0.05}\n",
            "Melhor acurácia durante a validação cruzada: 0.6874812547864191\n",
            "Acurácia do modelo no conjunto de teste: 0.6940100324579522\n"
          ]
        },
        {
          "output_type": "execute_result",
          "data": {
            "text/plain": [
              "[array([  9, 157, 171,  41,  75, 163, 109, 133, 119, 154, 172,  47, 144,\n",
              "        141, 130, 101,  56,  23,  31,  47,  56, 139,  35,  62,  77,  58,\n",
              "         66], dtype=int32),\n",
              " array([ 9, 40, 50, 25, 29, 59, 43, 43, 41, 41, 72, 22, 31, 42, 37, 43, 23,\n",
              "        11, 12, 21, 31, 47, 19, 20, 22, 37, 28], dtype=int32)]"
            ]
          },
          "metadata": {},
          "execution_count": 110
        }
      ]
    },
    {
      "cell_type": "code",
      "source": [
        "with open('/content/drive/MyDrive/MBA_TCC/RESULTADOS/best_estimators_LGB_2018.txt', 'w') as arquivo:\n",
        "    vetor_string = ' '.join(str(item) for item in results_LGBClas)\n",
        "    arquivo.write(vetor_string)"
      ],
      "metadata": {
        "id": "WRwpUPLTXGWD"
      },
      "execution_count": null,
      "outputs": []
    },
    {
      "cell_type": "markdown",
      "source": [
        "# **Análise**"
      ],
      "metadata": {
        "id": "6x7BQvWBBPHj"
      }
    },
    {
      "cell_type": "code",
      "source": [
        "def plot_feature_importance(results,algoritmo):\n",
        "  df_feat_import = pd.DataFrame({'Features': df_kbest.columns,\n",
        "                                 'RT1': results[0],\n",
        "                                 'RT2': results[1]})\n",
        "  df_feat_import_1 = df_feat_import.sort_values(by='RT1', ascending=True)\n",
        "  df_feat_import_2 = df_feat_import.sort_values(by='RT2', ascending=True)\n",
        "\n",
        "  fig, (ax1, ax2) = plt.subplots(1, 2, figsize=(9, 6))\n",
        "  fig.suptitle(algoritmo, fontsize=14, fontweight='bold', y=1)\n",
        "\n",
        "  ax1.barh(df_feat_import_1['Features'], df_feat_import_1['RT1'])\n",
        "  ax1.set_title('Target 1')\n",
        "  ax1.set_xlabel('Importance')\n",
        "  ax1.set_ylabel('Features')\n",
        "  # ticks1 = [i for i in range(0.1,0.5,0.1)]\n",
        "  # ax1.set_xticks(ticks1)\n",
        "  # ax1.set_xticklabels([f'{i:.1f}' for i in ticks1], fontsize=8)\n",
        "\n",
        "  ax2.barh(df_feat_import_2['Features'], df_feat_import_2['RT2'])\n",
        "  ax2.set_title('Target 2')\n",
        "  ax2.set_xlabel('Importance')\n",
        "  ax2.set_ylabel('Features')\n",
        "  # ax2.set_xticks(ticks1)\n",
        "  # ax2.set_xticklabels([f'{i:.1f}' for i in ticks1], fontsize=8)\n",
        "\n",
        "  plt.tight_layout()\n",
        "\n",
        "  return plt.show()"
      ],
      "metadata": {
        "id": "srvo9Wxtc3WQ"
      },
      "execution_count": null,
      "outputs": []
    },
    {
      "cell_type": "code",
      "source": [
        "plot_DT = plot_feature_importance(results_DecTree, 'Feature Importances - Best Model (DT)')\n",
        "plot_DT"
      ],
      "metadata": {
        "colab": {
          "base_uri": "https://localhost:8080/",
          "height": 621
        },
        "id": "_Bb9Ep4W_LP7",
        "outputId": "80fd2d9a-c875-450e-d1af-1b29cf0c40f7"
      },
      "execution_count": null,
      "outputs": [
        {
          "output_type": "display_data",
          "data": {
            "text/plain": [
              "<Figure size 900x600 with 2 Axes>"
            ],
            "image/png": "[encoded data removed]"
          },
          "metadata": {}
        }
      ]
    },
    {
      "cell_type": "code",
      "source": [
        "plot_RF = plot_feature_importance(results_RanFore, 'Feature Importances - Best Model (RF)')\n",
        "plot_RF"
      ],
      "metadata": {
        "colab": {
          "base_uri": "https://localhost:8080/",
          "height": 621
        },
        "id": "ON18ZIUA_dmK",
        "outputId": "56e16c58-9adc-4d8e-993e-7031e64b4cc6"
      },
      "execution_count": null,
      "outputs": [
        {
          "output_type": "display_data",
          "data": {
            "text/plain": [
              "<Figure size 900x600 with 2 Axes>"
            ],
            "image/png": "[encoded data removed]"
          },
          "metadata": {}
        }
      ]
    },
    {
      "cell_type": "code",
      "source": [
        "plot_ET = plot_feature_importance(results_ExtTree, 'Feature Importances - Best Model (ET)')\n",
        "plot_ET"
      ],
      "metadata": {
        "colab": {
          "base_uri": "https://localhost:8080/",
          "height": 621
        },
        "id": "I4ALdx0V_dsY",
        "outputId": "20432b0f-6726-4c76-8057-dbeb3ca99f3d"
      },
      "execution_count": null,
      "outputs": [
        {
          "output_type": "display_data",
          "data": {
            "text/plain": [
              "<Figure size 900x600 with 2 Axes>"
            ],
            "image/png": "[encoded data removed]"
          },
          "metadata": {}
        }
      ]
    },
    {
      "cell_type": "code",
      "source": [
        "plot_XGB = plot_feature_importance(results_XGBClas, 'Feature Importances - Best Model (XGB)')\n",
        "plot_XGB"
      ],
      "metadata": {
        "colab": {
          "base_uri": "https://localhost:8080/",
          "height": 621
        },
        "id": "fAwbuYhtjNTe",
        "outputId": "2fa2c270-bb89-4a29-f367-473817c8b092"
      },
      "execution_count": null,
      "outputs": [
        {
          "output_type": "display_data",
          "data": {
            "text/plain": [
              "<Figure size 900x600 with 2 Axes>"
            ],
            "image/png": "[encoded data removed]"
          },
          "metadata": {}
        }
      ]
    },
    {
      "cell_type": "code",
      "source": [
        "plot_LGB = plot_feature_importance(results_LGBClas, 'Feature Importances - Best Model (LGB)')\n",
        "plot_LGB"
      ],
      "metadata": {
        "colab": {
          "base_uri": "https://localhost:8080/",
          "height": 621
        },
        "id": "rCK-VpP2ovSR",
        "outputId": "6ff2d082-4450-46ae-9c22-f43c738d122e"
      },
      "execution_count": null,
      "outputs": [
        {
          "output_type": "display_data",
          "data": {
            "text/plain": [
              "<Figure size 900x600 with 2 Axes>"
            ],
            "image/png": "[encoded data removed]"
          },
          "metadata": {}
        }
      ]
    },
    {
      "cell_type": "code",
      "source": [
        "def plot_feature_importance_2(results,algoritmo):\n",
        "  df_feat_import_1 = results[0][['Variaveis','Coeficientes']].loc[results[0]['k'] == 15].sort_values(by='Coeficientes', ascending=True)\n",
        "  df_feat_import_2 = results[1][['Variaveis','Coeficientes']].loc[results[1]['k'] == 15].sort_values(by='Coeficientes', ascending=True)\n",
        "\n",
        "  fig, (ax1, ax2) = plt.subplots(1, 2, figsize=(9, 6))\n",
        "  fig.suptitle(algoritmo, fontsize=14, fontweight='bold', y=1)\n",
        "\n",
        "  ax1.barh(df_feat_import_1['Variaveis'], df_feat_import_1['Coeficientes'])\n",
        "  ax1.set_title('Target 1')\n",
        "  ax1.set_xlabel('Importance')\n",
        "  ax1.set_ylabel('Features')\n",
        "  # ticks1 = [i for i in range(0.1,0.5,0.1)]\n",
        "  # ax1.set_xticks(ticks1)\n",
        "  # ax1.set_xticklabels([f'{i:.1f}' for i in ticks1], fontsize=8)\n",
        "\n",
        "  ax2.barh(df_feat_import_2['Variaveis'], df_feat_import_2['Coeficientes'])\n",
        "  ax2.set_title('Target 2')\n",
        "  ax2.set_xlabel('Importance')\n",
        "  ax2.set_ylabel('Features')\n",
        "  # ax2.set_xticks(ticks1)\n",
        "  # ax2.set_xticklabels([f'{i:.1f}' for i in ticks1], fontsize=8)\n",
        "\n",
        "  plt.tight_layout()\n",
        "\n",
        "  return plt.show()"
      ],
      "metadata": {
        "id": "Ky35QeSnB5uD"
      },
      "execution_count": 60,
      "outputs": []
    },
    {
      "cell_type": "code",
      "source": [
        "plot_RL = plot_feature_importance_2(results_RegLog_2, 'Feature Importances - Best Model (RL)')\n",
        "plot_RL"
      ],
      "metadata": {
        "colab": {
          "base_uri": "https://localhost:8080/",
          "height": 621
        },
        "id": "X_Ble0GoEw15",
        "outputId": "8dfca757-e6a6-4706-c593-d9cfe2f93fb5"
      },
      "execution_count": 62,
      "outputs": [
        {
          "output_type": "display_data",
          "data": {
            "text/plain": [
              "<Figure size 900x600 with 2 Axes>"
            ],
            "image/png": "[encoded data removed]"
          },
          "metadata": {}
        }
      ]
    },
    {
      "cell_type": "markdown",
      "source": [
        "PRÓXIMOS PASSOS:\n",
        "- Ampliar o teste das variáveis;\n",
        "- Analisar melhor os hiperparâmetros de cada algorítmo em busca das melhores combinações. Verificar erros. Propor soluções;\n",
        "- A partir dos melhores parâmetros encontrados, ajustar o algoritmo na base completa.\n"
      ],
      "metadata": {
        "id": "-2y0uACBpe2C"
      }
    }
  ]
}
