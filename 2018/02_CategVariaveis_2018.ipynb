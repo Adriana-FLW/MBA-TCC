{
  "nbformat": 4,
  "nbformat_minor": 0,
  "metadata": {
    "colab": {
      "provenance": [],
      "mount_file_id": "1SAAPWVCK8UgiGiagfSZBvjaJZ1r226wo",
      "authorship_tag": "ABX9TyOsgoHPzWZdTTmPyyjGLCI5",
      "include_colab_link": true
    },
    "kernelspec": {
      "name": "python3",
      "display_name": "Python 3"
    },
    "language_info": {
      "name": "python"
    }
  },
  "cells": [
    {
      "cell_type": "markdown",
      "metadata": {
        "id": "view-in-github",
        "colab_type": "text"
      },
      "source": [
        "<a href=\"https://colab.research.google.com/github/Adriana-FLW/MBA_TCC/blob/main/02_CategVariaveis_2018.ipynb\" target=\"_parent\"><img src=\"https://colab.research.google.com/assets/colab-badge.svg\" alt=\"Open In Colab\"/></a>"
      ]
    },
    {
      "cell_type": "markdown",
      "source": [
        "\n",
        "# **ENEM 2018**"
      ],
      "metadata": {
        "id": "cvmTA9hvz6WR"
      }
    },
    {
      "cell_type": "code",
      "source": [
        "from google.colab import drive\n",
        "drive.mount('/content/drive')"
      ],
      "metadata": {
        "id": "UVF1E7U0SZYa"
      },
      "execution_count": null,
      "outputs": []
    },
    {
      "cell_type": "markdown",
      "source": [
        "# - **Bibliotecas**"
      ],
      "metadata": {
        "id": "mYMdtT9R0AGA"
      }
    },
    {
      "cell_type": "code",
      "source": [
        "import pandas as pd\n",
        "import numpy as np"
      ],
      "metadata": {
        "id": "vZP9nhSc0Fq_"
      },
      "execution_count": null,
      "outputs": []
    },
    {
      "cell_type": "markdown",
      "source": [
        "# **Importar Base 2018**"
      ],
      "metadata": {
        "id": "gH-3IGXK0MT3"
      }
    },
    {
      "cell_type": "code",
      "source": [
        "df_ft = pd.read_csv('/content/drive/MyDrive/MBA_TCC/DADOS/df_ft_2018.csv',sep=',',encoding='ISO-8859-1')\n",
        "df_ft.shape"
      ],
      "metadata": {
        "colab": {
          "base_uri": "https://localhost:8080/"
        },
        "id": "8IA_ob080QPp",
        "outputId": "98aec24f-1895-4d95-c3ec-325dcb70968a"
      },
      "execution_count": null,
      "outputs": [
        {
          "output_type": "execute_result",
          "data": {
            "text/plain": [
              "(3369104, 51)"
            ]
          },
          "metadata": {},
          "execution_count": 3
        }
      ]
    },
    {
      "cell_type": "code",
      "source": [
        "df_ft.info()"
      ],
      "metadata": {
        "colab": {
          "base_uri": "https://localhost:8080/"
        },
        "id": "9fyVyre10Wx5",
        "outputId": "761a41ff-7c32-4ffe-89bf-54cd95cd3e38"
      },
      "execution_count": null,
      "outputs": [
        {
          "output_type": "stream",
          "name": "stdout",
          "text": [
            "<class 'pandas.core.frame.DataFrame'>\n",
            "RangeIndex: 3369104 entries, 0 to 3369103\n",
            "Data columns (total 51 columns):\n",
            " #   Column              Dtype  \n",
            "---  ------              -----  \n",
            " 0   NU_INSCRICAO        int64  \n",
            " 1   NU_ANO              int64  \n",
            " 2   TP_FAIXA_ETARIA     int64  \n",
            " 3   TP_SEXO             object \n",
            " 4   TP_ESTADO_CIVIL     int64  \n",
            " 5   TP_COR_RACA         int64  \n",
            " 6   TP_ST_CONCLUSAO     int64  \n",
            " 7   TP_ANO_CONCLUIU     int64  \n",
            " 8   TP_ESCOLA           int64  \n",
            " 9   TP_ENSINO           int64  \n",
            " 10  CO_MUNICIPIO_ESC    float64\n",
            " 11  NO_MUNICIPIO_ESC    object \n",
            " 12  SG_UF_ESC           object \n",
            " 13  TP_LOCALIZACAO_ESC  int64  \n",
            " 14  CO_MUNICIPIO_PROVA  float64\n",
            " 15  NO_MUNICIPIO_PROVA  object \n",
            " 16  SG_UF_PROVA         object \n",
            " 17  NU_NOTA_CN          float64\n",
            " 18  NU_NOTA_CH          float64\n",
            " 19  NU_NOTA_LC          float64\n",
            " 20  NU_NOTA_MT          float64\n",
            " 21  TP_LINGUA           int64  \n",
            " 22  NU_NOTA_REDACAO     float64\n",
            " 23  Q001                object \n",
            " 24  Q002                object \n",
            " 25  Q003                object \n",
            " 26  Q004                object \n",
            " 27  Q005                float64\n",
            " 28  Q006                object \n",
            " 29  Q007                object \n",
            " 30  Q008                object \n",
            " 31  Q009                object \n",
            " 32  Q010                object \n",
            " 33  Q011                object \n",
            " 34  Q012                object \n",
            " 35  Q013                object \n",
            " 36  Q014                object \n",
            " 37  Q015                object \n",
            " 38  Q016                object \n",
            " 39  Q017                object \n",
            " 40  Q018                object \n",
            " 41  Q019                object \n",
            " 42  Q020                object \n",
            " 43  Q021                object \n",
            " 44  Q022                object \n",
            " 45  Q023                object \n",
            " 46  Q024                object \n",
            " 47  Q025                object \n",
            " 48  Sum_Target          int64  \n",
            " 49  Sum_Target_3        int64  \n",
            " 50  Sum_Target_2        int64  \n",
            "dtypes: float64(8), int64(14), object(29)\n",
            "memory usage: 1.3+ GB\n"
          ]
        }
      ]
    },
    {
      "cell_type": "code",
      "source": [
        "df_ft.head()"
      ],
      "metadata": {
        "colab": {
          "base_uri": "https://localhost:8080/",
          "height": 299
        },
        "id": "pd5hCXFqTTne",
        "outputId": "ed9350af-1847-4bd6-ed0f-88cc3a6e1c2c"
      },
      "execution_count": null,
      "outputs": [
        {
          "output_type": "execute_result",
          "data": {
            "text/plain": [
              "   NU_INSCRICAO  NU_ANO  TP_FAIXA_ETARIA TP_SEXO  TP_ESTADO_CIVIL  \\\n",
              "0  180007186625    2018                2       F                1   \n",
              "1  180007186627    2018                3       F                1   \n",
              "2  180007186628    2018                3       M                1   \n",
              "3  180007186629    2018                2       F                1   \n",
              "4  180007186631    2018               11       F                1   \n",
              "\n",
              "   TP_COR_RACA  TP_ST_CONCLUSAO  TP_ANO_CONCLUIU  TP_ESCOLA  TP_ENSINO  ...  \\\n",
              "0            4                2                0          3          1  ...   \n",
              "1            4                1                1          1          1  ...   \n",
              "2            0                2                0          2          1  ...   \n",
              "3            3                2                0          3          1  ...   \n",
              "4            5                1                6          1          1  ...   \n",
              "\n",
              "   Q019 Q020 Q021  Q022  Q023 Q024 Q025  Sum_Target  Sum_Target_3  \\\n",
              "0     C    B    B     D     B    C    B           2             1   \n",
              "1     B    A    A     B     A    A    A           1             0   \n",
              "2     B    B    A     D     A    A    A           2             1   \n",
              "3     C    A    B     D     B    A    B           5             2   \n",
              "4     B    B    A     C     A    B    A           2             1   \n",
              "\n",
              "   Sum_Target_2  \n",
              "0             0  \n",
              "1             0  \n",
              "2             0  \n",
              "3             1  \n",
              "4             0  \n",
              "\n",
              "[5 rows x 51 columns]"
            ],
            "text/html": [
              "\n",
              "  <div id=\"df-afb7d9f3-54e6-44ab-9a4e-00f9e4d4016c\">\n",
              "    <div class=\"colab-df-container\">\n",
              "      <div>\n",
              "<style scoped>\n",
              "    .dataframe tbody tr th:only-of-type {\n",
              "        vertical-align: middle;\n",
              "    }\n",
              "\n",
              "    .dataframe tbody tr th {\n",
              "        vertical-align: top;\n",
              "    }\n",
              "\n",
              "    .dataframe thead th {\n",
              "        text-align: right;\n",
              "    }\n",
              "</style>\n",
              "<table border=\"1\" class=\"dataframe\">\n",
              "  <thead>\n",
              "    <tr style=\"text-align: right;\">\n",
              "      <th></th>\n",
              "      <th>NU_INSCRICAO</th>\n",
              "      <th>NU_ANO</th>\n",
              "      <th>TP_FAIXA_ETARIA</th>\n",
              "      <th>TP_SEXO</th>\n",
              "      <th>TP_ESTADO_CIVIL</th>\n",
              "      <th>TP_COR_RACA</th>\n",
              "      <th>TP_ST_CONCLUSAO</th>\n",
              "      <th>TP_ANO_CONCLUIU</th>\n",
              "      <th>TP_ESCOLA</th>\n",
              "      <th>TP_ENSINO</th>\n",
              "      <th>...</th>\n",
              "      <th>Q019</th>\n",
              "      <th>Q020</th>\n",
              "      <th>Q021</th>\n",
              "      <th>Q022</th>\n",
              "      <th>Q023</th>\n",
              "      <th>Q024</th>\n",
              "      <th>Q025</th>\n",
              "      <th>Sum_Target</th>\n",
              "      <th>Sum_Target_3</th>\n",
              "      <th>Sum_Target_2</th>\n",
              "    </tr>\n",
              "  </thead>\n",
              "  <tbody>\n",
              "    <tr>\n",
              "      <th>0</th>\n",
              "      <td>180007186625</td>\n",
              "      <td>2018</td>\n",
              "      <td>2</td>\n",
              "      <td>F</td>\n",
              "      <td>1</td>\n",
              "      <td>4</td>\n",
              "      <td>2</td>\n",
              "      <td>0</td>\n",
              "      <td>3</td>\n",
              "      <td>1</td>\n",
              "      <td>...</td>\n",
              "      <td>C</td>\n",
              "      <td>B</td>\n",
              "      <td>B</td>\n",
              "      <td>D</td>\n",
              "      <td>B</td>\n",
              "      <td>C</td>\n",
              "      <td>B</td>\n",
              "      <td>2</td>\n",
              "      <td>1</td>\n",
              "      <td>0</td>\n",
              "    </tr>\n",
              "    <tr>\n",
              "      <th>1</th>\n",
              "      <td>180007186627</td>\n",
              "      <td>2018</td>\n",
              "      <td>3</td>\n",
              "      <td>F</td>\n",
              "      <td>1</td>\n",
              "      <td>4</td>\n",
              "      <td>1</td>\n",
              "      <td>1</td>\n",
              "      <td>1</td>\n",
              "      <td>1</td>\n",
              "      <td>...</td>\n",
              "      <td>B</td>\n",
              "      <td>A</td>\n",
              "      <td>A</td>\n",
              "      <td>B</td>\n",
              "      <td>A</td>\n",
              "      <td>A</td>\n",
              "      <td>A</td>\n",
              "      <td>1</td>\n",
              "      <td>0</td>\n",
              "      <td>0</td>\n",
              "    </tr>\n",
              "    <tr>\n",
              "      <th>2</th>\n",
              "      <td>180007186628</td>\n",
              "      <td>2018</td>\n",
              "      <td>3</td>\n",
              "      <td>M</td>\n",
              "      <td>1</td>\n",
              "      <td>0</td>\n",
              "      <td>2</td>\n",
              "      <td>0</td>\n",
              "      <td>2</td>\n",
              "      <td>1</td>\n",
              "      <td>...</td>\n",
              "      <td>B</td>\n",
              "      <td>B</td>\n",
              "      <td>A</td>\n",
              "      <td>D</td>\n",
              "      <td>A</td>\n",
              "      <td>A</td>\n",
              "      <td>A</td>\n",
              "      <td>2</td>\n",
              "      <td>1</td>\n",
              "      <td>0</td>\n",
              "    </tr>\n",
              "    <tr>\n",
              "      <th>3</th>\n",
              "      <td>180007186629</td>\n",
              "      <td>2018</td>\n",
              "      <td>2</td>\n",
              "      <td>F</td>\n",
              "      <td>1</td>\n",
              "      <td>3</td>\n",
              "      <td>2</td>\n",
              "      <td>0</td>\n",
              "      <td>3</td>\n",
              "      <td>1</td>\n",
              "      <td>...</td>\n",
              "      <td>C</td>\n",
              "      <td>A</td>\n",
              "      <td>B</td>\n",
              "      <td>D</td>\n",
              "      <td>B</td>\n",
              "      <td>A</td>\n",
              "      <td>B</td>\n",
              "      <td>5</td>\n",
              "      <td>2</td>\n",
              "      <td>1</td>\n",
              "    </tr>\n",
              "    <tr>\n",
              "      <th>4</th>\n",
              "      <td>180007186631</td>\n",
              "      <td>2018</td>\n",
              "      <td>11</td>\n",
              "      <td>F</td>\n",
              "      <td>1</td>\n",
              "      <td>5</td>\n",
              "      <td>1</td>\n",
              "      <td>6</td>\n",
              "      <td>1</td>\n",
              "      <td>1</td>\n",
              "      <td>...</td>\n",
              "      <td>B</td>\n",
              "      <td>B</td>\n",
              "      <td>A</td>\n",
              "      <td>C</td>\n",
              "      <td>A</td>\n",
              "      <td>B</td>\n",
              "      <td>A</td>\n",
              "      <td>2</td>\n",
              "      <td>1</td>\n",
              "      <td>0</td>\n",
              "    </tr>\n",
              "  </tbody>\n",
              "</table>\n",
              "<p>5 rows × 51 columns</p>\n",
              "</div>\n",
              "      <button class=\"colab-df-convert\" onclick=\"convertToInteractive('df-afb7d9f3-54e6-44ab-9a4e-00f9e4d4016c')\"\n",
              "              title=\"Convert this dataframe to an interactive table.\"\n",
              "              style=\"display:none;\">\n",
              "        \n",
              "  <svg xmlns=\"http://www.w3.org/2000/svg\" height=\"24px\"viewBox=\"0 0 24 24\"\n",
              "       width=\"24px\">\n",
              "    <path d=\"M0 0h24v24H0V0z\" fill=\"none\"/>\n",
              "    <path d=\"M18.56 5.44l.94 2.06.94-2.06 2.06-.94-2.06-.94-.94-2.06-.94 2.06-2.06.94zm-11 1L8.5 8.5l.94-2.06 2.06-.94-2.06-.94L8.5 2.5l-.94 2.06-2.06.94zm10 10l.94 2.06.94-2.06 2.06-.94-2.06-.94-.94-2.06-.94 2.06-2.06.94z\"/><path d=\"M17.41 7.96l-1.37-1.37c-.4-.4-.92-.59-1.43-.59-.52 0-1.04.2-1.43.59L10.3 9.45l-7.72 7.72c-.78.78-.78 2.05 0 2.83L4 21.41c.39.39.9.59 1.41.59.51 0 1.02-.2 1.41-.59l7.78-7.78 2.81-2.81c.8-.78.8-2.07 0-2.86zM5.41 20L4 18.59l7.72-7.72 1.47 1.35L5.41 20z\"/>\n",
              "  </svg>\n",
              "      </button>\n",
              "      \n",
              "  <style>\n",
              "    .colab-df-container {\n",
              "      display:flex;\n",
              "      flex-wrap:wrap;\n",
              "      gap: 12px;\n",
              "    }\n",
              "\n",
              "    .colab-df-convert {\n",
              "      background-color: #E8F0FE;\n",
              "      border: none;\n",
              "      border-radius: 50%;\n",
              "      cursor: pointer;\n",
              "      display: none;\n",
              "      fill: #1967D2;\n",
              "      height: 32px;\n",
              "      padding: 0 0 0 0;\n",
              "      width: 32px;\n",
              "    }\n",
              "\n",
              "    .colab-df-convert:hover {\n",
              "      background-color: #E2EBFA;\n",
              "      box-shadow: 0px 1px 2px rgba(60, 64, 67, 0.3), 0px 1px 3px 1px rgba(60, 64, 67, 0.15);\n",
              "      fill: #174EA6;\n",
              "    }\n",
              "\n",
              "    [theme=dark] .colab-df-convert {\n",
              "      background-color: #3B4455;\n",
              "      fill: #D2E3FC;\n",
              "    }\n",
              "\n",
              "    [theme=dark] .colab-df-convert:hover {\n",
              "      background-color: #434B5C;\n",
              "      box-shadow: 0px 1px 3px 1px rgba(0, 0, 0, 0.15);\n",
              "      filter: drop-shadow(0px 1px 2px rgba(0, 0, 0, 0.3));\n",
              "      fill: #FFFFFF;\n",
              "    }\n",
              "  </style>\n",
              "\n",
              "      <script>\n",
              "        const buttonEl =\n",
              "          document.querySelector('#df-afb7d9f3-54e6-44ab-9a4e-00f9e4d4016c button.colab-df-convert');\n",
              "        buttonEl.style.display =\n",
              "          google.colab.kernel.accessAllowed ? 'block' : 'none';\n",
              "\n",
              "        async function convertToInteractive(key) {\n",
              "          const element = document.querySelector('#df-afb7d9f3-54e6-44ab-9a4e-00f9e4d4016c');\n",
              "          const dataTable =\n",
              "            await google.colab.kernel.invokeFunction('convertToInteractive',\n",
              "                                                     [key], {});\n",
              "          if (!dataTable) return;\n",
              "\n",
              "          const docLinkHtml = 'Like what you see? Visit the ' +\n",
              "            '<a target=\"_blank\" href=https://colab.research.google.com/notebooks/data_table.ipynb>data table notebook</a>'\n",
              "            + ' to learn more about interactive tables.';\n",
              "          element.innerHTML = '';\n",
              "          dataTable['output_type'] = 'display_data';\n",
              "          await google.colab.output.renderOutput(dataTable, element);\n",
              "          const docLink = document.createElement('div');\n",
              "          docLink.innerHTML = docLinkHtml;\n",
              "          element.appendChild(docLink);\n",
              "        }\n",
              "      </script>\n",
              "    </div>\n",
              "  </div>\n",
              "  "
            ]
          },
          "metadata": {},
          "execution_count": 5
        }
      ]
    },
    {
      "cell_type": "code",
      "source": [
        "df_ft.columns"
      ],
      "metadata": {
        "colab": {
          "base_uri": "https://localhost:8080/"
        },
        "id": "xw2IVuTTdWVs",
        "outputId": "ea1bcfd3-23b6-41ec-8719-b67c02829710"
      },
      "execution_count": null,
      "outputs": [
        {
          "output_type": "execute_result",
          "data": {
            "text/plain": [
              "Index(['NU_INSCRICAO', 'NU_ANO', 'TP_FAIXA_ETARIA', 'TP_SEXO',\n",
              "       'TP_ESTADO_CIVIL', 'TP_COR_RACA', 'TP_ST_CONCLUSAO', 'TP_ANO_CONCLUIU',\n",
              "       'TP_ESCOLA', 'TP_ENSINO', 'CO_MUNICIPIO_ESC', 'NO_MUNICIPIO_ESC',\n",
              "       'SG_UF_ESC', 'TP_LOCALIZACAO_ESC', 'CO_MUNICIPIO_PROVA',\n",
              "       'NO_MUNICIPIO_PROVA', 'SG_UF_PROVA', 'NU_NOTA_CN', 'NU_NOTA_CH',\n",
              "       'NU_NOTA_LC', 'NU_NOTA_MT', 'TP_LINGUA', 'NU_NOTA_REDACAO', 'Q001',\n",
              "       'Q002', 'Q003', 'Q004', 'Q005', 'Q006', 'Q007', 'Q008', 'Q009', 'Q010',\n",
              "       'Q011', 'Q012', 'Q013', 'Q014', 'Q015', 'Q016', 'Q017', 'Q018', 'Q019',\n",
              "       'Q020', 'Q021', 'Q022', 'Q023', 'Q024', 'Q025', 'Sum_Target',\n",
              "       'Sum_Target_3', 'Sum_Target_2'],\n",
              "      dtype='object')"
            ]
          },
          "metadata": {},
          "execution_count": 6
        }
      ]
    },
    {
      "cell_type": "markdown",
      "source": [
        "# **Criação de Variáveis**"
      ],
      "metadata": {
        "id": "_22D8WOQD-UK"
      }
    },
    {
      "cell_type": "markdown",
      "source": [
        "- - Computador/Celular/Internet"
      ],
      "metadata": {
        "id": "hF2OcXNiEnG9"
      }
    },
    {
      "cell_type": "code",
      "source": [
        "df_ft['Ter_Cel'] = np.where(df_ft['Q022'] == 'A', 0, 1)\n",
        "df_ft['Ter_Com'] = np.where(df_ft['Q024'] == 'A', 0, 1)\n",
        "df_ft['Ter_Int'] = np.where(df_ft['Q025'] == 'A', 0, 1)\n",
        "df_ft['Sum_TIC3'] = df_ft['Ter_Cel'] + df_ft['Ter_Com'] + df_ft['Ter_Int']"
      ],
      "metadata": {
        "id": "IMHHFqA3EoYQ"
      },
      "execution_count": null,
      "outputs": []
    },
    {
      "cell_type": "code",
      "source": [
        "df_ft['Ter_Cel'].value_counts().sort_index()"
      ],
      "metadata": {
        "id": "K9CyX7QgE842",
        "colab": {
          "base_uri": "https://localhost:8080/"
        },
        "outputId": "bb99b0ed-1dc1-49d3-dc46-36ac35f6bf33"
      },
      "execution_count": null,
      "outputs": [
        {
          "output_type": "execute_result",
          "data": {
            "text/plain": [
              "0      66193\n",
              "1    3302911\n",
              "Name: Ter_Cel, dtype: int64"
            ]
          },
          "metadata": {},
          "execution_count": 8
        }
      ]
    },
    {
      "cell_type": "code",
      "source": [
        "df_ft['Ter_Com'].value_counts().sort_index()"
      ],
      "metadata": {
        "id": "WUGPuZ7BE9AT",
        "colab": {
          "base_uri": "https://localhost:8080/"
        },
        "outputId": "c60ea937-65ad-456c-acab-a10d462a0a06"
      },
      "execution_count": null,
      "outputs": [
        {
          "output_type": "execute_result",
          "data": {
            "text/plain": [
              "0    1386440\n",
              "1    1982664\n",
              "Name: Ter_Com, dtype: int64"
            ]
          },
          "metadata": {},
          "execution_count": 9
        }
      ]
    },
    {
      "cell_type": "code",
      "source": [
        "df_ft['Ter_Int'].value_counts().sort_index()"
      ],
      "metadata": {
        "id": "VR98ogHfE9G7",
        "colab": {
          "base_uri": "https://localhost:8080/"
        },
        "outputId": "6de0376f-d2f7-4723-bac5-d49c468040a3"
      },
      "execution_count": null,
      "outputs": [
        {
          "output_type": "execute_result",
          "data": {
            "text/plain": [
              "0     853333\n",
              "1    2515771\n",
              "Name: Ter_Int, dtype: int64"
            ]
          },
          "metadata": {},
          "execution_count": 10
        }
      ]
    },
    {
      "cell_type": "code",
      "source": [
        "df_ft['Sum_TIC3'].value_counts().sort_index()"
      ],
      "metadata": {
        "id": "GU7xoaMBE9N-",
        "colab": {
          "base_uri": "https://localhost:8080/"
        },
        "outputId": "789e2c5a-5836-43ae-a923-6aae276ebccf"
      },
      "execution_count": null,
      "outputs": [
        {
          "output_type": "execute_result",
          "data": {
            "text/plain": [
              "0      38012\n",
              "1     693490\n",
              "2     804950\n",
              "3    1832652\n",
              "Name: Sum_TIC3, dtype: int64"
            ]
          },
          "metadata": {},
          "execution_count": 11
        }
      ]
    },
    {
      "cell_type": "code",
      "source": [
        "df_ft.loc[df_ft.Sum_TIC3 == 0 ,'Sum_TIC3_']='1'\n",
        "df_ft.loc[df_ft.Sum_TIC3 == 1 ,'Sum_TIC3_']='1'\n",
        "df_ft.loc[df_ft.Sum_TIC3 == 2 ,'Sum_TIC3_']='2'\n",
        "df_ft.loc[df_ft.Sum_TIC3 == 3 ,'Sum_TIC3_']='3'"
      ],
      "metadata": {
        "id": "6hRztoEiyIRZ"
      },
      "execution_count": null,
      "outputs": []
    },
    {
      "cell_type": "markdown",
      "source": [
        "- Computador/Celular/Internet/TV/Tel Fixo"
      ],
      "metadata": {
        "id": "5bvj-jgxFDYU"
      }
    },
    {
      "cell_type": "code",
      "source": [
        "df_ft['Ter_TVa'] = np.where(df_ft['Q021'] == 'A', 0, 1)\n",
        "df_ft['Ter_TFi'] = np.where(df_ft['Q023'] == 'A', 0, 1)\n",
        "df_ft['Sum_TIC5'] = df_ft['Ter_Cel'] + df_ft['Ter_Com'] + df_ft['Ter_Int'] + df_ft['Ter_TVa'] + df_ft['Ter_TFi']\n"
      ],
      "metadata": {
        "id": "n0-HpcqXFZi1"
      },
      "execution_count": null,
      "outputs": []
    },
    {
      "cell_type": "code",
      "source": [
        "df_ft['Ter_TVa'].value_counts().sort_index()"
      ],
      "metadata": {
        "id": "_DVNmJRrFZq4",
        "colab": {
          "base_uri": "https://localhost:8080/"
        },
        "outputId": "e37819b1-9441-4c6e-da24-e5ce35511773"
      },
      "execution_count": null,
      "outputs": [
        {
          "output_type": "execute_result",
          "data": {
            "text/plain": [
              "0    2599380\n",
              "1     769724\n",
              "Name: Ter_TVa, dtype: int64"
            ]
          },
          "metadata": {},
          "execution_count": 14
        }
      ]
    },
    {
      "cell_type": "code",
      "source": [
        "df_ft['Ter_TFi'].value_counts().sort_index()"
      ],
      "metadata": {
        "id": "ASr-QJd-FZx9",
        "colab": {
          "base_uri": "https://localhost:8080/"
        },
        "outputId": "7785a7ad-1eec-4e60-8809-77d3bb13085f"
      },
      "execution_count": null,
      "outputs": [
        {
          "output_type": "execute_result",
          "data": {
            "text/plain": [
              "0    2389106\n",
              "1     979998\n",
              "Name: Ter_TFi, dtype: int64"
            ]
          },
          "metadata": {},
          "execution_count": 15
        }
      ]
    },
    {
      "cell_type": "code",
      "source": [
        "df_ft['Sum_TIC5'].value_counts().sort_index()"
      ],
      "metadata": {
        "id": "Dx0wHQCYFZ48",
        "colab": {
          "base_uri": "https://localhost:8080/"
        },
        "outputId": "2f94ce43-6102-426f-ace7-393590f69fca"
      },
      "execution_count": null,
      "outputs": [
        {
          "output_type": "execute_result",
          "data": {
            "text/plain": [
              "0     35406\n",
              "1    638711\n",
              "2    632955\n",
              "3    989389\n",
              "4    684935\n",
              "5    387708\n",
              "Name: Sum_TIC5, dtype: int64"
            ]
          },
          "metadata": {},
          "execution_count": 16
        }
      ]
    },
    {
      "cell_type": "code",
      "source": [
        "df_ft.loc[df_ft.Sum_TIC5 == 0 ,'Sum_TIC5_']='1'\n",
        "df_ft.loc[df_ft.Sum_TIC5 == 1 ,'Sum_TIC5_']='1'\n",
        "df_ft.loc[df_ft.Sum_TIC5 == 2 ,'Sum_TIC5_']='2'\n",
        "df_ft.loc[df_ft.Sum_TIC5 == 3 ,'Sum_TIC5_']='3'\n",
        "df_ft.loc[df_ft.Sum_TIC5 == 4 ,'Sum_TIC5_']='4'\n",
        "df_ft.loc[df_ft.Sum_TIC5 == 5 ,'Sum_TIC5_']='5'"
      ],
      "metadata": {
        "id": "hRBIqcIFylf_"
      },
      "execution_count": null,
      "outputs": []
    },
    {
      "cell_type": "markdown",
      "source": [
        "- Qtde de Eletrodomésticos"
      ],
      "metadata": {
        "id": "3Rf00n9PFkLz"
      }
    },
    {
      "cell_type": "code",
      "source": [
        "df_ft['Ter_Gel'] = np.where(df_ft['Q012'] == 'A', 0, 1)\n",
        "df_ft['Ter_Fre'] = np.where(df_ft['Q013'] == 'A', 0, 1)\n",
        "df_ft['Ter_LvR'] = np.where(df_ft['Q014'] == 'A', 0, 1)\n",
        "df_ft['Ter_ScR'] = np.where(df_ft['Q015'] == 'A', 0, 1)\n",
        "df_ft['Ter_Mio'] = np.where(df_ft['Q016'] == 'A', 0, 1)\n",
        "df_ft['Ter_LvL'] = np.where(df_ft['Q017'] == 'A', 0, 1)\n",
        "df_ft['Ter_Asp'] = np.where(df_ft['Q018'] == 'A', 0, 1)\n",
        "df_ft['Ter_TV'] = np.where(df_ft['Q019'] == 'A', 0, 1)\n",
        "df_ft['Ter_DVD'] = np.where(df_ft['Q020'] == 'A', 0, 1)\n",
        "df_ft['Sum_Elet'] = df_ft['Ter_Gel'] + df_ft['Ter_Fre'] + df_ft['Ter_LvR'] + df_ft['Ter_ScR'] + df_ft['Ter_Mio'] + df_ft['Ter_LvL'] + df_ft['Ter_Asp'] + df_ft['Ter_TV'] + df_ft['Ter_DVD']"
      ],
      "metadata": {
        "id": "DDQmxi3KFkaf"
      },
      "execution_count": null,
      "outputs": []
    },
    {
      "cell_type": "code",
      "source": [
        "df_ft['Ter_Gel'].value_counts().sort_index()"
      ],
      "metadata": {
        "id": "azQ6qenTFkhG",
        "colab": {
          "base_uri": "https://localhost:8080/"
        },
        "outputId": "4ddd07f7-31f1-4d7d-bd25-ba88fdfedae0"
      },
      "execution_count": null,
      "outputs": [
        {
          "output_type": "execute_result",
          "data": {
            "text/plain": [
              "0      56115\n",
              "1    3312989\n",
              "Name: Ter_Gel, dtype: int64"
            ]
          },
          "metadata": {},
          "execution_count": 19
        }
      ]
    },
    {
      "cell_type": "code",
      "source": [
        "df_ft['Ter_Fre'].value_counts().sort_index()"
      ],
      "metadata": {
        "id": "lqBg7QseFkny",
        "colab": {
          "base_uri": "https://localhost:8080/"
        },
        "outputId": "feb7886d-346d-4936-81df-42a37fe88942"
      },
      "execution_count": null,
      "outputs": [
        {
          "output_type": "execute_result",
          "data": {
            "text/plain": [
              "0    2205392\n",
              "1    1163712\n",
              "Name: Ter_Fre, dtype: int64"
            ]
          },
          "metadata": {},
          "execution_count": 20
        }
      ]
    },
    {
      "cell_type": "code",
      "source": [
        "df_ft['Ter_LvR'].value_counts().sort_index()"
      ],
      "metadata": {
        "id": "ls7WBX3tFku5",
        "colab": {
          "base_uri": "https://localhost:8080/"
        },
        "outputId": "2fbf5867-cf7c-4712-a4fb-2c846f238aa6"
      },
      "execution_count": null,
      "outputs": [
        {
          "output_type": "execute_result",
          "data": {
            "text/plain": [
              "0    1377318\n",
              "1    1991786\n",
              "Name: Ter_LvR, dtype: int64"
            ]
          },
          "metadata": {},
          "execution_count": 21
        }
      ]
    },
    {
      "cell_type": "code",
      "source": [
        "df_ft['Ter_ScR'].value_counts().sort_index()"
      ],
      "metadata": {
        "id": "VkV0O2DlGBRO",
        "colab": {
          "base_uri": "https://localhost:8080/"
        },
        "outputId": "a5b99250-3fcd-4870-8a97-ec888899732b"
      },
      "execution_count": null,
      "outputs": [
        {
          "output_type": "execute_result",
          "data": {
            "text/plain": [
              "0    3001499\n",
              "1     367605\n",
              "Name: Ter_ScR, dtype: int64"
            ]
          },
          "metadata": {},
          "execution_count": 22
        }
      ]
    },
    {
      "cell_type": "code",
      "source": [
        "df_ft['Ter_Mio'].value_counts().sort_index()"
      ],
      "metadata": {
        "id": "CLczRd4lGBUd",
        "colab": {
          "base_uri": "https://localhost:8080/"
        },
        "outputId": "bcc33c3b-addb-4eef-927a-6ea80fb09d02"
      },
      "execution_count": null,
      "outputs": [
        {
          "output_type": "execute_result",
          "data": {
            "text/plain": [
              "0    1669561\n",
              "1    1699543\n",
              "Name: Ter_Mio, dtype: int64"
            ]
          },
          "metadata": {},
          "execution_count": 23
        }
      ]
    },
    {
      "cell_type": "code",
      "source": [
        "df_ft['Ter_LvL'].value_counts().sort_index()"
      ],
      "metadata": {
        "id": "Sxj1NSDiGBYE",
        "colab": {
          "base_uri": "https://localhost:8080/"
        },
        "outputId": "4adde8ff-80d4-47f9-d790-d784dc7725be"
      },
      "execution_count": null,
      "outputs": [
        {
          "output_type": "execute_result",
          "data": {
            "text/plain": [
              "0    3292672\n",
              "1      76432\n",
              "Name: Ter_LvL, dtype: int64"
            ]
          },
          "metadata": {},
          "execution_count": 24
        }
      ]
    },
    {
      "cell_type": "code",
      "source": [
        "df_ft['Ter_Asp'].value_counts().sort_index()"
      ],
      "metadata": {
        "id": "QGtjNeeSGBba",
        "colab": {
          "base_uri": "https://localhost:8080/"
        },
        "outputId": "2fa4a0ca-9b88-49ef-a8ab-492b73386442"
      },
      "execution_count": null,
      "outputs": [
        {
          "output_type": "execute_result",
          "data": {
            "text/plain": [
              "0    2748773\n",
              "1     620331\n",
              "Name: Ter_Asp, dtype: int64"
            ]
          },
          "metadata": {},
          "execution_count": 25
        }
      ]
    },
    {
      "cell_type": "code",
      "source": [
        "df_ft['Ter_TV'].value_counts().sort_index()"
      ],
      "metadata": {
        "id": "g5dORvo7GBeV",
        "colab": {
          "base_uri": "https://localhost:8080/"
        },
        "outputId": "b8a4183c-6818-46fe-c384-19e6531c6002"
      },
      "execution_count": null,
      "outputs": [
        {
          "output_type": "execute_result",
          "data": {
            "text/plain": [
              "0     135163\n",
              "1    3233941\n",
              "Name: Ter_TV, dtype: int64"
            ]
          },
          "metadata": {},
          "execution_count": 26
        }
      ]
    },
    {
      "cell_type": "code",
      "source": [
        "df_ft['Ter_DVD'].value_counts().sort_index()"
      ],
      "metadata": {
        "id": "agxbobGGGBhr",
        "colab": {
          "base_uri": "https://localhost:8080/"
        },
        "outputId": "1994cbad-8f64-4a4a-8533-4b8e8fc9dd97"
      },
      "execution_count": null,
      "outputs": [
        {
          "output_type": "execute_result",
          "data": {
            "text/plain": [
              "0    2085930\n",
              "1    1283174\n",
              "Name: Ter_DVD, dtype: int64"
            ]
          },
          "metadata": {},
          "execution_count": 27
        }
      ]
    },
    {
      "cell_type": "code",
      "source": [
        "df_ft['Sum_Elet'].value_counts().sort_index()"
      ],
      "metadata": {
        "id": "OY7_2uZ7GDkv",
        "colab": {
          "base_uri": "https://localhost:8080/"
        },
        "outputId": "84f31bad-9a4d-4caf-b7d6-0550526abc29"
      },
      "execution_count": null,
      "outputs": [
        {
          "output_type": "execute_result",
          "data": {
            "text/plain": [
              "0     14119\n",
              "1     70341\n",
              "2    610036\n",
              "3    713543\n",
              "4    669467\n",
              "5    557971\n",
              "6    400911\n",
              "7    234811\n",
              "8     79540\n",
              "9     18365\n",
              "Name: Sum_Elet, dtype: int64"
            ]
          },
          "metadata": {},
          "execution_count": 28
        }
      ]
    },
    {
      "cell_type": "code",
      "source": [
        "df_ft.loc[df_ft.Sum_Elet == 0 ,'Sum_Elet_']='1'\n",
        "df_ft.loc[df_ft.Sum_Elet == 1 ,'Sum_Elet_']='1'\n",
        "df_ft.loc[df_ft.Sum_Elet == 2 ,'Sum_Elet_']='2'\n",
        "df_ft.loc[df_ft.Sum_Elet == 3 ,'Sum_Elet_']='3'\n",
        "df_ft.loc[df_ft.Sum_Elet == 4 ,'Sum_Elet_']='4'\n",
        "df_ft.loc[df_ft.Sum_Elet == 5 ,'Sum_Elet_']='5'\n",
        "df_ft.loc[df_ft.Sum_Elet == 6 ,'Sum_Elet_']='6'\n",
        "df_ft.loc[df_ft.Sum_Elet == 7 ,'Sum_Elet_']='7'\n",
        "df_ft.loc[df_ft.Sum_Elet == 8 ,'Sum_Elet_']='8'\n",
        "df_ft.loc[df_ft.Sum_Elet == 9 ,'Sum_Elet_']='8'"
      ],
      "metadata": {
        "id": "7CVcoKzJI_So"
      },
      "execution_count": null,
      "outputs": []
    },
    {
      "cell_type": "markdown",
      "source": [
        "- Escolaridade máxima de pelo menos um dos pais"
      ],
      "metadata": {
        "id": "eAKWkMioW51V"
      }
    },
    {
      "cell_type": "code",
      "source": [
        "df_ft['Q001_'] = np.where(df_ft['Q001'] == 'H', ' ', df_ft.Q001)\n",
        "df_ft['Q002_'] = np.where(df_ft['Q002'] == 'H', ' ', df_ft.Q002)\n",
        "\n",
        "conditionlist = [(df_ft['Q001_'] >= df_ft['Q002_']),\n",
        "                 (df_ft['Q001_'] < df_ft['Q002_'])]\n",
        "choicelist = [df_ft.Q001, df_ft.Q002]\n",
        "df_ft['Esc_Max'] = np.select(conditionlist, choicelist, default='Not Specified')\n",
        "display(df_ft.Esc_Max.value_counts().sort_index())"
      ],
      "metadata": {
        "colab": {
          "base_uri": "https://localhost:8080/",
          "height": 173
        },
        "id": "-JzwkkKVW_Rf",
        "outputId": "438a3f43-b677-43bd-a2ca-92c1d5633801"
      },
      "execution_count": null,
      "outputs": [
        {
          "output_type": "display_data",
          "data": {
            "text/plain": [
              "A      81142\n",
              "B     464344\n",
              "C     402546\n",
              "D     430751\n",
              "E    1207691\n",
              "F     406082\n",
              "G     306037\n",
              "H      70511\n",
              "Name: Esc_Max, dtype: int64"
            ]
          },
          "metadata": {}
        }
      ]
    },
    {
      "cell_type": "code",
      "source": [
        "df_valid = df_ft[['Q001','Q002','Q001_','Q002_','Esc_Max','NU_INSCRICAO']].loc[(df_ft['Q001'] == 'H') | (df_ft['Q002'] == 'H')].head(10)\n",
        "df_valid"
      ],
      "metadata": {
        "colab": {
          "base_uri": "https://localhost:8080/",
          "height": 363
        },
        "id": "6T1k0QhzW6Ng",
        "outputId": "cbdf1876-d94c-450c-ffd4-5b2498cf2da3"
      },
      "execution_count": null,
      "outputs": [
        {
          "output_type": "execute_result",
          "data": {
            "text/plain": [
              "    Q001 Q002 Q001_ Q002_ Esc_Max  NU_INSCRICAO\n",
              "38     H    H                   H  180007186679\n",
              "47     H    E           E       E  180007186689\n",
              "60     H    H                   H  180007186710\n",
              "64     H    H                   H  180007186716\n",
              "73     H    E           E       E  180007186732\n",
              "99     H    H                   H  180007186771\n",
              "100    H    E           E       E  180007186772\n",
              "112    H    A           A       A  180007186798\n",
              "124    H    B           B       B  180007186823\n",
              "161    H    C           C       C  180007186875"
            ],
            "text/html": [
              "\n",
              "  <div id=\"df-7472aa53-004c-4cc1-821b-748da6488f4c\">\n",
              "    <div class=\"colab-df-container\">\n",
              "      <div>\n",
              "<style scoped>\n",
              "    .dataframe tbody tr th:only-of-type {\n",
              "        vertical-align: middle;\n",
              "    }\n",
              "\n",
              "    .dataframe tbody tr th {\n",
              "        vertical-align: top;\n",
              "    }\n",
              "\n",
              "    .dataframe thead th {\n",
              "        text-align: right;\n",
              "    }\n",
              "</style>\n",
              "<table border=\"1\" class=\"dataframe\">\n",
              "  <thead>\n",
              "    <tr style=\"text-align: right;\">\n",
              "      <th></th>\n",
              "      <th>Q001</th>\n",
              "      <th>Q002</th>\n",
              "      <th>Q001_</th>\n",
              "      <th>Q002_</th>\n",
              "      <th>Esc_Max</th>\n",
              "      <th>NU_INSCRICAO</th>\n",
              "    </tr>\n",
              "  </thead>\n",
              "  <tbody>\n",
              "    <tr>\n",
              "      <th>38</th>\n",
              "      <td>H</td>\n",
              "      <td>H</td>\n",
              "      <td></td>\n",
              "      <td></td>\n",
              "      <td>H</td>\n",
              "      <td>180007186679</td>\n",
              "    </tr>\n",
              "    <tr>\n",
              "      <th>47</th>\n",
              "      <td>H</td>\n",
              "      <td>E</td>\n",
              "      <td></td>\n",
              "      <td>E</td>\n",
              "      <td>E</td>\n",
              "      <td>180007186689</td>\n",
              "    </tr>\n",
              "    <tr>\n",
              "      <th>60</th>\n",
              "      <td>H</td>\n",
              "      <td>H</td>\n",
              "      <td></td>\n",
              "      <td></td>\n",
              "      <td>H</td>\n",
              "      <td>180007186710</td>\n",
              "    </tr>\n",
              "    <tr>\n",
              "      <th>64</th>\n",
              "      <td>H</td>\n",
              "      <td>H</td>\n",
              "      <td></td>\n",
              "      <td></td>\n",
              "      <td>H</td>\n",
              "      <td>180007186716</td>\n",
              "    </tr>\n",
              "    <tr>\n",
              "      <th>73</th>\n",
              "      <td>H</td>\n",
              "      <td>E</td>\n",
              "      <td></td>\n",
              "      <td>E</td>\n",
              "      <td>E</td>\n",
              "      <td>180007186732</td>\n",
              "    </tr>\n",
              "    <tr>\n",
              "      <th>99</th>\n",
              "      <td>H</td>\n",
              "      <td>H</td>\n",
              "      <td></td>\n",
              "      <td></td>\n",
              "      <td>H</td>\n",
              "      <td>180007186771</td>\n",
              "    </tr>\n",
              "    <tr>\n",
              "      <th>100</th>\n",
              "      <td>H</td>\n",
              "      <td>E</td>\n",
              "      <td></td>\n",
              "      <td>E</td>\n",
              "      <td>E</td>\n",
              "      <td>180007186772</td>\n",
              "    </tr>\n",
              "    <tr>\n",
              "      <th>112</th>\n",
              "      <td>H</td>\n",
              "      <td>A</td>\n",
              "      <td></td>\n",
              "      <td>A</td>\n",
              "      <td>A</td>\n",
              "      <td>180007186798</td>\n",
              "    </tr>\n",
              "    <tr>\n",
              "      <th>124</th>\n",
              "      <td>H</td>\n",
              "      <td>B</td>\n",
              "      <td></td>\n",
              "      <td>B</td>\n",
              "      <td>B</td>\n",
              "      <td>180007186823</td>\n",
              "    </tr>\n",
              "    <tr>\n",
              "      <th>161</th>\n",
              "      <td>H</td>\n",
              "      <td>C</td>\n",
              "      <td></td>\n",
              "      <td>C</td>\n",
              "      <td>C</td>\n",
              "      <td>180007186875</td>\n",
              "    </tr>\n",
              "  </tbody>\n",
              "</table>\n",
              "</div>\n",
              "      <button class=\"colab-df-convert\" onclick=\"convertToInteractive('df-7472aa53-004c-4cc1-821b-748da6488f4c')\"\n",
              "              title=\"Convert this dataframe to an interactive table.\"\n",
              "              style=\"display:none;\">\n",
              "        \n",
              "  <svg xmlns=\"http://www.w3.org/2000/svg\" height=\"24px\"viewBox=\"0 0 24 24\"\n",
              "       width=\"24px\">\n",
              "    <path d=\"M0 0h24v24H0V0z\" fill=\"none\"/>\n",
              "    <path d=\"M18.56 5.44l.94 2.06.94-2.06 2.06-.94-2.06-.94-.94-2.06-.94 2.06-2.06.94zm-11 1L8.5 8.5l.94-2.06 2.06-.94-2.06-.94L8.5 2.5l-.94 2.06-2.06.94zm10 10l.94 2.06.94-2.06 2.06-.94-2.06-.94-.94-2.06-.94 2.06-2.06.94z\"/><path d=\"M17.41 7.96l-1.37-1.37c-.4-.4-.92-.59-1.43-.59-.52 0-1.04.2-1.43.59L10.3 9.45l-7.72 7.72c-.78.78-.78 2.05 0 2.83L4 21.41c.39.39.9.59 1.41.59.51 0 1.02-.2 1.41-.59l7.78-7.78 2.81-2.81c.8-.78.8-2.07 0-2.86zM5.41 20L4 18.59l7.72-7.72 1.47 1.35L5.41 20z\"/>\n",
              "  </svg>\n",
              "      </button>\n",
              "      \n",
              "  <style>\n",
              "    .colab-df-container {\n",
              "      display:flex;\n",
              "      flex-wrap:wrap;\n",
              "      gap: 12px;\n",
              "    }\n",
              "\n",
              "    .colab-df-convert {\n",
              "      background-color: #E8F0FE;\n",
              "      border: none;\n",
              "      border-radius: 50%;\n",
              "      cursor: pointer;\n",
              "      display: none;\n",
              "      fill: #1967D2;\n",
              "      height: 32px;\n",
              "      padding: 0 0 0 0;\n",
              "      width: 32px;\n",
              "    }\n",
              "\n",
              "    .colab-df-convert:hover {\n",
              "      background-color: #E2EBFA;\n",
              "      box-shadow: 0px 1px 2px rgba(60, 64, 67, 0.3), 0px 1px 3px 1px rgba(60, 64, 67, 0.15);\n",
              "      fill: #174EA6;\n",
              "    }\n",
              "\n",
              "    [theme=dark] .colab-df-convert {\n",
              "      background-color: #3B4455;\n",
              "      fill: #D2E3FC;\n",
              "    }\n",
              "\n",
              "    [theme=dark] .colab-df-convert:hover {\n",
              "      background-color: #434B5C;\n",
              "      box-shadow: 0px 1px 3px 1px rgba(0, 0, 0, 0.15);\n",
              "      filter: drop-shadow(0px 1px 2px rgba(0, 0, 0, 0.3));\n",
              "      fill: #FFFFFF;\n",
              "    }\n",
              "  </style>\n",
              "\n",
              "      <script>\n",
              "        const buttonEl =\n",
              "          document.querySelector('#df-7472aa53-004c-4cc1-821b-748da6488f4c button.colab-df-convert');\n",
              "        buttonEl.style.display =\n",
              "          google.colab.kernel.accessAllowed ? 'block' : 'none';\n",
              "\n",
              "        async function convertToInteractive(key) {\n",
              "          const element = document.querySelector('#df-7472aa53-004c-4cc1-821b-748da6488f4c');\n",
              "          const dataTable =\n",
              "            await google.colab.kernel.invokeFunction('convertToInteractive',\n",
              "                                                     [key], {});\n",
              "          if (!dataTable) return;\n",
              "\n",
              "          const docLinkHtml = 'Like what you see? Visit the ' +\n",
              "            '<a target=\"_blank\" href=https://colab.research.google.com/notebooks/data_table.ipynb>data table notebook</a>'\n",
              "            + ' to learn more about interactive tables.';\n",
              "          element.innerHTML = '';\n",
              "          dataTable['output_type'] = 'display_data';\n",
              "          await google.colab.output.renderOutput(dataTable, element);\n",
              "          const docLink = document.createElement('div');\n",
              "          docLink.innerHTML = docLinkHtml;\n",
              "          element.appendChild(docLink);\n",
              "        }\n",
              "      </script>\n",
              "    </div>\n",
              "  </div>\n",
              "  "
            ]
          },
          "metadata": {},
          "execution_count": 31
        }
      ]
    },
    {
      "cell_type": "markdown",
      "source": [
        "- Carro e Moto"
      ],
      "metadata": {
        "id": "8yRVXiwLXD5B"
      }
    },
    {
      "cell_type": "code",
      "source": [
        "df_ft['Q010_'] = np.where((df_ft['Q010'] == 'D') | (df_ft['Q010'] == 'E'), 'C', df_ft.Q010)\n",
        "df_ft['Q011_'] = np.where((df_ft['Q011'] == 'D') | (df_ft['Q011'] == 'E'), 'C', df_ft.Q011)\n",
        "\n",
        "conditionlist = [(df_ft['Q010_'] == 'A') & (df_ft['Q011_'] == 'A'), # 0 carro e 0 moto\n",
        "                 (df_ft['Q010_'] == 'A') & (df_ft['Q011_'] == 'B'), # 0 carro e 1 moto\n",
        "                 (df_ft['Q010_'] == 'A') & (df_ft['Q011_'] == 'C'), # 0 carro e >1 moto\n",
        "                 (df_ft['Q010_'] == 'B') & (df_ft['Q011_'] == 'A'), # 1 carro e 0 moto\n",
        "                 (df_ft['Q010_'] == 'B') & (df_ft['Q011_'] == 'B'), # 1 carro e 1 moto\n",
        "                 (df_ft['Q010_'] == 'B') & (df_ft['Q011_'] == 'C'), # 1 carro e >1 moto\n",
        "                 (df_ft['Q010_'] == 'C') & (df_ft['Q011_'] == 'A'), # >1 carro e 0 moto\n",
        "                 (df_ft['Q010_'] == 'C') & (df_ft['Q011_'] == 'B'), # >1 carro e 1 moto\n",
        "                 (df_ft['Q010_'] == 'C') & (df_ft['Q011_'] == 'C')] # >1 carro e >1 moto\n",
        "choicelist = [1,2,3,4,5,6,7,8,9]\n",
        "df_ft['Car_Mot'] = np.select(conditionlist, choicelist, default='Not Specified')\n",
        "df_ft.Car_Mot.value_counts().sort_index()"
      ],
      "metadata": {
        "colab": {
          "base_uri": "https://localhost:8080/"
        },
        "id": "8kFUgpbwXGT-",
        "outputId": "e2cd59a8-1bf9-4bd1-a784-796d60aada5d"
      },
      "execution_count": null,
      "outputs": [
        {
          "output_type": "execute_result",
          "data": {
            "text/plain": [
              "1    1523729\n",
              "2     368001\n",
              "3      29996\n",
              "4     896548\n",
              "5     255697\n",
              "6      28674\n",
              "7     208678\n",
              "8      46458\n",
              "9      11323\n",
              "Name: Car_Mot, dtype: int64"
            ]
          },
          "metadata": {},
          "execution_count": 32
        }
      ]
    },
    {
      "cell_type": "code",
      "source": [
        "df_ft.loc[df_ft.Car_Mot == '1','Car_Mot_']='1'\n",
        "df_ft.loc[df_ft.Car_Mot == '2','Car_Mot_']='2'\n",
        "df_ft.loc[df_ft.Car_Mot == '3','Car_Mot_']='2'\n",
        "df_ft.loc[df_ft.Car_Mot == '4','Car_Mot_']='3'\n",
        "df_ft.loc[df_ft.Car_Mot == '5','Car_Mot_']='4'\n",
        "df_ft.loc[df_ft.Car_Mot == '6','Car_Mot_']='4'\n",
        "df_ft.loc[df_ft.Car_Mot == '7','Car_Mot_']='5'\n",
        "df_ft.loc[df_ft.Car_Mot == '8','Car_Mot_']='6'\n",
        "df_ft.loc[df_ft.Car_Mot == '9','Car_Mot_']='6'\n",
        "df_ft.Car_Mot_.value_counts().sort_index()"
      ],
      "metadata": {
        "id": "DZcwg5lsKNG9",
        "colab": {
          "base_uri": "https://localhost:8080/"
        },
        "outputId": "b704c7d0-b0ff-4223-b871-b8671b7b6299"
      },
      "execution_count": null,
      "outputs": [
        {
          "output_type": "execute_result",
          "data": {
            "text/plain": [
              "1    1523729\n",
              "2     397997\n",
              "3     896548\n",
              "4     284371\n",
              "5     208678\n",
              "6      57781\n",
              "Name: Car_Mot_, dtype: int64"
            ]
          },
          "metadata": {},
          "execution_count": 33
        }
      ]
    },
    {
      "cell_type": "code",
      "source": [
        "df_valid = df_ft[['Q010','Q011','Q010_','Q011_','Car_Mot','Car_Mot_','NU_INSCRICAO']].loc[(df_ft['Q010'] == 'E')].head(10)\n",
        "df_valid"
      ],
      "metadata": {
        "colab": {
          "base_uri": "https://localhost:8080/",
          "height": 363
        },
        "id": "NCyd3VjS1wSt",
        "outputId": "c8a23f21-28dd-4d39-95e1-f70089cd6356"
      },
      "execution_count": null,
      "outputs": [
        {
          "output_type": "execute_result",
          "data": {
            "text/plain": [
              "     Q010 Q011 Q010_ Q011_ Car_Mot Car_Mot_  NU_INSCRICAO\n",
              "722     E    A     C     A       7        5  180007187825\n",
              "769     E    A     C     A       7        5  180007187897\n",
              "915     E    A     C     A       7        5  180007188126\n",
              "2320    E    A     C     A       7        5  180007190433\n",
              "3879    E    A     C     A       7        5  180007193027\n",
              "5709    E    A     C     A       7        5  180007196024\n",
              "5954    E    A     C     A       7        5  180007196427\n",
              "6735    E    A     C     A       7        5  180007197721\n",
              "7199    E    B     C     B       8        6  180007198449\n",
              "9224    E    B     C     B       8        6  180007201813"
            ],
            "text/html": [
              "\n",
              "  <div id=\"df-2958ad4a-afdf-4557-abd7-da47cee1d90c\">\n",
              "    <div class=\"colab-df-container\">\n",
              "      <div>\n",
              "<style scoped>\n",
              "    .dataframe tbody tr th:only-of-type {\n",
              "        vertical-align: middle;\n",
              "    }\n",
              "\n",
              "    .dataframe tbody tr th {\n",
              "        vertical-align: top;\n",
              "    }\n",
              "\n",
              "    .dataframe thead th {\n",
              "        text-align: right;\n",
              "    }\n",
              "</style>\n",
              "<table border=\"1\" class=\"dataframe\">\n",
              "  <thead>\n",
              "    <tr style=\"text-align: right;\">\n",
              "      <th></th>\n",
              "      <th>Q010</th>\n",
              "      <th>Q011</th>\n",
              "      <th>Q010_</th>\n",
              "      <th>Q011_</th>\n",
              "      <th>Car_Mot</th>\n",
              "      <th>Car_Mot_</th>\n",
              "      <th>NU_INSCRICAO</th>\n",
              "    </tr>\n",
              "  </thead>\n",
              "  <tbody>\n",
              "    <tr>\n",
              "      <th>722</th>\n",
              "      <td>E</td>\n",
              "      <td>A</td>\n",
              "      <td>C</td>\n",
              "      <td>A</td>\n",
              "      <td>7</td>\n",
              "      <td>5</td>\n",
              "      <td>180007187825</td>\n",
              "    </tr>\n",
              "    <tr>\n",
              "      <th>769</th>\n",
              "      <td>E</td>\n",
              "      <td>A</td>\n",
              "      <td>C</td>\n",
              "      <td>A</td>\n",
              "      <td>7</td>\n",
              "      <td>5</td>\n",
              "      <td>180007187897</td>\n",
              "    </tr>\n",
              "    <tr>\n",
              "      <th>915</th>\n",
              "      <td>E</td>\n",
              "      <td>A</td>\n",
              "      <td>C</td>\n",
              "      <td>A</td>\n",
              "      <td>7</td>\n",
              "      <td>5</td>\n",
              "      <td>180007188126</td>\n",
              "    </tr>\n",
              "    <tr>\n",
              "      <th>2320</th>\n",
              "      <td>E</td>\n",
              "      <td>A</td>\n",
              "      <td>C</td>\n",
              "      <td>A</td>\n",
              "      <td>7</td>\n",
              "      <td>5</td>\n",
              "      <td>180007190433</td>\n",
              "    </tr>\n",
              "    <tr>\n",
              "      <th>3879</th>\n",
              "      <td>E</td>\n",
              "      <td>A</td>\n",
              "      <td>C</td>\n",
              "      <td>A</td>\n",
              "      <td>7</td>\n",
              "      <td>5</td>\n",
              "      <td>180007193027</td>\n",
              "    </tr>\n",
              "    <tr>\n",
              "      <th>5709</th>\n",
              "      <td>E</td>\n",
              "      <td>A</td>\n",
              "      <td>C</td>\n",
              "      <td>A</td>\n",
              "      <td>7</td>\n",
              "      <td>5</td>\n",
              "      <td>180007196024</td>\n",
              "    </tr>\n",
              "    <tr>\n",
              "      <th>5954</th>\n",
              "      <td>E</td>\n",
              "      <td>A</td>\n",
              "      <td>C</td>\n",
              "      <td>A</td>\n",
              "      <td>7</td>\n",
              "      <td>5</td>\n",
              "      <td>180007196427</td>\n",
              "    </tr>\n",
              "    <tr>\n",
              "      <th>6735</th>\n",
              "      <td>E</td>\n",
              "      <td>A</td>\n",
              "      <td>C</td>\n",
              "      <td>A</td>\n",
              "      <td>7</td>\n",
              "      <td>5</td>\n",
              "      <td>180007197721</td>\n",
              "    </tr>\n",
              "    <tr>\n",
              "      <th>7199</th>\n",
              "      <td>E</td>\n",
              "      <td>B</td>\n",
              "      <td>C</td>\n",
              "      <td>B</td>\n",
              "      <td>8</td>\n",
              "      <td>6</td>\n",
              "      <td>180007198449</td>\n",
              "    </tr>\n",
              "    <tr>\n",
              "      <th>9224</th>\n",
              "      <td>E</td>\n",
              "      <td>B</td>\n",
              "      <td>C</td>\n",
              "      <td>B</td>\n",
              "      <td>8</td>\n",
              "      <td>6</td>\n",
              "      <td>180007201813</td>\n",
              "    </tr>\n",
              "  </tbody>\n",
              "</table>\n",
              "</div>\n",
              "      <button class=\"colab-df-convert\" onclick=\"convertToInteractive('df-2958ad4a-afdf-4557-abd7-da47cee1d90c')\"\n",
              "              title=\"Convert this dataframe to an interactive table.\"\n",
              "              style=\"display:none;\">\n",
              "        \n",
              "  <svg xmlns=\"http://www.w3.org/2000/svg\" height=\"24px\"viewBox=\"0 0 24 24\"\n",
              "       width=\"24px\">\n",
              "    <path d=\"M0 0h24v24H0V0z\" fill=\"none\"/>\n",
              "    <path d=\"M18.56 5.44l.94 2.06.94-2.06 2.06-.94-2.06-.94-.94-2.06-.94 2.06-2.06.94zm-11 1L8.5 8.5l.94-2.06 2.06-.94-2.06-.94L8.5 2.5l-.94 2.06-2.06.94zm10 10l.94 2.06.94-2.06 2.06-.94-2.06-.94-.94-2.06-.94 2.06-2.06.94z\"/><path d=\"M17.41 7.96l-1.37-1.37c-.4-.4-.92-.59-1.43-.59-.52 0-1.04.2-1.43.59L10.3 9.45l-7.72 7.72c-.78.78-.78 2.05 0 2.83L4 21.41c.39.39.9.59 1.41.59.51 0 1.02-.2 1.41-.59l7.78-7.78 2.81-2.81c.8-.78.8-2.07 0-2.86zM5.41 20L4 18.59l7.72-7.72 1.47 1.35L5.41 20z\"/>\n",
              "  </svg>\n",
              "      </button>\n",
              "      \n",
              "  <style>\n",
              "    .colab-df-container {\n",
              "      display:flex;\n",
              "      flex-wrap:wrap;\n",
              "      gap: 12px;\n",
              "    }\n",
              "\n",
              "    .colab-df-convert {\n",
              "      background-color: #E8F0FE;\n",
              "      border: none;\n",
              "      border-radius: 50%;\n",
              "      cursor: pointer;\n",
              "      display: none;\n",
              "      fill: #1967D2;\n",
              "      height: 32px;\n",
              "      padding: 0 0 0 0;\n",
              "      width: 32px;\n",
              "    }\n",
              "\n",
              "    .colab-df-convert:hover {\n",
              "      background-color: #E2EBFA;\n",
              "      box-shadow: 0px 1px 2px rgba(60, 64, 67, 0.3), 0px 1px 3px 1px rgba(60, 64, 67, 0.15);\n",
              "      fill: #174EA6;\n",
              "    }\n",
              "\n",
              "    [theme=dark] .colab-df-convert {\n",
              "      background-color: #3B4455;\n",
              "      fill: #D2E3FC;\n",
              "    }\n",
              "\n",
              "    [theme=dark] .colab-df-convert:hover {\n",
              "      background-color: #434B5C;\n",
              "      box-shadow: 0px 1px 3px 1px rgba(0, 0, 0, 0.15);\n",
              "      filter: drop-shadow(0px 1px 2px rgba(0, 0, 0, 0.3));\n",
              "      fill: #FFFFFF;\n",
              "    }\n",
              "  </style>\n",
              "\n",
              "      <script>\n",
              "        const buttonEl =\n",
              "          document.querySelector('#df-2958ad4a-afdf-4557-abd7-da47cee1d90c button.colab-df-convert');\n",
              "        buttonEl.style.display =\n",
              "          google.colab.kernel.accessAllowed ? 'block' : 'none';\n",
              "\n",
              "        async function convertToInteractive(key) {\n",
              "          const element = document.querySelector('#df-2958ad4a-afdf-4557-abd7-da47cee1d90c');\n",
              "          const dataTable =\n",
              "            await google.colab.kernel.invokeFunction('convertToInteractive',\n",
              "                                                     [key], {});\n",
              "          if (!dataTable) return;\n",
              "\n",
              "          const docLinkHtml = 'Like what you see? Visit the ' +\n",
              "            '<a target=\"_blank\" href=https://colab.research.google.com/notebooks/data_table.ipynb>data table notebook</a>'\n",
              "            + ' to learn more about interactive tables.';\n",
              "          element.innerHTML = '';\n",
              "          dataTable['output_type'] = 'display_data';\n",
              "          await google.colab.output.renderOutput(dataTable, element);\n",
              "          const docLink = document.createElement('div');\n",
              "          docLink.innerHTML = docLinkHtml;\n",
              "          element.appendChild(docLink);\n",
              "        }\n",
              "      </script>\n",
              "    </div>\n",
              "  </div>\n",
              "  "
            ]
          },
          "metadata": {},
          "execution_count": 34
        }
      ]
    },
    {
      "cell_type": "markdown",
      "source": [
        "- Porte da Casa"
      ],
      "metadata": {
        "id": "yqeMz0gyXGyy"
      }
    },
    {
      "cell_type": "code",
      "source": [
        "# Q007\n",
        "df_ft['Q007_'] = df_ft['Q007']\n",
        "conditionlist = [(df_ft['Q007_'] == 'A'),\n",
        "                 (df_ft['Q007_'] == 'B'),\n",
        "                 (df_ft['Q007_'] == 'C'),\n",
        "                 (df_ft['Q007_'] == 'D')]\n",
        "choicelist = [0,1,2,2]\n",
        "df_ft['Q007_f2'] = np.select(conditionlist, choicelist, default='Not Specified')\n",
        "df_ft['Q007_f'] = pd.to_numeric(np.select(conditionlist, choicelist, default='Not Specified'), errors = 'coerce')\n",
        "\n",
        "\n",
        "# Q008\n",
        "df_ft['Q008_'] = df_ft['Q008']\n",
        "conditionlist = [(df_ft['Q008_'] == 'A'),\n",
        "                 (df_ft['Q008_'] == 'B'),\n",
        "                 (df_ft['Q008_'] == 'C'),\n",
        "                 (df_ft['Q008_'] == 'D'),\n",
        "                 (df_ft['Q008_'] == 'E')]\n",
        "choicelist = [0,1,2,3,3]\n",
        "df_ft['Q008_f2'] = np.select(conditionlist, choicelist, default='Not Specified')\n",
        "df_ft['Q008_f'] = pd.to_numeric(np.select(conditionlist, choicelist, default='Not Specified'), errors = 'coerce')\n",
        "\n",
        "\n",
        "# Q009\n",
        "df_ft['Q009_'] = df_ft['Q009']\n",
        "conditionlist = [(df_ft['Q009_'] == 'A'),\n",
        "                 (df_ft['Q009_'] == 'B'),\n",
        "                 (df_ft['Q009_'] == 'C'),\n",
        "                 (df_ft['Q009_'] == 'D'),\n",
        "                 (df_ft['Q009_'] == 'E')]\n",
        "choicelist = [0,1,2,3,3]\n",
        "df_ft['Q009_f2'] = np.select(conditionlist, choicelist, default='Not Specified')\n",
        "df_ft['Q009_f'] = pd.to_numeric(np.select(conditionlist, choicelist, default='Not Specified'), errors = 'coerce')\n",
        "\n",
        "\n",
        "# Soma\n",
        "df_ft['Tot_PtCasa_2'] = df_ft['Q007_f2'] + df_ft['Q008_f2'] + df_ft['Q009_f2']\n",
        "df_ft['Tot_PtCasa'] = df_ft['Q007_f'] + df_ft['Q008_f'] + df_ft['Q009_f']\n"
      ],
      "metadata": {
        "id": "cwhf75IGeLy6"
      },
      "execution_count": null,
      "outputs": []
    },
    {
      "cell_type": "code",
      "source": [
        "df_ft.Q007_f.value_counts().sort_index()"
      ],
      "metadata": {
        "colab": {
          "base_uri": "https://localhost:8080/"
        },
        "id": "nV3Q91PYf4ve",
        "outputId": "d4ee2b4f-6d3d-4d44-9c6d-c90e3fc3fa6d"
      },
      "execution_count": null,
      "outputs": [
        {
          "output_type": "execute_result",
          "data": {
            "text/plain": [
              "0    3161804\n",
              "1     115479\n",
              "2      91821\n",
              "Name: Q007_f, dtype: int64"
            ]
          },
          "metadata": {},
          "execution_count": 36
        }
      ]
    },
    {
      "cell_type": "code",
      "source": [
        "df_ft.Q008_f.value_counts().sort_index()"
      ],
      "metadata": {
        "colab": {
          "base_uri": "https://localhost:8080/"
        },
        "id": "nBeuRXPxgxmT",
        "outputId": "104025db-d19e-4231-d0e2-6b702dfbdd15"
      },
      "execution_count": null,
      "outputs": [
        {
          "output_type": "execute_result",
          "data": {
            "text/plain": [
              "0      33193\n",
              "1    2409100\n",
              "2     685420\n",
              "3     241391\n",
              "Name: Q008_f, dtype: int64"
            ]
          },
          "metadata": {},
          "execution_count": 37
        }
      ]
    },
    {
      "cell_type": "code",
      "source": [
        "df_ft.Q009_f.value_counts().sort_index()"
      ],
      "metadata": {
        "colab": {
          "base_uri": "https://localhost:8080/"
        },
        "id": "ZH0AShktgxv0",
        "outputId": "b5b68868-69c3-4cf7-f8f2-113dfda39b78"
      },
      "execution_count": null,
      "outputs": [
        {
          "output_type": "execute_result",
          "data": {
            "text/plain": [
              "0      27756\n",
              "1     454207\n",
              "2    1714615\n",
              "3    1172526\n",
              "Name: Q009_f, dtype: int64"
            ]
          },
          "metadata": {},
          "execution_count": 38
        }
      ]
    },
    {
      "cell_type": "code",
      "source": [
        "df_ft.Tot_PtCasa_2.value_counts().sort_index()"
      ],
      "metadata": {
        "colab": {
          "base_uri": "https://localhost:8080/"
        },
        "id": "lEM_5MezlwTy",
        "outputId": "a505fef5-9f3d-424b-b971-bf0d9b382c27"
      },
      "execution_count": null,
      "outputs": [
        {
          "output_type": "execute_result",
          "data": {
            "text/plain": [
              "000       5466\n",
              "001       9495\n",
              "002      12800\n",
              "003       4643\n",
              "010      20893\n",
              "011     424783\n",
              "012    1399530\n",
              "013     507847\n",
              "020        419\n",
              "021       7397\n",
              "022     234761\n",
              "023     388147\n",
              "030         84\n",
              "031        383\n",
              "032      15757\n",
              "033     129399\n",
              "100         96\n",
              "101        191\n",
              "102        138\n",
              "103         70\n",
              "110        443\n",
              "111       7056\n",
              "112      18461\n",
              "113       7187\n",
              "120         25\n",
              "121        267\n",
              "122      10568\n",
              "123      24805\n",
              "130         21\n",
              "131         50\n",
              "132       3215\n",
              "133      42886\n",
              "200         38\n",
              "201         92\n",
              "202         95\n",
              "203         69\n",
              "210        229\n",
              "211       4316\n",
              "212      13007\n",
              "213       5348\n",
              "220         14\n",
              "221        126\n",
              "222       4497\n",
              "223      14394\n",
              "230         28\n",
              "231         51\n",
              "232       1786\n",
              "233      47731\n",
              "Name: Tot_PtCasa_2, dtype: int64"
            ]
          },
          "metadata": {},
          "execution_count": 39
        }
      ]
    },
    {
      "cell_type": "code",
      "source": [
        "df_ft.Tot_PtCasa.value_counts().sort_index()"
      ],
      "metadata": {
        "colab": {
          "base_uri": "https://localhost:8080/"
        },
        "id": "6qzNZf19hAc1",
        "outputId": "d96c0101-5341-4f7a-b447-3e008918a78b"
      },
      "execution_count": null,
      "outputs": [
        {
          "output_type": "execute_result",
          "data": {
            "text/plain": [
              "0       5466\n",
              "1      30484\n",
              "2     438674\n",
              "3    1419194\n",
              "4     766235\n",
              "5     434939\n",
              "6     167315\n",
              "7      59066\n",
              "8      47731\n",
              "Name: Tot_PtCasa, dtype: int64"
            ]
          },
          "metadata": {},
          "execution_count": 40
        }
      ]
    },
    {
      "cell_type": "code",
      "source": [
        "df_valid = df_ft[['Q007','Q008','Q009','Q007_f','Q008_f','Q009_f','Tot_PtCasa','NU_INSCRICAO']].loc[(df_ft['Q007_f'] == 2) & (df_ft['Q009_f'] < 1)].head(10)\n",
        "df_valid"
      ],
      "metadata": {
        "id": "Jkb0V4RvjtaF",
        "colab": {
          "base_uri": "https://localhost:8080/",
          "height": 363
        },
        "outputId": "7544708f-5fc8-47db-ed60-1e61f4eaee42"
      },
      "execution_count": null,
      "outputs": [
        {
          "output_type": "execute_result",
          "data": {
            "text/plain": [
              "       Q007 Q008 Q009  Q007_f  Q008_f  Q009_f  Tot_PtCasa  NU_INSCRICAO\n",
              "11103     C    A    A       2       0       0           2  180007205061\n",
              "38390     D    A    A       2       0       0           2  180007252005\n",
              "38891     D    B    A       2       1       0           3  180007252849\n",
              "57367     D    B    A       2       1       0           3  180007284528\n",
              "63150     C    B    A       2       1       0           3  180007294486\n",
              "69318     D    B    A       2       1       0           3  180007305028\n",
              "87700     D    B    A       2       1       0           3  180007336563\n",
              "112197    D    B    A       2       1       0           3  180007378983\n",
              "112647    D    B    A       2       1       0           3  180007379746\n",
              "121875    C    E    A       2       3       0           5  180007395767"
            ],
            "text/html": [
              "\n",
              "  <div id=\"df-c36d9a02-49af-452e-91a4-f9f08e485240\">\n",
              "    <div class=\"colab-df-container\">\n",
              "      <div>\n",
              "<style scoped>\n",
              "    .dataframe tbody tr th:only-of-type {\n",
              "        vertical-align: middle;\n",
              "    }\n",
              "\n",
              "    .dataframe tbody tr th {\n",
              "        vertical-align: top;\n",
              "    }\n",
              "\n",
              "    .dataframe thead th {\n",
              "        text-align: right;\n",
              "    }\n",
              "</style>\n",
              "<table border=\"1\" class=\"dataframe\">\n",
              "  <thead>\n",
              "    <tr style=\"text-align: right;\">\n",
              "      <th></th>\n",
              "      <th>Q007</th>\n",
              "      <th>Q008</th>\n",
              "      <th>Q009</th>\n",
              "      <th>Q007_f</th>\n",
              "      <th>Q008_f</th>\n",
              "      <th>Q009_f</th>\n",
              "      <th>Tot_PtCasa</th>\n",
              "      <th>NU_INSCRICAO</th>\n",
              "    </tr>\n",
              "  </thead>\n",
              "  <tbody>\n",
              "    <tr>\n",
              "      <th>11103</th>\n",
              "      <td>C</td>\n",
              "      <td>A</td>\n",
              "      <td>A</td>\n",
              "      <td>2</td>\n",
              "      <td>0</td>\n",
              "      <td>0</td>\n",
              "      <td>2</td>\n",
              "      <td>180007205061</td>\n",
              "    </tr>\n",
              "    <tr>\n",
              "      <th>38390</th>\n",
              "      <td>D</td>\n",
              "      <td>A</td>\n",
              "      <td>A</td>\n",
              "      <td>2</td>\n",
              "      <td>0</td>\n",
              "      <td>0</td>\n",
              "      <td>2</td>\n",
              "      <td>180007252005</td>\n",
              "    </tr>\n",
              "    <tr>\n",
              "      <th>38891</th>\n",
              "      <td>D</td>\n",
              "      <td>B</td>\n",
              "      <td>A</td>\n",
              "      <td>2</td>\n",
              "      <td>1</td>\n",
              "      <td>0</td>\n",
              "      <td>3</td>\n",
              "      <td>180007252849</td>\n",
              "    </tr>\n",
              "    <tr>\n",
              "      <th>57367</th>\n",
              "      <td>D</td>\n",
              "      <td>B</td>\n",
              "      <td>A</td>\n",
              "      <td>2</td>\n",
              "      <td>1</td>\n",
              "      <td>0</td>\n",
              "      <td>3</td>\n",
              "      <td>180007284528</td>\n",
              "    </tr>\n",
              "    <tr>\n",
              "      <th>63150</th>\n",
              "      <td>C</td>\n",
              "      <td>B</td>\n",
              "      <td>A</td>\n",
              "      <td>2</td>\n",
              "      <td>1</td>\n",
              "      <td>0</td>\n",
              "      <td>3</td>\n",
              "      <td>180007294486</td>\n",
              "    </tr>\n",
              "    <tr>\n",
              "      <th>69318</th>\n",
              "      <td>D</td>\n",
              "      <td>B</td>\n",
              "      <td>A</td>\n",
              "      <td>2</td>\n",
              "      <td>1</td>\n",
              "      <td>0</td>\n",
              "      <td>3</td>\n",
              "      <td>180007305028</td>\n",
              "    </tr>\n",
              "    <tr>\n",
              "      <th>87700</th>\n",
              "      <td>D</td>\n",
              "      <td>B</td>\n",
              "      <td>A</td>\n",
              "      <td>2</td>\n",
              "      <td>1</td>\n",
              "      <td>0</td>\n",
              "      <td>3</td>\n",
              "      <td>180007336563</td>\n",
              "    </tr>\n",
              "    <tr>\n",
              "      <th>112197</th>\n",
              "      <td>D</td>\n",
              "      <td>B</td>\n",
              "      <td>A</td>\n",
              "      <td>2</td>\n",
              "      <td>1</td>\n",
              "      <td>0</td>\n",
              "      <td>3</td>\n",
              "      <td>180007378983</td>\n",
              "    </tr>\n",
              "    <tr>\n",
              "      <th>112647</th>\n",
              "      <td>D</td>\n",
              "      <td>B</td>\n",
              "      <td>A</td>\n",
              "      <td>2</td>\n",
              "      <td>1</td>\n",
              "      <td>0</td>\n",
              "      <td>3</td>\n",
              "      <td>180007379746</td>\n",
              "    </tr>\n",
              "    <tr>\n",
              "      <th>121875</th>\n",
              "      <td>C</td>\n",
              "      <td>E</td>\n",
              "      <td>A</td>\n",
              "      <td>2</td>\n",
              "      <td>3</td>\n",
              "      <td>0</td>\n",
              "      <td>5</td>\n",
              "      <td>180007395767</td>\n",
              "    </tr>\n",
              "  </tbody>\n",
              "</table>\n",
              "</div>\n",
              "      <button class=\"colab-df-convert\" onclick=\"convertToInteractive('df-c36d9a02-49af-452e-91a4-f9f08e485240')\"\n",
              "              title=\"Convert this dataframe to an interactive table.\"\n",
              "              style=\"display:none;\">\n",
              "        \n",
              "  <svg xmlns=\"http://www.w3.org/2000/svg\" height=\"24px\"viewBox=\"0 0 24 24\"\n",
              "       width=\"24px\">\n",
              "    <path d=\"M0 0h24v24H0V0z\" fill=\"none\"/>\n",
              "    <path d=\"M18.56 5.44l.94 2.06.94-2.06 2.06-.94-2.06-.94-.94-2.06-.94 2.06-2.06.94zm-11 1L8.5 8.5l.94-2.06 2.06-.94-2.06-.94L8.5 2.5l-.94 2.06-2.06.94zm10 10l.94 2.06.94-2.06 2.06-.94-2.06-.94-.94-2.06-.94 2.06-2.06.94z\"/><path d=\"M17.41 7.96l-1.37-1.37c-.4-.4-.92-.59-1.43-.59-.52 0-1.04.2-1.43.59L10.3 9.45l-7.72 7.72c-.78.78-.78 2.05 0 2.83L4 21.41c.39.39.9.59 1.41.59.51 0 1.02-.2 1.41-.59l7.78-7.78 2.81-2.81c.8-.78.8-2.07 0-2.86zM5.41 20L4 18.59l7.72-7.72 1.47 1.35L5.41 20z\"/>\n",
              "  </svg>\n",
              "      </button>\n",
              "      \n",
              "  <style>\n",
              "    .colab-df-container {\n",
              "      display:flex;\n",
              "      flex-wrap:wrap;\n",
              "      gap: 12px;\n",
              "    }\n",
              "\n",
              "    .colab-df-convert {\n",
              "      background-color: #E8F0FE;\n",
              "      border: none;\n",
              "      border-radius: 50%;\n",
              "      cursor: pointer;\n",
              "      display: none;\n",
              "      fill: #1967D2;\n",
              "      height: 32px;\n",
              "      padding: 0 0 0 0;\n",
              "      width: 32px;\n",
              "    }\n",
              "\n",
              "    .colab-df-convert:hover {\n",
              "      background-color: #E2EBFA;\n",
              "      box-shadow: 0px 1px 2px rgba(60, 64, 67, 0.3), 0px 1px 3px 1px rgba(60, 64, 67, 0.15);\n",
              "      fill: #174EA6;\n",
              "    }\n",
              "\n",
              "    [theme=dark] .colab-df-convert {\n",
              "      background-color: #3B4455;\n",
              "      fill: #D2E3FC;\n",
              "    }\n",
              "\n",
              "    [theme=dark] .colab-df-convert:hover {\n",
              "      background-color: #434B5C;\n",
              "      box-shadow: 0px 1px 3px 1px rgba(0, 0, 0, 0.15);\n",
              "      filter: drop-shadow(0px 1px 2px rgba(0, 0, 0, 0.3));\n",
              "      fill: #FFFFFF;\n",
              "    }\n",
              "  </style>\n",
              "\n",
              "      <script>\n",
              "        const buttonEl =\n",
              "          document.querySelector('#df-c36d9a02-49af-452e-91a4-f9f08e485240 button.colab-df-convert');\n",
              "        buttonEl.style.display =\n",
              "          google.colab.kernel.accessAllowed ? 'block' : 'none';\n",
              "\n",
              "        async function convertToInteractive(key) {\n",
              "          const element = document.querySelector('#df-c36d9a02-49af-452e-91a4-f9f08e485240');\n",
              "          const dataTable =\n",
              "            await google.colab.kernel.invokeFunction('convertToInteractive',\n",
              "                                                     [key], {});\n",
              "          if (!dataTable) return;\n",
              "\n",
              "          const docLinkHtml = 'Like what you see? Visit the ' +\n",
              "            '<a target=\"_blank\" href=https://colab.research.google.com/notebooks/data_table.ipynb>data table notebook</a>'\n",
              "            + ' to learn more about interactive tables.';\n",
              "          element.innerHTML = '';\n",
              "          dataTable['output_type'] = 'display_data';\n",
              "          await google.colab.output.renderOutput(dataTable, element);\n",
              "          const docLink = document.createElement('div');\n",
              "          docLink.innerHTML = docLinkHtml;\n",
              "          element.appendChild(docLink);\n",
              "        }\n",
              "      </script>\n",
              "    </div>\n",
              "  </div>\n",
              "  "
            ]
          },
          "metadata": {},
          "execution_count": 41
        }
      ]
    },
    {
      "cell_type": "code",
      "source": [
        "df_ft.loc[df_ft.Tot_PtCasa == 0,'Tot_PtCasa_']='1'\n",
        "df_ft.loc[df_ft.Tot_PtCasa == 1,'Tot_PtCasa_']='1'\n",
        "df_ft.loc[df_ft.Tot_PtCasa == 2,'Tot_PtCasa_']='1'\n",
        "df_ft.loc[df_ft.Tot_PtCasa == 3,'Tot_PtCasa_']='2'\n",
        "df_ft.loc[df_ft.Tot_PtCasa == 4,'Tot_PtCasa_']='3'\n",
        "df_ft.loc[df_ft.Tot_PtCasa == 5,'Tot_PtCasa_']='4'\n",
        "df_ft.loc[df_ft.Tot_PtCasa == 6,'Tot_PtCasa_']='5'\n",
        "df_ft.loc[df_ft.Tot_PtCasa == 7,'Tot_PtCasa_']='6'\n",
        "df_ft.loc[df_ft.Tot_PtCasa == 8,'Tot_PtCasa_']='6'"
      ],
      "metadata": {
        "id": "t2Np--1oL-yO"
      },
      "execution_count": null,
      "outputs": []
    },
    {
      "cell_type": "markdown",
      "source": [
        "- Região Geográfica"
      ],
      "metadata": {
        "id": "hdEWeeydC18H"
      }
    },
    {
      "cell_type": "code",
      "source": [
        "df_ft['RegGeo_Prova'] = df_ft.CO_MUNICIPIO_PROVA.astype(str).str[0] # transforma primeiro em string, depois seleciona o digito"
      ],
      "metadata": {
        "id": "uqc7eiCrEs4P"
      },
      "execution_count": null,
      "outputs": []
    },
    {
      "cell_type": "code",
      "source": [
        "df_ft.RegGeo_Prova.value_counts().sort_index()"
      ],
      "metadata": {
        "id": "IYaKTFQ3GRVd",
        "colab": {
          "base_uri": "https://localhost:8080/"
        },
        "outputId": "7223bac4-db62-4c72-a974-37501d4e9576"
      },
      "execution_count": null,
      "outputs": [
        {
          "output_type": "execute_result",
          "data": {
            "text/plain": [
              "1     382425\n",
              "2    1139909\n",
              "3    1219357\n",
              "4     359399\n",
              "5     268014\n",
              "Name: RegGeo_Prova, dtype: int64"
            ]
          },
          "metadata": {},
          "execution_count": 44
        }
      ]
    },
    {
      "cell_type": "code",
      "source": [
        "pd.crosstab(df_ft.SG_UF_PROVA, df_ft.RegGeo_Prova, margins=True, dropna=False)"
      ],
      "metadata": {
        "id": "mEdtS7lhGX85",
        "colab": {
          "base_uri": "https://localhost:8080/",
          "height": 958
        },
        "outputId": "df9d7d44-f2ad-4769-f7ce-edae2b99c848"
      },
      "execution_count": null,
      "outputs": [
        {
          "output_type": "execute_result",
          "data": {
            "text/plain": [
              "RegGeo_Prova       1        2        3       4       5      All\n",
              "SG_UF_PROVA                                                    \n",
              "AC             24866        0        0       0       0    24866\n",
              "AL                 0    58427        0       0       0    58427\n",
              "AM             72196        0        0       0       0    72196\n",
              "AP             24931        0        0       0       0    24931\n",
              "BA                 0   249661        0       0       0   249661\n",
              "CE                 0   195898        0       0       0   195898\n",
              "DF                 0        0        0       0   67133    67133\n",
              "ES                 0        0    69673       0       0    69673\n",
              "GO                 0        0        0       0  107618   107618\n",
              "MA                 0   141684        0       0       0   141684\n",
              "MG                 0        0   361099       0       0   361099\n",
              "MS                 0        0        0       0   39998    39998\n",
              "MT                 0        0        0       0   53265    53265\n",
              "PA            183939        0        0       0       0   183939\n",
              "PB                 0    99092        0       0       0    99092\n",
              "PE                 0   187414        0       0       0   187414\n",
              "PI                 0    78957        0       0       0    78957\n",
              "PR                 0        0        0  141991       0   141991\n",
              "RJ                 0        0   231614       0       0   231614\n",
              "RN                 0    80874        0       0       0    80874\n",
              "RO             36765        0        0       0       0    36765\n",
              "RR              7997        0        0       0       0     7997\n",
              "RS                 0        0        0  144083       0   144083\n",
              "SC                 0        0        0   73325       0    73325\n",
              "SE                 0    47902        0       0       0    47902\n",
              "SP                 0        0   556971       0       0   556971\n",
              "TO             31731        0        0       0       0    31731\n",
              "All           382425  1139909  1219357  359399  268014  3369104"
            ],
            "text/html": [
              "\n",
              "  <div id=\"df-e9f007cd-476c-4dde-8f25-15af6314b607\">\n",
              "    <div class=\"colab-df-container\">\n",
              "      <div>\n",
              "<style scoped>\n",
              "    .dataframe tbody tr th:only-of-type {\n",
              "        vertical-align: middle;\n",
              "    }\n",
              "\n",
              "    .dataframe tbody tr th {\n",
              "        vertical-align: top;\n",
              "    }\n",
              "\n",
              "    .dataframe thead th {\n",
              "        text-align: right;\n",
              "    }\n",
              "</style>\n",
              "<table border=\"1\" class=\"dataframe\">\n",
              "  <thead>\n",
              "    <tr style=\"text-align: right;\">\n",
              "      <th>RegGeo_Prova</th>\n",
              "      <th>1</th>\n",
              "      <th>2</th>\n",
              "      <th>3</th>\n",
              "      <th>4</th>\n",
              "      <th>5</th>\n",
              "      <th>All</th>\n",
              "    </tr>\n",
              "    <tr>\n",
              "      <th>SG_UF_PROVA</th>\n",
              "      <th></th>\n",
              "      <th></th>\n",
              "      <th></th>\n",
              "      <th></th>\n",
              "      <th></th>\n",
              "      <th></th>\n",
              "    </tr>\n",
              "  </thead>\n",
              "  <tbody>\n",
              "    <tr>\n",
              "      <th>AC</th>\n",
              "      <td>24866</td>\n",
              "      <td>0</td>\n",
              "      <td>0</td>\n",
              "      <td>0</td>\n",
              "      <td>0</td>\n",
              "      <td>24866</td>\n",
              "    </tr>\n",
              "    <tr>\n",
              "      <th>AL</th>\n",
              "      <td>0</td>\n",
              "      <td>58427</td>\n",
              "      <td>0</td>\n",
              "      <td>0</td>\n",
              "      <td>0</td>\n",
              "      <td>58427</td>\n",
              "    </tr>\n",
              "    <tr>\n",
              "      <th>AM</th>\n",
              "      <td>72196</td>\n",
              "      <td>0</td>\n",
              "      <td>0</td>\n",
              "      <td>0</td>\n",
              "      <td>0</td>\n",
              "      <td>72196</td>\n",
              "    </tr>\n",
              "    <tr>\n",
              "      <th>AP</th>\n",
              "      <td>24931</td>\n",
              "      <td>0</td>\n",
              "      <td>0</td>\n",
              "      <td>0</td>\n",
              "      <td>0</td>\n",
              "      <td>24931</td>\n",
              "    </tr>\n",
              "    <tr>\n",
              "      <th>BA</th>\n",
              "      <td>0</td>\n",
              "      <td>249661</td>\n",
              "      <td>0</td>\n",
              "      <td>0</td>\n",
              "      <td>0</td>\n",
              "      <td>249661</td>\n",
              "    </tr>\n",
              "    <tr>\n",
              "      <th>CE</th>\n",
              "      <td>0</td>\n",
              "      <td>195898</td>\n",
              "      <td>0</td>\n",
              "      <td>0</td>\n",
              "      <td>0</td>\n",
              "      <td>195898</td>\n",
              "    </tr>\n",
              "    <tr>\n",
              "      <th>DF</th>\n",
              "      <td>0</td>\n",
              "      <td>0</td>\n",
              "      <td>0</td>\n",
              "      <td>0</td>\n",
              "      <td>67133</td>\n",
              "      <td>67133</td>\n",
              "    </tr>\n",
              "    <tr>\n",
              "      <th>ES</th>\n",
              "      <td>0</td>\n",
              "      <td>0</td>\n",
              "      <td>69673</td>\n",
              "      <td>0</td>\n",
              "      <td>0</td>\n",
              "      <td>69673</td>\n",
              "    </tr>\n",
              "    <tr>\n",
              "      <th>GO</th>\n",
              "      <td>0</td>\n",
              "      <td>0</td>\n",
              "      <td>0</td>\n",
              "      <td>0</td>\n",
              "      <td>107618</td>\n",
              "      <td>107618</td>\n",
              "    </tr>\n",
              "    <tr>\n",
              "      <th>MA</th>\n",
              "      <td>0</td>\n",
              "      <td>141684</td>\n",
              "      <td>0</td>\n",
              "      <td>0</td>\n",
              "      <td>0</td>\n",
              "      <td>141684</td>\n",
              "    </tr>\n",
              "    <tr>\n",
              "      <th>MG</th>\n",
              "      <td>0</td>\n",
              "      <td>0</td>\n",
              "      <td>361099</td>\n",
              "      <td>0</td>\n",
              "      <td>0</td>\n",
              "      <td>361099</td>\n",
              "    </tr>\n",
              "    <tr>\n",
              "      <th>MS</th>\n",
              "      <td>0</td>\n",
              "      <td>0</td>\n",
              "      <td>0</td>\n",
              "      <td>0</td>\n",
              "      <td>39998</td>\n",
              "      <td>39998</td>\n",
              "    </tr>\n",
              "    <tr>\n",
              "      <th>MT</th>\n",
              "      <td>0</td>\n",
              "      <td>0</td>\n",
              "      <td>0</td>\n",
              "      <td>0</td>\n",
              "      <td>53265</td>\n",
              "      <td>53265</td>\n",
              "    </tr>\n",
              "    <tr>\n",
              "      <th>PA</th>\n",
              "      <td>183939</td>\n",
              "      <td>0</td>\n",
              "      <td>0</td>\n",
              "      <td>0</td>\n",
              "      <td>0</td>\n",
              "      <td>183939</td>\n",
              "    </tr>\n",
              "    <tr>\n",
              "      <th>PB</th>\n",
              "      <td>0</td>\n",
              "      <td>99092</td>\n",
              "      <td>0</td>\n",
              "      <td>0</td>\n",
              "      <td>0</td>\n",
              "      <td>99092</td>\n",
              "    </tr>\n",
              "    <tr>\n",
              "      <th>PE</th>\n",
              "      <td>0</td>\n",
              "      <td>187414</td>\n",
              "      <td>0</td>\n",
              "      <td>0</td>\n",
              "      <td>0</td>\n",
              "      <td>187414</td>\n",
              "    </tr>\n",
              "    <tr>\n",
              "      <th>PI</th>\n",
              "      <td>0</td>\n",
              "      <td>78957</td>\n",
              "      <td>0</td>\n",
              "      <td>0</td>\n",
              "      <td>0</td>\n",
              "      <td>78957</td>\n",
              "    </tr>\n",
              "    <tr>\n",
              "      <th>PR</th>\n",
              "      <td>0</td>\n",
              "      <td>0</td>\n",
              "      <td>0</td>\n",
              "      <td>141991</td>\n",
              "      <td>0</td>\n",
              "      <td>141991</td>\n",
              "    </tr>\n",
              "    <tr>\n",
              "      <th>RJ</th>\n",
              "      <td>0</td>\n",
              "      <td>0</td>\n",
              "      <td>231614</td>\n",
              "      <td>0</td>\n",
              "      <td>0</td>\n",
              "      <td>231614</td>\n",
              "    </tr>\n",
              "    <tr>\n",
              "      <th>RN</th>\n",
              "      <td>0</td>\n",
              "      <td>80874</td>\n",
              "      <td>0</td>\n",
              "      <td>0</td>\n",
              "      <td>0</td>\n",
              "      <td>80874</td>\n",
              "    </tr>\n",
              "    <tr>\n",
              "      <th>RO</th>\n",
              "      <td>36765</td>\n",
              "      <td>0</td>\n",
              "      <td>0</td>\n",
              "      <td>0</td>\n",
              "      <td>0</td>\n",
              "      <td>36765</td>\n",
              "    </tr>\n",
              "    <tr>\n",
              "      <th>RR</th>\n",
              "      <td>7997</td>\n",
              "      <td>0</td>\n",
              "      <td>0</td>\n",
              "      <td>0</td>\n",
              "      <td>0</td>\n",
              "      <td>7997</td>\n",
              "    </tr>\n",
              "    <tr>\n",
              "      <th>RS</th>\n",
              "      <td>0</td>\n",
              "      <td>0</td>\n",
              "      <td>0</td>\n",
              "      <td>144083</td>\n",
              "      <td>0</td>\n",
              "      <td>144083</td>\n",
              "    </tr>\n",
              "    <tr>\n",
              "      <th>SC</th>\n",
              "      <td>0</td>\n",
              "      <td>0</td>\n",
              "      <td>0</td>\n",
              "      <td>73325</td>\n",
              "      <td>0</td>\n",
              "      <td>73325</td>\n",
              "    </tr>\n",
              "    <tr>\n",
              "      <th>SE</th>\n",
              "      <td>0</td>\n",
              "      <td>47902</td>\n",
              "      <td>0</td>\n",
              "      <td>0</td>\n",
              "      <td>0</td>\n",
              "      <td>47902</td>\n",
              "    </tr>\n",
              "    <tr>\n",
              "      <th>SP</th>\n",
              "      <td>0</td>\n",
              "      <td>0</td>\n",
              "      <td>556971</td>\n",
              "      <td>0</td>\n",
              "      <td>0</td>\n",
              "      <td>556971</td>\n",
              "    </tr>\n",
              "    <tr>\n",
              "      <th>TO</th>\n",
              "      <td>31731</td>\n",
              "      <td>0</td>\n",
              "      <td>0</td>\n",
              "      <td>0</td>\n",
              "      <td>0</td>\n",
              "      <td>31731</td>\n",
              "    </tr>\n",
              "    <tr>\n",
              "      <th>All</th>\n",
              "      <td>382425</td>\n",
              "      <td>1139909</td>\n",
              "      <td>1219357</td>\n",
              "      <td>359399</td>\n",
              "      <td>268014</td>\n",
              "      <td>3369104</td>\n",
              "    </tr>\n",
              "  </tbody>\n",
              "</table>\n",
              "</div>\n",
              "      <button class=\"colab-df-convert\" onclick=\"convertToInteractive('df-e9f007cd-476c-4dde-8f25-15af6314b607')\"\n",
              "              title=\"Convert this dataframe to an interactive table.\"\n",
              "              style=\"display:none;\">\n",
              "        \n",
              "  <svg xmlns=\"http://www.w3.org/2000/svg\" height=\"24px\"viewBox=\"0 0 24 24\"\n",
              "       width=\"24px\">\n",
              "    <path d=\"M0 0h24v24H0V0z\" fill=\"none\"/>\n",
              "    <path d=\"M18.56 5.44l.94 2.06.94-2.06 2.06-.94-2.06-.94-.94-2.06-.94 2.06-2.06.94zm-11 1L8.5 8.5l.94-2.06 2.06-.94-2.06-.94L8.5 2.5l-.94 2.06-2.06.94zm10 10l.94 2.06.94-2.06 2.06-.94-2.06-.94-.94-2.06-.94 2.06-2.06.94z\"/><path d=\"M17.41 7.96l-1.37-1.37c-.4-.4-.92-.59-1.43-.59-.52 0-1.04.2-1.43.59L10.3 9.45l-7.72 7.72c-.78.78-.78 2.05 0 2.83L4 21.41c.39.39.9.59 1.41.59.51 0 1.02-.2 1.41-.59l7.78-7.78 2.81-2.81c.8-.78.8-2.07 0-2.86zM5.41 20L4 18.59l7.72-7.72 1.47 1.35L5.41 20z\"/>\n",
              "  </svg>\n",
              "      </button>\n",
              "      \n",
              "  <style>\n",
              "    .colab-df-container {\n",
              "      display:flex;\n",
              "      flex-wrap:wrap;\n",
              "      gap: 12px;\n",
              "    }\n",
              "\n",
              "    .colab-df-convert {\n",
              "      background-color: #E8F0FE;\n",
              "      border: none;\n",
              "      border-radius: 50%;\n",
              "      cursor: pointer;\n",
              "      display: none;\n",
              "      fill: #1967D2;\n",
              "      height: 32px;\n",
              "      padding: 0 0 0 0;\n",
              "      width: 32px;\n",
              "    }\n",
              "\n",
              "    .colab-df-convert:hover {\n",
              "      background-color: #E2EBFA;\n",
              "      box-shadow: 0px 1px 2px rgba(60, 64, 67, 0.3), 0px 1px 3px 1px rgba(60, 64, 67, 0.15);\n",
              "      fill: #174EA6;\n",
              "    }\n",
              "\n",
              "    [theme=dark] .colab-df-convert {\n",
              "      background-color: #3B4455;\n",
              "      fill: #D2E3FC;\n",
              "    }\n",
              "\n",
              "    [theme=dark] .colab-df-convert:hover {\n",
              "      background-color: #434B5C;\n",
              "      box-shadow: 0px 1px 3px 1px rgba(0, 0, 0, 0.15);\n",
              "      filter: drop-shadow(0px 1px 2px rgba(0, 0, 0, 0.3));\n",
              "      fill: #FFFFFF;\n",
              "    }\n",
              "  </style>\n",
              "\n",
              "      <script>\n",
              "        const buttonEl =\n",
              "          document.querySelector('#df-e9f007cd-476c-4dde-8f25-15af6314b607 button.colab-df-convert');\n",
              "        buttonEl.style.display =\n",
              "          google.colab.kernel.accessAllowed ? 'block' : 'none';\n",
              "\n",
              "        async function convertToInteractive(key) {\n",
              "          const element = document.querySelector('#df-e9f007cd-476c-4dde-8f25-15af6314b607');\n",
              "          const dataTable =\n",
              "            await google.colab.kernel.invokeFunction('convertToInteractive',\n",
              "                                                     [key], {});\n",
              "          if (!dataTable) return;\n",
              "\n",
              "          const docLinkHtml = 'Like what you see? Visit the ' +\n",
              "            '<a target=\"_blank\" href=https://colab.research.google.com/notebooks/data_table.ipynb>data table notebook</a>'\n",
              "            + ' to learn more about interactive tables.';\n",
              "          element.innerHTML = '';\n",
              "          dataTable['output_type'] = 'display_data';\n",
              "          await google.colab.output.renderOutput(dataTable, element);\n",
              "          const docLink = document.createElement('div');\n",
              "          docLink.innerHTML = docLinkHtml;\n",
              "          element.appendChild(docLink);\n",
              "        }\n",
              "      </script>\n",
              "    </div>\n",
              "  </div>\n",
              "  "
            ]
          },
          "metadata": {},
          "execution_count": 45
        }
      ]
    },
    {
      "cell_type": "markdown",
      "source": [
        "- SG PROVA"
      ],
      "metadata": {
        "id": "pnrhpPq0mPie"
      }
    },
    {
      "cell_type": "code",
      "source": [
        "gr_uf = {'AC': 1,'AL': 1,'AM': 1,'AP': 1,'MA': 1,'PA': 1,'PI': 1,'RO': 1,'TO': 1,\n",
        "         'BA': 2,'CE': 2,'MT': 2,'PB': 2,'PE': 2,'RR': 2,'SE': 2,\n",
        "         'GO': 3,'MS': 3,'RN': 3,\n",
        "         'DF': 4,'ES': 4,'MG': 4,'PR': 4,'RJ': 4,'RS': 4,'SC': 4,'SP': 4}"
      ],
      "metadata": {
        "id": "ewhEnd1Cd1XA"
      },
      "execution_count": null,
      "outputs": []
    },
    {
      "cell_type": "code",
      "source": [
        "df_ft['SG_UF_PROVA_'] = df_ft['SG_UF_PROVA'].map(gr_uf)"
      ],
      "metadata": {
        "id": "FpyU8Y8lx7cU"
      },
      "execution_count": null,
      "outputs": []
    },
    {
      "cell_type": "code",
      "source": [
        "df_ft.SG_UF_PROVA_.value_counts().sort_index()"
      ],
      "metadata": {
        "id": "Tscl1WYCzV_h",
        "colab": {
          "base_uri": "https://localhost:8080/"
        },
        "outputId": "911ed3ed-4937-4158-df88-0892a750e733"
      },
      "execution_count": null,
      "outputs": [
        {
          "output_type": "execute_result",
          "data": {
            "text/plain": [
              "1     653496\n",
              "2     841229\n",
              "3     228490\n",
              "4    1645889\n",
              "Name: SG_UF_PROVA_, dtype: int64"
            ]
          },
          "metadata": {},
          "execution_count": 48
        }
      ]
    },
    {
      "cell_type": "code",
      "source": [
        "# Exemplo\n",
        "# df['Status'] = [\"Senior\" if s >=400 else \"Junior\" for s in df['Salary']]"
      ],
      "metadata": {
        "id": "QQazVOgj1D9S"
      },
      "execution_count": null,
      "outputs": []
    },
    {
      "cell_type": "markdown",
      "source": [
        "# **Recategorização das Variáveis**"
      ],
      "metadata": {
        "id": "6Vg0gzaCnLpo"
      }
    },
    {
      "cell_type": "markdown",
      "source": [
        "- Faixa Etária     "
      ],
      "metadata": {
        "id": "BWpnbgFL024l"
      }
    },
    {
      "cell_type": "code",
      "source": [
        "df_ft.loc[df_ft.TP_FAIXA_ETARIA == 1 ,'TP_FAIXA_ETARIA_']='1'\n",
        "df_ft.loc[df_ft.TP_FAIXA_ETARIA == 2 ,'TP_FAIXA_ETARIA_']='1'\n",
        "df_ft.loc[df_ft.TP_FAIXA_ETARIA == 3 ,'TP_FAIXA_ETARIA_']='2'\n",
        "df_ft.loc[df_ft.TP_FAIXA_ETARIA == 4 ,'TP_FAIXA_ETARIA_']='2'\n",
        "df_ft.loc[df_ft.TP_FAIXA_ETARIA == 5 ,'TP_FAIXA_ETARIA_']='2'\n",
        "df_ft.loc[df_ft.TP_FAIXA_ETARIA == 6 ,'TP_FAIXA_ETARIA_']='3'\n",
        "df_ft.loc[df_ft.TP_FAIXA_ETARIA == 7 ,'TP_FAIXA_ETARIA_']='3'\n",
        "df_ft.loc[df_ft.TP_FAIXA_ETARIA == 8 ,'TP_FAIXA_ETARIA_']='3'\n",
        "df_ft.loc[df_ft.TP_FAIXA_ETARIA == 9 ,'TP_FAIXA_ETARIA_']='3'\n",
        "df_ft.loc[df_ft.TP_FAIXA_ETARIA == 10 ,'TP_FAIXA_ETARIA_']='3'\n",
        "df_ft.loc[df_ft.TP_FAIXA_ETARIA == 11 ,'TP_FAIXA_ETARIA_']='3'\n",
        "df_ft.loc[df_ft.TP_FAIXA_ETARIA == 12 ,'TP_FAIXA_ETARIA_']='4'\n",
        "df_ft.loc[df_ft.TP_FAIXA_ETARIA == 13 ,'TP_FAIXA_ETARIA_']='4'\n",
        "df_ft.loc[df_ft.TP_FAIXA_ETARIA == 14 ,'TP_FAIXA_ETARIA_']='5'\n",
        "df_ft.loc[df_ft.TP_FAIXA_ETARIA == 15 ,'TP_FAIXA_ETARIA_']='5'\n",
        "df_ft.loc[df_ft.TP_FAIXA_ETARIA == 16 ,'TP_FAIXA_ETARIA_']='5'\n",
        "df_ft.loc[df_ft.TP_FAIXA_ETARIA == 17 ,'TP_FAIXA_ETARIA_']='5'\n",
        "df_ft.loc[df_ft.TP_FAIXA_ETARIA == 18 ,'TP_FAIXA_ETARIA_']='5'\n",
        "df_ft.loc[df_ft.TP_FAIXA_ETARIA == 19 ,'TP_FAIXA_ETARIA_']='5'\n",
        "df_ft.loc[df_ft.TP_FAIXA_ETARIA == 20 ,'TP_FAIXA_ETARIA_']='5'"
      ],
      "metadata": {
        "id": "FvCuzryJWUzm"
      },
      "execution_count": null,
      "outputs": []
    },
    {
      "cell_type": "markdown",
      "source": [
        "- Estado Civil"
      ],
      "metadata": {
        "id": "LznZJtzeAjgu"
      }
    },
    {
      "cell_type": "code",
      "source": [
        "df_ft.loc[df_ft.TP_ESTADO_CIVIL == 0 ,'TP_ESTADO_CIVIL_']='1'\n",
        "df_ft.loc[df_ft.TP_ESTADO_CIVIL == 1 ,'TP_ESTADO_CIVIL_']='2'\n",
        "df_ft.loc[df_ft.TP_ESTADO_CIVIL == 2 ,'TP_ESTADO_CIVIL_']='3'\n",
        "df_ft.loc[df_ft.TP_ESTADO_CIVIL == 3 ,'TP_ESTADO_CIVIL_']='3'\n",
        "df_ft.loc[df_ft.TP_ESTADO_CIVIL == 4 ,'TP_ESTADO_CIVIL_']='3'"
      ],
      "metadata": {
        "id": "1xH94aYNBPXX"
      },
      "execution_count": null,
      "outputs": []
    },
    {
      "cell_type": "markdown",
      "source": [
        "- Cor/Raça"
      ],
      "metadata": {
        "id": "jaPsnY6MB614"
      }
    },
    {
      "cell_type": "code",
      "source": [
        "df_ft.loc[df_ft.TP_COR_RACA == 0 ,'TP_COR_RACA_']='1'\n",
        "df_ft.loc[df_ft.TP_COR_RACA == 1 ,'TP_COR_RACA_']='2'\n",
        "df_ft.loc[df_ft.TP_COR_RACA == 2 ,'TP_COR_RACA_']='3'\n",
        "df_ft.loc[df_ft.TP_COR_RACA == 3 ,'TP_COR_RACA_']='3'\n",
        "df_ft.loc[df_ft.TP_COR_RACA == 4 ,'TP_COR_RACA_']='4'\n",
        "df_ft.loc[df_ft.TP_COR_RACA == 5 ,'TP_COR_RACA_']='5'\n",
        "df_ft.loc[df_ft.TP_COR_RACA == 6 ,'TP_COR_RACA_']='1'"
      ],
      "metadata": {
        "id": "4bV8KM8YCgby"
      },
      "execution_count": null,
      "outputs": []
    },
    {
      "cell_type": "markdown",
      "source": [
        "- Ano que concluiu"
      ],
      "metadata": {
        "id": "GPMpHLO6PAnv"
      }
    },
    {
      "cell_type": "code",
      "source": [
        "df_ft.loc[df_ft.TP_ANO_CONCLUIU == 0 ,'TP_ANO_CONCLUIU_']='1'\n",
        "df_ft.loc[df_ft.TP_ANO_CONCLUIU == 1 ,'TP_ANO_CONCLUIU_']='2'\n",
        "df_ft.loc[df_ft.TP_ANO_CONCLUIU == 2 ,'TP_ANO_CONCLUIU_']='2'\n",
        "df_ft.loc[df_ft.TP_ANO_CONCLUIU == 3 ,'TP_ANO_CONCLUIU_']='3'\n",
        "df_ft.loc[df_ft.TP_ANO_CONCLUIU == 4 ,'TP_ANO_CONCLUIU_']='3'\n",
        "df_ft.loc[df_ft.TP_ANO_CONCLUIU == 5 ,'TP_ANO_CONCLUIU_']='3'\n",
        "df_ft.loc[df_ft.TP_ANO_CONCLUIU == 6 ,'TP_ANO_CONCLUIU_']='4'\n",
        "df_ft.loc[df_ft.TP_ANO_CONCLUIU == 7 ,'TP_ANO_CONCLUIU_']='4'\n",
        "df_ft.loc[df_ft.TP_ANO_CONCLUIU == 8 ,'TP_ANO_CONCLUIU_']='4'\n",
        "df_ft.loc[df_ft.TP_ANO_CONCLUIU == 9 ,'TP_ANO_CONCLUIU_']='5'\n",
        "df_ft.loc[df_ft.TP_ANO_CONCLUIU == 10 ,'TP_ANO_CONCLUIU_']='5'\n",
        "df_ft.loc[df_ft.TP_ANO_CONCLUIU == 11 ,'TP_ANO_CONCLUIU_']='5'\n",
        "df_ft.loc[df_ft.TP_ANO_CONCLUIU == 12 ,'TP_ANO_CONCLUIU_']='6'\n",
        "df_ft.loc[df_ft.TP_ANO_CONCLUIU == 13 ,'TP_ANO_CONCLUIU_']='6'\n",
        "df_ft.loc[df_ft.TP_ANO_CONCLUIU == 14 ,'TP_ANO_CONCLUIU_']='6'\n",
        "df_ft.loc[df_ft.TP_ANO_CONCLUIU == 15 ,'TP_ANO_CONCLUIU_']='6'\n",
        "df_ft.loc[df_ft.TP_ANO_CONCLUIU == 16 ,'TP_ANO_CONCLUIU_']='6'"
      ],
      "metadata": {
        "id": "gb-147ngPfhs"
      },
      "execution_count": null,
      "outputs": []
    },
    {
      "cell_type": "markdown",
      "source": [
        "- Tipo de Escola"
      ],
      "metadata": {
        "id": "Ehxbnf7PQ9n9"
      }
    },
    {
      "cell_type": "code",
      "source": [
        "df_ft.loc[df_ft.TP_ESCOLA == 1 ,'TP_ESCOLA_']='1'\n",
        "df_ft.loc[df_ft.TP_ESCOLA == 2 ,'TP_ESCOLA_']='2'\n",
        "df_ft.loc[df_ft.TP_ESCOLA == 3 ,'TP_ESCOLA_']='3'\n",
        "df_ft.loc[df_ft.TP_ESCOLA == 4 ,'TP_ESCOLA_']='1'"
      ],
      "metadata": {
        "id": "YskTTCSbSi9V"
      },
      "execution_count": null,
      "outputs": []
    },
    {
      "cell_type": "markdown",
      "source": [
        "- Tipo de Ensino"
      ],
      "metadata": {
        "id": "Y39fm66cT2SV"
      }
    },
    {
      "cell_type": "code",
      "source": [
        "df_ft.loc[df_ft.TP_ENSINO == 1 ,'TP_ENSINO_']='1'\n",
        "df_ft.loc[df_ft.TP_ENSINO == 2 ,'TP_ENSINO_']='2'\n",
        "df_ft.loc[df_ft.TP_ENSINO == 3 ,'TP_ENSINO_']='1' # Incluido no ensino regular. Apenas 2018 tem indicado\n",
        "df_ft.loc[df_ft.TP_ENSINO == 9 ,'TP_ENSINO_']='9'"
      ],
      "metadata": {
        "id": "Ws2VGMEwUcRV"
      },
      "execution_count": null,
      "outputs": []
    },
    {
      "cell_type": "markdown",
      "source": [
        "- Quantidade de Moradores na Residência"
      ],
      "metadata": {
        "id": "xaFjwhgur8wx"
      }
    },
    {
      "cell_type": "code",
      "source": [
        "df_ft.loc[df_ft.Q005 == 1 ,'Q005_']='1'\n",
        "df_ft.loc[df_ft.Q005 == 2 ,'Q005_']='1'\n",
        "df_ft.loc[df_ft.Q005 == 3 ,'Q005_']='1'\n",
        "df_ft.loc[df_ft.Q005 == 4 ,'Q005_']='1'\n",
        "df_ft.loc[df_ft.Q005 == 5 ,'Q005_']='2'\n",
        "df_ft.loc[df_ft.Q005 == 6 ,'Q005_']='3'\n",
        "df_ft.loc[df_ft.Q005 == 7 ,'Q005_']='4'\n",
        "df_ft.loc[df_ft.Q005 == 8 ,'Q005_']='5'\n",
        "df_ft.loc[df_ft.Q005 == 9 ,'Q005_']='5'\n",
        "df_ft.loc[df_ft.Q005 == 10 ,'Q005_']='5'\n",
        "df_ft.loc[df_ft.Q005 == 11 ,'Q005_']='5'\n",
        "df_ft.loc[df_ft.Q005 == 12 ,'Q005_']='5'\n",
        "df_ft.loc[df_ft.Q005 == 13 ,'Q005_']='5'\n",
        "df_ft.loc[df_ft.Q005 == 14 ,'Q005_']='5'\n",
        "df_ft.loc[df_ft.Q005 == 15 ,'Q005_']='5'\n",
        "df_ft.loc[df_ft.Q005 == 16 ,'Q005_']='5'\n",
        "df_ft.loc[df_ft.Q005 == 17 ,'Q005_']='5'\n",
        "df_ft.loc[df_ft.Q005 == 18 ,'Q005_']='5'\n",
        "df_ft.loc[df_ft.Q005 == 19 ,'Q005_']='5'\n",
        "df_ft.loc[df_ft.Q005 == 20 ,'Q005_']='5'"
      ],
      "metadata": {
        "id": "DI5SVBvgsAW-"
      },
      "execution_count": null,
      "outputs": []
    },
    {
      "cell_type": "markdown",
      "source": [
        "- Renda"
      ],
      "metadata": {
        "id": "_G3MiZ6AtUKI"
      }
    },
    {
      "cell_type": "code",
      "source": [
        "df_ft.loc[df_ft.Q006 == 'A' ,'Q006_']='1'\n",
        "df_ft.loc[df_ft.Q006 == 'B' ,'Q006_']='2'\n",
        "df_ft.loc[df_ft.Q006 == 'C' ,'Q006_']='3'\n",
        "df_ft.loc[df_ft.Q006 == 'D' ,'Q006_']='4'\n",
        "df_ft.loc[df_ft.Q006 == 'E' ,'Q006_']='5'\n",
        "df_ft.loc[df_ft.Q006 == 'F' ,'Q006_']='6'\n",
        "df_ft.loc[df_ft.Q006 == 'G' ,'Q006_']='6'\n",
        "df_ft.loc[df_ft.Q006 == 'H' ,'Q006_']='7'\n",
        "df_ft.loc[df_ft.Q006 == 'I' ,'Q006_']='7'\n",
        "df_ft.loc[df_ft.Q006 == 'J' ,'Q006_']='8'\n",
        "df_ft.loc[df_ft.Q006 == 'K' ,'Q006_']='8'\n",
        "df_ft.loc[df_ft.Q006 == 'L' ,'Q006_']='9'\n",
        "df_ft.loc[df_ft.Q006 == 'M' ,'Q006_']='9'\n",
        "df_ft.loc[df_ft.Q006 == 'N' ,'Q006_']='10'\n",
        "df_ft.loc[df_ft.Q006 == 'O' ,'Q006_']='10'\n",
        "df_ft.loc[df_ft.Q006 == 'P' ,'Q006_']='10'\n",
        "df_ft.loc[df_ft.Q006 == 'Q' ,'Q006_']='10'"
      ],
      "metadata": {
        "id": "jmnD8XO0tUUS"
      },
      "execution_count": null,
      "outputs": []
    },
    {
      "cell_type": "markdown",
      "source": [
        "- Ter Empregada Doméstica"
      ],
      "metadata": {
        "id": "RFzwvvhIvHc4"
      }
    },
    {
      "cell_type": "code",
      "source": [
        "df_ft.loc[df_ft.Q007 == 'A' ,'Q007_']='1'\n",
        "df_ft.loc[df_ft.Q007 == 'B' ,'Q007_']='2'\n",
        "df_ft.loc[df_ft.Q007 == 'C' ,'Q007_']='2'\n",
        "df_ft.loc[df_ft.Q007 == 'D' ,'Q007_']='2'"
      ],
      "metadata": {
        "id": "MAVGaCpevHmZ"
      },
      "execution_count": null,
      "outputs": []
    },
    {
      "cell_type": "markdown",
      "source": [
        "- Qtde de Banheiros"
      ],
      "metadata": {
        "id": "KmYHiLuzwGIj"
      }
    },
    {
      "cell_type": "code",
      "source": [
        "df_ft.loc[df_ft.Q008 == 'A' ,'Q008_']='1'\n",
        "df_ft.loc[df_ft.Q008 == 'B' ,'Q008_']='1'\n",
        "df_ft.loc[df_ft.Q008 == 'C' ,'Q008_']='2'\n",
        "df_ft.loc[df_ft.Q008 == 'D' ,'Q008_']='3'\n",
        "df_ft.loc[df_ft.Q008 == 'E' ,'Q008_']='4'"
      ],
      "metadata": {
        "id": "AfXP2wY0wGSm"
      },
      "execution_count": null,
      "outputs": []
    },
    {
      "cell_type": "markdown",
      "source": [
        "- Qtde de Quartos"
      ],
      "metadata": {
        "id": "0wsN9ifSwuYc"
      }
    },
    {
      "cell_type": "code",
      "source": [
        "df_ft.loc[df_ft.Q009 == 'A' ,'Q009_']='1'\n",
        "df_ft.loc[df_ft.Q009 == 'B' ,'Q009_']='1'\n",
        "df_ft.loc[df_ft.Q009 == 'C' ,'Q009_']='2'\n",
        "df_ft.loc[df_ft.Q009 == 'D' ,'Q009_']='3'\n",
        "df_ft.loc[df_ft.Q009 == 'E' ,'Q009_']='4'"
      ],
      "metadata": {
        "id": "RdhjBpzuwuhC"
      },
      "execution_count": null,
      "outputs": []
    },
    {
      "cell_type": "markdown",
      "source": [
        "- Qtde de Carros"
      ],
      "metadata": {
        "id": "tsLiUC7VxNoN"
      }
    },
    {
      "cell_type": "code",
      "source": [
        "df_ft.loc[df_ft.Q010 == 'A' ,'Q010_']='1'\n",
        "df_ft.loc[df_ft.Q010 == 'B' ,'Q010_']='2'\n",
        "df_ft.loc[df_ft.Q010 == 'C' ,'Q010_']='3'\n",
        "df_ft.loc[df_ft.Q010 == 'D' ,'Q010_']='4'\n",
        "df_ft.loc[df_ft.Q010 == 'E' ,'Q010_']='4'"
      ],
      "metadata": {
        "id": "2TLqMB63xNwx"
      },
      "execution_count": null,
      "outputs": []
    },
    {
      "cell_type": "markdown",
      "source": [
        "- Qtde de Motos"
      ],
      "metadata": {
        "id": "MIe-ytOlxqzh"
      }
    },
    {
      "cell_type": "code",
      "source": [
        "df_ft.loc[df_ft.Q011 == 'A' ,'Q011_']='1'\n",
        "df_ft.loc[df_ft.Q011 == 'B' ,'Q011_']='2'\n",
        "df_ft.loc[df_ft.Q011 == 'C' ,'Q011_']='3'\n",
        "df_ft.loc[df_ft.Q011 == 'D' ,'Q011_']='3'\n",
        "df_ft.loc[df_ft.Q011 == 'E' ,'Q011_']='3'"
      ],
      "metadata": {
        "id": "XsBLvQ4Lxq8U"
      },
      "execution_count": null,
      "outputs": []
    },
    {
      "cell_type": "markdown",
      "source": [
        "- Qtde de Geladeiras"
      ],
      "metadata": {
        "id": "BMHN5x5tyowt"
      }
    },
    {
      "cell_type": "code",
      "source": [
        "df_ft.loc[df_ft.Q012 == 'A' ,'Q012_']='1'\n",
        "df_ft.loc[df_ft.Q012 == 'B' ,'Q012_']='2'\n",
        "df_ft.loc[df_ft.Q012 == 'C' ,'Q012_']='3'\n",
        "df_ft.loc[df_ft.Q012 == 'D' ,'Q012_']='3'\n",
        "df_ft.loc[df_ft.Q012 == 'E' ,'Q012_']='3'"
      ],
      "metadata": {
        "id": "ppl49W2hyo8C"
      },
      "execution_count": null,
      "outputs": []
    },
    {
      "cell_type": "markdown",
      "source": [
        "- Qtde de Freezer"
      ],
      "metadata": {
        "id": "YgSjY8HQy5dE"
      }
    },
    {
      "cell_type": "code",
      "source": [
        "df_ft.loc[df_ft.Q013 == 'A' ,'Q013_']='1'\n",
        "df_ft.loc[df_ft.Q013 == 'B' ,'Q013_']='2'\n",
        "df_ft.loc[df_ft.Q013 == 'C' ,'Q013_']='3'\n",
        "df_ft.loc[df_ft.Q013 == 'D' ,'Q013_']='3'\n",
        "df_ft.loc[df_ft.Q013 == 'E' ,'Q013_']='3'"
      ],
      "metadata": {
        "id": "Ual5LhU4y5qR"
      },
      "execution_count": null,
      "outputs": []
    },
    {
      "cell_type": "markdown",
      "source": [
        "- Qtde de Lavadora de Roupa"
      ],
      "metadata": {
        "id": "kfvX_DZCzgww"
      }
    },
    {
      "cell_type": "code",
      "source": [
        "df_ft.loc[df_ft.Q014 == 'A' ,'Q014_']='1'\n",
        "df_ft.loc[df_ft.Q014 == 'B' ,'Q014_']='2'\n",
        "df_ft.loc[df_ft.Q014 == 'C' ,'Q014_']='3'\n",
        "df_ft.loc[df_ft.Q014 == 'D' ,'Q014_']='3'\n",
        "df_ft.loc[df_ft.Q014 == 'E' ,'Q014_']='3'"
      ],
      "metadata": {
        "id": "qujTGuRMzg7X"
      },
      "execution_count": null,
      "outputs": []
    },
    {
      "cell_type": "markdown",
      "source": [
        "- Qtde de Secadora de Roupa"
      ],
      "metadata": {
        "id": "bUdAlDA9z-lI"
      }
    },
    {
      "cell_type": "code",
      "source": [
        "df_ft.loc[df_ft.Q015 == 'A' ,'Q015_']='1'\n",
        "df_ft.loc[df_ft.Q015 == 'B' ,'Q015_']='2'\n",
        "df_ft.loc[df_ft.Q015 == 'C' ,'Q015_']='2'\n",
        "df_ft.loc[df_ft.Q015 == 'D' ,'Q015_']='2'\n",
        "df_ft.loc[df_ft.Q015 == 'E' ,'Q015_']='2'"
      ],
      "metadata": {
        "id": "Pm1MyRT8z-tX"
      },
      "execution_count": null,
      "outputs": []
    },
    {
      "cell_type": "markdown",
      "source": [
        "- Qtde de Microondas"
      ],
      "metadata": {
        "id": "SJOillJJ0Vxn"
      }
    },
    {
      "cell_type": "code",
      "source": [
        "df_ft.loc[df_ft.Q016 == 'A' ,'Q016_']='1'\n",
        "df_ft.loc[df_ft.Q016 == 'B' ,'Q016_']='2'\n",
        "df_ft.loc[df_ft.Q016 == 'C' ,'Q016_']='2'\n",
        "df_ft.loc[df_ft.Q016 == 'D' ,'Q016_']='2'\n",
        "df_ft.loc[df_ft.Q016 == 'E' ,'Q016_']='2'"
      ],
      "metadata": {
        "id": "cXqQdRPh0V4K"
      },
      "execution_count": null,
      "outputs": []
    },
    {
      "cell_type": "markdown",
      "source": [
        "- Qtde de Lavadora de Louças"
      ],
      "metadata": {
        "id": "5I-6DAVu0lyu"
      }
    },
    {
      "cell_type": "code",
      "source": [
        "df_ft.loc[df_ft.Q017 == 'A' ,'Q017_']='1'\n",
        "df_ft.loc[df_ft.Q017 == 'B' ,'Q017_']='2'\n",
        "df_ft.loc[df_ft.Q017 == 'C' ,'Q017_']='2'\n",
        "df_ft.loc[df_ft.Q017 == 'D' ,'Q017_']='2'\n",
        "df_ft.loc[df_ft.Q017 == 'E' ,'Q017_']='2'"
      ],
      "metadata": {
        "id": "QtCOPNZq0l7q"
      },
      "execution_count": null,
      "outputs": []
    },
    {
      "cell_type": "markdown",
      "source": [
        "- Qtde de TVs"
      ],
      "metadata": {
        "id": "qnUe4FCF1I4V"
      }
    },
    {
      "cell_type": "code",
      "source": [
        "df_ft.loc[df_ft.Q019 == 'A' ,'Q019_']='1'\n",
        "df_ft.loc[df_ft.Q019 == 'B' ,'Q019_']='2'\n",
        "df_ft.loc[df_ft.Q019 == 'C' ,'Q019_']='3'\n",
        "df_ft.loc[df_ft.Q019 == 'D' ,'Q019_']='4'\n",
        "df_ft.loc[df_ft.Q019 == 'E' ,'Q019_']='5'"
      ],
      "metadata": {
        "id": "SAoC34rG02IY"
      },
      "execution_count": null,
      "outputs": []
    },
    {
      "cell_type": "markdown",
      "source": [
        "- Qtde de computadores"
      ],
      "metadata": {
        "id": "rUTcrnjT2cHU"
      }
    },
    {
      "cell_type": "code",
      "source": [
        "df_ft.loc[df_ft.Q024 == 'A' ,'Q024_']='1'\n",
        "df_ft.loc[df_ft.Q024 == 'B' ,'Q024_']='2'\n",
        "df_ft.loc[df_ft.Q024 == 'C' ,'Q024_']='3'\n",
        "df_ft.loc[df_ft.Q024 == 'D' ,'Q024_']='4'\n",
        "df_ft.loc[df_ft.Q024 == 'E' ,'Q024_']='4'"
      ],
      "metadata": {
        "id": "Rs9iwMXf2cOn"
      },
      "execution_count": null,
      "outputs": []
    },
    {
      "cell_type": "markdown",
      "source": [
        "# **Definição de Variáveis**"
      ],
      "metadata": {
        "id": "hiBS1KNcEI1M"
      }
    },
    {
      "cell_type": "code",
      "source": [
        "df_ft.columns"
      ],
      "metadata": {
        "id": "jmWQjMy2zXqd",
        "colab": {
          "base_uri": "https://localhost:8080/"
        },
        "outputId": "d06dbd8b-97f1-4e09-e654-c30f97a906e2"
      },
      "execution_count": null,
      "outputs": [
        {
          "output_type": "execute_result",
          "data": {
            "text/plain": [
              "Index(['NU_INSCRICAO', 'NU_ANO', 'TP_FAIXA_ETARIA', 'TP_SEXO',\n",
              "       'TP_ESTADO_CIVIL', 'TP_COR_RACA', 'TP_ST_CONCLUSAO', 'TP_ANO_CONCLUIU',\n",
              "       'TP_ESCOLA', 'TP_ENSINO',\n",
              "       ...\n",
              "       'Q005_', 'Q006_', 'Q012_', 'Q013_', 'Q014_', 'Q015_', 'Q016_', 'Q017_',\n",
              "       'Q019_', 'Q024_'],\n",
              "      dtype='object', length=108)"
            ]
          },
          "metadata": {},
          "execution_count": 71
        }
      ]
    },
    {
      "cell_type": "code",
      "source": [
        "df_varquali = df_ft[['TP_FAIXA_ETARIA','TP_FAIXA_ETARIA_',\n",
        "                     'TP_SEXO',\n",
        "                     'TP_ESTADO_CIVIL', 'TP_ESTADO_CIVIL_',\n",
        "                     'TP_COR_RACA', 'TP_COR_RACA_',\n",
        "                     'TP_ESCOLA', 'TP_ESCOLA_',\n",
        "                     'TP_ENSINO', 'TP_ENSINO_',\n",
        "                     'SG_UF_ESC',\n",
        "                     'SG_UF_PROVA', 'SG_UF_PROVA_',\n",
        "                     'TP_ANO_CONCLUIU', 'TP_ANO_CONCLUIU_',\n",
        "                     'TP_LINGUA',\n",
        "                     'Q001',\n",
        "                     'Q002',\n",
        "                     'Q003',\n",
        "                     'Q004',\n",
        "                     'Q005', 'Q005_',\n",
        "                     'Q006', 'Q006_',\n",
        "                     'Q007', 'Q007_',\n",
        "                     'Q008', 'Q008_',\n",
        "                     'Q009', 'Q009_',\n",
        "                     'Q010', 'Q010_',\n",
        "                     'Q011', 'Q011_',\n",
        "                     'Q012', 'Q012_',\n",
        "                     'Q013', 'Q013_',\n",
        "                     'Q014', 'Q014_',\n",
        "                     'Q015', 'Q015_',\n",
        "                     'Q016', 'Q016_',\n",
        "                     'Q017', 'Q017_',\n",
        "                     'Q018',\n",
        "                     'Q019', 'Q019_',\n",
        "                     'Q020',\n",
        "                     'Q021',\n",
        "                     'Q022',\n",
        "                     'Q023',\n",
        "                     'Q024', 'Q024_',\n",
        "                     'Q025',\n",
        "                     'Sum_TIC3', 'Sum_TIC3_',\n",
        "                     'Sum_TIC5', 'Sum_TIC5_',\n",
        "                     'Sum_Elet', 'Sum_Elet_',\n",
        "                     'Esc_Max',\n",
        "                     'Car_Mot', 'Car_Mot_',\n",
        "                     'Tot_PtCasa', 'Tot_PtCasa_',\n",
        "                     'RegGeo_Prova',\n",
        "                     'Ter_Cel', 'Ter_Com',\n",
        "                     'Sum_Target_2']]"
      ],
      "metadata": {
        "id": "Kq_8tKS0dbKs"
      },
      "execution_count": null,
      "outputs": []
    },
    {
      "cell_type": "code",
      "source": [
        "df_varquali.info()"
      ],
      "metadata": {
        "id": "ZCCRs5MxUbly",
        "colab": {
          "base_uri": "https://localhost:8080/"
        },
        "outputId": "fd92e682-a1ad-45e3-b25d-07b558eaed95"
      },
      "execution_count": null,
      "outputs": [
        {
          "output_type": "stream",
          "name": "stdout",
          "text": [
            "<class 'pandas.core.frame.DataFrame'>\n",
            "RangeIndex: 3369104 entries, 0 to 3369103\n",
            "Data columns (total 72 columns):\n",
            " #   Column            Dtype  \n",
            "---  ------            -----  \n",
            " 0   TP_FAIXA_ETARIA   int64  \n",
            " 1   TP_FAIXA_ETARIA_  object \n",
            " 2   TP_SEXO           object \n",
            " 3   TP_ESTADO_CIVIL   int64  \n",
            " 4   TP_ESTADO_CIVIL_  object \n",
            " 5   TP_COR_RACA       int64  \n",
            " 6   TP_COR_RACA_      object \n",
            " 7   TP_ESCOLA         int64  \n",
            " 8   TP_ESCOLA_        object \n",
            " 9   TP_ENSINO         int64  \n",
            " 10  TP_ENSINO_        object \n",
            " 11  SG_UF_ESC         object \n",
            " 12  SG_UF_PROVA       object \n",
            " 13  SG_UF_PROVA_      int64  \n",
            " 14  TP_ANO_CONCLUIU   int64  \n",
            " 15  TP_ANO_CONCLUIU_  object \n",
            " 16  TP_LINGUA         int64  \n",
            " 17  Q001              object \n",
            " 18  Q002              object \n",
            " 19  Q003              object \n",
            " 20  Q004              object \n",
            " 21  Q005              float64\n",
            " 22  Q005_             object \n",
            " 23  Q006              object \n",
            " 24  Q006_             object \n",
            " 25  Q007              object \n",
            " 26  Q007_             object \n",
            " 27  Q008              object \n",
            " 28  Q008_             object \n",
            " 29  Q009              object \n",
            " 30  Q009_             object \n",
            " 31  Q010              object \n",
            " 32  Q010_             object \n",
            " 33  Q011              object \n",
            " 34  Q011_             object \n",
            " 35  Q012              object \n",
            " 36  Q012_             object \n",
            " 37  Q013              object \n",
            " 38  Q013_             object \n",
            " 39  Q014              object \n",
            " 40  Q014_             object \n",
            " 41  Q015              object \n",
            " 42  Q015_             object \n",
            " 43  Q016              object \n",
            " 44  Q016_             object \n",
            " 45  Q017              object \n",
            " 46  Q017_             object \n",
            " 47  Q018              object \n",
            " 48  Q019              object \n",
            " 49  Q019_             object \n",
            " 50  Q020              object \n",
            " 51  Q021              object \n",
            " 52  Q022              object \n",
            " 53  Q023              object \n",
            " 54  Q024              object \n",
            " 55  Q024_             object \n",
            " 56  Q025              object \n",
            " 57  Sum_TIC3          int64  \n",
            " 58  Sum_TIC3_         object \n",
            " 59  Sum_TIC5          int64  \n",
            " 60  Sum_TIC5_         object \n",
            " 61  Sum_Elet          int64  \n",
            " 62  Sum_Elet_         object \n",
            " 63  Esc_Max           object \n",
            " 64  Car_Mot           object \n",
            " 65  Car_Mot_          object \n",
            " 66  Tot_PtCasa        int64  \n",
            " 67  Tot_PtCasa_       object \n",
            " 68  RegGeo_Prova      object \n",
            " 69  Ter_Cel           int64  \n",
            " 70  Ter_Com           int64  \n",
            " 71  Sum_Target_2      int64  \n",
            "dtypes: float64(1), int64(15), object(56)\n",
            "memory usage: 1.8+ GB\n"
          ]
        }
      ]
    },
    {
      "cell_type": "markdown",
      "source": [
        "# **Análise das Categorias das Variáveis**"
      ],
      "metadata": {
        "id": "2YndI83d0Yzj"
      }
    },
    {
      "cell_type": "code",
      "source": [
        "table_categ = pd.DataFrame()\n",
        "totais_valid = pd.DataFrame()\n",
        "i = 0\n",
        "\n",
        "for column in df_varquali:\n",
        "  var = df_varquali.columns[i]\n",
        "  c1 = df_varquali[column].value_counts().sort_index()\n",
        "  c2 = round(df_varquali[column].value_counts().sort_index()/df_varquali.shape[0] * 100,2)\n",
        "  c3 = df_varquali.groupby([column])['Sum_Target_2'].sum()\n",
        "  c4 = round(c3/df_ft['Sum_Target_2'].sum() * 100, 2)\n",
        "  c5 = c1 - c3\n",
        "  c6 = round(c5/df_ft['Sum_Target_2'].loc[df_ft.Sum_Target_2 == 0].count() * 100, 2)\n",
        "  c7 = round(c3/c1 * 100, 2)\n",
        "  c8 = round(c4/c6,2)\n",
        "\n",
        "  table = pd.concat([c1, c2, c3, c4, c5, c6, c7, c8], axis=1)\n",
        "  table.columns = ['n', '% Total', 'n AD', '% AD Total','n BD', '% BD Total', '% AD Categoria', 'Razão AD/BD']\n",
        "\n",
        "  totais = round(table.sum())\n",
        "  totais_ = pd.DataFrame(data=totais, columns=['Total'])\n",
        "  totais_t = totais_.transpose()\n",
        "  totais_valid = pd.concat([totais_valid, totais_t])\n",
        "\n",
        "  table['Variavel'] = var\n",
        "  table_categ = pd.concat([table_categ, table])\n",
        "  i = i + 1\n",
        "\n",
        "  #n = table_categ.shape\n",
        "  #table_categ.loc[n[0]+1]=['','','','','',''] # Criar linha vazia entre as tabelas\n",
        "\n",
        "table_categ['Ano'] = 2018\n",
        "\n",
        "table_categ.to_excel('/content/drive/MyDrive/MBA_TCC/RESULTADOS/Table_Categorias_2018.xlsx')\n",
        "totais_valid.to_excel('/content/drive/MyDrive/MBA_TCC/RESULTADOS/Totais_Table_Categorias_2018.xlsx')"
      ],
      "metadata": {
        "id": "axxA261-eBba"
      },
      "execution_count": null,
      "outputs": []
    },
    {
      "cell_type": "markdown",
      "source": [
        "# **Análises Adicionais**"
      ],
      "metadata": {
        "id": "ECCS8445owAd"
      }
    },
    {
      "cell_type": "code",
      "source": [
        "df_teste = df_ft.loc[df_ft['Sum_Target_2'] == 1]\n",
        "df_teste.shape"
      ],
      "metadata": {
        "id": "wzEdYZ4TpOGi",
        "colab": {
          "base_uri": "https://localhost:8080/"
        },
        "outputId": "129a2011-fd2b-40f5-e33a-bb875721f1e5"
      },
      "execution_count": null,
      "outputs": [
        {
          "output_type": "execute_result",
          "data": {
            "text/plain": [
              "(1634879, 108)"
            ]
          },
          "metadata": {},
          "execution_count": 75
        }
      ]
    },
    {
      "cell_type": "code",
      "source": [
        "pd.crosstab(df_ft.TP_FAIXA_ETARIA,df_ft.TP_ST_CONCLUSAO, margins=True, dropna=False)"
      ],
      "metadata": {
        "id": "fppQXkH9o26H",
        "colab": {
          "base_uri": "https://localhost:8080/",
          "height": 739
        },
        "outputId": "e7734e22-3681-42bb-aafc-54fcb1edcdf9"
      },
      "execution_count": null,
      "outputs": [
        {
          "output_type": "execute_result",
          "data": {
            "text/plain": [
              "TP_ST_CONCLUSAO        1        2      All\n",
              "TP_FAIXA_ETARIA                           \n",
              "1                    877    33360    34237\n",
              "2                  22495   579792   602287\n",
              "3                 266554   444444   710998\n",
              "4                 328602   112977   441579\n",
              "5                 250585    37500   288085\n",
              "6                 194727    15051   209778\n",
              "7                 148562     8021   156583\n",
              "8                 118103     5330   123433\n",
              "9                  93856     3722    97578\n",
              "10                 76124     3002    79126\n",
              "11                240147     9046   249193\n",
              "12                139533     5464   144997\n",
              "13                 94609     4275    98884\n",
              "14                 56294     2837    59131\n",
              "15                 35016     1869    36885\n",
              "16                 20113     1093    21206\n",
              "17                  9229      577     9806\n",
              "18                  3450      216     3666\n",
              "19                  1152       72     1224\n",
              "20                   401       27      428\n",
              "All              2100429  1268675  3369104"
            ],
            "text/html": [
              "\n",
              "  <div id=\"df-3ba9c7dd-751e-4f9d-82e6-4fb42a9e5a5f\">\n",
              "    <div class=\"colab-df-container\">\n",
              "      <div>\n",
              "<style scoped>\n",
              "    .dataframe tbody tr th:only-of-type {\n",
              "        vertical-align: middle;\n",
              "    }\n",
              "\n",
              "    .dataframe tbody tr th {\n",
              "        vertical-align: top;\n",
              "    }\n",
              "\n",
              "    .dataframe thead th {\n",
              "        text-align: right;\n",
              "    }\n",
              "</style>\n",
              "<table border=\"1\" class=\"dataframe\">\n",
              "  <thead>\n",
              "    <tr style=\"text-align: right;\">\n",
              "      <th>TP_ST_CONCLUSAO</th>\n",
              "      <th>1</th>\n",
              "      <th>2</th>\n",
              "      <th>All</th>\n",
              "    </tr>\n",
              "    <tr>\n",
              "      <th>TP_FAIXA_ETARIA</th>\n",
              "      <th></th>\n",
              "      <th></th>\n",
              "      <th></th>\n",
              "    </tr>\n",
              "  </thead>\n",
              "  <tbody>\n",
              "    <tr>\n",
              "      <th>1</th>\n",
              "      <td>877</td>\n",
              "      <td>33360</td>\n",
              "      <td>34237</td>\n",
              "    </tr>\n",
              "    <tr>\n",
              "      <th>2</th>\n",
              "      <td>22495</td>\n",
              "      <td>579792</td>\n",
              "      <td>602287</td>\n",
              "    </tr>\n",
              "    <tr>\n",
              "      <th>3</th>\n",
              "      <td>266554</td>\n",
              "      <td>444444</td>\n",
              "      <td>710998</td>\n",
              "    </tr>\n",
              "    <tr>\n",
              "      <th>4</th>\n",
              "      <td>328602</td>\n",
              "      <td>112977</td>\n",
              "      <td>441579</td>\n",
              "    </tr>\n",
              "    <tr>\n",
              "      <th>5</th>\n",
              "      <td>250585</td>\n",
              "      <td>37500</td>\n",
              "      <td>288085</td>\n",
              "    </tr>\n",
              "    <tr>\n",
              "      <th>6</th>\n",
              "      <td>194727</td>\n",
              "      <td>15051</td>\n",
              "      <td>209778</td>\n",
              "    </tr>\n",
              "    <tr>\n",
              "      <th>7</th>\n",
              "      <td>148562</td>\n",
              "      <td>8021</td>\n",
              "      <td>156583</td>\n",
              "    </tr>\n",
              "    <tr>\n",
              "      <th>8</th>\n",
              "      <td>118103</td>\n",
              "      <td>5330</td>\n",
              "      <td>123433</td>\n",
              "    </tr>\n",
              "    <tr>\n",
              "      <th>9</th>\n",
              "      <td>93856</td>\n",
              "      <td>3722</td>\n",
              "      <td>97578</td>\n",
              "    </tr>\n",
              "    <tr>\n",
              "      <th>10</th>\n",
              "      <td>76124</td>\n",
              "      <td>3002</td>\n",
              "      <td>79126</td>\n",
              "    </tr>\n",
              "    <tr>\n",
              "      <th>11</th>\n",
              "      <td>240147</td>\n",
              "      <td>9046</td>\n",
              "      <td>249193</td>\n",
              "    </tr>\n",
              "    <tr>\n",
              "      <th>12</th>\n",
              "      <td>139533</td>\n",
              "      <td>5464</td>\n",
              "      <td>144997</td>\n",
              "    </tr>\n",
              "    <tr>\n",
              "      <th>13</th>\n",
              "      <td>94609</td>\n",
              "      <td>4275</td>\n",
              "      <td>98884</td>\n",
              "    </tr>\n",
              "    <tr>\n",
              "      <th>14</th>\n",
              "      <td>56294</td>\n",
              "      <td>2837</td>\n",
              "      <td>59131</td>\n",
              "    </tr>\n",
              "    <tr>\n",
              "      <th>15</th>\n",
              "      <td>35016</td>\n",
              "      <td>1869</td>\n",
              "      <td>36885</td>\n",
              "    </tr>\n",
              "    <tr>\n",
              "      <th>16</th>\n",
              "      <td>20113</td>\n",
              "      <td>1093</td>\n",
              "      <td>21206</td>\n",
              "    </tr>\n",
              "    <tr>\n",
              "      <th>17</th>\n",
              "      <td>9229</td>\n",
              "      <td>577</td>\n",
              "      <td>9806</td>\n",
              "    </tr>\n",
              "    <tr>\n",
              "      <th>18</th>\n",
              "      <td>3450</td>\n",
              "      <td>216</td>\n",
              "      <td>3666</td>\n",
              "    </tr>\n",
              "    <tr>\n",
              "      <th>19</th>\n",
              "      <td>1152</td>\n",
              "      <td>72</td>\n",
              "      <td>1224</td>\n",
              "    </tr>\n",
              "    <tr>\n",
              "      <th>20</th>\n",
              "      <td>401</td>\n",
              "      <td>27</td>\n",
              "      <td>428</td>\n",
              "    </tr>\n",
              "    <tr>\n",
              "      <th>All</th>\n",
              "      <td>2100429</td>\n",
              "      <td>1268675</td>\n",
              "      <td>3369104</td>\n",
              "    </tr>\n",
              "  </tbody>\n",
              "</table>\n",
              "</div>\n",
              "      <button class=\"colab-df-convert\" onclick=\"convertToInteractive('df-3ba9c7dd-751e-4f9d-82e6-4fb42a9e5a5f')\"\n",
              "              title=\"Convert this dataframe to an interactive table.\"\n",
              "              style=\"display:none;\">\n",
              "        \n",
              "  <svg xmlns=\"http://www.w3.org/2000/svg\" height=\"24px\"viewBox=\"0 0 24 24\"\n",
              "       width=\"24px\">\n",
              "    <path d=\"M0 0h24v24H0V0z\" fill=\"none\"/>\n",
              "    <path d=\"M18.56 5.44l.94 2.06.94-2.06 2.06-.94-2.06-.94-.94-2.06-.94 2.06-2.06.94zm-11 1L8.5 8.5l.94-2.06 2.06-.94-2.06-.94L8.5 2.5l-.94 2.06-2.06.94zm10 10l.94 2.06.94-2.06 2.06-.94-2.06-.94-.94-2.06-.94 2.06-2.06.94z\"/><path d=\"M17.41 7.96l-1.37-1.37c-.4-.4-.92-.59-1.43-.59-.52 0-1.04.2-1.43.59L10.3 9.45l-7.72 7.72c-.78.78-.78 2.05 0 2.83L4 21.41c.39.39.9.59 1.41.59.51 0 1.02-.2 1.41-.59l7.78-7.78 2.81-2.81c.8-.78.8-2.07 0-2.86zM5.41 20L4 18.59l7.72-7.72 1.47 1.35L5.41 20z\"/>\n",
              "  </svg>\n",
              "      </button>\n",
              "      \n",
              "  <style>\n",
              "    .colab-df-container {\n",
              "      display:flex;\n",
              "      flex-wrap:wrap;\n",
              "      gap: 12px;\n",
              "    }\n",
              "\n",
              "    .colab-df-convert {\n",
              "      background-color: #E8F0FE;\n",
              "      border: none;\n",
              "      border-radius: 50%;\n",
              "      cursor: pointer;\n",
              "      display: none;\n",
              "      fill: #1967D2;\n",
              "      height: 32px;\n",
              "      padding: 0 0 0 0;\n",
              "      width: 32px;\n",
              "    }\n",
              "\n",
              "    .colab-df-convert:hover {\n",
              "      background-color: #E2EBFA;\n",
              "      box-shadow: 0px 1px 2px rgba(60, 64, 67, 0.3), 0px 1px 3px 1px rgba(60, 64, 67, 0.15);\n",
              "      fill: #174EA6;\n",
              "    }\n",
              "\n",
              "    [theme=dark] .colab-df-convert {\n",
              "      background-color: #3B4455;\n",
              "      fill: #D2E3FC;\n",
              "    }\n",
              "\n",
              "    [theme=dark] .colab-df-convert:hover {\n",
              "      background-color: #434B5C;\n",
              "      box-shadow: 0px 1px 3px 1px rgba(0, 0, 0, 0.15);\n",
              "      filter: drop-shadow(0px 1px 2px rgba(0, 0, 0, 0.3));\n",
              "      fill: #FFFFFF;\n",
              "    }\n",
              "  </style>\n",
              "\n",
              "      <script>\n",
              "        const buttonEl =\n",
              "          document.querySelector('#df-3ba9c7dd-751e-4f9d-82e6-4fb42a9e5a5f button.colab-df-convert');\n",
              "        buttonEl.style.display =\n",
              "          google.colab.kernel.accessAllowed ? 'block' : 'none';\n",
              "\n",
              "        async function convertToInteractive(key) {\n",
              "          const element = document.querySelector('#df-3ba9c7dd-751e-4f9d-82e6-4fb42a9e5a5f');\n",
              "          const dataTable =\n",
              "            await google.colab.kernel.invokeFunction('convertToInteractive',\n",
              "                                                     [key], {});\n",
              "          if (!dataTable) return;\n",
              "\n",
              "          const docLinkHtml = 'Like what you see? Visit the ' +\n",
              "            '<a target=\"_blank\" href=https://colab.research.google.com/notebooks/data_table.ipynb>data table notebook</a>'\n",
              "            + ' to learn more about interactive tables.';\n",
              "          element.innerHTML = '';\n",
              "          dataTable['output_type'] = 'display_data';\n",
              "          await google.colab.output.renderOutput(dataTable, element);\n",
              "          const docLink = document.createElement('div');\n",
              "          docLink.innerHTML = docLinkHtml;\n",
              "          element.appendChild(docLink);\n",
              "        }\n",
              "      </script>\n",
              "    </div>\n",
              "  </div>\n",
              "  "
            ]
          },
          "metadata": {},
          "execution_count": 76
        }
      ]
    },
    {
      "cell_type": "code",
      "source": [
        "pd.crosstab(df_teste.TP_FAIXA_ETARIA,df_teste.TP_ST_CONCLUSAO, margins=True, dropna=False)"
      ],
      "metadata": {
        "id": "6q2Q6n2fpTgz",
        "colab": {
          "base_uri": "https://localhost:8080/",
          "height": 739
        },
        "outputId": "654fdecb-9d73-4a42-a4ce-72e1c784c732"
      },
      "execution_count": null,
      "outputs": [
        {
          "output_type": "execute_result",
          "data": {
            "text/plain": [
              "TP_ST_CONCLUSAO        1       2      All\n",
              "TP_FAIXA_ETARIA                          \n",
              "1                    533   17754    18287\n",
              "2                  13477  320107   333584\n",
              "3                 163050  202564   365614\n",
              "4                 182181   31863   214044\n",
              "5                 128684    7323   136007\n",
              "6                  95347    2367    97714\n",
              "7                  70678    1261    71939\n",
              "8                  55802     847    56649\n",
              "9                  44195     625    44820\n",
              "10                 35694     503    36197\n",
              "11                114006    1413   115419\n",
              "12                 61591     760    62351\n",
              "13                 37092     555    37647\n",
              "14                 20230     322    20552\n",
              "15                 12215     231    12446\n",
              "16                  7044     124     7168\n",
              "17                  3031      59     3090\n",
              "18                   964      10      974\n",
              "19                   292       6      298\n",
              "20                    78       1       79\n",
              "All              1046184  588695  1634879"
            ],
            "text/html": [
              "\n",
              "  <div id=\"df-f01d1943-1a17-4620-a843-2f0dc4744905\">\n",
              "    <div class=\"colab-df-container\">\n",
              "      <div>\n",
              "<style scoped>\n",
              "    .dataframe tbody tr th:only-of-type {\n",
              "        vertical-align: middle;\n",
              "    }\n",
              "\n",
              "    .dataframe tbody tr th {\n",
              "        vertical-align: top;\n",
              "    }\n",
              "\n",
              "    .dataframe thead th {\n",
              "        text-align: right;\n",
              "    }\n",
              "</style>\n",
              "<table border=\"1\" class=\"dataframe\">\n",
              "  <thead>\n",
              "    <tr style=\"text-align: right;\">\n",
              "      <th>TP_ST_CONCLUSAO</th>\n",
              "      <th>1</th>\n",
              "      <th>2</th>\n",
              "      <th>All</th>\n",
              "    </tr>\n",
              "    <tr>\n",
              "      <th>TP_FAIXA_ETARIA</th>\n",
              "      <th></th>\n",
              "      <th></th>\n",
              "      <th></th>\n",
              "    </tr>\n",
              "  </thead>\n",
              "  <tbody>\n",
              "    <tr>\n",
              "      <th>1</th>\n",
              "      <td>533</td>\n",
              "      <td>17754</td>\n",
              "      <td>18287</td>\n",
              "    </tr>\n",
              "    <tr>\n",
              "      <th>2</th>\n",
              "      <td>13477</td>\n",
              "      <td>320107</td>\n",
              "      <td>333584</td>\n",
              "    </tr>\n",
              "    <tr>\n",
              "      <th>3</th>\n",
              "      <td>163050</td>\n",
              "      <td>202564</td>\n",
              "      <td>365614</td>\n",
              "    </tr>\n",
              "    <tr>\n",
              "      <th>4</th>\n",
              "      <td>182181</td>\n",
              "      <td>31863</td>\n",
              "      <td>214044</td>\n",
              "    </tr>\n",
              "    <tr>\n",
              "      <th>5</th>\n",
              "      <td>128684</td>\n",
              "      <td>7323</td>\n",
              "      <td>136007</td>\n",
              "    </tr>\n",
              "    <tr>\n",
              "      <th>6</th>\n",
              "      <td>95347</td>\n",
              "      <td>2367</td>\n",
              "      <td>97714</td>\n",
              "    </tr>\n",
              "    <tr>\n",
              "      <th>7</th>\n",
              "      <td>70678</td>\n",
              "      <td>1261</td>\n",
              "      <td>71939</td>\n",
              "    </tr>\n",
              "    <tr>\n",
              "      <th>8</th>\n",
              "      <td>55802</td>\n",
              "      <td>847</td>\n",
              "      <td>56649</td>\n",
              "    </tr>\n",
              "    <tr>\n",
              "      <th>9</th>\n",
              "      <td>44195</td>\n",
              "      <td>625</td>\n",
              "      <td>44820</td>\n",
              "    </tr>\n",
              "    <tr>\n",
              "      <th>10</th>\n",
              "      <td>35694</td>\n",
              "      <td>503</td>\n",
              "      <td>36197</td>\n",
              "    </tr>\n",
              "    <tr>\n",
              "      <th>11</th>\n",
              "      <td>114006</td>\n",
              "      <td>1413</td>\n",
              "      <td>115419</td>\n",
              "    </tr>\n",
              "    <tr>\n",
              "      <th>12</th>\n",
              "      <td>61591</td>\n",
              "      <td>760</td>\n",
              "      <td>62351</td>\n",
              "    </tr>\n",
              "    <tr>\n",
              "      <th>13</th>\n",
              "      <td>37092</td>\n",
              "      <td>555</td>\n",
              "      <td>37647</td>\n",
              "    </tr>\n",
              "    <tr>\n",
              "      <th>14</th>\n",
              "      <td>20230</td>\n",
              "      <td>322</td>\n",
              "      <td>20552</td>\n",
              "    </tr>\n",
              "    <tr>\n",
              "      <th>15</th>\n",
              "      <td>12215</td>\n",
              "      <td>231</td>\n",
              "      <td>12446</td>\n",
              "    </tr>\n",
              "    <tr>\n",
              "      <th>16</th>\n",
              "      <td>7044</td>\n",
              "      <td>124</td>\n",
              "      <td>7168</td>\n",
              "    </tr>\n",
              "    <tr>\n",
              "      <th>17</th>\n",
              "      <td>3031</td>\n",
              "      <td>59</td>\n",
              "      <td>3090</td>\n",
              "    </tr>\n",
              "    <tr>\n",
              "      <th>18</th>\n",
              "      <td>964</td>\n",
              "      <td>10</td>\n",
              "      <td>974</td>\n",
              "    </tr>\n",
              "    <tr>\n",
              "      <th>19</th>\n",
              "      <td>292</td>\n",
              "      <td>6</td>\n",
              "      <td>298</td>\n",
              "    </tr>\n",
              "    <tr>\n",
              "      <th>20</th>\n",
              "      <td>78</td>\n",
              "      <td>1</td>\n",
              "      <td>79</td>\n",
              "    </tr>\n",
              "    <tr>\n",
              "      <th>All</th>\n",
              "      <td>1046184</td>\n",
              "      <td>588695</td>\n",
              "      <td>1634879</td>\n",
              "    </tr>\n",
              "  </tbody>\n",
              "</table>\n",
              "</div>\n",
              "      <button class=\"colab-df-convert\" onclick=\"convertToInteractive('df-f01d1943-1a17-4620-a843-2f0dc4744905')\"\n",
              "              title=\"Convert this dataframe to an interactive table.\"\n",
              "              style=\"display:none;\">\n",
              "        \n",
              "  <svg xmlns=\"http://www.w3.org/2000/svg\" height=\"24px\"viewBox=\"0 0 24 24\"\n",
              "       width=\"24px\">\n",
              "    <path d=\"M0 0h24v24H0V0z\" fill=\"none\"/>\n",
              "    <path d=\"M18.56 5.44l.94 2.06.94-2.06 2.06-.94-2.06-.94-.94-2.06-.94 2.06-2.06.94zm-11 1L8.5 8.5l.94-2.06 2.06-.94-2.06-.94L8.5 2.5l-.94 2.06-2.06.94zm10 10l.94 2.06.94-2.06 2.06-.94-2.06-.94-.94-2.06-.94 2.06-2.06.94z\"/><path d=\"M17.41 7.96l-1.37-1.37c-.4-.4-.92-.59-1.43-.59-.52 0-1.04.2-1.43.59L10.3 9.45l-7.72 7.72c-.78.78-.78 2.05 0 2.83L4 21.41c.39.39.9.59 1.41.59.51 0 1.02-.2 1.41-.59l7.78-7.78 2.81-2.81c.8-.78.8-2.07 0-2.86zM5.41 20L4 18.59l7.72-7.72 1.47 1.35L5.41 20z\"/>\n",
              "  </svg>\n",
              "      </button>\n",
              "      \n",
              "  <style>\n",
              "    .colab-df-container {\n",
              "      display:flex;\n",
              "      flex-wrap:wrap;\n",
              "      gap: 12px;\n",
              "    }\n",
              "\n",
              "    .colab-df-convert {\n",
              "      background-color: #E8F0FE;\n",
              "      border: none;\n",
              "      border-radius: 50%;\n",
              "      cursor: pointer;\n",
              "      display: none;\n",
              "      fill: #1967D2;\n",
              "      height: 32px;\n",
              "      padding: 0 0 0 0;\n",
              "      width: 32px;\n",
              "    }\n",
              "\n",
              "    .colab-df-convert:hover {\n",
              "      background-color: #E2EBFA;\n",
              "      box-shadow: 0px 1px 2px rgba(60, 64, 67, 0.3), 0px 1px 3px 1px rgba(60, 64, 67, 0.15);\n",
              "      fill: #174EA6;\n",
              "    }\n",
              "\n",
              "    [theme=dark] .colab-df-convert {\n",
              "      background-color: #3B4455;\n",
              "      fill: #D2E3FC;\n",
              "    }\n",
              "\n",
              "    [theme=dark] .colab-df-convert:hover {\n",
              "      background-color: #434B5C;\n",
              "      box-shadow: 0px 1px 3px 1px rgba(0, 0, 0, 0.15);\n",
              "      filter: drop-shadow(0px 1px 2px rgba(0, 0, 0, 0.3));\n",
              "      fill: #FFFFFF;\n",
              "    }\n",
              "  </style>\n",
              "\n",
              "      <script>\n",
              "        const buttonEl =\n",
              "          document.querySelector('#df-f01d1943-1a17-4620-a843-2f0dc4744905 button.colab-df-convert');\n",
              "        buttonEl.style.display =\n",
              "          google.colab.kernel.accessAllowed ? 'block' : 'none';\n",
              "\n",
              "        async function convertToInteractive(key) {\n",
              "          const element = document.querySelector('#df-f01d1943-1a17-4620-a843-2f0dc4744905');\n",
              "          const dataTable =\n",
              "            await google.colab.kernel.invokeFunction('convertToInteractive',\n",
              "                                                     [key], {});\n",
              "          if (!dataTable) return;\n",
              "\n",
              "          const docLinkHtml = 'Like what you see? Visit the ' +\n",
              "            '<a target=\"_blank\" href=https://colab.research.google.com/notebooks/data_table.ipynb>data table notebook</a>'\n",
              "            + ' to learn more about interactive tables.';\n",
              "          element.innerHTML = '';\n",
              "          dataTable['output_type'] = 'display_data';\n",
              "          await google.colab.output.renderOutput(dataTable, element);\n",
              "          const docLink = document.createElement('div');\n",
              "          docLink.innerHTML = docLinkHtml;\n",
              "          element.appendChild(docLink);\n",
              "        }\n",
              "      </script>\n",
              "    </div>\n",
              "  </div>\n",
              "  "
            ]
          },
          "metadata": {},
          "execution_count": 77
        }
      ]
    },
    {
      "cell_type": "code",
      "source": [
        "pd.crosstab(df_ft.Q001,df_ft.Q002, margins=True, dropna=False)"
      ],
      "metadata": {
        "id": "1q7qxwGTZC2E",
        "colab": {
          "base_uri": "https://localhost:8080/",
          "height": 363
        },
        "outputId": "c68ba2b8-efcf-4c04-8d78-01ee56882ad3"
      },
      "execution_count": null,
      "outputs": [
        {
          "output_type": "execute_result",
          "data": {
            "text/plain": [
              "Q002       A       B       C       D        E       F       G      H      All\n",
              "Q001                                                                         \n",
              "A      71393   60723   20089   11532    17211    2576    1547   2748   187819\n",
              "B      32813  327163  121543   87766   140231   22934   14812   6487   753749\n",
              "C       9064   60191  152939   83982   135213   24885   17438   4262   487974\n",
              "D       3907   34608   59629  109363   138343   30428   19673   3964   399915\n",
              "E       4433   43137   69733  105052   464105  112971   70977   8492   878900\n",
              "F        467    4490    7748   13955    84538   82518   42341   1732   237789\n",
              "G        186    1501    2424    4611    30068   31819   57091   1131   128831\n",
              "H       7001   37158   34458   36000    81741   16840   10418  70511   294127\n",
              "All   129264  568971  468563  452261  1091450  324971  234297  99327  3369104"
            ],
            "text/html": [
              "\n",
              "  <div id=\"df-9bca179a-207d-4f3f-bcbb-1f8017b56e21\">\n",
              "    <div class=\"colab-df-container\">\n",
              "      <div>\n",
              "<style scoped>\n",
              "    .dataframe tbody tr th:only-of-type {\n",
              "        vertical-align: middle;\n",
              "    }\n",
              "\n",
              "    .dataframe tbody tr th {\n",
              "        vertical-align: top;\n",
              "    }\n",
              "\n",
              "    .dataframe thead th {\n",
              "        text-align: right;\n",
              "    }\n",
              "</style>\n",
              "<table border=\"1\" class=\"dataframe\">\n",
              "  <thead>\n",
              "    <tr style=\"text-align: right;\">\n",
              "      <th>Q002</th>\n",
              "      <th>A</th>\n",
              "      <th>B</th>\n",
              "      <th>C</th>\n",
              "      <th>D</th>\n",
              "      <th>E</th>\n",
              "      <th>F</th>\n",
              "      <th>G</th>\n",
              "      <th>H</th>\n",
              "      <th>All</th>\n",
              "    </tr>\n",
              "    <tr>\n",
              "      <th>Q001</th>\n",
              "      <th></th>\n",
              "      <th></th>\n",
              "      <th></th>\n",
              "      <th></th>\n",
              "      <th></th>\n",
              "      <th></th>\n",
              "      <th></th>\n",
              "      <th></th>\n",
              "      <th></th>\n",
              "    </tr>\n",
              "  </thead>\n",
              "  <tbody>\n",
              "    <tr>\n",
              "      <th>A</th>\n",
              "      <td>71393</td>\n",
              "      <td>60723</td>\n",
              "      <td>20089</td>\n",
              "      <td>11532</td>\n",
              "      <td>17211</td>\n",
              "      <td>2576</td>\n",
              "      <td>1547</td>\n",
              "      <td>2748</td>\n",
              "      <td>187819</td>\n",
              "    </tr>\n",
              "    <tr>\n",
              "      <th>B</th>\n",
              "      <td>32813</td>\n",
              "      <td>327163</td>\n",
              "      <td>121543</td>\n",
              "      <td>87766</td>\n",
              "      <td>140231</td>\n",
              "      <td>22934</td>\n",
              "      <td>14812</td>\n",
              "      <td>6487</td>\n",
              "      <td>753749</td>\n",
              "    </tr>\n",
              "    <tr>\n",
              "      <th>C</th>\n",
              "      <td>9064</td>\n",
              "      <td>60191</td>\n",
              "      <td>152939</td>\n",
              "      <td>83982</td>\n",
              "      <td>135213</td>\n",
              "      <td>24885</td>\n",
              "      <td>17438</td>\n",
              "      <td>4262</td>\n",
              "      <td>487974</td>\n",
              "    </tr>\n",
              "    <tr>\n",
              "      <th>D</th>\n",
              "      <td>3907</td>\n",
              "      <td>34608</td>\n",
              "      <td>59629</td>\n",
              "      <td>109363</td>\n",
              "      <td>138343</td>\n",
              "      <td>30428</td>\n",
              "      <td>19673</td>\n",
              "      <td>3964</td>\n",
              "      <td>399915</td>\n",
              "    </tr>\n",
              "    <tr>\n",
              "      <th>E</th>\n",
              "      <td>4433</td>\n",
              "      <td>43137</td>\n",
              "      <td>69733</td>\n",
              "      <td>105052</td>\n",
              "      <td>464105</td>\n",
              "      <td>112971</td>\n",
              "      <td>70977</td>\n",
              "      <td>8492</td>\n",
              "      <td>878900</td>\n",
              "    </tr>\n",
              "    <tr>\n",
              "      <th>F</th>\n",
              "      <td>467</td>\n",
              "      <td>4490</td>\n",
              "      <td>7748</td>\n",
              "      <td>13955</td>\n",
              "      <td>84538</td>\n",
              "      <td>82518</td>\n",
              "      <td>42341</td>\n",
              "      <td>1732</td>\n",
              "      <td>237789</td>\n",
              "    </tr>\n",
              "    <tr>\n",
              "      <th>G</th>\n",
              "      <td>186</td>\n",
              "      <td>1501</td>\n",
              "      <td>2424</td>\n",
              "      <td>4611</td>\n",
              "      <td>30068</td>\n",
              "      <td>31819</td>\n",
              "      <td>57091</td>\n",
              "      <td>1131</td>\n",
              "      <td>128831</td>\n",
              "    </tr>\n",
              "    <tr>\n",
              "      <th>H</th>\n",
              "      <td>7001</td>\n",
              "      <td>37158</td>\n",
              "      <td>34458</td>\n",
              "      <td>36000</td>\n",
              "      <td>81741</td>\n",
              "      <td>16840</td>\n",
              "      <td>10418</td>\n",
              "      <td>70511</td>\n",
              "      <td>294127</td>\n",
              "    </tr>\n",
              "    <tr>\n",
              "      <th>All</th>\n",
              "      <td>129264</td>\n",
              "      <td>568971</td>\n",
              "      <td>468563</td>\n",
              "      <td>452261</td>\n",
              "      <td>1091450</td>\n",
              "      <td>324971</td>\n",
              "      <td>234297</td>\n",
              "      <td>99327</td>\n",
              "      <td>3369104</td>\n",
              "    </tr>\n",
              "  </tbody>\n",
              "</table>\n",
              "</div>\n",
              "      <button class=\"colab-df-convert\" onclick=\"convertToInteractive('df-9bca179a-207d-4f3f-bcbb-1f8017b56e21')\"\n",
              "              title=\"Convert this dataframe to an interactive table.\"\n",
              "              style=\"display:none;\">\n",
              "        \n",
              "  <svg xmlns=\"http://www.w3.org/2000/svg\" height=\"24px\"viewBox=\"0 0 24 24\"\n",
              "       width=\"24px\">\n",
              "    <path d=\"M0 0h24v24H0V0z\" fill=\"none\"/>\n",
              "    <path d=\"M18.56 5.44l.94 2.06.94-2.06 2.06-.94-2.06-.94-.94-2.06-.94 2.06-2.06.94zm-11 1L8.5 8.5l.94-2.06 2.06-.94-2.06-.94L8.5 2.5l-.94 2.06-2.06.94zm10 10l.94 2.06.94-2.06 2.06-.94-2.06-.94-.94-2.06-.94 2.06-2.06.94z\"/><path d=\"M17.41 7.96l-1.37-1.37c-.4-.4-.92-.59-1.43-.59-.52 0-1.04.2-1.43.59L10.3 9.45l-7.72 7.72c-.78.78-.78 2.05 0 2.83L4 21.41c.39.39.9.59 1.41.59.51 0 1.02-.2 1.41-.59l7.78-7.78 2.81-2.81c.8-.78.8-2.07 0-2.86zM5.41 20L4 18.59l7.72-7.72 1.47 1.35L5.41 20z\"/>\n",
              "  </svg>\n",
              "      </button>\n",
              "      \n",
              "  <style>\n",
              "    .colab-df-container {\n",
              "      display:flex;\n",
              "      flex-wrap:wrap;\n",
              "      gap: 12px;\n",
              "    }\n",
              "\n",
              "    .colab-df-convert {\n",
              "      background-color: #E8F0FE;\n",
              "      border: none;\n",
              "      border-radius: 50%;\n",
              "      cursor: pointer;\n",
              "      display: none;\n",
              "      fill: #1967D2;\n",
              "      height: 32px;\n",
              "      padding: 0 0 0 0;\n",
              "      width: 32px;\n",
              "    }\n",
              "\n",
              "    .colab-df-convert:hover {\n",
              "      background-color: #E2EBFA;\n",
              "      box-shadow: 0px 1px 2px rgba(60, 64, 67, 0.3), 0px 1px 3px 1px rgba(60, 64, 67, 0.15);\n",
              "      fill: #174EA6;\n",
              "    }\n",
              "\n",
              "    [theme=dark] .colab-df-convert {\n",
              "      background-color: #3B4455;\n",
              "      fill: #D2E3FC;\n",
              "    }\n",
              "\n",
              "    [theme=dark] .colab-df-convert:hover {\n",
              "      background-color: #434B5C;\n",
              "      box-shadow: 0px 1px 3px 1px rgba(0, 0, 0, 0.15);\n",
              "      filter: drop-shadow(0px 1px 2px rgba(0, 0, 0, 0.3));\n",
              "      fill: #FFFFFF;\n",
              "    }\n",
              "  </style>\n",
              "\n",
              "      <script>\n",
              "        const buttonEl =\n",
              "          document.querySelector('#df-9bca179a-207d-4f3f-bcbb-1f8017b56e21 button.colab-df-convert');\n",
              "        buttonEl.style.display =\n",
              "          google.colab.kernel.accessAllowed ? 'block' : 'none';\n",
              "\n",
              "        async function convertToInteractive(key) {\n",
              "          const element = document.querySelector('#df-9bca179a-207d-4f3f-bcbb-1f8017b56e21');\n",
              "          const dataTable =\n",
              "            await google.colab.kernel.invokeFunction('convertToInteractive',\n",
              "                                                     [key], {});\n",
              "          if (!dataTable) return;\n",
              "\n",
              "          const docLinkHtml = 'Like what you see? Visit the ' +\n",
              "            '<a target=\"_blank\" href=https://colab.research.google.com/notebooks/data_table.ipynb>data table notebook</a>'\n",
              "            + ' to learn more about interactive tables.';\n",
              "          element.innerHTML = '';\n",
              "          dataTable['output_type'] = 'display_data';\n",
              "          await google.colab.output.renderOutput(dataTable, element);\n",
              "          const docLink = document.createElement('div');\n",
              "          docLink.innerHTML = docLinkHtml;\n",
              "          element.appendChild(docLink);\n",
              "        }\n",
              "      </script>\n",
              "    </div>\n",
              "  </div>\n",
              "  "
            ]
          },
          "metadata": {},
          "execution_count": 78
        }
      ]
    },
    {
      "cell_type": "code",
      "source": [
        "pd.crosstab(df_teste.Q001,df_teste.Q002, margins=True, dropna=False)"
      ],
      "metadata": {
        "id": "Pllxp5rQZdoH",
        "colab": {
          "base_uri": "https://localhost:8080/",
          "height": 363
        },
        "outputId": "c2ca886b-8b47-4759-b756-234dbb34e0d2"
      },
      "execution_count": null,
      "outputs": [
        {
          "output_type": "execute_result",
          "data": {
            "text/plain": [
              "Q002      A       B       C       D       E       F       G      H      All\n",
              "Q001                                                                       \n",
              "A     13029   15797    5712    3481    5563     994     645    564    45785\n",
              "B      8776   99564   43517   33617   58293   11153    7484   1655   264059\n",
              "C      2711   22922   58761   35826   65788   14330   10568   1402   212308\n",
              "D      1219   14307   26877   45896   72185   19286   13018   1435   194223\n",
              "E      1420   18938   34832   55065  263263   80575   52416   3649   510158\n",
              "F       200    2313    4733    9276   62936   68804   36734   1075   186071\n",
              "G        75     678    1391    3020   22871   28251   50082    642   107010\n",
              "H      1786   12184   12487   14249   37532    9974    6382  20671   115265\n",
              "All   29216  186703  188310  200430  588431  233367  177329  31093  1634879"
            ],
            "text/html": [
              "\n",
              "  <div id=\"df-ee505fd5-886b-4d71-937a-d09ba1f5cb37\">\n",
              "    <div class=\"colab-df-container\">\n",
              "      <div>\n",
              "<style scoped>\n",
              "    .dataframe tbody tr th:only-of-type {\n",
              "        vertical-align: middle;\n",
              "    }\n",
              "\n",
              "    .dataframe tbody tr th {\n",
              "        vertical-align: top;\n",
              "    }\n",
              "\n",
              "    .dataframe thead th {\n",
              "        text-align: right;\n",
              "    }\n",
              "</style>\n",
              "<table border=\"1\" class=\"dataframe\">\n",
              "  <thead>\n",
              "    <tr style=\"text-align: right;\">\n",
              "      <th>Q002</th>\n",
              "      <th>A</th>\n",
              "      <th>B</th>\n",
              "      <th>C</th>\n",
              "      <th>D</th>\n",
              "      <th>E</th>\n",
              "      <th>F</th>\n",
              "      <th>G</th>\n",
              "      <th>H</th>\n",
              "      <th>All</th>\n",
              "    </tr>\n",
              "    <tr>\n",
              "      <th>Q001</th>\n",
              "      <th></th>\n",
              "      <th></th>\n",
              "      <th></th>\n",
              "      <th></th>\n",
              "      <th></th>\n",
              "      <th></th>\n",
              "      <th></th>\n",
              "      <th></th>\n",
              "      <th></th>\n",
              "    </tr>\n",
              "  </thead>\n",
              "  <tbody>\n",
              "    <tr>\n",
              "      <th>A</th>\n",
              "      <td>13029</td>\n",
              "      <td>15797</td>\n",
              "      <td>5712</td>\n",
              "      <td>3481</td>\n",
              "      <td>5563</td>\n",
              "      <td>994</td>\n",
              "      <td>645</td>\n",
              "      <td>564</td>\n",
              "      <td>45785</td>\n",
              "    </tr>\n",
              "    <tr>\n",
              "      <th>B</th>\n",
              "      <td>8776</td>\n",
              "      <td>99564</td>\n",
              "      <td>43517</td>\n",
              "      <td>33617</td>\n",
              "      <td>58293</td>\n",
              "      <td>11153</td>\n",
              "      <td>7484</td>\n",
              "      <td>1655</td>\n",
              "      <td>264059</td>\n",
              "    </tr>\n",
              "    <tr>\n",
              "      <th>C</th>\n",
              "      <td>2711</td>\n",
              "      <td>22922</td>\n",
              "      <td>58761</td>\n",
              "      <td>35826</td>\n",
              "      <td>65788</td>\n",
              "      <td>14330</td>\n",
              "      <td>10568</td>\n",
              "      <td>1402</td>\n",
              "      <td>212308</td>\n",
              "    </tr>\n",
              "    <tr>\n",
              "      <th>D</th>\n",
              "      <td>1219</td>\n",
              "      <td>14307</td>\n",
              "      <td>26877</td>\n",
              "      <td>45896</td>\n",
              "      <td>72185</td>\n",
              "      <td>19286</td>\n",
              "      <td>13018</td>\n",
              "      <td>1435</td>\n",
              "      <td>194223</td>\n",
              "    </tr>\n",
              "    <tr>\n",
              "      <th>E</th>\n",
              "      <td>1420</td>\n",
              "      <td>18938</td>\n",
              "      <td>34832</td>\n",
              "      <td>55065</td>\n",
              "      <td>263263</td>\n",
              "      <td>80575</td>\n",
              "      <td>52416</td>\n",
              "      <td>3649</td>\n",
              "      <td>510158</td>\n",
              "    </tr>\n",
              "    <tr>\n",
              "      <th>F</th>\n",
              "      <td>200</td>\n",
              "      <td>2313</td>\n",
              "      <td>4733</td>\n",
              "      <td>9276</td>\n",
              "      <td>62936</td>\n",
              "      <td>68804</td>\n",
              "      <td>36734</td>\n",
              "      <td>1075</td>\n",
              "      <td>186071</td>\n",
              "    </tr>\n",
              "    <tr>\n",
              "      <th>G</th>\n",
              "      <td>75</td>\n",
              "      <td>678</td>\n",
              "      <td>1391</td>\n",
              "      <td>3020</td>\n",
              "      <td>22871</td>\n",
              "      <td>28251</td>\n",
              "      <td>50082</td>\n",
              "      <td>642</td>\n",
              "      <td>107010</td>\n",
              "    </tr>\n",
              "    <tr>\n",
              "      <th>H</th>\n",
              "      <td>1786</td>\n",
              "      <td>12184</td>\n",
              "      <td>12487</td>\n",
              "      <td>14249</td>\n",
              "      <td>37532</td>\n",
              "      <td>9974</td>\n",
              "      <td>6382</td>\n",
              "      <td>20671</td>\n",
              "      <td>115265</td>\n",
              "    </tr>\n",
              "    <tr>\n",
              "      <th>All</th>\n",
              "      <td>29216</td>\n",
              "      <td>186703</td>\n",
              "      <td>188310</td>\n",
              "      <td>200430</td>\n",
              "      <td>588431</td>\n",
              "      <td>233367</td>\n",
              "      <td>177329</td>\n",
              "      <td>31093</td>\n",
              "      <td>1634879</td>\n",
              "    </tr>\n",
              "  </tbody>\n",
              "</table>\n",
              "</div>\n",
              "      <button class=\"colab-df-convert\" onclick=\"convertToInteractive('df-ee505fd5-886b-4d71-937a-d09ba1f5cb37')\"\n",
              "              title=\"Convert this dataframe to an interactive table.\"\n",
              "              style=\"display:none;\">\n",
              "        \n",
              "  <svg xmlns=\"http://www.w3.org/2000/svg\" height=\"24px\"viewBox=\"0 0 24 24\"\n",
              "       width=\"24px\">\n",
              "    <path d=\"M0 0h24v24H0V0z\" fill=\"none\"/>\n",
              "    <path d=\"M18.56 5.44l.94 2.06.94-2.06 2.06-.94-2.06-.94-.94-2.06-.94 2.06-2.06.94zm-11 1L8.5 8.5l.94-2.06 2.06-.94-2.06-.94L8.5 2.5l-.94 2.06-2.06.94zm10 10l.94 2.06.94-2.06 2.06-.94-2.06-.94-.94-2.06-.94 2.06-2.06.94z\"/><path d=\"M17.41 7.96l-1.37-1.37c-.4-.4-.92-.59-1.43-.59-.52 0-1.04.2-1.43.59L10.3 9.45l-7.72 7.72c-.78.78-.78 2.05 0 2.83L4 21.41c.39.39.9.59 1.41.59.51 0 1.02-.2 1.41-.59l7.78-7.78 2.81-2.81c.8-.78.8-2.07 0-2.86zM5.41 20L4 18.59l7.72-7.72 1.47 1.35L5.41 20z\"/>\n",
              "  </svg>\n",
              "      </button>\n",
              "      \n",
              "  <style>\n",
              "    .colab-df-container {\n",
              "      display:flex;\n",
              "      flex-wrap:wrap;\n",
              "      gap: 12px;\n",
              "    }\n",
              "\n",
              "    .colab-df-convert {\n",
              "      background-color: #E8F0FE;\n",
              "      border: none;\n",
              "      border-radius: 50%;\n",
              "      cursor: pointer;\n",
              "      display: none;\n",
              "      fill: #1967D2;\n",
              "      height: 32px;\n",
              "      padding: 0 0 0 0;\n",
              "      width: 32px;\n",
              "    }\n",
              "\n",
              "    .colab-df-convert:hover {\n",
              "      background-color: #E2EBFA;\n",
              "      box-shadow: 0px 1px 2px rgba(60, 64, 67, 0.3), 0px 1px 3px 1px rgba(60, 64, 67, 0.15);\n",
              "      fill: #174EA6;\n",
              "    }\n",
              "\n",
              "    [theme=dark] .colab-df-convert {\n",
              "      background-color: #3B4455;\n",
              "      fill: #D2E3FC;\n",
              "    }\n",
              "\n",
              "    [theme=dark] .colab-df-convert:hover {\n",
              "      background-color: #434B5C;\n",
              "      box-shadow: 0px 1px 3px 1px rgba(0, 0, 0, 0.15);\n",
              "      filter: drop-shadow(0px 1px 2px rgba(0, 0, 0, 0.3));\n",
              "      fill: #FFFFFF;\n",
              "    }\n",
              "  </style>\n",
              "\n",
              "      <script>\n",
              "        const buttonEl =\n",
              "          document.querySelector('#df-ee505fd5-886b-4d71-937a-d09ba1f5cb37 button.colab-df-convert');\n",
              "        buttonEl.style.display =\n",
              "          google.colab.kernel.accessAllowed ? 'block' : 'none';\n",
              "\n",
              "        async function convertToInteractive(key) {\n",
              "          const element = document.querySelector('#df-ee505fd5-886b-4d71-937a-d09ba1f5cb37');\n",
              "          const dataTable =\n",
              "            await google.colab.kernel.invokeFunction('convertToInteractive',\n",
              "                                                     [key], {});\n",
              "          if (!dataTable) return;\n",
              "\n",
              "          const docLinkHtml = 'Like what you see? Visit the ' +\n",
              "            '<a target=\"_blank\" href=https://colab.research.google.com/notebooks/data_table.ipynb>data table notebook</a>'\n",
              "            + ' to learn more about interactive tables.';\n",
              "          element.innerHTML = '';\n",
              "          dataTable['output_type'] = 'display_data';\n",
              "          await google.colab.output.renderOutput(dataTable, element);\n",
              "          const docLink = document.createElement('div');\n",
              "          docLink.innerHTML = docLinkHtml;\n",
              "          element.appendChild(docLink);\n",
              "        }\n",
              "      </script>\n",
              "    </div>\n",
              "  </div>\n",
              "  "
            ]
          },
          "metadata": {},
          "execution_count": 79
        }
      ]
    },
    {
      "cell_type": "code",
      "source": [
        "pd.crosstab(df_ft.Q010,df_ft.Q011, margins=True, dropna=False)"
      ],
      "metadata": {
        "id": "u_E863-ec1BF",
        "colab": {
          "base_uri": "https://localhost:8080/",
          "height": 269
        },
        "outputId": "fd026cf2-5800-4f8b-a364-321607630963"
      },
      "execution_count": null,
      "outputs": [
        {
          "output_type": "execute_result",
          "data": {
            "text/plain": [
              "Q011        A       B      C     D     E      All\n",
              "Q010                                             \n",
              "A     1523729  368001  27699  2040   257  1921726\n",
              "B      896548  255697  25834  2496   344  1180919\n",
              "C      179343   39350   7234  1047   271   227245\n",
              "D       24375    5776   1353   444   127    32075\n",
              "E        4960    1332    493   132   222     7139\n",
              "All   2628955  670156  62613  6159  1221  3369104"
            ],
            "text/html": [
              "\n",
              "  <div id=\"df-94778d66-b203-4643-b40a-87a918014c7c\">\n",
              "    <div class=\"colab-df-container\">\n",
              "      <div>\n",
              "<style scoped>\n",
              "    .dataframe tbody tr th:only-of-type {\n",
              "        vertical-align: middle;\n",
              "    }\n",
              "\n",
              "    .dataframe tbody tr th {\n",
              "        vertical-align: top;\n",
              "    }\n",
              "\n",
              "    .dataframe thead th {\n",
              "        text-align: right;\n",
              "    }\n",
              "</style>\n",
              "<table border=\"1\" class=\"dataframe\">\n",
              "  <thead>\n",
              "    <tr style=\"text-align: right;\">\n",
              "      <th>Q011</th>\n",
              "      <th>A</th>\n",
              "      <th>B</th>\n",
              "      <th>C</th>\n",
              "      <th>D</th>\n",
              "      <th>E</th>\n",
              "      <th>All</th>\n",
              "    </tr>\n",
              "    <tr>\n",
              "      <th>Q010</th>\n",
              "      <th></th>\n",
              "      <th></th>\n",
              "      <th></th>\n",
              "      <th></th>\n",
              "      <th></th>\n",
              "      <th></th>\n",
              "    </tr>\n",
              "  </thead>\n",
              "  <tbody>\n",
              "    <tr>\n",
              "      <th>A</th>\n",
              "      <td>1523729</td>\n",
              "      <td>368001</td>\n",
              "      <td>27699</td>\n",
              "      <td>2040</td>\n",
              "      <td>257</td>\n",
              "      <td>1921726</td>\n",
              "    </tr>\n",
              "    <tr>\n",
              "      <th>B</th>\n",
              "      <td>896548</td>\n",
              "      <td>255697</td>\n",
              "      <td>25834</td>\n",
              "      <td>2496</td>\n",
              "      <td>344</td>\n",
              "      <td>1180919</td>\n",
              "    </tr>\n",
              "    <tr>\n",
              "      <th>C</th>\n",
              "      <td>179343</td>\n",
              "      <td>39350</td>\n",
              "      <td>7234</td>\n",
              "      <td>1047</td>\n",
              "      <td>271</td>\n",
              "      <td>227245</td>\n",
              "    </tr>\n",
              "    <tr>\n",
              "      <th>D</th>\n",
              "      <td>24375</td>\n",
              "      <td>5776</td>\n",
              "      <td>1353</td>\n",
              "      <td>444</td>\n",
              "      <td>127</td>\n",
              "      <td>32075</td>\n",
              "    </tr>\n",
              "    <tr>\n",
              "      <th>E</th>\n",
              "      <td>4960</td>\n",
              "      <td>1332</td>\n",
              "      <td>493</td>\n",
              "      <td>132</td>\n",
              "      <td>222</td>\n",
              "      <td>7139</td>\n",
              "    </tr>\n",
              "    <tr>\n",
              "      <th>All</th>\n",
              "      <td>2628955</td>\n",
              "      <td>670156</td>\n",
              "      <td>62613</td>\n",
              "      <td>6159</td>\n",
              "      <td>1221</td>\n",
              "      <td>3369104</td>\n",
              "    </tr>\n",
              "  </tbody>\n",
              "</table>\n",
              "</div>\n",
              "      <button class=\"colab-df-convert\" onclick=\"convertToInteractive('df-94778d66-b203-4643-b40a-87a918014c7c')\"\n",
              "              title=\"Convert this dataframe to an interactive table.\"\n",
              "              style=\"display:none;\">\n",
              "        \n",
              "  <svg xmlns=\"http://www.w3.org/2000/svg\" height=\"24px\"viewBox=\"0 0 24 24\"\n",
              "       width=\"24px\">\n",
              "    <path d=\"M0 0h24v24H0V0z\" fill=\"none\"/>\n",
              "    <path d=\"M18.56 5.44l.94 2.06.94-2.06 2.06-.94-2.06-.94-.94-2.06-.94 2.06-2.06.94zm-11 1L8.5 8.5l.94-2.06 2.06-.94-2.06-.94L8.5 2.5l-.94 2.06-2.06.94zm10 10l.94 2.06.94-2.06 2.06-.94-2.06-.94-.94-2.06-.94 2.06-2.06.94z\"/><path d=\"M17.41 7.96l-1.37-1.37c-.4-.4-.92-.59-1.43-.59-.52 0-1.04.2-1.43.59L10.3 9.45l-7.72 7.72c-.78.78-.78 2.05 0 2.83L4 21.41c.39.39.9.59 1.41.59.51 0 1.02-.2 1.41-.59l7.78-7.78 2.81-2.81c.8-.78.8-2.07 0-2.86zM5.41 20L4 18.59l7.72-7.72 1.47 1.35L5.41 20z\"/>\n",
              "  </svg>\n",
              "      </button>\n",
              "      \n",
              "  <style>\n",
              "    .colab-df-container {\n",
              "      display:flex;\n",
              "      flex-wrap:wrap;\n",
              "      gap: 12px;\n",
              "    }\n",
              "\n",
              "    .colab-df-convert {\n",
              "      background-color: #E8F0FE;\n",
              "      border: none;\n",
              "      border-radius: 50%;\n",
              "      cursor: pointer;\n",
              "      display: none;\n",
              "      fill: #1967D2;\n",
              "      height: 32px;\n",
              "      padding: 0 0 0 0;\n",
              "      width: 32px;\n",
              "    }\n",
              "\n",
              "    .colab-df-convert:hover {\n",
              "      background-color: #E2EBFA;\n",
              "      box-shadow: 0px 1px 2px rgba(60, 64, 67, 0.3), 0px 1px 3px 1px rgba(60, 64, 67, 0.15);\n",
              "      fill: #174EA6;\n",
              "    }\n",
              "\n",
              "    [theme=dark] .colab-df-convert {\n",
              "      background-color: #3B4455;\n",
              "      fill: #D2E3FC;\n",
              "    }\n",
              "\n",
              "    [theme=dark] .colab-df-convert:hover {\n",
              "      background-color: #434B5C;\n",
              "      box-shadow: 0px 1px 3px 1px rgba(0, 0, 0, 0.15);\n",
              "      filter: drop-shadow(0px 1px 2px rgba(0, 0, 0, 0.3));\n",
              "      fill: #FFFFFF;\n",
              "    }\n",
              "  </style>\n",
              "\n",
              "      <script>\n",
              "        const buttonEl =\n",
              "          document.querySelector('#df-94778d66-b203-4643-b40a-87a918014c7c button.colab-df-convert');\n",
              "        buttonEl.style.display =\n",
              "          google.colab.kernel.accessAllowed ? 'block' : 'none';\n",
              "\n",
              "        async function convertToInteractive(key) {\n",
              "          const element = document.querySelector('#df-94778d66-b203-4643-b40a-87a918014c7c');\n",
              "          const dataTable =\n",
              "            await google.colab.kernel.invokeFunction('convertToInteractive',\n",
              "                                                     [key], {});\n",
              "          if (!dataTable) return;\n",
              "\n",
              "          const docLinkHtml = 'Like what you see? Visit the ' +\n",
              "            '<a target=\"_blank\" href=https://colab.research.google.com/notebooks/data_table.ipynb>data table notebook</a>'\n",
              "            + ' to learn more about interactive tables.';\n",
              "          element.innerHTML = '';\n",
              "          dataTable['output_type'] = 'display_data';\n",
              "          await google.colab.output.renderOutput(dataTable, element);\n",
              "          const docLink = document.createElement('div');\n",
              "          docLink.innerHTML = docLinkHtml;\n",
              "          element.appendChild(docLink);\n",
              "        }\n",
              "      </script>\n",
              "    </div>\n",
              "  </div>\n",
              "  "
            ]
          },
          "metadata": {},
          "execution_count": 80
        }
      ]
    },
    {
      "cell_type": "code",
      "source": [
        "pd.crosstab(df_teste.Q010,df_teste.Q011, margins=True, dropna=False)"
      ],
      "metadata": {
        "id": "__IlEuwgG1J-",
        "colab": {
          "base_uri": "https://localhost:8080/",
          "height": 269
        },
        "outputId": "34685e9e-ce76-4080-ee94-c1100cf52757"
      },
      "execution_count": null,
      "outputs": [
        {
          "output_type": "execute_result",
          "data": {
            "text/plain": [
              "Q011        A       B      C     D    E      All\n",
              "Q010                                            \n",
              "A      588673  131880  10561   714   85   731913\n",
              "B      544093  137854  13691  1235  173   697046\n",
              "C      141861   27347   4553   648  182   174591\n",
              "D       20087    4193    943   303   91    25617\n",
              "E        4092     992    370    86  172     5712\n",
              "All   1298806  302266  30118  2986  703  1634879"
            ],
            "text/html": [
              "\n",
              "  <div id=\"df-73dd0638-2d70-41c8-9b49-30c78e92c120\">\n",
              "    <div class=\"colab-df-container\">\n",
              "      <div>\n",
              "<style scoped>\n",
              "    .dataframe tbody tr th:only-of-type {\n",
              "        vertical-align: middle;\n",
              "    }\n",
              "\n",
              "    .dataframe tbody tr th {\n",
              "        vertical-align: top;\n",
              "    }\n",
              "\n",
              "    .dataframe thead th {\n",
              "        text-align: right;\n",
              "    }\n",
              "</style>\n",
              "<table border=\"1\" class=\"dataframe\">\n",
              "  <thead>\n",
              "    <tr style=\"text-align: right;\">\n",
              "      <th>Q011</th>\n",
              "      <th>A</th>\n",
              "      <th>B</th>\n",
              "      <th>C</th>\n",
              "      <th>D</th>\n",
              "      <th>E</th>\n",
              "      <th>All</th>\n",
              "    </tr>\n",
              "    <tr>\n",
              "      <th>Q010</th>\n",
              "      <th></th>\n",
              "      <th></th>\n",
              "      <th></th>\n",
              "      <th></th>\n",
              "      <th></th>\n",
              "      <th></th>\n",
              "    </tr>\n",
              "  </thead>\n",
              "  <tbody>\n",
              "    <tr>\n",
              "      <th>A</th>\n",
              "      <td>588673</td>\n",
              "      <td>131880</td>\n",
              "      <td>10561</td>\n",
              "      <td>714</td>\n",
              "      <td>85</td>\n",
              "      <td>731913</td>\n",
              "    </tr>\n",
              "    <tr>\n",
              "      <th>B</th>\n",
              "      <td>544093</td>\n",
              "      <td>137854</td>\n",
              "      <td>13691</td>\n",
              "      <td>1235</td>\n",
              "      <td>173</td>\n",
              "      <td>697046</td>\n",
              "    </tr>\n",
              "    <tr>\n",
              "      <th>C</th>\n",
              "      <td>141861</td>\n",
              "      <td>27347</td>\n",
              "      <td>4553</td>\n",
              "      <td>648</td>\n",
              "      <td>182</td>\n",
              "      <td>174591</td>\n",
              "    </tr>\n",
              "    <tr>\n",
              "      <th>D</th>\n",
              "      <td>20087</td>\n",
              "      <td>4193</td>\n",
              "      <td>943</td>\n",
              "      <td>303</td>\n",
              "      <td>91</td>\n",
              "      <td>25617</td>\n",
              "    </tr>\n",
              "    <tr>\n",
              "      <th>E</th>\n",
              "      <td>4092</td>\n",
              "      <td>992</td>\n",
              "      <td>370</td>\n",
              "      <td>86</td>\n",
              "      <td>172</td>\n",
              "      <td>5712</td>\n",
              "    </tr>\n",
              "    <tr>\n",
              "      <th>All</th>\n",
              "      <td>1298806</td>\n",
              "      <td>302266</td>\n",
              "      <td>30118</td>\n",
              "      <td>2986</td>\n",
              "      <td>703</td>\n",
              "      <td>1634879</td>\n",
              "    </tr>\n",
              "  </tbody>\n",
              "</table>\n",
              "</div>\n",
              "      <button class=\"colab-df-convert\" onclick=\"convertToInteractive('df-73dd0638-2d70-41c8-9b49-30c78e92c120')\"\n",
              "              title=\"Convert this dataframe to an interactive table.\"\n",
              "              style=\"display:none;\">\n",
              "        \n",
              "  <svg xmlns=\"http://www.w3.org/2000/svg\" height=\"24px\"viewBox=\"0 0 24 24\"\n",
              "       width=\"24px\">\n",
              "    <path d=\"M0 0h24v24H0V0z\" fill=\"none\"/>\n",
              "    <path d=\"M18.56 5.44l.94 2.06.94-2.06 2.06-.94-2.06-.94-.94-2.06-.94 2.06-2.06.94zm-11 1L8.5 8.5l.94-2.06 2.06-.94-2.06-.94L8.5 2.5l-.94 2.06-2.06.94zm10 10l.94 2.06.94-2.06 2.06-.94-2.06-.94-.94-2.06-.94 2.06-2.06.94z\"/><path d=\"M17.41 7.96l-1.37-1.37c-.4-.4-.92-.59-1.43-.59-.52 0-1.04.2-1.43.59L10.3 9.45l-7.72 7.72c-.78.78-.78 2.05 0 2.83L4 21.41c.39.39.9.59 1.41.59.51 0 1.02-.2 1.41-.59l7.78-7.78 2.81-2.81c.8-.78.8-2.07 0-2.86zM5.41 20L4 18.59l7.72-7.72 1.47 1.35L5.41 20z\"/>\n",
              "  </svg>\n",
              "      </button>\n",
              "      \n",
              "  <style>\n",
              "    .colab-df-container {\n",
              "      display:flex;\n",
              "      flex-wrap:wrap;\n",
              "      gap: 12px;\n",
              "    }\n",
              "\n",
              "    .colab-df-convert {\n",
              "      background-color: #E8F0FE;\n",
              "      border: none;\n",
              "      border-radius: 50%;\n",
              "      cursor: pointer;\n",
              "      display: none;\n",
              "      fill: #1967D2;\n",
              "      height: 32px;\n",
              "      padding: 0 0 0 0;\n",
              "      width: 32px;\n",
              "    }\n",
              "\n",
              "    .colab-df-convert:hover {\n",
              "      background-color: #E2EBFA;\n",
              "      box-shadow: 0px 1px 2px rgba(60, 64, 67, 0.3), 0px 1px 3px 1px rgba(60, 64, 67, 0.15);\n",
              "      fill: #174EA6;\n",
              "    }\n",
              "\n",
              "    [theme=dark] .colab-df-convert {\n",
              "      background-color: #3B4455;\n",
              "      fill: #D2E3FC;\n",
              "    }\n",
              "\n",
              "    [theme=dark] .colab-df-convert:hover {\n",
              "      background-color: #434B5C;\n",
              "      box-shadow: 0px 1px 3px 1px rgba(0, 0, 0, 0.15);\n",
              "      filter: drop-shadow(0px 1px 2px rgba(0, 0, 0, 0.3));\n",
              "      fill: #FFFFFF;\n",
              "    }\n",
              "  </style>\n",
              "\n",
              "      <script>\n",
              "        const buttonEl =\n",
              "          document.querySelector('#df-73dd0638-2d70-41c8-9b49-30c78e92c120 button.colab-df-convert');\n",
              "        buttonEl.style.display =\n",
              "          google.colab.kernel.accessAllowed ? 'block' : 'none';\n",
              "\n",
              "        async function convertToInteractive(key) {\n",
              "          const element = document.querySelector('#df-73dd0638-2d70-41c8-9b49-30c78e92c120');\n",
              "          const dataTable =\n",
              "            await google.colab.kernel.invokeFunction('convertToInteractive',\n",
              "                                                     [key], {});\n",
              "          if (!dataTable) return;\n",
              "\n",
              "          const docLinkHtml = 'Like what you see? Visit the ' +\n",
              "            '<a target=\"_blank\" href=https://colab.research.google.com/notebooks/data_table.ipynb>data table notebook</a>'\n",
              "            + ' to learn more about interactive tables.';\n",
              "          element.innerHTML = '';\n",
              "          dataTable['output_type'] = 'display_data';\n",
              "          await google.colab.output.renderOutput(dataTable, element);\n",
              "          const docLink = document.createElement('div');\n",
              "          docLink.innerHTML = docLinkHtml;\n",
              "          element.appendChild(docLink);\n",
              "        }\n",
              "      </script>\n",
              "    </div>\n",
              "  </div>\n",
              "  "
            ]
          },
          "metadata": {},
          "execution_count": 81
        }
      ]
    },
    {
      "cell_type": "markdown",
      "source": [
        "# **Exclusão de Colunas**"
      ],
      "metadata": {
        "id": "8zqCz9RIEa_Q"
      }
    },
    {
      "cell_type": "code",
      "source": [
        "df_ft.shape"
      ],
      "metadata": {
        "id": "3Zt9HmZSGZMu",
        "colab": {
          "base_uri": "https://localhost:8080/"
        },
        "outputId": "75a2e9b7-c30f-4980-ecbd-e63dc9a26aad"
      },
      "execution_count": null,
      "outputs": [
        {
          "output_type": "execute_result",
          "data": {
            "text/plain": [
              "(3369104, 108)"
            ]
          },
          "metadata": {},
          "execution_count": 82
        }
      ]
    },
    {
      "cell_type": "code",
      "source": [
        "df_ft.drop(['TP_FAIXA_ETARIA','TP_ESTADO_CIVIL','TP_COR_RACA','TP_ST_CONCLUSAO','TP_ANO_CONCLUIU',\n",
        "            'TP_ESCOLA', 'TP_ENSINO', 'Q005', 'Q006', 'Q007', 'Q008', 'Q009', 'Q010', 'Q011',\n",
        "            'Q012', 'Q013', 'Q014', 'Q015', 'Q016', 'Q017', 'Q019', 'Q024', 'Sum_TIC3', 'Sum_TIC5',\n",
        "            'Sum_Elet', 'Car_Mot', 'Tot_PtCasa', 'Q001_', 'Q002_', 'Ter_Asp', 'Ter_TV', 'Ter_DVD',\n",
        "            'Ter_TVa', 'Ter_TFi', 'Ter_Gel', 'Ter_Fre', 'Ter_LvR', 'Ter_ScR', 'Ter_Mio', 'Ter_LvL',\n",
        "            'Q007_f2', 'Q007_f', 'Q008_f2', 'Q008_f', 'Q009_f2', 'Q009_f', 'Tot_PtCasa_2', 'Ter_Int'], axis = 1, inplace = True)\n",
        "df_ft.shape"
      ],
      "metadata": {
        "id": "NFDqcyeKEeDB",
        "colab": {
          "base_uri": "https://localhost:8080/"
        },
        "outputId": "0a86447e-b5d6-4bc5-f1d5-f6db11d2e9c2"
      },
      "execution_count": null,
      "outputs": [
        {
          "output_type": "execute_result",
          "data": {
            "text/plain": [
              "(3369104, 60)"
            ]
          },
          "metadata": {},
          "execution_count": 83
        }
      ]
    },
    {
      "cell_type": "code",
      "source": [
        "df_ft.columns"
      ],
      "metadata": {
        "colab": {
          "base_uri": "https://localhost:8080/"
        },
        "id": "lXal5YB7NkkX",
        "outputId": "5f18b261-3e51-4d15-bd7e-83e438b41a90"
      },
      "execution_count": null,
      "outputs": [
        {
          "output_type": "execute_result",
          "data": {
            "text/plain": [
              "Index(['NU_INSCRICAO', 'NU_ANO', 'TP_SEXO', 'CO_MUNICIPIO_ESC',\n",
              "       'NO_MUNICIPIO_ESC', 'SG_UF_ESC', 'TP_LOCALIZACAO_ESC',\n",
              "       'CO_MUNICIPIO_PROVA', 'NO_MUNICIPIO_PROVA', 'SG_UF_PROVA', 'NU_NOTA_CN',\n",
              "       'NU_NOTA_CH', 'NU_NOTA_LC', 'NU_NOTA_MT', 'TP_LINGUA',\n",
              "       'NU_NOTA_REDACAO', 'Q001', 'Q002', 'Q003', 'Q004', 'Q018', 'Q020',\n",
              "       'Q021', 'Q022', 'Q023', 'Q025', 'Sum_Target', 'Sum_Target_3',\n",
              "       'Sum_Target_2', 'Ter_Cel', 'Ter_Com', 'Sum_TIC3_', 'Sum_TIC5_',\n",
              "       'Sum_Elet_', 'Esc_Max', 'Q010_', 'Q011_', 'Car_Mot_', 'Q007_', 'Q008_',\n",
              "       'Q009_', 'Tot_PtCasa_', 'RegGeo_Prova', 'SG_UF_PROVA_',\n",
              "       'TP_FAIXA_ETARIA_', 'TP_ESTADO_CIVIL_', 'TP_COR_RACA_',\n",
              "       'TP_ANO_CONCLUIU_', 'TP_ESCOLA_', 'TP_ENSINO_', 'Q005_', 'Q006_',\n",
              "       'Q012_', 'Q013_', 'Q014_', 'Q015_', 'Q016_', 'Q017_', 'Q019_', 'Q024_'],\n",
              "      dtype='object')"
            ]
          },
          "metadata": {},
          "execution_count": 84
        }
      ]
    },
    {
      "cell_type": "markdown",
      "source": [
        "# **Exportar Base Final**"
      ],
      "metadata": {
        "id": "ELpe4LhT-4xC"
      }
    },
    {
      "cell_type": "code",
      "source": [
        "df_ft.to_csv('/content/drive/MyDrive/MBA_TCC/DADOS/df_ft_2018_categ.csv', index=False)"
      ],
      "metadata": {
        "id": "bx8Msgub-_LO"
      },
      "execution_count": null,
      "outputs": []
    }
  ]
}
