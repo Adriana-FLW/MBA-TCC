{
  "nbformat": 4,
  "nbformat_minor": 0,
  "metadata": {
    "colab": {
      "provenance": [],
      "toc_visible": true,
      "mount_file_id": "1vHnRexayenY_B72kjXTR04RnlcSvzQ4j",
      "authorship_tag": "ABX9TyM6OplmoPzLeGodeYDiyRkN",
      "include_colab_link": true
    },
    "kernelspec": {
      "name": "python3",
      "display_name": "Python 3"
    },
    "language_info": {
      "name": "python"
    }
  },
  "cells": [
    {
      "cell_type": "markdown",
      "metadata": {
        "id": "view-in-github",
        "colab_type": "text"
      },
      "source": [
        "<a href=\"https://colab.research.google.com/github/Adriana-FLW/MBA_TCC/blob/main/01_DefTarget_2018.ipynb\" target=\"_parent\"><img src=\"https://colab.research.google.com/assets/colab-badge.svg\" alt=\"Open In Colab\"/></a>"
      ]
    },
    {
      "cell_type": "markdown",
      "source": [
        "# **ENEM 2018**"
      ],
      "metadata": {
        "id": "cvmTA9hvz6WR"
      }
    },
    {
      "cell_type": "markdown",
      "source": [
        "# - **Bibliotecas**"
      ],
      "metadata": {
        "id": "mYMdtT9R0AGA"
      }
    },
    {
      "cell_type": "code",
      "source": [
        "import pandas as pd\n",
        "import numpy as np"
      ],
      "metadata": {
        "id": "vZP9nhSc0Fq_"
      },
      "execution_count": null,
      "outputs": []
    },
    {
      "cell_type": "markdown",
      "source": [
        "# **Importar Base 2018**"
      ],
      "metadata": {
        "id": "gH-3IGXK0MT3"
      }
    },
    {
      "cell_type": "code",
      "source": [
        "df_f = pd.read_csv('/content/drive/MyDrive/MBA_TCC/DADOS/df_f_2018.csv',sep=',',encoding='ISO-8859-1')\n",
        "df_f.shape"
      ],
      "metadata": {
        "colab": {
          "base_uri": "https://localhost:8080/"
        },
        "id": "8IA_ob080QPp",
        "outputId": "561137b6-6838-43d6-f215-4a9f4a689ca6"
      },
      "execution_count": null,
      "outputs": [
        {
          "output_type": "execute_result",
          "data": {
            "text/plain": [
              "(3369104, 48)"
            ]
          },
          "metadata": {},
          "execution_count": 3
        }
      ]
    },
    {
      "cell_type": "code",
      "source": [
        "df_f.info()"
      ],
      "metadata": {
        "colab": {
          "base_uri": "https://localhost:8080/"
        },
        "id": "9fyVyre10Wx5",
        "outputId": "9a4e60c5-4402-492f-90cf-8cb3349876cc"
      },
      "execution_count": null,
      "outputs": [
        {
          "output_type": "stream",
          "name": "stdout",
          "text": [
            "<class 'pandas.core.frame.DataFrame'>\n",
            "RangeIndex: 3369104 entries, 0 to 3369103\n",
            "Data columns (total 48 columns):\n",
            " #   Column              Dtype  \n",
            "---  ------              -----  \n",
            " 0   NU_INSCRICAO        int64  \n",
            " 1   NU_ANO              int64  \n",
            " 2   TP_FAIXA_ETARIA     int64  \n",
            " 3   TP_SEXO             object \n",
            " 4   TP_ESTADO_CIVIL     int64  \n",
            " 5   TP_COR_RACA         int64  \n",
            " 6   TP_ST_CONCLUSAO     int64  \n",
            " 7   TP_ANO_CONCLUIU     int64  \n",
            " 8   TP_ESCOLA           int64  \n",
            " 9   TP_ENSINO           int64  \n",
            " 10  CO_MUNICIPIO_ESC    float64\n",
            " 11  NO_MUNICIPIO_ESC    object \n",
            " 12  SG_UF_ESC           object \n",
            " 13  TP_LOCALIZACAO_ESC  int64  \n",
            " 14  CO_MUNICIPIO_PROVA  float64\n",
            " 15  NO_MUNICIPIO_PROVA  object \n",
            " 16  SG_UF_PROVA         object \n",
            " 17  NU_NOTA_CN          float64\n",
            " 18  NU_NOTA_CH          float64\n",
            " 19  NU_NOTA_LC          float64\n",
            " 20  NU_NOTA_MT          float64\n",
            " 21  TP_LINGUA           int64  \n",
            " 22  NU_NOTA_REDACAO     float64\n",
            " 23  Q001                object \n",
            " 24  Q002                object \n",
            " 25  Q003                object \n",
            " 26  Q004                object \n",
            " 27  Q005                float64\n",
            " 28  Q006                object \n",
            " 29  Q007                object \n",
            " 30  Q008                object \n",
            " 31  Q009                object \n",
            " 32  Q010                object \n",
            " 33  Q011                object \n",
            " 34  Q012                object \n",
            " 35  Q013                object \n",
            " 36  Q014                object \n",
            " 37  Q015                object \n",
            " 38  Q016                object \n",
            " 39  Q017                object \n",
            " 40  Q018                object \n",
            " 41  Q019                object \n",
            " 42  Q020                object \n",
            " 43  Q021                object \n",
            " 44  Q022                object \n",
            " 45  Q023                object \n",
            " 46  Q024                object \n",
            " 47  Q025                object \n",
            "dtypes: float64(8), int64(11), object(29)\n",
            "memory usage: 1.2+ GB\n"
          ]
        }
      ]
    },
    {
      "cell_type": "markdown",
      "source": [
        "# **Classificação das Competências**"
      ],
      "metadata": {
        "id": "2YndI83d0Yzj"
      }
    },
    {
      "cell_type": "markdown",
      "source": [
        "- NU_NOTA_CN             "
      ],
      "metadata": {
        "id": "BWpnbgFL024l"
      }
    },
    {
      "cell_type": "code",
      "source": [
        "np.median(df_f.NU_NOTA_CN)"
      ],
      "metadata": {
        "colab": {
          "base_uri": "https://localhost:8080/"
        },
        "id": "6-TzQKU468wa",
        "outputId": "3bea2aa6-b251-4517-81f4-25d069fbdcb8"
      },
      "execution_count": null,
      "outputs": [
        {
          "output_type": "execute_result",
          "data": {
            "text/plain": [
              "483.0"
            ]
          },
          "metadata": {},
          "execution_count": 19
        }
      ]
    },
    {
      "cell_type": "code",
      "source": [
        "df_f['Target_CN'] = np.where(df_f['NU_NOTA_CN'] > np.median(df_f.NU_NOTA_CN), 1, 0)"
      ],
      "metadata": {
        "id": "EvHU1ODP6cYy"
      },
      "execution_count": null,
      "outputs": []
    },
    {
      "cell_type": "code",
      "source": [
        "df_f['Target_CN'].value_counts().sort_index()"
      ],
      "metadata": {
        "colab": {
          "base_uri": "https://localhost:8080/"
        },
        "id": "iDVBFyN38MpX",
        "outputId": "31eda802-3f73-4548-e696-bc331adda313"
      },
      "execution_count": null,
      "outputs": [
        {
          "output_type": "execute_result",
          "data": {
            "text/plain": [
              "0    1684792\n",
              "1    1684312\n",
              "Name: Target_CN, dtype: int64"
            ]
          },
          "metadata": {},
          "execution_count": 49
        }
      ]
    },
    {
      "cell_type": "markdown",
      "source": [
        "- NU_NOTA_CH          "
      ],
      "metadata": {
        "id": "38Q_5HY88ruT"
      }
    },
    {
      "cell_type": "code",
      "source": [
        "np.median(df_f.NU_NOTA_CH)"
      ],
      "metadata": {
        "colab": {
          "base_uri": "https://localhost:8080/"
        },
        "id": "GenCRQQM8vaK",
        "outputId": "c1d68bb2-5e3e-4314-ba5f-1ca331822f49"
      },
      "execution_count": null,
      "outputs": [
        {
          "output_type": "execute_result",
          "data": {
            "text/plain": [
              "584.4"
            ]
          },
          "metadata": {},
          "execution_count": 20
        }
      ]
    },
    {
      "cell_type": "code",
      "source": [
        "df_f['Target_CH'] = np.where(df_f['NU_NOTA_CH'] > np.median(df_f.NU_NOTA_CH), 1, 0)"
      ],
      "metadata": {
        "id": "EbnM3CbJ8vj6"
      },
      "execution_count": null,
      "outputs": []
    },
    {
      "cell_type": "code",
      "source": [
        "df_f['Target_CH'].value_counts().sort_index()"
      ],
      "metadata": {
        "colab": {
          "base_uri": "https://localhost:8080/"
        },
        "id": "F03vOAlc8vss",
        "outputId": "8ede5021-c12b-4ae6-9481-afebe52a3d41"
      },
      "execution_count": null,
      "outputs": [
        {
          "output_type": "execute_result",
          "data": {
            "text/plain": [
              "0    1684942\n",
              "1    1684162\n",
              "Name: Target_CH, dtype: int64"
            ]
          },
          "metadata": {},
          "execution_count": 51
        }
      ]
    },
    {
      "cell_type": "markdown",
      "source": [
        "- NU_NOTA_LC          "
      ],
      "metadata": {
        "id": "bStyKQiD9LYE"
      }
    },
    {
      "cell_type": "code",
      "source": [
        "np.median(df_f.NU_NOTA_LC)"
      ],
      "metadata": {
        "colab": {
          "base_uri": "https://localhost:8080/"
        },
        "id": "GFViPW-L9P5S",
        "outputId": "e5b86f1d-c868-4f8d-f99b-dbe2a95bd9e3"
      },
      "execution_count": null,
      "outputs": [
        {
          "output_type": "execute_result",
          "data": {
            "text/plain": [
              "532.0"
            ]
          },
          "metadata": {},
          "execution_count": 30
        }
      ]
    },
    {
      "cell_type": "code",
      "source": [
        "df_f['Target_LC'] = np.where(df_f['NU_NOTA_LC'] > np.median(df_f.NU_NOTA_LC), 1, 0)"
      ],
      "metadata": {
        "id": "40vSD37B9QCd"
      },
      "execution_count": null,
      "outputs": []
    },
    {
      "cell_type": "code",
      "source": [
        "df_f['Target_LC'].value_counts().sort_index()"
      ],
      "metadata": {
        "colab": {
          "base_uri": "https://localhost:8080/"
        },
        "id": "oQ7tqFzD9QKq",
        "outputId": "87cad770-6bba-44a8-efe9-d4b98d9978ae"
      },
      "execution_count": null,
      "outputs": [
        {
          "output_type": "execute_result",
          "data": {
            "text/plain": [
              "0    1685575\n",
              "1    1683529\n",
              "Name: Target_LC, dtype: int64"
            ]
          },
          "metadata": {},
          "execution_count": 28
        }
      ]
    },
    {
      "cell_type": "markdown",
      "source": [
        "- NU_NOTA_MT          "
      ],
      "metadata": {
        "id": "PVrYQ1he9qIe"
      }
    },
    {
      "cell_type": "code",
      "source": [
        "np.median(df_f.NU_NOTA_MT)"
      ],
      "metadata": {
        "colab": {
          "base_uri": "https://localhost:8080/"
        },
        "id": "VzbMLEi19rQc",
        "outputId": "8652507a-fa72-4750-db8a-a33b3acee673"
      },
      "execution_count": null,
      "outputs": [
        {
          "output_type": "execute_result",
          "data": {
            "text/plain": [
              "514.6"
            ]
          },
          "metadata": {},
          "execution_count": 29
        }
      ]
    },
    {
      "cell_type": "code",
      "source": [
        "df_f['Target_MT'] = np.where(df_f['NU_NOTA_MT'] > np.median(df_f.NU_NOTA_MT), 1, 0)"
      ],
      "metadata": {
        "id": "2q5V31PS9rZM"
      },
      "execution_count": null,
      "outputs": []
    },
    {
      "cell_type": "code",
      "source": [
        "df_f['Target_MT'].value_counts().sort_index()"
      ],
      "metadata": {
        "colab": {
          "base_uri": "https://localhost:8080/"
        },
        "id": "DnSJBaBS9rhQ",
        "outputId": "96780691-463f-40c6-92eb-251030d717b7"
      },
      "execution_count": null,
      "outputs": [
        {
          "output_type": "execute_result",
          "data": {
            "text/plain": [
              "0    1685268\n",
              "1    1683836\n",
              "Name: Target_MT, dtype: int64"
            ]
          },
          "metadata": {},
          "execution_count": 36
        }
      ]
    },
    {
      "cell_type": "markdown",
      "source": [
        "- NU_NOTA_REDACAO     "
      ],
      "metadata": {
        "id": "BtbB4ghy-JA7"
      }
    },
    {
      "cell_type": "code",
      "source": [
        "np.median(df_f.NU_NOTA_REDACAO)"
      ],
      "metadata": {
        "colab": {
          "base_uri": "https://localhost:8080/"
        },
        "id": "Esz42BCS-J_X",
        "outputId": "bd40a143-50a4-4051-c9c8-661a0b750e6d"
      },
      "execution_count": null,
      "outputs": [
        {
          "output_type": "execute_result",
          "data": {
            "text/plain": [
              "520.0"
            ]
          },
          "metadata": {},
          "execution_count": 37
        }
      ]
    },
    {
      "cell_type": "code",
      "source": [
        "df_f['Target_Red'] = np.where(df_f['NU_NOTA_REDACAO'] > np.median(df_f.NU_NOTA_REDACAO), 1, 0)"
      ],
      "metadata": {
        "id": "_5IsvwwX-KHK"
      },
      "execution_count": null,
      "outputs": []
    },
    {
      "cell_type": "code",
      "source": [
        "df_f['Target_Red'].value_counts().sort_index()"
      ],
      "metadata": {
        "colab": {
          "base_uri": "https://localhost:8080/"
        },
        "id": "WUO-npeM-KNi",
        "outputId": "b32e00ed-95e1-4d06-ec60-9dd60e945050"
      },
      "execution_count": null,
      "outputs": [
        {
          "output_type": "execute_result",
          "data": {
            "text/plain": [
              "0    1742444\n",
              "1    1626660\n",
              "Name: Target_Red, dtype: int64"
            ]
          },
          "metadata": {},
          "execution_count": 43
        }
      ]
    },
    {
      "cell_type": "markdown",
      "source": [
        "# **Definição do Target**"
      ],
      "metadata": {
        "id": "SgjeIqfR-06-"
      }
    },
    {
      "cell_type": "code",
      "source": [
        "df_f['Sum_Target'] = df_f['Target_CN'] + df_f['Target_CH'] + df_f['Target_LC'] + df_f['Target_MT'] + df_f['Target_Red']"
      ],
      "metadata": {
        "id": "ZoFalzDk-4zl"
      },
      "execution_count": null,
      "outputs": []
    },
    {
      "cell_type": "code",
      "source": [
        "df_f['Sum_Target'].value_counts().sort_index()"
      ],
      "metadata": {
        "colab": {
          "base_uri": "https://localhost:8080/"
        },
        "id": "t59mVufp_xnk",
        "outputId": "551c2c5c-f271-48f8-db4c-7a5b641ab7cd"
      },
      "execution_count": null,
      "outputs": [
        {
          "output_type": "execute_result",
          "data": {
            "text/plain": [
              "0    621930\n",
              "1    615489\n",
              "2    496806\n",
              "3    461956\n",
              "4    497085\n",
              "5    675838\n",
              "Name: Sum_Target, dtype: int64"
            ]
          },
          "metadata": {},
          "execution_count": 59
        }
      ]
    },
    {
      "cell_type": "code",
      "source": [
        "df_f['Sum_Target_2'] = np.where(df_f['Sum_Target'] >=3, 1, 0)\n",
        "df_f['Sum_Target_2'].value_counts().sort_index()"
      ],
      "metadata": {
        "colab": {
          "base_uri": "https://localhost:8080/"
        },
        "id": "fcUMAp4NDxmG",
        "outputId": "aac22319-99ec-4faf-84f4-16c1d6e60324"
      },
      "execution_count": null,
      "outputs": [
        {
          "output_type": "execute_result",
          "data": {
            "text/plain": [
              "0    1734225\n",
              "1    1634879\n",
              "Name: Sum_Target_2, dtype: int64"
            ]
          },
          "metadata": {},
          "execution_count": 62
        }
      ]
    },
    {
      "cell_type": "code",
      "source": [
        "conditionlist = [(df_f['Sum_Target'] <= 1) ,\n",
        "                 (df_f['Sum_Target'] > 1) & (df_f['Sum_Target'] <= 3),\n",
        "                 (df_f['Sum_Target'] > 3)]\n",
        "choicelist = [0, 1, 2]\n",
        "df_f['Sum_Target_3'] = np.select(conditionlist, choicelist, default='Not Specified')\n",
        "\n",
        "df_f.Sum_Target_3.value_counts().sort_index()"
      ],
      "metadata": {
        "colab": {
          "base_uri": "https://localhost:8080/"
        },
        "id": "ewceGEQ3A-XK",
        "outputId": "3314f2d6-5e84-494f-9b6f-2bd9fed9fac8"
      },
      "execution_count": null,
      "outputs": [
        {
          "output_type": "execute_result",
          "data": {
            "text/plain": [
              "0    1237419\n",
              "1     958762\n",
              "2    1172923\n",
              "Name: Sum_Target_3, dtype: int64"
            ]
          },
          "metadata": {},
          "execution_count": 64
        }
      ]
    },
    {
      "cell_type": "markdown",
      "source": [
        "# **Exclusao de Colunas**"
      ],
      "metadata": {
        "id": "7215thvAGfAY"
      }
    },
    {
      "cell_type": "code",
      "source": [
        "df_f.drop(['Target_CN','Target_CH','Target_LC','Target_MT','Target_Red'], axis = 1, inplace = True)\n",
        "df_f.shape"
      ],
      "metadata": {
        "colab": {
          "base_uri": "https://localhost:8080/"
        },
        "id": "GEwvBvuDGiOC",
        "outputId": "819a452d-b2f0-4b67-e1ca-13f6f914eb7e"
      },
      "execution_count": null,
      "outputs": [
        {
          "output_type": "execute_result",
          "data": {
            "text/plain": [
              "(3369104, 51)"
            ]
          },
          "metadata": {},
          "execution_count": 65
        }
      ]
    },
    {
      "cell_type": "markdown",
      "source": [
        "# **Exportar Base Final**"
      ],
      "metadata": {
        "id": "zvepqC2FHDvL"
      }
    },
    {
      "cell_type": "code",
      "source": [
        "df_f.to_csv('/content/drive/MyDrive/MBA_TCC/DADOS/df_ft_2018.csv', index=False)"
      ],
      "metadata": {
        "id": "Q4oompiwHINi"
      },
      "execution_count": null,
      "outputs": []
    }
  ]
}
