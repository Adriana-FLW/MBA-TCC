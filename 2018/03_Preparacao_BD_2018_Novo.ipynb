{
  "nbformat": 4,
  "nbformat_minor": 0,
  "metadata": {
    "colab": {
      "provenance": [],
      "gpuType": "T4",
      "toc_visible": true,
      "mount_file_id": "1vMP7KwTtTby9vGbvVvRQxoTHZkWd8aEg",
      "authorship_tag": "ABX9TyO0vGpQ3bSs6CXrG3oEb1Ul",
      "include_colab_link": true
    },
    "kernelspec": {
      "name": "python3",
      "display_name": "Python 3"
    },
    "language_info": {
      "name": "python"
    },
    "accelerator": "GPU"
  },
  "cells": [
    {
      "cell_type": "markdown",
      "metadata": {
        "id": "view-in-github",
        "colab_type": "text"
      },
      "source": [
        "<a href=\"https://colab.research.google.com/github/Adriana-FLW/MBA_TCC/blob/main/03_Preparacao_BD_2018_Novo.ipynb\" target=\"_parent\"><img src=\"https://colab.research.google.com/assets/colab-badge.svg\" alt=\"Open In Colab\"/></a>"
      ]
    },
    {
      "cell_type": "markdown",
      "source": [
        "# **ENEM 2018**"
      ],
      "metadata": {
        "id": "m4ZoKrTs5l2N"
      }
    },
    {
      "cell_type": "code",
      "execution_count": 1,
      "metadata": {
        "id": "_avWAEwv5Odi",
        "colab": {
          "base_uri": "https://localhost:8080/"
        },
        "outputId": "262a429b-f302-4e96-da11-ed0b846c1994"
      },
      "outputs": [
        {
          "output_type": "stream",
          "name": "stdout",
          "text": [
            "Mounted at /content/drive\n"
          ]
        }
      ],
      "source": [
        "from google.colab import drive\n",
        "drive.mount('/content/drive')"
      ]
    },
    {
      "cell_type": "markdown",
      "source": [
        "# **Análises**"
      ],
      "metadata": {
        "id": "M8Wco-fkSfTf"
      }
    },
    {
      "cell_type": "markdown",
      "source": [
        "1. Target: Sum_Target_2\n",
        "\n",
        "   Alto Desempenho: Estar acima da mediana em pelo menos 3 competências\n",
        "\n",
        "\n",
        "2. Target: Target_Media\n",
        "\n",
        "  Alto Desempenho: Estar acima da mediana da média das cinco competências\n",
        "  "
      ],
      "metadata": {
        "id": "FZY8qZqXSkHd"
      }
    },
    {
      "cell_type": "markdown",
      "source": [
        "# **Bibliotecas**"
      ],
      "metadata": {
        "id": "lE6RA0Qe6sg-"
      }
    },
    {
      "cell_type": "code",
      "source": [
        "import pandas as pd\n",
        "import numpy as np\n",
        "import random as rd\n",
        "\n",
        "\n",
        "# Árvore de Decisão\n",
        "from sklearn.tree import DecisionTreeClassifier\n",
        "from sklearn.tree import plot_tree\n",
        "\n",
        "# ExtraTreesClassifier\n",
        "from sklearn.ensemble import ExtraTreesClassifier\n",
        "\n",
        "# Fine-tuning de hiper-parâmetros\n",
        "from sklearn.model_selection import GridSearchCV\n",
        "\n",
        "# Gradiente Boosting\n",
        "from sklearn.ensemble import GradientBoostingClassifier\n",
        "\n",
        "# LightGBM\n",
        "from lightgbm import LGBMClassifier\n",
        "\n",
        "# Seleção de Variáveis Independentes Relevantes\n",
        "from sklearn.feature_selection import SelectKBest, chi2\n",
        "\n",
        "# Split\n",
        "from sklearn.model_selection import train_test_split\n",
        "\n",
        "# Regressão Logistica\n",
        "from sklearn.linear_model import LogisticRegression\n",
        "\n",
        "# Random Forest\n",
        "from sklearn.ensemble import RandomForestClassifier\n",
        "\n",
        "# XGBoost\n",
        "from xgboost import XGBClassifier\n",
        "\n",
        "# kNN\n",
        "from sklearn.neighbors import KNeighborsClassifier\n",
        "\n",
        "# Pre Processamento\n",
        "from sklearn.preprocessing import LabelEncoder\n",
        "\n",
        "# Validação\n",
        "from sklearn.metrics import roc_auc_score, roc_curve, accuracy_score\n",
        "from sklearn.metrics import confusion_matrix\n",
        "from sklearn.metrics import classification_report\n",
        "from sklearn import metrics\n",
        "\n",
        "# Validação Cruzada\n",
        "from sklearn.model_selection import StratifiedKFold\n",
        "\n",
        "# Gráficos\n",
        "import seaborn as sns\n",
        "import matplotlib.pyplot as plt"
      ],
      "metadata": {
        "id": "3WF24elD6zNS"
      },
      "execution_count": 2,
      "outputs": []
    },
    {
      "cell_type": "markdown",
      "source": [
        "# **Importar Base**"
      ],
      "metadata": {
        "id": "wI8D48NZ604_"
      }
    },
    {
      "cell_type": "code",
      "source": [
        "df_ft_categ_2018 = pd.read_csv('/content/drive/MyDrive/MBA_TCC/DADOS/df_ft_2018_categ.csv',sep=',',encoding='ISO-8859-1')\n",
        "df_ft_categ_2018.shape"
      ],
      "metadata": {
        "colab": {
          "base_uri": "https://localhost:8080/"
        },
        "id": "ehaH2CrT66wX",
        "outputId": "fb8db4fb-7cce-4793-d556-39ea0b5d1794"
      },
      "execution_count": null,
      "outputs": [
        {
          "output_type": "execute_result",
          "data": {
            "text/plain": [
              "(3369104, 60)"
            ]
          },
          "metadata": {},
          "execution_count": 3
        }
      ]
    },
    {
      "cell_type": "markdown",
      "source": [
        "# **Alteração do Índice**"
      ],
      "metadata": {
        "id": "4JKJkIVSnaKg"
      }
    },
    {
      "cell_type": "code",
      "source": [
        "def f_alteracao_indice(df):\n",
        "  df_altind = df.set_index('NU_INSCRICAO')\n",
        "  return df_altind\n",
        "\n",
        "df_altind = f_alteracao_indice(df_ft_categ_2018)\n",
        "df_altind.sort_index()\n",
        "df_altind.head()"
      ],
      "metadata": {
        "colab": {
          "base_uri": "https://localhost:8080/",
          "height": 348
        },
        "id": "hveaQia01ME4",
        "outputId": "49f937a8-0c85-45a4-acb9-bbebe6501a19"
      },
      "execution_count": null,
      "outputs": [
        {
          "output_type": "execute_result",
          "data": {
            "text/plain": [
              "              NU_ANO TP_SEXO  CO_MUNICIPIO_ESC    NO_MUNICIPIO_ESC SG_UF_ESC  \\\n",
              "NU_INSCRICAO                                                                   \n",
              "180007186625    2018       F         1500800.0          Ananindeua        PA   \n",
              "180007186627    2018       F              -1.0                  -1        -1   \n",
              "180007186628    2018       M         3155603.0  Rio Pardo de Minas        MG   \n",
              "180007186629    2018       F         1500800.0          Ananindeua        PA   \n",
              "180007186631    2018       F              -1.0                  -1        -1   \n",
              "\n",
              "              TP_LOCALIZACAO_ESC  CO_MUNICIPIO_PROVA  \\\n",
              "NU_INSCRICAO                                           \n",
              "180007186625                   1           1500800.0   \n",
              "180007186627                  -1           1503200.0   \n",
              "180007186628                   1           3155603.0   \n",
              "180007186629                   1           1500800.0   \n",
              "180007186631                  -1           2610905.0   \n",
              "\n",
              "                     NO_MUNICIPIO_PROVA SG_UF_PROVA  NU_NOTA_CN  ...  Q005_  \\\n",
              "NU_INSCRICAO                                                     ...          \n",
              "180007186625                 Ananindeua          PA       534.2  ...      1   \n",
              "180007186627  IgarapÃÂÃÂ©-AÃÂÃÂ§u          PA       506.9  ...      1   \n",
              "180007186628         Rio Pardo de Minas          MG       470.6  ...      4   \n",
              "180007186629                 Ananindeua          PA       588.9  ...      1   \n",
              "180007186631                  Pesqueira          PE       477.8  ...      1   \n",
              "\n",
              "              Q006_  Q012_  Q013_  Q014_ Q015_ Q016_ Q017_ Q019_ Q024_  \n",
              "NU_INSCRICAO                                                            \n",
              "180007186625      6      1      2      1     1     2     1     3     3  \n",
              "180007186627      2      2      1      1     1     1     1     2     1  \n",
              "180007186628      2      2      1      1     1     1     1     2     1  \n",
              "180007186629      7      2      1      2     1     1     1     3     1  \n",
              "180007186631      3      2      1      1     1     1     1     2     2  \n",
              "\n",
              "[5 rows x 59 columns]"
            ],
            "text/html": [
              "\n",
              "\n",
              "  <div id=\"df-31112131-1b8f-42bb-beb9-3ec18ba26b25\">\n",
              "    <div class=\"colab-df-container\">\n",
              "      <div>\n",
              "<style scoped>\n",
              "    .dataframe tbody tr th:only-of-type {\n",
              "        vertical-align: middle;\n",
              "    }\n",
              "\n",
              "    .dataframe tbody tr th {\n",
              "        vertical-align: top;\n",
              "    }\n",
              "\n",
              "    .dataframe thead th {\n",
              "        text-align: right;\n",
              "    }\n",
              "</style>\n",
              "<table border=\"1\" class=\"dataframe\">\n",
              "  <thead>\n",
              "    <tr style=\"text-align: right;\">\n",
              "      <th></th>\n",
              "      <th>NU_ANO</th>\n",
              "      <th>TP_SEXO</th>\n",
              "      <th>CO_MUNICIPIO_ESC</th>\n",
              "      <th>NO_MUNICIPIO_ESC</th>\n",
              "      <th>SG_UF_ESC</th>\n",
              "      <th>TP_LOCALIZACAO_ESC</th>\n",
              "      <th>CO_MUNICIPIO_PROVA</th>\n",
              "      <th>NO_MUNICIPIO_PROVA</th>\n",
              "      <th>SG_UF_PROVA</th>\n",
              "      <th>NU_NOTA_CN</th>\n",
              "      <th>...</th>\n",
              "      <th>Q005_</th>\n",
              "      <th>Q006_</th>\n",
              "      <th>Q012_</th>\n",
              "      <th>Q013_</th>\n",
              "      <th>Q014_</th>\n",
              "      <th>Q015_</th>\n",
              "      <th>Q016_</th>\n",
              "      <th>Q017_</th>\n",
              "      <th>Q019_</th>\n",
              "      <th>Q024_</th>\n",
              "    </tr>\n",
              "    <tr>\n",
              "      <th>NU_INSCRICAO</th>\n",
              "      <th></th>\n",
              "      <th></th>\n",
              "      <th></th>\n",
              "      <th></th>\n",
              "      <th></th>\n",
              "      <th></th>\n",
              "      <th></th>\n",
              "      <th></th>\n",
              "      <th></th>\n",
              "      <th></th>\n",
              "      <th></th>\n",
              "      <th></th>\n",
              "      <th></th>\n",
              "      <th></th>\n",
              "      <th></th>\n",
              "      <th></th>\n",
              "      <th></th>\n",
              "      <th></th>\n",
              "      <th></th>\n",
              "      <th></th>\n",
              "      <th></th>\n",
              "    </tr>\n",
              "  </thead>\n",
              "  <tbody>\n",
              "    <tr>\n",
              "      <th>180007186625</th>\n",
              "      <td>2018</td>\n",
              "      <td>F</td>\n",
              "      <td>1500800.0</td>\n",
              "      <td>Ananindeua</td>\n",
              "      <td>PA</td>\n",
              "      <td>1</td>\n",
              "      <td>1500800.0</td>\n",
              "      <td>Ananindeua</td>\n",
              "      <td>PA</td>\n",
              "      <td>534.2</td>\n",
              "      <td>...</td>\n",
              "      <td>1</td>\n",
              "      <td>6</td>\n",
              "      <td>1</td>\n",
              "      <td>2</td>\n",
              "      <td>1</td>\n",
              "      <td>1</td>\n",
              "      <td>2</td>\n",
              "      <td>1</td>\n",
              "      <td>3</td>\n",
              "      <td>3</td>\n",
              "    </tr>\n",
              "    <tr>\n",
              "      <th>180007186627</th>\n",
              "      <td>2018</td>\n",
              "      <td>F</td>\n",
              "      <td>-1.0</td>\n",
              "      <td>-1</td>\n",
              "      <td>-1</td>\n",
              "      <td>-1</td>\n",
              "      <td>1503200.0</td>\n",
              "      <td>IgarapÃÂÃÂ©-AÃÂÃÂ§u</td>\n",
              "      <td>PA</td>\n",
              "      <td>506.9</td>\n",
              "      <td>...</td>\n",
              "      <td>1</td>\n",
              "      <td>2</td>\n",
              "      <td>2</td>\n",
              "      <td>1</td>\n",
              "      <td>1</td>\n",
              "      <td>1</td>\n",
              "      <td>1</td>\n",
              "      <td>1</td>\n",
              "      <td>2</td>\n",
              "      <td>1</td>\n",
              "    </tr>\n",
              "    <tr>\n",
              "      <th>180007186628</th>\n",
              "      <td>2018</td>\n",
              "      <td>M</td>\n",
              "      <td>3155603.0</td>\n",
              "      <td>Rio Pardo de Minas</td>\n",
              "      <td>MG</td>\n",
              "      <td>1</td>\n",
              "      <td>3155603.0</td>\n",
              "      <td>Rio Pardo de Minas</td>\n",
              "      <td>MG</td>\n",
              "      <td>470.6</td>\n",
              "      <td>...</td>\n",
              "      <td>4</td>\n",
              "      <td>2</td>\n",
              "      <td>2</td>\n",
              "      <td>1</td>\n",
              "      <td>1</td>\n",
              "      <td>1</td>\n",
              "      <td>1</td>\n",
              "      <td>1</td>\n",
              "      <td>2</td>\n",
              "      <td>1</td>\n",
              "    </tr>\n",
              "    <tr>\n",
              "      <th>180007186629</th>\n",
              "      <td>2018</td>\n",
              "      <td>F</td>\n",
              "      <td>1500800.0</td>\n",
              "      <td>Ananindeua</td>\n",
              "      <td>PA</td>\n",
              "      <td>1</td>\n",
              "      <td>1500800.0</td>\n",
              "      <td>Ananindeua</td>\n",
              "      <td>PA</td>\n",
              "      <td>588.9</td>\n",
              "      <td>...</td>\n",
              "      <td>1</td>\n",
              "      <td>7</td>\n",
              "      <td>2</td>\n",
              "      <td>1</td>\n",
              "      <td>2</td>\n",
              "      <td>1</td>\n",
              "      <td>1</td>\n",
              "      <td>1</td>\n",
              "      <td>3</td>\n",
              "      <td>1</td>\n",
              "    </tr>\n",
              "    <tr>\n",
              "      <th>180007186631</th>\n",
              "      <td>2018</td>\n",
              "      <td>F</td>\n",
              "      <td>-1.0</td>\n",
              "      <td>-1</td>\n",
              "      <td>-1</td>\n",
              "      <td>-1</td>\n",
              "      <td>2610905.0</td>\n",
              "      <td>Pesqueira</td>\n",
              "      <td>PE</td>\n",
              "      <td>477.8</td>\n",
              "      <td>...</td>\n",
              "      <td>1</td>\n",
              "      <td>3</td>\n",
              "      <td>2</td>\n",
              "      <td>1</td>\n",
              "      <td>1</td>\n",
              "      <td>1</td>\n",
              "      <td>1</td>\n",
              "      <td>1</td>\n",
              "      <td>2</td>\n",
              "      <td>2</td>\n",
              "    </tr>\n",
              "  </tbody>\n",
              "</table>\n",
              "<p>5 rows × 59 columns</p>\n",
              "</div>\n",
              "      <button class=\"colab-df-convert\" onclick=\"convertToInteractive('df-31112131-1b8f-42bb-beb9-3ec18ba26b25')\"\n",
              "              title=\"Convert this dataframe to an interactive table.\"\n",
              "              style=\"display:none;\">\n",
              "\n",
              "  <svg xmlns=\"http://www.w3.org/2000/svg\" height=\"24px\"viewBox=\"0 0 24 24\"\n",
              "       width=\"24px\">\n",
              "    <path d=\"M0 0h24v24H0V0z\" fill=\"none\"/>\n",
              "    <path d=\"M18.56 5.44l.94 2.06.94-2.06 2.06-.94-2.06-.94-.94-2.06-.94 2.06-2.06.94zm-11 1L8.5 8.5l.94-2.06 2.06-.94-2.06-.94L8.5 2.5l-.94 2.06-2.06.94zm10 10l.94 2.06.94-2.06 2.06-.94-2.06-.94-.94-2.06-.94 2.06-2.06.94z\"/><path d=\"M17.41 7.96l-1.37-1.37c-.4-.4-.92-.59-1.43-.59-.52 0-1.04.2-1.43.59L10.3 9.45l-7.72 7.72c-.78.78-.78 2.05 0 2.83L4 21.41c.39.39.9.59 1.41.59.51 0 1.02-.2 1.41-.59l7.78-7.78 2.81-2.81c.8-.78.8-2.07 0-2.86zM5.41 20L4 18.59l7.72-7.72 1.47 1.35L5.41 20z\"/>\n",
              "  </svg>\n",
              "      </button>\n",
              "\n",
              "\n",
              "\n",
              "    <div id=\"df-104fad00-03c9-4712-aac1-4b936900b8c7\">\n",
              "      <button class=\"colab-df-quickchart\" onclick=\"quickchart('df-104fad00-03c9-4712-aac1-4b936900b8c7')\"\n",
              "              title=\"Suggest charts.\"\n",
              "              style=\"display:none;\">\n",
              "\n",
              "<svg xmlns=\"http://www.w3.org/2000/svg\" height=\"24px\"viewBox=\"0 0 24 24\"\n",
              "     width=\"24px\">\n",
              "    <g>\n",
              "        <path d=\"M19 3H5c-1.1 0-2 .9-2 2v14c0 1.1.9 2 2 2h14c1.1 0 2-.9 2-2V5c0-1.1-.9-2-2-2zM9 17H7v-7h2v7zm4 0h-2V7h2v10zm4 0h-2v-4h2v4z\"/>\n",
              "    </g>\n",
              "</svg>\n",
              "      </button>\n",
              "    </div>\n",
              "\n",
              "<style>\n",
              "  .colab-df-quickchart {\n",
              "    background-color: #E8F0FE;\n",
              "    border: none;\n",
              "    border-radius: 50%;\n",
              "    cursor: pointer;\n",
              "    display: none;\n",
              "    fill: #1967D2;\n",
              "    height: 32px;\n",
              "    padding: 0 0 0 0;\n",
              "    width: 32px;\n",
              "  }\n",
              "\n",
              "  .colab-df-quickchart:hover {\n",
              "    background-color: #E2EBFA;\n",
              "    box-shadow: 0px 1px 2px rgba(60, 64, 67, 0.3), 0px 1px 3px 1px rgba(60, 64, 67, 0.15);\n",
              "    fill: #174EA6;\n",
              "  }\n",
              "\n",
              "  [theme=dark] .colab-df-quickchart {\n",
              "    background-color: #3B4455;\n",
              "    fill: #D2E3FC;\n",
              "  }\n",
              "\n",
              "  [theme=dark] .colab-df-quickchart:hover {\n",
              "    background-color: #434B5C;\n",
              "    box-shadow: 0px 1px 3px 1px rgba(0, 0, 0, 0.15);\n",
              "    filter: drop-shadow(0px 1px 2px rgba(0, 0, 0, 0.3));\n",
              "    fill: #FFFFFF;\n",
              "  }\n",
              "</style>\n",
              "\n",
              "    <script>\n",
              "      async function quickchart(key) {\n",
              "        const containerElement = document.querySelector('#' + key);\n",
              "        const charts = await google.colab.kernel.invokeFunction(\n",
              "            'suggestCharts', [key], {});\n",
              "      }\n",
              "    </script>\n",
              "\n",
              "      <script>\n",
              "\n",
              "function displayQuickchartButton(domScope) {\n",
              "  let quickchartButtonEl =\n",
              "    domScope.querySelector('#df-104fad00-03c9-4712-aac1-4b936900b8c7 button.colab-df-quickchart');\n",
              "  quickchartButtonEl.style.display =\n",
              "    google.colab.kernel.accessAllowed ? 'block' : 'none';\n",
              "}\n",
              "\n",
              "        displayQuickchartButton(document);\n",
              "      </script>\n",
              "      <style>\n",
              "    .colab-df-container {\n",
              "      display:flex;\n",
              "      flex-wrap:wrap;\n",
              "      gap: 12px;\n",
              "    }\n",
              "\n",
              "    .colab-df-convert {\n",
              "      background-color: #E8F0FE;\n",
              "      border: none;\n",
              "      border-radius: 50%;\n",
              "      cursor: pointer;\n",
              "      display: none;\n",
              "      fill: #1967D2;\n",
              "      height: 32px;\n",
              "      padding: 0 0 0 0;\n",
              "      width: 32px;\n",
              "    }\n",
              "\n",
              "    .colab-df-convert:hover {\n",
              "      background-color: #E2EBFA;\n",
              "      box-shadow: 0px 1px 2px rgba(60, 64, 67, 0.3), 0px 1px 3px 1px rgba(60, 64, 67, 0.15);\n",
              "      fill: #174EA6;\n",
              "    }\n",
              "\n",
              "    [theme=dark] .colab-df-convert {\n",
              "      background-color: #3B4455;\n",
              "      fill: #D2E3FC;\n",
              "    }\n",
              "\n",
              "    [theme=dark] .colab-df-convert:hover {\n",
              "      background-color: #434B5C;\n",
              "      box-shadow: 0px 1px 3px 1px rgba(0, 0, 0, 0.15);\n",
              "      filter: drop-shadow(0px 1px 2px rgba(0, 0, 0, 0.3));\n",
              "      fill: #FFFFFF;\n",
              "    }\n",
              "  </style>\n",
              "\n",
              "      <script>\n",
              "        const buttonEl =\n",
              "          document.querySelector('#df-31112131-1b8f-42bb-beb9-3ec18ba26b25 button.colab-df-convert');\n",
              "        buttonEl.style.display =\n",
              "          google.colab.kernel.accessAllowed ? 'block' : 'none';\n",
              "\n",
              "        async function convertToInteractive(key) {\n",
              "          const element = document.querySelector('#df-31112131-1b8f-42bb-beb9-3ec18ba26b25');\n",
              "          const dataTable =\n",
              "            await google.colab.kernel.invokeFunction('convertToInteractive',\n",
              "                                                     [key], {});\n",
              "          if (!dataTable) return;\n",
              "\n",
              "          const docLinkHtml = 'Like what you see? Visit the ' +\n",
              "            '<a target=\"_blank\" href=https://colab.research.google.com/notebooks/data_table.ipynb>data table notebook</a>'\n",
              "            + ' to learn more about interactive tables.';\n",
              "          element.innerHTML = '';\n",
              "          dataTable['output_type'] = 'display_data';\n",
              "          await google.colab.output.renderOutput(dataTable, element);\n",
              "          const docLink = document.createElement('div');\n",
              "          docLink.innerHTML = docLinkHtml;\n",
              "          element.appendChild(docLink);\n",
              "        }\n",
              "      </script>\n",
              "    </div>\n",
              "  </div>\n"
            ]
          },
          "metadata": {},
          "execution_count": 6
        }
      ]
    },
    {
      "cell_type": "markdown",
      "source": [
        "# **Inclusão do Target 2**"
      ],
      "metadata": {
        "id": "TqGjR2O8Oq1I"
      }
    },
    {
      "cell_type": "code",
      "source": [
        "df_altind['Media_Notas'] = (df_altind.NU_NOTA_CN +\n",
        "                            df_altind.NU_NOTA_CH +\n",
        "                            df_altind.NU_NOTA_LC +\n",
        "                            df_altind.NU_NOTA_MT +\n",
        "                            df_altind.NU_NOTA_REDACAO)/5\n",
        "df_altind['Target_Media'] = np.where(df_altind['Media_Notas'] > np.median(df_altind.Media_Notas), 1, 0)"
      ],
      "metadata": {
        "id": "W5otR-QjOvCI"
      },
      "execution_count": null,
      "outputs": []
    },
    {
      "cell_type": "code",
      "source": [
        "tb1 = pd.crosstab(df_altind.Sum_Target_2,df_altind.Target_Media, margins=True, dropna=False)\n",
        "display(tb1)"
      ],
      "metadata": {
        "colab": {
          "base_uri": "https://localhost:8080/",
          "height": 175
        },
        "id": "0GeO50O_5_eH",
        "outputId": "6a8e8119-ae92-4aca-c67e-cab391e9560f"
      },
      "execution_count": null,
      "outputs": [
        {
          "output_type": "display_data",
          "data": {
            "text/plain": [
              "Target_Media        0        1      All\n",
              "Sum_Target_2                           \n",
              "0             1559224   175001  1734225\n",
              "1              125547  1509332  1634879\n",
              "All           1684771  1684333  3369104"
            ],
            "text/html": [
              "\n",
              "\n",
              "  <div id=\"df-f7be33c4-5af7-4351-8d80-6873f2719cb2\">\n",
              "    <div class=\"colab-df-container\">\n",
              "      <div>\n",
              "<style scoped>\n",
              "    .dataframe tbody tr th:only-of-type {\n",
              "        vertical-align: middle;\n",
              "    }\n",
              "\n",
              "    .dataframe tbody tr th {\n",
              "        vertical-align: top;\n",
              "    }\n",
              "\n",
              "    .dataframe thead th {\n",
              "        text-align: right;\n",
              "    }\n",
              "</style>\n",
              "<table border=\"1\" class=\"dataframe\">\n",
              "  <thead>\n",
              "    <tr style=\"text-align: right;\">\n",
              "      <th>Target_Media</th>\n",
              "      <th>0</th>\n",
              "      <th>1</th>\n",
              "      <th>All</th>\n",
              "    </tr>\n",
              "    <tr>\n",
              "      <th>Sum_Target_2</th>\n",
              "      <th></th>\n",
              "      <th></th>\n",
              "      <th></th>\n",
              "    </tr>\n",
              "  </thead>\n",
              "  <tbody>\n",
              "    <tr>\n",
              "      <th>0</th>\n",
              "      <td>1559224</td>\n",
              "      <td>175001</td>\n",
              "      <td>1734225</td>\n",
              "    </tr>\n",
              "    <tr>\n",
              "      <th>1</th>\n",
              "      <td>125547</td>\n",
              "      <td>1509332</td>\n",
              "      <td>1634879</td>\n",
              "    </tr>\n",
              "    <tr>\n",
              "      <th>All</th>\n",
              "      <td>1684771</td>\n",
              "      <td>1684333</td>\n",
              "      <td>3369104</td>\n",
              "    </tr>\n",
              "  </tbody>\n",
              "</table>\n",
              "</div>\n",
              "      <button class=\"colab-df-convert\" onclick=\"convertToInteractive('df-f7be33c4-5af7-4351-8d80-6873f2719cb2')\"\n",
              "              title=\"Convert this dataframe to an interactive table.\"\n",
              "              style=\"display:none;\">\n",
              "\n",
              "  <svg xmlns=\"http://www.w3.org/2000/svg\" height=\"24px\"viewBox=\"0 0 24 24\"\n",
              "       width=\"24px\">\n",
              "    <path d=\"M0 0h24v24H0V0z\" fill=\"none\"/>\n",
              "    <path d=\"M18.56 5.44l.94 2.06.94-2.06 2.06-.94-2.06-.94-.94-2.06-.94 2.06-2.06.94zm-11 1L8.5 8.5l.94-2.06 2.06-.94-2.06-.94L8.5 2.5l-.94 2.06-2.06.94zm10 10l.94 2.06.94-2.06 2.06-.94-2.06-.94-.94-2.06-.94 2.06-2.06.94z\"/><path d=\"M17.41 7.96l-1.37-1.37c-.4-.4-.92-.59-1.43-.59-.52 0-1.04.2-1.43.59L10.3 9.45l-7.72 7.72c-.78.78-.78 2.05 0 2.83L4 21.41c.39.39.9.59 1.41.59.51 0 1.02-.2 1.41-.59l7.78-7.78 2.81-2.81c.8-.78.8-2.07 0-2.86zM5.41 20L4 18.59l7.72-7.72 1.47 1.35L5.41 20z\"/>\n",
              "  </svg>\n",
              "      </button>\n",
              "\n",
              "\n",
              "\n",
              "    <div id=\"df-7380d631-1664-4d2d-8d46-82c157d82825\">\n",
              "      <button class=\"colab-df-quickchart\" onclick=\"quickchart('df-7380d631-1664-4d2d-8d46-82c157d82825')\"\n",
              "              title=\"Suggest charts.\"\n",
              "              style=\"display:none;\">\n",
              "\n",
              "<svg xmlns=\"http://www.w3.org/2000/svg\" height=\"24px\"viewBox=\"0 0 24 24\"\n",
              "     width=\"24px\">\n",
              "    <g>\n",
              "        <path d=\"M19 3H5c-1.1 0-2 .9-2 2v14c0 1.1.9 2 2 2h14c1.1 0 2-.9 2-2V5c0-1.1-.9-2-2-2zM9 17H7v-7h2v7zm4 0h-2V7h2v10zm4 0h-2v-4h2v4z\"/>\n",
              "    </g>\n",
              "</svg>\n",
              "      </button>\n",
              "    </div>\n",
              "\n",
              "<style>\n",
              "  .colab-df-quickchart {\n",
              "    background-color: #E8F0FE;\n",
              "    border: none;\n",
              "    border-radius: 50%;\n",
              "    cursor: pointer;\n",
              "    display: none;\n",
              "    fill: #1967D2;\n",
              "    height: 32px;\n",
              "    padding: 0 0 0 0;\n",
              "    width: 32px;\n",
              "  }\n",
              "\n",
              "  .colab-df-quickchart:hover {\n",
              "    background-color: #E2EBFA;\n",
              "    box-shadow: 0px 1px 2px rgba(60, 64, 67, 0.3), 0px 1px 3px 1px rgba(60, 64, 67, 0.15);\n",
              "    fill: #174EA6;\n",
              "  }\n",
              "\n",
              "  [theme=dark] .colab-df-quickchart {\n",
              "    background-color: #3B4455;\n",
              "    fill: #D2E3FC;\n",
              "  }\n",
              "\n",
              "  [theme=dark] .colab-df-quickchart:hover {\n",
              "    background-color: #434B5C;\n",
              "    box-shadow: 0px 1px 3px 1px rgba(0, 0, 0, 0.15);\n",
              "    filter: drop-shadow(0px 1px 2px rgba(0, 0, 0, 0.3));\n",
              "    fill: #FFFFFF;\n",
              "  }\n",
              "</style>\n",
              "\n",
              "    <script>\n",
              "      async function quickchart(key) {\n",
              "        const containerElement = document.querySelector('#' + key);\n",
              "        const charts = await google.colab.kernel.invokeFunction(\n",
              "            'suggestCharts', [key], {});\n",
              "      }\n",
              "    </script>\n",
              "\n",
              "      <script>\n",
              "\n",
              "function displayQuickchartButton(domScope) {\n",
              "  let quickchartButtonEl =\n",
              "    domScope.querySelector('#df-7380d631-1664-4d2d-8d46-82c157d82825 button.colab-df-quickchart');\n",
              "  quickchartButtonEl.style.display =\n",
              "    google.colab.kernel.accessAllowed ? 'block' : 'none';\n",
              "}\n",
              "\n",
              "        displayQuickchartButton(document);\n",
              "      </script>\n",
              "      <style>\n",
              "    .colab-df-container {\n",
              "      display:flex;\n",
              "      flex-wrap:wrap;\n",
              "      gap: 12px;\n",
              "    }\n",
              "\n",
              "    .colab-df-convert {\n",
              "      background-color: #E8F0FE;\n",
              "      border: none;\n",
              "      border-radius: 50%;\n",
              "      cursor: pointer;\n",
              "      display: none;\n",
              "      fill: #1967D2;\n",
              "      height: 32px;\n",
              "      padding: 0 0 0 0;\n",
              "      width: 32px;\n",
              "    }\n",
              "\n",
              "    .colab-df-convert:hover {\n",
              "      background-color: #E2EBFA;\n",
              "      box-shadow: 0px 1px 2px rgba(60, 64, 67, 0.3), 0px 1px 3px 1px rgba(60, 64, 67, 0.15);\n",
              "      fill: #174EA6;\n",
              "    }\n",
              "\n",
              "    [theme=dark] .colab-df-convert {\n",
              "      background-color: #3B4455;\n",
              "      fill: #D2E3FC;\n",
              "    }\n",
              "\n",
              "    [theme=dark] .colab-df-convert:hover {\n",
              "      background-color: #434B5C;\n",
              "      box-shadow: 0px 1px 3px 1px rgba(0, 0, 0, 0.15);\n",
              "      filter: drop-shadow(0px 1px 2px rgba(0, 0, 0, 0.3));\n",
              "      fill: #FFFFFF;\n",
              "    }\n",
              "  </style>\n",
              "\n",
              "      <script>\n",
              "        const buttonEl =\n",
              "          document.querySelector('#df-f7be33c4-5af7-4351-8d80-6873f2719cb2 button.colab-df-convert');\n",
              "        buttonEl.style.display =\n",
              "          google.colab.kernel.accessAllowed ? 'block' : 'none';\n",
              "\n",
              "        async function convertToInteractive(key) {\n",
              "          const element = document.querySelector('#df-f7be33c4-5af7-4351-8d80-6873f2719cb2');\n",
              "          const dataTable =\n",
              "            await google.colab.kernel.invokeFunction('convertToInteractive',\n",
              "                                                     [key], {});\n",
              "          if (!dataTable) return;\n",
              "\n",
              "          const docLinkHtml = 'Like what you see? Visit the ' +\n",
              "            '<a target=\"_blank\" href=https://colab.research.google.com/notebooks/data_table.ipynb>data table notebook</a>'\n",
              "            + ' to learn more about interactive tables.';\n",
              "          element.innerHTML = '';\n",
              "          dataTable['output_type'] = 'display_data';\n",
              "          await google.colab.output.renderOutput(dataTable, element);\n",
              "          const docLink = document.createElement('div');\n",
              "          docLink.innerHTML = docLinkHtml;\n",
              "          element.appendChild(docLink);\n",
              "        }\n",
              "      </script>\n",
              "    </div>\n",
              "  </div>\n"
            ]
          },
          "metadata": {}
        }
      ]
    },
    {
      "cell_type": "code",
      "source": [
        "from sklearn.metrics import cohen_kappa_score\n",
        "\n",
        "kappa_score = cohen_kappa_score(df_altind.Sum_Target_2, df_altind.Target_Media) # Concordância entre as medidas\n",
        "print(\"Coeficiente de Kappa:\", round(kappa_score,4))"
      ],
      "metadata": {
        "colab": {
          "base_uri": "https://localhost:8080/"
        },
        "id": "T78v2dNP62uG",
        "outputId": "0b098fb7-3c56-41ec-98a4-f13e39a6daf5"
      },
      "execution_count": null,
      "outputs": [
        {
          "output_type": "stream",
          "name": "stdout",
          "text": [
            "Coeficiente de Kappa: 0.8216\n"
          ]
        }
      ]
    },
    {
      "cell_type": "code",
      "source": [
        "from sklearn.metrics import accuracy_score\n",
        "\n",
        "acuracia = accuracy_score(df_altind.Sum_Target_2, df_altind.Target_Media) # Taxa de Classificação entre as medidas\n",
        "print(\"Acurácia:\", round(acuracia,4))"
      ],
      "metadata": {
        "colab": {
          "base_uri": "https://localhost:8080/"
        },
        "id": "hOluYhPM7YFw",
        "outputId": "5860c9e6-8318-4bd5-fa0a-4910dafdb41e"
      },
      "execution_count": null,
      "outputs": [
        {
          "output_type": "stream",
          "name": "stdout",
          "text": [
            "Acurácia: 0.9108\n"
          ]
        }
      ]
    },
    {
      "cell_type": "code",
      "source": [
        "np.median(df_altind.Media_Notas)"
      ],
      "metadata": {
        "colab": {
          "base_uri": "https://localhost:8080/"
        },
        "id": "LX8_lMUiE7m8",
        "outputId": "dc4f5da0-4492-446d-b6c5-c9e4f0ca6b7f"
      },
      "execution_count": null,
      "outputs": [
        {
          "output_type": "execute_result",
          "data": {
            "text/plain": [
              "518.92"
            ]
          },
          "metadata": {},
          "execution_count": 10
        }
      ]
    },
    {
      "cell_type": "code",
      "source": [
        "verificar = df_altind.loc[(df_altind['Sum_Target_2'] == 1) &\n",
        "                          (df_altind['Target_Media'] == 0) &\n",
        "                          (df_altind['Sum_Target'] == 4),\n",
        "                          ['Sum_Target', 'Sum_Target_3', 'Sum_Target_2', 'Target_Media', 'Media_Notas']]\n",
        "verificar.head()"
      ],
      "metadata": {
        "colab": {
          "base_uri": "https://localhost:8080/",
          "height": 237
        },
        "id": "6jNYS5ir_LSd",
        "outputId": "9c289ad0-0225-4bd9-a8d1-4476237feebe"
      },
      "execution_count": null,
      "outputs": [
        {
          "output_type": "execute_result",
          "data": {
            "text/plain": [
              "              Sum_Target  Sum_Target_3  Sum_Target_2  Target_Media  \\\n",
              "NU_INSCRICAO                                                         \n",
              "180007187554           4             2             1             0   \n",
              "180007187996           4             2             1             0   \n",
              "180007188059           4             2             1             0   \n",
              "180007190478           4             2             1             0   \n",
              "180007190577           4             2             1             0   \n",
              "\n",
              "              Media_Notas  \n",
              "NU_INSCRICAO               \n",
              "180007187554       515.78  \n",
              "180007187996       513.56  \n",
              "180007188059       501.16  \n",
              "180007190478       515.78  \n",
              "180007190577       508.04  "
            ],
            "text/html": [
              "\n",
              "\n",
              "  <div id=\"df-8c39f1ac-4d91-4a6a-87ff-1de23090d773\">\n",
              "    <div class=\"colab-df-container\">\n",
              "      <div>\n",
              "<style scoped>\n",
              "    .dataframe tbody tr th:only-of-type {\n",
              "        vertical-align: middle;\n",
              "    }\n",
              "\n",
              "    .dataframe tbody tr th {\n",
              "        vertical-align: top;\n",
              "    }\n",
              "\n",
              "    .dataframe thead th {\n",
              "        text-align: right;\n",
              "    }\n",
              "</style>\n",
              "<table border=\"1\" class=\"dataframe\">\n",
              "  <thead>\n",
              "    <tr style=\"text-align: right;\">\n",
              "      <th></th>\n",
              "      <th>Sum_Target</th>\n",
              "      <th>Sum_Target_3</th>\n",
              "      <th>Sum_Target_2</th>\n",
              "      <th>Target_Media</th>\n",
              "      <th>Media_Notas</th>\n",
              "    </tr>\n",
              "    <tr>\n",
              "      <th>NU_INSCRICAO</th>\n",
              "      <th></th>\n",
              "      <th></th>\n",
              "      <th></th>\n",
              "      <th></th>\n",
              "      <th></th>\n",
              "    </tr>\n",
              "  </thead>\n",
              "  <tbody>\n",
              "    <tr>\n",
              "      <th>180007187554</th>\n",
              "      <td>4</td>\n",
              "      <td>2</td>\n",
              "      <td>1</td>\n",
              "      <td>0</td>\n",
              "      <td>515.78</td>\n",
              "    </tr>\n",
              "    <tr>\n",
              "      <th>180007187996</th>\n",
              "      <td>4</td>\n",
              "      <td>2</td>\n",
              "      <td>1</td>\n",
              "      <td>0</td>\n",
              "      <td>513.56</td>\n",
              "    </tr>\n",
              "    <tr>\n",
              "      <th>180007188059</th>\n",
              "      <td>4</td>\n",
              "      <td>2</td>\n",
              "      <td>1</td>\n",
              "      <td>0</td>\n",
              "      <td>501.16</td>\n",
              "    </tr>\n",
              "    <tr>\n",
              "      <th>180007190478</th>\n",
              "      <td>4</td>\n",
              "      <td>2</td>\n",
              "      <td>1</td>\n",
              "      <td>0</td>\n",
              "      <td>515.78</td>\n",
              "    </tr>\n",
              "    <tr>\n",
              "      <th>180007190577</th>\n",
              "      <td>4</td>\n",
              "      <td>2</td>\n",
              "      <td>1</td>\n",
              "      <td>0</td>\n",
              "      <td>508.04</td>\n",
              "    </tr>\n",
              "  </tbody>\n",
              "</table>\n",
              "</div>\n",
              "      <button class=\"colab-df-convert\" onclick=\"convertToInteractive('df-8c39f1ac-4d91-4a6a-87ff-1de23090d773')\"\n",
              "              title=\"Convert this dataframe to an interactive table.\"\n",
              "              style=\"display:none;\">\n",
              "\n",
              "  <svg xmlns=\"http://www.w3.org/2000/svg\" height=\"24px\"viewBox=\"0 0 24 24\"\n",
              "       width=\"24px\">\n",
              "    <path d=\"M0 0h24v24H0V0z\" fill=\"none\"/>\n",
              "    <path d=\"M18.56 5.44l.94 2.06.94-2.06 2.06-.94-2.06-.94-.94-2.06-.94 2.06-2.06.94zm-11 1L8.5 8.5l.94-2.06 2.06-.94-2.06-.94L8.5 2.5l-.94 2.06-2.06.94zm10 10l.94 2.06.94-2.06 2.06-.94-2.06-.94-.94-2.06-.94 2.06-2.06.94z\"/><path d=\"M17.41 7.96l-1.37-1.37c-.4-.4-.92-.59-1.43-.59-.52 0-1.04.2-1.43.59L10.3 9.45l-7.72 7.72c-.78.78-.78 2.05 0 2.83L4 21.41c.39.39.9.59 1.41.59.51 0 1.02-.2 1.41-.59l7.78-7.78 2.81-2.81c.8-.78.8-2.07 0-2.86zM5.41 20L4 18.59l7.72-7.72 1.47 1.35L5.41 20z\"/>\n",
              "  </svg>\n",
              "      </button>\n",
              "\n",
              "\n",
              "\n",
              "    <div id=\"df-3a667877-f26a-4951-9298-30d085c297ca\">\n",
              "      <button class=\"colab-df-quickchart\" onclick=\"quickchart('df-3a667877-f26a-4951-9298-30d085c297ca')\"\n",
              "              title=\"Suggest charts.\"\n",
              "              style=\"display:none;\">\n",
              "\n",
              "<svg xmlns=\"http://www.w3.org/2000/svg\" height=\"24px\"viewBox=\"0 0 24 24\"\n",
              "     width=\"24px\">\n",
              "    <g>\n",
              "        <path d=\"M19 3H5c-1.1 0-2 .9-2 2v14c0 1.1.9 2 2 2h14c1.1 0 2-.9 2-2V5c0-1.1-.9-2-2-2zM9 17H7v-7h2v7zm4 0h-2V7h2v10zm4 0h-2v-4h2v4z\"/>\n",
              "    </g>\n",
              "</svg>\n",
              "      </button>\n",
              "    </div>\n",
              "\n",
              "<style>\n",
              "  .colab-df-quickchart {\n",
              "    background-color: #E8F0FE;\n",
              "    border: none;\n",
              "    border-radius: 50%;\n",
              "    cursor: pointer;\n",
              "    display: none;\n",
              "    fill: #1967D2;\n",
              "    height: 32px;\n",
              "    padding: 0 0 0 0;\n",
              "    width: 32px;\n",
              "  }\n",
              "\n",
              "  .colab-df-quickchart:hover {\n",
              "    background-color: #E2EBFA;\n",
              "    box-shadow: 0px 1px 2px rgba(60, 64, 67, 0.3), 0px 1px 3px 1px rgba(60, 64, 67, 0.15);\n",
              "    fill: #174EA6;\n",
              "  }\n",
              "\n",
              "  [theme=dark] .colab-df-quickchart {\n",
              "    background-color: #3B4455;\n",
              "    fill: #D2E3FC;\n",
              "  }\n",
              "\n",
              "  [theme=dark] .colab-df-quickchart:hover {\n",
              "    background-color: #434B5C;\n",
              "    box-shadow: 0px 1px 3px 1px rgba(0, 0, 0, 0.15);\n",
              "    filter: drop-shadow(0px 1px 2px rgba(0, 0, 0, 0.3));\n",
              "    fill: #FFFFFF;\n",
              "  }\n",
              "</style>\n",
              "\n",
              "    <script>\n",
              "      async function quickchart(key) {\n",
              "        const containerElement = document.querySelector('#' + key);\n",
              "        const charts = await google.colab.kernel.invokeFunction(\n",
              "            'suggestCharts', [key], {});\n",
              "      }\n",
              "    </script>\n",
              "\n",
              "      <script>\n",
              "\n",
              "function displayQuickchartButton(domScope) {\n",
              "  let quickchartButtonEl =\n",
              "    domScope.querySelector('#df-3a667877-f26a-4951-9298-30d085c297ca button.colab-df-quickchart');\n",
              "  quickchartButtonEl.style.display =\n",
              "    google.colab.kernel.accessAllowed ? 'block' : 'none';\n",
              "}\n",
              "\n",
              "        displayQuickchartButton(document);\n",
              "      </script>\n",
              "      <style>\n",
              "    .colab-df-container {\n",
              "      display:flex;\n",
              "      flex-wrap:wrap;\n",
              "      gap: 12px;\n",
              "    }\n",
              "\n",
              "    .colab-df-convert {\n",
              "      background-color: #E8F0FE;\n",
              "      border: none;\n",
              "      border-radius: 50%;\n",
              "      cursor: pointer;\n",
              "      display: none;\n",
              "      fill: #1967D2;\n",
              "      height: 32px;\n",
              "      padding: 0 0 0 0;\n",
              "      width: 32px;\n",
              "    }\n",
              "\n",
              "    .colab-df-convert:hover {\n",
              "      background-color: #E2EBFA;\n",
              "      box-shadow: 0px 1px 2px rgba(60, 64, 67, 0.3), 0px 1px 3px 1px rgba(60, 64, 67, 0.15);\n",
              "      fill: #174EA6;\n",
              "    }\n",
              "\n",
              "    [theme=dark] .colab-df-convert {\n",
              "      background-color: #3B4455;\n",
              "      fill: #D2E3FC;\n",
              "    }\n",
              "\n",
              "    [theme=dark] .colab-df-convert:hover {\n",
              "      background-color: #434B5C;\n",
              "      box-shadow: 0px 1px 3px 1px rgba(0, 0, 0, 0.15);\n",
              "      filter: drop-shadow(0px 1px 2px rgba(0, 0, 0, 0.3));\n",
              "      fill: #FFFFFF;\n",
              "    }\n",
              "  </style>\n",
              "\n",
              "      <script>\n",
              "        const buttonEl =\n",
              "          document.querySelector('#df-8c39f1ac-4d91-4a6a-87ff-1de23090d773 button.colab-df-convert');\n",
              "        buttonEl.style.display =\n",
              "          google.colab.kernel.accessAllowed ? 'block' : 'none';\n",
              "\n",
              "        async function convertToInteractive(key) {\n",
              "          const element = document.querySelector('#df-8c39f1ac-4d91-4a6a-87ff-1de23090d773');\n",
              "          const dataTable =\n",
              "            await google.colab.kernel.invokeFunction('convertToInteractive',\n",
              "                                                     [key], {});\n",
              "          if (!dataTable) return;\n",
              "\n",
              "          const docLinkHtml = 'Like what you see? Visit the ' +\n",
              "            '<a target=\"_blank\" href=https://colab.research.google.com/notebooks/data_table.ipynb>data table notebook</a>'\n",
              "            + ' to learn more about interactive tables.';\n",
              "          element.innerHTML = '';\n",
              "          dataTable['output_type'] = 'display_data';\n",
              "          await google.colab.output.renderOutput(dataTable, element);\n",
              "          const docLink = document.createElement('div');\n",
              "          docLink.innerHTML = docLinkHtml;\n",
              "          element.appendChild(docLink);\n",
              "        }\n",
              "      </script>\n",
              "    </div>\n",
              "  </div>\n"
            ]
          },
          "metadata": {},
          "execution_count": 11
        }
      ]
    },
    {
      "cell_type": "code",
      "source": [
        "verificar.Sum_Target.value_counts().sort_index()"
      ],
      "metadata": {
        "colab": {
          "base_uri": "https://localhost:8080/"
        },
        "id": "bZXzg7Rr-SLh",
        "outputId": "f5fd0c91-f365-431f-823b-d6c75d4360cd"
      },
      "execution_count": null,
      "outputs": [
        {
          "output_type": "execute_result",
          "data": {
            "text/plain": [
              "4    12259\n",
              "Name: Sum_Target, dtype: int64"
            ]
          },
          "metadata": {},
          "execution_count": 12
        }
      ]
    },
    {
      "cell_type": "code",
      "source": [
        "verificar2 = df_altind.loc[[180007187000], ['NU_NOTA_CN', 'NU_NOTA_CH', 'NU_NOTA_LC', 'NU_NOTA_MT', 'NU_NOTA_REDACAO']]\n",
        "verificar2"
      ],
      "metadata": {
        "colab": {
          "base_uri": "https://localhost:8080/",
          "height": 112
        },
        "id": "o6LB2JSaFYqQ",
        "outputId": "0799cf11-9e2f-432f-8111-c40bf4848aec"
      },
      "execution_count": null,
      "outputs": [
        {
          "output_type": "execute_result",
          "data": {
            "text/plain": [
              "              NU_NOTA_CN  NU_NOTA_CH  NU_NOTA_LC  NU_NOTA_MT  NU_NOTA_REDACAO\n",
              "NU_INSCRICAO                                                                 \n",
              "180007187000       460.1       579.4       474.3       650.5            480.0"
            ],
            "text/html": [
              "\n",
              "\n",
              "  <div id=\"df-baea357d-06e1-4fcb-bf0d-cdb9c6d1beaf\">\n",
              "    <div class=\"colab-df-container\">\n",
              "      <div>\n",
              "<style scoped>\n",
              "    .dataframe tbody tr th:only-of-type {\n",
              "        vertical-align: middle;\n",
              "    }\n",
              "\n",
              "    .dataframe tbody tr th {\n",
              "        vertical-align: top;\n",
              "    }\n",
              "\n",
              "    .dataframe thead th {\n",
              "        text-align: right;\n",
              "    }\n",
              "</style>\n",
              "<table border=\"1\" class=\"dataframe\">\n",
              "  <thead>\n",
              "    <tr style=\"text-align: right;\">\n",
              "      <th></th>\n",
              "      <th>NU_NOTA_CN</th>\n",
              "      <th>NU_NOTA_CH</th>\n",
              "      <th>NU_NOTA_LC</th>\n",
              "      <th>NU_NOTA_MT</th>\n",
              "      <th>NU_NOTA_REDACAO</th>\n",
              "    </tr>\n",
              "    <tr>\n",
              "      <th>NU_INSCRICAO</th>\n",
              "      <th></th>\n",
              "      <th></th>\n",
              "      <th></th>\n",
              "      <th></th>\n",
              "      <th></th>\n",
              "    </tr>\n",
              "  </thead>\n",
              "  <tbody>\n",
              "    <tr>\n",
              "      <th>180007187000</th>\n",
              "      <td>460.1</td>\n",
              "      <td>579.4</td>\n",
              "      <td>474.3</td>\n",
              "      <td>650.5</td>\n",
              "      <td>480.0</td>\n",
              "    </tr>\n",
              "  </tbody>\n",
              "</table>\n",
              "</div>\n",
              "      <button class=\"colab-df-convert\" onclick=\"convertToInteractive('df-baea357d-06e1-4fcb-bf0d-cdb9c6d1beaf')\"\n",
              "              title=\"Convert this dataframe to an interactive table.\"\n",
              "              style=\"display:none;\">\n",
              "\n",
              "  <svg xmlns=\"http://www.w3.org/2000/svg\" height=\"24px\"viewBox=\"0 0 24 24\"\n",
              "       width=\"24px\">\n",
              "    <path d=\"M0 0h24v24H0V0z\" fill=\"none\"/>\n",
              "    <path d=\"M18.56 5.44l.94 2.06.94-2.06 2.06-.94-2.06-.94-.94-2.06-.94 2.06-2.06.94zm-11 1L8.5 8.5l.94-2.06 2.06-.94-2.06-.94L8.5 2.5l-.94 2.06-2.06.94zm10 10l.94 2.06.94-2.06 2.06-.94-2.06-.94-.94-2.06-.94 2.06-2.06.94z\"/><path d=\"M17.41 7.96l-1.37-1.37c-.4-.4-.92-.59-1.43-.59-.52 0-1.04.2-1.43.59L10.3 9.45l-7.72 7.72c-.78.78-.78 2.05 0 2.83L4 21.41c.39.39.9.59 1.41.59.51 0 1.02-.2 1.41-.59l7.78-7.78 2.81-2.81c.8-.78.8-2.07 0-2.86zM5.41 20L4 18.59l7.72-7.72 1.47 1.35L5.41 20z\"/>\n",
              "  </svg>\n",
              "      </button>\n",
              "\n",
              "\n",
              "\n",
              "    <div id=\"df-0fe77167-86ab-4bac-97ad-9c5012ec4499\">\n",
              "      <button class=\"colab-df-quickchart\" onclick=\"quickchart('df-0fe77167-86ab-4bac-97ad-9c5012ec4499')\"\n",
              "              title=\"Suggest charts.\"\n",
              "              style=\"display:none;\">\n",
              "\n",
              "<svg xmlns=\"http://www.w3.org/2000/svg\" height=\"24px\"viewBox=\"0 0 24 24\"\n",
              "     width=\"24px\">\n",
              "    <g>\n",
              "        <path d=\"M19 3H5c-1.1 0-2 .9-2 2v14c0 1.1.9 2 2 2h14c1.1 0 2-.9 2-2V5c0-1.1-.9-2-2-2zM9 17H7v-7h2v7zm4 0h-2V7h2v10zm4 0h-2v-4h2v4z\"/>\n",
              "    </g>\n",
              "</svg>\n",
              "      </button>\n",
              "    </div>\n",
              "\n",
              "<style>\n",
              "  .colab-df-quickchart {\n",
              "    background-color: #E8F0FE;\n",
              "    border: none;\n",
              "    border-radius: 50%;\n",
              "    cursor: pointer;\n",
              "    display: none;\n",
              "    fill: #1967D2;\n",
              "    height: 32px;\n",
              "    padding: 0 0 0 0;\n",
              "    width: 32px;\n",
              "  }\n",
              "\n",
              "  .colab-df-quickchart:hover {\n",
              "    background-color: #E2EBFA;\n",
              "    box-shadow: 0px 1px 2px rgba(60, 64, 67, 0.3), 0px 1px 3px 1px rgba(60, 64, 67, 0.15);\n",
              "    fill: #174EA6;\n",
              "  }\n",
              "\n",
              "  [theme=dark] .colab-df-quickchart {\n",
              "    background-color: #3B4455;\n",
              "    fill: #D2E3FC;\n",
              "  }\n",
              "\n",
              "  [theme=dark] .colab-df-quickchart:hover {\n",
              "    background-color: #434B5C;\n",
              "    box-shadow: 0px 1px 3px 1px rgba(0, 0, 0, 0.15);\n",
              "    filter: drop-shadow(0px 1px 2px rgba(0, 0, 0, 0.3));\n",
              "    fill: #FFFFFF;\n",
              "  }\n",
              "</style>\n",
              "\n",
              "    <script>\n",
              "      async function quickchart(key) {\n",
              "        const containerElement = document.querySelector('#' + key);\n",
              "        const charts = await google.colab.kernel.invokeFunction(\n",
              "            'suggestCharts', [key], {});\n",
              "      }\n",
              "    </script>\n",
              "\n",
              "      <script>\n",
              "\n",
              "function displayQuickchartButton(domScope) {\n",
              "  let quickchartButtonEl =\n",
              "    domScope.querySelector('#df-0fe77167-86ab-4bac-97ad-9c5012ec4499 button.colab-df-quickchart');\n",
              "  quickchartButtonEl.style.display =\n",
              "    google.colab.kernel.accessAllowed ? 'block' : 'none';\n",
              "}\n",
              "\n",
              "        displayQuickchartButton(document);\n",
              "      </script>\n",
              "      <style>\n",
              "    .colab-df-container {\n",
              "      display:flex;\n",
              "      flex-wrap:wrap;\n",
              "      gap: 12px;\n",
              "    }\n",
              "\n",
              "    .colab-df-convert {\n",
              "      background-color: #E8F0FE;\n",
              "      border: none;\n",
              "      border-radius: 50%;\n",
              "      cursor: pointer;\n",
              "      display: none;\n",
              "      fill: #1967D2;\n",
              "      height: 32px;\n",
              "      padding: 0 0 0 0;\n",
              "      width: 32px;\n",
              "    }\n",
              "\n",
              "    .colab-df-convert:hover {\n",
              "      background-color: #E2EBFA;\n",
              "      box-shadow: 0px 1px 2px rgba(60, 64, 67, 0.3), 0px 1px 3px 1px rgba(60, 64, 67, 0.15);\n",
              "      fill: #174EA6;\n",
              "    }\n",
              "\n",
              "    [theme=dark] .colab-df-convert {\n",
              "      background-color: #3B4455;\n",
              "      fill: #D2E3FC;\n",
              "    }\n",
              "\n",
              "    [theme=dark] .colab-df-convert:hover {\n",
              "      background-color: #434B5C;\n",
              "      box-shadow: 0px 1px 3px 1px rgba(0, 0, 0, 0.15);\n",
              "      filter: drop-shadow(0px 1px 2px rgba(0, 0, 0, 0.3));\n",
              "      fill: #FFFFFF;\n",
              "    }\n",
              "  </style>\n",
              "\n",
              "      <script>\n",
              "        const buttonEl =\n",
              "          document.querySelector('#df-baea357d-06e1-4fcb-bf0d-cdb9c6d1beaf button.colab-df-convert');\n",
              "        buttonEl.style.display =\n",
              "          google.colab.kernel.accessAllowed ? 'block' : 'none';\n",
              "\n",
              "        async function convertToInteractive(key) {\n",
              "          const element = document.querySelector('#df-baea357d-06e1-4fcb-bf0d-cdb9c6d1beaf');\n",
              "          const dataTable =\n",
              "            await google.colab.kernel.invokeFunction('convertToInteractive',\n",
              "                                                     [key], {});\n",
              "          if (!dataTable) return;\n",
              "\n",
              "          const docLinkHtml = 'Like what you see? Visit the ' +\n",
              "            '<a target=\"_blank\" href=https://colab.research.google.com/notebooks/data_table.ipynb>data table notebook</a>'\n",
              "            + ' to learn more about interactive tables.';\n",
              "          element.innerHTML = '';\n",
              "          dataTable['output_type'] = 'display_data';\n",
              "          await google.colab.output.renderOutput(dataTable, element);\n",
              "          const docLink = document.createElement('div');\n",
              "          docLink.innerHTML = docLinkHtml;\n",
              "          element.appendChild(docLink);\n",
              "        }\n",
              "      </script>\n",
              "    </div>\n",
              "  </div>\n"
            ]
          },
          "metadata": {},
          "execution_count": 13
        }
      ]
    },
    {
      "cell_type": "code",
      "source": [
        "verificar3 = df_altind.loc[[180007187554],\n",
        "                           ['NU_NOTA_CN', 'NU_NOTA_CH', 'NU_NOTA_LC', 'NU_NOTA_MT', 'NU_NOTA_REDACAO']]\n",
        "verificar3"
      ],
      "metadata": {
        "colab": {
          "base_uri": "https://localhost:8080/",
          "height": 112
        },
        "id": "CWRgCy1LJ-XB",
        "outputId": "c61e0718-4880-4841-a835-915e2b6a1585"
      },
      "execution_count": null,
      "outputs": [
        {
          "output_type": "execute_result",
          "data": {
            "text/plain": [
              "              NU_NOTA_CN  NU_NOTA_CH  NU_NOTA_LC  NU_NOTA_MT  NU_NOTA_REDACAO\n",
              "NU_INSCRICAO                                                                 \n",
              "180007187554       385.1       596.0       542.2       515.6            540.0"
            ],
            "text/html": [
              "\n",
              "\n",
              "  <div id=\"df-30a57eb8-61f8-4977-8667-ec4242ee3ffb\">\n",
              "    <div class=\"colab-df-container\">\n",
              "      <div>\n",
              "<style scoped>\n",
              "    .dataframe tbody tr th:only-of-type {\n",
              "        vertical-align: middle;\n",
              "    }\n",
              "\n",
              "    .dataframe tbody tr th {\n",
              "        vertical-align: top;\n",
              "    }\n",
              "\n",
              "    .dataframe thead th {\n",
              "        text-align: right;\n",
              "    }\n",
              "</style>\n",
              "<table border=\"1\" class=\"dataframe\">\n",
              "  <thead>\n",
              "    <tr style=\"text-align: right;\">\n",
              "      <th></th>\n",
              "      <th>NU_NOTA_CN</th>\n",
              "      <th>NU_NOTA_CH</th>\n",
              "      <th>NU_NOTA_LC</th>\n",
              "      <th>NU_NOTA_MT</th>\n",
              "      <th>NU_NOTA_REDACAO</th>\n",
              "    </tr>\n",
              "    <tr>\n",
              "      <th>NU_INSCRICAO</th>\n",
              "      <th></th>\n",
              "      <th></th>\n",
              "      <th></th>\n",
              "      <th></th>\n",
              "      <th></th>\n",
              "    </tr>\n",
              "  </thead>\n",
              "  <tbody>\n",
              "    <tr>\n",
              "      <th>180007187554</th>\n",
              "      <td>385.1</td>\n",
              "      <td>596.0</td>\n",
              "      <td>542.2</td>\n",
              "      <td>515.6</td>\n",
              "      <td>540.0</td>\n",
              "    </tr>\n",
              "  </tbody>\n",
              "</table>\n",
              "</div>\n",
              "      <button class=\"colab-df-convert\" onclick=\"convertToInteractive('df-30a57eb8-61f8-4977-8667-ec4242ee3ffb')\"\n",
              "              title=\"Convert this dataframe to an interactive table.\"\n",
              "              style=\"display:none;\">\n",
              "\n",
              "  <svg xmlns=\"http://www.w3.org/2000/svg\" height=\"24px\"viewBox=\"0 0 24 24\"\n",
              "       width=\"24px\">\n",
              "    <path d=\"M0 0h24v24H0V0z\" fill=\"none\"/>\n",
              "    <path d=\"M18.56 5.44l.94 2.06.94-2.06 2.06-.94-2.06-.94-.94-2.06-.94 2.06-2.06.94zm-11 1L8.5 8.5l.94-2.06 2.06-.94-2.06-.94L8.5 2.5l-.94 2.06-2.06.94zm10 10l.94 2.06.94-2.06 2.06-.94-2.06-.94-.94-2.06-.94 2.06-2.06.94z\"/><path d=\"M17.41 7.96l-1.37-1.37c-.4-.4-.92-.59-1.43-.59-.52 0-1.04.2-1.43.59L10.3 9.45l-7.72 7.72c-.78.78-.78 2.05 0 2.83L4 21.41c.39.39.9.59 1.41.59.51 0 1.02-.2 1.41-.59l7.78-7.78 2.81-2.81c.8-.78.8-2.07 0-2.86zM5.41 20L4 18.59l7.72-7.72 1.47 1.35L5.41 20z\"/>\n",
              "  </svg>\n",
              "      </button>\n",
              "\n",
              "\n",
              "\n",
              "    <div id=\"df-ebcda3e0-ec3e-4922-9109-d624440bed74\">\n",
              "      <button class=\"colab-df-quickchart\" onclick=\"quickchart('df-ebcda3e0-ec3e-4922-9109-d624440bed74')\"\n",
              "              title=\"Suggest charts.\"\n",
              "              style=\"display:none;\">\n",
              "\n",
              "<svg xmlns=\"http://www.w3.org/2000/svg\" height=\"24px\"viewBox=\"0 0 24 24\"\n",
              "     width=\"24px\">\n",
              "    <g>\n",
              "        <path d=\"M19 3H5c-1.1 0-2 .9-2 2v14c0 1.1.9 2 2 2h14c1.1 0 2-.9 2-2V5c0-1.1-.9-2-2-2zM9 17H7v-7h2v7zm4 0h-2V7h2v10zm4 0h-2v-4h2v4z\"/>\n",
              "    </g>\n",
              "</svg>\n",
              "      </button>\n",
              "    </div>\n",
              "\n",
              "<style>\n",
              "  .colab-df-quickchart {\n",
              "    background-color: #E8F0FE;\n",
              "    border: none;\n",
              "    border-radius: 50%;\n",
              "    cursor: pointer;\n",
              "    display: none;\n",
              "    fill: #1967D2;\n",
              "    height: 32px;\n",
              "    padding: 0 0 0 0;\n",
              "    width: 32px;\n",
              "  }\n",
              "\n",
              "  .colab-df-quickchart:hover {\n",
              "    background-color: #E2EBFA;\n",
              "    box-shadow: 0px 1px 2px rgba(60, 64, 67, 0.3), 0px 1px 3px 1px rgba(60, 64, 67, 0.15);\n",
              "    fill: #174EA6;\n",
              "  }\n",
              "\n",
              "  [theme=dark] .colab-df-quickchart {\n",
              "    background-color: #3B4455;\n",
              "    fill: #D2E3FC;\n",
              "  }\n",
              "\n",
              "  [theme=dark] .colab-df-quickchart:hover {\n",
              "    background-color: #434B5C;\n",
              "    box-shadow: 0px 1px 3px 1px rgba(0, 0, 0, 0.15);\n",
              "    filter: drop-shadow(0px 1px 2px rgba(0, 0, 0, 0.3));\n",
              "    fill: #FFFFFF;\n",
              "  }\n",
              "</style>\n",
              "\n",
              "    <script>\n",
              "      async function quickchart(key) {\n",
              "        const containerElement = document.querySelector('#' + key);\n",
              "        const charts = await google.colab.kernel.invokeFunction(\n",
              "            'suggestCharts', [key], {});\n",
              "      }\n",
              "    </script>\n",
              "\n",
              "      <script>\n",
              "\n",
              "function displayQuickchartButton(domScope) {\n",
              "  let quickchartButtonEl =\n",
              "    domScope.querySelector('#df-ebcda3e0-ec3e-4922-9109-d624440bed74 button.colab-df-quickchart');\n",
              "  quickchartButtonEl.style.display =\n",
              "    google.colab.kernel.accessAllowed ? 'block' : 'none';\n",
              "}\n",
              "\n",
              "        displayQuickchartButton(document);\n",
              "      </script>\n",
              "      <style>\n",
              "    .colab-df-container {\n",
              "      display:flex;\n",
              "      flex-wrap:wrap;\n",
              "      gap: 12px;\n",
              "    }\n",
              "\n",
              "    .colab-df-convert {\n",
              "      background-color: #E8F0FE;\n",
              "      border: none;\n",
              "      border-radius: 50%;\n",
              "      cursor: pointer;\n",
              "      display: none;\n",
              "      fill: #1967D2;\n",
              "      height: 32px;\n",
              "      padding: 0 0 0 0;\n",
              "      width: 32px;\n",
              "    }\n",
              "\n",
              "    .colab-df-convert:hover {\n",
              "      background-color: #E2EBFA;\n",
              "      box-shadow: 0px 1px 2px rgba(60, 64, 67, 0.3), 0px 1px 3px 1px rgba(60, 64, 67, 0.15);\n",
              "      fill: #174EA6;\n",
              "    }\n",
              "\n",
              "    [theme=dark] .colab-df-convert {\n",
              "      background-color: #3B4455;\n",
              "      fill: #D2E3FC;\n",
              "    }\n",
              "\n",
              "    [theme=dark] .colab-df-convert:hover {\n",
              "      background-color: #434B5C;\n",
              "      box-shadow: 0px 1px 3px 1px rgba(0, 0, 0, 0.15);\n",
              "      filter: drop-shadow(0px 1px 2px rgba(0, 0, 0, 0.3));\n",
              "      fill: #FFFFFF;\n",
              "    }\n",
              "  </style>\n",
              "\n",
              "      <script>\n",
              "        const buttonEl =\n",
              "          document.querySelector('#df-30a57eb8-61f8-4977-8667-ec4242ee3ffb button.colab-df-convert');\n",
              "        buttonEl.style.display =\n",
              "          google.colab.kernel.accessAllowed ? 'block' : 'none';\n",
              "\n",
              "        async function convertToInteractive(key) {\n",
              "          const element = document.querySelector('#df-30a57eb8-61f8-4977-8667-ec4242ee3ffb');\n",
              "          const dataTable =\n",
              "            await google.colab.kernel.invokeFunction('convertToInteractive',\n",
              "                                                     [key], {});\n",
              "          if (!dataTable) return;\n",
              "\n",
              "          const docLinkHtml = 'Like what you see? Visit the ' +\n",
              "            '<a target=\"_blank\" href=https://colab.research.google.com/notebooks/data_table.ipynb>data table notebook</a>'\n",
              "            + ' to learn more about interactive tables.';\n",
              "          element.innerHTML = '';\n",
              "          dataTable['output_type'] = 'display_data';\n",
              "          await google.colab.output.renderOutput(dataTable, element);\n",
              "          const docLink = document.createElement('div');\n",
              "          docLink.innerHTML = docLinkHtml;\n",
              "          element.appendChild(docLink);\n",
              "        }\n",
              "      </script>\n",
              "    </div>\n",
              "  </div>\n"
            ]
          },
          "metadata": {},
          "execution_count": 14
        }
      ]
    },
    {
      "cell_type": "markdown",
      "source": [
        "- 'Sum_Target' == 0 e 'Target_Media' == 1\n",
        "\n",
        "Correspondem aos alunos que vão muito bem em apenas 1 ou 2 competências. Assim a média fica alta.\n",
        "\n",
        "\n",
        "- 'Sum_Target' == 1 e 'Target_Media' == 0\n",
        "\n",
        "Correspondem aos alunos que vão bem de forma mediana em 3 ou 4 competências, mesmo assim, a média é baixa, ou, vão muito mau em uma ou duas competências.\n"
      ],
      "metadata": {
        "id": "F9oohd7SIkVd"
      }
    },
    {
      "cell_type": "markdown",
      "source": [
        "# **Amostra para Análise dos Hiperparâmetros**"
      ],
      "metadata": {
        "id": "yzJZ_oodKuLp"
      }
    },
    {
      "cell_type": "code",
      "source": [
        "df_altind['grupo_valid'] =  [1 if rd.random() < 0.01 else 0 for _ in range(len(df_altind))]"
      ],
      "metadata": {
        "id": "zb3YUe5pLLHL"
      },
      "execution_count": null,
      "outputs": []
    },
    {
      "cell_type": "code",
      "source": [
        "df_altind.grupo_valid.value_counts()"
      ],
      "metadata": {
        "colab": {
          "base_uri": "https://localhost:8080/"
        },
        "id": "0mpIj1d5QCgt",
        "outputId": "02943f68-f3d5-4c0a-abe3-461b271ae881"
      },
      "execution_count": null,
      "outputs": [
        {
          "output_type": "execute_result",
          "data": {
            "text/plain": [
              "0    3335214\n",
              "1      33890\n",
              "Name: grupo_valid, dtype: int64"
            ]
          },
          "metadata": {},
          "execution_count": 12
        }
      ]
    },
    {
      "cell_type": "code",
      "source": [
        "df_altind.to_csv('/content/drive/MyDrive/MBA_TCC/DADOS/df_altind_2018.csv')"
      ],
      "metadata": {
        "id": "Vmt0Wh-3ec6Y"
      },
      "execution_count": null,
      "outputs": []
    },
    {
      "cell_type": "code",
      "source": [
        "df_altind = pd.read_csv('/content/drive/MyDrive/MBA_TCC/DADOS/df_altind_2018.csv',sep=',',encoding='ISO-8859-1')\n",
        "df_altind.shape"
      ],
      "metadata": {
        "id": "_7zFxYAbZwxj",
        "colab": {
          "base_uri": "https://localhost:8080/"
        },
        "outputId": "20b714ec-2726-4090-d77a-658b89ea4db1"
      },
      "execution_count": null,
      "outputs": [
        {
          "output_type": "execute_result",
          "data": {
            "text/plain": [
              "(3369104, 63)"
            ]
          },
          "metadata": {},
          "execution_count": 49
        }
      ]
    },
    {
      "cell_type": "markdown",
      "source": [
        "# **Seleção de Variáveis Independentes**"
      ],
      "metadata": {
        "id": "O03WvEIB9zNL"
      }
    },
    {
      "cell_type": "code",
      "source": [
        "def f_selec_varind(df):\n",
        "  df_VarInd = df[[\n",
        "    'TP_SEXO', 'TP_LINGUA', 'TP_FAIXA_ETARIA_', 'TP_ESTADO_CIVIL_', 'TP_COR_RACA_', 'TP_ANO_CONCLUIU_',\n",
        "    'TP_ESCOLA_', 'TP_ENSINO_', 'RegGeo_Prova', 'Q001', 'Q002', 'Q003', 'Q004', 'Q005_', 'Q006_', 'Q007_',\n",
        "    'Q008_', 'Q009_', 'Q010_', 'Q011_', 'Q012_', 'Q013_', 'Q014_', 'Q015_', 'Q016_', 'Q017_', 'Q018',\n",
        "    'Q019_', 'Q020', 'Q021', 'Q022', 'Q023', 'Q024_', 'Q025'\n",
        "    ]]\n",
        "  return df_VarInd"
      ],
      "metadata": {
        "id": "iyM3qT9y6NlI"
      },
      "execution_count": null,
      "outputs": []
    },
    {
      "cell_type": "code",
      "source": [
        "def f_trans_var_intcateg(df):\n",
        "  X = pd.DataFrame()\n",
        "  for column in df:\n",
        "    X[column] = df[column].astype('object')\n",
        "  return X"
      ],
      "metadata": {
        "id": "F2ZBhYLXmcdv"
      },
      "execution_count": null,
      "outputs": []
    },
    {
      "cell_type": "markdown",
      "source": [
        "# **Definição do Target**"
      ],
      "metadata": {
        "id": "fu2ZiufCZSRT"
      }
    },
    {
      "cell_type": "code",
      "source": [
        "def f_def_target(df):\n",
        "  Y = df[['Sum_Target_2','Target_Media']]\n",
        "  return Y"
      ],
      "metadata": {
        "id": "YnjCx7voZZJo"
      },
      "execution_count": null,
      "outputs": []
    },
    {
      "cell_type": "markdown",
      "source": [
        "# **Seleção de Variáveis Relevantes**"
      ],
      "metadata": {
        "id": "gb6fR7e6exaY"
      }
    },
    {
      "cell_type": "markdown",
      "source": [
        "- Seleção de k variáveis relevantes através da estatística Chi^2 que irá verificar a associação de cada variável independente e o target. Quanto maior o valor dessa estatística, mais provável é a associação.\n",
        "- Há outros métodos, como a 'mutual_info_classif', cada qual podem escolher diferentes variáveis. Verificar e testar.\n",
        "- Vantagem: obter a mesma acurácia com uma fração menor de variáveis.\n",
        "\n",
        "- Aqui, optou por excluir 20% das variáveis com menor valor da estatística."
      ],
      "metadata": {
        "id": "akRY7po-dFjd"
      }
    },
    {
      "cell_type": "code",
      "source": [
        "def f_kbestVar(df,Y,k):\n",
        "  k_bestVar = SelectKBest(chi2, k=k)\n",
        "  df_k_VarInd = k_bestVar.fit_transform(df, Y)\n",
        "  cols = k_bestVar.get_support()\n",
        "  names = df.columns.values[cols]\n",
        "  scores = k_bestVar.scores_[cols]\n",
        "  names_scores = list(zip(names, scores))\n",
        "  print(names_scores)\n",
        "  return cols"
      ],
      "metadata": {
        "id": "ueLNR0ddfPQ4"
      },
      "execution_count": null,
      "outputs": []
    },
    {
      "cell_type": "markdown",
      "source": [
        "# **Codificação**"
      ],
      "metadata": {
        "id": "ZzyWnY3Rv0w5"
      }
    },
    {
      "cell_type": "code",
      "source": [
        "# Encoding\n",
        "def f_onehotencoder(df):\n",
        "  df_OneHot =  pd.DataFrame()\n",
        "  X = pd.DataFrame()\n",
        "  i = 0\n",
        "\n",
        "  for column in df:\n",
        "    df_OneHot = pd.get_dummies(df[column], prefix=df.columns[i], prefix_sep='_', drop_first=True)\n",
        "    X = pd.concat([X, df_OneHot], axis=1)\n",
        "    i = i + 1\n",
        "  return X"
      ],
      "metadata": {
        "id": "QU9Shinhp5Pw"
      },
      "execution_count": null,
      "outputs": []
    },
    {
      "cell_type": "code",
      "source": [
        "def f_labelencoder(df):\n",
        "  le = LabelEncoder()\n",
        "  X = pd.DataFrame()\n",
        "\n",
        "  for column in df:\n",
        "    X[column] = le.fit_transform(df[column])\n",
        "  return X"
      ],
      "metadata": {
        "id": "71bdxl3Xv5g_"
      },
      "execution_count": null,
      "outputs": []
    },
    {
      "cell_type": "code",
      "source": [
        "df_VarInd.head(50).to_excel('/content/drive/MyDrive/MBA_TCC/RESULTADOS/Verificar_OneHot_1_2018.xlsx', index=False)\n",
        "df_OneHot.head(50).to_excel('/content/drive/MyDrive/MBA_TCC/RESULTADOS/Verificar_OneHot_2_2018.xlsx', index=False)"
      ],
      "metadata": {
        "id": "IwfkRHrdf8fA"
      },
      "execution_count": null,
      "outputs": []
    },
    {
      "cell_type": "markdown",
      "source": [
        "# **Pré-processamento Final**"
      ],
      "metadata": {
        "id": "z_RM9jKBTtMa"
      }
    },
    {
      "cell_type": "markdown",
      "source": [
        "- Amostra (1%) para verificação dos parâmetros de cada algoritmo."
      ],
      "metadata": {
        "id": "EutuIXcHG9NG"
      }
    },
    {
      "cell_type": "code",
      "source": [
        "# Amostra\n",
        "df_analise = df_altind.loc[df_altind['grupo_valid'] == 1]\n",
        "df_analise.shape"
      ],
      "metadata": {
        "colab": {
          "base_uri": "https://localhost:8080/"
        },
        "id": "3nsrxSjKXf18",
        "outputId": "52e034fe-6f5e-4dc5-aa4a-9e359c72803a"
      },
      "execution_count": null,
      "outputs": [
        {
          "output_type": "execute_result",
          "data": {
            "text/plain": [
              "(33890, 63)"
            ]
          },
          "metadata": {},
          "execution_count": 56
        }
      ]
    },
    {
      "cell_type": "code",
      "source": [
        "df_analise.to_csv('/content/drive/MyDrive/MBA_TCC/DADOS/df_analise_2018.csv')"
      ],
      "metadata": {
        "id": "4x3YtFq-q4_g"
      },
      "execution_count": null,
      "outputs": []
    },
    {
      "cell_type": "code",
      "source": [
        "df_analise = pd.read_csv('/content/drive/MyDrive/MBA_TCC/DADOS/df_analise_2018.csv',sep=',',encoding='ISO-8859-1')\n",
        "df_analise.shape"
      ],
      "metadata": {
        "colab": {
          "base_uri": "https://localhost:8080/"
        },
        "id": "4oXV5KE0qxK_",
        "outputId": "1ffe87f8-e652-4998-8bd5-ff298460b58d"
      },
      "execution_count": null,
      "outputs": [
        {
          "output_type": "execute_result",
          "data": {
            "text/plain": [
              "(33890, 64)"
            ]
          },
          "metadata": {},
          "execution_count": 8
        }
      ]
    },
    {
      "cell_type": "code",
      "source": [
        "# Seleção das Variáveis Independentes\n",
        "df_VarInd = f_selec_varind(df_analise)\n",
        "df_VarInd.shape"
      ],
      "metadata": {
        "colab": {
          "base_uri": "https://localhost:8080/"
        },
        "id": "cJq8y6FYXUvo",
        "outputId": "3ccd42d2-1ee8-4a50-8992-9f2bccf49117"
      },
      "execution_count": null,
      "outputs": [
        {
          "output_type": "execute_result",
          "data": {
            "text/plain": [
              "(33890, 34)"
            ]
          },
          "metadata": {},
          "execution_count": 9
        }
      ]
    },
    {
      "cell_type": "code",
      "source": [
        "# Codificação LabelEncoder\n",
        "df_VarEnc = f_labelencoder(df_VarInd)\n",
        "df_VarEnc.shape"
      ],
      "metadata": {
        "colab": {
          "base_uri": "https://localhost:8080/"
        },
        "id": "_Xcqdxw8fSk8",
        "outputId": "6a3f5ebd-546e-4036-dbee-a9b7ab57d620"
      },
      "execution_count": null,
      "outputs": [
        {
          "output_type": "execute_result",
          "data": {
            "text/plain": [
              "(33890, 34)"
            ]
          },
          "metadata": {},
          "execution_count": 10
        }
      ]
    },
    {
      "cell_type": "code",
      "source": [
        "# Seleção do Target\n",
        "Y = f_def_target(df_analise)\n",
        "Y.shape"
      ],
      "metadata": {
        "colab": {
          "base_uri": "https://localhost:8080/"
        },
        "id": "gB_h4w-EYPzE",
        "outputId": "a7238807-e285-413f-f6fc-9e9da08b52d6"
      },
      "execution_count": null,
      "outputs": [
        {
          "output_type": "execute_result",
          "data": {
            "text/plain": [
              "(33890, 2)"
            ]
          },
          "metadata": {},
          "execution_count": 11
        }
      ]
    },
    {
      "cell_type": "code",
      "source": [
        "# Seleção de Variáveis Relevantes - Target 1\n",
        "col_kbest = f_kbestVar(df_VarEnc,Y.Sum_Target_2,round(df_VarEnc.shape[1]*0.8))\n",
        "col_kbest"
      ],
      "metadata": {
        "colab": {
          "base_uri": "https://localhost:8080/"
        },
        "id": "9TIG41PJie-t",
        "outputId": "7826cdc2-4729-4eb4-b8e6-6532cf4b1778"
      },
      "execution_count": null,
      "outputs": [
        {
          "output_type": "stream",
          "name": "stdout",
          "text": [
            "[('TP_LINGUA', 851.459278877067), ('TP_FAIXA_ETARIA_', 204.5017442631493), ('TP_COR_RACA_', 173.918526929637), ('TP_ENSINO_', 659.001965121616), ('RegGeo_Prova', 319.86242991150795), ('Q001', 1484.6923228232836), ('Q002', 1571.05471270438), ('Q003', 1449.7534708405442), ('Q004', 1640.7253022057919), ('Q005_', 578.4808124473925), ('Q006_', 7325.136436846811), ('Q007_', 461.74543903443623), ('Q008_', 2840.5938998489582), ('Q009_', 391.4636522749095), ('Q010_', 1897.7268838294117), ('Q013_', 1055.1129316297383), ('Q014_', 631.3336494533256), ('Q015_', 242.53735863330184), ('Q016_', 847.7265391210772), ('Q017_', 202.4191756679607), ('Q018', 1357.6124596959169), ('Q019_', 663.4110295303294), ('Q021', 945.5813697791748), ('Q022', 894.5109830409399), ('Q023', 999.098971015929), ('Q024_', 2712.1818287560186), ('Q025', 423.96240951194005)]\n"
          ]
        },
        {
          "output_type": "execute_result",
          "data": {
            "text/plain": [
              "array([False,  True,  True, False,  True, False, False,  True,  True,\n",
              "        True,  True,  True,  True,  True,  True,  True,  True,  True,\n",
              "        True, False, False,  True,  True,  True,  True,  True,  True,\n",
              "        True, False,  True,  True,  True,  True,  True])"
            ]
          },
          "metadata": {},
          "execution_count": 14
        }
      ]
    },
    {
      "cell_type": "code",
      "source": [
        "num_true = np.count_nonzero(col_kbest)\n",
        "num_false = np.count_nonzero(~col_kbest)\n",
        "\n",
        "print(\"Número de True:\", num_true)\n",
        "print(\"Número de False:\", num_false)"
      ],
      "metadata": {
        "colab": {
          "base_uri": "https://localhost:8080/"
        },
        "id": "z8XMFUB0qw86",
        "outputId": "ef2dd65e-2d1e-40c4-87fb-fa4dea4ed19c"
      },
      "execution_count": null,
      "outputs": [
        {
          "output_type": "stream",
          "name": "stdout",
          "text": [
            "Número de True: 27\n",
            "Número de False: 7\n"
          ]
        }
      ]
    },
    {
      "cell_type": "code",
      "source": [
        "# Seleção de Variáveis Relevantes - Target 2\n",
        "col_kbest2 = f_kbestVar(df_VarEnc,Y.Target_Media,round(df_VarEnc.shape[1]*0.8))\n",
        "col_kbest2"
      ],
      "metadata": {
        "colab": {
          "base_uri": "https://localhost:8080/"
        },
        "id": "7jEDBGBT0Bn9",
        "outputId": "bf5429a1-85c8-4944-afa0-e4e1529cd113"
      },
      "execution_count": null,
      "outputs": [
        {
          "output_type": "stream",
          "name": "stdout",
          "text": [
            "[('TP_LINGUA', 830.1823077480703), ('TP_FAIXA_ETARIA_', 330.1015702156337), ('TP_COR_RACA_', 157.19128404644823), ('TP_ENSINO_', 607.9971006591918), ('RegGeo_Prova', 251.3159261384869), ('Q001', 1459.419286457026), ('Q002', 1622.8224914782802), ('Q003', 1359.4679687410617), ('Q004', 1621.3949707170323), ('Q005_', 574.3149022572951), ('Q006_', 7144.528035017201), ('Q007_', 445.34549287117113), ('Q008_', 2757.2192912554788), ('Q009_', 403.4139744640554), ('Q010_', 1838.504985973339), ('Q013_', 1012.5758177957457), ('Q014_', 595.7648052961883), ('Q015_', 219.69274859391487), ('Q016_', 772.3535666619102), ('Q017_', 181.07850405232813), ('Q018', 1278.1781853414495), ('Q019_', 639.3969045859211), ('Q021', 926.9604039942817), ('Q022', 904.2854332911918), ('Q023', 922.4185517427973), ('Q024_', 2624.3656691592023), ('Q025', 432.1879290693852)]\n"
          ]
        },
        {
          "output_type": "execute_result",
          "data": {
            "text/plain": [
              "array([False,  True,  True, False,  True, False, False,  True,  True,\n",
              "        True,  True,  True,  True,  True,  True,  True,  True,  True,\n",
              "        True, False, False,  True,  True,  True,  True,  True,  True,\n",
              "        True, False,  True,  True,  True,  True,  True])"
            ]
          },
          "metadata": {},
          "execution_count": 16
        }
      ]
    },
    {
      "cell_type": "code",
      "source": [
        "# Apenas verificação. Ambas respostas excluiram as mesmas variáveis.\n",
        "list(zip(col_kbest, col_kbest2))"
      ],
      "metadata": {
        "colab": {
          "base_uri": "https://localhost:8080/"
        },
        "id": "WiB1d85d0SzX",
        "outputId": "1b764a5c-52a4-4fa5-fd2f-2471ffaff300"
      },
      "execution_count": null,
      "outputs": [
        {
          "output_type": "execute_result",
          "data": {
            "text/plain": [
              "[(False, False),\n",
              " (True, True),\n",
              " (True, True),\n",
              " (False, False),\n",
              " (True, True),\n",
              " (False, False),\n",
              " (False, False),\n",
              " (True, True),\n",
              " (True, True),\n",
              " (True, True),\n",
              " (True, True),\n",
              " (True, True),\n",
              " (True, True),\n",
              " (True, True),\n",
              " (True, True),\n",
              " (True, True),\n",
              " (True, True),\n",
              " (True, True),\n",
              " (True, True),\n",
              " (False, False),\n",
              " (False, False),\n",
              " (True, True),\n",
              " (True, True),\n",
              " (True, True),\n",
              " (True, True),\n",
              " (True, True),\n",
              " (True, True),\n",
              " (True, True),\n",
              " (False, False),\n",
              " (True, True),\n",
              " (True, True),\n",
              " (True, True),\n",
              " (True, True),\n",
              " (True, True)]"
            ]
          },
          "metadata": {},
          "execution_count": 17
        }
      ]
    },
    {
      "cell_type": "code",
      "source": [
        "df_kbest = df_VarEnc.loc[:, col_kbest]\n",
        "df_kbest.shape"
      ],
      "metadata": {
        "colab": {
          "base_uri": "https://localhost:8080/"
        },
        "id": "nt-YXaZYkihD",
        "outputId": "bdb59a11-2b3d-4704-ca24-b4e1eb1e76df"
      },
      "execution_count": null,
      "outputs": [
        {
          "output_type": "execute_result",
          "data": {
            "text/plain": [
              "(33890, 27)"
            ]
          },
          "metadata": {},
          "execution_count": 17
        }
      ]
    },
    {
      "cell_type": "markdown",
      "source": [
        "# **Análise dos Hiperparâmetros**"
      ],
      "metadata": {
        "id": "cyeCqsjmGj5U"
      }
    },
    {
      "cell_type": "markdown",
      "source": [
        "# *Regressão Logística*"
      ],
      "metadata": {
        "id": "L4I8-B0AMel-"
      }
    },
    {
      "cell_type": "markdown",
      "source": [
        "Utiliza a função logística/sigmoide para encontrar a probabilidade de uma determinada instância pertencer a uma das classes em função das variáveis de entrada. Principais características:\n",
        "\n",
        "- Função Sigmoid: A função sigmoid é usada para modelar a probabilidade e é definida como: 1 / (1 + exp(-z)), onde z é uma combinação linear das variáveis de entrada (features) multiplicadas pelos coeficientes aprendidos pelo modelo.\n",
        "\n",
        "- Coeficientes: Durante o treinamento, obtem-se os coeficientes (pesos) para cada feature e um intercepto.\n",
        "\n",
        "- Treinamento por Otimização: O treinamento geralmente é realizado usando técnicas de otimização, como a descida do gradiente (gradient descent), para encontrar os melhores coeficientes que minimizam a função de perda, que é baseada na diferença entre as probabilidades previstas e as classes reais.\n",
        "\n",
        "- Limiar de Decisão: Para fazer previsões, é necessário definir um limiar de decisão. Se a probabilidade prevista for maior que o limiar, a instância é classificada como pertencente à classe positiva; caso contrário, é classificada como pertencente à classe negativa.\n",
        "\n",
        "- Regularização: pode incluir termos de regularização para evitar o overfitting e melhorar a generalização do modelo, como a regularização L1 (Lasso) ou L2 (Ridge).\n",
        "\n",
        "\n"
      ],
      "metadata": {
        "id": "gd17Txo-xqut"
      }
    },
    {
      "cell_type": "code",
      "source": [
        "def cls_Reg_Logistic (y_tr, y_te):\n",
        "  cls_RegLogistic = LogisticRegression()\n",
        "\n",
        "  param_grid = {\n",
        "      'random_state': list(range(0, 101, 50)),\n",
        "      'solver': ['liblinear', 'saga', 'lbfgs'], # Algoritmo otimizador\n",
        "      'max_iter': list(range(100, 401, 200)),   # número máximo de iterações permitidas para o solver convergir.\n",
        "      'tol': [1e-3, 1e-4],                      # Critério de tolerância para parada do treinamento\n",
        "      'C': [0.1, 0.5, 1.0],                     # Parâmetro de regularização. Valores menores de C indicam uma regularização mais forte, o que pode ajudar a evitar overfitting.\n",
        "      'penalty': ['l1', 'l2']                   # Tipo de penalidade a ser usada. L1: LASSO e L2: Ridge\n",
        "       # multi_class:                           # Esquema para lidar com problemas de classificação multiclasse. Algumas opções são 'ovr' (one-vs-rest) e 'multinomial'.\n",
        "  }\n",
        "\n",
        "  grid_search = GridSearchCV(estimator=cls_RegLogistic, param_grid=param_grid, cv=5, scoring='accuracy')\n",
        "  grid_search.fit(X_train, y_tr)\n",
        "\n",
        "  # Melhor combinação de hiperparâmetros encontrada\n",
        "  best_params = grid_search.best_params_\n",
        "\n",
        "  # Melhor acurácia obtida durante a validação cruzada\n",
        "  best_accuracy = grid_search.best_score_\n",
        "\n",
        "  # Acurácia do modelo no conjunto de teste\n",
        "  test_accuracy = grid_search.score(X_test, y_te)\n",
        "\n",
        "  # Obter os melhores modelos encontrados\n",
        "  best_model = grid_search.best_estimator_\n",
        "\n",
        "  # Obter as feature_importances_ (coeficientes)\n",
        "  feature_importances = best_model.coef_[0]\n",
        "\n",
        "  print(' ')\n",
        "  print(\"Melhor combinação de hiperparâmetros:\", best_params)\n",
        "  print(\"Melhor acurácia durante a validação cruzada:\", best_accuracy)\n",
        "  print(\"Acurácia do modelo no conjunto de teste:\", test_accuracy)\n",
        "\n",
        "  return feature_importances"
      ],
      "metadata": {
        "id": "3GSbkoh17p1A"
      },
      "execution_count": null,
      "outputs": []
    },
    {
      "cell_type": "markdown",
      "source": [
        "# *Decision Tree*"
      ],
      "metadata": {
        "id": "62b-iWDnM3HY"
      }
    },
    {
      "cell_type": "markdown",
      "source": [
        "Modelos que aprendem a tomar decisões através de uma estrutura de árvore onde cada nó representa um teste em um atributo e cada folha representa a classe de saída. Principais características:\n",
        "\n",
        "- Divisões Baseadas em Recursos: O algoritmo escolhe o recurso (feature) que melhor divide os dados em cada nó da árvore. A divisão é feita com base em algum critério de impureza, como o índice Gini ou a entropia, para maximizar a homogeneidade das classes nas folhas.\n",
        "\n",
        "- Aprendizado Hierárquico: O processo de treinamento é hierárquico, onde a árvore é construída recursivamente, dividindo o conjunto de dados em subconjuntos mais homogêneos a cada nível.\n",
        "\n",
        "- Predições por Maioria de Votos: Quando uma nova instância precisa ser classificada, ela percorre a árvore de decisão a partir da raiz até chegar a uma folha, onde a classe é atribuída com base na maioria de votos das amostras de treinamento naquela folha.\n",
        "\n",
        "- Limitação de Profundidade: É comum aplicar limitações na profundidade máxima da árvore ou no número mínimo de amostras por folha para controlar o overfitting.\n",
        "\n",
        "- Tratamento de Dados Ausentes: O DecisionTreeClassifier pode lidar automaticamente com dados ausentes durante o treinamento.\n",
        "\n",
        "\n"
      ],
      "metadata": {
        "id": "lf9Qw_m4uZIF"
      }
    },
    {
      "cell_type": "code",
      "source": [
        "def cls_Decision_Tree(y_tr,y_te):\n",
        "  cls_DecisionTree = DecisionTreeClassifier()\n",
        "\n",
        "  param_grid = {\n",
        "      'random_state': list(range(0, 9001, 3000)),\n",
        "      'criterion': ['gini', 'entropy','log_loss'], # Função de medição de qualidade da divisão dos nós\n",
        "      'max_depth': list(range(8,13,2)),            # Profundidade máxima da árvore\n",
        "      'max_features': [0.1, 0.2, 'sqrt', 'log2'],  # Quantidade de atributos a serem considerados ao procurar a melhor divisão (número, proporção, ...)\n",
        "      'min_samples_leaf': [0.05,0.10,0.15,0.30],   # Quantidade míninma no nó folha (nó final) (número ou proporção)\n",
        "      'min_samples_split': [0.05,0.10,0.15,0.30]   # Quantidade mínima de casos para dividir um nó interno (número ou proporção)\n",
        "       # max_leaf_nodes                            # Quantidade máxima de folhas (nós terminais) permitidas na árvore\n",
        "  }\n",
        "\n",
        "  grid_search = GridSearchCV(estimator=cls_DecisionTree, param_grid=param_grid, cv=5, scoring='accuracy')\n",
        "  grid_search.fit(X_train, y_tr)\n",
        "\n",
        "  # Melhor combinação de hiperparâmetros encontrada\n",
        "  best_params = grid_search.best_params_\n",
        "\n",
        "  # Melhor acurácia obtida durante a validação cruzada\n",
        "  best_accuracy = grid_search.best_score_\n",
        "\n",
        "  # Acurácia do modelo no conjunto de teste\n",
        "  test_accuracy = grid_search.score(X_test, y_te)\n",
        "\n",
        "  # Obter os melhores modelos encontrados\n",
        "  best_model = grid_search.best_estimator_\n",
        "\n",
        "  # Obter as feature_importances_ (coeficientes)\n",
        "  feature_importances = best_model.feature_importances_\n",
        "\n",
        "  print(' ')\n",
        "  print(\"Melhor combinação de hiperparâmetros:\", best_params)\n",
        "  print(\"Melhor acurácia durante a validação cruzada:\", best_accuracy)\n",
        "  print(\"Acurácia do modelo no conjunto de teste:\", test_accuracy)\n",
        "\n",
        "  return feature_importances"
      ],
      "metadata": {
        "id": "tCfD_UEUM6af"
      },
      "execution_count": null,
      "outputs": []
    },
    {
      "cell_type": "markdown",
      "source": [
        "# *Random Forest*"
      ],
      "metadata": {
        "id": "quaRTJx4YqXI"
      }
    },
    {
      "cell_type": "markdown",
      "source": [
        "Método Ensemble que combina várias árvores de decisão individuais para criar um modelo de classificação mais preciso e robusto. As árvores individuais são treinadas em subconjuntos aleatórios do conjunto de dados e fazem previsões independentemente. Principais características:\n",
        "\n",
        "- Construção de Árvores de Decisão: Cada árvore é construída utilizando uma parte do conjunto de dados de treinamento, escolhida aleatoriamente com reposição (bootstrap).\n",
        "\n",
        "- Amostragem de Recursos: Além da amostragem com reposição dos dados, também ocorre uma amostragem aleatória dos recursos em cada divisão do nó da árvore. Isso significa que em cada nó, o algoritmo considera apenas um subconjunto aleatório dos recursos disponíveis para escolher a melhor divisão.\n",
        "\n",
        "- Maioria por Votação: Quando uma nova instância precisa ser classificada, todas as árvores no RandomForestClassifier emitem suas previsões individuais. A classe prevista é determinada por votação majoritária entre as previsões das árvores.\n",
        "\n",
        "- Redução de Overfitting: A combinação de várias árvores de decisão e o uso de amostragem aleatória de dados e recursos ajudam a reduzir o overfitting, tornando o modelo mais geral e menos sensível a ruídos e variações no conjunto de treinamento.\n",
        "\n",
        "- Importância das Features: Mensuração da importância de cada recurso no processo de tomada de decisão. Isso é útil para entender quais recursos são mais relevantes para a classificação."
      ],
      "metadata": {
        "id": "Hx6-DCgn_DqD"
      }
    },
    {
      "cell_type": "code",
      "source": [
        "def cls_Random_Forest(y_tr, y_te):\n",
        "  cls_RandomForest = RandomForestClassifier()\n",
        "\n",
        "  param_grid = {\n",
        "      'random_state': [0, 6000],\n",
        "      'criterion': ['gini', 'entropy'], # Função de medição de qualidade da divisão para cada árvore na floresta\n",
        "      'n_estimators': [50, 100],        # Quantidade de árvores\n",
        "      'min_samples_split': [0.05, 0.1], # Quantidade mínima de casos para dividir um nó interno em uma árvore (número ou proporção)\n",
        "      'min_samples_leaf': [0.05, 0.1],  # Quantidade míninma no nó folha (nó final) (número ou proporção)\n",
        "      'max_depth': [8,12],              # Profundidade máxima da árvore\n",
        "      'max_features': [0.05, 0.1, 0.2], # Quantidade de atributos a serem considerados ao procurar a melhor divisão (número, proporção, ...)\n",
        "      'max_samples':  [0.05, 0.15]      # Quantidade de casos extraídos de X para treinar cada estimador\n",
        "      # max_leaf_nodes: []              # Quantidade máxima de folhas (nós terminais) permitidas em cada árvore da floresta\n",
        "  }\n",
        "\n",
        "  grid_search = GridSearchCV(estimator=cls_RandomForest, param_grid=param_grid, cv=5, scoring='accuracy')\n",
        "  grid_search.fit(X_train, y_tr)\n",
        "\n",
        "  # Melhor combinação de hiperparâmetros encontrada\n",
        "  best_params = grid_search.best_params_\n",
        "\n",
        "  # Melhor acurácia obtida durante a validação cruzada\n",
        "  best_accuracy = grid_search.best_score_\n",
        "\n",
        "  # Acurácia do modelo no conjunto de teste\n",
        "  test_accuracy = grid_search.score(X_test, y_te)\n",
        "\n",
        "  # Melhor modelo ajustado\n",
        "  best_model = grid_search.best_estimator_\n",
        "\n",
        "  # Feature_importances_ do melhor modelo ajustado\n",
        "  feature_importances = best_model.feature_importances_\n",
        "\n",
        "  print(' ')\n",
        "  print(\"Melhor combinação de hiperparâmetros:\", best_params)\n",
        "  print(\"Melhor acurácia durante a validação cruzada:\", best_accuracy)\n",
        "  print(\"Acurácia do modelo no conjunto de teste:\", test_accuracy)\n",
        "\n",
        "  return feature_importances"
      ],
      "metadata": {
        "id": "TLoI_yHnYxfb"
      },
      "execution_count": null,
      "outputs": []
    },
    {
      "cell_type": "markdown",
      "source": [
        "# *Extra Trees Classifier*"
      ],
      "metadata": {
        "id": "tGyI9VxjolLp"
      }
    },
    {
      "cell_type": "markdown",
      "source": [
        "Assim como o RandomForestClassifier, também utiliza árvores de decisão em conjunto para fazer previsões mais precisas e robustas. A principal diferença entre ambos é a forma como as árvores são construídas. No ExtraTreesClassifier, a divisão dos nós é feita de forma ainda mais aleatória do que no RandomForestClassifier, o que pode aumentar a variabilidade e reduzir o viés do modelo. Principais Características:\n",
        "\n",
        "- Amostragem Aleatória: Ao construir cada árvore de decisão, o ExtraTreesClassifier também usa amostragem com reposição (bootstrap) para selecionar aleatoriamente subconjuntos dos dados de treinamento. No entanto, em vez de calcular a melhor divisão possível para cada nó da árvore, ele faz uma escolha aleatória a partir de um subconjunto de divisões e seleciona a melhor entre essas escolhas aleatórias. Isso torna as árvores no ExtraTreesClassifier ainda mais aleatórias em comparação com as árvores no RandomForestClassifier.\n",
        "\n",
        "- Amostragem Aleatória de Recursos: Além da amostragem com reposição dos dados, o ExtraTreesClassifier também aplica amostragem aleatória de recursos em cada nó da árvore, assim como o RandomForestClassifier. Ele considera apenas um subconjunto aleatório dos recursos disponíveis para escolher a melhor divisão em cada nó.\n",
        "\n",
        "- Maioria por Votação: Da mesma forma que o RandomForestClassifier, quando uma nova instância precisa ser classificada, todas as árvores no ExtraTreesClassifier emitem suas previsões individuais, e a classe prevista é determinada por votação majoritária.\n",
        "\n",
        "- Redução de Overfitting: A natureza mais aleatória do ExtraTreesClassifier em relação ao RandomForestClassifier pode ajudar a reduzir ainda mais o overfitting e tornar o modelo mais geral e menos sensível a ruídos e variações no conjunto de treinamento."
      ],
      "metadata": {
        "id": "OReSHoUS-yFO"
      }
    },
    {
      "cell_type": "code",
      "source": [
        "def cls_Extra_Trees(y_tr,y_te):\n",
        "  cls_ExtraTreesClassifier = ExtraTreesClassifier()\n",
        "\n",
        "  param_grid = {\n",
        "      'random_state': [0,6000],\n",
        "      'criterion': ['gini', 'entropy'], # Função de medição de qualidade da divisão para cada árvore na floresta\n",
        "      'n_estimators': [50,100],         # Quantidade de árvores\n",
        "      'min_samples_split': [0.05,0.10], # Quantidade mínima de casos para dividir um nó interno em uma árvore (número ou proporção)\n",
        "      'min_samples_leaf': [0.05,0.10],  # Quantidade míninma no nó folha (nó final) (número ou proporção)\n",
        "      'max_depth': [8,12],              # Profundidade máxima da árvore\n",
        "      'max_features': [0.05, 0.10]      # Quantidade de atributos a serem considerados ao procurar a melhor divisão (número, proporção, ...)\n",
        "      # 'max_samples':  [0.05, 0.15]    # Quantidade de casos extraídos de X para treinar cada estimador\n",
        "      #'max_leaf_nodes': []             # Quantidade máxima de folhas (nós terminais) permitidas em cada árvore da floresta\n",
        "  }\n",
        "\n",
        "  grid_search = GridSearchCV(estimator=cls_ExtraTreesClassifier, param_grid=param_grid, cv=5, scoring='accuracy')\n",
        "  grid_search.fit(X_train, y_tr)\n",
        "\n",
        "  # Melhor combinação de hiperparâmetros encontrada\n",
        "  best_params = grid_search.best_params_\n",
        "\n",
        "  # Melhor acurácia obtida durante a validação cruzada\n",
        "  best_accuracy = grid_search.best_score_\n",
        "\n",
        "  # Acurácia do modelo no conjunto de teste\n",
        "  test_accuracy = grid_search.score(X_test, y_te)\n",
        "\n",
        "  # Melhor modelo ajustado\n",
        "  best_model = grid_search.best_estimator_\n",
        "\n",
        "  # Feature_importances_ do melhor modelo ajustado\n",
        "  feature_importances = best_model.feature_importances_\n",
        "\n",
        "  print(' ')\n",
        "  print(\"Melhor combinação de hiperparâmetros:\", best_params)\n",
        "  print(\"Melhor acurácia durante a validação cruzada:\", best_accuracy)\n",
        "  print(\"Acurácia do modelo no conjunto de teste:\", test_accuracy)\n",
        "\n",
        "  return feature_importances"
      ],
      "metadata": {
        "id": "TEIkD9m1vqdT"
      },
      "execution_count": null,
      "outputs": []
    },
    {
      "cell_type": "markdown",
      "source": [
        "# *Gradient Boosting*"
      ],
      "metadata": {
        "id": "eym2vTKbx54V"
      }
    },
    {
      "cell_type": "markdown",
      "source": [
        "Também é um Método Ensemble. No entanto, ao contrário do RandomForestClassifier e ExtraTreesClassifier, constrói uma sequência de modelos fracos, como árvores de decisão simples, e combina suas previsões para formar um modelo forte e robusto. É  eficaz em problemas de classificação, especialmente em dados complexos e não-lineares. Principais características:\n",
        "\n",
        "- Boosting: O algoritmo utiliza a técnica de boosting para melhorar a performance do modelo. No boosting, cada árvore de decisão subsequente é construída para corrigir os erros cometidos pelas árvores anteriores, ou seja, o foco é nas classificados incorretas anteriores.\n",
        "\n",
        "- Gradient Descent: utiliza o processo \"gradient descent\" para minimizar a função de perda, ajustando cada nova árvore na direção que reduz o erro do modelo.\n",
        "\n",
        "- Crescimento de Árvores de Decisão: utiliza árvores de decisão como estimadores básicos (modelos fracos) em cada iteração. Cada árvore é construída de forma que as decisões tomadas complementem as decisões das árvores já existentes.\n",
        "\n",
        "- Ponderação das Árvores: Cada árvore de decisão tem um peso associado a ela, dependendo da sua contribuição para o erro total do modelo. Árvores com melhor desempenho têm mais peso nas previsões finais.\n",
        "\n",
        "- Regularização: pode incluir técnicas de regularização para evitar o overfitting e melhorar a generalização do modelo, como a limitação da profundidade das árvores ou a redução da taxa de aprendizado (learning rate).\n",
        "\n",
        "- Previsões Finais: obtidas somando as previsões de todas as árvores, ponderadas pelos seus pesos.\n",
        "\n",
        "\n",
        "\n",
        "\n",
        "\n",
        "\n"
      ],
      "metadata": {
        "id": "xlxDFAfbE9np"
      }
    },
    {
      "cell_type": "code",
      "source": [
        "def cls_Gradient_Boosting(y_tr,y_te):\n",
        "  cls_GradientBoostingClassifier = GradientBoostingClassifier()\n",
        "\n",
        "  param_grid = {\n",
        "      'random_state': [0,6000],\n",
        "      'learning_rate': [0.01, 0.10],     # Taxa de aprendizado que controla a contribuição de cada árvore para a correção dos erros. Altos valores, alta contribuição, porém pode levar ao overfitting\n",
        "      'n_estimators': [50, 100],         # Quantidade de árvores na sequência (número de iterações do boosting).\n",
        "      'subsample': [0.05, 0.10],         # Proporção de amostras a serem usadas para ajustar cada árvore. Valores menores reduzem o overfitting, mas podem aumentar a variância.\n",
        "      'min_samples_split': [0.05, 0.10], # Quantidade mínima de casos para dividir um nó interno em uma árvore (número ou proporção)\n",
        "      'min_samples_leaf': [0.05, 0.10],  # Quantidade míninma no nó folha (nó final) (número ou proporção)\n",
        "      'max_depth': [8,12],               # Profundidade máxima da árvore\n",
        "      'max_features': [0.05, 0.10]       # Quantidade de atributos a serem considerados ao procurar a melhor divisão (número, proporção, ...)\n",
        "       #'max_leaf_nodes': []             # Quantidade máxima de folhas (nós terminais) permitidas em cada árvore da floresta\n",
        "       # 'tol': [1e-3, 1e-4],            # Critério de tolerância para parada do treinamento\n",
        "      }\n",
        "\n",
        "  grid_search = GridSearchCV(estimator=cls_GradientBoostingClassifier, param_grid=param_grid, cv=5, scoring='accuracy')\n",
        "  grid_search.fit(X_train, y_tr)\n",
        "\n",
        "  # Melhor combinação de hiperparâmetros encontrada\n",
        "  best_params = grid_search.best_params_\n",
        "\n",
        "  # Melhor acurácia obtida durante a validação cruzada\n",
        "  best_accuracy = grid_search.best_score_\n",
        "\n",
        "  # Acurácia do modelo no conjunto de teste\n",
        "  test_accuracy = grid_search.score(X_test, y_te)\n",
        "\n",
        "  # Melhor modelo ajustado\n",
        "  best_model = grid_search.best_estimator_\n",
        "\n",
        "  # Feature_importances_ do melhor modelo ajustado\n",
        "  feature_importances = best_model.feature_importances_\n",
        "\n",
        "  print(' ')\n",
        "  print(\"Melhor combinação de hiperparâmetros:\", best_params)\n",
        "  print(\"Melhor acurácia durante a validação cruzada:\", best_accuracy)\n",
        "  print(\"Acurácia do modelo no conjunto de teste:\", test_accuracy)\n",
        "\n",
        "  return feature_importances"
      ],
      "metadata": {
        "id": "bNQyySm2ywOL"
      },
      "execution_count": null,
      "outputs": []
    },
    {
      "cell_type": "markdown",
      "source": [
        "# *XGB Classifier*"
      ],
      "metadata": {
        "id": "pOFfoJAFzjEk"
      }
    },
    {
      "cell_type": "markdown",
      "source": [
        "É um classificador baseado em gradient boosting conhecido por sua eficiência e alto desempenho. Principais características:\n",
        "\n",
        "- Gradient Boosting: O XGBClassifier utiliza o algoritmo de boosting conhecido como Gradient Boosting. Ele constrói uma sequência de árvores de decisão, onde cada árvore tenta corrigir os erros da árvore anterior, melhorando gradualmente o modelo ao longo das iterações.\n",
        "\n",
        "- Regularização: oferece várias técnicas de regularização para evitar o overfitting, como a limitação da profundidade das árvores, a redução da taxa de aprendizado (learning rate) e o uso de termos de regularização L1 e L2.\n",
        "\n",
        "- Seleção Automática de Recursos: realiza uma seleção automática de recursos, o que significa que ele pode aprender a importância dos recursos durante o processo de treinamento e descartar os menos importantes, reduzindo a dimensionalidade do problema.\n",
        "\n",
        "- Tratamento de Dados Ausentes: tem a capacidade de lidar automaticamente com dados ausentes durante o treinamento.\n",
        "\n",
        "- Alta Performance: utiliza paralelismo e outras técnicas para acelerar o treinamento e a previsão, tornando-o adequado para grandes conjuntos de dados.\n",
        "\n",
        "- Cross-validation Integrada: possui uma funcionalidade integrada de validação cruzada para avaliar o desempenho do modelo durante o treinamento e ajustar os hiperparâmetros de forma adequada.\n",
        "\n",
        "\n"
      ],
      "metadata": {
        "id": "QFV-evWAHzSm"
      }
    },
    {
      "cell_type": "code",
      "source": [
        "def cls_XGBClassifier(y_tr,y_te):\n",
        "  cls_XGBClassifier = XGBClassifier()\n",
        "\n",
        "  param_grid = {\n",
        "      'learning_rate': [0.01, 0.10],    # Taxa de aprendizado que controla a contribuição de cada árvore para a correção dos erros. Altos valores, alta contribuição, porém pode levar ao overfitting\n",
        "      'n_estimators': [50, 100],        # Quantidade de árvores na sequência (número de iterações do boosting)\n",
        "      'subsample': [0.05, 0.10],        # Proporção de amostras a serem usadas para ajustar cada árvore. Valores menores reduzem o overfitting, mas podem aumentar a variância.\n",
        "      'min_child_weight': [0.05, 0.10], # Quantidade mínima de amostras em cada nó da árvore\n",
        "      'colsample_bytree': [0.05, 0.10], # Proporção de recursos a serem usados para ajustar cada árvore. Valores menores podem reduzir a correlação entre as árvores.\n",
        "      'max_depth': [8, 12],             # Profundidade máxima da árvore\n",
        "      # reg_alpha e reg_lambda: []      # L1 and L2 regularization term\n",
        "      # max_leaves: []                  # Maximum number of leaves;\n",
        "      # colsample_bylevel: []           # Subsample ratio of columns for each level.\n",
        "      # colsample_bynode: []            # Subsample ratio of columns for each split.\n",
        "  }\n",
        "\n",
        "  grid_search = GridSearchCV(estimator=cls_XGBClassifier, param_grid=param_grid, cv=5, scoring='accuracy')\n",
        "  grid_search.fit(X_train, y_tr)\n",
        "\n",
        "  # Melhor combinação de hiperparâmetros encontrada\n",
        "  best_params = grid_search.best_params_\n",
        "\n",
        "  # Melhor acurácia obtida durante a validação cruzada\n",
        "  best_accuracy = grid_search.best_score_\n",
        "\n",
        "  # Acurácia do modelo no conjunto de teste\n",
        "  test_accuracy = grid_search.score(X_test, y_te)\n",
        "\n",
        "  # Melhor modelo ajustado\n",
        "  best_model = grid_search.best_estimator_\n",
        "\n",
        "  # Feature_importances_ do melhor modelo ajustado\n",
        "  feature_importances = best_model.feature_importances_\n",
        "\n",
        "  print(' ')\n",
        "  print(\"Melhor combinação de hiperparâmetros:\", best_params)\n",
        "  print(\"Melhor acurácia durante a validação cruzada:\", best_accuracy)\n",
        "  print(\"Acurácia do modelo no conjunto de teste:\", test_accuracy)\n",
        "\n",
        "  return feature_importances"
      ],
      "metadata": {
        "id": "gY8r-CKEayfV"
      },
      "execution_count": null,
      "outputs": []
    },
    {
      "cell_type": "markdown",
      "source": [
        "# *LightGBM*"
      ],
      "metadata": {
        "id": "6mlRUePfDtqd"
      }
    },
    {
      "cell_type": "markdown",
      "source": [
        "Assim como o XGBoost e o GradientBoostingClassifier, é um método ensemble que combina várias árvores de decisão para construir um modelo de classificação forte e preciso. Principais características:\n",
        "\n",
        "- Gradient Boosting: O LGBMClassifier utiliza o algoritmo de boosting conhecido como Gradient Boosting. Ele constrói uma sequência de árvores de decisão, onde cada árvore tenta corrigir os erros da árvore anterior, melhorando gradualmente o modelo ao longo das iterações.\n",
        "\n",
        "- Crescimento Leaf-wise: utiliza o crescimento de árvore do tipo \"leaf-wise\", o que significa que ele escolhe o nó que possui a maior redução de erro ao fazer a divisão em cada passo. Isso pode resultar em uma construção de árvore mais profunda e com melhor desempenho, mas também pode levar a um aumento no overfitting se não for controlado adequadamente.\n",
        "\n",
        "- Paralelismo: é otimizado para eficiência computacional e usa técnicas como o \"histograma binning\" para acelerar o processo de treinamento. Além disso, ele pode aproveitar o paralelismo para treinar modelos mais rapidamente em sistemas multi-core.\n",
        "\n",
        "- Tratamento de Dados Ausentes: pode lidar automaticamente com dados ausentes durante o treinamento.\n",
        "\n",
        "- Seleção Automática de Recursos: pode aprender a importância dos recursos durante o processo de treinamento e descartar os menos importantes, reduzindo a dimensionalidade do problema.\n",
        "\n",
        "- Regularização: possui parâmetros de regularização para evitar o overfitting, como max_depth, min_child_samples, min_child_weight, entre outros.\n",
        "\n"
      ],
      "metadata": {
        "id": "k0cmwKWSLOTU"
      }
    },
    {
      "cell_type": "code",
      "source": [
        "def cls_LGBMClassifier(y_tr,y_te):\n",
        "  cls_LGBMClassifier = LGBMClassifier()\n",
        "\n",
        "  param_grid = {\n",
        "      'boosting_type': ['gbdt', 'dart', 'rf'],\n",
        "      'objective': ['binary'],            # or ‘multiclass\n",
        "      'num_leaves': [10, 20, 30],         # Quantidade máxima de folhas em uma árvore. Controla a complexidade da árvore. Valores maiores tornam o modelo mais complexo e propenso ao overfitting\n",
        "      'learning_rate': [0.01, 0.05, 0.1], # Taxa de aprendizado que controla a contribuição de cada árvore para a correção dos erros. Altos valores, alta contribuição, porém pode levar ao overfitting\n",
        "      'n_estimators': [50, 100],          # Quantidade de árvores na sequência (número de iterações do boosting)\n",
        "      'max_depth': [8, 12],               # Profundidade máxima da árvore\n",
        "      'subsample': [0.05, 0.10],          # Proporção de amostras a serem usadas para ajustar cada árvore. Valores menores reduzem o overfitting, mas podem aumentar a variância.\n",
        "      'colsample_bytree': [0.05, 0.10]    # Proporção de recursos a serem usados para ajustar cada árvore. Valores menores podem reduzir a correlação entre as árvores\n",
        "      # reg_alpha e reg_lambda            # L1 and L2 regularization term\n",
        "      # min_child_samples: []             # Quantidade mínima de amostras em cada folha (nó final) de uma árvore. Pode ser usado para evitar divisões excessivas em nós com poucas amostras\n",
        "      #'min_child_weight': [0.05, 0.10], # Quantidade mínima de amostras em cada nó da árvore\n",
        "      }\n",
        "\n",
        "  grid_search = GridSearchCV(estimator=cls_LGBMClassifier, param_grid=param_grid, cv=5, scoring='accuracy')\n",
        "  grid_search.fit(X_train, y_tr)\n",
        "\n",
        "  # Melhor combinação de hiperparâmetros encontrada\n",
        "  best_params = grid_search.best_params_\n",
        "\n",
        "  # Melhor acurácia obtida durante a validação cruzada\n",
        "  best_accuracy = grid_search.best_score_\n",
        "\n",
        "  # Acurácia do modelo no conjunto de teste\n",
        "  test_accuracy = grid_search.score(X_test, y_te)\n",
        "\n",
        "  # Melhor modelo ajustado\n",
        "  best_model = grid_search.best_estimator_\n",
        "\n",
        "  # Feature_importances_ do melhor modelo ajustado\n",
        "  feature_importances = best_model.feature_importances_\n",
        "\n",
        "  print(' ')\n",
        "  print(\"Melhor combinação de hiperparâmetros:\", best_params)\n",
        "  print(\"Melhor acurácia durante a validação cruzada:\", best_accuracy)\n",
        "  print(\"Acurácia do modelo no conjunto de teste:\", test_accuracy)\n",
        "\n",
        "  return feature_importances"
      ],
      "metadata": {
        "id": "Sjh9GpQIDypq"
      },
      "execution_count": null,
      "outputs": []
    },
    {
      "cell_type": "markdown",
      "source": [
        "# **Processamento**"
      ],
      "metadata": {
        "id": "T7vOvfSG-DBl"
      }
    },
    {
      "cell_type": "code",
      "source": [
        "def ajuste_classificador(algoritmo):\n",
        "  lista_results = []\n",
        "  for column in lista_resp:\n",
        "    kbestparam = algoritmo(y_train_2[column],y_test_2[column])\n",
        "    lista_results.append(kbestparam)\n",
        "  return lista_results"
      ],
      "metadata": {
        "id": "ILRJ5AB5-HaV"
      },
      "execution_count": null,
      "outputs": []
    },
    {
      "cell_type": "code",
      "source": [
        "lista_resp = ['Sum_Target_2','Target_Media']"
      ],
      "metadata": {
        "id": "RZaQvKrl_B4v"
      },
      "execution_count": null,
      "outputs": []
    },
    {
      "cell_type": "markdown",
      "source": [
        "- Regressão Logística\n",
        "\n",
        "  Entrada das variáveis independentes: OneHot Encoder"
      ],
      "metadata": {
        "id": "QbfRUK9bALy5"
      }
    },
    {
      "cell_type": "code",
      "source": [
        "# Codificação One Hot Encoder\n",
        "df_OneHot = f_onehotencoder(df_kbest)\n",
        "df_OneHot.shape"
      ],
      "metadata": {
        "colab": {
          "base_uri": "https://localhost:8080/"
        },
        "id": "FFy7Qb-X_fIt",
        "outputId": "baf44427-5892-4d19-a9a8-533b794317e5"
      },
      "execution_count": null,
      "outputs": [
        {
          "output_type": "execute_result",
          "data": {
            "text/plain": [
              "(33890, 84)"
            ]
          },
          "metadata": {},
          "execution_count": 95
        }
      ]
    },
    {
      "cell_type": "code",
      "source": [
        "# Amostra Treino/Teste\n",
        "X_train, X_test, y_train_2, y_test_2 = train_test_split(df_OneHot, Y, test_size=0.2, random_state=42)\n",
        "print(X_train.shape, X_test.shape)\n",
        "print(y_train_2.shape, y_test_2.shape)"
      ],
      "metadata": {
        "colab": {
          "base_uri": "https://localhost:8080/"
        },
        "id": "rzUWdRrd_fQp",
        "outputId": "f67d29db-12e2-4ca7-91ce-4a1c3d20ef60"
      },
      "execution_count": null,
      "outputs": [
        {
          "output_type": "stream",
          "name": "stdout",
          "text": [
            "(27112, 84) (6778, 84)\n",
            "(27112, 2) (6778, 2)\n"
          ]
        }
      ]
    },
    {
      "cell_type": "code",
      "source": [
        "results_RegLog = ajuste_classificador(cls_Reg_Logistic)"
      ],
      "metadata": {
        "colab": {
          "base_uri": "https://localhost:8080/"
        },
        "id": "1B5iqosj_fYA",
        "outputId": "12d7b9e2-b6a7-4513-9fad-95f3a00fffcd"
      },
      "execution_count": null,
      "outputs": [
        {
          "output_type": "stream",
          "name": "stderr",
          "text": [
            "/usr/local/lib/python3.10/dist-packages/sklearn/linear_model/_logistic.py:458: ConvergenceWarning: lbfgs failed to converge (status=1):\n",
            "STOP: TOTAL NO. of ITERATIONS REACHED LIMIT.\n",
            "\n",
            "Increase the number of iterations (max_iter) or scale the data as shown in:\n",
            "    https://scikit-learn.org/stable/modules/preprocessing.html\n",
            "Please also refer to the documentation for alternative solver options:\n",
            "    https://scikit-learn.org/stable/modules/linear_model.html#logistic-regression\n",
            "  n_iter_i = _check_optimize_result(\n",
            "/usr/local/lib/python3.10/dist-packages/sklearn/linear_model/_logistic.py:458: ConvergenceWarning: lbfgs failed to converge (status=1):\n",
            "STOP: TOTAL NO. of ITERATIONS REACHED LIMIT.\n",
            "\n",
            "Increase the number of iterations (max_iter) or scale the data as shown in:\n",
            "    https://scikit-learn.org/stable/modules/preprocessing.html\n",
            "Please also refer to the documentation for alternative solver options:\n",
            "    https://scikit-learn.org/stable/modules/linear_model.html#logistic-regression\n",
            "  n_iter_i = _check_optimize_result(\n",
            "/usr/local/lib/python3.10/dist-packages/sklearn/linear_model/_logistic.py:458: ConvergenceWarning: lbfgs failed to converge (status=1):\n",
            "STOP: TOTAL NO. of ITERATIONS REACHED LIMIT.\n",
            "\n",
            "Increase the number of iterations (max_iter) or scale the data as shown in:\n",
            "    https://scikit-learn.org/stable/modules/preprocessing.html\n",
            "Please also refer to the documentation for alternative solver options:\n",
            "    https://scikit-learn.org/stable/modules/linear_model.html#logistic-regression\n",
            "  n_iter_i = _check_optimize_result(\n",
            "/usr/local/lib/python3.10/dist-packages/sklearn/linear_model/_logistic.py:458: ConvergenceWarning: lbfgs failed to converge (status=1):\n",
            "STOP: TOTAL NO. of ITERATIONS REACHED LIMIT.\n",
            "\n",
            "Increase the number of iterations (max_iter) or scale the data as shown in:\n",
            "    https://scikit-learn.org/stable/modules/preprocessing.html\n",
            "Please also refer to the documentation for alternative solver options:\n",
            "    https://scikit-learn.org/stable/modules/linear_model.html#logistic-regression\n",
            "  n_iter_i = _check_optimize_result(\n",
            "/usr/local/lib/python3.10/dist-packages/sklearn/linear_model/_logistic.py:458: ConvergenceWarning: lbfgs failed to converge (status=1):\n",
            "STOP: TOTAL NO. of ITERATIONS REACHED LIMIT.\n",
            "\n",
            "Increase the number of iterations (max_iter) or scale the data as shown in:\n",
            "    https://scikit-learn.org/stable/modules/preprocessing.html\n",
            "Please also refer to the documentation for alternative solver options:\n",
            "    https://scikit-learn.org/stable/modules/linear_model.html#logistic-regression\n",
            "  n_iter_i = _check_optimize_result(\n",
            "/usr/local/lib/python3.10/dist-packages/sklearn/linear_model/_logistic.py:458: ConvergenceWarning: lbfgs failed to converge (status=1):\n",
            "STOP: TOTAL NO. of ITERATIONS REACHED LIMIT.\n",
            "\n",
            "Increase the number of iterations (max_iter) or scale the data as shown in:\n",
            "    https://scikit-learn.org/stable/modules/preprocessing.html\n",
            "Please also refer to the documentation for alternative solver options:\n",
            "    https://scikit-learn.org/stable/modules/linear_model.html#logistic-regression\n",
            "  n_iter_i = _check_optimize_result(\n",
            "/usr/local/lib/python3.10/dist-packages/sklearn/model_selection/_validation.py:378: FitFailedWarning: \n",
            "180 fits failed out of a total of 1080.\n",
            "The score on these train-test partitions for these parameters will be set to nan.\n",
            "If these failures are not expected, you can try to debug them by setting error_score='raise'.\n",
            "\n",
            "Below are more details about the failures:\n",
            "--------------------------------------------------------------------------------\n",
            "180 fits failed with the following error:\n",
            "Traceback (most recent call last):\n",
            "  File \"/usr/local/lib/python3.10/dist-packages/sklearn/model_selection/_validation.py\", line 686, in _fit_and_score\n",
            "    estimator.fit(X_train, y_train, **fit_params)\n",
            "  File \"/usr/local/lib/python3.10/dist-packages/sklearn/linear_model/_logistic.py\", line 1162, in fit\n",
            "    solver = _check_solver(self.solver, self.penalty, self.dual)\n",
            "  File \"/usr/local/lib/python3.10/dist-packages/sklearn/linear_model/_logistic.py\", line 54, in _check_solver\n",
            "    raise ValueError(\n",
            "ValueError: Solver lbfgs supports only 'l2' or 'none' penalties, got l1 penalty.\n",
            "\n",
            "  warnings.warn(some_fits_failed_message, FitFailedWarning)\n",
            "/usr/local/lib/python3.10/dist-packages/sklearn/model_selection/_search.py:952: UserWarning: One or more of the test scores are non-finite: [0.68748143 0.68751832 0.68785026 0.68788715        nan        nan\n",
            " 0.68733389 0.68751832 0.68781338 0.68788715        nan        nan\n",
            " 0.68733388 0.68751832 0.68781338 0.68788715        nan        nan\n",
            " 0.68807159 0.6880347  0.68847735 0.68836671 0.68836671 0.68836671\n",
            " 0.68807159 0.6880347  0.68847736 0.68840359 0.68836671 0.68836671\n",
            " 0.68807159 0.6880347  0.68840359 0.68836671 0.68836671 0.68836671\n",
            " 0.68748143 0.68751832 0.68785026 0.68788715        nan        nan\n",
            " 0.68733389 0.68751832 0.68781338 0.68788715        nan        nan\n",
            " 0.68733388 0.68751832 0.68781338 0.68788715        nan        nan\n",
            " 0.68807159 0.6880347  0.68847735 0.68836671 0.68836671 0.68836671\n",
            " 0.68807159 0.6880347  0.68847736 0.68840359 0.68836671 0.68836671\n",
            " 0.68807159 0.6880347  0.68840359 0.68836671 0.68836671 0.68836671\n",
            " 0.68947318 0.68973138 0.68962069 0.68965758        nan        nan\n",
            " 0.68962072 0.6896945  0.68976824 0.68965758        nan        nan\n",
            " 0.68962072 0.68976826 0.68958381 0.68962069        nan        nan\n",
            " 0.68880931 0.68873554 0.68880929 0.6888093  0.6888093  0.6888093\n",
            " 0.68880931 0.68873554 0.68895683 0.68884619 0.6888093  0.6888093\n",
            " 0.68880931 0.68873554 0.68888307 0.68877241 0.6888093  0.6888093\n",
            " 0.68947318 0.68973138 0.68962069 0.68965758        nan        nan\n",
            " 0.68962072 0.6896945  0.68976824 0.68965758        nan        nan\n",
            " 0.68962072 0.68976826 0.68958381 0.68962069        nan        nan\n",
            " 0.68880931 0.68873554 0.68880929 0.6888093  0.6888093  0.6888093\n",
            " 0.68880931 0.68873554 0.68895683 0.68884619 0.6888093  0.6888093\n",
            " 0.68880931 0.68873554 0.68888307 0.68877241 0.6888093  0.6888093\n",
            " 0.68925192 0.68925192 0.68947321 0.68917815        nan        nan\n",
            " 0.6892888  0.68925192 0.68921504 0.6892888         nan        nan\n",
            " 0.68943634 0.68921504 0.68917815 0.68921503        nan        nan\n",
            " 0.68903059 0.68903059 0.68914125 0.68921501 0.68921501 0.68921501\n",
            " 0.68903059 0.68903059 0.68936255 0.68928878 0.68921501 0.68921501\n",
            " 0.68903059 0.68903059 0.68910435 0.68921501 0.68921501 0.68921501\n",
            " 0.68925192 0.68925192 0.68947321 0.68917815        nan        nan\n",
            " 0.6892888  0.68925192 0.68921504 0.6892888         nan        nan\n",
            " 0.68943634 0.68921504 0.68917815 0.68921503        nan        nan\n",
            " 0.68903059 0.68903059 0.68914125 0.68921501 0.68921501 0.68921501\n",
            " 0.68903059 0.68903059 0.68936255 0.68928878 0.68921501 0.68921501\n",
            " 0.68903059 0.68903059 0.68910435 0.68921501 0.68921501 0.68921501]\n",
            "  warnings.warn(\n"
          ]
        },
        {
          "output_type": "stream",
          "name": "stdout",
          "text": [
            " \n",
            "Melhor combinação de hiperparâmetros: {'C': 0.5, 'max_iter': 100, 'penalty': 'l1', 'random_state': 100, 'solver': 'liblinear', 'tol': 0.0001}\n",
            "Melhor acurácia durante a validação cruzada: 0.6897682609686069\n",
            "Acurácia do modelo no conjunto de teste: 0.6963706107996459\n"
          ]
        },
        {
          "output_type": "stream",
          "name": "stderr",
          "text": [
            "/usr/local/lib/python3.10/dist-packages/sklearn/model_selection/_validation.py:378: FitFailedWarning: \n",
            "180 fits failed out of a total of 1080.\n",
            "The score on these train-test partitions for these parameters will be set to nan.\n",
            "If these failures are not expected, you can try to debug them by setting error_score='raise'.\n",
            "\n",
            "Below are more details about the failures:\n",
            "--------------------------------------------------------------------------------\n",
            "180 fits failed with the following error:\n",
            "Traceback (most recent call last):\n",
            "  File \"/usr/local/lib/python3.10/dist-packages/sklearn/model_selection/_validation.py\", line 686, in _fit_and_score\n",
            "    estimator.fit(X_train, y_train, **fit_params)\n",
            "  File \"/usr/local/lib/python3.10/dist-packages/sklearn/linear_model/_logistic.py\", line 1162, in fit\n",
            "    solver = _check_solver(self.solver, self.penalty, self.dual)\n",
            "  File \"/usr/local/lib/python3.10/dist-packages/sklearn/linear_model/_logistic.py\", line 54, in _check_solver\n",
            "    raise ValueError(\n",
            "ValueError: Solver lbfgs supports only 'l2' or 'none' penalties, got l1 penalty.\n",
            "\n",
            "  warnings.warn(some_fits_failed_message, FitFailedWarning)\n",
            "/usr/local/lib/python3.10/dist-packages/sklearn/model_selection/_search.py:952: UserWarning: One or more of the test scores are non-finite: [0.68770257 0.68740747 0.68744431 0.68740743        nan        nan\n",
            " 0.68751813 0.68740747 0.68751808 0.68744431        nan        nan\n",
            " 0.6875919  0.68737059 0.6874812  0.68744431        nan        nan\n",
            " 0.68663287 0.68663287 0.68740745 0.68737056 0.68733367 0.68733367\n",
            " 0.68663287 0.68663287 0.68733367 0.68737056 0.68733367 0.68733367\n",
            " 0.68663287 0.68663287 0.68737056 0.68737056 0.68733367 0.68733367\n",
            " 0.68770257 0.68740747 0.68744431 0.68740743        nan        nan\n",
            " 0.68751813 0.68740747 0.68751808 0.68744431        nan        nan\n",
            " 0.6875919  0.68737059 0.6874812  0.68744431        nan        nan\n",
            " 0.68663287 0.68663287 0.68740745 0.68737056 0.68733367 0.68733367\n",
            " 0.68663287 0.68663287 0.68733367 0.68737056 0.68733367 0.68733367\n",
            " 0.68663287 0.68663287 0.68737056 0.68737056 0.68733367 0.68733367\n",
            " 0.68703865 0.68703866 0.68748128 0.68744439        nan        nan\n",
            " 0.68707554 0.68696489 0.68737061 0.68744438        nan        nan\n",
            " 0.68696489 0.68700177 0.68733373 0.68751816        nan        nan\n",
            " 0.68700174 0.68700175 0.68685421 0.6868542  0.68689108 0.68689108\n",
            " 0.68700174 0.68700175 0.68703863 0.68685419 0.68689108 0.68689108\n",
            " 0.68700174 0.68700175 0.68689109 0.68685419 0.68689108 0.68689108\n",
            " 0.68703865 0.68703866 0.68748128 0.68744439        nan        nan\n",
            " 0.68707554 0.68696489 0.68737061 0.68744438        nan        nan\n",
            " 0.68696489 0.68700177 0.68733373 0.68751816        nan        nan\n",
            " 0.68700174 0.68700175 0.68685421 0.6868542  0.68689108 0.68689108\n",
            " 0.68700174 0.68700175 0.68703863 0.68685419 0.68689108 0.68689108\n",
            " 0.68700174 0.68700175 0.68689109 0.68685419 0.68689108 0.68689108\n",
            " 0.68718619 0.68744439 0.68762882 0.68762882        nan        nan\n",
            " 0.6871493  0.68744439 0.6874444  0.68755505        nan        nan\n",
            " 0.68707553 0.6874075  0.68755505 0.68751816        nan        nan\n",
            " 0.6873706  0.68729684 0.68755502 0.68751814 0.68759191 0.68759191\n",
            " 0.6873706  0.68729684 0.68759192 0.68751814 0.68759191 0.68759191\n",
            " 0.6873706  0.68729684 0.68748126 0.68748125 0.68759191 0.68759191\n",
            " 0.68718619 0.68744439 0.68762882 0.68762882        nan        nan\n",
            " 0.6871493  0.68744439 0.6874444  0.68755505        nan        nan\n",
            " 0.68707553 0.6874075  0.68755505 0.68751816        nan        nan\n",
            " 0.6873706  0.68729684 0.68755502 0.68751814 0.68759191 0.68759191\n",
            " 0.6873706  0.68729684 0.68759192 0.68751814 0.68759191 0.68759191\n",
            " 0.6873706  0.68729684 0.68748126 0.68748125 0.68759191 0.68759191]\n",
            "  warnings.warn(\n"
          ]
        },
        {
          "output_type": "stream",
          "name": "stdout",
          "text": [
            " \n",
            "Melhor combinação de hiperparâmetros: {'C': 0.1, 'max_iter': 100, 'penalty': 'l1', 'random_state': 0, 'solver': 'liblinear', 'tol': 0.001}\n",
            "Melhor acurácia durante a validação cruzada: 0.6877025685304331\n",
            "Acurácia do modelo no conjunto de teste: 0.6925346709943936\n"
          ]
        }
      ]
    },
    {
      "cell_type": "code",
      "source": [
        "results_RegLog"
      ],
      "metadata": {
        "colab": {
          "base_uri": "https://localhost:8080/"
        },
        "id": "qe1dx49HGORt",
        "outputId": "e14a3ce1-c08f-456e-e266-49308fad79fb"
      },
      "execution_count": null,
      "outputs": [
        {
          "output_type": "execute_result",
          "data": {
            "text/plain": [
              "[array([-0.49577687,  0.        ,  0.12489229,  0.11050667, -0.3649707 ,\n",
              "         0.01116581, -0.13031345, -0.19199937, -0.46299477,  0.43582405,\n",
              "         0.03654947,  0.22537443,  0.19328825,  0.09025538,  0.01891504,\n",
              "         0.02698896,  0.08282175,  0.16568023,  0.19216085,  0.53588387,\n",
              "         0.37587062,  0.1385251 ,  0.29045103,  0.45739724,  0.35333976,\n",
              "         0.50184574,  0.7268088 ,  0.51942085,  0.        ,  0.18371206,\n",
              "         0.20032875,  0.50723902,  0.51323174,  0.07183225,  0.11004509,\n",
              "         0.12087857,  0.17310931,  0.35394556,  0.        , -0.16212623,\n",
              "        -0.1993989 , -0.3809325 , -0.36325823, -0.01821944,  0.15053304,\n",
              "         0.39676995,  0.44675605,  0.66304535,  0.89405948,  1.02909041,\n",
              "         1.25620409,  1.50722946, -0.21009184,  0.0534215 ,  0.27181792,\n",
              "         0.47183466, -0.11562332, -0.09791492, -0.11135189, -0.00630939,\n",
              "        -0.03991451, -0.32289003,  0.17144741,  0.29668942, -0.09600018,\n",
              "        -0.21642093, -0.16425699,  0.05354951, -0.13610316,  0.03958973,\n",
              "        -0.26197099, -0.24038721, -0.32936172, -0.15482015, -0.06572298,\n",
              "         0.        ,  0.29236812,  0.27012991,  0.26802208,  0.06903461,\n",
              "         0.46913519,  0.76023323,  1.03578877, -0.00874029]),\n",
              " array([-0.50105163,  0.        ,  0.01918505, -0.05642683, -0.69470809,\n",
              "         0.1230629 , -0.02154531, -0.00329119, -0.06040376,  0.        ,\n",
              "         0.06404055,  0.23713288,  0.13042729,  0.        ,  0.        ,\n",
              "        -0.05749926,  0.04228647,  0.07575478,  0.06531386,  0.38393899,\n",
              "         0.23349641,  0.06572666,  0.07476053,  0.19840345,  0.09921257,\n",
              "         0.30538184,  0.48045726,  0.36135538, -0.19120147,  0.17376314,\n",
              "         0.17310633,  0.47457328,  0.37553741,  0.        ,  0.08932854,\n",
              "         0.11657606,  0.1806978 ,  0.3676271 ,  0.        , -0.16883432,\n",
              "        -0.18999699, -0.3603852 , -0.33214952, -0.24177302, -0.08647114,\n",
              "         0.11511882,  0.18373063,  0.43848829,  0.5944062 ,  0.70868354,\n",
              "         0.88756872,  1.2047614 , -0.11650635,  0.03810671,  0.24274776,\n",
              "         0.13210134, -0.04393606, -0.0484129 ,  0.        , -0.00529803,\n",
              "         0.        ,  0.        ,  0.14998759,  0.25374124, -0.0448514 ,\n",
              "        -0.03819082, -0.16649025,  0.01316564, -0.01409371,  0.05642783,\n",
              "        -0.1396285 , -0.10720017, -0.18298314,  0.        , -0.05163495,\n",
              "        -0.25856899,  0.        ,  0.        ,  0.00260621,  0.07303543,\n",
              "         0.44047456,  0.77022819,  0.91830582,  0.06300871])]"
            ]
          },
          "metadata": {},
          "execution_count": 103
        }
      ]
    },
    {
      "cell_type": "markdown",
      "source": [
        "- Demais Algoritmos (baseados em árvores)\n",
        "\n",
        "  Entradas das variáveis independentes: Label Enconder"
      ],
      "metadata": {
        "id": "i1WDJzzqAlGM"
      }
    },
    {
      "cell_type": "code",
      "source": [
        "# Amostra Treino/Teste\n",
        "X_train, X_test, y_train_2, y_test_2 = train_test_split(df_kbest, Y, test_size=0.2, random_state=42)\n",
        "print(X_train.shape, X_test.shape)\n",
        "print(y_train_2.shape, y_test_2.shape)"
      ],
      "metadata": {
        "colab": {
          "base_uri": "https://localhost:8080/"
        },
        "id": "lO7JvywL-9pp",
        "outputId": "c504d7c0-60fd-4b30-9ab4-60b29e1944ff"
      },
      "execution_count": null,
      "outputs": [
        {
          "output_type": "stream",
          "name": "stdout",
          "text": [
            "(27112, 27) (6778, 27)\n",
            "(27112, 2) (6778, 2)\n"
          ]
        }
      ]
    },
    {
      "cell_type": "code",
      "source": [
        "results_DecTree = ajuste_classificador(cls_Decision_Tree)\n",
        "results_DecTree"
      ],
      "metadata": {
        "colab": {
          "base_uri": "https://localhost:8080/"
        },
        "id": "JhlHoTjPBY9U",
        "outputId": "36b61835-bbf7-4fe8-ef6d-bf3919100743"
      },
      "execution_count": null,
      "outputs": [
        {
          "output_type": "stream",
          "name": "stdout",
          "text": [
            " \n",
            "Melhor combinação de hiperparâmetros: {'criterion': 'gini', 'max_depth': 8, 'max_features': 0.2, 'min_samples_leaf': 0.05, 'min_samples_split': 0.05, 'random_state': 6000}\n",
            "Melhor acurácia durante a validação cruzada: 0.6559460698326247\n",
            "Acurácia do modelo no conjunto de teste: 0.6521097668928888\n",
            " \n",
            "Melhor combinação de hiperparâmetros: {'criterion': 'entropy', 'max_depth': 8, 'max_features': 0.2, 'min_samples_leaf': 0.05, 'min_samples_split': 0.15, 'random_state': 6000}\n",
            "Melhor acurácia durante a validação cruzada: 0.6615521768050381\n",
            "Acurácia do modelo no conjunto de teste: 0.6681912068456772\n"
          ]
        },
        {
          "output_type": "execute_result",
          "data": {
            "text/plain": [
              "[array([0.13082861, 0.        , 0.0153942 , 0.        , 0.        ,\n",
              "        0.01011309, 0.31209001, 0.02182792, 0.        , 0.        ,\n",
              "        0.10193232, 0.        , 0.        , 0.        , 0.19835091,\n",
              "        0.        , 0.        , 0.        , 0.        , 0.        ,\n",
              "        0.        , 0.        , 0.        , 0.        , 0.        ,\n",
              "        0.20946293, 0.        ]),\n",
              " array([0.01422043, 0.        , 0.        , 0.        , 0.        ,\n",
              "        0.        , 0.33802489, 0.02686805, 0.        , 0.        ,\n",
              "        0.1814219 , 0.        , 0.        , 0.        , 0.        ,\n",
              "        0.13571526, 0.        , 0.        , 0.        , 0.        ,\n",
              "        0.        , 0.        , 0.        , 0.        , 0.05542331,\n",
              "        0.24832616, 0.        ])]"
            ]
          },
          "metadata": {},
          "execution_count": 109
        }
      ]
    },
    {
      "cell_type": "code",
      "source": [
        "results_RanFore = ajuste_classificador(cls_Random_Forest)\n",
        "results_RanFore"
      ],
      "metadata": {
        "colab": {
          "base_uri": "https://localhost:8080/"
        },
        "id": "6brHnCrzC4zW",
        "outputId": "9eed3978-5231-4f0e-d8af-957025a5fd6d"
      },
      "execution_count": null,
      "outputs": [
        {
          "output_type": "stream",
          "name": "stdout",
          "text": [
            " \n",
            "Melhor combinação de hiperparâmetros: {'criterion': 'entropy', 'max_depth': 8, 'max_features': 0.2, 'max_samples': 0.15, 'min_samples_leaf': 0.05, 'min_samples_split': 0.05, 'n_estimators': 100, 'random_state': 6000}\n",
            "Melhor acurácia durante a validação cruzada: 0.6730600969829924\n",
            "Acurácia do modelo no conjunto de teste: 0.6845677190911773\n",
            " \n",
            "Melhor combinação de hiperparâmetros: {'criterion': 'entropy', 'max_depth': 8, 'max_features': 0.2, 'max_samples': 0.15, 'min_samples_leaf': 0.05, 'min_samples_split': 0.05, 'n_estimators': 100, 'random_state': 6000}\n",
            "Melhor acurácia durante a validação cruzada: 0.670625489354909\n",
            "Acurácia do modelo no conjunto de teste: 0.6782236647978754\n"
          ]
        },
        {
          "output_type": "execute_result",
          "data": {
            "text/plain": [
              "[array([0.10309278, 0.01030928, 0.01030928, 0.        , 0.        ,\n",
              "        0.05154639, 0.09278351, 0.08247423, 0.03092784, 0.        ,\n",
              "        0.18556701, 0.        , 0.        , 0.        , 0.1443299 ,\n",
              "        0.        , 0.04123711, 0.        , 0.05154639, 0.        ,\n",
              "        0.        , 0.        , 0.        , 0.04123711, 0.        ,\n",
              "        0.15463918, 0.        ]),\n",
              " array([0.11340206, 0.01030928, 0.01030928, 0.        , 0.        ,\n",
              "        0.05154639, 0.08247423, 0.08247423, 0.04123711, 0.        ,\n",
              "        0.20618557, 0.        , 0.        , 0.        , 0.13402062,\n",
              "        0.        , 0.03092784, 0.        , 0.04123711, 0.        ,\n",
              "        0.        , 0.        , 0.        , 0.06185567, 0.        ,\n",
              "        0.13402062, 0.        ])]"
            ]
          },
          "metadata": {},
          "execution_count": 110
        }
      ]
    },
    {
      "cell_type": "code",
      "source": [
        "results_ExtTree = ajuste_classificador(cls_Extra_Trees)\n",
        "results_ExtTree"
      ],
      "metadata": {
        "colab": {
          "base_uri": "https://localhost:8080/"
        },
        "id": "dzn1RqWXCnyy",
        "outputId": "169d3f3f-c7be-49ac-d500-9f2dc62af5ac"
      },
      "execution_count": null,
      "outputs": [
        {
          "output_type": "stream",
          "name": "stdout",
          "text": [
            " \n",
            "Melhor combinação de hiperparâmetros: {'criterion': 'entropy', 'max_depth': 8, 'max_features': 0.1, 'min_samples_leaf': 0.05, 'min_samples_split': 0.05, 'n_estimators': 50, 'random_state': 6000}\n",
            "Melhor acurácia durante a validação cruzada: 0.6706991744453876\n",
            "Acurácia do modelo no conjunto de teste: 0.6786662732369431\n",
            " \n",
            "Melhor combinação de hiperparâmetros: {'criterion': 'gini', 'max_depth': 8, 'max_features': 0.05, 'min_samples_leaf': 0.1, 'min_samples_split': 0.05, 'n_estimators': 100, 'random_state': 6000}\n",
            "Melhor acurácia durante a validação cruzada: 0.6698875773521703\n",
            "Acurácia do modelo no conjunto de teste: 0.6708468574800827\n"
          ]
        },
        {
          "output_type": "execute_result",
          "data": {
            "text/plain": [
              "[array([0.0671012 , 0.00245818, 0.01011081, 0.01278551, 0.01520888,\n",
              "        0.03344605, 0.02440207, 0.07385878, 0.01829658, 0.00625765,\n",
              "        0.07263592, 0.00457034, 0.05852401, 0.01846893, 0.03949135,\n",
              "        0.0080002 , 0.02511656, 0.00281841, 0.07379137, 0.        ,\n",
              "        0.05722699, 0.02480504, 0.0345485 , 0.03246951, 0.03990403,\n",
              "        0.14727167, 0.09643145]),\n",
              " array([0.10422562, 0.02331723, 0.01538462, 0.02573459, 0.01944368,\n",
              "        0.0564362 , 0.01269327, 0.0396265 , 0.02466824, 0.01669525,\n",
              "        0.08289326, 0.        , 0.01771741, 0.04618891, 0.04591547,\n",
              "        0.01378386, 0.00929486, 0.01750667, 0.04345651, 0.        ,\n",
              "        0.1225479 , 0.01538462, 0.03859018, 0.05783038, 0.04921484,\n",
              "        0.07680832, 0.02464164])]"
            ]
          },
          "metadata": {},
          "execution_count": 116
        }
      ]
    },
    {
      "cell_type": "code",
      "source": [
        "results_GraBoos = ajuste_classificador(cls_Gradient_Boosting)\n",
        "results_GraBoos"
      ],
      "metadata": {
        "colab": {
          "base_uri": "https://localhost:8080/"
        },
        "id": "Fc9aZsFgCvt1",
        "outputId": "a2d0fe65-4713-4012-b3c2-261aaf6ec961"
      },
      "execution_count": null,
      "outputs": [
        {
          "output_type": "stream",
          "name": "stdout",
          "text": [
            " \n",
            "Melhor combinação de hiperparâmetros: {'learning_rate': 0.01, 'max_depth': 8, 'max_features': 0.05, 'min_samples_leaf': 0.05, 'min_samples_split': 0.05, 'n_estimators': 50, 'random_state': 0, 'subsample': 0.05}\n",
            "Melhor acurácia durante a validação cruzada: 0.511544704906959\n",
            "Acurácia do modelo no conjunto de teste: 0.5089997049277073\n",
            " \n",
            "Melhor combinação de hiperparâmetros: {'learning_rate': 0.01, 'max_depth': 8, 'max_features': 0.05, 'min_samples_leaf': 0.05, 'min_samples_split': 0.05, 'n_estimators': 50, 'random_state': 0, 'subsample': 0.05}\n",
            "Melhor acurácia durante a validação cruzada: 0.5027294228110076\n",
            "Acurácia do modelo no conjunto de teste: 0.5097373856594866\n"
          ]
        },
        {
          "output_type": "execute_result",
          "data": {
            "text/plain": [
              "[array([0., 0., 0., 0., 0., 0., 0., 0., 0., 0., 0., 0., 0., 0., 0., 0., 0.,\n",
              "        0., 0., 0., 0., 0., 0., 0., 0., 0., 0.]),\n",
              " array([0., 0., 0., 0., 0., 0., 0., 0., 0., 0., 0., 0., 0., 0., 0., 0., 0.,\n",
              "        0., 0., 0., 0., 0., 0., 0., 0., 0., 0.])]"
            ]
          },
          "metadata": {},
          "execution_count": 121
        }
      ]
    },
    {
      "cell_type": "code",
      "source": [
        "results_XGBClas = ajuste_classificador(cls_XGBClassifier)\n",
        "results_XGBClas"
      ],
      "metadata": {
        "colab": {
          "base_uri": "https://localhost:8080/"
        },
        "id": "yaESpPKrCv7K",
        "outputId": "964780d7-b586-4bb5-e4ef-0c452120fc93"
      },
      "execution_count": null,
      "outputs": [
        {
          "output_type": "stream",
          "name": "stdout",
          "text": [
            " \n",
            "Melhor combinação de hiperparâmetros: {'colsample_bytree': 0.1, 'learning_rate': 0.1, 'max_depth': 8, 'min_child_weight': 0.1, 'n_estimators': 100, 'subsample': 0.1}\n",
            "Melhor acurácia durante a validação cruzada: 0.6823913175524033\n",
            "Acurácia do modelo no conjunto de teste: 0.6919445264089702\n",
            " \n",
            "Melhor combinação de hiperparâmetros: {'colsample_bytree': 0.1, 'learning_rate': 0.1, 'max_depth': 8, 'min_child_weight': 0.1, 'n_estimators': 100, 'subsample': 0.1}\n",
            "Melhor acurácia durante a validação cruzada: 0.6805469252544237\n",
            "Acurácia do modelo no conjunto de teste: 0.6885511950427855\n"
          ]
        },
        {
          "output_type": "execute_result",
          "data": {
            "text/plain": [
              "[array([0.16405065, 0.00742223, 0.00876194, 0.00795671, 0.01078869,\n",
              "        0.02380938, 0.01490025, 0.02402571, 0.01409422, 0.01082082,\n",
              "        0.0496256 , 0.00895928, 0.03010628, 0.00502998, 0.03180092,\n",
              "        0.00733806, 0.00692192, 0.00512193, 0.0575771 , 0.00425235,\n",
              "        0.10249072, 0.00564891, 0.03748406, 0.01151205, 0.03103103,\n",
              "        0.28435242, 0.03411674], dtype=float32),\n",
              " array([0.1844096 , 0.00964   , 0.00971239, 0.00818113, 0.01179052,\n",
              "        0.02040814, 0.02015244, 0.02514228, 0.02302822, 0.01180319,\n",
              "        0.0614871 , 0.01123964, 0.042294  , 0.00615895, 0.02967278,\n",
              "        0.00920545, 0.00760507, 0.01028278, 0.04961472, 0.00407785,\n",
              "        0.04486343, 0.00620016, 0.05027631, 0.01102785, 0.02541443,\n",
              "        0.26850867, 0.03780292], dtype=float32)]"
            ]
          },
          "metadata": {},
          "execution_count": 128
        }
      ]
    },
    {
      "cell_type": "code",
      "source": [
        "results_LGBClas = ajuste_classificador(cls_LGBMClassifier)\n",
        "results_LGBClas"
      ],
      "metadata": {
        "colab": {
          "base_uri": "https://localhost:8080/"
        },
        "id": "BFDlMbxLDLh_",
        "outputId": "88ad3ef7-dc46-49f6-c0d5-cb844472956f"
      },
      "execution_count": null,
      "outputs": [
        {
          "output_type": "stream",
          "name": "stdout",
          "text": [
            " \n",
            "Melhor combinação de hiperparâmetros: {'boosting_type': 'gbdt', 'colsample_bytree': 0.1, 'learning_rate': 0.1, 'max_depth': 12, 'n_estimators': 100, 'num_leaves': 30, 'subsample': 0.05}\n",
            "Melhor acurácia durante a validação cruzada: 0.6888460104043375\n",
            "Acurácia do modelo no conjunto de teste: 0.6963706107996459\n",
            " \n",
            "Melhor combinação de hiperparâmetros: {'boosting_type': 'gbdt', 'colsample_bytree': 0.1, 'learning_rate': 0.1, 'max_depth': 8, 'n_estimators': 100, 'num_leaves': 10, 'subsample': 0.05}\n",
            "Melhor acurácia durante a validação cruzada: 0.6874812547864191\n",
            "Acurácia do modelo no conjunto de teste: 0.6940100324579522\n"
          ]
        },
        {
          "output_type": "execute_result",
          "data": {
            "text/plain": [
              "[array([  9, 157, 171,  41,  75, 163, 109, 133, 119, 154, 172,  47, 144,\n",
              "        141, 130, 101,  56,  23,  31,  47,  56, 139,  35,  62,  77,  58,\n",
              "         66], dtype=int32),\n",
              " array([ 9, 40, 50, 25, 29, 59, 43, 43, 41, 41, 72, 22, 31, 42, 37, 43, 23,\n",
              "        11, 12, 21, 31, 47, 19, 20, 22, 37, 28], dtype=int32)]"
            ]
          },
          "metadata": {},
          "execution_count": 134
        }
      ]
    },
    {
      "cell_type": "markdown",
      "source": [
        "# **Análise**"
      ],
      "metadata": {
        "id": "6x7BQvWBBPHj"
      }
    },
    {
      "cell_type": "code",
      "source": [
        "def plot_feature_importance(results,algoritmo):\n",
        "  df_feat_import = pd.DataFrame({'Features': df_kbest.columns,\n",
        "                                 'RT1': results[0],\n",
        "                                 'RT2': results[1]})\n",
        "  df_feat_import_1 = df_feat_import.sort_values(by='RT1', ascending=True)\n",
        "  df_feat_import_2 = df_feat_import.sort_values(by='RT2', ascending=True)\n",
        "\n",
        "  fig, (ax1, ax2) = plt.subplots(1, 2, figsize=(9, 6))\n",
        "  fig.suptitle(algoritmo, fontsize=14, fontweight='bold', y=1)\n",
        "\n",
        "  ax1.barh(df_feat_import_1['Features'], df_feat_import_1['RT1'])\n",
        "  ax1.set_title('Target 1')\n",
        "  ax1.set_xlabel('Importance')\n",
        "  ax1.set_ylabel('Features')\n",
        "  ticks1 = [i for i in range(0.1,0.5,0.1)]\n",
        "  ax1.set_xticks(ticks1)\n",
        "  # ax1.set_xticklabels([f'{i:.1f}' for i in ticks1], fontsize=8)\n",
        "\n",
        "  ax2.barh(df_feat_import_2['Features'], df_feat_import_2['RT2'])\n",
        "  ax2.set_title('Target 2')\n",
        "  ax2.set_xlabel('Importance')\n",
        "  ax2.set_ylabel('Features')\n",
        "  ax2.set_xticks(ticks1)\n",
        "  # ax2.set_xticklabels([f'{i:.1f}' for i in ticks1], fontsize=8)\n",
        "\n",
        "  plt.tight_layout()\n",
        "\n",
        "  return plt.show()"
      ],
      "metadata": {
        "id": "srvo9Wxtc3WQ"
      },
      "execution_count": null,
      "outputs": []
    },
    {
      "cell_type": "code",
      "source": [
        "plot_DT = plot_feature_importance(results_DecTree, 'Feature Importances - Best Model (DT)')\n",
        "plot_DT"
      ],
      "metadata": {
        "colab": {
          "base_uri": "https://localhost:8080/",
          "height": 200
        },
        "id": "_Bb9Ep4W_LP7",
        "outputId": "aae068f6-4a6f-496c-a963-3d3ed92146ce"
      },
      "execution_count": null,
      "outputs": [
        {
          "output_type": "error",
          "ename": "NameError",
          "evalue": "ignored",
          "traceback": [
            "\u001b[0;31m---------------------------------------------------------------------------\u001b[0m",
            "\u001b[0;31mNameError\u001b[0m                                 Traceback (most recent call last)",
            "\u001b[0;32m<ipython-input-1-1d205e5f9dcf>\u001b[0m in \u001b[0;36m<cell line: 1>\u001b[0;34m()\u001b[0m\n\u001b[0;32m----> 1\u001b[0;31m \u001b[0mplot_DT\u001b[0m \u001b[0;34m=\u001b[0m \u001b[0mplot_feature_importance\u001b[0m\u001b[0;34m(\u001b[0m\u001b[0mresults_DecTree\u001b[0m\u001b[0;34m,\u001b[0m \u001b[0;34m'Feature Importances - Best Model (DT)'\u001b[0m\u001b[0;34m)\u001b[0m\u001b[0;34m\u001b[0m\u001b[0;34m\u001b[0m\u001b[0m\n\u001b[0m\u001b[1;32m      2\u001b[0m \u001b[0mplot_DT\u001b[0m\u001b[0;34m\u001b[0m\u001b[0;34m\u001b[0m\u001b[0m\n",
            "\u001b[0;31mNameError\u001b[0m: name 'plot_feature_importance' is not defined"
          ]
        }
      ]
    },
    {
      "cell_type": "code",
      "source": [
        "plot_RF = plot_feature_importance(results_RanFore, 'Feature Importances - Best Model (RF)')\n",
        "plot_RF"
      ],
      "metadata": {
        "colab": {
          "base_uri": "https://localhost:8080/",
          "height": 759
        },
        "id": "ON18ZIUA_dmK",
        "outputId": "7cce5a35-7117-4102-9b0f-ac0702ccb6b7"
      },
      "execution_count": null,
      "outputs": [
        {
          "output_type": "display_data",
          "data": {
            "text/plain": [
              "<Figure size 1000x800 with 3 Axes>"
            ],
            "image/png": "[encoded data removed]"
          },
          "metadata": {}
        }
      ]
    },
    {
      "cell_type": "code",
      "source": [
        "plot_ET = plot_feature_importance(results_ExtTree, 'Feature Importances - Best Model (ET)')\n",
        "plot_ET"
      ],
      "metadata": {
        "colab": {
          "base_uri": "https://localhost:8080/",
          "height": 759
        },
        "id": "I4ALdx0V_dsY",
        "outputId": "eed9518b-c465-4428-d987-cc1c497fdfc8"
      },
      "execution_count": null,
      "outputs": [
        {
          "output_type": "display_data",
          "data": {
            "text/plain": [
              "<Figure size 1000x800 with 3 Axes>"
            ],
            "image/png": "[encoded data removed]"
          },
          "metadata": {}
        }
      ]
    },
    {
      "cell_type": "code",
      "source": [
        "plot_XGB = plot_feature_importance(results_XGBClas, 'Feature Importances - Best Model (XGB)')\n",
        "plot_XGB"
      ],
      "metadata": {
        "colab": {
          "base_uri": "https://localhost:8080/",
          "height": 759
        },
        "id": "fAwbuYhtjNTe",
        "outputId": "17a9402a-d5ff-4ce9-82f6-f841bcbc6c49"
      },
      "execution_count": null,
      "outputs": [
        {
          "output_type": "display_data",
          "data": {
            "text/plain": [
              "<Figure size 1000x800 with 3 Axes>"
            ],
            "image/png": "[encoded data removed]"
          },
          "metadata": {}
        }
      ]
    }
  ]
}
