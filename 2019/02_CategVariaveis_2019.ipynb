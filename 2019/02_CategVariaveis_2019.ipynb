{
  "nbformat": 4,
  "nbformat_minor": 0,
  "metadata": {
    "colab": {
      "provenance": [],
      "toc_visible": true,
      "mount_file_id": "1MBHCe-uTvtEPOJfl6fGnKgtEqoBwkKfT",
      "authorship_tag": "ABX9TyOjgrWgV7XYf0ZygiXxH0+b",
      "include_colab_link": true
    },
    "kernelspec": {
      "name": "python3",
      "display_name": "Python 3"
    },
    "language_info": {
      "name": "python"
    }
  },
  "cells": [
    {
      "cell_type": "markdown",
      "metadata": {
        "id": "view-in-github",
        "colab_type": "text"
      },
      "source": [
        "<a href=\"https://colab.research.google.com/github/Adriana-FLW/MBA_TCC/blob/main/02_CategVariaveis_2019.ipynb\" target=\"_parent\"><img src=\"https://colab.research.google.com/assets/colab-badge.svg\" alt=\"Open In Colab\"/></a>"
      ]
    },
    {
      "cell_type": "markdown",
      "source": [
        "\n",
        "# **ENEM 2019**"
      ],
      "metadata": {
        "id": "cvmTA9hvz6WR"
      }
    },
    {
      "cell_type": "markdown",
      "source": [
        "# - **Bibliotecas**"
      ],
      "metadata": {
        "id": "mYMdtT9R0AGA"
      }
    },
    {
      "cell_type": "code",
      "source": [
        "import pandas as pd\n",
        "import numpy as np"
      ],
      "metadata": {
        "id": "vZP9nhSc0Fq_"
      },
      "execution_count": null,
      "outputs": []
    },
    {
      "cell_type": "markdown",
      "source": [
        "# **Importar Base 2019**"
      ],
      "metadata": {
        "id": "gH-3IGXK0MT3"
      }
    },
    {
      "cell_type": "code",
      "source": [
        "df_ft = pd.read_csv('/content/drive/MyDrive/MBA_TCC/DADOS/df_ft_2019.csv',sep=',',encoding='ISO-8859-1')\n",
        "df_ft.shape"
      ],
      "metadata": {
        "colab": {
          "base_uri": "https://localhost:8080/"
        },
        "id": "8IA_ob080QPp",
        "outputId": "28d5b7e3-1e76-473f-81c9-48844ef3dac1"
      },
      "execution_count": null,
      "outputs": [
        {
          "output_type": "execute_result",
          "data": {
            "text/plain": [
              "(3163713, 51)"
            ]
          },
          "metadata": {},
          "execution_count": 2
        }
      ]
    },
    {
      "cell_type": "code",
      "source": [
        "df_ft.info()"
      ],
      "metadata": {
        "colab": {
          "base_uri": "https://localhost:8080/"
        },
        "id": "9fyVyre10Wx5",
        "outputId": "4bba9ae9-d59c-4eed-a380-fac4f417cb4c"
      },
      "execution_count": null,
      "outputs": [
        {
          "output_type": "stream",
          "name": "stdout",
          "text": [
            "<class 'pandas.core.frame.DataFrame'>\n",
            "RangeIndex: 3163713 entries, 0 to 3163712\n",
            "Data columns (total 51 columns):\n",
            " #   Column              Dtype  \n",
            "---  ------              -----  \n",
            " 0   NU_INSCRICAO        int64  \n",
            " 1   NU_ANO              int64  \n",
            " 2   TP_FAIXA_ETARIA     int64  \n",
            " 3   TP_SEXO             object \n",
            " 4   TP_ESTADO_CIVIL     int64  \n",
            " 5   TP_COR_RACA         int64  \n",
            " 6   TP_ST_CONCLUSAO     int64  \n",
            " 7   TP_ANO_CONCLUIU     int64  \n",
            " 8   TP_ESCOLA           int64  \n",
            " 9   TP_ENSINO           int64  \n",
            " 10  CO_MUNICIPIO_ESC    float64\n",
            " 11  NO_MUNICIPIO_ESC    object \n",
            " 12  SG_UF_ESC           object \n",
            " 13  TP_LOCALIZACAO_ESC  int64  \n",
            " 14  CO_MUNICIPIO_PROVA  float64\n",
            " 15  NO_MUNICIPIO_PROVA  object \n",
            " 16  SG_UF_PROVA         object \n",
            " 17  NU_NOTA_CN          float64\n",
            " 18  NU_NOTA_CH          float64\n",
            " 19  NU_NOTA_LC          float64\n",
            " 20  NU_NOTA_MT          float64\n",
            " 21  TP_LINGUA           int64  \n",
            " 22  NU_NOTA_REDACAO     float64\n",
            " 23  Q001                object \n",
            " 24  Q002                object \n",
            " 25  Q003                object \n",
            " 26  Q004                object \n",
            " 27  Q005                float64\n",
            " 28  Q006                object \n",
            " 29  Q007                object \n",
            " 30  Q008                object \n",
            " 31  Q009                object \n",
            " 32  Q010                object \n",
            " 33  Q011                object \n",
            " 34  Q012                object \n",
            " 35  Q013                object \n",
            " 36  Q014                object \n",
            " 37  Q015                object \n",
            " 38  Q016                object \n",
            " 39  Q017                object \n",
            " 40  Q018                object \n",
            " 41  Q019                object \n",
            " 42  Q020                object \n",
            " 43  Q021                object \n",
            " 44  Q022                object \n",
            " 45  Q023                object \n",
            " 46  Q024                object \n",
            " 47  Q025                object \n",
            " 48  Sum_Target          int64  \n",
            " 49  Sum_Target_2        int64  \n",
            " 50  Sum_Target_3        int64  \n",
            "dtypes: float64(8), int64(14), object(29)\n",
            "memory usage: 1.2+ GB\n"
          ]
        }
      ]
    },
    {
      "cell_type": "code",
      "source": [
        "df_ft.head()"
      ],
      "metadata": {
        "colab": {
          "base_uri": "https://localhost:8080/",
          "height": 300
        },
        "id": "pd5hCXFqTTne",
        "outputId": "466628e6-b76f-45db-e827-208fbccd9a58"
      },
      "execution_count": null,
      "outputs": [
        {
          "output_type": "execute_result",
          "data": {
            "text/plain": [
              "   NU_INSCRICAO  NU_ANO  TP_FAIXA_ETARIA TP_SEXO  TP_ESTADO_CIVIL  \\\n",
              "0  190001199383    2019               10       F                1   \n",
              "1  190001237802    2019                7       F                1   \n",
              "2  190001782198    2019               13       M                2   \n",
              "3  190001421548    2019                7       F                1   \n",
              "4  190001592266    2019                2       M                1   \n",
              "\n",
              "   TP_COR_RACA  TP_ST_CONCLUSAO  TP_ANO_CONCLUIU  TP_ESCOLA  TP_ENSINO  ...  \\\n",
              "0            1                1                4          1          9  ...   \n",
              "1            1                1                4          1          1  ...   \n",
              "2            2                1               13          1          9  ...   \n",
              "3            3                1                5          1          1  ...   \n",
              "4            1                2                0          2          1  ...   \n",
              "\n",
              "   Q019 Q020 Q021  Q022  Q023 Q024 Q025  Sum_Target  Sum_Target_2  \\\n",
              "0     C    A    B     D     A    B    B           2             0   \n",
              "1     B    A    A     C     B    B    B           5             1   \n",
              "2     B    A    A     E     A    B    B           5             1   \n",
              "3     B    A    A     B     A    A    A           3             1   \n",
              "4     B    A    B     C     B    B    B           2             0   \n",
              "\n",
              "   Sum_Target_3  \n",
              "0             1  \n",
              "1             2  \n",
              "2             2  \n",
              "3             1  \n",
              "4             1  \n",
              "\n",
              "[5 rows x 51 columns]"
            ],
            "text/html": [
              "\n",
              "  <div id=\"df-417cb61a-a37a-458c-8d12-39643677d2d4\">\n",
              "    <div class=\"colab-df-container\">\n",
              "      <div>\n",
              "<style scoped>\n",
              "    .dataframe tbody tr th:only-of-type {\n",
              "        vertical-align: middle;\n",
              "    }\n",
              "\n",
              "    .dataframe tbody tr th {\n",
              "        vertical-align: top;\n",
              "    }\n",
              "\n",
              "    .dataframe thead th {\n",
              "        text-align: right;\n",
              "    }\n",
              "</style>\n",
              "<table border=\"1\" class=\"dataframe\">\n",
              "  <thead>\n",
              "    <tr style=\"text-align: right;\">\n",
              "      <th></th>\n",
              "      <th>NU_INSCRICAO</th>\n",
              "      <th>NU_ANO</th>\n",
              "      <th>TP_FAIXA_ETARIA</th>\n",
              "      <th>TP_SEXO</th>\n",
              "      <th>TP_ESTADO_CIVIL</th>\n",
              "      <th>TP_COR_RACA</th>\n",
              "      <th>TP_ST_CONCLUSAO</th>\n",
              "      <th>TP_ANO_CONCLUIU</th>\n",
              "      <th>TP_ESCOLA</th>\n",
              "      <th>TP_ENSINO</th>\n",
              "      <th>...</th>\n",
              "      <th>Q019</th>\n",
              "      <th>Q020</th>\n",
              "      <th>Q021</th>\n",
              "      <th>Q022</th>\n",
              "      <th>Q023</th>\n",
              "      <th>Q024</th>\n",
              "      <th>Q025</th>\n",
              "      <th>Sum_Target</th>\n",
              "      <th>Sum_Target_2</th>\n",
              "      <th>Sum_Target_3</th>\n",
              "    </tr>\n",
              "  </thead>\n",
              "  <tbody>\n",
              "    <tr>\n",
              "      <th>0</th>\n",
              "      <td>190001199383</td>\n",
              "      <td>2019</td>\n",
              "      <td>10</td>\n",
              "      <td>F</td>\n",
              "      <td>1</td>\n",
              "      <td>1</td>\n",
              "      <td>1</td>\n",
              "      <td>4</td>\n",
              "      <td>1</td>\n",
              "      <td>9</td>\n",
              "      <td>...</td>\n",
              "      <td>C</td>\n",
              "      <td>A</td>\n",
              "      <td>B</td>\n",
              "      <td>D</td>\n",
              "      <td>A</td>\n",
              "      <td>B</td>\n",
              "      <td>B</td>\n",
              "      <td>2</td>\n",
              "      <td>0</td>\n",
              "      <td>1</td>\n",
              "    </tr>\n",
              "    <tr>\n",
              "      <th>1</th>\n",
              "      <td>190001237802</td>\n",
              "      <td>2019</td>\n",
              "      <td>7</td>\n",
              "      <td>F</td>\n",
              "      <td>1</td>\n",
              "      <td>1</td>\n",
              "      <td>1</td>\n",
              "      <td>4</td>\n",
              "      <td>1</td>\n",
              "      <td>1</td>\n",
              "      <td>...</td>\n",
              "      <td>B</td>\n",
              "      <td>A</td>\n",
              "      <td>A</td>\n",
              "      <td>C</td>\n",
              "      <td>B</td>\n",
              "      <td>B</td>\n",
              "      <td>B</td>\n",
              "      <td>5</td>\n",
              "      <td>1</td>\n",
              "      <td>2</td>\n",
              "    </tr>\n",
              "    <tr>\n",
              "      <th>2</th>\n",
              "      <td>190001782198</td>\n",
              "      <td>2019</td>\n",
              "      <td>13</td>\n",
              "      <td>M</td>\n",
              "      <td>2</td>\n",
              "      <td>2</td>\n",
              "      <td>1</td>\n",
              "      <td>13</td>\n",
              "      <td>1</td>\n",
              "      <td>9</td>\n",
              "      <td>...</td>\n",
              "      <td>B</td>\n",
              "      <td>A</td>\n",
              "      <td>A</td>\n",
              "      <td>E</td>\n",
              "      <td>A</td>\n",
              "      <td>B</td>\n",
              "      <td>B</td>\n",
              "      <td>5</td>\n",
              "      <td>1</td>\n",
              "      <td>2</td>\n",
              "    </tr>\n",
              "    <tr>\n",
              "      <th>3</th>\n",
              "      <td>190001421548</td>\n",
              "      <td>2019</td>\n",
              "      <td>7</td>\n",
              "      <td>F</td>\n",
              "      <td>1</td>\n",
              "      <td>3</td>\n",
              "      <td>1</td>\n",
              "      <td>5</td>\n",
              "      <td>1</td>\n",
              "      <td>1</td>\n",
              "      <td>...</td>\n",
              "      <td>B</td>\n",
              "      <td>A</td>\n",
              "      <td>A</td>\n",
              "      <td>B</td>\n",
              "      <td>A</td>\n",
              "      <td>A</td>\n",
              "      <td>A</td>\n",
              "      <td>3</td>\n",
              "      <td>1</td>\n",
              "      <td>1</td>\n",
              "    </tr>\n",
              "    <tr>\n",
              "      <th>4</th>\n",
              "      <td>190001592266</td>\n",
              "      <td>2019</td>\n",
              "      <td>2</td>\n",
              "      <td>M</td>\n",
              "      <td>1</td>\n",
              "      <td>1</td>\n",
              "      <td>2</td>\n",
              "      <td>0</td>\n",
              "      <td>2</td>\n",
              "      <td>1</td>\n",
              "      <td>...</td>\n",
              "      <td>B</td>\n",
              "      <td>A</td>\n",
              "      <td>B</td>\n",
              "      <td>C</td>\n",
              "      <td>B</td>\n",
              "      <td>B</td>\n",
              "      <td>B</td>\n",
              "      <td>2</td>\n",
              "      <td>0</td>\n",
              "      <td>1</td>\n",
              "    </tr>\n",
              "  </tbody>\n",
              "</table>\n",
              "<p>5 rows × 51 columns</p>\n",
              "</div>\n",
              "      <button class=\"colab-df-convert\" onclick=\"convertToInteractive('df-417cb61a-a37a-458c-8d12-39643677d2d4')\"\n",
              "              title=\"Convert this dataframe to an interactive table.\"\n",
              "              style=\"display:none;\">\n",
              "        \n",
              "  <svg xmlns=\"http://www.w3.org/2000/svg\" height=\"24px\"viewBox=\"0 0 24 24\"\n",
              "       width=\"24px\">\n",
              "    <path d=\"M0 0h24v24H0V0z\" fill=\"none\"/>\n",
              "    <path d=\"M18.56 5.44l.94 2.06.94-2.06 2.06-.94-2.06-.94-.94-2.06-.94 2.06-2.06.94zm-11 1L8.5 8.5l.94-2.06 2.06-.94-2.06-.94L8.5 2.5l-.94 2.06-2.06.94zm10 10l.94 2.06.94-2.06 2.06-.94-2.06-.94-.94-2.06-.94 2.06-2.06.94z\"/><path d=\"M17.41 7.96l-1.37-1.37c-.4-.4-.92-.59-1.43-.59-.52 0-1.04.2-1.43.59L10.3 9.45l-7.72 7.72c-.78.78-.78 2.05 0 2.83L4 21.41c.39.39.9.59 1.41.59.51 0 1.02-.2 1.41-.59l7.78-7.78 2.81-2.81c.8-.78.8-2.07 0-2.86zM5.41 20L4 18.59l7.72-7.72 1.47 1.35L5.41 20z\"/>\n",
              "  </svg>\n",
              "      </button>\n",
              "      \n",
              "  <style>\n",
              "    .colab-df-container {\n",
              "      display:flex;\n",
              "      flex-wrap:wrap;\n",
              "      gap: 12px;\n",
              "    }\n",
              "\n",
              "    .colab-df-convert {\n",
              "      background-color: #E8F0FE;\n",
              "      border: none;\n",
              "      border-radius: 50%;\n",
              "      cursor: pointer;\n",
              "      display: none;\n",
              "      fill: #1967D2;\n",
              "      height: 32px;\n",
              "      padding: 0 0 0 0;\n",
              "      width: 32px;\n",
              "    }\n",
              "\n",
              "    .colab-df-convert:hover {\n",
              "      background-color: #E2EBFA;\n",
              "      box-shadow: 0px 1px 2px rgba(60, 64, 67, 0.3), 0px 1px 3px 1px rgba(60, 64, 67, 0.15);\n",
              "      fill: #174EA6;\n",
              "    }\n",
              "\n",
              "    [theme=dark] .colab-df-convert {\n",
              "      background-color: #3B4455;\n",
              "      fill: #D2E3FC;\n",
              "    }\n",
              "\n",
              "    [theme=dark] .colab-df-convert:hover {\n",
              "      background-color: #434B5C;\n",
              "      box-shadow: 0px 1px 3px 1px rgba(0, 0, 0, 0.15);\n",
              "      filter: drop-shadow(0px 1px 2px rgba(0, 0, 0, 0.3));\n",
              "      fill: #FFFFFF;\n",
              "    }\n",
              "  </style>\n",
              "\n",
              "      <script>\n",
              "        const buttonEl =\n",
              "          document.querySelector('#df-417cb61a-a37a-458c-8d12-39643677d2d4 button.colab-df-convert');\n",
              "        buttonEl.style.display =\n",
              "          google.colab.kernel.accessAllowed ? 'block' : 'none';\n",
              "\n",
              "        async function convertToInteractive(key) {\n",
              "          const element = document.querySelector('#df-417cb61a-a37a-458c-8d12-39643677d2d4');\n",
              "          const dataTable =\n",
              "            await google.colab.kernel.invokeFunction('convertToInteractive',\n",
              "                                                     [key], {});\n",
              "          if (!dataTable) return;\n",
              "\n",
              "          const docLinkHtml = 'Like what you see? Visit the ' +\n",
              "            '<a target=\"_blank\" href=https://colab.research.google.com/notebooks/data_table.ipynb>data table notebook</a>'\n",
              "            + ' to learn more about interactive tables.';\n",
              "          element.innerHTML = '';\n",
              "          dataTable['output_type'] = 'display_data';\n",
              "          await google.colab.output.renderOutput(dataTable, element);\n",
              "          const docLink = document.createElement('div');\n",
              "          docLink.innerHTML = docLinkHtml;\n",
              "          element.appendChild(docLink);\n",
              "        }\n",
              "      </script>\n",
              "    </div>\n",
              "  </div>\n",
              "  "
            ]
          },
          "metadata": {},
          "execution_count": 4
        }
      ]
    },
    {
      "cell_type": "code",
      "source": [
        "df_ft.columns"
      ],
      "metadata": {
        "colab": {
          "base_uri": "https://localhost:8080/"
        },
        "id": "xw2IVuTTdWVs",
        "outputId": "f0c178b8-d2ed-4513-f399-75e28759697c"
      },
      "execution_count": null,
      "outputs": [
        {
          "output_type": "execute_result",
          "data": {
            "text/plain": [
              "Index(['NU_INSCRICAO', 'NU_ANO', 'TP_FAIXA_ETARIA', 'TP_SEXO',\n",
              "       'TP_ESTADO_CIVIL', 'TP_COR_RACA', 'TP_ST_CONCLUSAO', 'TP_ANO_CONCLUIU',\n",
              "       'TP_ESCOLA', 'TP_ENSINO', 'CO_MUNICIPIO_ESC', 'NO_MUNICIPIO_ESC',\n",
              "       'SG_UF_ESC', 'TP_LOCALIZACAO_ESC', 'CO_MUNICIPIO_PROVA',\n",
              "       'NO_MUNICIPIO_PROVA', 'SG_UF_PROVA', 'NU_NOTA_CN', 'NU_NOTA_CH',\n",
              "       'NU_NOTA_LC', 'NU_NOTA_MT', 'TP_LINGUA', 'NU_NOTA_REDACAO', 'Q001',\n",
              "       'Q002', 'Q003', 'Q004', 'Q005', 'Q006', 'Q007', 'Q008', 'Q009', 'Q010',\n",
              "       'Q011', 'Q012', 'Q013', 'Q014', 'Q015', 'Q016', 'Q017', 'Q018', 'Q019',\n",
              "       'Q020', 'Q021', 'Q022', 'Q023', 'Q024', 'Q025', 'Sum_Target',\n",
              "       'Sum_Target_2', 'Sum_Target_3'],\n",
              "      dtype='object')"
            ]
          },
          "metadata": {},
          "execution_count": 5
        }
      ]
    },
    {
      "cell_type": "markdown",
      "source": [
        "# **Criação de Variáveis**"
      ],
      "metadata": {
        "id": "_22D8WOQD-UK"
      }
    },
    {
      "cell_type": "markdown",
      "source": [
        "- - Computador/Celular/Internet"
      ],
      "metadata": {
        "id": "hF2OcXNiEnG9"
      }
    },
    {
      "cell_type": "code",
      "source": [
        "df_ft['Ter_Cel'] = np.where(df_ft['Q022'] == 'A', 0, 1)\n",
        "df_ft['Ter_Com'] = np.where(df_ft['Q024'] == 'A', 0, 1)\n",
        "df_ft['Ter_Int'] = np.where(df_ft['Q025'] == 'A', 0, 1)\n",
        "df_ft['Sum_TIC3'] = df_ft['Ter_Cel'] + df_ft['Ter_Com'] + df_ft['Ter_Int']"
      ],
      "metadata": {
        "id": "IMHHFqA3EoYQ"
      },
      "execution_count": null,
      "outputs": []
    },
    {
      "cell_type": "code",
      "source": [
        "df_ft['Ter_Cel'].value_counts().sort_index()"
      ],
      "metadata": {
        "id": "K9CyX7QgE842",
        "colab": {
          "base_uri": "https://localhost:8080/"
        },
        "outputId": "6a4cdeb7-de38-4202-eb20-8b220f6bebf9"
      },
      "execution_count": null,
      "outputs": [
        {
          "output_type": "execute_result",
          "data": {
            "text/plain": [
              "0      66642\n",
              "1    3097071\n",
              "Name: Ter_Cel, dtype: int64"
            ]
          },
          "metadata": {},
          "execution_count": 7
        }
      ]
    },
    {
      "cell_type": "code",
      "source": [
        "df_ft['Ter_Com'].value_counts().sort_index()"
      ],
      "metadata": {
        "id": "WUGPuZ7BE9AT",
        "colab": {
          "base_uri": "https://localhost:8080/"
        },
        "outputId": "bb949ccd-6878-4480-cc21-e8eeb157cd34"
      },
      "execution_count": null,
      "outputs": [
        {
          "output_type": "execute_result",
          "data": {
            "text/plain": [
              "0    1439454\n",
              "1    1724259\n",
              "Name: Ter_Com, dtype: int64"
            ]
          },
          "metadata": {},
          "execution_count": 8
        }
      ]
    },
    {
      "cell_type": "code",
      "source": [
        "df_ft['Ter_Int'].value_counts().sort_index()"
      ],
      "metadata": {
        "id": "VR98ogHfE9G7",
        "colab": {
          "base_uri": "https://localhost:8080/"
        },
        "outputId": "6c6b8e1f-9ba4-47bd-958e-b049072b88b7"
      },
      "execution_count": null,
      "outputs": [
        {
          "output_type": "execute_result",
          "data": {
            "text/plain": [
              "0     703860\n",
              "1    2459853\n",
              "Name: Ter_Int, dtype: int64"
            ]
          },
          "metadata": {},
          "execution_count": 9
        }
      ]
    },
    {
      "cell_type": "code",
      "source": [
        "df_ft['Sum_TIC3'].value_counts().sort_index()"
      ],
      "metadata": {
        "id": "GU7xoaMBE9N-",
        "colab": {
          "base_uri": "https://localhost:8080/"
        },
        "outputId": "13043168-4d3e-4d46-e149-0ce609f4a8c0"
      },
      "execution_count": null,
      "outputs": [
        {
          "output_type": "execute_result",
          "data": {
            "text/plain": [
              "0      35139\n",
              "1     594765\n",
              "2     915009\n",
              "3    1618800\n",
              "Name: Sum_TIC3, dtype: int64"
            ]
          },
          "metadata": {},
          "execution_count": 10
        }
      ]
    },
    {
      "cell_type": "code",
      "source": [
        "df_ft.loc[df_ft.Sum_TIC3 == 0 ,'Sum_TIC3_']='1'\n",
        "df_ft.loc[df_ft.Sum_TIC3 == 1 ,'Sum_TIC3_']='1'\n",
        "df_ft.loc[df_ft.Sum_TIC3 == 2 ,'Sum_TIC3_']='2'\n",
        "df_ft.loc[df_ft.Sum_TIC3 == 3 ,'Sum_TIC3_']='3'"
      ],
      "metadata": {
        "id": "6hRztoEiyIRZ"
      },
      "execution_count": null,
      "outputs": []
    },
    {
      "cell_type": "markdown",
      "source": [
        "- Computador/Celular/Internet/TV/Tel Fixo"
      ],
      "metadata": {
        "id": "5bvj-jgxFDYU"
      }
    },
    {
      "cell_type": "code",
      "source": [
        "df_ft['Ter_TVa'] = np.where(df_ft['Q021'] == 'A', 0, 1)\n",
        "df_ft['Ter_TFi'] = np.where(df_ft['Q023'] == 'A', 0, 1)\n",
        "df_ft['Sum_TIC5'] = df_ft['Ter_Cel'] + df_ft['Ter_Com'] + df_ft['Ter_Int'] + df_ft['Ter_TVa'] + df_ft['Ter_TFi']\n"
      ],
      "metadata": {
        "id": "n0-HpcqXFZi1"
      },
      "execution_count": null,
      "outputs": []
    },
    {
      "cell_type": "code",
      "source": [
        "df_ft['Ter_TVa'].value_counts().sort_index()"
      ],
      "metadata": {
        "id": "_DVNmJRrFZq4",
        "colab": {
          "base_uri": "https://localhost:8080/"
        },
        "outputId": "c39d0cd7-6084-47f6-98a7-a63c94e3e7e2"
      },
      "execution_count": null,
      "outputs": [
        {
          "output_type": "execute_result",
          "data": {
            "text/plain": [
              "0    2487394\n",
              "1     676319\n",
              "Name: Ter_TVa, dtype: int64"
            ]
          },
          "metadata": {},
          "execution_count": 13
        }
      ]
    },
    {
      "cell_type": "code",
      "source": [
        "df_ft['Ter_TFi'].value_counts().sort_index()"
      ],
      "metadata": {
        "id": "ASr-QJd-FZx9",
        "colab": {
          "base_uri": "https://localhost:8080/"
        },
        "outputId": "667e099f-9716-453c-bcf9-4eef482ca305"
      },
      "execution_count": null,
      "outputs": [
        {
          "output_type": "execute_result",
          "data": {
            "text/plain": [
              "0    2404201\n",
              "1     759512\n",
              "Name: Ter_TFi, dtype: int64"
            ]
          },
          "metadata": {},
          "execution_count": 14
        }
      ]
    },
    {
      "cell_type": "code",
      "source": [
        "df_ft['Sum_TIC5'].value_counts().sort_index()"
      ],
      "metadata": {
        "id": "Dx0wHQCYFZ48",
        "colab": {
          "base_uri": "https://localhost:8080/"
        },
        "outputId": "933e8724-4dab-45a9-c71d-dda0dea1483f"
      },
      "execution_count": null,
      "outputs": [
        {
          "output_type": "execute_result",
          "data": {
            "text/plain": [
              "0     33364\n",
              "1    555857\n",
              "2    730495\n",
              "3    971419\n",
              "4    576980\n",
              "5    295598\n",
              "Name: Sum_TIC5, dtype: int64"
            ]
          },
          "metadata": {},
          "execution_count": 15
        }
      ]
    },
    {
      "cell_type": "code",
      "source": [
        "df_ft.loc[df_ft.Sum_TIC5 == 0 ,'Sum_TIC5_']='1'\n",
        "df_ft.loc[df_ft.Sum_TIC5 == 1 ,'Sum_TIC5_']='1'\n",
        "df_ft.loc[df_ft.Sum_TIC5 == 2 ,'Sum_TIC5_']='2'\n",
        "df_ft.loc[df_ft.Sum_TIC5 == 3 ,'Sum_TIC5_']='3'\n",
        "df_ft.loc[df_ft.Sum_TIC5 == 4 ,'Sum_TIC5_']='4'\n",
        "df_ft.loc[df_ft.Sum_TIC5 == 5 ,'Sum_TIC5_']='5'"
      ],
      "metadata": {
        "id": "hRBIqcIFylf_"
      },
      "execution_count": null,
      "outputs": []
    },
    {
      "cell_type": "markdown",
      "source": [
        "- Qtde de Eletrodomésticos"
      ],
      "metadata": {
        "id": "3Rf00n9PFkLz"
      }
    },
    {
      "cell_type": "code",
      "source": [
        "df_ft['Ter_Gel'] = np.where(df_ft['Q012'] == 'A', 0, 1)\n",
        "df_ft['Ter_Fre'] = np.where(df_ft['Q013'] == 'A', 0, 1)\n",
        "df_ft['Ter_LvR'] = np.where(df_ft['Q014'] == 'A', 0, 1)\n",
        "df_ft['Ter_ScR'] = np.where(df_ft['Q015'] == 'A', 0, 1)\n",
        "df_ft['Ter_Mio'] = np.where(df_ft['Q016'] == 'A', 0, 1)\n",
        "df_ft['Ter_LvL'] = np.where(df_ft['Q017'] == 'A', 0, 1)\n",
        "df_ft['Ter_Asp'] = np.where(df_ft['Q018'] == 'A', 0, 1)\n",
        "df_ft['Ter_TV'] = np.where(df_ft['Q019'] == 'A', 0, 1)\n",
        "df_ft['Ter_DVD'] = np.where(df_ft['Q020'] == 'A', 0, 1)\n",
        "df_ft['Sum_Elet'] = df_ft['Ter_Gel'] + df_ft['Ter_Fre'] + df_ft['Ter_LvR'] + df_ft['Ter_ScR'] + df_ft['Ter_Mio'] + df_ft['Ter_LvL'] + df_ft['Ter_Asp'] + df_ft['Ter_TV'] + df_ft['Ter_DVD']"
      ],
      "metadata": {
        "id": "DDQmxi3KFkaf"
      },
      "execution_count": null,
      "outputs": []
    },
    {
      "cell_type": "code",
      "source": [
        "df_ft['Ter_Gel'].value_counts().sort_index()"
      ],
      "metadata": {
        "id": "azQ6qenTFkhG",
        "colab": {
          "base_uri": "https://localhost:8080/"
        },
        "outputId": "9996f276-1382-450d-d0f6-7ebcea065926"
      },
      "execution_count": null,
      "outputs": [
        {
          "output_type": "execute_result",
          "data": {
            "text/plain": [
              "0      53571\n",
              "1    3110142\n",
              "Name: Ter_Gel, dtype: int64"
            ]
          },
          "metadata": {},
          "execution_count": 18
        }
      ]
    },
    {
      "cell_type": "code",
      "source": [
        "df_ft['Ter_Fre'].value_counts().sort_index()"
      ],
      "metadata": {
        "id": "lqBg7QseFkny",
        "colab": {
          "base_uri": "https://localhost:8080/"
        },
        "outputId": "94136fec-e582-4597-cb9f-3fefc365d36e"
      },
      "execution_count": null,
      "outputs": [
        {
          "output_type": "execute_result",
          "data": {
            "text/plain": [
              "0    2019344\n",
              "1    1144369\n",
              "Name: Ter_Fre, dtype: int64"
            ]
          },
          "metadata": {},
          "execution_count": 19
        }
      ]
    },
    {
      "cell_type": "code",
      "source": [
        "df_ft['Ter_LvR'].value_counts().sort_index()"
      ],
      "metadata": {
        "id": "ls7WBX3tFku5",
        "colab": {
          "base_uri": "https://localhost:8080/"
        },
        "outputId": "d45bf402-f6bb-4f0f-eaa4-08e5d1aeb3f1"
      },
      "execution_count": null,
      "outputs": [
        {
          "output_type": "execute_result",
          "data": {
            "text/plain": [
              "0    1307588\n",
              "1    1856125\n",
              "Name: Ter_LvR, dtype: int64"
            ]
          },
          "metadata": {},
          "execution_count": 20
        }
      ]
    },
    {
      "cell_type": "code",
      "source": [
        "df_ft['Ter_ScR'].value_counts().sort_index()"
      ],
      "metadata": {
        "id": "VkV0O2DlGBRO",
        "colab": {
          "base_uri": "https://localhost:8080/"
        },
        "outputId": "d6d1132a-8502-438c-e22e-dd2a25e4bad6"
      },
      "execution_count": null,
      "outputs": [
        {
          "output_type": "execute_result",
          "data": {
            "text/plain": [
              "0    2812561\n",
              "1     351152\n",
              "Name: Ter_ScR, dtype: int64"
            ]
          },
          "metadata": {},
          "execution_count": 21
        }
      ]
    },
    {
      "cell_type": "code",
      "source": [
        "df_ft['Ter_Mio'].value_counts().sort_index()"
      ],
      "metadata": {
        "id": "CLczRd4lGBUd",
        "colab": {
          "base_uri": "https://localhost:8080/"
        },
        "outputId": "9bcd1f85-2e24-4190-af7b-66b27bab3a2a"
      },
      "execution_count": null,
      "outputs": [
        {
          "output_type": "execute_result",
          "data": {
            "text/plain": [
              "0    1621780\n",
              "1    1541933\n",
              "Name: Ter_Mio, dtype: int64"
            ]
          },
          "metadata": {},
          "execution_count": 22
        }
      ]
    },
    {
      "cell_type": "code",
      "source": [
        "df_ft['Ter_LvL'].value_counts().sort_index()"
      ],
      "metadata": {
        "id": "Sxj1NSDiGBYE",
        "colab": {
          "base_uri": "https://localhost:8080/"
        },
        "outputId": "453d547e-b5b7-4a35-a2d7-18b69cd04a1b"
      },
      "execution_count": null,
      "outputs": [
        {
          "output_type": "execute_result",
          "data": {
            "text/plain": [
              "0    3093547\n",
              "1      70166\n",
              "Name: Ter_LvL, dtype: int64"
            ]
          },
          "metadata": {},
          "execution_count": 23
        }
      ]
    },
    {
      "cell_type": "code",
      "source": [
        "df_ft['Ter_Asp'].value_counts().sort_index()"
      ],
      "metadata": {
        "id": "QGtjNeeSGBba",
        "colab": {
          "base_uri": "https://localhost:8080/"
        },
        "outputId": "9dd016cb-2ea9-46a2-acdb-7753d43b0574"
      },
      "execution_count": null,
      "outputs": [
        {
          "output_type": "execute_result",
          "data": {
            "text/plain": [
              "0    2570501\n",
              "1     593212\n",
              "Name: Ter_Asp, dtype: int64"
            ]
          },
          "metadata": {},
          "execution_count": 24
        }
      ]
    },
    {
      "cell_type": "code",
      "source": [
        "df_ft['Ter_TV'].value_counts().sort_index()"
      ],
      "metadata": {
        "id": "g5dORvo7GBeV",
        "colab": {
          "base_uri": "https://localhost:8080/"
        },
        "outputId": "32ed95f7-e12f-4870-a608-57e60f3d38d3"
      },
      "execution_count": null,
      "outputs": [
        {
          "output_type": "execute_result",
          "data": {
            "text/plain": [
              "0     152286\n",
              "1    3011427\n",
              "Name: Ter_TV, dtype: int64"
            ]
          },
          "metadata": {},
          "execution_count": 25
        }
      ]
    },
    {
      "cell_type": "code",
      "source": [
        "df_ft['Ter_DVD'].value_counts().sort_index()"
      ],
      "metadata": {
        "id": "agxbobGGGBhr",
        "colab": {
          "base_uri": "https://localhost:8080/"
        },
        "outputId": "b3387836-231f-4194-9502-e92e98a5efda"
      },
      "execution_count": null,
      "outputs": [
        {
          "output_type": "execute_result",
          "data": {
            "text/plain": [
              "0    2206652\n",
              "1     957061\n",
              "Name: Ter_DVD, dtype: int64"
            ]
          },
          "metadata": {},
          "execution_count": 26
        }
      ]
    },
    {
      "cell_type": "code",
      "source": [
        "df_ft['Sum_Elet'].value_counts().sort_index()"
      ],
      "metadata": {
        "id": "OY7_2uZ7GDkv",
        "colab": {
          "base_uri": "https://localhost:8080/"
        },
        "outputId": "23d4e162-b8a7-497e-e794-1f5e39ee4b8b"
      },
      "execution_count": null,
      "outputs": [
        {
          "output_type": "execute_result",
          "data": {
            "text/plain": [
              "0     14791\n",
              "1     80328\n",
              "2    639781\n",
              "3    661648\n",
              "4    606353\n",
              "5    501967\n",
              "6    362219\n",
              "7    208062\n",
              "8     71318\n",
              "9     17246\n",
              "Name: Sum_Elet, dtype: int64"
            ]
          },
          "metadata": {},
          "execution_count": 27
        }
      ]
    },
    {
      "cell_type": "code",
      "source": [
        "df_ft.loc[df_ft.Sum_Elet == 0 ,'Sum_Elet_']='1'\n",
        "df_ft.loc[df_ft.Sum_Elet == 1 ,'Sum_Elet_']='1'\n",
        "df_ft.loc[df_ft.Sum_Elet == 2 ,'Sum_Elet_']='2'\n",
        "df_ft.loc[df_ft.Sum_Elet == 3 ,'Sum_Elet_']='3'\n",
        "df_ft.loc[df_ft.Sum_Elet == 4 ,'Sum_Elet_']='4'\n",
        "df_ft.loc[df_ft.Sum_Elet == 5 ,'Sum_Elet_']='5'\n",
        "df_ft.loc[df_ft.Sum_Elet == 6 ,'Sum_Elet_']='6'\n",
        "df_ft.loc[df_ft.Sum_Elet == 7 ,'Sum_Elet_']='7'\n",
        "df_ft.loc[df_ft.Sum_Elet == 8 ,'Sum_Elet_']='8'\n",
        "df_ft.loc[df_ft.Sum_Elet == 9 ,'Sum_Elet_']='8'"
      ],
      "metadata": {
        "id": "7CVcoKzJI_So"
      },
      "execution_count": null,
      "outputs": []
    },
    {
      "cell_type": "markdown",
      "source": [
        "- Escolaridade máxima de pelo menos um dos pais"
      ],
      "metadata": {
        "id": "eAKWkMioW51V"
      }
    },
    {
      "cell_type": "code",
      "source": [
        "df_ft['Q001_'] = np.where(df_ft['Q001'] == 'H', ' ', df_ft.Q001)\n",
        "df_ft['Q002_'] = np.where(df_ft['Q002'] == 'H', ' ', df_ft.Q002)\n",
        "\n",
        "conditionlist = [(df_ft['Q001_'] >= df_ft['Q002_']),\n",
        "                 (df_ft['Q001_'] < df_ft['Q002_'])]\n",
        "choicelist = [df_ft.Q001, df_ft.Q002]\n",
        "df_ft['Esc_Max'] = np.select(conditionlist, choicelist, default='Not Specified')\n",
        "display(df_ft.Esc_Max.value_counts().sort_index())"
      ],
      "metadata": {
        "colab": {
          "base_uri": "https://localhost:8080/",
          "height": 173
        },
        "id": "-JzwkkKVW_Rf",
        "outputId": "5e42e0fa-b3b9-4f08-fe3f-4bbb90133123"
      },
      "execution_count": null,
      "outputs": [
        {
          "output_type": "display_data",
          "data": {
            "text/plain": [
              "A      72198\n",
              "B     419628\n",
              "C     366338\n",
              "D     396997\n",
              "E    1145981\n",
              "F     394103\n",
              "G     307511\n",
              "H      60957\n",
              "Name: Esc_Max, dtype: int64"
            ]
          },
          "metadata": {}
        }
      ]
    },
    {
      "cell_type": "code",
      "source": [
        "df_valid = df_ft[['Q001','Q002','Q001_','Q002_','Esc_Max','NU_INSCRICAO']].loc[(df_ft['Q001'] == 'H') | (df_ft['Q002'] == 'H')].head(10)\n",
        "df_valid"
      ],
      "metadata": {
        "colab": {
          "base_uri": "https://localhost:8080/",
          "height": 363
        },
        "id": "6T1k0QhzW6Ng",
        "outputId": "9db04586-130f-4462-8cfe-ded87ba0a150"
      },
      "execution_count": null,
      "outputs": [
        {
          "output_type": "execute_result",
          "data": {
            "text/plain": [
              "   Q001 Q002 Q001_ Q002_ Esc_Max  NU_INSCRICAO\n",
              "12    H    H                   H  190001237804\n",
              "14    H    H                   H  190001184600\n",
              "27    H    H                   H  190001082475\n",
              "35    A    H     A             A  190001133212\n",
              "56    H    E           E       E  190001493193\n",
              "61    H    D           D       D  190001042838\n",
              "65    H    D           D       D  190001421561\n",
              "73    H    F           F       F  190001082476\n",
              "96    H    H                   H  190001421567\n",
              "97    B    H     B             B  190001237818"
            ],
            "text/html": [
              "\n",
              "  <div id=\"df-477776a6-6f62-495b-a2f0-c64597c1ea9c\">\n",
              "    <div class=\"colab-df-container\">\n",
              "      <div>\n",
              "<style scoped>\n",
              "    .dataframe tbody tr th:only-of-type {\n",
              "        vertical-align: middle;\n",
              "    }\n",
              "\n",
              "    .dataframe tbody tr th {\n",
              "        vertical-align: top;\n",
              "    }\n",
              "\n",
              "    .dataframe thead th {\n",
              "        text-align: right;\n",
              "    }\n",
              "</style>\n",
              "<table border=\"1\" class=\"dataframe\">\n",
              "  <thead>\n",
              "    <tr style=\"text-align: right;\">\n",
              "      <th></th>\n",
              "      <th>Q001</th>\n",
              "      <th>Q002</th>\n",
              "      <th>Q001_</th>\n",
              "      <th>Q002_</th>\n",
              "      <th>Esc_Max</th>\n",
              "      <th>NU_INSCRICAO</th>\n",
              "    </tr>\n",
              "  </thead>\n",
              "  <tbody>\n",
              "    <tr>\n",
              "      <th>12</th>\n",
              "      <td>H</td>\n",
              "      <td>H</td>\n",
              "      <td></td>\n",
              "      <td></td>\n",
              "      <td>H</td>\n",
              "      <td>190001237804</td>\n",
              "    </tr>\n",
              "    <tr>\n",
              "      <th>14</th>\n",
              "      <td>H</td>\n",
              "      <td>H</td>\n",
              "      <td></td>\n",
              "      <td></td>\n",
              "      <td>H</td>\n",
              "      <td>190001184600</td>\n",
              "    </tr>\n",
              "    <tr>\n",
              "      <th>27</th>\n",
              "      <td>H</td>\n",
              "      <td>H</td>\n",
              "      <td></td>\n",
              "      <td></td>\n",
              "      <td>H</td>\n",
              "      <td>190001082475</td>\n",
              "    </tr>\n",
              "    <tr>\n",
              "      <th>35</th>\n",
              "      <td>A</td>\n",
              "      <td>H</td>\n",
              "      <td>A</td>\n",
              "      <td></td>\n",
              "      <td>A</td>\n",
              "      <td>190001133212</td>\n",
              "    </tr>\n",
              "    <tr>\n",
              "      <th>56</th>\n",
              "      <td>H</td>\n",
              "      <td>E</td>\n",
              "      <td></td>\n",
              "      <td>E</td>\n",
              "      <td>E</td>\n",
              "      <td>190001493193</td>\n",
              "    </tr>\n",
              "    <tr>\n",
              "      <th>61</th>\n",
              "      <td>H</td>\n",
              "      <td>D</td>\n",
              "      <td></td>\n",
              "      <td>D</td>\n",
              "      <td>D</td>\n",
              "      <td>190001042838</td>\n",
              "    </tr>\n",
              "    <tr>\n",
              "      <th>65</th>\n",
              "      <td>H</td>\n",
              "      <td>D</td>\n",
              "      <td></td>\n",
              "      <td>D</td>\n",
              "      <td>D</td>\n",
              "      <td>190001421561</td>\n",
              "    </tr>\n",
              "    <tr>\n",
              "      <th>73</th>\n",
              "      <td>H</td>\n",
              "      <td>F</td>\n",
              "      <td></td>\n",
              "      <td>F</td>\n",
              "      <td>F</td>\n",
              "      <td>190001082476</td>\n",
              "    </tr>\n",
              "    <tr>\n",
              "      <th>96</th>\n",
              "      <td>H</td>\n",
              "      <td>H</td>\n",
              "      <td></td>\n",
              "      <td></td>\n",
              "      <td>H</td>\n",
              "      <td>190001421567</td>\n",
              "    </tr>\n",
              "    <tr>\n",
              "      <th>97</th>\n",
              "      <td>B</td>\n",
              "      <td>H</td>\n",
              "      <td>B</td>\n",
              "      <td></td>\n",
              "      <td>B</td>\n",
              "      <td>190001237818</td>\n",
              "    </tr>\n",
              "  </tbody>\n",
              "</table>\n",
              "</div>\n",
              "      <button class=\"colab-df-convert\" onclick=\"convertToInteractive('df-477776a6-6f62-495b-a2f0-c64597c1ea9c')\"\n",
              "              title=\"Convert this dataframe to an interactive table.\"\n",
              "              style=\"display:none;\">\n",
              "        \n",
              "  <svg xmlns=\"http://www.w3.org/2000/svg\" height=\"24px\"viewBox=\"0 0 24 24\"\n",
              "       width=\"24px\">\n",
              "    <path d=\"M0 0h24v24H0V0z\" fill=\"none\"/>\n",
              "    <path d=\"M18.56 5.44l.94 2.06.94-2.06 2.06-.94-2.06-.94-.94-2.06-.94 2.06-2.06.94zm-11 1L8.5 8.5l.94-2.06 2.06-.94-2.06-.94L8.5 2.5l-.94 2.06-2.06.94zm10 10l.94 2.06.94-2.06 2.06-.94-2.06-.94-.94-2.06-.94 2.06-2.06.94z\"/><path d=\"M17.41 7.96l-1.37-1.37c-.4-.4-.92-.59-1.43-.59-.52 0-1.04.2-1.43.59L10.3 9.45l-7.72 7.72c-.78.78-.78 2.05 0 2.83L4 21.41c.39.39.9.59 1.41.59.51 0 1.02-.2 1.41-.59l7.78-7.78 2.81-2.81c.8-.78.8-2.07 0-2.86zM5.41 20L4 18.59l7.72-7.72 1.47 1.35L5.41 20z\"/>\n",
              "  </svg>\n",
              "      </button>\n",
              "      \n",
              "  <style>\n",
              "    .colab-df-container {\n",
              "      display:flex;\n",
              "      flex-wrap:wrap;\n",
              "      gap: 12px;\n",
              "    }\n",
              "\n",
              "    .colab-df-convert {\n",
              "      background-color: #E8F0FE;\n",
              "      border: none;\n",
              "      border-radius: 50%;\n",
              "      cursor: pointer;\n",
              "      display: none;\n",
              "      fill: #1967D2;\n",
              "      height: 32px;\n",
              "      padding: 0 0 0 0;\n",
              "      width: 32px;\n",
              "    }\n",
              "\n",
              "    .colab-df-convert:hover {\n",
              "      background-color: #E2EBFA;\n",
              "      box-shadow: 0px 1px 2px rgba(60, 64, 67, 0.3), 0px 1px 3px 1px rgba(60, 64, 67, 0.15);\n",
              "      fill: #174EA6;\n",
              "    }\n",
              "\n",
              "    [theme=dark] .colab-df-convert {\n",
              "      background-color: #3B4455;\n",
              "      fill: #D2E3FC;\n",
              "    }\n",
              "\n",
              "    [theme=dark] .colab-df-convert:hover {\n",
              "      background-color: #434B5C;\n",
              "      box-shadow: 0px 1px 3px 1px rgba(0, 0, 0, 0.15);\n",
              "      filter: drop-shadow(0px 1px 2px rgba(0, 0, 0, 0.3));\n",
              "      fill: #FFFFFF;\n",
              "    }\n",
              "  </style>\n",
              "\n",
              "      <script>\n",
              "        const buttonEl =\n",
              "          document.querySelector('#df-477776a6-6f62-495b-a2f0-c64597c1ea9c button.colab-df-convert');\n",
              "        buttonEl.style.display =\n",
              "          google.colab.kernel.accessAllowed ? 'block' : 'none';\n",
              "\n",
              "        async function convertToInteractive(key) {\n",
              "          const element = document.querySelector('#df-477776a6-6f62-495b-a2f0-c64597c1ea9c');\n",
              "          const dataTable =\n",
              "            await google.colab.kernel.invokeFunction('convertToInteractive',\n",
              "                                                     [key], {});\n",
              "          if (!dataTable) return;\n",
              "\n",
              "          const docLinkHtml = 'Like what you see? Visit the ' +\n",
              "            '<a target=\"_blank\" href=https://colab.research.google.com/notebooks/data_table.ipynb>data table notebook</a>'\n",
              "            + ' to learn more about interactive tables.';\n",
              "          element.innerHTML = '';\n",
              "          dataTable['output_type'] = 'display_data';\n",
              "          await google.colab.output.renderOutput(dataTable, element);\n",
              "          const docLink = document.createElement('div');\n",
              "          docLink.innerHTML = docLinkHtml;\n",
              "          element.appendChild(docLink);\n",
              "        }\n",
              "      </script>\n",
              "    </div>\n",
              "  </div>\n",
              "  "
            ]
          },
          "metadata": {},
          "execution_count": 30
        }
      ]
    },
    {
      "cell_type": "markdown",
      "source": [
        "- Carro e Moto"
      ],
      "metadata": {
        "id": "8yRVXiwLXD5B"
      }
    },
    {
      "cell_type": "code",
      "source": [
        "df_ft['Q010_'] = np.where((df_ft['Q010'] == 'D') | (df_ft['Q010'] == 'E'), 'C', df_ft.Q010)\n",
        "df_ft['Q011_'] = np.where((df_ft['Q011'] == 'D') | (df_ft['Q011'] == 'E'), 'C', df_ft.Q011)\n",
        "\n",
        "conditionlist = [(df_ft['Q010_'] == 'A') & (df_ft['Q011_'] == 'A'), # 0 carro e 0 moto\n",
        "                 (df_ft['Q010_'] == 'A') & (df_ft['Q011_'] == 'B'), # 0 carro e 1 moto\n",
        "                 (df_ft['Q010_'] == 'A') & (df_ft['Q011_'] == 'C'), # 0 carro e >1 moto\n",
        "                 (df_ft['Q010_'] == 'B') & (df_ft['Q011_'] == 'A'), # 1 carro e 0 moto\n",
        "                 (df_ft['Q010_'] == 'B') & (df_ft['Q011_'] == 'B'), # 1 carro e 1 moto\n",
        "                 (df_ft['Q010_'] == 'B') & (df_ft['Q011_'] == 'C'), # 1 carro e >1 moto\n",
        "                 (df_ft['Q010_'] == 'C') & (df_ft['Q011_'] == 'A'), # >1 carro e 0 moto\n",
        "                 (df_ft['Q010_'] == 'C') & (df_ft['Q011_'] == 'B'), # >1 carro e 1 moto\n",
        "                 (df_ft['Q010_'] == 'C') & (df_ft['Q011_'] == 'C')] # >1 carro e >1 moto\n",
        "choicelist = [1,2,3,4,5,6,7,8,9]\n",
        "df_ft['Car_Mot'] = np.select(conditionlist, choicelist, default='Not Specified')\n",
        "df_ft.Car_Mot.value_counts().sort_index()"
      ],
      "metadata": {
        "colab": {
          "base_uri": "https://localhost:8080/"
        },
        "id": "8kFUgpbwXGT-",
        "outputId": "725b4a8e-4360-484b-ec77-8b7b7d8ee033"
      },
      "execution_count": null,
      "outputs": [
        {
          "output_type": "execute_result",
          "data": {
            "text/plain": [
              "1    1421963\n",
              "2     353705\n",
              "3      28776\n",
              "4     833167\n",
              "5     242499\n",
              "6      28506\n",
              "7     199733\n",
              "8      44781\n",
              "9      10583\n",
              "Name: Car_Mot, dtype: int64"
            ]
          },
          "metadata": {},
          "execution_count": 31
        }
      ]
    },
    {
      "cell_type": "code",
      "source": [
        "df_ft.loc[df_ft.Car_Mot == '1','Car_Mot_']='1'\n",
        "df_ft.loc[df_ft.Car_Mot == '2','Car_Mot_']='2'\n",
        "df_ft.loc[df_ft.Car_Mot == '3','Car_Mot_']='2'\n",
        "df_ft.loc[df_ft.Car_Mot == '4','Car_Mot_']='3'\n",
        "df_ft.loc[df_ft.Car_Mot == '5','Car_Mot_']='4'\n",
        "df_ft.loc[df_ft.Car_Mot == '6','Car_Mot_']='4'\n",
        "df_ft.loc[df_ft.Car_Mot == '7','Car_Mot_']='5'\n",
        "df_ft.loc[df_ft.Car_Mot == '8','Car_Mot_']='6'\n",
        "df_ft.loc[df_ft.Car_Mot == '9','Car_Mot_']='6'\n",
        "df_ft.Car_Mot_.value_counts().sort_index()"
      ],
      "metadata": {
        "id": "DZcwg5lsKNG9",
        "colab": {
          "base_uri": "https://localhost:8080/"
        },
        "outputId": "f9aadafd-09df-4394-e538-b3d19736806b"
      },
      "execution_count": null,
      "outputs": [
        {
          "output_type": "execute_result",
          "data": {
            "text/plain": [
              "1    1421963\n",
              "2     382481\n",
              "3     833167\n",
              "4     271005\n",
              "5     199733\n",
              "6      55364\n",
              "Name: Car_Mot_, dtype: int64"
            ]
          },
          "metadata": {},
          "execution_count": 32
        }
      ]
    },
    {
      "cell_type": "code",
      "source": [
        "df_valid = df_ft[['Q010','Q011','Q010_','Q011_','Car_Mot','Car_Mot_','NU_INSCRICAO']].loc[(df_ft['Q010'] == 'E')].head(10)\n",
        "df_valid"
      ],
      "metadata": {
        "colab": {
          "base_uri": "https://localhost:8080/",
          "height": 363
        },
        "id": "NCyd3VjS1wSt",
        "outputId": "3cb05348-a860-4139-f069-dcb84e25e5d1"
      },
      "execution_count": null,
      "outputs": [
        {
          "output_type": "execute_result",
          "data": {
            "text/plain": [
              "     Q010 Q011 Q010_ Q011_ Car_Mot Car_Mot_  NU_INSCRICAO\n",
              "889     E    C     C     C       9        6  190001244982\n",
              "2726    E    A     C     A       7        5  190001185826\n",
              "3118    E    A     C     A       7        5  190001127259\n",
              "4956    E    A     C     A       7        5  190001786676\n",
              "5055    E    A     C     A       7        5  190001446832\n",
              "5617    E    A     C     A       7        5  190001245015\n",
              "5699    E    A     C     A       7        5  190001489631\n",
              "5726    E    A     C     A       7        5  190001602707\n",
              "5775    E    A     C     A       7        5  190001183135\n",
              "5840    E    A     C     A       7        5  190001706619"
            ],
            "text/html": [
              "\n",
              "  <div id=\"df-442c1753-7fa7-41db-aeec-1759e557775b\">\n",
              "    <div class=\"colab-df-container\">\n",
              "      <div>\n",
              "<style scoped>\n",
              "    .dataframe tbody tr th:only-of-type {\n",
              "        vertical-align: middle;\n",
              "    }\n",
              "\n",
              "    .dataframe tbody tr th {\n",
              "        vertical-align: top;\n",
              "    }\n",
              "\n",
              "    .dataframe thead th {\n",
              "        text-align: right;\n",
              "    }\n",
              "</style>\n",
              "<table border=\"1\" class=\"dataframe\">\n",
              "  <thead>\n",
              "    <tr style=\"text-align: right;\">\n",
              "      <th></th>\n",
              "      <th>Q010</th>\n",
              "      <th>Q011</th>\n",
              "      <th>Q010_</th>\n",
              "      <th>Q011_</th>\n",
              "      <th>Car_Mot</th>\n",
              "      <th>Car_Mot_</th>\n",
              "      <th>NU_INSCRICAO</th>\n",
              "    </tr>\n",
              "  </thead>\n",
              "  <tbody>\n",
              "    <tr>\n",
              "      <th>889</th>\n",
              "      <td>E</td>\n",
              "      <td>C</td>\n",
              "      <td>C</td>\n",
              "      <td>C</td>\n",
              "      <td>9</td>\n",
              "      <td>6</td>\n",
              "      <td>190001244982</td>\n",
              "    </tr>\n",
              "    <tr>\n",
              "      <th>2726</th>\n",
              "      <td>E</td>\n",
              "      <td>A</td>\n",
              "      <td>C</td>\n",
              "      <td>A</td>\n",
              "      <td>7</td>\n",
              "      <td>5</td>\n",
              "      <td>190001185826</td>\n",
              "    </tr>\n",
              "    <tr>\n",
              "      <th>3118</th>\n",
              "      <td>E</td>\n",
              "      <td>A</td>\n",
              "      <td>C</td>\n",
              "      <td>A</td>\n",
              "      <td>7</td>\n",
              "      <td>5</td>\n",
              "      <td>190001127259</td>\n",
              "    </tr>\n",
              "    <tr>\n",
              "      <th>4956</th>\n",
              "      <td>E</td>\n",
              "      <td>A</td>\n",
              "      <td>C</td>\n",
              "      <td>A</td>\n",
              "      <td>7</td>\n",
              "      <td>5</td>\n",
              "      <td>190001786676</td>\n",
              "    </tr>\n",
              "    <tr>\n",
              "      <th>5055</th>\n",
              "      <td>E</td>\n",
              "      <td>A</td>\n",
              "      <td>C</td>\n",
              "      <td>A</td>\n",
              "      <td>7</td>\n",
              "      <td>5</td>\n",
              "      <td>190001446832</td>\n",
              "    </tr>\n",
              "    <tr>\n",
              "      <th>5617</th>\n",
              "      <td>E</td>\n",
              "      <td>A</td>\n",
              "      <td>C</td>\n",
              "      <td>A</td>\n",
              "      <td>7</td>\n",
              "      <td>5</td>\n",
              "      <td>190001245015</td>\n",
              "    </tr>\n",
              "    <tr>\n",
              "      <th>5699</th>\n",
              "      <td>E</td>\n",
              "      <td>A</td>\n",
              "      <td>C</td>\n",
              "      <td>A</td>\n",
              "      <td>7</td>\n",
              "      <td>5</td>\n",
              "      <td>190001489631</td>\n",
              "    </tr>\n",
              "    <tr>\n",
              "      <th>5726</th>\n",
              "      <td>E</td>\n",
              "      <td>A</td>\n",
              "      <td>C</td>\n",
              "      <td>A</td>\n",
              "      <td>7</td>\n",
              "      <td>5</td>\n",
              "      <td>190001602707</td>\n",
              "    </tr>\n",
              "    <tr>\n",
              "      <th>5775</th>\n",
              "      <td>E</td>\n",
              "      <td>A</td>\n",
              "      <td>C</td>\n",
              "      <td>A</td>\n",
              "      <td>7</td>\n",
              "      <td>5</td>\n",
              "      <td>190001183135</td>\n",
              "    </tr>\n",
              "    <tr>\n",
              "      <th>5840</th>\n",
              "      <td>E</td>\n",
              "      <td>A</td>\n",
              "      <td>C</td>\n",
              "      <td>A</td>\n",
              "      <td>7</td>\n",
              "      <td>5</td>\n",
              "      <td>190001706619</td>\n",
              "    </tr>\n",
              "  </tbody>\n",
              "</table>\n",
              "</div>\n",
              "      <button class=\"colab-df-convert\" onclick=\"convertToInteractive('df-442c1753-7fa7-41db-aeec-1759e557775b')\"\n",
              "              title=\"Convert this dataframe to an interactive table.\"\n",
              "              style=\"display:none;\">\n",
              "        \n",
              "  <svg xmlns=\"http://www.w3.org/2000/svg\" height=\"24px\"viewBox=\"0 0 24 24\"\n",
              "       width=\"24px\">\n",
              "    <path d=\"M0 0h24v24H0V0z\" fill=\"none\"/>\n",
              "    <path d=\"M18.56 5.44l.94 2.06.94-2.06 2.06-.94-2.06-.94-.94-2.06-.94 2.06-2.06.94zm-11 1L8.5 8.5l.94-2.06 2.06-.94-2.06-.94L8.5 2.5l-.94 2.06-2.06.94zm10 10l.94 2.06.94-2.06 2.06-.94-2.06-.94-.94-2.06-.94 2.06-2.06.94z\"/><path d=\"M17.41 7.96l-1.37-1.37c-.4-.4-.92-.59-1.43-.59-.52 0-1.04.2-1.43.59L10.3 9.45l-7.72 7.72c-.78.78-.78 2.05 0 2.83L4 21.41c.39.39.9.59 1.41.59.51 0 1.02-.2 1.41-.59l7.78-7.78 2.81-2.81c.8-.78.8-2.07 0-2.86zM5.41 20L4 18.59l7.72-7.72 1.47 1.35L5.41 20z\"/>\n",
              "  </svg>\n",
              "      </button>\n",
              "      \n",
              "  <style>\n",
              "    .colab-df-container {\n",
              "      display:flex;\n",
              "      flex-wrap:wrap;\n",
              "      gap: 12px;\n",
              "    }\n",
              "\n",
              "    .colab-df-convert {\n",
              "      background-color: #E8F0FE;\n",
              "      border: none;\n",
              "      border-radius: 50%;\n",
              "      cursor: pointer;\n",
              "      display: none;\n",
              "      fill: #1967D2;\n",
              "      height: 32px;\n",
              "      padding: 0 0 0 0;\n",
              "      width: 32px;\n",
              "    }\n",
              "\n",
              "    .colab-df-convert:hover {\n",
              "      background-color: #E2EBFA;\n",
              "      box-shadow: 0px 1px 2px rgba(60, 64, 67, 0.3), 0px 1px 3px 1px rgba(60, 64, 67, 0.15);\n",
              "      fill: #174EA6;\n",
              "    }\n",
              "\n",
              "    [theme=dark] .colab-df-convert {\n",
              "      background-color: #3B4455;\n",
              "      fill: #D2E3FC;\n",
              "    }\n",
              "\n",
              "    [theme=dark] .colab-df-convert:hover {\n",
              "      background-color: #434B5C;\n",
              "      box-shadow: 0px 1px 3px 1px rgba(0, 0, 0, 0.15);\n",
              "      filter: drop-shadow(0px 1px 2px rgba(0, 0, 0, 0.3));\n",
              "      fill: #FFFFFF;\n",
              "    }\n",
              "  </style>\n",
              "\n",
              "      <script>\n",
              "        const buttonEl =\n",
              "          document.querySelector('#df-442c1753-7fa7-41db-aeec-1759e557775b button.colab-df-convert');\n",
              "        buttonEl.style.display =\n",
              "          google.colab.kernel.accessAllowed ? 'block' : 'none';\n",
              "\n",
              "        async function convertToInteractive(key) {\n",
              "          const element = document.querySelector('#df-442c1753-7fa7-41db-aeec-1759e557775b');\n",
              "          const dataTable =\n",
              "            await google.colab.kernel.invokeFunction('convertToInteractive',\n",
              "                                                     [key], {});\n",
              "          if (!dataTable) return;\n",
              "\n",
              "          const docLinkHtml = 'Like what you see? Visit the ' +\n",
              "            '<a target=\"_blank\" href=https://colab.research.google.com/notebooks/data_table.ipynb>data table notebook</a>'\n",
              "            + ' to learn more about interactive tables.';\n",
              "          element.innerHTML = '';\n",
              "          dataTable['output_type'] = 'display_data';\n",
              "          await google.colab.output.renderOutput(dataTable, element);\n",
              "          const docLink = document.createElement('div');\n",
              "          docLink.innerHTML = docLinkHtml;\n",
              "          element.appendChild(docLink);\n",
              "        }\n",
              "      </script>\n",
              "    </div>\n",
              "  </div>\n",
              "  "
            ]
          },
          "metadata": {},
          "execution_count": 33
        }
      ]
    },
    {
      "cell_type": "markdown",
      "source": [
        "- Porte da Casa"
      ],
      "metadata": {
        "id": "yqeMz0gyXGyy"
      }
    },
    {
      "cell_type": "code",
      "source": [
        "# Q007\n",
        "df_ft['Q007_'] = df_ft['Q007']\n",
        "conditionlist = [(df_ft['Q007_'] == 'A'),\n",
        "                 (df_ft['Q007_'] == 'B'),\n",
        "                 (df_ft['Q007_'] == 'C'),\n",
        "                 (df_ft['Q007_'] == 'D')]\n",
        "choicelist = [0,1,2,2]\n",
        "df_ft['Q007_f2'] = np.select(conditionlist, choicelist, default='Not Specified')\n",
        "df_ft['Q007_f'] = pd.to_numeric(np.select(conditionlist, choicelist, default='Not Specified'), errors = 'coerce')\n",
        "\n",
        "\n",
        "# Q008\n",
        "df_ft['Q008_'] = df_ft['Q008']\n",
        "conditionlist = [(df_ft['Q008_'] == 'A'),\n",
        "                 (df_ft['Q008_'] == 'B'),\n",
        "                 (df_ft['Q008_'] == 'C'),\n",
        "                 (df_ft['Q008_'] == 'D'),\n",
        "                 (df_ft['Q008_'] == 'E')]\n",
        "choicelist = [0,1,2,3,3]\n",
        "df_ft['Q008_f2'] = np.select(conditionlist, choicelist, default='Not Specified')\n",
        "df_ft['Q008_f'] = pd.to_numeric(np.select(conditionlist, choicelist, default='Not Specified'), errors = 'coerce')\n",
        "\n",
        "\n",
        "# Q009\n",
        "df_ft['Q009_'] = df_ft['Q009']\n",
        "conditionlist = [(df_ft['Q009_'] == 'A'),\n",
        "                 (df_ft['Q009_'] == 'B'),\n",
        "                 (df_ft['Q009_'] == 'C'),\n",
        "                 (df_ft['Q009_'] == 'D'),\n",
        "                 (df_ft['Q009_'] == 'E')]\n",
        "choicelist = [0,1,2,3,3]\n",
        "df_ft['Q009_f2'] = np.select(conditionlist, choicelist, default='Not Specified')\n",
        "df_ft['Q009_f'] = pd.to_numeric(np.select(conditionlist, choicelist, default='Not Specified'), errors = 'coerce')\n",
        "\n",
        "\n",
        "# Soma\n",
        "df_ft['Tot_PtCasa_2'] = df_ft['Q007_f2'] + df_ft['Q008_f2'] + df_ft['Q009_f2']\n",
        "df_ft['Tot_PtCasa'] = df_ft['Q007_f'] + df_ft['Q008_f'] + df_ft['Q009_f']\n"
      ],
      "metadata": {
        "id": "cwhf75IGeLy6"
      },
      "execution_count": null,
      "outputs": []
    },
    {
      "cell_type": "code",
      "source": [
        "df_ft.Q007_f.value_counts().sort_index()"
      ],
      "metadata": {
        "colab": {
          "base_uri": "https://localhost:8080/"
        },
        "id": "nV3Q91PYf4ve",
        "outputId": "c1b5357b-42ec-47cd-e9a5-7cc2ac606c53"
      },
      "execution_count": null,
      "outputs": [
        {
          "output_type": "execute_result",
          "data": {
            "text/plain": [
              "0    2961682\n",
              "1     111580\n",
              "2      90451\n",
              "Name: Q007_f, dtype: int64"
            ]
          },
          "metadata": {},
          "execution_count": 35
        }
      ]
    },
    {
      "cell_type": "code",
      "source": [
        "df_ft.Q008_f.value_counts().sort_index()"
      ],
      "metadata": {
        "colab": {
          "base_uri": "https://localhost:8080/"
        },
        "id": "nBeuRXPxgxmT",
        "outputId": "f206b652-25d0-4c05-ce01-c24036899a3f"
      },
      "execution_count": null,
      "outputs": [
        {
          "output_type": "execute_result",
          "data": {
            "text/plain": [
              "0      30523\n",
              "1    2246518\n",
              "2     649160\n",
              "3     237512\n",
              "Name: Q008_f, dtype: int64"
            ]
          },
          "metadata": {},
          "execution_count": 36
        }
      ]
    },
    {
      "cell_type": "code",
      "source": [
        "df_ft.Q009_f.value_counts().sort_index()"
      ],
      "metadata": {
        "colab": {
          "base_uri": "https://localhost:8080/"
        },
        "id": "ZH0AShktgxv0",
        "outputId": "f354790f-74ea-4bf8-b375-4741b982dc43"
      },
      "execution_count": null,
      "outputs": [
        {
          "output_type": "execute_result",
          "data": {
            "text/plain": [
              "0      24482\n",
              "1     412554\n",
              "2    1619770\n",
              "3    1106907\n",
              "Name: Q009_f, dtype: int64"
            ]
          },
          "metadata": {},
          "execution_count": 37
        }
      ]
    },
    {
      "cell_type": "code",
      "source": [
        "df_ft.Tot_PtCasa_2.value_counts().sort_index()"
      ],
      "metadata": {
        "colab": {
          "base_uri": "https://localhost:8080/"
        },
        "id": "lEM_5MezlwTy",
        "outputId": "c601de86-b755-4679-e1a8-7aa2fe40fdbc"
      },
      "execution_count": null,
      "outputs": [
        {
          "output_type": "execute_result",
          "data": {
            "text/plain": [
              "000       4631\n",
              "001       9372\n",
              "002      11853\n",
              "003       3974\n",
              "010      18784\n",
              "011     385163\n",
              "012    1318029\n",
              "013     469668\n",
              "020        261\n",
              "021       6375\n",
              "022     223409\n",
              "023     367244\n",
              "030         31\n",
              "031        199\n",
              "032      15543\n",
              "033     127146\n",
              "100         93\n",
              "101        199\n",
              "102        126\n",
              "103         44\n",
              "110        374\n",
              "111       6717\n",
              "112      18284\n",
              "113       6531\n",
              "120         17\n",
              "121        190\n",
              "122       9941\n",
              "123      23568\n",
              "130          4\n",
              "131         41\n",
              "132       3061\n",
              "133      42390\n",
              "200         42\n",
              "201         72\n",
              "202         85\n",
              "203         32\n",
              "210        233\n",
              "211       4078\n",
              "212      13304\n",
              "213       5353\n",
              "220          7\n",
              "221        125\n",
              "222       4465\n",
              "223      13558\n",
              "230          5\n",
              "231         23\n",
              "232       1670\n",
              "233      47399\n",
              "Name: Tot_PtCasa_2, dtype: int64"
            ]
          },
          "metadata": {},
          "execution_count": 38
        }
      ]
    },
    {
      "cell_type": "code",
      "source": [
        "df_ft.Tot_PtCasa.value_counts().sort_index()"
      ],
      "metadata": {
        "colab": {
          "base_uri": "https://localhost:8080/"
        },
        "id": "6qzNZf19hAc1",
        "outputId": "ebde497f-7fcb-4080-9dda-966495aa6933"
      },
      "execution_count": null,
      "outputs": [
        {
          "output_type": "execute_result",
          "data": {
            "text/plain": [
              "0       4631\n",
              "1      28249\n",
              "2     397892\n",
              "3    1335574\n",
              "4     715968\n",
              "5     412766\n",
              "6     163616\n",
              "7      57618\n",
              "8      47399\n",
              "Name: Tot_PtCasa, dtype: int64"
            ]
          },
          "metadata": {},
          "execution_count": 39
        }
      ]
    },
    {
      "cell_type": "code",
      "source": [
        "df_valid = df_ft[['Q007','Q008','Q009','Q007_f','Q008_f','Q009_f','Tot_PtCasa','NU_INSCRICAO']].loc[(df_ft['Q007_f'] == 2) & (df_ft['Q009_f'] < 1)].head(10)\n",
        "df_valid"
      ],
      "metadata": {
        "id": "Jkb0V4RvjtaF",
        "colab": {
          "base_uri": "https://localhost:8080/",
          "height": 363
        },
        "outputId": "7d217f05-40f2-457c-c52c-d2d302e94173"
      },
      "execution_count": null,
      "outputs": [
        {
          "output_type": "execute_result",
          "data": {
            "text/plain": [
              "      Q007 Q008 Q009  Q007_f  Q008_f  Q009_f  Tot_PtCasa  NU_INSCRICAO\n",
              "1851     D    B    A       2       1       0           3  190001527664\n",
              "9443     C    B    A       2       1       0           3  190001520789\n",
              "14829    D    B    A       2       1       0           3  190001421673\n",
              "15471    D    B    A       2       1       0           3  190001538282\n",
              "23998    D    B    A       2       1       0           3  190001135958\n",
              "24488    C    B    A       2       1       0           3  190001548759\n",
              "33787    D    B    A       2       1       0           3  190001036464\n",
              "34291    D    B    A       2       1       0           3  190001606648\n",
              "36920    D    B    A       2       1       0           3  190001180581\n",
              "41860    C    B    A       2       1       0           3  190001733421"
            ],
            "text/html": [
              "\n",
              "  <div id=\"df-199bc04f-799f-4c42-b78a-47bdc89253c8\">\n",
              "    <div class=\"colab-df-container\">\n",
              "      <div>\n",
              "<style scoped>\n",
              "    .dataframe tbody tr th:only-of-type {\n",
              "        vertical-align: middle;\n",
              "    }\n",
              "\n",
              "    .dataframe tbody tr th {\n",
              "        vertical-align: top;\n",
              "    }\n",
              "\n",
              "    .dataframe thead th {\n",
              "        text-align: right;\n",
              "    }\n",
              "</style>\n",
              "<table border=\"1\" class=\"dataframe\">\n",
              "  <thead>\n",
              "    <tr style=\"text-align: right;\">\n",
              "      <th></th>\n",
              "      <th>Q007</th>\n",
              "      <th>Q008</th>\n",
              "      <th>Q009</th>\n",
              "      <th>Q007_f</th>\n",
              "      <th>Q008_f</th>\n",
              "      <th>Q009_f</th>\n",
              "      <th>Tot_PtCasa</th>\n",
              "      <th>NU_INSCRICAO</th>\n",
              "    </tr>\n",
              "  </thead>\n",
              "  <tbody>\n",
              "    <tr>\n",
              "      <th>1851</th>\n",
              "      <td>D</td>\n",
              "      <td>B</td>\n",
              "      <td>A</td>\n",
              "      <td>2</td>\n",
              "      <td>1</td>\n",
              "      <td>0</td>\n",
              "      <td>3</td>\n",
              "      <td>190001527664</td>\n",
              "    </tr>\n",
              "    <tr>\n",
              "      <th>9443</th>\n",
              "      <td>C</td>\n",
              "      <td>B</td>\n",
              "      <td>A</td>\n",
              "      <td>2</td>\n",
              "      <td>1</td>\n",
              "      <td>0</td>\n",
              "      <td>3</td>\n",
              "      <td>190001520789</td>\n",
              "    </tr>\n",
              "    <tr>\n",
              "      <th>14829</th>\n",
              "      <td>D</td>\n",
              "      <td>B</td>\n",
              "      <td>A</td>\n",
              "      <td>2</td>\n",
              "      <td>1</td>\n",
              "      <td>0</td>\n",
              "      <td>3</td>\n",
              "      <td>190001421673</td>\n",
              "    </tr>\n",
              "    <tr>\n",
              "      <th>15471</th>\n",
              "      <td>D</td>\n",
              "      <td>B</td>\n",
              "      <td>A</td>\n",
              "      <td>2</td>\n",
              "      <td>1</td>\n",
              "      <td>0</td>\n",
              "      <td>3</td>\n",
              "      <td>190001538282</td>\n",
              "    </tr>\n",
              "    <tr>\n",
              "      <th>23998</th>\n",
              "      <td>D</td>\n",
              "      <td>B</td>\n",
              "      <td>A</td>\n",
              "      <td>2</td>\n",
              "      <td>1</td>\n",
              "      <td>0</td>\n",
              "      <td>3</td>\n",
              "      <td>190001135958</td>\n",
              "    </tr>\n",
              "    <tr>\n",
              "      <th>24488</th>\n",
              "      <td>C</td>\n",
              "      <td>B</td>\n",
              "      <td>A</td>\n",
              "      <td>2</td>\n",
              "      <td>1</td>\n",
              "      <td>0</td>\n",
              "      <td>3</td>\n",
              "      <td>190001548759</td>\n",
              "    </tr>\n",
              "    <tr>\n",
              "      <th>33787</th>\n",
              "      <td>D</td>\n",
              "      <td>B</td>\n",
              "      <td>A</td>\n",
              "      <td>2</td>\n",
              "      <td>1</td>\n",
              "      <td>0</td>\n",
              "      <td>3</td>\n",
              "      <td>190001036464</td>\n",
              "    </tr>\n",
              "    <tr>\n",
              "      <th>34291</th>\n",
              "      <td>D</td>\n",
              "      <td>B</td>\n",
              "      <td>A</td>\n",
              "      <td>2</td>\n",
              "      <td>1</td>\n",
              "      <td>0</td>\n",
              "      <td>3</td>\n",
              "      <td>190001606648</td>\n",
              "    </tr>\n",
              "    <tr>\n",
              "      <th>36920</th>\n",
              "      <td>D</td>\n",
              "      <td>B</td>\n",
              "      <td>A</td>\n",
              "      <td>2</td>\n",
              "      <td>1</td>\n",
              "      <td>0</td>\n",
              "      <td>3</td>\n",
              "      <td>190001180581</td>\n",
              "    </tr>\n",
              "    <tr>\n",
              "      <th>41860</th>\n",
              "      <td>C</td>\n",
              "      <td>B</td>\n",
              "      <td>A</td>\n",
              "      <td>2</td>\n",
              "      <td>1</td>\n",
              "      <td>0</td>\n",
              "      <td>3</td>\n",
              "      <td>190001733421</td>\n",
              "    </tr>\n",
              "  </tbody>\n",
              "</table>\n",
              "</div>\n",
              "      <button class=\"colab-df-convert\" onclick=\"convertToInteractive('df-199bc04f-799f-4c42-b78a-47bdc89253c8')\"\n",
              "              title=\"Convert this dataframe to an interactive table.\"\n",
              "              style=\"display:none;\">\n",
              "        \n",
              "  <svg xmlns=\"http://www.w3.org/2000/svg\" height=\"24px\"viewBox=\"0 0 24 24\"\n",
              "       width=\"24px\">\n",
              "    <path d=\"M0 0h24v24H0V0z\" fill=\"none\"/>\n",
              "    <path d=\"M18.56 5.44l.94 2.06.94-2.06 2.06-.94-2.06-.94-.94-2.06-.94 2.06-2.06.94zm-11 1L8.5 8.5l.94-2.06 2.06-.94-2.06-.94L8.5 2.5l-.94 2.06-2.06.94zm10 10l.94 2.06.94-2.06 2.06-.94-2.06-.94-.94-2.06-.94 2.06-2.06.94z\"/><path d=\"M17.41 7.96l-1.37-1.37c-.4-.4-.92-.59-1.43-.59-.52 0-1.04.2-1.43.59L10.3 9.45l-7.72 7.72c-.78.78-.78 2.05 0 2.83L4 21.41c.39.39.9.59 1.41.59.51 0 1.02-.2 1.41-.59l7.78-7.78 2.81-2.81c.8-.78.8-2.07 0-2.86zM5.41 20L4 18.59l7.72-7.72 1.47 1.35L5.41 20z\"/>\n",
              "  </svg>\n",
              "      </button>\n",
              "      \n",
              "  <style>\n",
              "    .colab-df-container {\n",
              "      display:flex;\n",
              "      flex-wrap:wrap;\n",
              "      gap: 12px;\n",
              "    }\n",
              "\n",
              "    .colab-df-convert {\n",
              "      background-color: #E8F0FE;\n",
              "      border: none;\n",
              "      border-radius: 50%;\n",
              "      cursor: pointer;\n",
              "      display: none;\n",
              "      fill: #1967D2;\n",
              "      height: 32px;\n",
              "      padding: 0 0 0 0;\n",
              "      width: 32px;\n",
              "    }\n",
              "\n",
              "    .colab-df-convert:hover {\n",
              "      background-color: #E2EBFA;\n",
              "      box-shadow: 0px 1px 2px rgba(60, 64, 67, 0.3), 0px 1px 3px 1px rgba(60, 64, 67, 0.15);\n",
              "      fill: #174EA6;\n",
              "    }\n",
              "\n",
              "    [theme=dark] .colab-df-convert {\n",
              "      background-color: #3B4455;\n",
              "      fill: #D2E3FC;\n",
              "    }\n",
              "\n",
              "    [theme=dark] .colab-df-convert:hover {\n",
              "      background-color: #434B5C;\n",
              "      box-shadow: 0px 1px 3px 1px rgba(0, 0, 0, 0.15);\n",
              "      filter: drop-shadow(0px 1px 2px rgba(0, 0, 0, 0.3));\n",
              "      fill: #FFFFFF;\n",
              "    }\n",
              "  </style>\n",
              "\n",
              "      <script>\n",
              "        const buttonEl =\n",
              "          document.querySelector('#df-199bc04f-799f-4c42-b78a-47bdc89253c8 button.colab-df-convert');\n",
              "        buttonEl.style.display =\n",
              "          google.colab.kernel.accessAllowed ? 'block' : 'none';\n",
              "\n",
              "        async function convertToInteractive(key) {\n",
              "          const element = document.querySelector('#df-199bc04f-799f-4c42-b78a-47bdc89253c8');\n",
              "          const dataTable =\n",
              "            await google.colab.kernel.invokeFunction('convertToInteractive',\n",
              "                                                     [key], {});\n",
              "          if (!dataTable) return;\n",
              "\n",
              "          const docLinkHtml = 'Like what you see? Visit the ' +\n",
              "            '<a target=\"_blank\" href=https://colab.research.google.com/notebooks/data_table.ipynb>data table notebook</a>'\n",
              "            + ' to learn more about interactive tables.';\n",
              "          element.innerHTML = '';\n",
              "          dataTable['output_type'] = 'display_data';\n",
              "          await google.colab.output.renderOutput(dataTable, element);\n",
              "          const docLink = document.createElement('div');\n",
              "          docLink.innerHTML = docLinkHtml;\n",
              "          element.appendChild(docLink);\n",
              "        }\n",
              "      </script>\n",
              "    </div>\n",
              "  </div>\n",
              "  "
            ]
          },
          "metadata": {},
          "execution_count": 40
        }
      ]
    },
    {
      "cell_type": "code",
      "source": [
        "df_ft.loc[df_ft.Tot_PtCasa == 0,'Tot_PtCasa_']='1'\n",
        "df_ft.loc[df_ft.Tot_PtCasa == 1,'Tot_PtCasa_']='1'\n",
        "df_ft.loc[df_ft.Tot_PtCasa == 2,'Tot_PtCasa_']='1'\n",
        "df_ft.loc[df_ft.Tot_PtCasa == 3,'Tot_PtCasa_']='2'\n",
        "df_ft.loc[df_ft.Tot_PtCasa == 4,'Tot_PtCasa_']='3'\n",
        "df_ft.loc[df_ft.Tot_PtCasa == 5,'Tot_PtCasa_']='4'\n",
        "df_ft.loc[df_ft.Tot_PtCasa == 6,'Tot_PtCasa_']='5'\n",
        "df_ft.loc[df_ft.Tot_PtCasa == 7,'Tot_PtCasa_']='6'\n",
        "df_ft.loc[df_ft.Tot_PtCasa == 8,'Tot_PtCasa_']='6'"
      ],
      "metadata": {
        "id": "t2Np--1oL-yO"
      },
      "execution_count": null,
      "outputs": []
    },
    {
      "cell_type": "markdown",
      "source": [
        "- Região Geográfica"
      ],
      "metadata": {
        "id": "hdEWeeydC18H"
      }
    },
    {
      "cell_type": "code",
      "source": [
        "df_ft['RegGeo_Prova'] = df_ft.CO_MUNICIPIO_PROVA.astype(str).str[0] # transforma primeiro em string, depois seleciona o digito"
      ],
      "metadata": {
        "id": "uqc7eiCrEs4P"
      },
      "execution_count": null,
      "outputs": []
    },
    {
      "cell_type": "code",
      "source": [
        "df_ft.RegGeo_Prova.value_counts().sort_index()"
      ],
      "metadata": {
        "id": "IYaKTFQ3GRVd",
        "colab": {
          "base_uri": "https://localhost:8080/"
        },
        "outputId": "724e27ba-6aa8-4e5b-a474-aff1ed3b1d20"
      },
      "execution_count": null,
      "outputs": [
        {
          "output_type": "execute_result",
          "data": {
            "text/plain": [
              "1     372467\n",
              "2    1112536\n",
              "3    1104438\n",
              "4     326297\n",
              "5     247975\n",
              "Name: RegGeo_Prova, dtype: int64"
            ]
          },
          "metadata": {},
          "execution_count": 43
        }
      ]
    },
    {
      "cell_type": "code",
      "source": [
        "pd.crosstab(df_ft.SG_UF_PROVA, df_ft.RegGeo_Prova, margins=True, dropna=False)"
      ],
      "metadata": {
        "id": "mEdtS7lhGX85",
        "colab": {
          "base_uri": "https://localhost:8080/",
          "height": 959
        },
        "outputId": "af9b6b80-ccc6-4c37-91ac-958bc36c0ada"
      },
      "execution_count": null,
      "outputs": [
        {
          "output_type": "execute_result",
          "data": {
            "text/plain": [
              "RegGeo_Prova       1        2        3       4       5      All\n",
              "SG_UF_PROVA                                                    \n",
              "AC             25148        0        0       0       0    25148\n",
              "AL                 0    59879        0       0       0    59879\n",
              "AM             69281        0        0       0       0    69281\n",
              "AP             27113        0        0       0       0    27113\n",
              "BA                 0   246909        0       0       0   246909\n",
              "CE                 0   183188        0       0       0   183188\n",
              "DF                 0        0        0       0   60902    60902\n",
              "ES                 0        0    62628       0       0    62628\n",
              "GO                 0        0        0       0   96238    96238\n",
              "MA                 0   142807        0       0       0   142807\n",
              "MG                 0        0   328735       0       0   328735\n",
              "MS                 0        0        0       0   41370    41370\n",
              "MT                 0        0        0       0   49465    49465\n",
              "PA            181177        0        0       0       0   181177\n",
              "PB                 0    97830        0       0       0    97830\n",
              "PE                 0   173614        0       0       0   173614\n",
              "PI                 0    79656        0       0       0    79656\n",
              "PR                 0        0        0  128248       0   128248\n",
              "RJ                 0        0   212859       0       0   212859\n",
              "RN                 0    78994        0       0       0    78994\n",
              "RO             35116        0        0       0       0    35116\n",
              "RR              7618        0        0       0       0     7618\n",
              "RS                 0        0        0  133211       0   133211\n",
              "SC                 0        0        0   64838       0    64838\n",
              "SE                 0    49659        0       0       0    49659\n",
              "SP                 0        0   500216       0       0   500216\n",
              "TO             27014        0        0       0       0    27014\n",
              "All           372467  1112536  1104438  326297  247975  3163713"
            ],
            "text/html": [
              "\n",
              "  <div id=\"df-865cd5f0-f072-4ed4-9693-972158a69309\">\n",
              "    <div class=\"colab-df-container\">\n",
              "      <div>\n",
              "<style scoped>\n",
              "    .dataframe tbody tr th:only-of-type {\n",
              "        vertical-align: middle;\n",
              "    }\n",
              "\n",
              "    .dataframe tbody tr th {\n",
              "        vertical-align: top;\n",
              "    }\n",
              "\n",
              "    .dataframe thead th {\n",
              "        text-align: right;\n",
              "    }\n",
              "</style>\n",
              "<table border=\"1\" class=\"dataframe\">\n",
              "  <thead>\n",
              "    <tr style=\"text-align: right;\">\n",
              "      <th>RegGeo_Prova</th>\n",
              "      <th>1</th>\n",
              "      <th>2</th>\n",
              "      <th>3</th>\n",
              "      <th>4</th>\n",
              "      <th>5</th>\n",
              "      <th>All</th>\n",
              "    </tr>\n",
              "    <tr>\n",
              "      <th>SG_UF_PROVA</th>\n",
              "      <th></th>\n",
              "      <th></th>\n",
              "      <th></th>\n",
              "      <th></th>\n",
              "      <th></th>\n",
              "      <th></th>\n",
              "    </tr>\n",
              "  </thead>\n",
              "  <tbody>\n",
              "    <tr>\n",
              "      <th>AC</th>\n",
              "      <td>25148</td>\n",
              "      <td>0</td>\n",
              "      <td>0</td>\n",
              "      <td>0</td>\n",
              "      <td>0</td>\n",
              "      <td>25148</td>\n",
              "    </tr>\n",
              "    <tr>\n",
              "      <th>AL</th>\n",
              "      <td>0</td>\n",
              "      <td>59879</td>\n",
              "      <td>0</td>\n",
              "      <td>0</td>\n",
              "      <td>0</td>\n",
              "      <td>59879</td>\n",
              "    </tr>\n",
              "    <tr>\n",
              "      <th>AM</th>\n",
              "      <td>69281</td>\n",
              "      <td>0</td>\n",
              "      <td>0</td>\n",
              "      <td>0</td>\n",
              "      <td>0</td>\n",
              "      <td>69281</td>\n",
              "    </tr>\n",
              "    <tr>\n",
              "      <th>AP</th>\n",
              "      <td>27113</td>\n",
              "      <td>0</td>\n",
              "      <td>0</td>\n",
              "      <td>0</td>\n",
              "      <td>0</td>\n",
              "      <td>27113</td>\n",
              "    </tr>\n",
              "    <tr>\n",
              "      <th>BA</th>\n",
              "      <td>0</td>\n",
              "      <td>246909</td>\n",
              "      <td>0</td>\n",
              "      <td>0</td>\n",
              "      <td>0</td>\n",
              "      <td>246909</td>\n",
              "    </tr>\n",
              "    <tr>\n",
              "      <th>CE</th>\n",
              "      <td>0</td>\n",
              "      <td>183188</td>\n",
              "      <td>0</td>\n",
              "      <td>0</td>\n",
              "      <td>0</td>\n",
              "      <td>183188</td>\n",
              "    </tr>\n",
              "    <tr>\n",
              "      <th>DF</th>\n",
              "      <td>0</td>\n",
              "      <td>0</td>\n",
              "      <td>0</td>\n",
              "      <td>0</td>\n",
              "      <td>60902</td>\n",
              "      <td>60902</td>\n",
              "    </tr>\n",
              "    <tr>\n",
              "      <th>ES</th>\n",
              "      <td>0</td>\n",
              "      <td>0</td>\n",
              "      <td>62628</td>\n",
              "      <td>0</td>\n",
              "      <td>0</td>\n",
              "      <td>62628</td>\n",
              "    </tr>\n",
              "    <tr>\n",
              "      <th>GO</th>\n",
              "      <td>0</td>\n",
              "      <td>0</td>\n",
              "      <td>0</td>\n",
              "      <td>0</td>\n",
              "      <td>96238</td>\n",
              "      <td>96238</td>\n",
              "    </tr>\n",
              "    <tr>\n",
              "      <th>MA</th>\n",
              "      <td>0</td>\n",
              "      <td>142807</td>\n",
              "      <td>0</td>\n",
              "      <td>0</td>\n",
              "      <td>0</td>\n",
              "      <td>142807</td>\n",
              "    </tr>\n",
              "    <tr>\n",
              "      <th>MG</th>\n",
              "      <td>0</td>\n",
              "      <td>0</td>\n",
              "      <td>328735</td>\n",
              "      <td>0</td>\n",
              "      <td>0</td>\n",
              "      <td>328735</td>\n",
              "    </tr>\n",
              "    <tr>\n",
              "      <th>MS</th>\n",
              "      <td>0</td>\n",
              "      <td>0</td>\n",
              "      <td>0</td>\n",
              "      <td>0</td>\n",
              "      <td>41370</td>\n",
              "      <td>41370</td>\n",
              "    </tr>\n",
              "    <tr>\n",
              "      <th>MT</th>\n",
              "      <td>0</td>\n",
              "      <td>0</td>\n",
              "      <td>0</td>\n",
              "      <td>0</td>\n",
              "      <td>49465</td>\n",
              "      <td>49465</td>\n",
              "    </tr>\n",
              "    <tr>\n",
              "      <th>PA</th>\n",
              "      <td>181177</td>\n",
              "      <td>0</td>\n",
              "      <td>0</td>\n",
              "      <td>0</td>\n",
              "      <td>0</td>\n",
              "      <td>181177</td>\n",
              "    </tr>\n",
              "    <tr>\n",
              "      <th>PB</th>\n",
              "      <td>0</td>\n",
              "      <td>97830</td>\n",
              "      <td>0</td>\n",
              "      <td>0</td>\n",
              "      <td>0</td>\n",
              "      <td>97830</td>\n",
              "    </tr>\n",
              "    <tr>\n",
              "      <th>PE</th>\n",
              "      <td>0</td>\n",
              "      <td>173614</td>\n",
              "      <td>0</td>\n",
              "      <td>0</td>\n",
              "      <td>0</td>\n",
              "      <td>173614</td>\n",
              "    </tr>\n",
              "    <tr>\n",
              "      <th>PI</th>\n",
              "      <td>0</td>\n",
              "      <td>79656</td>\n",
              "      <td>0</td>\n",
              "      <td>0</td>\n",
              "      <td>0</td>\n",
              "      <td>79656</td>\n",
              "    </tr>\n",
              "    <tr>\n",
              "      <th>PR</th>\n",
              "      <td>0</td>\n",
              "      <td>0</td>\n",
              "      <td>0</td>\n",
              "      <td>128248</td>\n",
              "      <td>0</td>\n",
              "      <td>128248</td>\n",
              "    </tr>\n",
              "    <tr>\n",
              "      <th>RJ</th>\n",
              "      <td>0</td>\n",
              "      <td>0</td>\n",
              "      <td>212859</td>\n",
              "      <td>0</td>\n",
              "      <td>0</td>\n",
              "      <td>212859</td>\n",
              "    </tr>\n",
              "    <tr>\n",
              "      <th>RN</th>\n",
              "      <td>0</td>\n",
              "      <td>78994</td>\n",
              "      <td>0</td>\n",
              "      <td>0</td>\n",
              "      <td>0</td>\n",
              "      <td>78994</td>\n",
              "    </tr>\n",
              "    <tr>\n",
              "      <th>RO</th>\n",
              "      <td>35116</td>\n",
              "      <td>0</td>\n",
              "      <td>0</td>\n",
              "      <td>0</td>\n",
              "      <td>0</td>\n",
              "      <td>35116</td>\n",
              "    </tr>\n",
              "    <tr>\n",
              "      <th>RR</th>\n",
              "      <td>7618</td>\n",
              "      <td>0</td>\n",
              "      <td>0</td>\n",
              "      <td>0</td>\n",
              "      <td>0</td>\n",
              "      <td>7618</td>\n",
              "    </tr>\n",
              "    <tr>\n",
              "      <th>RS</th>\n",
              "      <td>0</td>\n",
              "      <td>0</td>\n",
              "      <td>0</td>\n",
              "      <td>133211</td>\n",
              "      <td>0</td>\n",
              "      <td>133211</td>\n",
              "    </tr>\n",
              "    <tr>\n",
              "      <th>SC</th>\n",
              "      <td>0</td>\n",
              "      <td>0</td>\n",
              "      <td>0</td>\n",
              "      <td>64838</td>\n",
              "      <td>0</td>\n",
              "      <td>64838</td>\n",
              "    </tr>\n",
              "    <tr>\n",
              "      <th>SE</th>\n",
              "      <td>0</td>\n",
              "      <td>49659</td>\n",
              "      <td>0</td>\n",
              "      <td>0</td>\n",
              "      <td>0</td>\n",
              "      <td>49659</td>\n",
              "    </tr>\n",
              "    <tr>\n",
              "      <th>SP</th>\n",
              "      <td>0</td>\n",
              "      <td>0</td>\n",
              "      <td>500216</td>\n",
              "      <td>0</td>\n",
              "      <td>0</td>\n",
              "      <td>500216</td>\n",
              "    </tr>\n",
              "    <tr>\n",
              "      <th>TO</th>\n",
              "      <td>27014</td>\n",
              "      <td>0</td>\n",
              "      <td>0</td>\n",
              "      <td>0</td>\n",
              "      <td>0</td>\n",
              "      <td>27014</td>\n",
              "    </tr>\n",
              "    <tr>\n",
              "      <th>All</th>\n",
              "      <td>372467</td>\n",
              "      <td>1112536</td>\n",
              "      <td>1104438</td>\n",
              "      <td>326297</td>\n",
              "      <td>247975</td>\n",
              "      <td>3163713</td>\n",
              "    </tr>\n",
              "  </tbody>\n",
              "</table>\n",
              "</div>\n",
              "      <button class=\"colab-df-convert\" onclick=\"convertToInteractive('df-865cd5f0-f072-4ed4-9693-972158a69309')\"\n",
              "              title=\"Convert this dataframe to an interactive table.\"\n",
              "              style=\"display:none;\">\n",
              "        \n",
              "  <svg xmlns=\"http://www.w3.org/2000/svg\" height=\"24px\"viewBox=\"0 0 24 24\"\n",
              "       width=\"24px\">\n",
              "    <path d=\"M0 0h24v24H0V0z\" fill=\"none\"/>\n",
              "    <path d=\"M18.56 5.44l.94 2.06.94-2.06 2.06-.94-2.06-.94-.94-2.06-.94 2.06-2.06.94zm-11 1L8.5 8.5l.94-2.06 2.06-.94-2.06-.94L8.5 2.5l-.94 2.06-2.06.94zm10 10l.94 2.06.94-2.06 2.06-.94-2.06-.94-.94-2.06-.94 2.06-2.06.94z\"/><path d=\"M17.41 7.96l-1.37-1.37c-.4-.4-.92-.59-1.43-.59-.52 0-1.04.2-1.43.59L10.3 9.45l-7.72 7.72c-.78.78-.78 2.05 0 2.83L4 21.41c.39.39.9.59 1.41.59.51 0 1.02-.2 1.41-.59l7.78-7.78 2.81-2.81c.8-.78.8-2.07 0-2.86zM5.41 20L4 18.59l7.72-7.72 1.47 1.35L5.41 20z\"/>\n",
              "  </svg>\n",
              "      </button>\n",
              "      \n",
              "  <style>\n",
              "    .colab-df-container {\n",
              "      display:flex;\n",
              "      flex-wrap:wrap;\n",
              "      gap: 12px;\n",
              "    }\n",
              "\n",
              "    .colab-df-convert {\n",
              "      background-color: #E8F0FE;\n",
              "      border: none;\n",
              "      border-radius: 50%;\n",
              "      cursor: pointer;\n",
              "      display: none;\n",
              "      fill: #1967D2;\n",
              "      height: 32px;\n",
              "      padding: 0 0 0 0;\n",
              "      width: 32px;\n",
              "    }\n",
              "\n",
              "    .colab-df-convert:hover {\n",
              "      background-color: #E2EBFA;\n",
              "      box-shadow: 0px 1px 2px rgba(60, 64, 67, 0.3), 0px 1px 3px 1px rgba(60, 64, 67, 0.15);\n",
              "      fill: #174EA6;\n",
              "    }\n",
              "\n",
              "    [theme=dark] .colab-df-convert {\n",
              "      background-color: #3B4455;\n",
              "      fill: #D2E3FC;\n",
              "    }\n",
              "\n",
              "    [theme=dark] .colab-df-convert:hover {\n",
              "      background-color: #434B5C;\n",
              "      box-shadow: 0px 1px 3px 1px rgba(0, 0, 0, 0.15);\n",
              "      filter: drop-shadow(0px 1px 2px rgba(0, 0, 0, 0.3));\n",
              "      fill: #FFFFFF;\n",
              "    }\n",
              "  </style>\n",
              "\n",
              "      <script>\n",
              "        const buttonEl =\n",
              "          document.querySelector('#df-865cd5f0-f072-4ed4-9693-972158a69309 button.colab-df-convert');\n",
              "        buttonEl.style.display =\n",
              "          google.colab.kernel.accessAllowed ? 'block' : 'none';\n",
              "\n",
              "        async function convertToInteractive(key) {\n",
              "          const element = document.querySelector('#df-865cd5f0-f072-4ed4-9693-972158a69309');\n",
              "          const dataTable =\n",
              "            await google.colab.kernel.invokeFunction('convertToInteractive',\n",
              "                                                     [key], {});\n",
              "          if (!dataTable) return;\n",
              "\n",
              "          const docLinkHtml = 'Like what you see? Visit the ' +\n",
              "            '<a target=\"_blank\" href=https://colab.research.google.com/notebooks/data_table.ipynb>data table notebook</a>'\n",
              "            + ' to learn more about interactive tables.';\n",
              "          element.innerHTML = '';\n",
              "          dataTable['output_type'] = 'display_data';\n",
              "          await google.colab.output.renderOutput(dataTable, element);\n",
              "          const docLink = document.createElement('div');\n",
              "          docLink.innerHTML = docLinkHtml;\n",
              "          element.appendChild(docLink);\n",
              "        }\n",
              "      </script>\n",
              "    </div>\n",
              "  </div>\n",
              "  "
            ]
          },
          "metadata": {},
          "execution_count": 44
        }
      ]
    },
    {
      "cell_type": "markdown",
      "source": [
        "- SG PROVA"
      ],
      "metadata": {
        "id": "pnrhpPq0mPie"
      }
    },
    {
      "cell_type": "code",
      "source": [
        "gr_uf = {'AC': 1,'AL': 1,'AM': 1,'AP': 1,'MA': 1,'PA': 1,'PI': 1,'RO': 1,'TO': 1,\n",
        "         'BA': 2,'CE': 2,'MT': 2,'PB': 2,'PE': 2,'RR': 2,'SE': 2,\n",
        "         'GO': 3,'MS': 3,'RN': 3,\n",
        "         'DF': 4,'ES': 4,'MG': 4,'PR': 4,'RJ': 4,'RS': 4,'SC': 4,'SP': 4}"
      ],
      "metadata": {
        "id": "ewhEnd1Cd1XA"
      },
      "execution_count": null,
      "outputs": []
    },
    {
      "cell_type": "code",
      "source": [
        "df_ft['SG_UF_PROVA_'] = df_ft['SG_UF_PROVA'].map(gr_uf)"
      ],
      "metadata": {
        "id": "FpyU8Y8lx7cU"
      },
      "execution_count": null,
      "outputs": []
    },
    {
      "cell_type": "code",
      "source": [
        "df_ft.SG_UF_PROVA_.value_counts().sort_index()"
      ],
      "metadata": {
        "id": "Tscl1WYCzV_h",
        "colab": {
          "base_uri": "https://localhost:8080/"
        },
        "outputId": "15e85350-fa2a-4b84-c3f9-c48875be7cd8"
      },
      "execution_count": null,
      "outputs": [
        {
          "output_type": "execute_result",
          "data": {
            "text/plain": [
              "1     647191\n",
              "2     808283\n",
              "3     216602\n",
              "4    1491637\n",
              "Name: SG_UF_PROVA_, dtype: int64"
            ]
          },
          "metadata": {},
          "execution_count": 47
        }
      ]
    },
    {
      "cell_type": "code",
      "source": [
        "# Exemplo\n",
        "# df['Status'] = [\"Senior\" if s >=400 else \"Junior\" for s in df['Salary']]"
      ],
      "metadata": {
        "id": "QQazVOgj1D9S"
      },
      "execution_count": null,
      "outputs": []
    },
    {
      "cell_type": "markdown",
      "source": [
        "# **Recategorização das Variáveis**"
      ],
      "metadata": {
        "id": "6Vg0gzaCnLpo"
      }
    },
    {
      "cell_type": "markdown",
      "source": [
        "- Faixa Etária     "
      ],
      "metadata": {
        "id": "BWpnbgFL024l"
      }
    },
    {
      "cell_type": "code",
      "source": [
        "df_ft.loc[df_ft.TP_FAIXA_ETARIA == 1 ,'TP_FAIXA_ETARIA_']='1'\n",
        "df_ft.loc[df_ft.TP_FAIXA_ETARIA == 2 ,'TP_FAIXA_ETARIA_']='1'\n",
        "df_ft.loc[df_ft.TP_FAIXA_ETARIA == 3 ,'TP_FAIXA_ETARIA_']='2'\n",
        "df_ft.loc[df_ft.TP_FAIXA_ETARIA == 4 ,'TP_FAIXA_ETARIA_']='2'\n",
        "df_ft.loc[df_ft.TP_FAIXA_ETARIA == 5 ,'TP_FAIXA_ETARIA_']='2'\n",
        "df_ft.loc[df_ft.TP_FAIXA_ETARIA == 6 ,'TP_FAIXA_ETARIA_']='3'\n",
        "df_ft.loc[df_ft.TP_FAIXA_ETARIA == 7 ,'TP_FAIXA_ETARIA_']='3'\n",
        "df_ft.loc[df_ft.TP_FAIXA_ETARIA == 8 ,'TP_FAIXA_ETARIA_']='3'\n",
        "df_ft.loc[df_ft.TP_FAIXA_ETARIA == 9 ,'TP_FAIXA_ETARIA_']='3'\n",
        "df_ft.loc[df_ft.TP_FAIXA_ETARIA == 10 ,'TP_FAIXA_ETARIA_']='3'\n",
        "df_ft.loc[df_ft.TP_FAIXA_ETARIA == 11 ,'TP_FAIXA_ETARIA_']='3'\n",
        "df_ft.loc[df_ft.TP_FAIXA_ETARIA == 12 ,'TP_FAIXA_ETARIA_']='4'\n",
        "df_ft.loc[df_ft.TP_FAIXA_ETARIA == 13 ,'TP_FAIXA_ETARIA_']='4'\n",
        "df_ft.loc[df_ft.TP_FAIXA_ETARIA == 14 ,'TP_FAIXA_ETARIA_']='5'\n",
        "df_ft.loc[df_ft.TP_FAIXA_ETARIA == 15 ,'TP_FAIXA_ETARIA_']='5'\n",
        "df_ft.loc[df_ft.TP_FAIXA_ETARIA == 16 ,'TP_FAIXA_ETARIA_']='5'\n",
        "df_ft.loc[df_ft.TP_FAIXA_ETARIA == 17 ,'TP_FAIXA_ETARIA_']='5'\n",
        "df_ft.loc[df_ft.TP_FAIXA_ETARIA == 18 ,'TP_FAIXA_ETARIA_']='5'\n",
        "df_ft.loc[df_ft.TP_FAIXA_ETARIA == 19 ,'TP_FAIXA_ETARIA_']='5'\n",
        "df_ft.loc[df_ft.TP_FAIXA_ETARIA == 20 ,'TP_FAIXA_ETARIA_']='5'"
      ],
      "metadata": {
        "id": "FvCuzryJWUzm"
      },
      "execution_count": null,
      "outputs": []
    },
    {
      "cell_type": "markdown",
      "source": [
        "- Estado Civil"
      ],
      "metadata": {
        "id": "LznZJtzeAjgu"
      }
    },
    {
      "cell_type": "code",
      "source": [
        "df_ft.loc[df_ft.TP_ESTADO_CIVIL == 0 ,'TP_ESTADO_CIVIL_']='1'\n",
        "df_ft.loc[df_ft.TP_ESTADO_CIVIL == 1 ,'TP_ESTADO_CIVIL_']='2'\n",
        "df_ft.loc[df_ft.TP_ESTADO_CIVIL == 2 ,'TP_ESTADO_CIVIL_']='3'\n",
        "df_ft.loc[df_ft.TP_ESTADO_CIVIL == 3 ,'TP_ESTADO_CIVIL_']='3'\n",
        "df_ft.loc[df_ft.TP_ESTADO_CIVIL == 4 ,'TP_ESTADO_CIVIL_']='3'"
      ],
      "metadata": {
        "id": "1xH94aYNBPXX"
      },
      "execution_count": null,
      "outputs": []
    },
    {
      "cell_type": "markdown",
      "source": [
        "- Cor/Raça"
      ],
      "metadata": {
        "id": "jaPsnY6MB614"
      }
    },
    {
      "cell_type": "code",
      "source": [
        "df_ft.loc[df_ft.TP_COR_RACA == 0 ,'TP_COR_RACA_']='1'\n",
        "df_ft.loc[df_ft.TP_COR_RACA == 1 ,'TP_COR_RACA_']='2'\n",
        "df_ft.loc[df_ft.TP_COR_RACA == 2 ,'TP_COR_RACA_']='3'\n",
        "df_ft.loc[df_ft.TP_COR_RACA == 3 ,'TP_COR_RACA_']='3'\n",
        "df_ft.loc[df_ft.TP_COR_RACA == 4 ,'TP_COR_RACA_']='4'\n",
        "df_ft.loc[df_ft.TP_COR_RACA == 5 ,'TP_COR_RACA_']='5'\n",
        "df_ft.loc[df_ft.TP_COR_RACA == 6 ,'TP_COR_RACA_']='1'"
      ],
      "metadata": {
        "id": "4bV8KM8YCgby"
      },
      "execution_count": null,
      "outputs": []
    },
    {
      "cell_type": "markdown",
      "source": [
        "- Ano que concluiu"
      ],
      "metadata": {
        "id": "GPMpHLO6PAnv"
      }
    },
    {
      "cell_type": "code",
      "source": [
        "df_ft.loc[df_ft.TP_ANO_CONCLUIU == 0 ,'TP_ANO_CONCLUIU_']='1'\n",
        "df_ft.loc[df_ft.TP_ANO_CONCLUIU == 1 ,'TP_ANO_CONCLUIU_']='2'\n",
        "df_ft.loc[df_ft.TP_ANO_CONCLUIU == 2 ,'TP_ANO_CONCLUIU_']='2'\n",
        "df_ft.loc[df_ft.TP_ANO_CONCLUIU == 3 ,'TP_ANO_CONCLUIU_']='3'\n",
        "df_ft.loc[df_ft.TP_ANO_CONCLUIU == 4 ,'TP_ANO_CONCLUIU_']='3'\n",
        "df_ft.loc[df_ft.TP_ANO_CONCLUIU == 5 ,'TP_ANO_CONCLUIU_']='3'\n",
        "df_ft.loc[df_ft.TP_ANO_CONCLUIU == 6 ,'TP_ANO_CONCLUIU_']='4'\n",
        "df_ft.loc[df_ft.TP_ANO_CONCLUIU == 7 ,'TP_ANO_CONCLUIU_']='4'\n",
        "df_ft.loc[df_ft.TP_ANO_CONCLUIU == 8 ,'TP_ANO_CONCLUIU_']='4'\n",
        "df_ft.loc[df_ft.TP_ANO_CONCLUIU == 9 ,'TP_ANO_CONCLUIU_']='5'\n",
        "df_ft.loc[df_ft.TP_ANO_CONCLUIU == 10 ,'TP_ANO_CONCLUIU_']='5'\n",
        "df_ft.loc[df_ft.TP_ANO_CONCLUIU == 11 ,'TP_ANO_CONCLUIU_']='5'\n",
        "df_ft.loc[df_ft.TP_ANO_CONCLUIU == 12 ,'TP_ANO_CONCLUIU_']='6'\n",
        "df_ft.loc[df_ft.TP_ANO_CONCLUIU == 13 ,'TP_ANO_CONCLUIU_']='6'\n",
        "df_ft.loc[df_ft.TP_ANO_CONCLUIU == 14 ,'TP_ANO_CONCLUIU_']='6'\n",
        "df_ft.loc[df_ft.TP_ANO_CONCLUIU == 15 ,'TP_ANO_CONCLUIU_']='6'\n",
        "df_ft.loc[df_ft.TP_ANO_CONCLUIU == 16 ,'TP_ANO_CONCLUIU_']='6'"
      ],
      "metadata": {
        "id": "gb-147ngPfhs"
      },
      "execution_count": null,
      "outputs": []
    },
    {
      "cell_type": "markdown",
      "source": [
        "- Tipo de Escola"
      ],
      "metadata": {
        "id": "Ehxbnf7PQ9n9"
      }
    },
    {
      "cell_type": "code",
      "source": [
        "df_ft.loc[df_ft.TP_ESCOLA == 1 ,'TP_ESCOLA_']='1'\n",
        "df_ft.loc[df_ft.TP_ESCOLA == 2 ,'TP_ESCOLA_']='2'\n",
        "df_ft.loc[df_ft.TP_ESCOLA == 3 ,'TP_ESCOLA_']='3'\n",
        "df_ft.loc[df_ft.TP_ESCOLA == 4 ,'TP_ESCOLA_']='1'"
      ],
      "metadata": {
        "id": "YskTTCSbSi9V"
      },
      "execution_count": null,
      "outputs": []
    },
    {
      "cell_type": "markdown",
      "source": [
        "- Tipo de Ensino"
      ],
      "metadata": {
        "id": "Y39fm66cT2SV"
      }
    },
    {
      "cell_type": "code",
      "source": [
        "df_ft.loc[df_ft.TP_ENSINO == 1 ,'TP_ENSINO_']='1'\n",
        "df_ft.loc[df_ft.TP_ENSINO == 2 ,'TP_ENSINO_']='2'\n",
        "df_ft.loc[df_ft.TP_ENSINO == 3 ,'TP_ENSINO_']='2'\n",
        "df_ft.loc[df_ft.TP_ENSINO == 9 ,'TP_ENSINO_']='9'"
      ],
      "metadata": {
        "id": "Ws2VGMEwUcRV"
      },
      "execution_count": null,
      "outputs": []
    },
    {
      "cell_type": "markdown",
      "source": [
        "- Quantidade de Moradores na Residência"
      ],
      "metadata": {
        "id": "xaFjwhgur8wx"
      }
    },
    {
      "cell_type": "code",
      "source": [
        "df_ft.loc[df_ft.Q005 == 1 ,'Q005_']='1'\n",
        "df_ft.loc[df_ft.Q005 == 2 ,'Q005_']='1'\n",
        "df_ft.loc[df_ft.Q005 == 3 ,'Q005_']='1'\n",
        "df_ft.loc[df_ft.Q005 == 4 ,'Q005_']='1'\n",
        "df_ft.loc[df_ft.Q005 == 5 ,'Q005_']='2'\n",
        "df_ft.loc[df_ft.Q005 == 6 ,'Q005_']='3'\n",
        "df_ft.loc[df_ft.Q005 == 7 ,'Q005_']='4'\n",
        "df_ft.loc[df_ft.Q005 == 8 ,'Q005_']='5'\n",
        "df_ft.loc[df_ft.Q005 == 9 ,'Q005_']='5'\n",
        "df_ft.loc[df_ft.Q005 == 10 ,'Q005_']='5'\n",
        "df_ft.loc[df_ft.Q005 == 11 ,'Q005_']='5'\n",
        "df_ft.loc[df_ft.Q005 == 12 ,'Q005_']='5'\n",
        "df_ft.loc[df_ft.Q005 == 13 ,'Q005_']='5'\n",
        "df_ft.loc[df_ft.Q005 == 14 ,'Q005_']='5'\n",
        "df_ft.loc[df_ft.Q005 == 15 ,'Q005_']='5'\n",
        "df_ft.loc[df_ft.Q005 == 16 ,'Q005_']='5'\n",
        "df_ft.loc[df_ft.Q005 == 17 ,'Q005_']='5'\n",
        "df_ft.loc[df_ft.Q005 == 18 ,'Q005_']='5'\n",
        "df_ft.loc[df_ft.Q005 == 19 ,'Q005_']='5'\n",
        "df_ft.loc[df_ft.Q005 == 20 ,'Q005_']='5'"
      ],
      "metadata": {
        "id": "DI5SVBvgsAW-"
      },
      "execution_count": null,
      "outputs": []
    },
    {
      "cell_type": "markdown",
      "source": [
        "- Renda"
      ],
      "metadata": {
        "id": "_G3MiZ6AtUKI"
      }
    },
    {
      "cell_type": "code",
      "source": [
        "df_ft.loc[df_ft.Q006 == 'A' ,'Q006_']='1'\n",
        "df_ft.loc[df_ft.Q006 == 'B' ,'Q006_']='2'\n",
        "df_ft.loc[df_ft.Q006 == 'C' ,'Q006_']='3'\n",
        "df_ft.loc[df_ft.Q006 == 'D' ,'Q006_']='4'\n",
        "df_ft.loc[df_ft.Q006 == 'E' ,'Q006_']='5'\n",
        "df_ft.loc[df_ft.Q006 == 'F' ,'Q006_']='6'\n",
        "df_ft.loc[df_ft.Q006 == 'G' ,'Q006_']='6'\n",
        "df_ft.loc[df_ft.Q006 == 'H' ,'Q006_']='7'\n",
        "df_ft.loc[df_ft.Q006 == 'I' ,'Q006_']='7'\n",
        "df_ft.loc[df_ft.Q006 == 'J' ,'Q006_']='8'\n",
        "df_ft.loc[df_ft.Q006 == 'K' ,'Q006_']='8'\n",
        "df_ft.loc[df_ft.Q006 == 'L' ,'Q006_']='9'\n",
        "df_ft.loc[df_ft.Q006 == 'M' ,'Q006_']='9'\n",
        "df_ft.loc[df_ft.Q006 == 'N' ,'Q006_']='10'\n",
        "df_ft.loc[df_ft.Q006 == 'O' ,'Q006_']='10'\n",
        "df_ft.loc[df_ft.Q006 == 'P' ,'Q006_']='10'\n",
        "df_ft.loc[df_ft.Q006 == 'Q' ,'Q006_']='10'"
      ],
      "metadata": {
        "id": "jmnD8XO0tUUS"
      },
      "execution_count": null,
      "outputs": []
    },
    {
      "cell_type": "markdown",
      "source": [
        "- Ter Empregada Doméstica"
      ],
      "metadata": {
        "id": "RFzwvvhIvHc4"
      }
    },
    {
      "cell_type": "code",
      "source": [
        "df_ft.loc[df_ft.Q007 == 'A' ,'Q007_']='1'\n",
        "df_ft.loc[df_ft.Q007 == 'B' ,'Q007_']='2'\n",
        "df_ft.loc[df_ft.Q007 == 'C' ,'Q007_']='2'\n",
        "df_ft.loc[df_ft.Q007 == 'D' ,'Q007_']='2'"
      ],
      "metadata": {
        "id": "MAVGaCpevHmZ"
      },
      "execution_count": null,
      "outputs": []
    },
    {
      "cell_type": "markdown",
      "source": [
        "- Qtde de Banheiros"
      ],
      "metadata": {
        "id": "KmYHiLuzwGIj"
      }
    },
    {
      "cell_type": "code",
      "source": [
        "df_ft.loc[df_ft.Q008 == 'A' ,'Q008_']='1'\n",
        "df_ft.loc[df_ft.Q008 == 'B' ,'Q008_']='1'\n",
        "df_ft.loc[df_ft.Q008 == 'C' ,'Q008_']='2'\n",
        "df_ft.loc[df_ft.Q008 == 'D' ,'Q008_']='3'\n",
        "df_ft.loc[df_ft.Q008 == 'E' ,'Q008_']='4'"
      ],
      "metadata": {
        "id": "AfXP2wY0wGSm"
      },
      "execution_count": null,
      "outputs": []
    },
    {
      "cell_type": "markdown",
      "source": [
        "- Qtde de Quartos"
      ],
      "metadata": {
        "id": "0wsN9ifSwuYc"
      }
    },
    {
      "cell_type": "code",
      "source": [
        "df_ft.loc[df_ft.Q009 == 'A' ,'Q009_']='1'\n",
        "df_ft.loc[df_ft.Q009 == 'B' ,'Q009_']='1'\n",
        "df_ft.loc[df_ft.Q009 == 'C' ,'Q009_']='2'\n",
        "df_ft.loc[df_ft.Q009 == 'D' ,'Q009_']='3'\n",
        "df_ft.loc[df_ft.Q009 == 'E' ,'Q009_']='4'"
      ],
      "metadata": {
        "id": "RdhjBpzuwuhC"
      },
      "execution_count": null,
      "outputs": []
    },
    {
      "cell_type": "markdown",
      "source": [
        "- Qtde de Carros"
      ],
      "metadata": {
        "id": "tsLiUC7VxNoN"
      }
    },
    {
      "cell_type": "code",
      "source": [
        "df_ft.loc[df_ft.Q010 == 'A' ,'Q010_']='1'\n",
        "df_ft.loc[df_ft.Q010 == 'B' ,'Q010_']='2'\n",
        "df_ft.loc[df_ft.Q010 == 'C' ,'Q010_']='3'\n",
        "df_ft.loc[df_ft.Q010 == 'D' ,'Q010_']='4'\n",
        "df_ft.loc[df_ft.Q010 == 'E' ,'Q010_']='4'"
      ],
      "metadata": {
        "id": "2TLqMB63xNwx"
      },
      "execution_count": null,
      "outputs": []
    },
    {
      "cell_type": "markdown",
      "source": [
        "- Qtde de Motos"
      ],
      "metadata": {
        "id": "MIe-ytOlxqzh"
      }
    },
    {
      "cell_type": "code",
      "source": [
        "df_ft.loc[df_ft.Q011 == 'A' ,'Q011_']='1'\n",
        "df_ft.loc[df_ft.Q011 == 'B' ,'Q011_']='2'\n",
        "df_ft.loc[df_ft.Q011 == 'C' ,'Q011_']='3'\n",
        "df_ft.loc[df_ft.Q011 == 'D' ,'Q011_']='3'\n",
        "df_ft.loc[df_ft.Q011 == 'E' ,'Q011_']='3'"
      ],
      "metadata": {
        "id": "XsBLvQ4Lxq8U"
      },
      "execution_count": null,
      "outputs": []
    },
    {
      "cell_type": "markdown",
      "source": [
        "- Qtde de Geladeiras"
      ],
      "metadata": {
        "id": "BMHN5x5tyowt"
      }
    },
    {
      "cell_type": "code",
      "source": [
        "df_ft.loc[df_ft.Q012 == 'A' ,'Q012_']='1'\n",
        "df_ft.loc[df_ft.Q012 == 'B' ,'Q012_']='2'\n",
        "df_ft.loc[df_ft.Q012 == 'C' ,'Q012_']='3'\n",
        "df_ft.loc[df_ft.Q012 == 'D' ,'Q012_']='3'\n",
        "df_ft.loc[df_ft.Q012 == 'E' ,'Q012_']='3'"
      ],
      "metadata": {
        "id": "ppl49W2hyo8C"
      },
      "execution_count": null,
      "outputs": []
    },
    {
      "cell_type": "markdown",
      "source": [
        "- Qtde de Freezer"
      ],
      "metadata": {
        "id": "YgSjY8HQy5dE"
      }
    },
    {
      "cell_type": "code",
      "source": [
        "df_ft.loc[df_ft.Q013 == 'A' ,'Q013_']='1'\n",
        "df_ft.loc[df_ft.Q013 == 'B' ,'Q013_']='2'\n",
        "df_ft.loc[df_ft.Q013 == 'C' ,'Q013_']='3'\n",
        "df_ft.loc[df_ft.Q013 == 'D' ,'Q013_']='3'\n",
        "df_ft.loc[df_ft.Q013 == 'E' ,'Q013_']='3'"
      ],
      "metadata": {
        "id": "Ual5LhU4y5qR"
      },
      "execution_count": null,
      "outputs": []
    },
    {
      "cell_type": "markdown",
      "source": [
        "- Qtde de Lavadora de Roupa"
      ],
      "metadata": {
        "id": "kfvX_DZCzgww"
      }
    },
    {
      "cell_type": "code",
      "source": [
        "df_ft.loc[df_ft.Q014 == 'A' ,'Q014_']='1'\n",
        "df_ft.loc[df_ft.Q014 == 'B' ,'Q014_']='2'\n",
        "df_ft.loc[df_ft.Q014 == 'C' ,'Q014_']='3'\n",
        "df_ft.loc[df_ft.Q014 == 'D' ,'Q014_']='3'\n",
        "df_ft.loc[df_ft.Q014 == 'E' ,'Q014_']='3'"
      ],
      "metadata": {
        "id": "qujTGuRMzg7X"
      },
      "execution_count": null,
      "outputs": []
    },
    {
      "cell_type": "markdown",
      "source": [
        "- Qtde de Secadora de Roupa"
      ],
      "metadata": {
        "id": "bUdAlDA9z-lI"
      }
    },
    {
      "cell_type": "code",
      "source": [
        "df_ft.loc[df_ft.Q015 == 'A' ,'Q015_']='1'\n",
        "df_ft.loc[df_ft.Q015 == 'B' ,'Q015_']='2'\n",
        "df_ft.loc[df_ft.Q015 == 'C' ,'Q015_']='2'\n",
        "df_ft.loc[df_ft.Q015 == 'D' ,'Q015_']='2'\n",
        "df_ft.loc[df_ft.Q015 == 'E' ,'Q015_']='2'"
      ],
      "metadata": {
        "id": "Pm1MyRT8z-tX"
      },
      "execution_count": null,
      "outputs": []
    },
    {
      "cell_type": "markdown",
      "source": [
        "- Qtde de Microondas"
      ],
      "metadata": {
        "id": "SJOillJJ0Vxn"
      }
    },
    {
      "cell_type": "code",
      "source": [
        "df_ft.loc[df_ft.Q016 == 'A' ,'Q016_']='1'\n",
        "df_ft.loc[df_ft.Q016 == 'B' ,'Q016_']='2'\n",
        "df_ft.loc[df_ft.Q016 == 'C' ,'Q016_']='2'\n",
        "df_ft.loc[df_ft.Q016 == 'D' ,'Q016_']='2'\n",
        "df_ft.loc[df_ft.Q016 == 'E' ,'Q016_']='2'"
      ],
      "metadata": {
        "id": "cXqQdRPh0V4K"
      },
      "execution_count": null,
      "outputs": []
    },
    {
      "cell_type": "markdown",
      "source": [
        "- Qtde de Lavadora de Louças"
      ],
      "metadata": {
        "id": "5I-6DAVu0lyu"
      }
    },
    {
      "cell_type": "code",
      "source": [
        "df_ft.loc[df_ft.Q017 == 'A' ,'Q017_']='1'\n",
        "df_ft.loc[df_ft.Q017 == 'B' ,'Q017_']='2'\n",
        "df_ft.loc[df_ft.Q017 == 'C' ,'Q017_']='2'\n",
        "df_ft.loc[df_ft.Q017 == 'D' ,'Q017_']='2'\n",
        "df_ft.loc[df_ft.Q017 == 'E' ,'Q017_']='2'"
      ],
      "metadata": {
        "id": "QtCOPNZq0l7q"
      },
      "execution_count": null,
      "outputs": []
    },
    {
      "cell_type": "markdown",
      "source": [
        "- Qtde de TVs"
      ],
      "metadata": {
        "id": "qnUe4FCF1I4V"
      }
    },
    {
      "cell_type": "code",
      "source": [
        "df_ft.loc[df_ft.Q019 == 'A' ,'Q019_']='1'\n",
        "df_ft.loc[df_ft.Q019 == 'B' ,'Q019_']='2'\n",
        "df_ft.loc[df_ft.Q019 == 'C' ,'Q019_']='3'\n",
        "df_ft.loc[df_ft.Q019 == 'D' ,'Q019_']='4'\n",
        "df_ft.loc[df_ft.Q019 == 'E' ,'Q019_']='5'"
      ],
      "metadata": {
        "id": "SAoC34rG02IY"
      },
      "execution_count": null,
      "outputs": []
    },
    {
      "cell_type": "markdown",
      "source": [
        "- Qtde de computadores"
      ],
      "metadata": {
        "id": "rUTcrnjT2cHU"
      }
    },
    {
      "cell_type": "code",
      "source": [
        "df_ft.loc[df_ft.Q024 == 'A' ,'Q024_']='1'\n",
        "df_ft.loc[df_ft.Q024 == 'B' ,'Q024_']='2'\n",
        "df_ft.loc[df_ft.Q024 == 'C' ,'Q024_']='3'\n",
        "df_ft.loc[df_ft.Q024 == 'D' ,'Q024_']='4'\n",
        "df_ft.loc[df_ft.Q024 == 'E' ,'Q024_']='4'"
      ],
      "metadata": {
        "id": "Rs9iwMXf2cOn"
      },
      "execution_count": null,
      "outputs": []
    },
    {
      "cell_type": "markdown",
      "source": [
        "# **Definição de Variáveis**"
      ],
      "metadata": {
        "id": "hiBS1KNcEI1M"
      }
    },
    {
      "cell_type": "code",
      "source": [
        "df_ft.columns"
      ],
      "metadata": {
        "id": "jmWQjMy2zXqd",
        "colab": {
          "base_uri": "https://localhost:8080/"
        },
        "outputId": "ae05e488-20b4-4b5e-8b53-6ed8fc8c126b"
      },
      "execution_count": null,
      "outputs": [
        {
          "output_type": "execute_result",
          "data": {
            "text/plain": [
              "Index(['NU_INSCRICAO', 'NU_ANO', 'TP_FAIXA_ETARIA', 'TP_SEXO',\n",
              "       'TP_ESTADO_CIVIL', 'TP_COR_RACA', 'TP_ST_CONCLUSAO', 'TP_ANO_CONCLUIU',\n",
              "       'TP_ESCOLA', 'TP_ENSINO',\n",
              "       ...\n",
              "       'Q005_', 'Q006_', 'Q012_', 'Q013_', 'Q014_', 'Q015_', 'Q016_', 'Q017_',\n",
              "       'Q019_', 'Q024_'],\n",
              "      dtype='object', length=108)"
            ]
          },
          "metadata": {},
          "execution_count": 70
        }
      ]
    },
    {
      "cell_type": "code",
      "source": [
        "df_varquali = df_ft[['TP_FAIXA_ETARIA','TP_FAIXA_ETARIA_',\n",
        "                     'TP_SEXO',\n",
        "                     'TP_ESTADO_CIVIL', 'TP_ESTADO_CIVIL_',\n",
        "                     'TP_COR_RACA', 'TP_COR_RACA_',\n",
        "                     'TP_ESCOLA', 'TP_ESCOLA_',\n",
        "                     'TP_ENSINO', 'TP_ENSINO_',\n",
        "                     'SG_UF_ESC',\n",
        "                     'SG_UF_PROVA', 'SG_UF_PROVA_',\n",
        "                     'TP_ANO_CONCLUIU', 'TP_ANO_CONCLUIU_',\n",
        "                     'TP_LINGUA',\n",
        "                     'Q001',\n",
        "                     'Q002',\n",
        "                     'Q003',\n",
        "                     'Q004',\n",
        "                     'Q005', 'Q005_',\n",
        "                     'Q006', 'Q006_',\n",
        "                     'Q007', 'Q007_',\n",
        "                     'Q008', 'Q008_',\n",
        "                     'Q009', 'Q009_',\n",
        "                     'Q010', 'Q010_',\n",
        "                     'Q011', 'Q011_',\n",
        "                     'Q012', 'Q012_',\n",
        "                     'Q013', 'Q013_',\n",
        "                     'Q014', 'Q014_',\n",
        "                     'Q015', 'Q015_',\n",
        "                     'Q016', 'Q016_',\n",
        "                     'Q017', 'Q017_',\n",
        "                     'Q018',\n",
        "                     'Q019', 'Q019_',\n",
        "                     'Q020',\n",
        "                     'Q021',\n",
        "                     'Q022',\n",
        "                     'Q023',\n",
        "                     'Q024', 'Q024_',\n",
        "                     'Q025',\n",
        "                     'Sum_TIC3', 'Sum_TIC3_',\n",
        "                     'Sum_TIC5', 'Sum_TIC5_',\n",
        "                     'Sum_Elet', 'Sum_Elet_',\n",
        "                     'Esc_Max',\n",
        "                     'Car_Mot', 'Car_Mot_',\n",
        "                     'Tot_PtCasa', 'Tot_PtCasa_',\n",
        "                     'RegGeo_Prova',\n",
        "                     'Ter_Cel', 'Ter_Com',\n",
        "                     'Sum_Target_2']]"
      ],
      "metadata": {
        "id": "Kq_8tKS0dbKs"
      },
      "execution_count": null,
      "outputs": []
    },
    {
      "cell_type": "code",
      "source": [
        "df_varquali.info()"
      ],
      "metadata": {
        "id": "ZCCRs5MxUbly",
        "colab": {
          "base_uri": "https://localhost:8080/"
        },
        "outputId": "aca014e5-6da3-4ee4-c1bb-b6cc5efa3bbb"
      },
      "execution_count": null,
      "outputs": [
        {
          "output_type": "stream",
          "name": "stdout",
          "text": [
            "<class 'pandas.core.frame.DataFrame'>\n",
            "RangeIndex: 3163713 entries, 0 to 3163712\n",
            "Data columns (total 72 columns):\n",
            " #   Column            Dtype  \n",
            "---  ------            -----  \n",
            " 0   TP_FAIXA_ETARIA   int64  \n",
            " 1   TP_FAIXA_ETARIA_  object \n",
            " 2   TP_SEXO           object \n",
            " 3   TP_ESTADO_CIVIL   int64  \n",
            " 4   TP_ESTADO_CIVIL_  object \n",
            " 5   TP_COR_RACA       int64  \n",
            " 6   TP_COR_RACA_      object \n",
            " 7   TP_ESCOLA         int64  \n",
            " 8   TP_ESCOLA_        object \n",
            " 9   TP_ENSINO         int64  \n",
            " 10  TP_ENSINO_        object \n",
            " 11  SG_UF_ESC         object \n",
            " 12  SG_UF_PROVA       object \n",
            " 13  SG_UF_PROVA_      int64  \n",
            " 14  TP_ANO_CONCLUIU   int64  \n",
            " 15  TP_ANO_CONCLUIU_  object \n",
            " 16  TP_LINGUA         int64  \n",
            " 17  Q001              object \n",
            " 18  Q002              object \n",
            " 19  Q003              object \n",
            " 20  Q004              object \n",
            " 21  Q005              float64\n",
            " 22  Q005_             object \n",
            " 23  Q006              object \n",
            " 24  Q006_             object \n",
            " 25  Q007              object \n",
            " 26  Q007_             object \n",
            " 27  Q008              object \n",
            " 28  Q008_             object \n",
            " 29  Q009              object \n",
            " 30  Q009_             object \n",
            " 31  Q010              object \n",
            " 32  Q010_             object \n",
            " 33  Q011              object \n",
            " 34  Q011_             object \n",
            " 35  Q012              object \n",
            " 36  Q012_             object \n",
            " 37  Q013              object \n",
            " 38  Q013_             object \n",
            " 39  Q014              object \n",
            " 40  Q014_             object \n",
            " 41  Q015              object \n",
            " 42  Q015_             object \n",
            " 43  Q016              object \n",
            " 44  Q016_             object \n",
            " 45  Q017              object \n",
            " 46  Q017_             object \n",
            " 47  Q018              object \n",
            " 48  Q019              object \n",
            " 49  Q019_             object \n",
            " 50  Q020              object \n",
            " 51  Q021              object \n",
            " 52  Q022              object \n",
            " 53  Q023              object \n",
            " 54  Q024              object \n",
            " 55  Q024_             object \n",
            " 56  Q025              object \n",
            " 57  Sum_TIC3          int64  \n",
            " 58  Sum_TIC3_         object \n",
            " 59  Sum_TIC5          int64  \n",
            " 60  Sum_TIC5_         object \n",
            " 61  Sum_Elet          int64  \n",
            " 62  Sum_Elet_         object \n",
            " 63  Esc_Max           object \n",
            " 64  Car_Mot           object \n",
            " 65  Car_Mot_          object \n",
            " 66  Tot_PtCasa        int64  \n",
            " 67  Tot_PtCasa_       object \n",
            " 68  RegGeo_Prova      object \n",
            " 69  Ter_Cel           int64  \n",
            " 70  Ter_Com           int64  \n",
            " 71  Sum_Target_2      int64  \n",
            "dtypes: float64(1), int64(15), object(56)\n",
            "memory usage: 1.7+ GB\n"
          ]
        }
      ]
    },
    {
      "cell_type": "markdown",
      "source": [
        "# **Análise das Categorias das Variáveis**"
      ],
      "metadata": {
        "id": "2YndI83d0Yzj"
      }
    },
    {
      "cell_type": "code",
      "source": [
        "table_categ = pd.DataFrame()\n",
        "totais_valid = pd.DataFrame()\n",
        "i = 0\n",
        "\n",
        "for column in df_varquali:\n",
        "  var = df_varquali.columns[i]\n",
        "  c1 = df_varquali[column].value_counts().sort_index()\n",
        "  c2 = round(df_varquali[column].value_counts().sort_index()/df_varquali.shape[0] * 100,2)\n",
        "  c3 = df_varquali.groupby([column])['Sum_Target_2'].sum()\n",
        "  c4 = round(c3/df_ft['Sum_Target_2'].sum() * 100, 2)\n",
        "  c5 = c1 - c3\n",
        "  c6 = round(c5/df_ft['Sum_Target_2'].loc[df_ft.Sum_Target_2 == 0].count() * 100, 2)\n",
        "  c7 = round(c3/c1 * 100, 2)\n",
        "  c8 = round(c4/c6,2)\n",
        "\n",
        "  table = pd.concat([c1, c2, c3, c4, c5, c6, c7, c8], axis=1)\n",
        "  table.columns = ['n', '% Total', 'n AD', '% AD Total','n BD', '% BD Total', '% AD Categoria', 'Razão AD/BD']\n",
        "\n",
        "  totais = round(table.sum())\n",
        "  totais_ = pd.DataFrame(data=totais, columns=['Total'])\n",
        "  totais_t = totais_.transpose()\n",
        "  totais_valid = pd.concat([totais_valid, totais_t])\n",
        "\n",
        "  table['Variavel'] = var\n",
        "  table_categ = pd.concat([table_categ, table])\n",
        "  i = i + 1\n",
        "\n",
        "  #n = table_categ.shape\n",
        "  #table_categ.loc[n[0]+1]=['','','','','',''] # Criar linha vazia entre as tabelas\n",
        "\n",
        "table_categ['Ano'] = 2019\n",
        "\n",
        "table_categ.to_excel('/content/drive/MyDrive/MBA_TCC/RESULTADOS/Table_Categorias_2019.xlsx')\n",
        "totais_valid.to_excel('/content/drive/MyDrive/MBA_TCC/RESULTADOS/Totais_Table_Categorias_2019.xlsx')"
      ],
      "metadata": {
        "id": "axxA261-eBba"
      },
      "execution_count": null,
      "outputs": []
    },
    {
      "cell_type": "markdown",
      "source": [
        "# **Análises Adicionais**"
      ],
      "metadata": {
        "id": "ECCS8445owAd"
      }
    },
    {
      "cell_type": "code",
      "source": [
        "df_teste = df_ft.loc[df_ft['Sum_Target_2'] == 1]\n",
        "df_teste.shape"
      ],
      "metadata": {
        "id": "wzEdYZ4TpOGi",
        "colab": {
          "base_uri": "https://localhost:8080/"
        },
        "outputId": "80c84527-9996-4f77-96ee-fb06893ccbfa"
      },
      "execution_count": null,
      "outputs": [
        {
          "output_type": "execute_result",
          "data": {
            "text/plain": [
              "(1536054, 108)"
            ]
          },
          "metadata": {},
          "execution_count": 74
        }
      ]
    },
    {
      "cell_type": "code",
      "source": [
        "pd.crosstab(df_ft.TP_FAIXA_ETARIA,df_ft.TP_ST_CONCLUSAO, margins=True, dropna=False)"
      ],
      "metadata": {
        "id": "fppQXkH9o26H",
        "colab": {
          "base_uri": "https://localhost:8080/",
          "height": 739
        },
        "outputId": "d90157ab-20c9-4fc7-8320-aa0f02765cb6"
      },
      "execution_count": null,
      "outputs": [
        {
          "output_type": "execute_result",
          "data": {
            "text/plain": [
              "TP_ST_CONCLUSAO        1        2      All\n",
              "TP_FAIXA_ETARIA                           \n",
              "1                    854    25455    26309\n",
              "2                  16878   559200   576078\n",
              "3                 235003   447316   682319\n",
              "4                 316270   106914   423184\n",
              "5                 249789    33419   283208\n",
              "6                 178761    11448   190209\n",
              "7                 140598     5844   146442\n",
              "8                 109897     3703   113600\n",
              "9                  88705     2842    91547\n",
              "10                 70767     2107    72874\n",
              "11                215596     6493   222089\n",
              "12                123031     4099   127130\n",
              "13                 84812     3028    87840\n",
              "14                 51495     2165    53660\n",
              "15                 32094     1455    33549\n",
              "16                 18263      906    19169\n",
              "17                  8842      443     9285\n",
              "18                  3351      198     3549\n",
              "19                  1176       74     1250\n",
              "20                   409       13      422\n",
              "All              1946591  1217122  3163713"
            ],
            "text/html": [
              "\n",
              "  <div id=\"df-45955de5-d93f-43f1-854b-4081a5179a4b\">\n",
              "    <div class=\"colab-df-container\">\n",
              "      <div>\n",
              "<style scoped>\n",
              "    .dataframe tbody tr th:only-of-type {\n",
              "        vertical-align: middle;\n",
              "    }\n",
              "\n",
              "    .dataframe tbody tr th {\n",
              "        vertical-align: top;\n",
              "    }\n",
              "\n",
              "    .dataframe thead th {\n",
              "        text-align: right;\n",
              "    }\n",
              "</style>\n",
              "<table border=\"1\" class=\"dataframe\">\n",
              "  <thead>\n",
              "    <tr style=\"text-align: right;\">\n",
              "      <th>TP_ST_CONCLUSAO</th>\n",
              "      <th>1</th>\n",
              "      <th>2</th>\n",
              "      <th>All</th>\n",
              "    </tr>\n",
              "    <tr>\n",
              "      <th>TP_FAIXA_ETARIA</th>\n",
              "      <th></th>\n",
              "      <th></th>\n",
              "      <th></th>\n",
              "    </tr>\n",
              "  </thead>\n",
              "  <tbody>\n",
              "    <tr>\n",
              "      <th>1</th>\n",
              "      <td>854</td>\n",
              "      <td>25455</td>\n",
              "      <td>26309</td>\n",
              "    </tr>\n",
              "    <tr>\n",
              "      <th>2</th>\n",
              "      <td>16878</td>\n",
              "      <td>559200</td>\n",
              "      <td>576078</td>\n",
              "    </tr>\n",
              "    <tr>\n",
              "      <th>3</th>\n",
              "      <td>235003</td>\n",
              "      <td>447316</td>\n",
              "      <td>682319</td>\n",
              "    </tr>\n",
              "    <tr>\n",
              "      <th>4</th>\n",
              "      <td>316270</td>\n",
              "      <td>106914</td>\n",
              "      <td>423184</td>\n",
              "    </tr>\n",
              "    <tr>\n",
              "      <th>5</th>\n",
              "      <td>249789</td>\n",
              "      <td>33419</td>\n",
              "      <td>283208</td>\n",
              "    </tr>\n",
              "    <tr>\n",
              "      <th>6</th>\n",
              "      <td>178761</td>\n",
              "      <td>11448</td>\n",
              "      <td>190209</td>\n",
              "    </tr>\n",
              "    <tr>\n",
              "      <th>7</th>\n",
              "      <td>140598</td>\n",
              "      <td>5844</td>\n",
              "      <td>146442</td>\n",
              "    </tr>\n",
              "    <tr>\n",
              "      <th>8</th>\n",
              "      <td>109897</td>\n",
              "      <td>3703</td>\n",
              "      <td>113600</td>\n",
              "    </tr>\n",
              "    <tr>\n",
              "      <th>9</th>\n",
              "      <td>88705</td>\n",
              "      <td>2842</td>\n",
              "      <td>91547</td>\n",
              "    </tr>\n",
              "    <tr>\n",
              "      <th>10</th>\n",
              "      <td>70767</td>\n",
              "      <td>2107</td>\n",
              "      <td>72874</td>\n",
              "    </tr>\n",
              "    <tr>\n",
              "      <th>11</th>\n",
              "      <td>215596</td>\n",
              "      <td>6493</td>\n",
              "      <td>222089</td>\n",
              "    </tr>\n",
              "    <tr>\n",
              "      <th>12</th>\n",
              "      <td>123031</td>\n",
              "      <td>4099</td>\n",
              "      <td>127130</td>\n",
              "    </tr>\n",
              "    <tr>\n",
              "      <th>13</th>\n",
              "      <td>84812</td>\n",
              "      <td>3028</td>\n",
              "      <td>87840</td>\n",
              "    </tr>\n",
              "    <tr>\n",
              "      <th>14</th>\n",
              "      <td>51495</td>\n",
              "      <td>2165</td>\n",
              "      <td>53660</td>\n",
              "    </tr>\n",
              "    <tr>\n",
              "      <th>15</th>\n",
              "      <td>32094</td>\n",
              "      <td>1455</td>\n",
              "      <td>33549</td>\n",
              "    </tr>\n",
              "    <tr>\n",
              "      <th>16</th>\n",
              "      <td>18263</td>\n",
              "      <td>906</td>\n",
              "      <td>19169</td>\n",
              "    </tr>\n",
              "    <tr>\n",
              "      <th>17</th>\n",
              "      <td>8842</td>\n",
              "      <td>443</td>\n",
              "      <td>9285</td>\n",
              "    </tr>\n",
              "    <tr>\n",
              "      <th>18</th>\n",
              "      <td>3351</td>\n",
              "      <td>198</td>\n",
              "      <td>3549</td>\n",
              "    </tr>\n",
              "    <tr>\n",
              "      <th>19</th>\n",
              "      <td>1176</td>\n",
              "      <td>74</td>\n",
              "      <td>1250</td>\n",
              "    </tr>\n",
              "    <tr>\n",
              "      <th>20</th>\n",
              "      <td>409</td>\n",
              "      <td>13</td>\n",
              "      <td>422</td>\n",
              "    </tr>\n",
              "    <tr>\n",
              "      <th>All</th>\n",
              "      <td>1946591</td>\n",
              "      <td>1217122</td>\n",
              "      <td>3163713</td>\n",
              "    </tr>\n",
              "  </tbody>\n",
              "</table>\n",
              "</div>\n",
              "      <button class=\"colab-df-convert\" onclick=\"convertToInteractive('df-45955de5-d93f-43f1-854b-4081a5179a4b')\"\n",
              "              title=\"Convert this dataframe to an interactive table.\"\n",
              "              style=\"display:none;\">\n",
              "        \n",
              "  <svg xmlns=\"http://www.w3.org/2000/svg\" height=\"24px\"viewBox=\"0 0 24 24\"\n",
              "       width=\"24px\">\n",
              "    <path d=\"M0 0h24v24H0V0z\" fill=\"none\"/>\n",
              "    <path d=\"M18.56 5.44l.94 2.06.94-2.06 2.06-.94-2.06-.94-.94-2.06-.94 2.06-2.06.94zm-11 1L8.5 8.5l.94-2.06 2.06-.94-2.06-.94L8.5 2.5l-.94 2.06-2.06.94zm10 10l.94 2.06.94-2.06 2.06-.94-2.06-.94-.94-2.06-.94 2.06-2.06.94z\"/><path d=\"M17.41 7.96l-1.37-1.37c-.4-.4-.92-.59-1.43-.59-.52 0-1.04.2-1.43.59L10.3 9.45l-7.72 7.72c-.78.78-.78 2.05 0 2.83L4 21.41c.39.39.9.59 1.41.59.51 0 1.02-.2 1.41-.59l7.78-7.78 2.81-2.81c.8-.78.8-2.07 0-2.86zM5.41 20L4 18.59l7.72-7.72 1.47 1.35L5.41 20z\"/>\n",
              "  </svg>\n",
              "      </button>\n",
              "      \n",
              "  <style>\n",
              "    .colab-df-container {\n",
              "      display:flex;\n",
              "      flex-wrap:wrap;\n",
              "      gap: 12px;\n",
              "    }\n",
              "\n",
              "    .colab-df-convert {\n",
              "      background-color: #E8F0FE;\n",
              "      border: none;\n",
              "      border-radius: 50%;\n",
              "      cursor: pointer;\n",
              "      display: none;\n",
              "      fill: #1967D2;\n",
              "      height: 32px;\n",
              "      padding: 0 0 0 0;\n",
              "      width: 32px;\n",
              "    }\n",
              "\n",
              "    .colab-df-convert:hover {\n",
              "      background-color: #E2EBFA;\n",
              "      box-shadow: 0px 1px 2px rgba(60, 64, 67, 0.3), 0px 1px 3px 1px rgba(60, 64, 67, 0.15);\n",
              "      fill: #174EA6;\n",
              "    }\n",
              "\n",
              "    [theme=dark] .colab-df-convert {\n",
              "      background-color: #3B4455;\n",
              "      fill: #D2E3FC;\n",
              "    }\n",
              "\n",
              "    [theme=dark] .colab-df-convert:hover {\n",
              "      background-color: #434B5C;\n",
              "      box-shadow: 0px 1px 3px 1px rgba(0, 0, 0, 0.15);\n",
              "      filter: drop-shadow(0px 1px 2px rgba(0, 0, 0, 0.3));\n",
              "      fill: #FFFFFF;\n",
              "    }\n",
              "  </style>\n",
              "\n",
              "      <script>\n",
              "        const buttonEl =\n",
              "          document.querySelector('#df-45955de5-d93f-43f1-854b-4081a5179a4b button.colab-df-convert');\n",
              "        buttonEl.style.display =\n",
              "          google.colab.kernel.accessAllowed ? 'block' : 'none';\n",
              "\n",
              "        async function convertToInteractive(key) {\n",
              "          const element = document.querySelector('#df-45955de5-d93f-43f1-854b-4081a5179a4b');\n",
              "          const dataTable =\n",
              "            await google.colab.kernel.invokeFunction('convertToInteractive',\n",
              "                                                     [key], {});\n",
              "          if (!dataTable) return;\n",
              "\n",
              "          const docLinkHtml = 'Like what you see? Visit the ' +\n",
              "            '<a target=\"_blank\" href=https://colab.research.google.com/notebooks/data_table.ipynb>data table notebook</a>'\n",
              "            + ' to learn more about interactive tables.';\n",
              "          element.innerHTML = '';\n",
              "          dataTable['output_type'] = 'display_data';\n",
              "          await google.colab.output.renderOutput(dataTable, element);\n",
              "          const docLink = document.createElement('div');\n",
              "          docLink.innerHTML = docLinkHtml;\n",
              "          element.appendChild(docLink);\n",
              "        }\n",
              "      </script>\n",
              "    </div>\n",
              "  </div>\n",
              "  "
            ]
          },
          "metadata": {},
          "execution_count": 75
        }
      ]
    },
    {
      "cell_type": "code",
      "source": [
        "pd.crosstab(df_teste.TP_FAIXA_ETARIA,df_teste.TP_ST_CONCLUSAO, margins=True, dropna=False)"
      ],
      "metadata": {
        "id": "6q2Q6n2fpTgz",
        "colab": {
          "base_uri": "https://localhost:8080/",
          "height": 739
        },
        "outputId": "6ec2b2c1-585e-4732-ff05-50c01185dbd6"
      },
      "execution_count": null,
      "outputs": [
        {
          "output_type": "execute_result",
          "data": {
            "text/plain": [
              "TP_ST_CONCLUSAO       1       2      All\n",
              "TP_FAIXA_ETARIA                         \n",
              "1                   554   14214    14768\n",
              "2                  9568  315685   325253\n",
              "3                139691  212074   351765\n",
              "4                171282   32575   203857\n",
              "5                123089    6862   129951\n",
              "6                 84881    1804    86685\n",
              "7                 65319     868    66187\n",
              "8                 50258     566    50824\n",
              "9                 40681     423    41104\n",
              "10                32321     294    32615\n",
              "11               101018     932   101950\n",
              "12                55237     502    55739\n",
              "13                33511     329    33840\n",
              "14                18401     219    18620\n",
              "15                11238     166    11404\n",
              "16                 6646     112     6758\n",
              "17                 3147      40     3187\n",
              "18                 1093      12     1105\n",
              "19                  350       5      355\n",
              "20                   86       1       87\n",
              "All              948371  587683  1536054"
            ],
            "text/html": [
              "\n",
              "  <div id=\"df-77beebc1-b18b-477a-8127-d1f2e0218050\">\n",
              "    <div class=\"colab-df-container\">\n",
              "      <div>\n",
              "<style scoped>\n",
              "    .dataframe tbody tr th:only-of-type {\n",
              "        vertical-align: middle;\n",
              "    }\n",
              "\n",
              "    .dataframe tbody tr th {\n",
              "        vertical-align: top;\n",
              "    }\n",
              "\n",
              "    .dataframe thead th {\n",
              "        text-align: right;\n",
              "    }\n",
              "</style>\n",
              "<table border=\"1\" class=\"dataframe\">\n",
              "  <thead>\n",
              "    <tr style=\"text-align: right;\">\n",
              "      <th>TP_ST_CONCLUSAO</th>\n",
              "      <th>1</th>\n",
              "      <th>2</th>\n",
              "      <th>All</th>\n",
              "    </tr>\n",
              "    <tr>\n",
              "      <th>TP_FAIXA_ETARIA</th>\n",
              "      <th></th>\n",
              "      <th></th>\n",
              "      <th></th>\n",
              "    </tr>\n",
              "  </thead>\n",
              "  <tbody>\n",
              "    <tr>\n",
              "      <th>1</th>\n",
              "      <td>554</td>\n",
              "      <td>14214</td>\n",
              "      <td>14768</td>\n",
              "    </tr>\n",
              "    <tr>\n",
              "      <th>2</th>\n",
              "      <td>9568</td>\n",
              "      <td>315685</td>\n",
              "      <td>325253</td>\n",
              "    </tr>\n",
              "    <tr>\n",
              "      <th>3</th>\n",
              "      <td>139691</td>\n",
              "      <td>212074</td>\n",
              "      <td>351765</td>\n",
              "    </tr>\n",
              "    <tr>\n",
              "      <th>4</th>\n",
              "      <td>171282</td>\n",
              "      <td>32575</td>\n",
              "      <td>203857</td>\n",
              "    </tr>\n",
              "    <tr>\n",
              "      <th>5</th>\n",
              "      <td>123089</td>\n",
              "      <td>6862</td>\n",
              "      <td>129951</td>\n",
              "    </tr>\n",
              "    <tr>\n",
              "      <th>6</th>\n",
              "      <td>84881</td>\n",
              "      <td>1804</td>\n",
              "      <td>86685</td>\n",
              "    </tr>\n",
              "    <tr>\n",
              "      <th>7</th>\n",
              "      <td>65319</td>\n",
              "      <td>868</td>\n",
              "      <td>66187</td>\n",
              "    </tr>\n",
              "    <tr>\n",
              "      <th>8</th>\n",
              "      <td>50258</td>\n",
              "      <td>566</td>\n",
              "      <td>50824</td>\n",
              "    </tr>\n",
              "    <tr>\n",
              "      <th>9</th>\n",
              "      <td>40681</td>\n",
              "      <td>423</td>\n",
              "      <td>41104</td>\n",
              "    </tr>\n",
              "    <tr>\n",
              "      <th>10</th>\n",
              "      <td>32321</td>\n",
              "      <td>294</td>\n",
              "      <td>32615</td>\n",
              "    </tr>\n",
              "    <tr>\n",
              "      <th>11</th>\n",
              "      <td>101018</td>\n",
              "      <td>932</td>\n",
              "      <td>101950</td>\n",
              "    </tr>\n",
              "    <tr>\n",
              "      <th>12</th>\n",
              "      <td>55237</td>\n",
              "      <td>502</td>\n",
              "      <td>55739</td>\n",
              "    </tr>\n",
              "    <tr>\n",
              "      <th>13</th>\n",
              "      <td>33511</td>\n",
              "      <td>329</td>\n",
              "      <td>33840</td>\n",
              "    </tr>\n",
              "    <tr>\n",
              "      <th>14</th>\n",
              "      <td>18401</td>\n",
              "      <td>219</td>\n",
              "      <td>18620</td>\n",
              "    </tr>\n",
              "    <tr>\n",
              "      <th>15</th>\n",
              "      <td>11238</td>\n",
              "      <td>166</td>\n",
              "      <td>11404</td>\n",
              "    </tr>\n",
              "    <tr>\n",
              "      <th>16</th>\n",
              "      <td>6646</td>\n",
              "      <td>112</td>\n",
              "      <td>6758</td>\n",
              "    </tr>\n",
              "    <tr>\n",
              "      <th>17</th>\n",
              "      <td>3147</td>\n",
              "      <td>40</td>\n",
              "      <td>3187</td>\n",
              "    </tr>\n",
              "    <tr>\n",
              "      <th>18</th>\n",
              "      <td>1093</td>\n",
              "      <td>12</td>\n",
              "      <td>1105</td>\n",
              "    </tr>\n",
              "    <tr>\n",
              "      <th>19</th>\n",
              "      <td>350</td>\n",
              "      <td>5</td>\n",
              "      <td>355</td>\n",
              "    </tr>\n",
              "    <tr>\n",
              "      <th>20</th>\n",
              "      <td>86</td>\n",
              "      <td>1</td>\n",
              "      <td>87</td>\n",
              "    </tr>\n",
              "    <tr>\n",
              "      <th>All</th>\n",
              "      <td>948371</td>\n",
              "      <td>587683</td>\n",
              "      <td>1536054</td>\n",
              "    </tr>\n",
              "  </tbody>\n",
              "</table>\n",
              "</div>\n",
              "      <button class=\"colab-df-convert\" onclick=\"convertToInteractive('df-77beebc1-b18b-477a-8127-d1f2e0218050')\"\n",
              "              title=\"Convert this dataframe to an interactive table.\"\n",
              "              style=\"display:none;\">\n",
              "        \n",
              "  <svg xmlns=\"http://www.w3.org/2000/svg\" height=\"24px\"viewBox=\"0 0 24 24\"\n",
              "       width=\"24px\">\n",
              "    <path d=\"M0 0h24v24H0V0z\" fill=\"none\"/>\n",
              "    <path d=\"M18.56 5.44l.94 2.06.94-2.06 2.06-.94-2.06-.94-.94-2.06-.94 2.06-2.06.94zm-11 1L8.5 8.5l.94-2.06 2.06-.94-2.06-.94L8.5 2.5l-.94 2.06-2.06.94zm10 10l.94 2.06.94-2.06 2.06-.94-2.06-.94-.94-2.06-.94 2.06-2.06.94z\"/><path d=\"M17.41 7.96l-1.37-1.37c-.4-.4-.92-.59-1.43-.59-.52 0-1.04.2-1.43.59L10.3 9.45l-7.72 7.72c-.78.78-.78 2.05 0 2.83L4 21.41c.39.39.9.59 1.41.59.51 0 1.02-.2 1.41-.59l7.78-7.78 2.81-2.81c.8-.78.8-2.07 0-2.86zM5.41 20L4 18.59l7.72-7.72 1.47 1.35L5.41 20z\"/>\n",
              "  </svg>\n",
              "      </button>\n",
              "      \n",
              "  <style>\n",
              "    .colab-df-container {\n",
              "      display:flex;\n",
              "      flex-wrap:wrap;\n",
              "      gap: 12px;\n",
              "    }\n",
              "\n",
              "    .colab-df-convert {\n",
              "      background-color: #E8F0FE;\n",
              "      border: none;\n",
              "      border-radius: 50%;\n",
              "      cursor: pointer;\n",
              "      display: none;\n",
              "      fill: #1967D2;\n",
              "      height: 32px;\n",
              "      padding: 0 0 0 0;\n",
              "      width: 32px;\n",
              "    }\n",
              "\n",
              "    .colab-df-convert:hover {\n",
              "      background-color: #E2EBFA;\n",
              "      box-shadow: 0px 1px 2px rgba(60, 64, 67, 0.3), 0px 1px 3px 1px rgba(60, 64, 67, 0.15);\n",
              "      fill: #174EA6;\n",
              "    }\n",
              "\n",
              "    [theme=dark] .colab-df-convert {\n",
              "      background-color: #3B4455;\n",
              "      fill: #D2E3FC;\n",
              "    }\n",
              "\n",
              "    [theme=dark] .colab-df-convert:hover {\n",
              "      background-color: #434B5C;\n",
              "      box-shadow: 0px 1px 3px 1px rgba(0, 0, 0, 0.15);\n",
              "      filter: drop-shadow(0px 1px 2px rgba(0, 0, 0, 0.3));\n",
              "      fill: #FFFFFF;\n",
              "    }\n",
              "  </style>\n",
              "\n",
              "      <script>\n",
              "        const buttonEl =\n",
              "          document.querySelector('#df-77beebc1-b18b-477a-8127-d1f2e0218050 button.colab-df-convert');\n",
              "        buttonEl.style.display =\n",
              "          google.colab.kernel.accessAllowed ? 'block' : 'none';\n",
              "\n",
              "        async function convertToInteractive(key) {\n",
              "          const element = document.querySelector('#df-77beebc1-b18b-477a-8127-d1f2e0218050');\n",
              "          const dataTable =\n",
              "            await google.colab.kernel.invokeFunction('convertToInteractive',\n",
              "                                                     [key], {});\n",
              "          if (!dataTable) return;\n",
              "\n",
              "          const docLinkHtml = 'Like what you see? Visit the ' +\n",
              "            '<a target=\"_blank\" href=https://colab.research.google.com/notebooks/data_table.ipynb>data table notebook</a>'\n",
              "            + ' to learn more about interactive tables.';\n",
              "          element.innerHTML = '';\n",
              "          dataTable['output_type'] = 'display_data';\n",
              "          await google.colab.output.renderOutput(dataTable, element);\n",
              "          const docLink = document.createElement('div');\n",
              "          docLink.innerHTML = docLinkHtml;\n",
              "          element.appendChild(docLink);\n",
              "        }\n",
              "      </script>\n",
              "    </div>\n",
              "  </div>\n",
              "  "
            ]
          },
          "metadata": {},
          "execution_count": 76
        }
      ]
    },
    {
      "cell_type": "code",
      "source": [
        "pd.crosstab(df_ft.Q001,df_ft.Q002, margins=True, dropna=False)"
      ],
      "metadata": {
        "id": "1q7qxwGTZC2E",
        "colab": {
          "base_uri": "https://localhost:8080/",
          "height": 363
        },
        "outputId": "a76d4c80-488d-4320-c0a8-109b89e0d3c4"
      },
      "execution_count": null,
      "outputs": [
        {
          "output_type": "execute_result",
          "data": {
            "text/plain": [
              "Q002       A       B       C       D        E       F       G      H      All\n",
              "Q001                                                                         \n",
              "A      63707   56856   19101   11467    16758    2457    1404   2360   174110\n",
              "B      28993  294747  110999   81876   134740   21951   14638   5648   693592\n",
              "C       8080   53760  138904   77242   129426   24831   17310   3936   453489\n",
              "D       3535   31630   52591  101347   130493   29227   19297   3450   371570\n",
              "E       4168   40431   63066   96579   442393  111281   70834   8020   836772\n",
              "F        452    4495    7166   12607    80918   80252   43426   1556   230872\n",
              "G        173    1509    2300    4272    29660   32243   58411   1175   129743\n",
              "H       6131   33384   31558   33859    79907   16910   10859  60957   273565\n",
              "All   115239  516812  425685  419249  1044295  319152  236179  87102  3163713"
            ],
            "text/html": [
              "\n",
              "  <div id=\"df-2e1f3bd1-d487-4e6e-b057-99ce12ab2381\">\n",
              "    <div class=\"colab-df-container\">\n",
              "      <div>\n",
              "<style scoped>\n",
              "    .dataframe tbody tr th:only-of-type {\n",
              "        vertical-align: middle;\n",
              "    }\n",
              "\n",
              "    .dataframe tbody tr th {\n",
              "        vertical-align: top;\n",
              "    }\n",
              "\n",
              "    .dataframe thead th {\n",
              "        text-align: right;\n",
              "    }\n",
              "</style>\n",
              "<table border=\"1\" class=\"dataframe\">\n",
              "  <thead>\n",
              "    <tr style=\"text-align: right;\">\n",
              "      <th>Q002</th>\n",
              "      <th>A</th>\n",
              "      <th>B</th>\n",
              "      <th>C</th>\n",
              "      <th>D</th>\n",
              "      <th>E</th>\n",
              "      <th>F</th>\n",
              "      <th>G</th>\n",
              "      <th>H</th>\n",
              "      <th>All</th>\n",
              "    </tr>\n",
              "    <tr>\n",
              "      <th>Q001</th>\n",
              "      <th></th>\n",
              "      <th></th>\n",
              "      <th></th>\n",
              "      <th></th>\n",
              "      <th></th>\n",
              "      <th></th>\n",
              "      <th></th>\n",
              "      <th></th>\n",
              "      <th></th>\n",
              "    </tr>\n",
              "  </thead>\n",
              "  <tbody>\n",
              "    <tr>\n",
              "      <th>A</th>\n",
              "      <td>63707</td>\n",
              "      <td>56856</td>\n",
              "      <td>19101</td>\n",
              "      <td>11467</td>\n",
              "      <td>16758</td>\n",
              "      <td>2457</td>\n",
              "      <td>1404</td>\n",
              "      <td>2360</td>\n",
              "      <td>174110</td>\n",
              "    </tr>\n",
              "    <tr>\n",
              "      <th>B</th>\n",
              "      <td>28993</td>\n",
              "      <td>294747</td>\n",
              "      <td>110999</td>\n",
              "      <td>81876</td>\n",
              "      <td>134740</td>\n",
              "      <td>21951</td>\n",
              "      <td>14638</td>\n",
              "      <td>5648</td>\n",
              "      <td>693592</td>\n",
              "    </tr>\n",
              "    <tr>\n",
              "      <th>C</th>\n",
              "      <td>8080</td>\n",
              "      <td>53760</td>\n",
              "      <td>138904</td>\n",
              "      <td>77242</td>\n",
              "      <td>129426</td>\n",
              "      <td>24831</td>\n",
              "      <td>17310</td>\n",
              "      <td>3936</td>\n",
              "      <td>453489</td>\n",
              "    </tr>\n",
              "    <tr>\n",
              "      <th>D</th>\n",
              "      <td>3535</td>\n",
              "      <td>31630</td>\n",
              "      <td>52591</td>\n",
              "      <td>101347</td>\n",
              "      <td>130493</td>\n",
              "      <td>29227</td>\n",
              "      <td>19297</td>\n",
              "      <td>3450</td>\n",
              "      <td>371570</td>\n",
              "    </tr>\n",
              "    <tr>\n",
              "      <th>E</th>\n",
              "      <td>4168</td>\n",
              "      <td>40431</td>\n",
              "      <td>63066</td>\n",
              "      <td>96579</td>\n",
              "      <td>442393</td>\n",
              "      <td>111281</td>\n",
              "      <td>70834</td>\n",
              "      <td>8020</td>\n",
              "      <td>836772</td>\n",
              "    </tr>\n",
              "    <tr>\n",
              "      <th>F</th>\n",
              "      <td>452</td>\n",
              "      <td>4495</td>\n",
              "      <td>7166</td>\n",
              "      <td>12607</td>\n",
              "      <td>80918</td>\n",
              "      <td>80252</td>\n",
              "      <td>43426</td>\n",
              "      <td>1556</td>\n",
              "      <td>230872</td>\n",
              "    </tr>\n",
              "    <tr>\n",
              "      <th>G</th>\n",
              "      <td>173</td>\n",
              "      <td>1509</td>\n",
              "      <td>2300</td>\n",
              "      <td>4272</td>\n",
              "      <td>29660</td>\n",
              "      <td>32243</td>\n",
              "      <td>58411</td>\n",
              "      <td>1175</td>\n",
              "      <td>129743</td>\n",
              "    </tr>\n",
              "    <tr>\n",
              "      <th>H</th>\n",
              "      <td>6131</td>\n",
              "      <td>33384</td>\n",
              "      <td>31558</td>\n",
              "      <td>33859</td>\n",
              "      <td>79907</td>\n",
              "      <td>16910</td>\n",
              "      <td>10859</td>\n",
              "      <td>60957</td>\n",
              "      <td>273565</td>\n",
              "    </tr>\n",
              "    <tr>\n",
              "      <th>All</th>\n",
              "      <td>115239</td>\n",
              "      <td>516812</td>\n",
              "      <td>425685</td>\n",
              "      <td>419249</td>\n",
              "      <td>1044295</td>\n",
              "      <td>319152</td>\n",
              "      <td>236179</td>\n",
              "      <td>87102</td>\n",
              "      <td>3163713</td>\n",
              "    </tr>\n",
              "  </tbody>\n",
              "</table>\n",
              "</div>\n",
              "      <button class=\"colab-df-convert\" onclick=\"convertToInteractive('df-2e1f3bd1-d487-4e6e-b057-99ce12ab2381')\"\n",
              "              title=\"Convert this dataframe to an interactive table.\"\n",
              "              style=\"display:none;\">\n",
              "        \n",
              "  <svg xmlns=\"http://www.w3.org/2000/svg\" height=\"24px\"viewBox=\"0 0 24 24\"\n",
              "       width=\"24px\">\n",
              "    <path d=\"M0 0h24v24H0V0z\" fill=\"none\"/>\n",
              "    <path d=\"M18.56 5.44l.94 2.06.94-2.06 2.06-.94-2.06-.94-.94-2.06-.94 2.06-2.06.94zm-11 1L8.5 8.5l.94-2.06 2.06-.94-2.06-.94L8.5 2.5l-.94 2.06-2.06.94zm10 10l.94 2.06.94-2.06 2.06-.94-2.06-.94-.94-2.06-.94 2.06-2.06.94z\"/><path d=\"M17.41 7.96l-1.37-1.37c-.4-.4-.92-.59-1.43-.59-.52 0-1.04.2-1.43.59L10.3 9.45l-7.72 7.72c-.78.78-.78 2.05 0 2.83L4 21.41c.39.39.9.59 1.41.59.51 0 1.02-.2 1.41-.59l7.78-7.78 2.81-2.81c.8-.78.8-2.07 0-2.86zM5.41 20L4 18.59l7.72-7.72 1.47 1.35L5.41 20z\"/>\n",
              "  </svg>\n",
              "      </button>\n",
              "      \n",
              "  <style>\n",
              "    .colab-df-container {\n",
              "      display:flex;\n",
              "      flex-wrap:wrap;\n",
              "      gap: 12px;\n",
              "    }\n",
              "\n",
              "    .colab-df-convert {\n",
              "      background-color: #E8F0FE;\n",
              "      border: none;\n",
              "      border-radius: 50%;\n",
              "      cursor: pointer;\n",
              "      display: none;\n",
              "      fill: #1967D2;\n",
              "      height: 32px;\n",
              "      padding: 0 0 0 0;\n",
              "      width: 32px;\n",
              "    }\n",
              "\n",
              "    .colab-df-convert:hover {\n",
              "      background-color: #E2EBFA;\n",
              "      box-shadow: 0px 1px 2px rgba(60, 64, 67, 0.3), 0px 1px 3px 1px rgba(60, 64, 67, 0.15);\n",
              "      fill: #174EA6;\n",
              "    }\n",
              "\n",
              "    [theme=dark] .colab-df-convert {\n",
              "      background-color: #3B4455;\n",
              "      fill: #D2E3FC;\n",
              "    }\n",
              "\n",
              "    [theme=dark] .colab-df-convert:hover {\n",
              "      background-color: #434B5C;\n",
              "      box-shadow: 0px 1px 3px 1px rgba(0, 0, 0, 0.15);\n",
              "      filter: drop-shadow(0px 1px 2px rgba(0, 0, 0, 0.3));\n",
              "      fill: #FFFFFF;\n",
              "    }\n",
              "  </style>\n",
              "\n",
              "      <script>\n",
              "        const buttonEl =\n",
              "          document.querySelector('#df-2e1f3bd1-d487-4e6e-b057-99ce12ab2381 button.colab-df-convert');\n",
              "        buttonEl.style.display =\n",
              "          google.colab.kernel.accessAllowed ? 'block' : 'none';\n",
              "\n",
              "        async function convertToInteractive(key) {\n",
              "          const element = document.querySelector('#df-2e1f3bd1-d487-4e6e-b057-99ce12ab2381');\n",
              "          const dataTable =\n",
              "            await google.colab.kernel.invokeFunction('convertToInteractive',\n",
              "                                                     [key], {});\n",
              "          if (!dataTable) return;\n",
              "\n",
              "          const docLinkHtml = 'Like what you see? Visit the ' +\n",
              "            '<a target=\"_blank\" href=https://colab.research.google.com/notebooks/data_table.ipynb>data table notebook</a>'\n",
              "            + ' to learn more about interactive tables.';\n",
              "          element.innerHTML = '';\n",
              "          dataTable['output_type'] = 'display_data';\n",
              "          await google.colab.output.renderOutput(dataTable, element);\n",
              "          const docLink = document.createElement('div');\n",
              "          docLink.innerHTML = docLinkHtml;\n",
              "          element.appendChild(docLink);\n",
              "        }\n",
              "      </script>\n",
              "    </div>\n",
              "  </div>\n",
              "  "
            ]
          },
          "metadata": {},
          "execution_count": 77
        }
      ]
    },
    {
      "cell_type": "code",
      "source": [
        "pd.crosstab(df_teste.Q001,df_teste.Q002, margins=True, dropna=False)"
      ],
      "metadata": {
        "id": "Pllxp5rQZdoH",
        "colab": {
          "base_uri": "https://localhost:8080/",
          "height": 363
        },
        "outputId": "924f3902-f383-4f37-dea9-53eba58a6e64"
      },
      "execution_count": null,
      "outputs": [
        {
          "output_type": "execute_result",
          "data": {
            "text/plain": [
              "Q002      A       B       C       D       E       F       G      H      All\n",
              "Q001                                                                       \n",
              "A     11254   14338    5374    3381    5197     982     575    425    41526\n",
              "B      7586   86696   38140   30706   55572   10763    7639   1431   238533\n",
              "C      2313   19839   51988   32515   63018   14626   10759   1193   196251\n",
              "D      1043   12828   23311   41533   66934   18510   12761   1257   178177\n",
              "E      1274   17182   31281   50089  250192   79450   52943   3443   485854\n",
              "F       182    2393    4355    8246   60305   67292   37827    953   181553\n",
              "G        61     682    1339    2794   22691   28746   51652    658   108623\n",
              "H      1423   10324   11154   12839   36073   10318    6702  16704   105537\n",
              "All   25136  164282  166942  182103  559982  230687  180858  26064  1536054"
            ],
            "text/html": [
              "\n",
              "  <div id=\"df-e79f2049-2a66-4d76-81ff-aeb830e2ba87\">\n",
              "    <div class=\"colab-df-container\">\n",
              "      <div>\n",
              "<style scoped>\n",
              "    .dataframe tbody tr th:only-of-type {\n",
              "        vertical-align: middle;\n",
              "    }\n",
              "\n",
              "    .dataframe tbody tr th {\n",
              "        vertical-align: top;\n",
              "    }\n",
              "\n",
              "    .dataframe thead th {\n",
              "        text-align: right;\n",
              "    }\n",
              "</style>\n",
              "<table border=\"1\" class=\"dataframe\">\n",
              "  <thead>\n",
              "    <tr style=\"text-align: right;\">\n",
              "      <th>Q002</th>\n",
              "      <th>A</th>\n",
              "      <th>B</th>\n",
              "      <th>C</th>\n",
              "      <th>D</th>\n",
              "      <th>E</th>\n",
              "      <th>F</th>\n",
              "      <th>G</th>\n",
              "      <th>H</th>\n",
              "      <th>All</th>\n",
              "    </tr>\n",
              "    <tr>\n",
              "      <th>Q001</th>\n",
              "      <th></th>\n",
              "      <th></th>\n",
              "      <th></th>\n",
              "      <th></th>\n",
              "      <th></th>\n",
              "      <th></th>\n",
              "      <th></th>\n",
              "      <th></th>\n",
              "      <th></th>\n",
              "    </tr>\n",
              "  </thead>\n",
              "  <tbody>\n",
              "    <tr>\n",
              "      <th>A</th>\n",
              "      <td>11254</td>\n",
              "      <td>14338</td>\n",
              "      <td>5374</td>\n",
              "      <td>3381</td>\n",
              "      <td>5197</td>\n",
              "      <td>982</td>\n",
              "      <td>575</td>\n",
              "      <td>425</td>\n",
              "      <td>41526</td>\n",
              "    </tr>\n",
              "    <tr>\n",
              "      <th>B</th>\n",
              "      <td>7586</td>\n",
              "      <td>86696</td>\n",
              "      <td>38140</td>\n",
              "      <td>30706</td>\n",
              "      <td>55572</td>\n",
              "      <td>10763</td>\n",
              "      <td>7639</td>\n",
              "      <td>1431</td>\n",
              "      <td>238533</td>\n",
              "    </tr>\n",
              "    <tr>\n",
              "      <th>C</th>\n",
              "      <td>2313</td>\n",
              "      <td>19839</td>\n",
              "      <td>51988</td>\n",
              "      <td>32515</td>\n",
              "      <td>63018</td>\n",
              "      <td>14626</td>\n",
              "      <td>10759</td>\n",
              "      <td>1193</td>\n",
              "      <td>196251</td>\n",
              "    </tr>\n",
              "    <tr>\n",
              "      <th>D</th>\n",
              "      <td>1043</td>\n",
              "      <td>12828</td>\n",
              "      <td>23311</td>\n",
              "      <td>41533</td>\n",
              "      <td>66934</td>\n",
              "      <td>18510</td>\n",
              "      <td>12761</td>\n",
              "      <td>1257</td>\n",
              "      <td>178177</td>\n",
              "    </tr>\n",
              "    <tr>\n",
              "      <th>E</th>\n",
              "      <td>1274</td>\n",
              "      <td>17182</td>\n",
              "      <td>31281</td>\n",
              "      <td>50089</td>\n",
              "      <td>250192</td>\n",
              "      <td>79450</td>\n",
              "      <td>52943</td>\n",
              "      <td>3443</td>\n",
              "      <td>485854</td>\n",
              "    </tr>\n",
              "    <tr>\n",
              "      <th>F</th>\n",
              "      <td>182</td>\n",
              "      <td>2393</td>\n",
              "      <td>4355</td>\n",
              "      <td>8246</td>\n",
              "      <td>60305</td>\n",
              "      <td>67292</td>\n",
              "      <td>37827</td>\n",
              "      <td>953</td>\n",
              "      <td>181553</td>\n",
              "    </tr>\n",
              "    <tr>\n",
              "      <th>G</th>\n",
              "      <td>61</td>\n",
              "      <td>682</td>\n",
              "      <td>1339</td>\n",
              "      <td>2794</td>\n",
              "      <td>22691</td>\n",
              "      <td>28746</td>\n",
              "      <td>51652</td>\n",
              "      <td>658</td>\n",
              "      <td>108623</td>\n",
              "    </tr>\n",
              "    <tr>\n",
              "      <th>H</th>\n",
              "      <td>1423</td>\n",
              "      <td>10324</td>\n",
              "      <td>11154</td>\n",
              "      <td>12839</td>\n",
              "      <td>36073</td>\n",
              "      <td>10318</td>\n",
              "      <td>6702</td>\n",
              "      <td>16704</td>\n",
              "      <td>105537</td>\n",
              "    </tr>\n",
              "    <tr>\n",
              "      <th>All</th>\n",
              "      <td>25136</td>\n",
              "      <td>164282</td>\n",
              "      <td>166942</td>\n",
              "      <td>182103</td>\n",
              "      <td>559982</td>\n",
              "      <td>230687</td>\n",
              "      <td>180858</td>\n",
              "      <td>26064</td>\n",
              "      <td>1536054</td>\n",
              "    </tr>\n",
              "  </tbody>\n",
              "</table>\n",
              "</div>\n",
              "      <button class=\"colab-df-convert\" onclick=\"convertToInteractive('df-e79f2049-2a66-4d76-81ff-aeb830e2ba87')\"\n",
              "              title=\"Convert this dataframe to an interactive table.\"\n",
              "              style=\"display:none;\">\n",
              "        \n",
              "  <svg xmlns=\"http://www.w3.org/2000/svg\" height=\"24px\"viewBox=\"0 0 24 24\"\n",
              "       width=\"24px\">\n",
              "    <path d=\"M0 0h24v24H0V0z\" fill=\"none\"/>\n",
              "    <path d=\"M18.56 5.44l.94 2.06.94-2.06 2.06-.94-2.06-.94-.94-2.06-.94 2.06-2.06.94zm-11 1L8.5 8.5l.94-2.06 2.06-.94-2.06-.94L8.5 2.5l-.94 2.06-2.06.94zm10 10l.94 2.06.94-2.06 2.06-.94-2.06-.94-.94-2.06-.94 2.06-2.06.94z\"/><path d=\"M17.41 7.96l-1.37-1.37c-.4-.4-.92-.59-1.43-.59-.52 0-1.04.2-1.43.59L10.3 9.45l-7.72 7.72c-.78.78-.78 2.05 0 2.83L4 21.41c.39.39.9.59 1.41.59.51 0 1.02-.2 1.41-.59l7.78-7.78 2.81-2.81c.8-.78.8-2.07 0-2.86zM5.41 20L4 18.59l7.72-7.72 1.47 1.35L5.41 20z\"/>\n",
              "  </svg>\n",
              "      </button>\n",
              "      \n",
              "  <style>\n",
              "    .colab-df-container {\n",
              "      display:flex;\n",
              "      flex-wrap:wrap;\n",
              "      gap: 12px;\n",
              "    }\n",
              "\n",
              "    .colab-df-convert {\n",
              "      background-color: #E8F0FE;\n",
              "      border: none;\n",
              "      border-radius: 50%;\n",
              "      cursor: pointer;\n",
              "      display: none;\n",
              "      fill: #1967D2;\n",
              "      height: 32px;\n",
              "      padding: 0 0 0 0;\n",
              "      width: 32px;\n",
              "    }\n",
              "\n",
              "    .colab-df-convert:hover {\n",
              "      background-color: #E2EBFA;\n",
              "      box-shadow: 0px 1px 2px rgba(60, 64, 67, 0.3), 0px 1px 3px 1px rgba(60, 64, 67, 0.15);\n",
              "      fill: #174EA6;\n",
              "    }\n",
              "\n",
              "    [theme=dark] .colab-df-convert {\n",
              "      background-color: #3B4455;\n",
              "      fill: #D2E3FC;\n",
              "    }\n",
              "\n",
              "    [theme=dark] .colab-df-convert:hover {\n",
              "      background-color: #434B5C;\n",
              "      box-shadow: 0px 1px 3px 1px rgba(0, 0, 0, 0.15);\n",
              "      filter: drop-shadow(0px 1px 2px rgba(0, 0, 0, 0.3));\n",
              "      fill: #FFFFFF;\n",
              "    }\n",
              "  </style>\n",
              "\n",
              "      <script>\n",
              "        const buttonEl =\n",
              "          document.querySelector('#df-e79f2049-2a66-4d76-81ff-aeb830e2ba87 button.colab-df-convert');\n",
              "        buttonEl.style.display =\n",
              "          google.colab.kernel.accessAllowed ? 'block' : 'none';\n",
              "\n",
              "        async function convertToInteractive(key) {\n",
              "          const element = document.querySelector('#df-e79f2049-2a66-4d76-81ff-aeb830e2ba87');\n",
              "          const dataTable =\n",
              "            await google.colab.kernel.invokeFunction('convertToInteractive',\n",
              "                                                     [key], {});\n",
              "          if (!dataTable) return;\n",
              "\n",
              "          const docLinkHtml = 'Like what you see? Visit the ' +\n",
              "            '<a target=\"_blank\" href=https://colab.research.google.com/notebooks/data_table.ipynb>data table notebook</a>'\n",
              "            + ' to learn more about interactive tables.';\n",
              "          element.innerHTML = '';\n",
              "          dataTable['output_type'] = 'display_data';\n",
              "          await google.colab.output.renderOutput(dataTable, element);\n",
              "          const docLink = document.createElement('div');\n",
              "          docLink.innerHTML = docLinkHtml;\n",
              "          element.appendChild(docLink);\n",
              "        }\n",
              "      </script>\n",
              "    </div>\n",
              "  </div>\n",
              "  "
            ]
          },
          "metadata": {},
          "execution_count": 78
        }
      ]
    },
    {
      "cell_type": "code",
      "source": [
        "pd.crosstab(df_ft.Q010,df_ft.Q011, margins=True, dropna=False)"
      ],
      "metadata": {
        "id": "u_E863-ec1BF",
        "colab": {
          "base_uri": "https://localhost:8080/",
          "height": 269
        },
        "outputId": "78fb174d-5c38-4a09-fe3e-e73aac71431f"
      },
      "execution_count": null,
      "outputs": [
        {
          "output_type": "execute_result",
          "data": {
            "text/plain": [
              "Q011        A       B      C     D     E      All\n",
              "Q010                                             \n",
              "A     1421963  353705  26642  1887   247  1804444\n",
              "B      833167  242499  25760  2445   301  1104172\n",
              "C      172185   38317   6984   955   207   218648\n",
              "D       23130    5304   1230   390    83    30137\n",
              "E        4418    1160    422   143   169     6312\n",
              "All   2454863  640985  61038  5820  1007  3163713"
            ],
            "text/html": [
              "\n",
              "  <div id=\"df-2ea05f0e-7280-448e-b639-898875fc6516\">\n",
              "    <div class=\"colab-df-container\">\n",
              "      <div>\n",
              "<style scoped>\n",
              "    .dataframe tbody tr th:only-of-type {\n",
              "        vertical-align: middle;\n",
              "    }\n",
              "\n",
              "    .dataframe tbody tr th {\n",
              "        vertical-align: top;\n",
              "    }\n",
              "\n",
              "    .dataframe thead th {\n",
              "        text-align: right;\n",
              "    }\n",
              "</style>\n",
              "<table border=\"1\" class=\"dataframe\">\n",
              "  <thead>\n",
              "    <tr style=\"text-align: right;\">\n",
              "      <th>Q011</th>\n",
              "      <th>A</th>\n",
              "      <th>B</th>\n",
              "      <th>C</th>\n",
              "      <th>D</th>\n",
              "      <th>E</th>\n",
              "      <th>All</th>\n",
              "    </tr>\n",
              "    <tr>\n",
              "      <th>Q010</th>\n",
              "      <th></th>\n",
              "      <th></th>\n",
              "      <th></th>\n",
              "      <th></th>\n",
              "      <th></th>\n",
              "      <th></th>\n",
              "    </tr>\n",
              "  </thead>\n",
              "  <tbody>\n",
              "    <tr>\n",
              "      <th>A</th>\n",
              "      <td>1421963</td>\n",
              "      <td>353705</td>\n",
              "      <td>26642</td>\n",
              "      <td>1887</td>\n",
              "      <td>247</td>\n",
              "      <td>1804444</td>\n",
              "    </tr>\n",
              "    <tr>\n",
              "      <th>B</th>\n",
              "      <td>833167</td>\n",
              "      <td>242499</td>\n",
              "      <td>25760</td>\n",
              "      <td>2445</td>\n",
              "      <td>301</td>\n",
              "      <td>1104172</td>\n",
              "    </tr>\n",
              "    <tr>\n",
              "      <th>C</th>\n",
              "      <td>172185</td>\n",
              "      <td>38317</td>\n",
              "      <td>6984</td>\n",
              "      <td>955</td>\n",
              "      <td>207</td>\n",
              "      <td>218648</td>\n",
              "    </tr>\n",
              "    <tr>\n",
              "      <th>D</th>\n",
              "      <td>23130</td>\n",
              "      <td>5304</td>\n",
              "      <td>1230</td>\n",
              "      <td>390</td>\n",
              "      <td>83</td>\n",
              "      <td>30137</td>\n",
              "    </tr>\n",
              "    <tr>\n",
              "      <th>E</th>\n",
              "      <td>4418</td>\n",
              "      <td>1160</td>\n",
              "      <td>422</td>\n",
              "      <td>143</td>\n",
              "      <td>169</td>\n",
              "      <td>6312</td>\n",
              "    </tr>\n",
              "    <tr>\n",
              "      <th>All</th>\n",
              "      <td>2454863</td>\n",
              "      <td>640985</td>\n",
              "      <td>61038</td>\n",
              "      <td>5820</td>\n",
              "      <td>1007</td>\n",
              "      <td>3163713</td>\n",
              "    </tr>\n",
              "  </tbody>\n",
              "</table>\n",
              "</div>\n",
              "      <button class=\"colab-df-convert\" onclick=\"convertToInteractive('df-2ea05f0e-7280-448e-b639-898875fc6516')\"\n",
              "              title=\"Convert this dataframe to an interactive table.\"\n",
              "              style=\"display:none;\">\n",
              "        \n",
              "  <svg xmlns=\"http://www.w3.org/2000/svg\" height=\"24px\"viewBox=\"0 0 24 24\"\n",
              "       width=\"24px\">\n",
              "    <path d=\"M0 0h24v24H0V0z\" fill=\"none\"/>\n",
              "    <path d=\"M18.56 5.44l.94 2.06.94-2.06 2.06-.94-2.06-.94-.94-2.06-.94 2.06-2.06.94zm-11 1L8.5 8.5l.94-2.06 2.06-.94-2.06-.94L8.5 2.5l-.94 2.06-2.06.94zm10 10l.94 2.06.94-2.06 2.06-.94-2.06-.94-.94-2.06-.94 2.06-2.06.94z\"/><path d=\"M17.41 7.96l-1.37-1.37c-.4-.4-.92-.59-1.43-.59-.52 0-1.04.2-1.43.59L10.3 9.45l-7.72 7.72c-.78.78-.78 2.05 0 2.83L4 21.41c.39.39.9.59 1.41.59.51 0 1.02-.2 1.41-.59l7.78-7.78 2.81-2.81c.8-.78.8-2.07 0-2.86zM5.41 20L4 18.59l7.72-7.72 1.47 1.35L5.41 20z\"/>\n",
              "  </svg>\n",
              "      </button>\n",
              "      \n",
              "  <style>\n",
              "    .colab-df-container {\n",
              "      display:flex;\n",
              "      flex-wrap:wrap;\n",
              "      gap: 12px;\n",
              "    }\n",
              "\n",
              "    .colab-df-convert {\n",
              "      background-color: #E8F0FE;\n",
              "      border: none;\n",
              "      border-radius: 50%;\n",
              "      cursor: pointer;\n",
              "      display: none;\n",
              "      fill: #1967D2;\n",
              "      height: 32px;\n",
              "      padding: 0 0 0 0;\n",
              "      width: 32px;\n",
              "    }\n",
              "\n",
              "    .colab-df-convert:hover {\n",
              "      background-color: #E2EBFA;\n",
              "      box-shadow: 0px 1px 2px rgba(60, 64, 67, 0.3), 0px 1px 3px 1px rgba(60, 64, 67, 0.15);\n",
              "      fill: #174EA6;\n",
              "    }\n",
              "\n",
              "    [theme=dark] .colab-df-convert {\n",
              "      background-color: #3B4455;\n",
              "      fill: #D2E3FC;\n",
              "    }\n",
              "\n",
              "    [theme=dark] .colab-df-convert:hover {\n",
              "      background-color: #434B5C;\n",
              "      box-shadow: 0px 1px 3px 1px rgba(0, 0, 0, 0.15);\n",
              "      filter: drop-shadow(0px 1px 2px rgba(0, 0, 0, 0.3));\n",
              "      fill: #FFFFFF;\n",
              "    }\n",
              "  </style>\n",
              "\n",
              "      <script>\n",
              "        const buttonEl =\n",
              "          document.querySelector('#df-2ea05f0e-7280-448e-b639-898875fc6516 button.colab-df-convert');\n",
              "        buttonEl.style.display =\n",
              "          google.colab.kernel.accessAllowed ? 'block' : 'none';\n",
              "\n",
              "        async function convertToInteractive(key) {\n",
              "          const element = document.querySelector('#df-2ea05f0e-7280-448e-b639-898875fc6516');\n",
              "          const dataTable =\n",
              "            await google.colab.kernel.invokeFunction('convertToInteractive',\n",
              "                                                     [key], {});\n",
              "          if (!dataTable) return;\n",
              "\n",
              "          const docLinkHtml = 'Like what you see? Visit the ' +\n",
              "            '<a target=\"_blank\" href=https://colab.research.google.com/notebooks/data_table.ipynb>data table notebook</a>'\n",
              "            + ' to learn more about interactive tables.';\n",
              "          element.innerHTML = '';\n",
              "          dataTable['output_type'] = 'display_data';\n",
              "          await google.colab.output.renderOutput(dataTable, element);\n",
              "          const docLink = document.createElement('div');\n",
              "          docLink.innerHTML = docLinkHtml;\n",
              "          element.appendChild(docLink);\n",
              "        }\n",
              "      </script>\n",
              "    </div>\n",
              "  </div>\n",
              "  "
            ]
          },
          "metadata": {},
          "execution_count": 79
        }
      ]
    },
    {
      "cell_type": "code",
      "source": [
        "pd.crosstab(df_teste.Q010,df_teste.Q011, margins=True, dropna=False)"
      ],
      "metadata": {
        "id": "__IlEuwgG1J-",
        "colab": {
          "base_uri": "https://localhost:8080/",
          "height": 269
        },
        "outputId": "54afedfd-d742-46c8-e90a-25f19d470bdf"
      },
      "execution_count": null,
      "outputs": [
        {
          "output_type": "execute_result",
          "data": {
            "text/plain": [
              "Q011        A       B      C     D    E      All\n",
              "Q010                                            \n",
              "A      542146  125236  10202   645   85   678314\n",
              "B      510396  132220  13880  1239  150   657885\n",
              "C      138148   27101   4493   603  129   170474\n",
              "D       19299    3892    864   242   55    24352\n",
              "E        3644     874    289   100  122     5029\n",
              "All   1213633  289323  29728  2829  541  1536054"
            ],
            "text/html": [
              "\n",
              "  <div id=\"df-6ea0f597-4a6d-443a-a1e6-5740a707d6d9\">\n",
              "    <div class=\"colab-df-container\">\n",
              "      <div>\n",
              "<style scoped>\n",
              "    .dataframe tbody tr th:only-of-type {\n",
              "        vertical-align: middle;\n",
              "    }\n",
              "\n",
              "    .dataframe tbody tr th {\n",
              "        vertical-align: top;\n",
              "    }\n",
              "\n",
              "    .dataframe thead th {\n",
              "        text-align: right;\n",
              "    }\n",
              "</style>\n",
              "<table border=\"1\" class=\"dataframe\">\n",
              "  <thead>\n",
              "    <tr style=\"text-align: right;\">\n",
              "      <th>Q011</th>\n",
              "      <th>A</th>\n",
              "      <th>B</th>\n",
              "      <th>C</th>\n",
              "      <th>D</th>\n",
              "      <th>E</th>\n",
              "      <th>All</th>\n",
              "    </tr>\n",
              "    <tr>\n",
              "      <th>Q010</th>\n",
              "      <th></th>\n",
              "      <th></th>\n",
              "      <th></th>\n",
              "      <th></th>\n",
              "      <th></th>\n",
              "      <th></th>\n",
              "    </tr>\n",
              "  </thead>\n",
              "  <tbody>\n",
              "    <tr>\n",
              "      <th>A</th>\n",
              "      <td>542146</td>\n",
              "      <td>125236</td>\n",
              "      <td>10202</td>\n",
              "      <td>645</td>\n",
              "      <td>85</td>\n",
              "      <td>678314</td>\n",
              "    </tr>\n",
              "    <tr>\n",
              "      <th>B</th>\n",
              "      <td>510396</td>\n",
              "      <td>132220</td>\n",
              "      <td>13880</td>\n",
              "      <td>1239</td>\n",
              "      <td>150</td>\n",
              "      <td>657885</td>\n",
              "    </tr>\n",
              "    <tr>\n",
              "      <th>C</th>\n",
              "      <td>138148</td>\n",
              "      <td>27101</td>\n",
              "      <td>4493</td>\n",
              "      <td>603</td>\n",
              "      <td>129</td>\n",
              "      <td>170474</td>\n",
              "    </tr>\n",
              "    <tr>\n",
              "      <th>D</th>\n",
              "      <td>19299</td>\n",
              "      <td>3892</td>\n",
              "      <td>864</td>\n",
              "      <td>242</td>\n",
              "      <td>55</td>\n",
              "      <td>24352</td>\n",
              "    </tr>\n",
              "    <tr>\n",
              "      <th>E</th>\n",
              "      <td>3644</td>\n",
              "      <td>874</td>\n",
              "      <td>289</td>\n",
              "      <td>100</td>\n",
              "      <td>122</td>\n",
              "      <td>5029</td>\n",
              "    </tr>\n",
              "    <tr>\n",
              "      <th>All</th>\n",
              "      <td>1213633</td>\n",
              "      <td>289323</td>\n",
              "      <td>29728</td>\n",
              "      <td>2829</td>\n",
              "      <td>541</td>\n",
              "      <td>1536054</td>\n",
              "    </tr>\n",
              "  </tbody>\n",
              "</table>\n",
              "</div>\n",
              "      <button class=\"colab-df-convert\" onclick=\"convertToInteractive('df-6ea0f597-4a6d-443a-a1e6-5740a707d6d9')\"\n",
              "              title=\"Convert this dataframe to an interactive table.\"\n",
              "              style=\"display:none;\">\n",
              "        \n",
              "  <svg xmlns=\"http://www.w3.org/2000/svg\" height=\"24px\"viewBox=\"0 0 24 24\"\n",
              "       width=\"24px\">\n",
              "    <path d=\"M0 0h24v24H0V0z\" fill=\"none\"/>\n",
              "    <path d=\"M18.56 5.44l.94 2.06.94-2.06 2.06-.94-2.06-.94-.94-2.06-.94 2.06-2.06.94zm-11 1L8.5 8.5l.94-2.06 2.06-.94-2.06-.94L8.5 2.5l-.94 2.06-2.06.94zm10 10l.94 2.06.94-2.06 2.06-.94-2.06-.94-.94-2.06-.94 2.06-2.06.94z\"/><path d=\"M17.41 7.96l-1.37-1.37c-.4-.4-.92-.59-1.43-.59-.52 0-1.04.2-1.43.59L10.3 9.45l-7.72 7.72c-.78.78-.78 2.05 0 2.83L4 21.41c.39.39.9.59 1.41.59.51 0 1.02-.2 1.41-.59l7.78-7.78 2.81-2.81c.8-.78.8-2.07 0-2.86zM5.41 20L4 18.59l7.72-7.72 1.47 1.35L5.41 20z\"/>\n",
              "  </svg>\n",
              "      </button>\n",
              "      \n",
              "  <style>\n",
              "    .colab-df-container {\n",
              "      display:flex;\n",
              "      flex-wrap:wrap;\n",
              "      gap: 12px;\n",
              "    }\n",
              "\n",
              "    .colab-df-convert {\n",
              "      background-color: #E8F0FE;\n",
              "      border: none;\n",
              "      border-radius: 50%;\n",
              "      cursor: pointer;\n",
              "      display: none;\n",
              "      fill: #1967D2;\n",
              "      height: 32px;\n",
              "      padding: 0 0 0 0;\n",
              "      width: 32px;\n",
              "    }\n",
              "\n",
              "    .colab-df-convert:hover {\n",
              "      background-color: #E2EBFA;\n",
              "      box-shadow: 0px 1px 2px rgba(60, 64, 67, 0.3), 0px 1px 3px 1px rgba(60, 64, 67, 0.15);\n",
              "      fill: #174EA6;\n",
              "    }\n",
              "\n",
              "    [theme=dark] .colab-df-convert {\n",
              "      background-color: #3B4455;\n",
              "      fill: #D2E3FC;\n",
              "    }\n",
              "\n",
              "    [theme=dark] .colab-df-convert:hover {\n",
              "      background-color: #434B5C;\n",
              "      box-shadow: 0px 1px 3px 1px rgba(0, 0, 0, 0.15);\n",
              "      filter: drop-shadow(0px 1px 2px rgba(0, 0, 0, 0.3));\n",
              "      fill: #FFFFFF;\n",
              "    }\n",
              "  </style>\n",
              "\n",
              "      <script>\n",
              "        const buttonEl =\n",
              "          document.querySelector('#df-6ea0f597-4a6d-443a-a1e6-5740a707d6d9 button.colab-df-convert');\n",
              "        buttonEl.style.display =\n",
              "          google.colab.kernel.accessAllowed ? 'block' : 'none';\n",
              "\n",
              "        async function convertToInteractive(key) {\n",
              "          const element = document.querySelector('#df-6ea0f597-4a6d-443a-a1e6-5740a707d6d9');\n",
              "          const dataTable =\n",
              "            await google.colab.kernel.invokeFunction('convertToInteractive',\n",
              "                                                     [key], {});\n",
              "          if (!dataTable) return;\n",
              "\n",
              "          const docLinkHtml = 'Like what you see? Visit the ' +\n",
              "            '<a target=\"_blank\" href=https://colab.research.google.com/notebooks/data_table.ipynb>data table notebook</a>'\n",
              "            + ' to learn more about interactive tables.';\n",
              "          element.innerHTML = '';\n",
              "          dataTable['output_type'] = 'display_data';\n",
              "          await google.colab.output.renderOutput(dataTable, element);\n",
              "          const docLink = document.createElement('div');\n",
              "          docLink.innerHTML = docLinkHtml;\n",
              "          element.appendChild(docLink);\n",
              "        }\n",
              "      </script>\n",
              "    </div>\n",
              "  </div>\n",
              "  "
            ]
          },
          "metadata": {},
          "execution_count": 80
        }
      ]
    },
    {
      "cell_type": "markdown",
      "source": [
        "# **Exclusão de Colunas**"
      ],
      "metadata": {
        "id": "8zqCz9RIEa_Q"
      }
    },
    {
      "cell_type": "code",
      "source": [
        "df_ft.shape"
      ],
      "metadata": {
        "id": "3Zt9HmZSGZMu",
        "colab": {
          "base_uri": "https://localhost:8080/"
        },
        "outputId": "c1814cc6-9fd2-45ec-b6da-cefbf71489bb"
      },
      "execution_count": null,
      "outputs": [
        {
          "output_type": "execute_result",
          "data": {
            "text/plain": [
              "(3163713, 108)"
            ]
          },
          "metadata": {},
          "execution_count": 81
        }
      ]
    },
    {
      "cell_type": "code",
      "source": [
        "df_ft.drop(['TP_FAIXA_ETARIA','TP_ESTADO_CIVIL','TP_COR_RACA','TP_ST_CONCLUSAO','TP_ANO_CONCLUIU',\n",
        "            'TP_ESCOLA', 'TP_ENSINO', 'Q005', 'Q006', 'Q007', 'Q008', 'Q009', 'Q010', 'Q011',\n",
        "            'Q012', 'Q013', 'Q014', 'Q015', 'Q016', 'Q017', 'Q019', 'Q024', 'Sum_TIC3', 'Sum_TIC5',\n",
        "            'Sum_Elet', 'Car_Mot', 'Tot_PtCasa', 'Q001_', 'Q002_', 'Ter_Asp', 'Ter_TV', 'Ter_DVD',\n",
        "            'Ter_TVa', 'Ter_TFi', 'Ter_Gel', 'Ter_Fre', 'Ter_LvR', 'Ter_ScR', 'Ter_Mio', 'Ter_LvL',\n",
        "            'Q007_f2', 'Q007_f', 'Q008_f2', 'Q008_f', 'Q009_f2', 'Q009_f', 'Tot_PtCasa_2', 'Ter_Int'], axis = 1, inplace = True)\n",
        "df_ft.shape"
      ],
      "metadata": {
        "id": "NFDqcyeKEeDB",
        "colab": {
          "base_uri": "https://localhost:8080/"
        },
        "outputId": "5e8cad76-7c73-4535-e25d-7e7678a9389f"
      },
      "execution_count": null,
      "outputs": [
        {
          "output_type": "execute_result",
          "data": {
            "text/plain": [
              "(3163713, 60)"
            ]
          },
          "metadata": {},
          "execution_count": 82
        }
      ]
    },
    {
      "cell_type": "code",
      "source": [
        "df_ft.columns"
      ],
      "metadata": {
        "colab": {
          "base_uri": "https://localhost:8080/"
        },
        "id": "lXal5YB7NkkX",
        "outputId": "7e6ff75c-47e8-4df5-e182-d0e5c87e715f"
      },
      "execution_count": null,
      "outputs": [
        {
          "output_type": "execute_result",
          "data": {
            "text/plain": [
              "Index(['NU_INSCRICAO', 'NU_ANO', 'TP_SEXO', 'CO_MUNICIPIO_ESC',\n",
              "       'NO_MUNICIPIO_ESC', 'SG_UF_ESC', 'TP_LOCALIZACAO_ESC',\n",
              "       'CO_MUNICIPIO_PROVA', 'NO_MUNICIPIO_PROVA', 'SG_UF_PROVA', 'NU_NOTA_CN',\n",
              "       'NU_NOTA_CH', 'NU_NOTA_LC', 'NU_NOTA_MT', 'TP_LINGUA',\n",
              "       'NU_NOTA_REDACAO', 'Q001', 'Q002', 'Q003', 'Q004', 'Q018', 'Q020',\n",
              "       'Q021', 'Q022', 'Q023', 'Q025', 'Sum_Target', 'Sum_Target_2',\n",
              "       'Sum_Target_3', 'Ter_Cel', 'Ter_Com', 'Sum_TIC3_', 'Sum_TIC5_',\n",
              "       'Sum_Elet_', 'Esc_Max', 'Q010_', 'Q011_', 'Car_Mot_', 'Q007_', 'Q008_',\n",
              "       'Q009_', 'Tot_PtCasa_', 'RegGeo_Prova', 'SG_UF_PROVA_',\n",
              "       'TP_FAIXA_ETARIA_', 'TP_ESTADO_CIVIL_', 'TP_COR_RACA_',\n",
              "       'TP_ANO_CONCLUIU_', 'TP_ESCOLA_', 'TP_ENSINO_', 'Q005_', 'Q006_',\n",
              "       'Q012_', 'Q013_', 'Q014_', 'Q015_', 'Q016_', 'Q017_', 'Q019_', 'Q024_'],\n",
              "      dtype='object')"
            ]
          },
          "metadata": {},
          "execution_count": 83
        }
      ]
    },
    {
      "cell_type": "markdown",
      "source": [
        "# **Exportar Base Final**"
      ],
      "metadata": {
        "id": "ELpe4LhT-4xC"
      }
    },
    {
      "cell_type": "code",
      "source": [
        "df_ft.to_csv('/content/drive/MyDrive/MBA_TCC/DADOS/df_ft_2019_categ.csv', index=False)"
      ],
      "metadata": {
        "id": "bx8Msgub-_LO"
      },
      "execution_count": null,
      "outputs": []
    }
  ]
}
