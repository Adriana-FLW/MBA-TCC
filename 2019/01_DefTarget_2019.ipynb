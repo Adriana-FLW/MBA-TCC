{
  "nbformat": 4,
  "nbformat_minor": 0,
  "metadata": {
    "colab": {
      "provenance": [],
      "mount_file_id": "16dqq7t4KEJ6XzYhqFGnLATlsSC45eDRt",
      "authorship_tag": "ABX9TyNqMd4nqPEkqjOyWxxJxNIP",
      "include_colab_link": true
    },
    "kernelspec": {
      "name": "python3",
      "display_name": "Python 3"
    },
    "language_info": {
      "name": "python"
    }
  },
  "cells": [
    {
      "cell_type": "markdown",
      "metadata": {
        "id": "view-in-github",
        "colab_type": "text"
      },
      "source": [
        "<a href=\"https://colab.research.google.com/github/Adriana-FLW/MBA_TCC/blob/main/01_DefTarget_2019.ipynb\" target=\"_parent\"><img src=\"https://colab.research.google.com/assets/colab-badge.svg\" alt=\"Open In Colab\"/></a>"
      ]
    },
    {
      "cell_type": "markdown",
      "source": [
        "# **ENEM 2019**"
      ],
      "metadata": {
        "id": "cvmTA9hvz6WR"
      }
    },
    {
      "cell_type": "markdown",
      "source": [
        "# - **Bibliotecas**"
      ],
      "metadata": {
        "id": "mYMdtT9R0AGA"
      }
    },
    {
      "cell_type": "code",
      "source": [
        "import pandas as pd\n",
        "import numpy as np"
      ],
      "metadata": {
        "id": "vZP9nhSc0Fq_"
      },
      "execution_count": null,
      "outputs": []
    },
    {
      "cell_type": "markdown",
      "source": [
        "# **Importar Base 2019**"
      ],
      "metadata": {
        "id": "gH-3IGXK0MT3"
      }
    },
    {
      "cell_type": "code",
      "source": [
        "df_f = pd.read_csv('/content/drive/MyDrive/MBA_TCC/DADOS/df_f_2019.csv',sep=',',encoding='ISO-8859-1')\n",
        "df_f.shape"
      ],
      "metadata": {
        "colab": {
          "base_uri": "https://localhost:8080/"
        },
        "id": "8IA_ob080QPp",
        "outputId": "0b712755-4bde-4003-c74f-ceb8a62d748c"
      },
      "execution_count": null,
      "outputs": [
        {
          "output_type": "execute_result",
          "data": {
            "text/plain": [
              "(3163713, 48)"
            ]
          },
          "metadata": {},
          "execution_count": 2
        }
      ]
    },
    {
      "cell_type": "code",
      "source": [
        "df_f.info()"
      ],
      "metadata": {
        "colab": {
          "base_uri": "https://localhost:8080/"
        },
        "id": "9fyVyre10Wx5",
        "outputId": "7567dbfd-e373-4992-acd6-29d0c111019b"
      },
      "execution_count": null,
      "outputs": [
        {
          "output_type": "stream",
          "name": "stdout",
          "text": [
            "<class 'pandas.core.frame.DataFrame'>\n",
            "RangeIndex: 3163713 entries, 0 to 3163712\n",
            "Data columns (total 48 columns):\n",
            " #   Column              Dtype  \n",
            "---  ------              -----  \n",
            " 0   NU_INSCRICAO        int64  \n",
            " 1   NU_ANO              int64  \n",
            " 2   TP_FAIXA_ETARIA     int64  \n",
            " 3   TP_SEXO             object \n",
            " 4   TP_ESTADO_CIVIL     int64  \n",
            " 5   TP_COR_RACA         int64  \n",
            " 6   TP_ST_CONCLUSAO     int64  \n",
            " 7   TP_ANO_CONCLUIU     int64  \n",
            " 8   TP_ESCOLA           int64  \n",
            " 9   TP_ENSINO           int64  \n",
            " 10  CO_MUNICIPIO_ESC    float64\n",
            " 11  NO_MUNICIPIO_ESC    object \n",
            " 12  SG_UF_ESC           object \n",
            " 13  TP_LOCALIZACAO_ESC  int64  \n",
            " 14  CO_MUNICIPIO_PROVA  float64\n",
            " 15  NO_MUNICIPIO_PROVA  object \n",
            " 16  SG_UF_PROVA         object \n",
            " 17  NU_NOTA_CN          float64\n",
            " 18  NU_NOTA_CH          float64\n",
            " 19  NU_NOTA_LC          float64\n",
            " 20  NU_NOTA_MT          float64\n",
            " 21  TP_LINGUA           int64  \n",
            " 22  NU_NOTA_REDACAO     float64\n",
            " 23  Q001                object \n",
            " 24  Q002                object \n",
            " 25  Q003                object \n",
            " 26  Q004                object \n",
            " 27  Q005                float64\n",
            " 28  Q006                object \n",
            " 29  Q007                object \n",
            " 30  Q008                object \n",
            " 31  Q009                object \n",
            " 32  Q010                object \n",
            " 33  Q011                object \n",
            " 34  Q012                object \n",
            " 35  Q013                object \n",
            " 36  Q014                object \n",
            " 37  Q015                object \n",
            " 38  Q016                object \n",
            " 39  Q017                object \n",
            " 40  Q018                object \n",
            " 41  Q019                object \n",
            " 42  Q020                object \n",
            " 43  Q021                object \n",
            " 44  Q022                object \n",
            " 45  Q023                object \n",
            " 46  Q024                object \n",
            " 47  Q025                object \n",
            "dtypes: float64(8), int64(11), object(29)\n",
            "memory usage: 1.1+ GB\n"
          ]
        }
      ]
    },
    {
      "cell_type": "markdown",
      "source": [
        "# **Classificação das Competências**"
      ],
      "metadata": {
        "id": "2YndI83d0Yzj"
      }
    },
    {
      "cell_type": "markdown",
      "source": [
        "- NU_NOTA_CN             "
      ],
      "metadata": {
        "id": "BWpnbgFL024l"
      }
    },
    {
      "cell_type": "code",
      "source": [
        "np.median(df_f.NU_NOTA_CN)"
      ],
      "metadata": {
        "colab": {
          "base_uri": "https://localhost:8080/"
        },
        "id": "6-TzQKU468wa",
        "outputId": "0a7b3729-4a02-4d61-88f3-a362da2c4ef2"
      },
      "execution_count": null,
      "outputs": [
        {
          "output_type": "execute_result",
          "data": {
            "text/plain": [
              "468.8"
            ]
          },
          "metadata": {},
          "execution_count": 4
        }
      ]
    },
    {
      "cell_type": "code",
      "source": [
        "df_f['Target_CN'] = np.where(df_f['NU_NOTA_CN'] > np.median(df_f.NU_NOTA_CN), 1, 0)"
      ],
      "metadata": {
        "id": "EvHU1ODP6cYy"
      },
      "execution_count": null,
      "outputs": []
    },
    {
      "cell_type": "code",
      "source": [
        "df_f['Target_CN'].value_counts().sort_index()"
      ],
      "metadata": {
        "colab": {
          "base_uri": "https://localhost:8080/"
        },
        "id": "iDVBFyN38MpX",
        "outputId": "7655fe97-a35d-477e-c889-ef1dd8ce85b2"
      },
      "execution_count": null,
      "outputs": [
        {
          "output_type": "execute_result",
          "data": {
            "text/plain": [
              "0    1582363\n",
              "1    1581350\n",
              "Name: Target_CN, dtype: int64"
            ]
          },
          "metadata": {},
          "execution_count": 6
        }
      ]
    },
    {
      "cell_type": "markdown",
      "source": [
        "- NU_NOTA_CH          "
      ],
      "metadata": {
        "id": "38Q_5HY88ruT"
      }
    },
    {
      "cell_type": "code",
      "source": [
        "np.median(df_f.NU_NOTA_CH)"
      ],
      "metadata": {
        "colab": {
          "base_uri": "https://localhost:8080/"
        },
        "id": "GenCRQQM8vaK",
        "outputId": "ca70ae7f-b0b3-4880-d626-a5f21f466157"
      },
      "execution_count": null,
      "outputs": [
        {
          "output_type": "execute_result",
          "data": {
            "text/plain": [
              "512.5"
            ]
          },
          "metadata": {},
          "execution_count": 7
        }
      ]
    },
    {
      "cell_type": "code",
      "source": [
        "df_f['Target_CH'] = np.where(df_f['NU_NOTA_CH'] > np.median(df_f.NU_NOTA_CH), 1, 0)"
      ],
      "metadata": {
        "id": "EbnM3CbJ8vj6"
      },
      "execution_count": null,
      "outputs": []
    },
    {
      "cell_type": "code",
      "source": [
        "df_f['Target_CH'].value_counts().sort_index()"
      ],
      "metadata": {
        "colab": {
          "base_uri": "https://localhost:8080/"
        },
        "id": "F03vOAlc8vss",
        "outputId": "4344b6b2-54fb-4209-ed17-c363c82ff160"
      },
      "execution_count": null,
      "outputs": [
        {
          "output_type": "execute_result",
          "data": {
            "text/plain": [
              "0    1582181\n",
              "1    1581532\n",
              "Name: Target_CH, dtype: int64"
            ]
          },
          "metadata": {},
          "execution_count": 9
        }
      ]
    },
    {
      "cell_type": "markdown",
      "source": [
        "- NU_NOTA_LC          "
      ],
      "metadata": {
        "id": "bStyKQiD9LYE"
      }
    },
    {
      "cell_type": "code",
      "source": [
        "np.median(df_f.NU_NOTA_LC)"
      ],
      "metadata": {
        "colab": {
          "base_uri": "https://localhost:8080/"
        },
        "id": "GFViPW-L9P5S",
        "outputId": "17b8aa04-7ac7-4a00-83e5-776511d98090"
      },
      "execution_count": null,
      "outputs": [
        {
          "output_type": "execute_result",
          "data": {
            "text/plain": [
              "526.8"
            ]
          },
          "metadata": {},
          "execution_count": 10
        }
      ]
    },
    {
      "cell_type": "code",
      "source": [
        "df_f['Target_LC'] = np.where(df_f['NU_NOTA_LC'] > np.median(df_f.NU_NOTA_LC), 1, 0)"
      ],
      "metadata": {
        "id": "40vSD37B9QCd"
      },
      "execution_count": null,
      "outputs": []
    },
    {
      "cell_type": "code",
      "source": [
        "df_f['Target_LC'].value_counts().sort_index()"
      ],
      "metadata": {
        "colab": {
          "base_uri": "https://localhost:8080/"
        },
        "id": "oQ7tqFzD9QKq",
        "outputId": "411c108f-0de2-4ff0-c116-25d53d7e56f2"
      },
      "execution_count": null,
      "outputs": [
        {
          "output_type": "execute_result",
          "data": {
            "text/plain": [
              "0    1583683\n",
              "1    1580030\n",
              "Name: Target_LC, dtype: int64"
            ]
          },
          "metadata": {},
          "execution_count": 12
        }
      ]
    },
    {
      "cell_type": "markdown",
      "source": [
        "- NU_NOTA_MT          "
      ],
      "metadata": {
        "id": "PVrYQ1he9qIe"
      }
    },
    {
      "cell_type": "code",
      "source": [
        "np.median(df_f.NU_NOTA_MT)"
      ],
      "metadata": {
        "colab": {
          "base_uri": "https://localhost:8080/"
        },
        "id": "VzbMLEi19rQc",
        "outputId": "05248c16-dce2-4217-d44a-b5f88ee24360"
      },
      "execution_count": null,
      "outputs": [
        {
          "output_type": "execute_result",
          "data": {
            "text/plain": [
              "497.4"
            ]
          },
          "metadata": {},
          "execution_count": 13
        }
      ]
    },
    {
      "cell_type": "code",
      "source": [
        "df_f['Target_MT'] = np.where(df_f['NU_NOTA_MT'] > np.median(df_f.NU_NOTA_MT), 1, 0)"
      ],
      "metadata": {
        "id": "2q5V31PS9rZM"
      },
      "execution_count": null,
      "outputs": []
    },
    {
      "cell_type": "code",
      "source": [
        "df_f['Target_MT'].value_counts().sort_index()"
      ],
      "metadata": {
        "colab": {
          "base_uri": "https://localhost:8080/"
        },
        "id": "DnSJBaBS9rhQ",
        "outputId": "7c76f7d9-90a7-436c-f115-870a0b388eb7"
      },
      "execution_count": null,
      "outputs": [
        {
          "output_type": "execute_result",
          "data": {
            "text/plain": [
              "0    1581959\n",
              "1    1581754\n",
              "Name: Target_MT, dtype: int64"
            ]
          },
          "metadata": {},
          "execution_count": 15
        }
      ]
    },
    {
      "cell_type": "markdown",
      "source": [
        "- NU_NOTA_REDACAO     "
      ],
      "metadata": {
        "id": "BtbB4ghy-JA7"
      }
    },
    {
      "cell_type": "code",
      "source": [
        "np.median(df_f.NU_NOTA_REDACAO)"
      ],
      "metadata": {
        "colab": {
          "base_uri": "https://localhost:8080/"
        },
        "id": "Esz42BCS-J_X",
        "outputId": "4aaf02ac-c442-47ec-d6d2-5398e3c22c37"
      },
      "execution_count": null,
      "outputs": [
        {
          "output_type": "execute_result",
          "data": {
            "text/plain": [
              "580.0"
            ]
          },
          "metadata": {},
          "execution_count": 16
        }
      ]
    },
    {
      "cell_type": "code",
      "source": [
        "df_f['Target_Red'] = np.where(df_f['NU_NOTA_REDACAO'] > np.median(df_f.NU_NOTA_REDACAO), 1, 0)"
      ],
      "metadata": {
        "id": "_5IsvwwX-KHK"
      },
      "execution_count": null,
      "outputs": []
    },
    {
      "cell_type": "code",
      "source": [
        "df_f['Target_Red'].value_counts().sort_index()"
      ],
      "metadata": {
        "colab": {
          "base_uri": "https://localhost:8080/"
        },
        "id": "WUO-npeM-KNi",
        "outputId": "87fd4cf6-f25b-4275-91b6-1b8e997b275a"
      },
      "execution_count": null,
      "outputs": [
        {
          "output_type": "execute_result",
          "data": {
            "text/plain": [
              "0    1653206\n",
              "1    1510507\n",
              "Name: Target_Red, dtype: int64"
            ]
          },
          "metadata": {},
          "execution_count": 18
        }
      ]
    },
    {
      "cell_type": "markdown",
      "source": [
        "# **Definição do Target**"
      ],
      "metadata": {
        "id": "SgjeIqfR-06-"
      }
    },
    {
      "cell_type": "code",
      "source": [
        "df_f['Sum_Target'] = df_f['Target_CN'] + df_f['Target_CH'] + df_f['Target_LC'] + df_f['Target_MT'] + df_f['Target_Red']"
      ],
      "metadata": {
        "id": "ZoFalzDk-4zl"
      },
      "execution_count": null,
      "outputs": []
    },
    {
      "cell_type": "code",
      "source": [
        "df_f['Sum_Target'].value_counts().sort_index()"
      ],
      "metadata": {
        "colab": {
          "base_uri": "https://localhost:8080/"
        },
        "id": "t59mVufp_xnk",
        "outputId": "39328c6f-34b2-4fe9-882a-6578aed9f436"
      },
      "execution_count": null,
      "outputs": [
        {
          "output_type": "execute_result",
          "data": {
            "text/plain": [
              "0    662547\n",
              "1    545574\n",
              "2    419538\n",
              "3    391152\n",
              "4    447443\n",
              "5    697459\n",
              "Name: Sum_Target, dtype: int64"
            ]
          },
          "metadata": {},
          "execution_count": 20
        }
      ]
    },
    {
      "cell_type": "code",
      "source": [
        "df_f['Sum_Target_2'] = np.where(df_f['Sum_Target'] >=3, 1, 0)\n",
        "df_f['Sum_Target_2'].value_counts().sort_index()"
      ],
      "metadata": {
        "colab": {
          "base_uri": "https://localhost:8080/"
        },
        "id": "fcUMAp4NDxmG",
        "outputId": "b1827839-0172-4453-af19-95ccec4ad843"
      },
      "execution_count": null,
      "outputs": [
        {
          "output_type": "execute_result",
          "data": {
            "text/plain": [
              "0    1627659\n",
              "1    1536054\n",
              "Name: Sum_Target_2, dtype: int64"
            ]
          },
          "metadata": {},
          "execution_count": 21
        }
      ]
    },
    {
      "cell_type": "code",
      "source": [
        "conditionlist = [(df_f['Sum_Target'] <= 1) ,\n",
        "                 (df_f['Sum_Target'] > 1) & (df_f['Sum_Target'] <= 3),\n",
        "                 (df_f['Sum_Target'] > 3)]\n",
        "choicelist = [0, 1, 2]\n",
        "df_f['Sum_Target_3'] = np.select(conditionlist, choicelist, default='Not Specified')\n",
        "\n",
        "df_f.Sum_Target_3.value_counts().sort_index()"
      ],
      "metadata": {
        "colab": {
          "base_uri": "https://localhost:8080/"
        },
        "id": "ewceGEQ3A-XK",
        "outputId": "10a8a3cf-77fb-4003-8046-327a93f4f670"
      },
      "execution_count": null,
      "outputs": [
        {
          "output_type": "execute_result",
          "data": {
            "text/plain": [
              "0    1208121\n",
              "1     810690\n",
              "2    1144902\n",
              "Name: Sum_Target_3, dtype: int64"
            ]
          },
          "metadata": {},
          "execution_count": 22
        }
      ]
    },
    {
      "cell_type": "markdown",
      "source": [
        "# **Exclusao de Colunas**"
      ],
      "metadata": {
        "id": "7215thvAGfAY"
      }
    },
    {
      "cell_type": "code",
      "source": [
        "df_f.drop(['Target_CN','Target_CH','Target_LC','Target_MT','Target_Red'], axis = 1, inplace = True)\n",
        "df_f.shape"
      ],
      "metadata": {
        "colab": {
          "base_uri": "https://localhost:8080/"
        },
        "id": "GEwvBvuDGiOC",
        "outputId": "ec1856ed-5e99-467d-94ae-22fdd36c7a5a"
      },
      "execution_count": null,
      "outputs": [
        {
          "output_type": "execute_result",
          "data": {
            "text/plain": [
              "(3163713, 51)"
            ]
          },
          "metadata": {},
          "execution_count": 23
        }
      ]
    },
    {
      "cell_type": "markdown",
      "source": [
        "# **Exportar Base Final**"
      ],
      "metadata": {
        "id": "zvepqC2FHDvL"
      }
    },
    {
      "cell_type": "code",
      "source": [
        "df_f.to_csv('/content/drive/MyDrive/MBA_TCC/DADOS/df_ft_2019.csv', index=False)"
      ],
      "metadata": {
        "id": "Q4oompiwHINi"
      },
      "execution_count": null,
      "outputs": []
    }
  ]
}
