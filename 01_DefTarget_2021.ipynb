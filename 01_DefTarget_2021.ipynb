{
  "nbformat": 4,
  "nbformat_minor": 0,
  "metadata": {
    "colab": {
      "provenance": [],
      "mount_file_id": "1GELn-1dNNEqlbxvLQlqaqsfnRsAgAhMy",
      "authorship_tag": "ABX9TyPdpQTjFHlagxKinf/+Irea",
      "include_colab_link": true
    },
    "kernelspec": {
      "name": "python3",
      "display_name": "Python 3"
    },
    "language_info": {
      "name": "python"
    }
  },
  "cells": [
    {
      "cell_type": "markdown",
      "metadata": {
        "id": "view-in-github",
        "colab_type": "text"
      },
      "source": [
        "<a href=\"https://colab.research.google.com/github/Adriana-FLW/MBA_TCC/blob/main/01_DefTarget_2021.ipynb\" target=\"_parent\"><img src=\"https://colab.research.google.com/assets/colab-badge.svg\" alt=\"Open In Colab\"/></a>"
      ]
    },
    {
      "cell_type": "markdown",
      "source": [
        "# **ENEM 2021**"
      ],
      "metadata": {
        "id": "cvmTA9hvz6WR"
      }
    },
    {
      "cell_type": "markdown",
      "source": [
        "# - **Bibliotecas**"
      ],
      "metadata": {
        "id": "mYMdtT9R0AGA"
      }
    },
    {
      "cell_type": "code",
      "source": [
        "import pandas as pd\n",
        "import numpy as np"
      ],
      "metadata": {
        "id": "vZP9nhSc0Fq_"
      },
      "execution_count": null,
      "outputs": []
    },
    {
      "cell_type": "markdown",
      "source": [
        "# **Importar Base 2021**"
      ],
      "metadata": {
        "id": "gH-3IGXK0MT3"
      }
    },
    {
      "cell_type": "code",
      "source": [
        "df_f = pd.read_csv('/content/drive/MyDrive/MBA_TCC/DADOS/df_f_2021.csv',sep=',',encoding='ISO-8859-1')\n",
        "df_f.shape"
      ],
      "metadata": {
        "colab": {
          "base_uri": "https://localhost:8080/"
        },
        "id": "8IA_ob080QPp",
        "outputId": "5aebe293-4027-40f4-d315-f8ac00cdb309"
      },
      "execution_count": null,
      "outputs": [
        {
          "output_type": "execute_result",
          "data": {
            "text/plain": [
              "(1864223, 48)"
            ]
          },
          "metadata": {},
          "execution_count": 2
        }
      ]
    },
    {
      "cell_type": "code",
      "source": [
        "df_f.info()"
      ],
      "metadata": {
        "colab": {
          "base_uri": "https://localhost:8080/"
        },
        "id": "9fyVyre10Wx5",
        "outputId": "c0d1c419-5717-4c1c-f072-ecd56403916a"
      },
      "execution_count": null,
      "outputs": [
        {
          "output_type": "stream",
          "name": "stdout",
          "text": [
            "<class 'pandas.core.frame.DataFrame'>\n",
            "RangeIndex: 1864223 entries, 0 to 1864222\n",
            "Data columns (total 48 columns):\n",
            " #   Column              Dtype  \n",
            "---  ------              -----  \n",
            " 0   NU_INSCRICAO        int64  \n",
            " 1   NU_ANO              int64  \n",
            " 2   TP_FAIXA_ETARIA     int64  \n",
            " 3   TP_SEXO             object \n",
            " 4   TP_ESTADO_CIVIL     int64  \n",
            " 5   TP_COR_RACA         int64  \n",
            " 6   TP_ST_CONCLUSAO     int64  \n",
            " 7   TP_ANO_CONCLUIU     int64  \n",
            " 8   TP_ESCOLA           int64  \n",
            " 9   TP_ENSINO           int64  \n",
            " 10  CO_MUNICIPIO_ESC    float64\n",
            " 11  NO_MUNICIPIO_ESC    object \n",
            " 12  SG_UF_ESC           object \n",
            " 13  TP_LOCALIZACAO_ESC  int64  \n",
            " 14  CO_MUNICIPIO_PROVA  float64\n",
            " 15  NO_MUNICIPIO_PROVA  object \n",
            " 16  SG_UF_PROVA         object \n",
            " 17  NU_NOTA_CN          float64\n",
            " 18  NU_NOTA_CH          float64\n",
            " 19  NU_NOTA_LC          float64\n",
            " 20  NU_NOTA_MT          float64\n",
            " 21  TP_LINGUA           int64  \n",
            " 22  NU_NOTA_REDACAO     float64\n",
            " 23  Q001                object \n",
            " 24  Q002                object \n",
            " 25  Q003                object \n",
            " 26  Q004                object \n",
            " 27  Q005                float64\n",
            " 28  Q006                object \n",
            " 29  Q007                object \n",
            " 30  Q008                object \n",
            " 31  Q009                object \n",
            " 32  Q010                object \n",
            " 33  Q011                object \n",
            " 34  Q012                object \n",
            " 35  Q013                object \n",
            " 36  Q014                object \n",
            " 37  Q015                object \n",
            " 38  Q016                object \n",
            " 39  Q017                object \n",
            " 40  Q018                object \n",
            " 41  Q019                object \n",
            " 42  Q020                object \n",
            " 43  Q021                object \n",
            " 44  Q022                object \n",
            " 45  Q023                object \n",
            " 46  Q024                object \n",
            " 47  Q025                object \n",
            "dtypes: float64(8), int64(11), object(29)\n",
            "memory usage: 682.7+ MB\n"
          ]
        }
      ]
    },
    {
      "cell_type": "markdown",
      "source": [
        "# **Classificação das Competências**"
      ],
      "metadata": {
        "id": "2YndI83d0Yzj"
      }
    },
    {
      "cell_type": "markdown",
      "source": [
        "- NU_NOTA_CN             "
      ],
      "metadata": {
        "id": "BWpnbgFL024l"
      }
    },
    {
      "cell_type": "code",
      "source": [
        "np.median(df_f.NU_NOTA_CN)"
      ],
      "metadata": {
        "colab": {
          "base_uri": "https://localhost:8080/"
        },
        "id": "6-TzQKU468wa",
        "outputId": "5b6ed11e-d667-4c16-b2af-fd0d0e06997e"
      },
      "execution_count": null,
      "outputs": [
        {
          "output_type": "execute_result",
          "data": {
            "text/plain": [
              "483.0"
            ]
          },
          "metadata": {},
          "execution_count": 4
        }
      ]
    },
    {
      "cell_type": "code",
      "source": [
        "df_f['Target_CN'] = np.where(df_f['NU_NOTA_CN'] > np.median(df_f.NU_NOTA_CN), 1, 0)"
      ],
      "metadata": {
        "id": "EvHU1ODP6cYy"
      },
      "execution_count": null,
      "outputs": []
    },
    {
      "cell_type": "code",
      "source": [
        "df_f['Target_CN'].value_counts().sort_index()"
      ],
      "metadata": {
        "colab": {
          "base_uri": "https://localhost:8080/"
        },
        "id": "iDVBFyN38MpX",
        "outputId": "69b44261-2aeb-4f9d-98d7-0abaccd120f8"
      },
      "execution_count": null,
      "outputs": [
        {
          "output_type": "execute_result",
          "data": {
            "text/plain": [
              "0    932131\n",
              "1    932092\n",
              "Name: Target_CN, dtype: int64"
            ]
          },
          "metadata": {},
          "execution_count": 6
        }
      ]
    },
    {
      "cell_type": "markdown",
      "source": [
        "- NU_NOTA_CH          "
      ],
      "metadata": {
        "id": "38Q_5HY88ruT"
      }
    },
    {
      "cell_type": "code",
      "source": [
        "np.median(df_f.NU_NOTA_CH)"
      ],
      "metadata": {
        "colab": {
          "base_uri": "https://localhost:8080/"
        },
        "id": "GenCRQQM8vaK",
        "outputId": "a3081fab-065c-439b-ce52-e2f35017e2f7"
      },
      "execution_count": null,
      "outputs": [
        {
          "output_type": "execute_result",
          "data": {
            "text/plain": [
              "526.9"
            ]
          },
          "metadata": {},
          "execution_count": 7
        }
      ]
    },
    {
      "cell_type": "code",
      "source": [
        "df_f['Target_CH'] = np.where(df_f['NU_NOTA_CH'] > np.median(df_f.NU_NOTA_CH), 1, 0)"
      ],
      "metadata": {
        "id": "EbnM3CbJ8vj6"
      },
      "execution_count": null,
      "outputs": []
    },
    {
      "cell_type": "code",
      "source": [
        "df_f['Target_CH'].value_counts().sort_index()"
      ],
      "metadata": {
        "colab": {
          "base_uri": "https://localhost:8080/"
        },
        "id": "F03vOAlc8vss",
        "outputId": "bd6ceeab-bbbf-4488-bdfa-1e87c34b19b3"
      },
      "execution_count": null,
      "outputs": [
        {
          "output_type": "execute_result",
          "data": {
            "text/plain": [
              "0    932708\n",
              "1    931515\n",
              "Name: Target_CH, dtype: int64"
            ]
          },
          "metadata": {},
          "execution_count": 9
        }
      ]
    },
    {
      "cell_type": "markdown",
      "source": [
        "- NU_NOTA_LC          "
      ],
      "metadata": {
        "id": "bStyKQiD9LYE"
      }
    },
    {
      "cell_type": "code",
      "source": [
        "np.median(df_f.NU_NOTA_LC)"
      ],
      "metadata": {
        "colab": {
          "base_uri": "https://localhost:8080/"
        },
        "id": "GFViPW-L9P5S",
        "outputId": "f47d91e0-ee91-41d9-ef89-0412970a13e2"
      },
      "execution_count": null,
      "outputs": [
        {
          "output_type": "execute_result",
          "data": {
            "text/plain": [
              "507.9"
            ]
          },
          "metadata": {},
          "execution_count": 10
        }
      ]
    },
    {
      "cell_type": "code",
      "source": [
        "df_f['Target_LC'] = np.where(df_f['NU_NOTA_LC'] > np.median(df_f.NU_NOTA_LC), 1, 0)"
      ],
      "metadata": {
        "id": "40vSD37B9QCd"
      },
      "execution_count": null,
      "outputs": []
    },
    {
      "cell_type": "code",
      "source": [
        "df_f['Target_LC'].value_counts().sort_index()"
      ],
      "metadata": {
        "colab": {
          "base_uri": "https://localhost:8080/"
        },
        "id": "oQ7tqFzD9QKq",
        "outputId": "276697ef-91f4-4919-bc2f-035c6bb6643c"
      },
      "execution_count": null,
      "outputs": [
        {
          "output_type": "execute_result",
          "data": {
            "text/plain": [
              "0    932989\n",
              "1    931234\n",
              "Name: Target_LC, dtype: int64"
            ]
          },
          "metadata": {},
          "execution_count": 12
        }
      ]
    },
    {
      "cell_type": "markdown",
      "source": [
        "- NU_NOTA_MT          "
      ],
      "metadata": {
        "id": "PVrYQ1he9qIe"
      }
    },
    {
      "cell_type": "code",
      "source": [
        "np.median(df_f.NU_NOTA_MT)"
      ],
      "metadata": {
        "colab": {
          "base_uri": "https://localhost:8080/"
        },
        "id": "VzbMLEi19rQc",
        "outputId": "fa017607-f122-4d17-b0b5-f3bd3775e0ad"
      },
      "execution_count": null,
      "outputs": [
        {
          "output_type": "execute_result",
          "data": {
            "text/plain": [
              "513.2"
            ]
          },
          "metadata": {},
          "execution_count": 13
        }
      ]
    },
    {
      "cell_type": "code",
      "source": [
        "df_f['Target_MT'] = np.where(df_f['NU_NOTA_MT'] > np.median(df_f.NU_NOTA_MT), 1, 0)"
      ],
      "metadata": {
        "id": "2q5V31PS9rZM"
      },
      "execution_count": null,
      "outputs": []
    },
    {
      "cell_type": "code",
      "source": [
        "df_f['Target_MT'].value_counts().sort_index()"
      ],
      "metadata": {
        "colab": {
          "base_uri": "https://localhost:8080/"
        },
        "id": "DnSJBaBS9rhQ",
        "outputId": "09ae18e2-0ed9-4a14-cdaf-44da47724a35"
      },
      "execution_count": null,
      "outputs": [
        {
          "output_type": "execute_result",
          "data": {
            "text/plain": [
              "0    932593\n",
              "1    931630\n",
              "Name: Target_MT, dtype: int64"
            ]
          },
          "metadata": {},
          "execution_count": 15
        }
      ]
    },
    {
      "cell_type": "markdown",
      "source": [
        "- NU_NOTA_REDACAO     "
      ],
      "metadata": {
        "id": "BtbB4ghy-JA7"
      }
    },
    {
      "cell_type": "code",
      "source": [
        "np.median(df_f.NU_NOTA_REDACAO)"
      ],
      "metadata": {
        "colab": {
          "base_uri": "https://localhost:8080/"
        },
        "id": "Esz42BCS-J_X",
        "outputId": "ade599ae-e0f0-47b2-acf6-1469dd10786c"
      },
      "execution_count": null,
      "outputs": [
        {
          "output_type": "execute_result",
          "data": {
            "text/plain": [
              "620.0"
            ]
          },
          "metadata": {},
          "execution_count": 16
        }
      ]
    },
    {
      "cell_type": "code",
      "source": [
        "df_f['Target_Red'] = np.where(df_f['NU_NOTA_REDACAO'] >= np.median(df_f.NU_NOTA_REDACAO), 1, 0)"
      ],
      "metadata": {
        "id": "_5IsvwwX-KHK"
      },
      "execution_count": null,
      "outputs": []
    },
    {
      "cell_type": "code",
      "source": [
        "df_f['Target_Red'].value_counts().sort_index()"
      ],
      "metadata": {
        "colab": {
          "base_uri": "https://localhost:8080/"
        },
        "id": "WUO-npeM-KNi",
        "outputId": "d50c0328-b866-4fb8-ddeb-92b23e6218a2"
      },
      "execution_count": null,
      "outputs": [
        {
          "output_type": "execute_result",
          "data": {
            "text/plain": [
              "0    928201\n",
              "1    936022\n",
              "Name: Target_Red, dtype: int64"
            ]
          },
          "metadata": {},
          "execution_count": 20
        }
      ]
    },
    {
      "cell_type": "markdown",
      "source": [
        "# **Definição do Target**"
      ],
      "metadata": {
        "id": "SgjeIqfR-06-"
      }
    },
    {
      "cell_type": "code",
      "source": [
        "df_f['Sum_Target'] = df_f['Target_CN'] + df_f['Target_CH'] + df_f['Target_LC'] + df_f['Target_MT'] + df_f['Target_Red']"
      ],
      "metadata": {
        "id": "ZoFalzDk-4zl"
      },
      "execution_count": null,
      "outputs": []
    },
    {
      "cell_type": "code",
      "source": [
        "df_f['Sum_Target'].value_counts().sort_index()"
      ],
      "metadata": {
        "colab": {
          "base_uri": "https://localhost:8080/"
        },
        "id": "t59mVufp_xnk",
        "outputId": "22f1d509-4200-4a99-e71f-d254cdc6bfb7"
      },
      "execution_count": null,
      "outputs": [
        {
          "output_type": "execute_result",
          "data": {
            "text/plain": [
              "0    389665\n",
              "1    310532\n",
              "2    244745\n",
              "3    231909\n",
              "4    270116\n",
              "5    417256\n",
              "Name: Sum_Target, dtype: int64"
            ]
          },
          "metadata": {},
          "execution_count": 22
        }
      ]
    },
    {
      "cell_type": "code",
      "source": [
        "df_f['Sum_Target_2'] = np.where(df_f['Sum_Target'] >=3, 1, 0)\n",
        "df_f['Sum_Target_2'].value_counts().sort_index()"
      ],
      "metadata": {
        "colab": {
          "base_uri": "https://localhost:8080/"
        },
        "id": "fcUMAp4NDxmG",
        "outputId": "3c40284f-e938-40e3-fcc9-e2180c2b0189"
      },
      "execution_count": null,
      "outputs": [
        {
          "output_type": "execute_result",
          "data": {
            "text/plain": [
              "0    944942\n",
              "1    919281\n",
              "Name: Sum_Target_2, dtype: int64"
            ]
          },
          "metadata": {},
          "execution_count": 23
        }
      ]
    },
    {
      "cell_type": "code",
      "source": [
        "conditionlist = [(df_f['Sum_Target'] <= 1) ,\n",
        "                 (df_f['Sum_Target'] > 1) & (df_f['Sum_Target'] <= 3),\n",
        "                 (df_f['Sum_Target'] > 3)]\n",
        "choicelist = [0, 1, 2]\n",
        "df_f['Sum_Target_3'] = np.select(conditionlist, choicelist, default='Not Specified')\n",
        "\n",
        "df_f.Sum_Target_3.value_counts().sort_index()"
      ],
      "metadata": {
        "colab": {
          "base_uri": "https://localhost:8080/"
        },
        "id": "ewceGEQ3A-XK",
        "outputId": "d85f0d9c-364c-4fea-f8ce-a663708b47bb"
      },
      "execution_count": null,
      "outputs": [
        {
          "output_type": "execute_result",
          "data": {
            "text/plain": [
              "0    700197\n",
              "1    476654\n",
              "2    687372\n",
              "Name: Sum_Target_3, dtype: int64"
            ]
          },
          "metadata": {},
          "execution_count": 24
        }
      ]
    },
    {
      "cell_type": "markdown",
      "source": [
        "# **Exclusao de Colunas**"
      ],
      "metadata": {
        "id": "7215thvAGfAY"
      }
    },
    {
      "cell_type": "code",
      "source": [
        "df_f.drop(['Target_CN','Target_CH','Target_LC','Target_MT','Target_Red'], axis = 1, inplace = True)\n",
        "df_f.shape"
      ],
      "metadata": {
        "colab": {
          "base_uri": "https://localhost:8080/"
        },
        "id": "GEwvBvuDGiOC",
        "outputId": "2ee544ca-b458-44de-d482-1a1153ffe7b5"
      },
      "execution_count": null,
      "outputs": [
        {
          "output_type": "execute_result",
          "data": {
            "text/plain": [
              "(1864223, 51)"
            ]
          },
          "metadata": {},
          "execution_count": 25
        }
      ]
    },
    {
      "cell_type": "markdown",
      "source": [
        "# **Exportar Base Final**"
      ],
      "metadata": {
        "id": "zvepqC2FHDvL"
      }
    },
    {
      "cell_type": "code",
      "source": [
        "df_f.to_csv('/content/drive/MyDrive/MBA_TCC/DADOS/df_ft_2021.csv', index=False)"
      ],
      "metadata": {
        "id": "Q4oompiwHINi"
      },
      "execution_count": null,
      "outputs": []
    }
  ]
}