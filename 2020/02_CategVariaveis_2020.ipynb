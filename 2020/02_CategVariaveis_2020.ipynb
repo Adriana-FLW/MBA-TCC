{
  "nbformat": 4,
  "nbformat_minor": 0,
  "metadata": {
    "colab": {
      "provenance": [],
      "mount_file_id": "16qB9vyydKntA8X0xuOHkmGNGs1l3NAlm",
      "authorship_tag": "ABX9TyOvBjKT91m5HIdzZ5hRTIhx",
      "include_colab_link": true
    },
    "kernelspec": {
      "name": "python3",
      "display_name": "Python 3"
    },
    "language_info": {
      "name": "python"
    }
  },
  "cells": [
    {
      "cell_type": "markdown",
      "metadata": {
        "id": "view-in-github",
        "colab_type": "text"
      },
      "source": [
        "<a href=\"https://colab.research.google.com/github/Adriana-FLW/MBA_TCC/blob/main/02_CategVariaveis_2020.ipynb\" target=\"_parent\"><img src=\"https://colab.research.google.com/assets/colab-badge.svg\" alt=\"Open In Colab\"/></a>"
      ]
    },
    {
      "cell_type": "markdown",
      "source": [
        "\n",
        "# **ENEM 2020**"
      ],
      "metadata": {
        "id": "cvmTA9hvz6WR"
      }
    },
    {
      "cell_type": "markdown",
      "source": [
        "# - **Bibliotecas**"
      ],
      "metadata": {
        "id": "mYMdtT9R0AGA"
      }
    },
    {
      "cell_type": "code",
      "source": [
        "import pandas as pd\n",
        "import numpy as np"
      ],
      "metadata": {
        "id": "vZP9nhSc0Fq_"
      },
      "execution_count": null,
      "outputs": []
    },
    {
      "cell_type": "markdown",
      "source": [
        "# **Importar Base 2020**"
      ],
      "metadata": {
        "id": "gH-3IGXK0MT3"
      }
    },
    {
      "cell_type": "code",
      "source": [
        "df_ft = pd.read_csv('/content/drive/MyDrive/MBA_TCC/DADOS/df_ft_2020.csv',sep=',',encoding='ISO-8859-1')\n",
        "df_ft.shape"
      ],
      "metadata": {
        "colab": {
          "base_uri": "https://localhost:8080/"
        },
        "id": "8IA_ob080QPp",
        "outputId": "3c6c6142-6020-4dfe-e5a9-18f3c166718b"
      },
      "execution_count": null,
      "outputs": [
        {
          "output_type": "execute_result",
          "data": {
            "text/plain": [
              "(2207793, 51)"
            ]
          },
          "metadata": {},
          "execution_count": 4
        }
      ]
    },
    {
      "cell_type": "code",
      "source": [
        "df_ft.info()"
      ],
      "metadata": {
        "colab": {
          "base_uri": "https://localhost:8080/"
        },
        "id": "9fyVyre10Wx5",
        "outputId": "17634e2f-e60b-4935-bf8a-b5327d50d96e"
      },
      "execution_count": null,
      "outputs": [
        {
          "output_type": "stream",
          "name": "stdout",
          "text": [
            "<class 'pandas.core.frame.DataFrame'>\n",
            "RangeIndex: 2207793 entries, 0 to 2207792\n",
            "Data columns (total 51 columns):\n",
            " #   Column              Dtype  \n",
            "---  ------              -----  \n",
            " 0   NU_INSCRICAO        int64  \n",
            " 1   NU_ANO              int64  \n",
            " 2   TP_FAIXA_ETARIA     int64  \n",
            " 3   TP_SEXO             object \n",
            " 4   TP_ESTADO_CIVIL     int64  \n",
            " 5   TP_COR_RACA         int64  \n",
            " 6   TP_ST_CONCLUSAO     int64  \n",
            " 7   TP_ANO_CONCLUIU     int64  \n",
            " 8   TP_ESCOLA           int64  \n",
            " 9   TP_ENSINO           int64  \n",
            " 10  CO_MUNICIPIO_ESC    float64\n",
            " 11  NO_MUNICIPIO_ESC    object \n",
            " 12  SG_UF_ESC           object \n",
            " 13  TP_LOCALIZACAO_ESC  int64  \n",
            " 14  CO_MUNICIPIO_PROVA  float64\n",
            " 15  NO_MUNICIPIO_PROVA  object \n",
            " 16  SG_UF_PROVA         object \n",
            " 17  NU_NOTA_CN          float64\n",
            " 18  NU_NOTA_CH          float64\n",
            " 19  NU_NOTA_LC          float64\n",
            " 20  NU_NOTA_MT          float64\n",
            " 21  TP_LINGUA           int64  \n",
            " 22  NU_NOTA_REDACAO     float64\n",
            " 23  Q001                object \n",
            " 24  Q002                object \n",
            " 25  Q003                object \n",
            " 26  Q004                object \n",
            " 27  Q005                float64\n",
            " 28  Q006                object \n",
            " 29  Q007                object \n",
            " 30  Q008                object \n",
            " 31  Q009                object \n",
            " 32  Q010                object \n",
            " 33  Q011                object \n",
            " 34  Q012                object \n",
            " 35  Q013                object \n",
            " 36  Q014                object \n",
            " 37  Q015                object \n",
            " 38  Q016                object \n",
            " 39  Q017                object \n",
            " 40  Q018                object \n",
            " 41  Q019                object \n",
            " 42  Q020                object \n",
            " 43  Q021                object \n",
            " 44  Q022                object \n",
            " 45  Q023                object \n",
            " 46  Q024                object \n",
            " 47  Q025                object \n",
            " 48  Sum_Target          int64  \n",
            " 49  Sum_Target_2        int64  \n",
            " 50  Sum_Target_3        int64  \n",
            "dtypes: float64(8), int64(14), object(29)\n",
            "memory usage: 859.1+ MB\n"
          ]
        }
      ]
    },
    {
      "cell_type": "code",
      "source": [
        "df_ft.head()"
      ],
      "metadata": {
        "colab": {
          "base_uri": "https://localhost:8080/",
          "height": 300
        },
        "id": "pd5hCXFqTTne",
        "outputId": "8cbd50f6-0a99-442d-c42e-90a4e34a1686"
      },
      "execution_count": null,
      "outputs": [
        {
          "output_type": "execute_result",
          "data": {
            "text/plain": [
              "   NU_INSCRICAO  NU_ANO  TP_FAIXA_ETARIA TP_SEXO  TP_ESTADO_CIVIL  \\\n",
              "0  200003132410    2020                3       F                1   \n",
              "1  200006762554    2020                5       F                2   \n",
              "2  200006138472    2020                7       M                1   \n",
              "3  200003343448    2020                7       F                1   \n",
              "4  200005966328    2020               13       M                1   \n",
              "\n",
              "   TP_COR_RACA  TP_ST_CONCLUSAO  TP_ANO_CONCLUIU  TP_ESCOLA  TP_ENSINO  ...  \\\n",
              "0            3                1                1          1          9  ...   \n",
              "1            3                1                3          1          9  ...   \n",
              "2            1                1                0          1          9  ...   \n",
              "3            3                1                3          1          9  ...   \n",
              "4            2                1                0          1          9  ...   \n",
              "\n",
              "   Q019 Q020 Q021  Q022  Q023 Q024 Q025  Sum_Target  Sum_Target_2  \\\n",
              "0     B    B    A     D     A    B    B           4             1   \n",
              "1     B    A    A     C     A    A    A           1             0   \n",
              "2     B    A    A     C     A    B    B           5             1   \n",
              "3     B    B    A     C     A    B    B           2             0   \n",
              "4     B    B    A     C     A    A    A           1             0   \n",
              "\n",
              "   Sum_Target_3  \n",
              "0             2  \n",
              "1             0  \n",
              "2             2  \n",
              "3             1  \n",
              "4             0  \n",
              "\n",
              "[5 rows x 51 columns]"
            ],
            "text/html": [
              "\n",
              "  <div id=\"df-e97b2cb6-1609-4014-b64b-68f3aaf57ddf\">\n",
              "    <div class=\"colab-df-container\">\n",
              "      <div>\n",
              "<style scoped>\n",
              "    .dataframe tbody tr th:only-of-type {\n",
              "        vertical-align: middle;\n",
              "    }\n",
              "\n",
              "    .dataframe tbody tr th {\n",
              "        vertical-align: top;\n",
              "    }\n",
              "\n",
              "    .dataframe thead th {\n",
              "        text-align: right;\n",
              "    }\n",
              "</style>\n",
              "<table border=\"1\" class=\"dataframe\">\n",
              "  <thead>\n",
              "    <tr style=\"text-align: right;\">\n",
              "      <th></th>\n",
              "      <th>NU_INSCRICAO</th>\n",
              "      <th>NU_ANO</th>\n",
              "      <th>TP_FAIXA_ETARIA</th>\n",
              "      <th>TP_SEXO</th>\n",
              "      <th>TP_ESTADO_CIVIL</th>\n",
              "      <th>TP_COR_RACA</th>\n",
              "      <th>TP_ST_CONCLUSAO</th>\n",
              "      <th>TP_ANO_CONCLUIU</th>\n",
              "      <th>TP_ESCOLA</th>\n",
              "      <th>TP_ENSINO</th>\n",
              "      <th>...</th>\n",
              "      <th>Q019</th>\n",
              "      <th>Q020</th>\n",
              "      <th>Q021</th>\n",
              "      <th>Q022</th>\n",
              "      <th>Q023</th>\n",
              "      <th>Q024</th>\n",
              "      <th>Q025</th>\n",
              "      <th>Sum_Target</th>\n",
              "      <th>Sum_Target_2</th>\n",
              "      <th>Sum_Target_3</th>\n",
              "    </tr>\n",
              "  </thead>\n",
              "  <tbody>\n",
              "    <tr>\n",
              "      <th>0</th>\n",
              "      <td>200003132410</td>\n",
              "      <td>2020</td>\n",
              "      <td>3</td>\n",
              "      <td>F</td>\n",
              "      <td>1</td>\n",
              "      <td>3</td>\n",
              "      <td>1</td>\n",
              "      <td>1</td>\n",
              "      <td>1</td>\n",
              "      <td>9</td>\n",
              "      <td>...</td>\n",
              "      <td>B</td>\n",
              "      <td>B</td>\n",
              "      <td>A</td>\n",
              "      <td>D</td>\n",
              "      <td>A</td>\n",
              "      <td>B</td>\n",
              "      <td>B</td>\n",
              "      <td>4</td>\n",
              "      <td>1</td>\n",
              "      <td>2</td>\n",
              "    </tr>\n",
              "    <tr>\n",
              "      <th>1</th>\n",
              "      <td>200006762554</td>\n",
              "      <td>2020</td>\n",
              "      <td>5</td>\n",
              "      <td>F</td>\n",
              "      <td>2</td>\n",
              "      <td>3</td>\n",
              "      <td>1</td>\n",
              "      <td>3</td>\n",
              "      <td>1</td>\n",
              "      <td>9</td>\n",
              "      <td>...</td>\n",
              "      <td>B</td>\n",
              "      <td>A</td>\n",
              "      <td>A</td>\n",
              "      <td>C</td>\n",
              "      <td>A</td>\n",
              "      <td>A</td>\n",
              "      <td>A</td>\n",
              "      <td>1</td>\n",
              "      <td>0</td>\n",
              "      <td>0</td>\n",
              "    </tr>\n",
              "    <tr>\n",
              "      <th>2</th>\n",
              "      <td>200006138472</td>\n",
              "      <td>2020</td>\n",
              "      <td>7</td>\n",
              "      <td>M</td>\n",
              "      <td>1</td>\n",
              "      <td>1</td>\n",
              "      <td>1</td>\n",
              "      <td>0</td>\n",
              "      <td>1</td>\n",
              "      <td>9</td>\n",
              "      <td>...</td>\n",
              "      <td>B</td>\n",
              "      <td>A</td>\n",
              "      <td>A</td>\n",
              "      <td>C</td>\n",
              "      <td>A</td>\n",
              "      <td>B</td>\n",
              "      <td>B</td>\n",
              "      <td>5</td>\n",
              "      <td>1</td>\n",
              "      <td>2</td>\n",
              "    </tr>\n",
              "    <tr>\n",
              "      <th>3</th>\n",
              "      <td>200003343448</td>\n",
              "      <td>2020</td>\n",
              "      <td>7</td>\n",
              "      <td>F</td>\n",
              "      <td>1</td>\n",
              "      <td>3</td>\n",
              "      <td>1</td>\n",
              "      <td>3</td>\n",
              "      <td>1</td>\n",
              "      <td>9</td>\n",
              "      <td>...</td>\n",
              "      <td>B</td>\n",
              "      <td>B</td>\n",
              "      <td>A</td>\n",
              "      <td>C</td>\n",
              "      <td>A</td>\n",
              "      <td>B</td>\n",
              "      <td>B</td>\n",
              "      <td>2</td>\n",
              "      <td>0</td>\n",
              "      <td>1</td>\n",
              "    </tr>\n",
              "    <tr>\n",
              "      <th>4</th>\n",
              "      <td>200005966328</td>\n",
              "      <td>2020</td>\n",
              "      <td>13</td>\n",
              "      <td>M</td>\n",
              "      <td>1</td>\n",
              "      <td>2</td>\n",
              "      <td>1</td>\n",
              "      <td>0</td>\n",
              "      <td>1</td>\n",
              "      <td>9</td>\n",
              "      <td>...</td>\n",
              "      <td>B</td>\n",
              "      <td>B</td>\n",
              "      <td>A</td>\n",
              "      <td>C</td>\n",
              "      <td>A</td>\n",
              "      <td>A</td>\n",
              "      <td>A</td>\n",
              "      <td>1</td>\n",
              "      <td>0</td>\n",
              "      <td>0</td>\n",
              "    </tr>\n",
              "  </tbody>\n",
              "</table>\n",
              "<p>5 rows × 51 columns</p>\n",
              "</div>\n",
              "      <button class=\"colab-df-convert\" onclick=\"convertToInteractive('df-e97b2cb6-1609-4014-b64b-68f3aaf57ddf')\"\n",
              "              title=\"Convert this dataframe to an interactive table.\"\n",
              "              style=\"display:none;\">\n",
              "        \n",
              "  <svg xmlns=\"http://www.w3.org/2000/svg\" height=\"24px\"viewBox=\"0 0 24 24\"\n",
              "       width=\"24px\">\n",
              "    <path d=\"M0 0h24v24H0V0z\" fill=\"none\"/>\n",
              "    <path d=\"M18.56 5.44l.94 2.06.94-2.06 2.06-.94-2.06-.94-.94-2.06-.94 2.06-2.06.94zm-11 1L8.5 8.5l.94-2.06 2.06-.94-2.06-.94L8.5 2.5l-.94 2.06-2.06.94zm10 10l.94 2.06.94-2.06 2.06-.94-2.06-.94-.94-2.06-.94 2.06-2.06.94z\"/><path d=\"M17.41 7.96l-1.37-1.37c-.4-.4-.92-.59-1.43-.59-.52 0-1.04.2-1.43.59L10.3 9.45l-7.72 7.72c-.78.78-.78 2.05 0 2.83L4 21.41c.39.39.9.59 1.41.59.51 0 1.02-.2 1.41-.59l7.78-7.78 2.81-2.81c.8-.78.8-2.07 0-2.86zM5.41 20L4 18.59l7.72-7.72 1.47 1.35L5.41 20z\"/>\n",
              "  </svg>\n",
              "      </button>\n",
              "      \n",
              "  <style>\n",
              "    .colab-df-container {\n",
              "      display:flex;\n",
              "      flex-wrap:wrap;\n",
              "      gap: 12px;\n",
              "    }\n",
              "\n",
              "    .colab-df-convert {\n",
              "      background-color: #E8F0FE;\n",
              "      border: none;\n",
              "      border-radius: 50%;\n",
              "      cursor: pointer;\n",
              "      display: none;\n",
              "      fill: #1967D2;\n",
              "      height: 32px;\n",
              "      padding: 0 0 0 0;\n",
              "      width: 32px;\n",
              "    }\n",
              "\n",
              "    .colab-df-convert:hover {\n",
              "      background-color: #E2EBFA;\n",
              "      box-shadow: 0px 1px 2px rgba(60, 64, 67, 0.3), 0px 1px 3px 1px rgba(60, 64, 67, 0.15);\n",
              "      fill: #174EA6;\n",
              "    }\n",
              "\n",
              "    [theme=dark] .colab-df-convert {\n",
              "      background-color: #3B4455;\n",
              "      fill: #D2E3FC;\n",
              "    }\n",
              "\n",
              "    [theme=dark] .colab-df-convert:hover {\n",
              "      background-color: #434B5C;\n",
              "      box-shadow: 0px 1px 3px 1px rgba(0, 0, 0, 0.15);\n",
              "      filter: drop-shadow(0px 1px 2px rgba(0, 0, 0, 0.3));\n",
              "      fill: #FFFFFF;\n",
              "    }\n",
              "  </style>\n",
              "\n",
              "      <script>\n",
              "        const buttonEl =\n",
              "          document.querySelector('#df-e97b2cb6-1609-4014-b64b-68f3aaf57ddf button.colab-df-convert');\n",
              "        buttonEl.style.display =\n",
              "          google.colab.kernel.accessAllowed ? 'block' : 'none';\n",
              "\n",
              "        async function convertToInteractive(key) {\n",
              "          const element = document.querySelector('#df-e97b2cb6-1609-4014-b64b-68f3aaf57ddf');\n",
              "          const dataTable =\n",
              "            await google.colab.kernel.invokeFunction('convertToInteractive',\n",
              "                                                     [key], {});\n",
              "          if (!dataTable) return;\n",
              "\n",
              "          const docLinkHtml = 'Like what you see? Visit the ' +\n",
              "            '<a target=\"_blank\" href=https://colab.research.google.com/notebooks/data_table.ipynb>data table notebook</a>'\n",
              "            + ' to learn more about interactive tables.';\n",
              "          element.innerHTML = '';\n",
              "          dataTable['output_type'] = 'display_data';\n",
              "          await google.colab.output.renderOutput(dataTable, element);\n",
              "          const docLink = document.createElement('div');\n",
              "          docLink.innerHTML = docLinkHtml;\n",
              "          element.appendChild(docLink);\n",
              "        }\n",
              "      </script>\n",
              "    </div>\n",
              "  </div>\n",
              "  "
            ]
          },
          "metadata": {},
          "execution_count": 6
        }
      ]
    },
    {
      "cell_type": "code",
      "source": [
        "df_ft.columns"
      ],
      "metadata": {
        "colab": {
          "base_uri": "https://localhost:8080/"
        },
        "id": "xw2IVuTTdWVs",
        "outputId": "5f944468-2715-4881-df81-421cae62b89a"
      },
      "execution_count": null,
      "outputs": [
        {
          "output_type": "execute_result",
          "data": {
            "text/plain": [
              "Index(['NU_INSCRICAO', 'NU_ANO', 'TP_FAIXA_ETARIA', 'TP_SEXO',\n",
              "       'TP_ESTADO_CIVIL', 'TP_COR_RACA', 'TP_ST_CONCLUSAO', 'TP_ANO_CONCLUIU',\n",
              "       'TP_ESCOLA', 'TP_ENSINO', 'CO_MUNICIPIO_ESC', 'NO_MUNICIPIO_ESC',\n",
              "       'SG_UF_ESC', 'TP_LOCALIZACAO_ESC', 'CO_MUNICIPIO_PROVA',\n",
              "       'NO_MUNICIPIO_PROVA', 'SG_UF_PROVA', 'NU_NOTA_CN', 'NU_NOTA_CH',\n",
              "       'NU_NOTA_LC', 'NU_NOTA_MT', 'TP_LINGUA', 'NU_NOTA_REDACAO', 'Q001',\n",
              "       'Q002', 'Q003', 'Q004', 'Q005', 'Q006', 'Q007', 'Q008', 'Q009', 'Q010',\n",
              "       'Q011', 'Q012', 'Q013', 'Q014', 'Q015', 'Q016', 'Q017', 'Q018', 'Q019',\n",
              "       'Q020', 'Q021', 'Q022', 'Q023', 'Q024', 'Q025', 'Sum_Target',\n",
              "       'Sum_Target_2', 'Sum_Target_3'],\n",
              "      dtype='object')"
            ]
          },
          "metadata": {},
          "execution_count": 7
        }
      ]
    },
    {
      "cell_type": "markdown",
      "source": [
        "# **Criação de Variáveis**"
      ],
      "metadata": {
        "id": "_22D8WOQD-UK"
      }
    },
    {
      "cell_type": "markdown",
      "source": [
        "- - Computador/Celular/Internet"
      ],
      "metadata": {
        "id": "hF2OcXNiEnG9"
      }
    },
    {
      "cell_type": "code",
      "source": [
        "df_ft['Ter_Cel'] = np.where(df_ft['Q022'] == 'A', 0, 1)\n",
        "df_ft['Ter_Com'] = np.where(df_ft['Q024'] == 'A', 0, 1)\n",
        "df_ft['Ter_Int'] = np.where(df_ft['Q025'] == 'A', 0, 1)\n",
        "df_ft['Sum_TIC3'] = df_ft['Ter_Cel'] + df_ft['Ter_Com'] + df_ft['Ter_Int']"
      ],
      "metadata": {
        "id": "IMHHFqA3EoYQ"
      },
      "execution_count": null,
      "outputs": []
    },
    {
      "cell_type": "code",
      "source": [
        "df_ft['Ter_Cel'].value_counts().sort_index()"
      ],
      "metadata": {
        "id": "K9CyX7QgE842",
        "colab": {
          "base_uri": "https://localhost:8080/"
        },
        "outputId": "ca87ba15-a9c8-4a06-fbca-90075573f693"
      },
      "execution_count": null,
      "outputs": [
        {
          "output_type": "execute_result",
          "data": {
            "text/plain": [
              "0      40410\n",
              "1    2167383\n",
              "Name: Ter_Cel, dtype: int64"
            ]
          },
          "metadata": {},
          "execution_count": 9
        }
      ]
    },
    {
      "cell_type": "code",
      "source": [
        "df_ft['Ter_Com'].value_counts().sort_index()"
      ],
      "metadata": {
        "id": "WUGPuZ7BE9AT",
        "colab": {
          "base_uri": "https://localhost:8080/"
        },
        "outputId": "1227f7cf-5f39-4d9e-c61f-8a9b11d70fad"
      },
      "execution_count": null,
      "outputs": [
        {
          "output_type": "execute_result",
          "data": {
            "text/plain": [
              "0    1010010\n",
              "1    1197783\n",
              "Name: Ter_Com, dtype: int64"
            ]
          },
          "metadata": {},
          "execution_count": 10
        }
      ]
    },
    {
      "cell_type": "code",
      "source": [
        "df_ft['Ter_Int'].value_counts().sort_index()"
      ],
      "metadata": {
        "id": "VR98ogHfE9G7",
        "colab": {
          "base_uri": "https://localhost:8080/"
        },
        "outputId": "63bcba51-690b-4654-ba58-57635d962eab"
      },
      "execution_count": null,
      "outputs": [
        {
          "output_type": "execute_result",
          "data": {
            "text/plain": [
              "0     372847\n",
              "1    1834946\n",
              "Name: Ter_Int, dtype: int64"
            ]
          },
          "metadata": {},
          "execution_count": 11
        }
      ]
    },
    {
      "cell_type": "code",
      "source": [
        "df_ft['Sum_TIC3'].value_counts().sort_index()"
      ],
      "metadata": {
        "id": "GU7xoaMBE9N-",
        "colab": {
          "base_uri": "https://localhost:8080/"
        },
        "outputId": "99e63bbb-b95a-468d-b536-73c72e445fa9"
      },
      "execution_count": null,
      "outputs": [
        {
          "output_type": "execute_result",
          "data": {
            "text/plain": [
              "0      18343\n",
              "1     325247\n",
              "2     717744\n",
              "3    1146459\n",
              "Name: Sum_TIC3, dtype: int64"
            ]
          },
          "metadata": {},
          "execution_count": 12
        }
      ]
    },
    {
      "cell_type": "code",
      "source": [
        "df_ft.loc[df_ft.Sum_TIC3 == 0 ,'Sum_TIC3_']='1'\n",
        "df_ft.loc[df_ft.Sum_TIC3 == 1 ,'Sum_TIC3_']='1'\n",
        "df_ft.loc[df_ft.Sum_TIC3 == 2 ,'Sum_TIC3_']='2'\n",
        "df_ft.loc[df_ft.Sum_TIC3 == 3 ,'Sum_TIC3_']='3'"
      ],
      "metadata": {
        "id": "6hRztoEiyIRZ"
      },
      "execution_count": null,
      "outputs": []
    },
    {
      "cell_type": "markdown",
      "source": [
        "- Computador/Celular/Internet/TV/Tel Fixo"
      ],
      "metadata": {
        "id": "5bvj-jgxFDYU"
      }
    },
    {
      "cell_type": "code",
      "source": [
        "df_ft['Ter_TVa'] = np.where(df_ft['Q021'] == 'A', 0, 1)\n",
        "df_ft['Ter_TFi'] = np.where(df_ft['Q023'] == 'A', 0, 1)\n",
        "df_ft['Sum_TIC5'] = df_ft['Ter_Cel'] + df_ft['Ter_Com'] + df_ft['Ter_Int'] + df_ft['Ter_TVa'] + df_ft['Ter_TFi']\n"
      ],
      "metadata": {
        "id": "n0-HpcqXFZi1"
      },
      "execution_count": null,
      "outputs": []
    },
    {
      "cell_type": "code",
      "source": [
        "df_ft['Ter_TVa'].value_counts().sort_index()"
      ],
      "metadata": {
        "id": "_DVNmJRrFZq4",
        "colab": {
          "base_uri": "https://localhost:8080/"
        },
        "outputId": "c9460f7a-edd1-45d1-db49-c481aba5bd3d"
      },
      "execution_count": null,
      "outputs": [
        {
          "output_type": "execute_result",
          "data": {
            "text/plain": [
              "0    1763450\n",
              "1     444343\n",
              "Name: Ter_TVa, dtype: int64"
            ]
          },
          "metadata": {},
          "execution_count": 15
        }
      ]
    },
    {
      "cell_type": "code",
      "source": [
        "df_ft['Ter_TFi'].value_counts().sort_index()"
      ],
      "metadata": {
        "id": "ASr-QJd-FZx9",
        "colab": {
          "base_uri": "https://localhost:8080/"
        },
        "outputId": "ab67ed79-716a-4a4d-de0f-41f9f0b3eebe"
      },
      "execution_count": null,
      "outputs": [
        {
          "output_type": "execute_result",
          "data": {
            "text/plain": [
              "0    1773473\n",
              "1     434320\n",
              "Name: Ter_TFi, dtype: int64"
            ]
          },
          "metadata": {},
          "execution_count": 16
        }
      ]
    },
    {
      "cell_type": "code",
      "source": [
        "df_ft['Sum_TIC5'].value_counts().sort_index()"
      ],
      "metadata": {
        "id": "Dx0wHQCYFZ48",
        "colab": {
          "base_uri": "https://localhost:8080/"
        },
        "outputId": "cbc662e4-641d-4c56-cbb2-a8f3da6fcde4"
      },
      "execution_count": null,
      "outputs": [
        {
          "output_type": "execute_result",
          "data": {
            "text/plain": [
              "0     17623\n",
              "1    309130\n",
              "2    597727\n",
              "3    731100\n",
              "4    380174\n",
              "5    172039\n",
              "Name: Sum_TIC5, dtype: int64"
            ]
          },
          "metadata": {},
          "execution_count": 17
        }
      ]
    },
    {
      "cell_type": "code",
      "source": [
        "df_ft.loc[df_ft.Sum_TIC5 == 0 ,'Sum_TIC5_']='1'\n",
        "df_ft.loc[df_ft.Sum_TIC5 == 1 ,'Sum_TIC5_']='1'\n",
        "df_ft.loc[df_ft.Sum_TIC5 == 2 ,'Sum_TIC5_']='2'\n",
        "df_ft.loc[df_ft.Sum_TIC5 == 3 ,'Sum_TIC5_']='3'\n",
        "df_ft.loc[df_ft.Sum_TIC5 == 4 ,'Sum_TIC5_']='4'\n",
        "df_ft.loc[df_ft.Sum_TIC5 == 5 ,'Sum_TIC5_']='5'"
      ],
      "metadata": {
        "id": "hRBIqcIFylf_"
      },
      "execution_count": null,
      "outputs": []
    },
    {
      "cell_type": "markdown",
      "source": [
        "- Qtde de Eletrodomésticos"
      ],
      "metadata": {
        "id": "3Rf00n9PFkLz"
      }
    },
    {
      "cell_type": "code",
      "source": [
        "df_ft['Ter_Gel'] = np.where(df_ft['Q012'] == 'A', 0, 1)\n",
        "df_ft['Ter_Fre'] = np.where(df_ft['Q013'] == 'A', 0, 1)\n",
        "df_ft['Ter_LvR'] = np.where(df_ft['Q014'] == 'A', 0, 1)\n",
        "df_ft['Ter_ScR'] = np.where(df_ft['Q015'] == 'A', 0, 1)\n",
        "df_ft['Ter_Mio'] = np.where(df_ft['Q016'] == 'A', 0, 1)\n",
        "df_ft['Ter_LvL'] = np.where(df_ft['Q017'] == 'A', 0, 1)\n",
        "df_ft['Ter_Asp'] = np.where(df_ft['Q018'] == 'A', 0, 1)\n",
        "df_ft['Ter_TV'] = np.where(df_ft['Q019'] == 'A', 0, 1)\n",
        "df_ft['Ter_DVD'] = np.where(df_ft['Q020'] == 'A', 0, 1)\n",
        "df_ft['Sum_Elet'] = df_ft['Ter_Gel'] + df_ft['Ter_Fre'] + df_ft['Ter_LvR'] + df_ft['Ter_ScR'] + df_ft['Ter_Mio'] + df_ft['Ter_LvL'] + df_ft['Ter_Asp'] + df_ft['Ter_TV'] + df_ft['Ter_DVD']"
      ],
      "metadata": {
        "id": "DDQmxi3KFkaf"
      },
      "execution_count": null,
      "outputs": []
    },
    {
      "cell_type": "code",
      "source": [
        "df_ft['Ter_Gel'].value_counts().sort_index()"
      ],
      "metadata": {
        "id": "azQ6qenTFkhG",
        "colab": {
          "base_uri": "https://localhost:8080/"
        },
        "outputId": "fb391fb6-7e07-47df-db71-852f4ef36b16"
      },
      "execution_count": null,
      "outputs": [
        {
          "output_type": "execute_result",
          "data": {
            "text/plain": [
              "0      31369\n",
              "1    2176424\n",
              "Name: Ter_Gel, dtype: int64"
            ]
          },
          "metadata": {},
          "execution_count": 20
        }
      ]
    },
    {
      "cell_type": "code",
      "source": [
        "df_ft['Ter_Fre'].value_counts().sort_index()"
      ],
      "metadata": {
        "id": "lqBg7QseFkny",
        "colab": {
          "base_uri": "https://localhost:8080/"
        },
        "outputId": "b09dc881-7322-4edf-f421-23f9c0bb6ab2"
      },
      "execution_count": null,
      "outputs": [
        {
          "output_type": "execute_result",
          "data": {
            "text/plain": [
              "0    1321445\n",
              "1     886348\n",
              "Name: Ter_Fre, dtype: int64"
            ]
          },
          "metadata": {},
          "execution_count": 21
        }
      ]
    },
    {
      "cell_type": "code",
      "source": [
        "df_ft['Ter_LvR'].value_counts().sort_index()"
      ],
      "metadata": {
        "id": "ls7WBX3tFku5",
        "colab": {
          "base_uri": "https://localhost:8080/"
        },
        "outputId": "7d34f78e-5bfe-4ad1-c8d4-934f39fd8edb"
      },
      "execution_count": null,
      "outputs": [
        {
          "output_type": "execute_result",
          "data": {
            "text/plain": [
              "0     917259\n",
              "1    1290534\n",
              "Name: Ter_LvR, dtype: int64"
            ]
          },
          "metadata": {},
          "execution_count": 22
        }
      ]
    },
    {
      "cell_type": "code",
      "source": [
        "df_ft['Ter_ScR'].value_counts().sort_index()"
      ],
      "metadata": {
        "id": "VkV0O2DlGBRO",
        "colab": {
          "base_uri": "https://localhost:8080/"
        },
        "outputId": "19222122-80d1-463a-af62-4f2f15f96a01"
      },
      "execution_count": null,
      "outputs": [
        {
          "output_type": "execute_result",
          "data": {
            "text/plain": [
              "0    1968585\n",
              "1     239208\n",
              "Name: Ter_ScR, dtype: int64"
            ]
          },
          "metadata": {},
          "execution_count": 23
        }
      ]
    },
    {
      "cell_type": "code",
      "source": [
        "df_ft['Ter_Mio'].value_counts().sort_index()"
      ],
      "metadata": {
        "id": "CLczRd4lGBUd",
        "colab": {
          "base_uri": "https://localhost:8080/"
        },
        "outputId": "e1aac13d-14c0-4a6d-fb73-783546fcf82f"
      },
      "execution_count": null,
      "outputs": [
        {
          "output_type": "execute_result",
          "data": {
            "text/plain": [
              "0    1150033\n",
              "1    1057760\n",
              "Name: Ter_Mio, dtype: int64"
            ]
          },
          "metadata": {},
          "execution_count": 24
        }
      ]
    },
    {
      "cell_type": "code",
      "source": [
        "df_ft['Ter_LvL'].value_counts().sort_index()"
      ],
      "metadata": {
        "id": "Sxj1NSDiGBYE",
        "colab": {
          "base_uri": "https://localhost:8080/"
        },
        "outputId": "c2ac2531-f749-47a7-8b3f-1a29036bb721"
      },
      "execution_count": null,
      "outputs": [
        {
          "output_type": "execute_result",
          "data": {
            "text/plain": [
              "0    2156529\n",
              "1      51264\n",
              "Name: Ter_LvL, dtype: int64"
            ]
          },
          "metadata": {},
          "execution_count": 25
        }
      ]
    },
    {
      "cell_type": "code",
      "source": [
        "df_ft['Ter_Asp'].value_counts().sort_index()"
      ],
      "metadata": {
        "id": "QGtjNeeSGBba",
        "colab": {
          "base_uri": "https://localhost:8080/"
        },
        "outputId": "3505113c-18d5-4d04-e117-873dc065e4c1"
      },
      "execution_count": null,
      "outputs": [
        {
          "output_type": "execute_result",
          "data": {
            "text/plain": [
              "0    1767452\n",
              "1     440341\n",
              "Name: Ter_Asp, dtype: int64"
            ]
          },
          "metadata": {},
          "execution_count": 26
        }
      ]
    },
    {
      "cell_type": "code",
      "source": [
        "df_ft['Ter_TV'].value_counts().sort_index()"
      ],
      "metadata": {
        "id": "g5dORvo7GBeV",
        "colab": {
          "base_uri": "https://localhost:8080/"
        },
        "outputId": "79ffc369-310d-43ad-997f-04ef584fe646"
      },
      "execution_count": null,
      "outputs": [
        {
          "output_type": "execute_result",
          "data": {
            "text/plain": [
              "0     106538\n",
              "1    2101255\n",
              "Name: Ter_TV, dtype: int64"
            ]
          },
          "metadata": {},
          "execution_count": 27
        }
      ]
    },
    {
      "cell_type": "code",
      "source": [
        "df_ft['Ter_DVD'].value_counts().sort_index()"
      ],
      "metadata": {
        "id": "agxbobGGGBhr",
        "colab": {
          "base_uri": "https://localhost:8080/"
        },
        "outputId": "5a2301a0-9319-46a1-f7f6-090cfcafdb4d"
      },
      "execution_count": null,
      "outputs": [
        {
          "output_type": "execute_result",
          "data": {
            "text/plain": [
              "0    1684430\n",
              "1     523363\n",
              "Name: Ter_DVD, dtype: int64"
            ]
          },
          "metadata": {},
          "execution_count": 28
        }
      ]
    },
    {
      "cell_type": "code",
      "source": [
        "df_ft['Sum_Elet'].value_counts().sort_index()"
      ],
      "metadata": {
        "id": "OY7_2uZ7GDkv",
        "colab": {
          "base_uri": "https://localhost:8080/"
        },
        "outputId": "ed69dc62-d51d-4d26-bc6f-b37a1e2a4aea"
      },
      "execution_count": null,
      "outputs": [
        {
          "output_type": "execute_result",
          "data": {
            "text/plain": [
              "0      9720\n",
              "1     58603\n",
              "2    473133\n",
              "3    451078\n",
              "4    408277\n",
              "5    347296\n",
              "6    253667\n",
              "7    143843\n",
              "8     49681\n",
              "9     12495\n",
              "Name: Sum_Elet, dtype: int64"
            ]
          },
          "metadata": {},
          "execution_count": 29
        }
      ]
    },
    {
      "cell_type": "code",
      "source": [
        "df_ft.loc[df_ft.Sum_Elet == 0 ,'Sum_Elet_']='1'\n",
        "df_ft.loc[df_ft.Sum_Elet == 1 ,'Sum_Elet_']='1'\n",
        "df_ft.loc[df_ft.Sum_Elet == 2 ,'Sum_Elet_']='2'\n",
        "df_ft.loc[df_ft.Sum_Elet == 3 ,'Sum_Elet_']='3'\n",
        "df_ft.loc[df_ft.Sum_Elet == 4 ,'Sum_Elet_']='4'\n",
        "df_ft.loc[df_ft.Sum_Elet == 5 ,'Sum_Elet_']='5'\n",
        "df_ft.loc[df_ft.Sum_Elet == 6 ,'Sum_Elet_']='6'\n",
        "df_ft.loc[df_ft.Sum_Elet == 7 ,'Sum_Elet_']='7'\n",
        "df_ft.loc[df_ft.Sum_Elet == 8 ,'Sum_Elet_']='8'\n",
        "df_ft.loc[df_ft.Sum_Elet == 9 ,'Sum_Elet_']='8'"
      ],
      "metadata": {
        "id": "7CVcoKzJI_So"
      },
      "execution_count": null,
      "outputs": []
    },
    {
      "cell_type": "markdown",
      "source": [
        "- Escolaridade máxima de pelo menos um dos pais"
      ],
      "metadata": {
        "id": "eAKWkMioW51V"
      }
    },
    {
      "cell_type": "code",
      "source": [
        "df_ft['Q001_'] = np.where(df_ft['Q001'] == 'H', ' ', df_ft.Q001)\n",
        "df_ft['Q002_'] = np.where(df_ft['Q002'] == 'H', ' ', df_ft.Q002)\n",
        "\n",
        "conditionlist = [(df_ft['Q001_'] >= df_ft['Q002_']),\n",
        "                 (df_ft['Q001_'] < df_ft['Q002_'])]\n",
        "choicelist = [df_ft.Q001, df_ft.Q002]\n",
        "df_ft['Esc_Max'] = np.select(conditionlist, choicelist, default='Not Specified')\n",
        "display(df_ft.Esc_Max.value_counts().sort_index())"
      ],
      "metadata": {
        "colab": {
          "base_uri": "https://localhost:8080/",
          "height": 173
        },
        "id": "-JzwkkKVW_Rf",
        "outputId": "89d345fb-4eaf-4a1c-d6ab-518dced95b23"
      },
      "execution_count": null,
      "outputs": [
        {
          "output_type": "display_data",
          "data": {
            "text/plain": [
              "A     43590\n",
              "B    268706\n",
              "C    240282\n",
              "D    242843\n",
              "E    811322\n",
              "F    301477\n",
              "G    265070\n",
              "H     34503\n",
              "Name: Esc_Max, dtype: int64"
            ]
          },
          "metadata": {}
        }
      ]
    },
    {
      "cell_type": "code",
      "source": [
        "df_valid = df_ft[['Q001','Q002','Q001_','Q002_','Esc_Max','NU_INSCRICAO']].loc[(df_ft['Q001'] == 'H') | (df_ft['Q002'] == 'H')].head(10)\n",
        "df_valid"
      ],
      "metadata": {
        "colab": {
          "base_uri": "https://localhost:8080/",
          "height": 363
        },
        "id": "6T1k0QhzW6Ng",
        "outputId": "6e50c102-db90-4f40-c61c-b8af1d4de46d"
      },
      "execution_count": null,
      "outputs": [
        {
          "output_type": "execute_result",
          "data": {
            "text/plain": [
              "   Q001 Q002 Q001_ Q002_ Esc_Max  NU_INSCRICAO\n",
              "23    H    A           A       A  200004553184\n",
              "30    H    C           C       C  200002695674\n",
              "36    H    H                   H  200001525954\n",
              "56    H    B           B       B  200002454016\n",
              "70    H    H                   H  200005692553\n",
              "77    H    D           D       D  200001614273\n",
              "80    H    C           C       C  200001698547\n",
              "81    H    B           B       B  200005769441\n",
              "82    H    D           D       D  200006136551\n",
              "91    H    D           D       D  200003153512"
            ],
            "text/html": [
              "\n",
              "  <div id=\"df-b6bddef7-2213-48fa-9ae6-3713006464d5\">\n",
              "    <div class=\"colab-df-container\">\n",
              "      <div>\n",
              "<style scoped>\n",
              "    .dataframe tbody tr th:only-of-type {\n",
              "        vertical-align: middle;\n",
              "    }\n",
              "\n",
              "    .dataframe tbody tr th {\n",
              "        vertical-align: top;\n",
              "    }\n",
              "\n",
              "    .dataframe thead th {\n",
              "        text-align: right;\n",
              "    }\n",
              "</style>\n",
              "<table border=\"1\" class=\"dataframe\">\n",
              "  <thead>\n",
              "    <tr style=\"text-align: right;\">\n",
              "      <th></th>\n",
              "      <th>Q001</th>\n",
              "      <th>Q002</th>\n",
              "      <th>Q001_</th>\n",
              "      <th>Q002_</th>\n",
              "      <th>Esc_Max</th>\n",
              "      <th>NU_INSCRICAO</th>\n",
              "    </tr>\n",
              "  </thead>\n",
              "  <tbody>\n",
              "    <tr>\n",
              "      <th>23</th>\n",
              "      <td>H</td>\n",
              "      <td>A</td>\n",
              "      <td></td>\n",
              "      <td>A</td>\n",
              "      <td>A</td>\n",
              "      <td>200004553184</td>\n",
              "    </tr>\n",
              "    <tr>\n",
              "      <th>30</th>\n",
              "      <td>H</td>\n",
              "      <td>C</td>\n",
              "      <td></td>\n",
              "      <td>C</td>\n",
              "      <td>C</td>\n",
              "      <td>200002695674</td>\n",
              "    </tr>\n",
              "    <tr>\n",
              "      <th>36</th>\n",
              "      <td>H</td>\n",
              "      <td>H</td>\n",
              "      <td></td>\n",
              "      <td></td>\n",
              "      <td>H</td>\n",
              "      <td>200001525954</td>\n",
              "    </tr>\n",
              "    <tr>\n",
              "      <th>56</th>\n",
              "      <td>H</td>\n",
              "      <td>B</td>\n",
              "      <td></td>\n",
              "      <td>B</td>\n",
              "      <td>B</td>\n",
              "      <td>200002454016</td>\n",
              "    </tr>\n",
              "    <tr>\n",
              "      <th>70</th>\n",
              "      <td>H</td>\n",
              "      <td>H</td>\n",
              "      <td></td>\n",
              "      <td></td>\n",
              "      <td>H</td>\n",
              "      <td>200005692553</td>\n",
              "    </tr>\n",
              "    <tr>\n",
              "      <th>77</th>\n",
              "      <td>H</td>\n",
              "      <td>D</td>\n",
              "      <td></td>\n",
              "      <td>D</td>\n",
              "      <td>D</td>\n",
              "      <td>200001614273</td>\n",
              "    </tr>\n",
              "    <tr>\n",
              "      <th>80</th>\n",
              "      <td>H</td>\n",
              "      <td>C</td>\n",
              "      <td></td>\n",
              "      <td>C</td>\n",
              "      <td>C</td>\n",
              "      <td>200001698547</td>\n",
              "    </tr>\n",
              "    <tr>\n",
              "      <th>81</th>\n",
              "      <td>H</td>\n",
              "      <td>B</td>\n",
              "      <td></td>\n",
              "      <td>B</td>\n",
              "      <td>B</td>\n",
              "      <td>200005769441</td>\n",
              "    </tr>\n",
              "    <tr>\n",
              "      <th>82</th>\n",
              "      <td>H</td>\n",
              "      <td>D</td>\n",
              "      <td></td>\n",
              "      <td>D</td>\n",
              "      <td>D</td>\n",
              "      <td>200006136551</td>\n",
              "    </tr>\n",
              "    <tr>\n",
              "      <th>91</th>\n",
              "      <td>H</td>\n",
              "      <td>D</td>\n",
              "      <td></td>\n",
              "      <td>D</td>\n",
              "      <td>D</td>\n",
              "      <td>200003153512</td>\n",
              "    </tr>\n",
              "  </tbody>\n",
              "</table>\n",
              "</div>\n",
              "      <button class=\"colab-df-convert\" onclick=\"convertToInteractive('df-b6bddef7-2213-48fa-9ae6-3713006464d5')\"\n",
              "              title=\"Convert this dataframe to an interactive table.\"\n",
              "              style=\"display:none;\">\n",
              "        \n",
              "  <svg xmlns=\"http://www.w3.org/2000/svg\" height=\"24px\"viewBox=\"0 0 24 24\"\n",
              "       width=\"24px\">\n",
              "    <path d=\"M0 0h24v24H0V0z\" fill=\"none\"/>\n",
              "    <path d=\"M18.56 5.44l.94 2.06.94-2.06 2.06-.94-2.06-.94-.94-2.06-.94 2.06-2.06.94zm-11 1L8.5 8.5l.94-2.06 2.06-.94-2.06-.94L8.5 2.5l-.94 2.06-2.06.94zm10 10l.94 2.06.94-2.06 2.06-.94-2.06-.94-.94-2.06-.94 2.06-2.06.94z\"/><path d=\"M17.41 7.96l-1.37-1.37c-.4-.4-.92-.59-1.43-.59-.52 0-1.04.2-1.43.59L10.3 9.45l-7.72 7.72c-.78.78-.78 2.05 0 2.83L4 21.41c.39.39.9.59 1.41.59.51 0 1.02-.2 1.41-.59l7.78-7.78 2.81-2.81c.8-.78.8-2.07 0-2.86zM5.41 20L4 18.59l7.72-7.72 1.47 1.35L5.41 20z\"/>\n",
              "  </svg>\n",
              "      </button>\n",
              "      \n",
              "  <style>\n",
              "    .colab-df-container {\n",
              "      display:flex;\n",
              "      flex-wrap:wrap;\n",
              "      gap: 12px;\n",
              "    }\n",
              "\n",
              "    .colab-df-convert {\n",
              "      background-color: #E8F0FE;\n",
              "      border: none;\n",
              "      border-radius: 50%;\n",
              "      cursor: pointer;\n",
              "      display: none;\n",
              "      fill: #1967D2;\n",
              "      height: 32px;\n",
              "      padding: 0 0 0 0;\n",
              "      width: 32px;\n",
              "    }\n",
              "\n",
              "    .colab-df-convert:hover {\n",
              "      background-color: #E2EBFA;\n",
              "      box-shadow: 0px 1px 2px rgba(60, 64, 67, 0.3), 0px 1px 3px 1px rgba(60, 64, 67, 0.15);\n",
              "      fill: #174EA6;\n",
              "    }\n",
              "\n",
              "    [theme=dark] .colab-df-convert {\n",
              "      background-color: #3B4455;\n",
              "      fill: #D2E3FC;\n",
              "    }\n",
              "\n",
              "    [theme=dark] .colab-df-convert:hover {\n",
              "      background-color: #434B5C;\n",
              "      box-shadow: 0px 1px 3px 1px rgba(0, 0, 0, 0.15);\n",
              "      filter: drop-shadow(0px 1px 2px rgba(0, 0, 0, 0.3));\n",
              "      fill: #FFFFFF;\n",
              "    }\n",
              "  </style>\n",
              "\n",
              "      <script>\n",
              "        const buttonEl =\n",
              "          document.querySelector('#df-b6bddef7-2213-48fa-9ae6-3713006464d5 button.colab-df-convert');\n",
              "        buttonEl.style.display =\n",
              "          google.colab.kernel.accessAllowed ? 'block' : 'none';\n",
              "\n",
              "        async function convertToInteractive(key) {\n",
              "          const element = document.querySelector('#df-b6bddef7-2213-48fa-9ae6-3713006464d5');\n",
              "          const dataTable =\n",
              "            await google.colab.kernel.invokeFunction('convertToInteractive',\n",
              "                                                     [key], {});\n",
              "          if (!dataTable) return;\n",
              "\n",
              "          const docLinkHtml = 'Like what you see? Visit the ' +\n",
              "            '<a target=\"_blank\" href=https://colab.research.google.com/notebooks/data_table.ipynb>data table notebook</a>'\n",
              "            + ' to learn more about interactive tables.';\n",
              "          element.innerHTML = '';\n",
              "          dataTable['output_type'] = 'display_data';\n",
              "          await google.colab.output.renderOutput(dataTable, element);\n",
              "          const docLink = document.createElement('div');\n",
              "          docLink.innerHTML = docLinkHtml;\n",
              "          element.appendChild(docLink);\n",
              "        }\n",
              "      </script>\n",
              "    </div>\n",
              "  </div>\n",
              "  "
            ]
          },
          "metadata": {},
          "execution_count": 32
        }
      ]
    },
    {
      "cell_type": "markdown",
      "source": [
        "- Carro e Moto"
      ],
      "metadata": {
        "id": "8yRVXiwLXD5B"
      }
    },
    {
      "cell_type": "code",
      "source": [
        "df_ft['Q010_'] = np.where((df_ft['Q010'] == 'D') | (df_ft['Q010'] == 'E'), 'C', df_ft.Q010)\n",
        "df_ft['Q011_'] = np.where((df_ft['Q011'] == 'D') | (df_ft['Q011'] == 'E'), 'C', df_ft.Q011)\n",
        "\n",
        "conditionlist = [(df_ft['Q010_'] == 'A') & (df_ft['Q011_'] == 'A'), # 0 carro e 0 moto\n",
        "                 (df_ft['Q010_'] == 'A') & (df_ft['Q011_'] == 'B'), # 0 carro e 1 moto\n",
        "                 (df_ft['Q010_'] == 'A') & (df_ft['Q011_'] == 'C'), # 0 carro e >1 moto\n",
        "                 (df_ft['Q010_'] == 'B') & (df_ft['Q011_'] == 'A'), # 1 carro e 0 moto\n",
        "                 (df_ft['Q010_'] == 'B') & (df_ft['Q011_'] == 'B'), # 1 carro e 1 moto\n",
        "                 (df_ft['Q010_'] == 'B') & (df_ft['Q011_'] == 'C'), # 1 carro e >1 moto\n",
        "                 (df_ft['Q010_'] == 'C') & (df_ft['Q011_'] == 'A'), # >1 carro e 0 moto\n",
        "                 (df_ft['Q010_'] == 'C') & (df_ft['Q011_'] == 'B'), # >1 carro e 1 moto\n",
        "                 (df_ft['Q010_'] == 'C') & (df_ft['Q011_'] == 'C')] # >1 carro e >1 moto\n",
        "choicelist = [1,2,3,4,5,6,7,8,9]\n",
        "df_ft['Car_Mot'] = np.select(conditionlist, choicelist, default='Not Specified')\n",
        "df_ft.Car_Mot.value_counts().sort_index()"
      ],
      "metadata": {
        "colab": {
          "base_uri": "https://localhost:8080/"
        },
        "id": "8kFUgpbwXGT-",
        "outputId": "823b2510-37fb-4f10-f7d2-586521186269"
      },
      "execution_count": null,
      "outputs": [
        {
          "output_type": "execute_result",
          "data": {
            "text/plain": [
              "1    973571\n",
              "2    244083\n",
              "3     18549\n",
              "4    593751\n",
              "5    169099\n",
              "6     19608\n",
              "7    150363\n",
              "8     31667\n",
              "9      7102\n",
              "Name: Car_Mot, dtype: int64"
            ]
          },
          "metadata": {},
          "execution_count": 33
        }
      ]
    },
    {
      "cell_type": "code",
      "source": [
        "df_ft.loc[df_ft.Car_Mot == '1','Car_Mot_']='1'\n",
        "df_ft.loc[df_ft.Car_Mot == '2','Car_Mot_']='2'\n",
        "df_ft.loc[df_ft.Car_Mot == '3','Car_Mot_']='2'\n",
        "df_ft.loc[df_ft.Car_Mot == '4','Car_Mot_']='3'\n",
        "df_ft.loc[df_ft.Car_Mot == '5','Car_Mot_']='4'\n",
        "df_ft.loc[df_ft.Car_Mot == '6','Car_Mot_']='4'\n",
        "df_ft.loc[df_ft.Car_Mot == '7','Car_Mot_']='5'\n",
        "df_ft.loc[df_ft.Car_Mot == '8','Car_Mot_']='6'\n",
        "df_ft.loc[df_ft.Car_Mot == '9','Car_Mot_']='6'\n",
        "df_ft.Car_Mot_.value_counts().sort_index()"
      ],
      "metadata": {
        "id": "DZcwg5lsKNG9",
        "colab": {
          "base_uri": "https://localhost:8080/"
        },
        "outputId": "5522934d-6e2d-411b-bce2-1d5004f882de"
      },
      "execution_count": null,
      "outputs": [
        {
          "output_type": "execute_result",
          "data": {
            "text/plain": [
              "1    973571\n",
              "2    262632\n",
              "3    593751\n",
              "4    188707\n",
              "5    150363\n",
              "6     38769\n",
              "Name: Car_Mot_, dtype: int64"
            ]
          },
          "metadata": {},
          "execution_count": 34
        }
      ]
    },
    {
      "cell_type": "code",
      "source": [
        "df_valid = df_ft[['Q010','Q011','Q010_','Q011_','Car_Mot','Car_Mot_','NU_INSCRICAO']].loc[(df_ft['Q010'] == 'E')].head(10)\n",
        "df_valid"
      ],
      "metadata": {
        "colab": {
          "base_uri": "https://localhost:8080/",
          "height": 363
        },
        "id": "NCyd3VjS1wSt",
        "outputId": "60d24c91-9eb9-4428-9a52-34b7758ec00e"
      },
      "execution_count": null,
      "outputs": [
        {
          "output_type": "execute_result",
          "data": {
            "text/plain": [
              "      Q010 Q011 Q010_ Q011_ Car_Mot Car_Mot_  NU_INSCRICAO\n",
              "2110     E    B     C     B       8        6  200005077627\n",
              "6329     E    A     C     A       7        5  200005462340\n",
              "8741     E    A     C     A       7        5  200002811894\n",
              "9729     E    E     C     C       9        6  200006363850\n",
              "15594    E    B     C     B       8        6  200001142330\n",
              "16032    E    A     C     A       7        5  200001393793\n",
              "16307    E    A     C     A       7        5  200002724328\n",
              "18976    E    A     C     A       7        5  200003822084\n",
              "19041    E    A     C     A       7        5  200001772891\n",
              "19509    E    B     C     B       8        6  200002974232"
            ],
            "text/html": [
              "\n",
              "  <div id=\"df-dabe0f7b-8db0-4daa-b7f4-3419de7d1af6\">\n",
              "    <div class=\"colab-df-container\">\n",
              "      <div>\n",
              "<style scoped>\n",
              "    .dataframe tbody tr th:only-of-type {\n",
              "        vertical-align: middle;\n",
              "    }\n",
              "\n",
              "    .dataframe tbody tr th {\n",
              "        vertical-align: top;\n",
              "    }\n",
              "\n",
              "    .dataframe thead th {\n",
              "        text-align: right;\n",
              "    }\n",
              "</style>\n",
              "<table border=\"1\" class=\"dataframe\">\n",
              "  <thead>\n",
              "    <tr style=\"text-align: right;\">\n",
              "      <th></th>\n",
              "      <th>Q010</th>\n",
              "      <th>Q011</th>\n",
              "      <th>Q010_</th>\n",
              "      <th>Q011_</th>\n",
              "      <th>Car_Mot</th>\n",
              "      <th>Car_Mot_</th>\n",
              "      <th>NU_INSCRICAO</th>\n",
              "    </tr>\n",
              "  </thead>\n",
              "  <tbody>\n",
              "    <tr>\n",
              "      <th>2110</th>\n",
              "      <td>E</td>\n",
              "      <td>B</td>\n",
              "      <td>C</td>\n",
              "      <td>B</td>\n",
              "      <td>8</td>\n",
              "      <td>6</td>\n",
              "      <td>200005077627</td>\n",
              "    </tr>\n",
              "    <tr>\n",
              "      <th>6329</th>\n",
              "      <td>E</td>\n",
              "      <td>A</td>\n",
              "      <td>C</td>\n",
              "      <td>A</td>\n",
              "      <td>7</td>\n",
              "      <td>5</td>\n",
              "      <td>200005462340</td>\n",
              "    </tr>\n",
              "    <tr>\n",
              "      <th>8741</th>\n",
              "      <td>E</td>\n",
              "      <td>A</td>\n",
              "      <td>C</td>\n",
              "      <td>A</td>\n",
              "      <td>7</td>\n",
              "      <td>5</td>\n",
              "      <td>200002811894</td>\n",
              "    </tr>\n",
              "    <tr>\n",
              "      <th>9729</th>\n",
              "      <td>E</td>\n",
              "      <td>E</td>\n",
              "      <td>C</td>\n",
              "      <td>C</td>\n",
              "      <td>9</td>\n",
              "      <td>6</td>\n",
              "      <td>200006363850</td>\n",
              "    </tr>\n",
              "    <tr>\n",
              "      <th>15594</th>\n",
              "      <td>E</td>\n",
              "      <td>B</td>\n",
              "      <td>C</td>\n",
              "      <td>B</td>\n",
              "      <td>8</td>\n",
              "      <td>6</td>\n",
              "      <td>200001142330</td>\n",
              "    </tr>\n",
              "    <tr>\n",
              "      <th>16032</th>\n",
              "      <td>E</td>\n",
              "      <td>A</td>\n",
              "      <td>C</td>\n",
              "      <td>A</td>\n",
              "      <td>7</td>\n",
              "      <td>5</td>\n",
              "      <td>200001393793</td>\n",
              "    </tr>\n",
              "    <tr>\n",
              "      <th>16307</th>\n",
              "      <td>E</td>\n",
              "      <td>A</td>\n",
              "      <td>C</td>\n",
              "      <td>A</td>\n",
              "      <td>7</td>\n",
              "      <td>5</td>\n",
              "      <td>200002724328</td>\n",
              "    </tr>\n",
              "    <tr>\n",
              "      <th>18976</th>\n",
              "      <td>E</td>\n",
              "      <td>A</td>\n",
              "      <td>C</td>\n",
              "      <td>A</td>\n",
              "      <td>7</td>\n",
              "      <td>5</td>\n",
              "      <td>200003822084</td>\n",
              "    </tr>\n",
              "    <tr>\n",
              "      <th>19041</th>\n",
              "      <td>E</td>\n",
              "      <td>A</td>\n",
              "      <td>C</td>\n",
              "      <td>A</td>\n",
              "      <td>7</td>\n",
              "      <td>5</td>\n",
              "      <td>200001772891</td>\n",
              "    </tr>\n",
              "    <tr>\n",
              "      <th>19509</th>\n",
              "      <td>E</td>\n",
              "      <td>B</td>\n",
              "      <td>C</td>\n",
              "      <td>B</td>\n",
              "      <td>8</td>\n",
              "      <td>6</td>\n",
              "      <td>200002974232</td>\n",
              "    </tr>\n",
              "  </tbody>\n",
              "</table>\n",
              "</div>\n",
              "      <button class=\"colab-df-convert\" onclick=\"convertToInteractive('df-dabe0f7b-8db0-4daa-b7f4-3419de7d1af6')\"\n",
              "              title=\"Convert this dataframe to an interactive table.\"\n",
              "              style=\"display:none;\">\n",
              "        \n",
              "  <svg xmlns=\"http://www.w3.org/2000/svg\" height=\"24px\"viewBox=\"0 0 24 24\"\n",
              "       width=\"24px\">\n",
              "    <path d=\"M0 0h24v24H0V0z\" fill=\"none\"/>\n",
              "    <path d=\"M18.56 5.44l.94 2.06.94-2.06 2.06-.94-2.06-.94-.94-2.06-.94 2.06-2.06.94zm-11 1L8.5 8.5l.94-2.06 2.06-.94-2.06-.94L8.5 2.5l-.94 2.06-2.06.94zm10 10l.94 2.06.94-2.06 2.06-.94-2.06-.94-.94-2.06-.94 2.06-2.06.94z\"/><path d=\"M17.41 7.96l-1.37-1.37c-.4-.4-.92-.59-1.43-.59-.52 0-1.04.2-1.43.59L10.3 9.45l-7.72 7.72c-.78.78-.78 2.05 0 2.83L4 21.41c.39.39.9.59 1.41.59.51 0 1.02-.2 1.41-.59l7.78-7.78 2.81-2.81c.8-.78.8-2.07 0-2.86zM5.41 20L4 18.59l7.72-7.72 1.47 1.35L5.41 20z\"/>\n",
              "  </svg>\n",
              "      </button>\n",
              "      \n",
              "  <style>\n",
              "    .colab-df-container {\n",
              "      display:flex;\n",
              "      flex-wrap:wrap;\n",
              "      gap: 12px;\n",
              "    }\n",
              "\n",
              "    .colab-df-convert {\n",
              "      background-color: #E8F0FE;\n",
              "      border: none;\n",
              "      border-radius: 50%;\n",
              "      cursor: pointer;\n",
              "      display: none;\n",
              "      fill: #1967D2;\n",
              "      height: 32px;\n",
              "      padding: 0 0 0 0;\n",
              "      width: 32px;\n",
              "    }\n",
              "\n",
              "    .colab-df-convert:hover {\n",
              "      background-color: #E2EBFA;\n",
              "      box-shadow: 0px 1px 2px rgba(60, 64, 67, 0.3), 0px 1px 3px 1px rgba(60, 64, 67, 0.15);\n",
              "      fill: #174EA6;\n",
              "    }\n",
              "\n",
              "    [theme=dark] .colab-df-convert {\n",
              "      background-color: #3B4455;\n",
              "      fill: #D2E3FC;\n",
              "    }\n",
              "\n",
              "    [theme=dark] .colab-df-convert:hover {\n",
              "      background-color: #434B5C;\n",
              "      box-shadow: 0px 1px 3px 1px rgba(0, 0, 0, 0.15);\n",
              "      filter: drop-shadow(0px 1px 2px rgba(0, 0, 0, 0.3));\n",
              "      fill: #FFFFFF;\n",
              "    }\n",
              "  </style>\n",
              "\n",
              "      <script>\n",
              "        const buttonEl =\n",
              "          document.querySelector('#df-dabe0f7b-8db0-4daa-b7f4-3419de7d1af6 button.colab-df-convert');\n",
              "        buttonEl.style.display =\n",
              "          google.colab.kernel.accessAllowed ? 'block' : 'none';\n",
              "\n",
              "        async function convertToInteractive(key) {\n",
              "          const element = document.querySelector('#df-dabe0f7b-8db0-4daa-b7f4-3419de7d1af6');\n",
              "          const dataTable =\n",
              "            await google.colab.kernel.invokeFunction('convertToInteractive',\n",
              "                                                     [key], {});\n",
              "          if (!dataTable) return;\n",
              "\n",
              "          const docLinkHtml = 'Like what you see? Visit the ' +\n",
              "            '<a target=\"_blank\" href=https://colab.research.google.com/notebooks/data_table.ipynb>data table notebook</a>'\n",
              "            + ' to learn more about interactive tables.';\n",
              "          element.innerHTML = '';\n",
              "          dataTable['output_type'] = 'display_data';\n",
              "          await google.colab.output.renderOutput(dataTable, element);\n",
              "          const docLink = document.createElement('div');\n",
              "          docLink.innerHTML = docLinkHtml;\n",
              "          element.appendChild(docLink);\n",
              "        }\n",
              "      </script>\n",
              "    </div>\n",
              "  </div>\n",
              "  "
            ]
          },
          "metadata": {},
          "execution_count": 35
        }
      ]
    },
    {
      "cell_type": "markdown",
      "source": [
        "- Porte da Casa"
      ],
      "metadata": {
        "id": "yqeMz0gyXGyy"
      }
    },
    {
      "cell_type": "code",
      "source": [
        "# Q007\n",
        "df_ft['Q007_'] = df_ft['Q007']\n",
        "conditionlist = [(df_ft['Q007_'] == 'A'),\n",
        "                 (df_ft['Q007_'] == 'B'),\n",
        "                 (df_ft['Q007_'] == 'C'),\n",
        "                 (df_ft['Q007_'] == 'D')]\n",
        "choicelist = [0,1,2,2]\n",
        "df_ft['Q007_f2'] = np.select(conditionlist, choicelist, default='Not Specified')\n",
        "df_ft['Q007_f'] = pd.to_numeric(np.select(conditionlist, choicelist, default='Not Specified'), errors = 'coerce')\n",
        "\n",
        "\n",
        "# Q008\n",
        "df_ft['Q008_'] = df_ft['Q008']\n",
        "conditionlist = [(df_ft['Q008_'] == 'A'),\n",
        "                 (df_ft['Q008_'] == 'B'),\n",
        "                 (df_ft['Q008_'] == 'C'),\n",
        "                 (df_ft['Q008_'] == 'D'),\n",
        "                 (df_ft['Q008_'] == 'E')]\n",
        "choicelist = [0,1,2,3,3]\n",
        "df_ft['Q008_f2'] = np.select(conditionlist, choicelist, default='Not Specified')\n",
        "df_ft['Q008_f'] = pd.to_numeric(np.select(conditionlist, choicelist, default='Not Specified'), errors = 'coerce')\n",
        "\n",
        "\n",
        "# Q009\n",
        "df_ft['Q009_'] = df_ft['Q009']\n",
        "conditionlist = [(df_ft['Q009_'] == 'A'),\n",
        "                 (df_ft['Q009_'] == 'B'),\n",
        "                 (df_ft['Q009_'] == 'C'),\n",
        "                 (df_ft['Q009_'] == 'D'),\n",
        "                 (df_ft['Q009_'] == 'E')]\n",
        "choicelist = [0,1,2,3,3]\n",
        "df_ft['Q009_f2'] = np.select(conditionlist, choicelist, default='Not Specified')\n",
        "df_ft['Q009_f'] = pd.to_numeric(np.select(conditionlist, choicelist, default='Not Specified'), errors = 'coerce')\n",
        "\n",
        "\n",
        "# Soma\n",
        "df_ft['Tot_PtCasa_2'] = df_ft['Q007_f2'] + df_ft['Q008_f2'] + df_ft['Q009_f2']\n",
        "df_ft['Tot_PtCasa'] = df_ft['Q007_f'] + df_ft['Q008_f'] + df_ft['Q009_f']\n"
      ],
      "metadata": {
        "id": "cwhf75IGeLy6"
      },
      "execution_count": null,
      "outputs": []
    },
    {
      "cell_type": "code",
      "source": [
        "df_ft.Q007_f.value_counts().sort_index()"
      ],
      "metadata": {
        "colab": {
          "base_uri": "https://localhost:8080/"
        },
        "id": "nV3Q91PYf4ve",
        "outputId": "f5237cd0-a3cb-4855-f78c-bb3190b464d3"
      },
      "execution_count": null,
      "outputs": [
        {
          "output_type": "execute_result",
          "data": {
            "text/plain": [
              "0    2064484\n",
              "1      80033\n",
              "2      63276\n",
              "Name: Q007_f, dtype: int64"
            ]
          },
          "metadata": {},
          "execution_count": 37
        }
      ]
    },
    {
      "cell_type": "code",
      "source": [
        "df_ft.Q008_f.value_counts().sort_index()"
      ],
      "metadata": {
        "colab": {
          "base_uri": "https://localhost:8080/"
        },
        "id": "nBeuRXPxgxmT",
        "outputId": "c2f76136-eb52-4989-bbdc-4ff6bb82af26"
      },
      "execution_count": null,
      "outputs": [
        {
          "output_type": "execute_result",
          "data": {
            "text/plain": [
              "0      15248\n",
              "1    1533527\n",
              "2     471526\n",
              "3     187492\n",
              "Name: Q008_f, dtype: int64"
            ]
          },
          "metadata": {},
          "execution_count": 38
        }
      ]
    },
    {
      "cell_type": "code",
      "source": [
        "df_ft.Q009_f.value_counts().sort_index()"
      ],
      "metadata": {
        "colab": {
          "base_uri": "https://localhost:8080/"
        },
        "id": "ZH0AShktgxv0",
        "outputId": "f4c89f6a-46ed-4c42-bc26-db5e35d7171c"
      },
      "execution_count": null,
      "outputs": [
        {
          "output_type": "execute_result",
          "data": {
            "text/plain": [
              "0      16514\n",
              "1     285477\n",
              "2    1123427\n",
              "3     782375\n",
              "Name: Q009_f, dtype: int64"
            ]
          },
          "metadata": {},
          "execution_count": 39
        }
      ]
    },
    {
      "cell_type": "code",
      "source": [
        "df_ft.Tot_PtCasa_2.value_counts().sort_index()"
      ],
      "metadata": {
        "colab": {
          "base_uri": "https://localhost:8080/"
        },
        "id": "lEM_5MezlwTy",
        "outputId": "52322abd-47eb-46e9-8995-93735710b451"
      },
      "execution_count": null,
      "outputs": [
        {
          "output_type": "execute_result",
          "data": {
            "text/plain": [
              "000      2127\n",
              "001      5236\n",
              "002      5743\n",
              "003      1677\n",
              "010     13551\n",
              "011    267617\n",
              "012    904293\n",
              "013    308834\n",
              "020       142\n",
              "021      3954\n",
              "022    165472\n",
              "023    268233\n",
              "030        15\n",
              "031       131\n",
              "032     12375\n",
              "033    105084\n",
              "100        65\n",
              "101       175\n",
              "102        70\n",
              "103        19\n",
              "110       404\n",
              "111      5519\n",
              "112     13613\n",
              "113      4346\n",
              "120         7\n",
              "121       123\n",
              "122      6348\n",
              "123     15422\n",
              "130         2\n",
              "131        12\n",
              "132      2238\n",
              "133     31670\n",
              "200        19\n",
              "201        55\n",
              "202        48\n",
              "203        14\n",
              "210       174\n",
              "211      2581\n",
              "212      9110\n",
              "213      3485\n",
              "220         1\n",
              "221        63\n",
              "222      2858\n",
              "223      8903\n",
              "230         7\n",
              "231        11\n",
              "232      1259\n",
              "233     34688\n",
              "Name: Tot_PtCasa_2, dtype: int64"
            ]
          },
          "metadata": {},
          "execution_count": 40
        }
      ]
    },
    {
      "cell_type": "code",
      "source": [
        "df_ft.Tot_PtCasa.value_counts().sort_index()"
      ],
      "metadata": {
        "colab": {
          "base_uri": "https://localhost:8080/"
        },
        "id": "6qzNZf19hAc1",
        "outputId": "1bc467d6-5f1e-4316-a41f-3564b91da75f"
      },
      "execution_count": null,
      "outputs": [
        {
          "output_type": "execute_result",
          "data": {
            "text/plain": [
              "0      2127\n",
              "1     18852\n",
              "2    274100\n",
              "3    915764\n",
              "4    490824\n",
              "5    300508\n",
              "6    129098\n",
              "7     41832\n",
              "8     34688\n",
              "Name: Tot_PtCasa, dtype: int64"
            ]
          },
          "metadata": {},
          "execution_count": 41
        }
      ]
    },
    {
      "cell_type": "code",
      "source": [
        "df_valid = df_ft[['Q007','Q008','Q009','Q007_f','Q008_f','Q009_f','Tot_PtCasa','NU_INSCRICAO']].loc[(df_ft['Q007_f'] == 2) & (df_ft['Q009_f'] < 1)].head(10)\n",
        "df_valid"
      ],
      "metadata": {
        "id": "Jkb0V4RvjtaF",
        "colab": {
          "base_uri": "https://localhost:8080/",
          "height": 363
        },
        "outputId": "7b828113-1def-46a7-ec78-b94ce07850e0"
      },
      "execution_count": null,
      "outputs": [
        {
          "output_type": "execute_result",
          "data": {
            "text/plain": [
              "      Q007 Q008 Q009  Q007_f  Q008_f  Q009_f  Tot_PtCasa  NU_INSCRICAO\n",
              "6170     C    B    A       2       1       0           3  200003389876\n",
              "10728    D    B    A       2       1       0           3  200003839898\n",
              "12372    C    B    A       2       1       0           3  200002674589\n",
              "17283    D    A    A       2       0       0           2  200003979210\n",
              "20218    D    A    A       2       0       0           2  200002645532\n",
              "21116    C    B    A       2       1       0           3  200001805608\n",
              "26275    C    B    A       2       1       0           3  200004991554\n",
              "41406    D    B    A       2       1       0           3  200004077926\n",
              "43020    D    B    A       2       1       0           3  200002475416\n",
              "73453    D    B    A       2       1       0           3  200005130274"
            ],
            "text/html": [
              "\n",
              "  <div id=\"df-690783d0-b027-4bc4-ac00-268df1a9071a\">\n",
              "    <div class=\"colab-df-container\">\n",
              "      <div>\n",
              "<style scoped>\n",
              "    .dataframe tbody tr th:only-of-type {\n",
              "        vertical-align: middle;\n",
              "    }\n",
              "\n",
              "    .dataframe tbody tr th {\n",
              "        vertical-align: top;\n",
              "    }\n",
              "\n",
              "    .dataframe thead th {\n",
              "        text-align: right;\n",
              "    }\n",
              "</style>\n",
              "<table border=\"1\" class=\"dataframe\">\n",
              "  <thead>\n",
              "    <tr style=\"text-align: right;\">\n",
              "      <th></th>\n",
              "      <th>Q007</th>\n",
              "      <th>Q008</th>\n",
              "      <th>Q009</th>\n",
              "      <th>Q007_f</th>\n",
              "      <th>Q008_f</th>\n",
              "      <th>Q009_f</th>\n",
              "      <th>Tot_PtCasa</th>\n",
              "      <th>NU_INSCRICAO</th>\n",
              "    </tr>\n",
              "  </thead>\n",
              "  <tbody>\n",
              "    <tr>\n",
              "      <th>6170</th>\n",
              "      <td>C</td>\n",
              "      <td>B</td>\n",
              "      <td>A</td>\n",
              "      <td>2</td>\n",
              "      <td>1</td>\n",
              "      <td>0</td>\n",
              "      <td>3</td>\n",
              "      <td>200003389876</td>\n",
              "    </tr>\n",
              "    <tr>\n",
              "      <th>10728</th>\n",
              "      <td>D</td>\n",
              "      <td>B</td>\n",
              "      <td>A</td>\n",
              "      <td>2</td>\n",
              "      <td>1</td>\n",
              "      <td>0</td>\n",
              "      <td>3</td>\n",
              "      <td>200003839898</td>\n",
              "    </tr>\n",
              "    <tr>\n",
              "      <th>12372</th>\n",
              "      <td>C</td>\n",
              "      <td>B</td>\n",
              "      <td>A</td>\n",
              "      <td>2</td>\n",
              "      <td>1</td>\n",
              "      <td>0</td>\n",
              "      <td>3</td>\n",
              "      <td>200002674589</td>\n",
              "    </tr>\n",
              "    <tr>\n",
              "      <th>17283</th>\n",
              "      <td>D</td>\n",
              "      <td>A</td>\n",
              "      <td>A</td>\n",
              "      <td>2</td>\n",
              "      <td>0</td>\n",
              "      <td>0</td>\n",
              "      <td>2</td>\n",
              "      <td>200003979210</td>\n",
              "    </tr>\n",
              "    <tr>\n",
              "      <th>20218</th>\n",
              "      <td>D</td>\n",
              "      <td>A</td>\n",
              "      <td>A</td>\n",
              "      <td>2</td>\n",
              "      <td>0</td>\n",
              "      <td>0</td>\n",
              "      <td>2</td>\n",
              "      <td>200002645532</td>\n",
              "    </tr>\n",
              "    <tr>\n",
              "      <th>21116</th>\n",
              "      <td>C</td>\n",
              "      <td>B</td>\n",
              "      <td>A</td>\n",
              "      <td>2</td>\n",
              "      <td>1</td>\n",
              "      <td>0</td>\n",
              "      <td>3</td>\n",
              "      <td>200001805608</td>\n",
              "    </tr>\n",
              "    <tr>\n",
              "      <th>26275</th>\n",
              "      <td>C</td>\n",
              "      <td>B</td>\n",
              "      <td>A</td>\n",
              "      <td>2</td>\n",
              "      <td>1</td>\n",
              "      <td>0</td>\n",
              "      <td>3</td>\n",
              "      <td>200004991554</td>\n",
              "    </tr>\n",
              "    <tr>\n",
              "      <th>41406</th>\n",
              "      <td>D</td>\n",
              "      <td>B</td>\n",
              "      <td>A</td>\n",
              "      <td>2</td>\n",
              "      <td>1</td>\n",
              "      <td>0</td>\n",
              "      <td>3</td>\n",
              "      <td>200004077926</td>\n",
              "    </tr>\n",
              "    <tr>\n",
              "      <th>43020</th>\n",
              "      <td>D</td>\n",
              "      <td>B</td>\n",
              "      <td>A</td>\n",
              "      <td>2</td>\n",
              "      <td>1</td>\n",
              "      <td>0</td>\n",
              "      <td>3</td>\n",
              "      <td>200002475416</td>\n",
              "    </tr>\n",
              "    <tr>\n",
              "      <th>73453</th>\n",
              "      <td>D</td>\n",
              "      <td>B</td>\n",
              "      <td>A</td>\n",
              "      <td>2</td>\n",
              "      <td>1</td>\n",
              "      <td>0</td>\n",
              "      <td>3</td>\n",
              "      <td>200005130274</td>\n",
              "    </tr>\n",
              "  </tbody>\n",
              "</table>\n",
              "</div>\n",
              "      <button class=\"colab-df-convert\" onclick=\"convertToInteractive('df-690783d0-b027-4bc4-ac00-268df1a9071a')\"\n",
              "              title=\"Convert this dataframe to an interactive table.\"\n",
              "              style=\"display:none;\">\n",
              "        \n",
              "  <svg xmlns=\"http://www.w3.org/2000/svg\" height=\"24px\"viewBox=\"0 0 24 24\"\n",
              "       width=\"24px\">\n",
              "    <path d=\"M0 0h24v24H0V0z\" fill=\"none\"/>\n",
              "    <path d=\"M18.56 5.44l.94 2.06.94-2.06 2.06-.94-2.06-.94-.94-2.06-.94 2.06-2.06.94zm-11 1L8.5 8.5l.94-2.06 2.06-.94-2.06-.94L8.5 2.5l-.94 2.06-2.06.94zm10 10l.94 2.06.94-2.06 2.06-.94-2.06-.94-.94-2.06-.94 2.06-2.06.94z\"/><path d=\"M17.41 7.96l-1.37-1.37c-.4-.4-.92-.59-1.43-.59-.52 0-1.04.2-1.43.59L10.3 9.45l-7.72 7.72c-.78.78-.78 2.05 0 2.83L4 21.41c.39.39.9.59 1.41.59.51 0 1.02-.2 1.41-.59l7.78-7.78 2.81-2.81c.8-.78.8-2.07 0-2.86zM5.41 20L4 18.59l7.72-7.72 1.47 1.35L5.41 20z\"/>\n",
              "  </svg>\n",
              "      </button>\n",
              "      \n",
              "  <style>\n",
              "    .colab-df-container {\n",
              "      display:flex;\n",
              "      flex-wrap:wrap;\n",
              "      gap: 12px;\n",
              "    }\n",
              "\n",
              "    .colab-df-convert {\n",
              "      background-color: #E8F0FE;\n",
              "      border: none;\n",
              "      border-radius: 50%;\n",
              "      cursor: pointer;\n",
              "      display: none;\n",
              "      fill: #1967D2;\n",
              "      height: 32px;\n",
              "      padding: 0 0 0 0;\n",
              "      width: 32px;\n",
              "    }\n",
              "\n",
              "    .colab-df-convert:hover {\n",
              "      background-color: #E2EBFA;\n",
              "      box-shadow: 0px 1px 2px rgba(60, 64, 67, 0.3), 0px 1px 3px 1px rgba(60, 64, 67, 0.15);\n",
              "      fill: #174EA6;\n",
              "    }\n",
              "\n",
              "    [theme=dark] .colab-df-convert {\n",
              "      background-color: #3B4455;\n",
              "      fill: #D2E3FC;\n",
              "    }\n",
              "\n",
              "    [theme=dark] .colab-df-convert:hover {\n",
              "      background-color: #434B5C;\n",
              "      box-shadow: 0px 1px 3px 1px rgba(0, 0, 0, 0.15);\n",
              "      filter: drop-shadow(0px 1px 2px rgba(0, 0, 0, 0.3));\n",
              "      fill: #FFFFFF;\n",
              "    }\n",
              "  </style>\n",
              "\n",
              "      <script>\n",
              "        const buttonEl =\n",
              "          document.querySelector('#df-690783d0-b027-4bc4-ac00-268df1a9071a button.colab-df-convert');\n",
              "        buttonEl.style.display =\n",
              "          google.colab.kernel.accessAllowed ? 'block' : 'none';\n",
              "\n",
              "        async function convertToInteractive(key) {\n",
              "          const element = document.querySelector('#df-690783d0-b027-4bc4-ac00-268df1a9071a');\n",
              "          const dataTable =\n",
              "            await google.colab.kernel.invokeFunction('convertToInteractive',\n",
              "                                                     [key], {});\n",
              "          if (!dataTable) return;\n",
              "\n",
              "          const docLinkHtml = 'Like what you see? Visit the ' +\n",
              "            '<a target=\"_blank\" href=https://colab.research.google.com/notebooks/data_table.ipynb>data table notebook</a>'\n",
              "            + ' to learn more about interactive tables.';\n",
              "          element.innerHTML = '';\n",
              "          dataTable['output_type'] = 'display_data';\n",
              "          await google.colab.output.renderOutput(dataTable, element);\n",
              "          const docLink = document.createElement('div');\n",
              "          docLink.innerHTML = docLinkHtml;\n",
              "          element.appendChild(docLink);\n",
              "        }\n",
              "      </script>\n",
              "    </div>\n",
              "  </div>\n",
              "  "
            ]
          },
          "metadata": {},
          "execution_count": 42
        }
      ]
    },
    {
      "cell_type": "code",
      "source": [
        "df_ft.loc[df_ft.Tot_PtCasa == 0,'Tot_PtCasa_']='1'\n",
        "df_ft.loc[df_ft.Tot_PtCasa == 1,'Tot_PtCasa_']='1'\n",
        "df_ft.loc[df_ft.Tot_PtCasa == 2,'Tot_PtCasa_']='1'\n",
        "df_ft.loc[df_ft.Tot_PtCasa == 3,'Tot_PtCasa_']='2'\n",
        "df_ft.loc[df_ft.Tot_PtCasa == 4,'Tot_PtCasa_']='3'\n",
        "df_ft.loc[df_ft.Tot_PtCasa == 5,'Tot_PtCasa_']='4'\n",
        "df_ft.loc[df_ft.Tot_PtCasa == 6,'Tot_PtCasa_']='5'\n",
        "df_ft.loc[df_ft.Tot_PtCasa == 7,'Tot_PtCasa_']='6'\n",
        "df_ft.loc[df_ft.Tot_PtCasa == 8,'Tot_PtCasa_']='6'"
      ],
      "metadata": {
        "id": "t2Np--1oL-yO"
      },
      "execution_count": null,
      "outputs": []
    },
    {
      "cell_type": "markdown",
      "source": [
        "- Região Geográfica"
      ],
      "metadata": {
        "id": "hdEWeeydC18H"
      }
    },
    {
      "cell_type": "code",
      "source": [
        "df_ft['RegGeo_Prova'] = df_ft.CO_MUNICIPIO_PROVA.astype(str).str[0] # transforma primeiro em string, depois seleciona o digito"
      ],
      "metadata": {
        "id": "uqc7eiCrEs4P"
      },
      "execution_count": null,
      "outputs": []
    },
    {
      "cell_type": "code",
      "source": [
        "df_ft.RegGeo_Prova.value_counts().sort_index()"
      ],
      "metadata": {
        "id": "IYaKTFQ3GRVd",
        "colab": {
          "base_uri": "https://localhost:8080/"
        },
        "outputId": "fb37391e-39a4-4e1b-9bb1-2163a5c44ae6"
      },
      "execution_count": null,
      "outputs": [
        {
          "output_type": "execute_result",
          "data": {
            "text/plain": [
              "1    260487\n",
              "2    807744\n",
              "3    731309\n",
              "4    228087\n",
              "5    180166\n",
              "Name: RegGeo_Prova, dtype: int64"
            ]
          },
          "metadata": {},
          "execution_count": 45
        }
      ]
    },
    {
      "cell_type": "code",
      "source": [
        "pd.crosstab(df_ft.SG_UF_PROVA, df_ft.RegGeo_Prova, margins=True, dropna=False)"
      ],
      "metadata": {
        "id": "mEdtS7lhGX85",
        "colab": {
          "base_uri": "https://localhost:8080/",
          "height": 959
        },
        "outputId": "534495e7-60e3-4b7d-833c-ceedc098813a"
      },
      "execution_count": null,
      "outputs": [
        {
          "output_type": "execute_result",
          "data": {
            "text/plain": [
              "RegGeo_Prova       1       2       3       4       5      All\n",
              "SG_UF_PROVA                                                  \n",
              "AC             16791       0       0       0       0    16791\n",
              "AL                 0   45639       0       0       0    45639\n",
              "AM             45464       0       0       0       0    45464\n",
              "AP             17574       0       0       0       0    17574\n",
              "BA                 0  180875       0       0       0   180875\n",
              "CE                 0  129693       0       0       0   129693\n",
              "DF                 0       0       0       0   47294    47294\n",
              "ES                 0       0   39822       0       0    39822\n",
              "GO                 0       0       0       0   72531    72531\n",
              "MA                 0   98509       0       0       0    98509\n",
              "MG                 0       0  218632       0       0   218632\n",
              "MS                 0       0       0       0   27101    27101\n",
              "MT                 0       0       0       0   33240    33240\n",
              "PA            135585       0       0       0       0   135585\n",
              "PB                 0   73245       0       0       0    73245\n",
              "PE                 0  128065       0       0       0   128065\n",
              "PI                 0   57071       0       0       0    57071\n",
              "PR                 0       0       0   91166       0    91166\n",
              "RJ                 0       0  151955       0       0   151955\n",
              "RN                 0   57667       0       0       0    57667\n",
              "RO             19616       0       0       0       0    19616\n",
              "RR              5415       0       0       0       0     5415\n",
              "RS                 0       0       0   95147       0    95147\n",
              "SC                 0       0       0   41774       0    41774\n",
              "SE                 0   36980       0       0       0    36980\n",
              "SP                 0       0  320900       0       0   320900\n",
              "TO             20042       0       0       0       0    20042\n",
              "All           260487  807744  731309  228087  180166  2207793"
            ],
            "text/html": [
              "\n",
              "  <div id=\"df-dc6ca974-34dc-4fa2-9a74-4424c84d3bb5\">\n",
              "    <div class=\"colab-df-container\">\n",
              "      <div>\n",
              "<style scoped>\n",
              "    .dataframe tbody tr th:only-of-type {\n",
              "        vertical-align: middle;\n",
              "    }\n",
              "\n",
              "    .dataframe tbody tr th {\n",
              "        vertical-align: top;\n",
              "    }\n",
              "\n",
              "    .dataframe thead th {\n",
              "        text-align: right;\n",
              "    }\n",
              "</style>\n",
              "<table border=\"1\" class=\"dataframe\">\n",
              "  <thead>\n",
              "    <tr style=\"text-align: right;\">\n",
              "      <th>RegGeo_Prova</th>\n",
              "      <th>1</th>\n",
              "      <th>2</th>\n",
              "      <th>3</th>\n",
              "      <th>4</th>\n",
              "      <th>5</th>\n",
              "      <th>All</th>\n",
              "    </tr>\n",
              "    <tr>\n",
              "      <th>SG_UF_PROVA</th>\n",
              "      <th></th>\n",
              "      <th></th>\n",
              "      <th></th>\n",
              "      <th></th>\n",
              "      <th></th>\n",
              "      <th></th>\n",
              "    </tr>\n",
              "  </thead>\n",
              "  <tbody>\n",
              "    <tr>\n",
              "      <th>AC</th>\n",
              "      <td>16791</td>\n",
              "      <td>0</td>\n",
              "      <td>0</td>\n",
              "      <td>0</td>\n",
              "      <td>0</td>\n",
              "      <td>16791</td>\n",
              "    </tr>\n",
              "    <tr>\n",
              "      <th>AL</th>\n",
              "      <td>0</td>\n",
              "      <td>45639</td>\n",
              "      <td>0</td>\n",
              "      <td>0</td>\n",
              "      <td>0</td>\n",
              "      <td>45639</td>\n",
              "    </tr>\n",
              "    <tr>\n",
              "      <th>AM</th>\n",
              "      <td>45464</td>\n",
              "      <td>0</td>\n",
              "      <td>0</td>\n",
              "      <td>0</td>\n",
              "      <td>0</td>\n",
              "      <td>45464</td>\n",
              "    </tr>\n",
              "    <tr>\n",
              "      <th>AP</th>\n",
              "      <td>17574</td>\n",
              "      <td>0</td>\n",
              "      <td>0</td>\n",
              "      <td>0</td>\n",
              "      <td>0</td>\n",
              "      <td>17574</td>\n",
              "    </tr>\n",
              "    <tr>\n",
              "      <th>BA</th>\n",
              "      <td>0</td>\n",
              "      <td>180875</td>\n",
              "      <td>0</td>\n",
              "      <td>0</td>\n",
              "      <td>0</td>\n",
              "      <td>180875</td>\n",
              "    </tr>\n",
              "    <tr>\n",
              "      <th>CE</th>\n",
              "      <td>0</td>\n",
              "      <td>129693</td>\n",
              "      <td>0</td>\n",
              "      <td>0</td>\n",
              "      <td>0</td>\n",
              "      <td>129693</td>\n",
              "    </tr>\n",
              "    <tr>\n",
              "      <th>DF</th>\n",
              "      <td>0</td>\n",
              "      <td>0</td>\n",
              "      <td>0</td>\n",
              "      <td>0</td>\n",
              "      <td>47294</td>\n",
              "      <td>47294</td>\n",
              "    </tr>\n",
              "    <tr>\n",
              "      <th>ES</th>\n",
              "      <td>0</td>\n",
              "      <td>0</td>\n",
              "      <td>39822</td>\n",
              "      <td>0</td>\n",
              "      <td>0</td>\n",
              "      <td>39822</td>\n",
              "    </tr>\n",
              "    <tr>\n",
              "      <th>GO</th>\n",
              "      <td>0</td>\n",
              "      <td>0</td>\n",
              "      <td>0</td>\n",
              "      <td>0</td>\n",
              "      <td>72531</td>\n",
              "      <td>72531</td>\n",
              "    </tr>\n",
              "    <tr>\n",
              "      <th>MA</th>\n",
              "      <td>0</td>\n",
              "      <td>98509</td>\n",
              "      <td>0</td>\n",
              "      <td>0</td>\n",
              "      <td>0</td>\n",
              "      <td>98509</td>\n",
              "    </tr>\n",
              "    <tr>\n",
              "      <th>MG</th>\n",
              "      <td>0</td>\n",
              "      <td>0</td>\n",
              "      <td>218632</td>\n",
              "      <td>0</td>\n",
              "      <td>0</td>\n",
              "      <td>218632</td>\n",
              "    </tr>\n",
              "    <tr>\n",
              "      <th>MS</th>\n",
              "      <td>0</td>\n",
              "      <td>0</td>\n",
              "      <td>0</td>\n",
              "      <td>0</td>\n",
              "      <td>27101</td>\n",
              "      <td>27101</td>\n",
              "    </tr>\n",
              "    <tr>\n",
              "      <th>MT</th>\n",
              "      <td>0</td>\n",
              "      <td>0</td>\n",
              "      <td>0</td>\n",
              "      <td>0</td>\n",
              "      <td>33240</td>\n",
              "      <td>33240</td>\n",
              "    </tr>\n",
              "    <tr>\n",
              "      <th>PA</th>\n",
              "      <td>135585</td>\n",
              "      <td>0</td>\n",
              "      <td>0</td>\n",
              "      <td>0</td>\n",
              "      <td>0</td>\n",
              "      <td>135585</td>\n",
              "    </tr>\n",
              "    <tr>\n",
              "      <th>PB</th>\n",
              "      <td>0</td>\n",
              "      <td>73245</td>\n",
              "      <td>0</td>\n",
              "      <td>0</td>\n",
              "      <td>0</td>\n",
              "      <td>73245</td>\n",
              "    </tr>\n",
              "    <tr>\n",
              "      <th>PE</th>\n",
              "      <td>0</td>\n",
              "      <td>128065</td>\n",
              "      <td>0</td>\n",
              "      <td>0</td>\n",
              "      <td>0</td>\n",
              "      <td>128065</td>\n",
              "    </tr>\n",
              "    <tr>\n",
              "      <th>PI</th>\n",
              "      <td>0</td>\n",
              "      <td>57071</td>\n",
              "      <td>0</td>\n",
              "      <td>0</td>\n",
              "      <td>0</td>\n",
              "      <td>57071</td>\n",
              "    </tr>\n",
              "    <tr>\n",
              "      <th>PR</th>\n",
              "      <td>0</td>\n",
              "      <td>0</td>\n",
              "      <td>0</td>\n",
              "      <td>91166</td>\n",
              "      <td>0</td>\n",
              "      <td>91166</td>\n",
              "    </tr>\n",
              "    <tr>\n",
              "      <th>RJ</th>\n",
              "      <td>0</td>\n",
              "      <td>0</td>\n",
              "      <td>151955</td>\n",
              "      <td>0</td>\n",
              "      <td>0</td>\n",
              "      <td>151955</td>\n",
              "    </tr>\n",
              "    <tr>\n",
              "      <th>RN</th>\n",
              "      <td>0</td>\n",
              "      <td>57667</td>\n",
              "      <td>0</td>\n",
              "      <td>0</td>\n",
              "      <td>0</td>\n",
              "      <td>57667</td>\n",
              "    </tr>\n",
              "    <tr>\n",
              "      <th>RO</th>\n",
              "      <td>19616</td>\n",
              "      <td>0</td>\n",
              "      <td>0</td>\n",
              "      <td>0</td>\n",
              "      <td>0</td>\n",
              "      <td>19616</td>\n",
              "    </tr>\n",
              "    <tr>\n",
              "      <th>RR</th>\n",
              "      <td>5415</td>\n",
              "      <td>0</td>\n",
              "      <td>0</td>\n",
              "      <td>0</td>\n",
              "      <td>0</td>\n",
              "      <td>5415</td>\n",
              "    </tr>\n",
              "    <tr>\n",
              "      <th>RS</th>\n",
              "      <td>0</td>\n",
              "      <td>0</td>\n",
              "      <td>0</td>\n",
              "      <td>95147</td>\n",
              "      <td>0</td>\n",
              "      <td>95147</td>\n",
              "    </tr>\n",
              "    <tr>\n",
              "      <th>SC</th>\n",
              "      <td>0</td>\n",
              "      <td>0</td>\n",
              "      <td>0</td>\n",
              "      <td>41774</td>\n",
              "      <td>0</td>\n",
              "      <td>41774</td>\n",
              "    </tr>\n",
              "    <tr>\n",
              "      <th>SE</th>\n",
              "      <td>0</td>\n",
              "      <td>36980</td>\n",
              "      <td>0</td>\n",
              "      <td>0</td>\n",
              "      <td>0</td>\n",
              "      <td>36980</td>\n",
              "    </tr>\n",
              "    <tr>\n",
              "      <th>SP</th>\n",
              "      <td>0</td>\n",
              "      <td>0</td>\n",
              "      <td>320900</td>\n",
              "      <td>0</td>\n",
              "      <td>0</td>\n",
              "      <td>320900</td>\n",
              "    </tr>\n",
              "    <tr>\n",
              "      <th>TO</th>\n",
              "      <td>20042</td>\n",
              "      <td>0</td>\n",
              "      <td>0</td>\n",
              "      <td>0</td>\n",
              "      <td>0</td>\n",
              "      <td>20042</td>\n",
              "    </tr>\n",
              "    <tr>\n",
              "      <th>All</th>\n",
              "      <td>260487</td>\n",
              "      <td>807744</td>\n",
              "      <td>731309</td>\n",
              "      <td>228087</td>\n",
              "      <td>180166</td>\n",
              "      <td>2207793</td>\n",
              "    </tr>\n",
              "  </tbody>\n",
              "</table>\n",
              "</div>\n",
              "      <button class=\"colab-df-convert\" onclick=\"convertToInteractive('df-dc6ca974-34dc-4fa2-9a74-4424c84d3bb5')\"\n",
              "              title=\"Convert this dataframe to an interactive table.\"\n",
              "              style=\"display:none;\">\n",
              "        \n",
              "  <svg xmlns=\"http://www.w3.org/2000/svg\" height=\"24px\"viewBox=\"0 0 24 24\"\n",
              "       width=\"24px\">\n",
              "    <path d=\"M0 0h24v24H0V0z\" fill=\"none\"/>\n",
              "    <path d=\"M18.56 5.44l.94 2.06.94-2.06 2.06-.94-2.06-.94-.94-2.06-.94 2.06-2.06.94zm-11 1L8.5 8.5l.94-2.06 2.06-.94-2.06-.94L8.5 2.5l-.94 2.06-2.06.94zm10 10l.94 2.06.94-2.06 2.06-.94-2.06-.94-.94-2.06-.94 2.06-2.06.94z\"/><path d=\"M17.41 7.96l-1.37-1.37c-.4-.4-.92-.59-1.43-.59-.52 0-1.04.2-1.43.59L10.3 9.45l-7.72 7.72c-.78.78-.78 2.05 0 2.83L4 21.41c.39.39.9.59 1.41.59.51 0 1.02-.2 1.41-.59l7.78-7.78 2.81-2.81c.8-.78.8-2.07 0-2.86zM5.41 20L4 18.59l7.72-7.72 1.47 1.35L5.41 20z\"/>\n",
              "  </svg>\n",
              "      </button>\n",
              "      \n",
              "  <style>\n",
              "    .colab-df-container {\n",
              "      display:flex;\n",
              "      flex-wrap:wrap;\n",
              "      gap: 12px;\n",
              "    }\n",
              "\n",
              "    .colab-df-convert {\n",
              "      background-color: #E8F0FE;\n",
              "      border: none;\n",
              "      border-radius: 50%;\n",
              "      cursor: pointer;\n",
              "      display: none;\n",
              "      fill: #1967D2;\n",
              "      height: 32px;\n",
              "      padding: 0 0 0 0;\n",
              "      width: 32px;\n",
              "    }\n",
              "\n",
              "    .colab-df-convert:hover {\n",
              "      background-color: #E2EBFA;\n",
              "      box-shadow: 0px 1px 2px rgba(60, 64, 67, 0.3), 0px 1px 3px 1px rgba(60, 64, 67, 0.15);\n",
              "      fill: #174EA6;\n",
              "    }\n",
              "\n",
              "    [theme=dark] .colab-df-convert {\n",
              "      background-color: #3B4455;\n",
              "      fill: #D2E3FC;\n",
              "    }\n",
              "\n",
              "    [theme=dark] .colab-df-convert:hover {\n",
              "      background-color: #434B5C;\n",
              "      box-shadow: 0px 1px 3px 1px rgba(0, 0, 0, 0.15);\n",
              "      filter: drop-shadow(0px 1px 2px rgba(0, 0, 0, 0.3));\n",
              "      fill: #FFFFFF;\n",
              "    }\n",
              "  </style>\n",
              "\n",
              "      <script>\n",
              "        const buttonEl =\n",
              "          document.querySelector('#df-dc6ca974-34dc-4fa2-9a74-4424c84d3bb5 button.colab-df-convert');\n",
              "        buttonEl.style.display =\n",
              "          google.colab.kernel.accessAllowed ? 'block' : 'none';\n",
              "\n",
              "        async function convertToInteractive(key) {\n",
              "          const element = document.querySelector('#df-dc6ca974-34dc-4fa2-9a74-4424c84d3bb5');\n",
              "          const dataTable =\n",
              "            await google.colab.kernel.invokeFunction('convertToInteractive',\n",
              "                                                     [key], {});\n",
              "          if (!dataTable) return;\n",
              "\n",
              "          const docLinkHtml = 'Like what you see? Visit the ' +\n",
              "            '<a target=\"_blank\" href=https://colab.research.google.com/notebooks/data_table.ipynb>data table notebook</a>'\n",
              "            + ' to learn more about interactive tables.';\n",
              "          element.innerHTML = '';\n",
              "          dataTable['output_type'] = 'display_data';\n",
              "          await google.colab.output.renderOutput(dataTable, element);\n",
              "          const docLink = document.createElement('div');\n",
              "          docLink.innerHTML = docLinkHtml;\n",
              "          element.appendChild(docLink);\n",
              "        }\n",
              "      </script>\n",
              "    </div>\n",
              "  </div>\n",
              "  "
            ]
          },
          "metadata": {},
          "execution_count": 46
        }
      ]
    },
    {
      "cell_type": "markdown",
      "source": [
        "- SG PROVA"
      ],
      "metadata": {
        "id": "pnrhpPq0mPie"
      }
    },
    {
      "cell_type": "code",
      "source": [
        "gr_uf = {'AC': 1,'AL': 1,'AM': 1,'AP': 1,'MA': 1,'PA': 1,'PI': 1,'RO': 1,'TO': 1,\n",
        "         'BA': 2,'CE': 2,'MT': 2,'PB': 2,'PE': 2,'RR': 2,'SE': 2,\n",
        "         'GO': 3,'MS': 3,'RN': 3,\n",
        "         'DF': 4,'ES': 4,'MG': 4,'PR': 4,'RJ': 4,'RS': 4,'SC': 4,'SP': 4}"
      ],
      "metadata": {
        "id": "ewhEnd1Cd1XA"
      },
      "execution_count": null,
      "outputs": []
    },
    {
      "cell_type": "code",
      "source": [
        "df_ft['SG_UF_PROVA_'] = df_ft['SG_UF_PROVA'].map(gr_uf)"
      ],
      "metadata": {
        "id": "FpyU8Y8lx7cU"
      },
      "execution_count": null,
      "outputs": []
    },
    {
      "cell_type": "code",
      "source": [
        "df_ft.SG_UF_PROVA_.value_counts().sort_index()"
      ],
      "metadata": {
        "id": "Tscl1WYCzV_h",
        "colab": {
          "base_uri": "https://localhost:8080/"
        },
        "outputId": "91b69a5e-aa46-4242-d7ca-d510482d6b77"
      },
      "execution_count": null,
      "outputs": [
        {
          "output_type": "execute_result",
          "data": {
            "text/plain": [
              "1     456291\n",
              "2     587513\n",
              "3     157299\n",
              "4    1006690\n",
              "Name: SG_UF_PROVA_, dtype: int64"
            ]
          },
          "metadata": {},
          "execution_count": 49
        }
      ]
    },
    {
      "cell_type": "code",
      "source": [
        "# Exemplo\n",
        "# df['Status'] = [\"Senior\" if s >=400 else \"Junior\" for s in df['Salary']]"
      ],
      "metadata": {
        "id": "QQazVOgj1D9S"
      },
      "execution_count": null,
      "outputs": []
    },
    {
      "cell_type": "markdown",
      "source": [
        "# **Recategorização das Variáveis**"
      ],
      "metadata": {
        "id": "6Vg0gzaCnLpo"
      }
    },
    {
      "cell_type": "markdown",
      "source": [
        "- Faixa Etária     "
      ],
      "metadata": {
        "id": "BWpnbgFL024l"
      }
    },
    {
      "cell_type": "code",
      "source": [
        "df_ft.loc[df_ft.TP_FAIXA_ETARIA == 1 ,'TP_FAIXA_ETARIA_']='1'\n",
        "df_ft.loc[df_ft.TP_FAIXA_ETARIA == 2 ,'TP_FAIXA_ETARIA_']='1'\n",
        "df_ft.loc[df_ft.TP_FAIXA_ETARIA == 3 ,'TP_FAIXA_ETARIA_']='2'\n",
        "df_ft.loc[df_ft.TP_FAIXA_ETARIA == 4 ,'TP_FAIXA_ETARIA_']='2'\n",
        "df_ft.loc[df_ft.TP_FAIXA_ETARIA == 5 ,'TP_FAIXA_ETARIA_']='2'\n",
        "df_ft.loc[df_ft.TP_FAIXA_ETARIA == 6 ,'TP_FAIXA_ETARIA_']='3'\n",
        "df_ft.loc[df_ft.TP_FAIXA_ETARIA == 7 ,'TP_FAIXA_ETARIA_']='3'\n",
        "df_ft.loc[df_ft.TP_FAIXA_ETARIA == 8 ,'TP_FAIXA_ETARIA_']='3'\n",
        "df_ft.loc[df_ft.TP_FAIXA_ETARIA == 9 ,'TP_FAIXA_ETARIA_']='3'\n",
        "df_ft.loc[df_ft.TP_FAIXA_ETARIA == 10 ,'TP_FAIXA_ETARIA_']='3'\n",
        "df_ft.loc[df_ft.TP_FAIXA_ETARIA == 11 ,'TP_FAIXA_ETARIA_']='3'\n",
        "df_ft.loc[df_ft.TP_FAIXA_ETARIA == 12 ,'TP_FAIXA_ETARIA_']='4'\n",
        "df_ft.loc[df_ft.TP_FAIXA_ETARIA == 13 ,'TP_FAIXA_ETARIA_']='4'\n",
        "df_ft.loc[df_ft.TP_FAIXA_ETARIA == 14 ,'TP_FAIXA_ETARIA_']='5'\n",
        "df_ft.loc[df_ft.TP_FAIXA_ETARIA == 15 ,'TP_FAIXA_ETARIA_']='5'\n",
        "df_ft.loc[df_ft.TP_FAIXA_ETARIA == 16 ,'TP_FAIXA_ETARIA_']='5'\n",
        "df_ft.loc[df_ft.TP_FAIXA_ETARIA == 17 ,'TP_FAIXA_ETARIA_']='5'\n",
        "df_ft.loc[df_ft.TP_FAIXA_ETARIA == 18 ,'TP_FAIXA_ETARIA_']='5'\n",
        "df_ft.loc[df_ft.TP_FAIXA_ETARIA == 19 ,'TP_FAIXA_ETARIA_']='5'\n",
        "df_ft.loc[df_ft.TP_FAIXA_ETARIA == 20 ,'TP_FAIXA_ETARIA_']='5'"
      ],
      "metadata": {
        "id": "FvCuzryJWUzm"
      },
      "execution_count": null,
      "outputs": []
    },
    {
      "cell_type": "markdown",
      "source": [
        "- Estado Civil"
      ],
      "metadata": {
        "id": "LznZJtzeAjgu"
      }
    },
    {
      "cell_type": "code",
      "source": [
        "df_ft.loc[df_ft.TP_ESTADO_CIVIL == 0 ,'TP_ESTADO_CIVIL_']='1'\n",
        "df_ft.loc[df_ft.TP_ESTADO_CIVIL == 1 ,'TP_ESTADO_CIVIL_']='2'\n",
        "df_ft.loc[df_ft.TP_ESTADO_CIVIL == 2 ,'TP_ESTADO_CIVIL_']='3'\n",
        "df_ft.loc[df_ft.TP_ESTADO_CIVIL == 3 ,'TP_ESTADO_CIVIL_']='3'\n",
        "df_ft.loc[df_ft.TP_ESTADO_CIVIL == 4 ,'TP_ESTADO_CIVIL_']='3'"
      ],
      "metadata": {
        "id": "1xH94aYNBPXX"
      },
      "execution_count": null,
      "outputs": []
    },
    {
      "cell_type": "markdown",
      "source": [
        "- Cor/Raça"
      ],
      "metadata": {
        "id": "jaPsnY6MB614"
      }
    },
    {
      "cell_type": "code",
      "source": [
        "df_ft.loc[df_ft.TP_COR_RACA == 0 ,'TP_COR_RACA_']='1'\n",
        "df_ft.loc[df_ft.TP_COR_RACA == 1 ,'TP_COR_RACA_']='2'\n",
        "df_ft.loc[df_ft.TP_COR_RACA == 2 ,'TP_COR_RACA_']='3'\n",
        "df_ft.loc[df_ft.TP_COR_RACA == 3 ,'TP_COR_RACA_']='3'\n",
        "df_ft.loc[df_ft.TP_COR_RACA == 4 ,'TP_COR_RACA_']='4'\n",
        "df_ft.loc[df_ft.TP_COR_RACA == 5 ,'TP_COR_RACA_']='5'\n",
        "df_ft.loc[df_ft.TP_COR_RACA == 6 ,'TP_COR_RACA_']='1'"
      ],
      "metadata": {
        "id": "4bV8KM8YCgby"
      },
      "execution_count": null,
      "outputs": []
    },
    {
      "cell_type": "markdown",
      "source": [
        "- Ano que concluiu"
      ],
      "metadata": {
        "id": "GPMpHLO6PAnv"
      }
    },
    {
      "cell_type": "code",
      "source": [
        "df_ft.loc[df_ft.TP_ANO_CONCLUIU == 0 ,'TP_ANO_CONCLUIU_']='1'\n",
        "df_ft.loc[df_ft.TP_ANO_CONCLUIU == 1 ,'TP_ANO_CONCLUIU_']='2'\n",
        "df_ft.loc[df_ft.TP_ANO_CONCLUIU == 2 ,'TP_ANO_CONCLUIU_']='2'\n",
        "df_ft.loc[df_ft.TP_ANO_CONCLUIU == 3 ,'TP_ANO_CONCLUIU_']='3'\n",
        "df_ft.loc[df_ft.TP_ANO_CONCLUIU == 4 ,'TP_ANO_CONCLUIU_']='3'\n",
        "df_ft.loc[df_ft.TP_ANO_CONCLUIU == 5 ,'TP_ANO_CONCLUIU_']='3'\n",
        "df_ft.loc[df_ft.TP_ANO_CONCLUIU == 6 ,'TP_ANO_CONCLUIU_']='4'\n",
        "df_ft.loc[df_ft.TP_ANO_CONCLUIU == 7 ,'TP_ANO_CONCLUIU_']='4'\n",
        "df_ft.loc[df_ft.TP_ANO_CONCLUIU == 8 ,'TP_ANO_CONCLUIU_']='4'\n",
        "df_ft.loc[df_ft.TP_ANO_CONCLUIU == 9 ,'TP_ANO_CONCLUIU_']='5'\n",
        "df_ft.loc[df_ft.TP_ANO_CONCLUIU == 10 ,'TP_ANO_CONCLUIU_']='5'\n",
        "df_ft.loc[df_ft.TP_ANO_CONCLUIU == 11 ,'TP_ANO_CONCLUIU_']='5'\n",
        "df_ft.loc[df_ft.TP_ANO_CONCLUIU == 12 ,'TP_ANO_CONCLUIU_']='6'\n",
        "df_ft.loc[df_ft.TP_ANO_CONCLUIU == 13 ,'TP_ANO_CONCLUIU_']='6'\n",
        "df_ft.loc[df_ft.TP_ANO_CONCLUIU == 14 ,'TP_ANO_CONCLUIU_']='6'\n",
        "df_ft.loc[df_ft.TP_ANO_CONCLUIU == 15 ,'TP_ANO_CONCLUIU_']='6'\n",
        "df_ft.loc[df_ft.TP_ANO_CONCLUIU == 16 ,'TP_ANO_CONCLUIU_']='6'"
      ],
      "metadata": {
        "id": "gb-147ngPfhs"
      },
      "execution_count": null,
      "outputs": []
    },
    {
      "cell_type": "markdown",
      "source": [
        "- Tipo de Escola"
      ],
      "metadata": {
        "id": "Ehxbnf7PQ9n9"
      }
    },
    {
      "cell_type": "code",
      "source": [
        "df_ft.loc[df_ft.TP_ESCOLA == 1 ,'TP_ESCOLA_']='1'\n",
        "df_ft.loc[df_ft.TP_ESCOLA == 2 ,'TP_ESCOLA_']='2'\n",
        "df_ft.loc[df_ft.TP_ESCOLA == 3 ,'TP_ESCOLA_']='3'\n",
        "df_ft.loc[df_ft.TP_ESCOLA == 4 ,'TP_ESCOLA_']='1'"
      ],
      "metadata": {
        "id": "YskTTCSbSi9V"
      },
      "execution_count": null,
      "outputs": []
    },
    {
      "cell_type": "markdown",
      "source": [
        "- Tipo de Ensino"
      ],
      "metadata": {
        "id": "Y39fm66cT2SV"
      }
    },
    {
      "cell_type": "code",
      "source": [
        "df_ft.loc[df_ft.TP_ENSINO == 1 ,'TP_ENSINO_']='1'\n",
        "df_ft.loc[df_ft.TP_ENSINO == 2 ,'TP_ENSINO_']='2'\n",
        "df_ft.loc[df_ft.TP_ENSINO == 3 ,'TP_ENSINO_']='2'\n",
        "df_ft.loc[df_ft.TP_ENSINO == 9 ,'TP_ENSINO_']='9'"
      ],
      "metadata": {
        "id": "Ws2VGMEwUcRV"
      },
      "execution_count": null,
      "outputs": []
    },
    {
      "cell_type": "markdown",
      "source": [
        "- Quantidade de Moradores na Residência"
      ],
      "metadata": {
        "id": "xaFjwhgur8wx"
      }
    },
    {
      "cell_type": "code",
      "source": [
        "df_ft.loc[df_ft.Q005 == 1 ,'Q005_']='1'\n",
        "df_ft.loc[df_ft.Q005 == 2 ,'Q005_']='1'\n",
        "df_ft.loc[df_ft.Q005 == 3 ,'Q005_']='1'\n",
        "df_ft.loc[df_ft.Q005 == 4 ,'Q005_']='1'\n",
        "df_ft.loc[df_ft.Q005 == 5 ,'Q005_']='2'\n",
        "df_ft.loc[df_ft.Q005 == 6 ,'Q005_']='3'\n",
        "df_ft.loc[df_ft.Q005 == 7 ,'Q005_']='4'\n",
        "df_ft.loc[df_ft.Q005 == 8 ,'Q005_']='5'\n",
        "df_ft.loc[df_ft.Q005 == 9 ,'Q005_']='5'\n",
        "df_ft.loc[df_ft.Q005 == 10 ,'Q005_']='5'\n",
        "df_ft.loc[df_ft.Q005 == 11 ,'Q005_']='5'\n",
        "df_ft.loc[df_ft.Q005 == 12 ,'Q005_']='5'\n",
        "df_ft.loc[df_ft.Q005 == 13 ,'Q005_']='5'\n",
        "df_ft.loc[df_ft.Q005 == 14 ,'Q005_']='5'\n",
        "df_ft.loc[df_ft.Q005 == 15 ,'Q005_']='5'\n",
        "df_ft.loc[df_ft.Q005 == 16 ,'Q005_']='5'\n",
        "df_ft.loc[df_ft.Q005 == 17 ,'Q005_']='5'\n",
        "df_ft.loc[df_ft.Q005 == 18 ,'Q005_']='5'\n",
        "df_ft.loc[df_ft.Q005 == 19 ,'Q005_']='5'\n",
        "df_ft.loc[df_ft.Q005 == 20 ,'Q005_']='5'"
      ],
      "metadata": {
        "id": "DI5SVBvgsAW-"
      },
      "execution_count": null,
      "outputs": []
    },
    {
      "cell_type": "markdown",
      "source": [
        "- Renda"
      ],
      "metadata": {
        "id": "_G3MiZ6AtUKI"
      }
    },
    {
      "cell_type": "code",
      "source": [
        "df_ft.loc[df_ft.Q006 == 'A' ,'Q006_']='1'\n",
        "df_ft.loc[df_ft.Q006 == 'B' ,'Q006_']='2'\n",
        "df_ft.loc[df_ft.Q006 == 'C' ,'Q006_']='3'\n",
        "df_ft.loc[df_ft.Q006 == 'D' ,'Q006_']='4'\n",
        "df_ft.loc[df_ft.Q006 == 'E' ,'Q006_']='5'\n",
        "df_ft.loc[df_ft.Q006 == 'F' ,'Q006_']='6'\n",
        "df_ft.loc[df_ft.Q006 == 'G' ,'Q006_']='6'\n",
        "df_ft.loc[df_ft.Q006 == 'H' ,'Q006_']='7'\n",
        "df_ft.loc[df_ft.Q006 == 'I' ,'Q006_']='7'\n",
        "df_ft.loc[df_ft.Q006 == 'J' ,'Q006_']='8'\n",
        "df_ft.loc[df_ft.Q006 == 'K' ,'Q006_']='8'\n",
        "df_ft.loc[df_ft.Q006 == 'L' ,'Q006_']='9'\n",
        "df_ft.loc[df_ft.Q006 == 'M' ,'Q006_']='9'\n",
        "df_ft.loc[df_ft.Q006 == 'N' ,'Q006_']='10'\n",
        "df_ft.loc[df_ft.Q006 == 'O' ,'Q006_']='10'\n",
        "df_ft.loc[df_ft.Q006 == 'P' ,'Q006_']='10'\n",
        "df_ft.loc[df_ft.Q006 == 'Q' ,'Q006_']='10'"
      ],
      "metadata": {
        "id": "jmnD8XO0tUUS"
      },
      "execution_count": null,
      "outputs": []
    },
    {
      "cell_type": "markdown",
      "source": [
        "- Ter Empregada Doméstica"
      ],
      "metadata": {
        "id": "RFzwvvhIvHc4"
      }
    },
    {
      "cell_type": "code",
      "source": [
        "df_ft.loc[df_ft.Q007 == 'A' ,'Q007_']='1'\n",
        "df_ft.loc[df_ft.Q007 == 'B' ,'Q007_']='2'\n",
        "df_ft.loc[df_ft.Q007 == 'C' ,'Q007_']='2'\n",
        "df_ft.loc[df_ft.Q007 == 'D' ,'Q007_']='2'"
      ],
      "metadata": {
        "id": "MAVGaCpevHmZ"
      },
      "execution_count": null,
      "outputs": []
    },
    {
      "cell_type": "markdown",
      "source": [
        "- Qtde de Banheiros"
      ],
      "metadata": {
        "id": "KmYHiLuzwGIj"
      }
    },
    {
      "cell_type": "code",
      "source": [
        "df_ft.loc[df_ft.Q008 == 'A' ,'Q008_']='1'\n",
        "df_ft.loc[df_ft.Q008 == 'B' ,'Q008_']='1'\n",
        "df_ft.loc[df_ft.Q008 == 'C' ,'Q008_']='2'\n",
        "df_ft.loc[df_ft.Q008 == 'D' ,'Q008_']='3'\n",
        "df_ft.loc[df_ft.Q008 == 'E' ,'Q008_']='4'"
      ],
      "metadata": {
        "id": "AfXP2wY0wGSm"
      },
      "execution_count": null,
      "outputs": []
    },
    {
      "cell_type": "markdown",
      "source": [
        "- Qtde de Quartos"
      ],
      "metadata": {
        "id": "0wsN9ifSwuYc"
      }
    },
    {
      "cell_type": "code",
      "source": [
        "df_ft.loc[df_ft.Q009 == 'A' ,'Q009_']='1'\n",
        "df_ft.loc[df_ft.Q009 == 'B' ,'Q009_']='1'\n",
        "df_ft.loc[df_ft.Q009 == 'C' ,'Q009_']='2'\n",
        "df_ft.loc[df_ft.Q009 == 'D' ,'Q009_']='3'\n",
        "df_ft.loc[df_ft.Q009 == 'E' ,'Q009_']='4'"
      ],
      "metadata": {
        "id": "RdhjBpzuwuhC"
      },
      "execution_count": null,
      "outputs": []
    },
    {
      "cell_type": "markdown",
      "source": [
        "- Qtde de Carros"
      ],
      "metadata": {
        "id": "tsLiUC7VxNoN"
      }
    },
    {
      "cell_type": "code",
      "source": [
        "df_ft.loc[df_ft.Q010 == 'A' ,'Q010_']='1'\n",
        "df_ft.loc[df_ft.Q010 == 'B' ,'Q010_']='2'\n",
        "df_ft.loc[df_ft.Q010 == 'C' ,'Q010_']='3'\n",
        "df_ft.loc[df_ft.Q010 == 'D' ,'Q010_']='4'\n",
        "df_ft.loc[df_ft.Q010 == 'E' ,'Q010_']='4'"
      ],
      "metadata": {
        "id": "2TLqMB63xNwx"
      },
      "execution_count": null,
      "outputs": []
    },
    {
      "cell_type": "markdown",
      "source": [
        "- Qtde de Motos"
      ],
      "metadata": {
        "id": "MIe-ytOlxqzh"
      }
    },
    {
      "cell_type": "code",
      "source": [
        "df_ft.loc[df_ft.Q011 == 'A' ,'Q011_']='1'\n",
        "df_ft.loc[df_ft.Q011 == 'B' ,'Q011_']='2'\n",
        "df_ft.loc[df_ft.Q011 == 'C' ,'Q011_']='3'\n",
        "df_ft.loc[df_ft.Q011 == 'D' ,'Q011_']='3'\n",
        "df_ft.loc[df_ft.Q011 == 'E' ,'Q011_']='3'"
      ],
      "metadata": {
        "id": "XsBLvQ4Lxq8U"
      },
      "execution_count": null,
      "outputs": []
    },
    {
      "cell_type": "markdown",
      "source": [
        "- Qtde de Geladeiras"
      ],
      "metadata": {
        "id": "BMHN5x5tyowt"
      }
    },
    {
      "cell_type": "code",
      "source": [
        "df_ft.loc[df_ft.Q012 == 'A' ,'Q012_']='1'\n",
        "df_ft.loc[df_ft.Q012 == 'B' ,'Q012_']='2'\n",
        "df_ft.loc[df_ft.Q012 == 'C' ,'Q012_']='3'\n",
        "df_ft.loc[df_ft.Q012 == 'D' ,'Q012_']='3'\n",
        "df_ft.loc[df_ft.Q012 == 'E' ,'Q012_']='3'"
      ],
      "metadata": {
        "id": "ppl49W2hyo8C"
      },
      "execution_count": null,
      "outputs": []
    },
    {
      "cell_type": "markdown",
      "source": [
        "- Qtde de Freezer"
      ],
      "metadata": {
        "id": "YgSjY8HQy5dE"
      }
    },
    {
      "cell_type": "code",
      "source": [
        "df_ft.loc[df_ft.Q013 == 'A' ,'Q013_']='1'\n",
        "df_ft.loc[df_ft.Q013 == 'B' ,'Q013_']='2'\n",
        "df_ft.loc[df_ft.Q013 == 'C' ,'Q013_']='3'\n",
        "df_ft.loc[df_ft.Q013 == 'D' ,'Q013_']='3'\n",
        "df_ft.loc[df_ft.Q013 == 'E' ,'Q013_']='3'"
      ],
      "metadata": {
        "id": "Ual5LhU4y5qR"
      },
      "execution_count": null,
      "outputs": []
    },
    {
      "cell_type": "markdown",
      "source": [
        "- Qtde de Lavadora de Roupa"
      ],
      "metadata": {
        "id": "kfvX_DZCzgww"
      }
    },
    {
      "cell_type": "code",
      "source": [
        "df_ft.loc[df_ft.Q014 == 'A' ,'Q014_']='1'\n",
        "df_ft.loc[df_ft.Q014 == 'B' ,'Q014_']='2'\n",
        "df_ft.loc[df_ft.Q014 == 'C' ,'Q014_']='3'\n",
        "df_ft.loc[df_ft.Q014 == 'D' ,'Q014_']='3'\n",
        "df_ft.loc[df_ft.Q014 == 'E' ,'Q014_']='3'"
      ],
      "metadata": {
        "id": "qujTGuRMzg7X"
      },
      "execution_count": null,
      "outputs": []
    },
    {
      "cell_type": "markdown",
      "source": [
        "- Qtde de Secadora de Roupa"
      ],
      "metadata": {
        "id": "bUdAlDA9z-lI"
      }
    },
    {
      "cell_type": "code",
      "source": [
        "df_ft.loc[df_ft.Q015 == 'A' ,'Q015_']='1'\n",
        "df_ft.loc[df_ft.Q015 == 'B' ,'Q015_']='2'\n",
        "df_ft.loc[df_ft.Q015 == 'C' ,'Q015_']='2'\n",
        "df_ft.loc[df_ft.Q015 == 'D' ,'Q015_']='2'\n",
        "df_ft.loc[df_ft.Q015 == 'E' ,'Q015_']='2'"
      ],
      "metadata": {
        "id": "Pm1MyRT8z-tX"
      },
      "execution_count": null,
      "outputs": []
    },
    {
      "cell_type": "markdown",
      "source": [
        "- Qtde de Microondas"
      ],
      "metadata": {
        "id": "SJOillJJ0Vxn"
      }
    },
    {
      "cell_type": "code",
      "source": [
        "df_ft.loc[df_ft.Q016 == 'A' ,'Q016_']='1'\n",
        "df_ft.loc[df_ft.Q016 == 'B' ,'Q016_']='2'\n",
        "df_ft.loc[df_ft.Q016 == 'C' ,'Q016_']='2'\n",
        "df_ft.loc[df_ft.Q016 == 'D' ,'Q016_']='2'\n",
        "df_ft.loc[df_ft.Q016 == 'E' ,'Q016_']='2'"
      ],
      "metadata": {
        "id": "cXqQdRPh0V4K"
      },
      "execution_count": null,
      "outputs": []
    },
    {
      "cell_type": "markdown",
      "source": [
        "- Qtde de Lavadora de Louças"
      ],
      "metadata": {
        "id": "5I-6DAVu0lyu"
      }
    },
    {
      "cell_type": "code",
      "source": [
        "df_ft.loc[df_ft.Q017 == 'A' ,'Q017_']='1'\n",
        "df_ft.loc[df_ft.Q017 == 'B' ,'Q017_']='2'\n",
        "df_ft.loc[df_ft.Q017 == 'C' ,'Q017_']='2'\n",
        "df_ft.loc[df_ft.Q017 == 'D' ,'Q017_']='2'\n",
        "df_ft.loc[df_ft.Q017 == 'E' ,'Q017_']='2'"
      ],
      "metadata": {
        "id": "QtCOPNZq0l7q"
      },
      "execution_count": null,
      "outputs": []
    },
    {
      "cell_type": "markdown",
      "source": [
        "- Qtde de TVs"
      ],
      "metadata": {
        "id": "qnUe4FCF1I4V"
      }
    },
    {
      "cell_type": "code",
      "source": [
        "df_ft.loc[df_ft.Q019 == 'A' ,'Q019_']='1'\n",
        "df_ft.loc[df_ft.Q019 == 'B' ,'Q019_']='2'\n",
        "df_ft.loc[df_ft.Q019 == 'C' ,'Q019_']='3'\n",
        "df_ft.loc[df_ft.Q019 == 'D' ,'Q019_']='4'\n",
        "df_ft.loc[df_ft.Q019 == 'E' ,'Q019_']='5'"
      ],
      "metadata": {
        "id": "SAoC34rG02IY"
      },
      "execution_count": null,
      "outputs": []
    },
    {
      "cell_type": "markdown",
      "source": [
        "- Qtde de computadores"
      ],
      "metadata": {
        "id": "rUTcrnjT2cHU"
      }
    },
    {
      "cell_type": "code",
      "source": [
        "df_ft.loc[df_ft.Q024 == 'A' ,'Q024_']='1'\n",
        "df_ft.loc[df_ft.Q024 == 'B' ,'Q024_']='2'\n",
        "df_ft.loc[df_ft.Q024 == 'C' ,'Q024_']='3'\n",
        "df_ft.loc[df_ft.Q024 == 'D' ,'Q024_']='4'\n",
        "df_ft.loc[df_ft.Q024 == 'E' ,'Q024_']='4'"
      ],
      "metadata": {
        "id": "Rs9iwMXf2cOn"
      },
      "execution_count": null,
      "outputs": []
    },
    {
      "cell_type": "markdown",
      "source": [
        "# **Definição de Variáveis**"
      ],
      "metadata": {
        "id": "hiBS1KNcEI1M"
      }
    },
    {
      "cell_type": "code",
      "source": [
        "df_ft.columns"
      ],
      "metadata": {
        "id": "jmWQjMy2zXqd",
        "colab": {
          "base_uri": "https://localhost:8080/"
        },
        "outputId": "6dfe4a7a-eb53-4e9f-c7cc-1d63d3d4e7b1"
      },
      "execution_count": null,
      "outputs": [
        {
          "output_type": "execute_result",
          "data": {
            "text/plain": [
              "Index(['NU_INSCRICAO', 'NU_ANO', 'TP_FAIXA_ETARIA', 'TP_SEXO',\n",
              "       'TP_ESTADO_CIVIL', 'TP_COR_RACA', 'TP_ST_CONCLUSAO', 'TP_ANO_CONCLUIU',\n",
              "       'TP_ESCOLA', 'TP_ENSINO',\n",
              "       ...\n",
              "       'Q005_', 'Q006_', 'Q012_', 'Q013_', 'Q014_', 'Q015_', 'Q016_', 'Q017_',\n",
              "       'Q019_', 'Q024_'],\n",
              "      dtype='object', length=108)"
            ]
          },
          "metadata": {},
          "execution_count": 72
        }
      ]
    },
    {
      "cell_type": "code",
      "source": [
        "df_varquali = df_ft[['TP_FAIXA_ETARIA','TP_FAIXA_ETARIA_',\n",
        "                     'TP_SEXO',\n",
        "                     'TP_ESTADO_CIVIL', 'TP_ESTADO_CIVIL_',\n",
        "                     'TP_COR_RACA', 'TP_COR_RACA_',\n",
        "                     'TP_ESCOLA', 'TP_ESCOLA_',\n",
        "                     'TP_ENSINO', 'TP_ENSINO_',\n",
        "                     'SG_UF_ESC',\n",
        "                     'SG_UF_PROVA', 'SG_UF_PROVA_',\n",
        "                     'TP_ANO_CONCLUIU', 'TP_ANO_CONCLUIU_',\n",
        "                     'TP_LINGUA',\n",
        "                     'Q001',\n",
        "                     'Q002',\n",
        "                     'Q003',\n",
        "                     'Q004',\n",
        "                     'Q005', 'Q005_',\n",
        "                     'Q006', 'Q006_',\n",
        "                     'Q007', 'Q007_',\n",
        "                     'Q008', 'Q008_',\n",
        "                     'Q009', 'Q009_',\n",
        "                     'Q010', 'Q010_',\n",
        "                     'Q011', 'Q011_',\n",
        "                     'Q012', 'Q012_',\n",
        "                     'Q013', 'Q013_',\n",
        "                     'Q014', 'Q014_',\n",
        "                     'Q015', 'Q015_',\n",
        "                     'Q016', 'Q016_',\n",
        "                     'Q017', 'Q017_',\n",
        "                     'Q018',\n",
        "                     'Q019', 'Q019_',\n",
        "                     'Q020',\n",
        "                     'Q021',\n",
        "                     'Q022',\n",
        "                     'Q023',\n",
        "                     'Q024', 'Q024_',\n",
        "                     'Q025',\n",
        "                     'Sum_TIC3', 'Sum_TIC3_',\n",
        "                     'Sum_TIC5', 'Sum_TIC5_',\n",
        "                     'Sum_Elet', 'Sum_Elet_',\n",
        "                     'Esc_Max',\n",
        "                     'Car_Mot', 'Car_Mot_',\n",
        "                     'Tot_PtCasa', 'Tot_PtCasa_',\n",
        "                     'RegGeo_Prova',\n",
        "                     'Ter_Cel', 'Ter_Com',\n",
        "                     'Sum_Target_2']]"
      ],
      "metadata": {
        "id": "Kq_8tKS0dbKs"
      },
      "execution_count": null,
      "outputs": []
    },
    {
      "cell_type": "code",
      "source": [
        "df_varquali.info()"
      ],
      "metadata": {
        "id": "ZCCRs5MxUbly",
        "colab": {
          "base_uri": "https://localhost:8080/"
        },
        "outputId": "da758657-b48e-444c-d03c-504c1a48bf74"
      },
      "execution_count": null,
      "outputs": [
        {
          "output_type": "stream",
          "name": "stdout",
          "text": [
            "<class 'pandas.core.frame.DataFrame'>\n",
            "RangeIndex: 2207793 entries, 0 to 2207792\n",
            "Data columns (total 72 columns):\n",
            " #   Column            Dtype  \n",
            "---  ------            -----  \n",
            " 0   TP_FAIXA_ETARIA   int64  \n",
            " 1   TP_FAIXA_ETARIA_  object \n",
            " 2   TP_SEXO           object \n",
            " 3   TP_ESTADO_CIVIL   int64  \n",
            " 4   TP_ESTADO_CIVIL_  object \n",
            " 5   TP_COR_RACA       int64  \n",
            " 6   TP_COR_RACA_      object \n",
            " 7   TP_ESCOLA         int64  \n",
            " 8   TP_ESCOLA_        object \n",
            " 9   TP_ENSINO         int64  \n",
            " 10  TP_ENSINO_        object \n",
            " 11  SG_UF_ESC         object \n",
            " 12  SG_UF_PROVA       object \n",
            " 13  SG_UF_PROVA_      int64  \n",
            " 14  TP_ANO_CONCLUIU   int64  \n",
            " 15  TP_ANO_CONCLUIU_  object \n",
            " 16  TP_LINGUA         int64  \n",
            " 17  Q001              object \n",
            " 18  Q002              object \n",
            " 19  Q003              object \n",
            " 20  Q004              object \n",
            " 21  Q005              float64\n",
            " 22  Q005_             object \n",
            " 23  Q006              object \n",
            " 24  Q006_             object \n",
            " 25  Q007              object \n",
            " 26  Q007_             object \n",
            " 27  Q008              object \n",
            " 28  Q008_             object \n",
            " 29  Q009              object \n",
            " 30  Q009_             object \n",
            " 31  Q010              object \n",
            " 32  Q010_             object \n",
            " 33  Q011              object \n",
            " 34  Q011_             object \n",
            " 35  Q012              object \n",
            " 36  Q012_             object \n",
            " 37  Q013              object \n",
            " 38  Q013_             object \n",
            " 39  Q014              object \n",
            " 40  Q014_             object \n",
            " 41  Q015              object \n",
            " 42  Q015_             object \n",
            " 43  Q016              object \n",
            " 44  Q016_             object \n",
            " 45  Q017              object \n",
            " 46  Q017_             object \n",
            " 47  Q018              object \n",
            " 48  Q019              object \n",
            " 49  Q019_             object \n",
            " 50  Q020              object \n",
            " 51  Q021              object \n",
            " 52  Q022              object \n",
            " 53  Q023              object \n",
            " 54  Q024              object \n",
            " 55  Q024_             object \n",
            " 56  Q025              object \n",
            " 57  Sum_TIC3          int64  \n",
            " 58  Sum_TIC3_         object \n",
            " 59  Sum_TIC5          int64  \n",
            " 60  Sum_TIC5_         object \n",
            " 61  Sum_Elet          int64  \n",
            " 62  Sum_Elet_         object \n",
            " 63  Esc_Max           object \n",
            " 64  Car_Mot           object \n",
            " 65  Car_Mot_          object \n",
            " 66  Tot_PtCasa        int64  \n",
            " 67  Tot_PtCasa_       object \n",
            " 68  RegGeo_Prova      object \n",
            " 69  Ter_Cel           int64  \n",
            " 70  Ter_Com           int64  \n",
            " 71  Sum_Target_2      int64  \n",
            "dtypes: float64(1), int64(15), object(56)\n",
            "memory usage: 1.2+ GB\n"
          ]
        }
      ]
    },
    {
      "cell_type": "markdown",
      "source": [
        "# **Análise das Categorias das Variáveis**"
      ],
      "metadata": {
        "id": "2YndI83d0Yzj"
      }
    },
    {
      "cell_type": "code",
      "source": [
        "table_categ = pd.DataFrame()\n",
        "totais_valid = pd.DataFrame()\n",
        "i = 0\n",
        "\n",
        "for column in df_varquali:\n",
        "  var = df_varquali.columns[i]\n",
        "  c1 = df_varquali[column].value_counts().sort_index()\n",
        "  c2 = round(df_varquali[column].value_counts().sort_index()/df_varquali.shape[0] * 100,2)\n",
        "  c3 = df_varquali.groupby([column])['Sum_Target_2'].sum()\n",
        "  c4 = round(c3/df_ft['Sum_Target_2'].sum() * 100, 2)\n",
        "  c5 = c1 - c3\n",
        "  c6 = round(c5/df_ft['Sum_Target_2'].loc[df_ft.Sum_Target_2 == 0].count() * 100, 2)\n",
        "  c7 = round(c3/c1 * 100, 2)\n",
        "  c8 = round(c4/c6,2)\n",
        "\n",
        "  table = pd.concat([c1, c2, c3, c4, c5, c6, c7, c8], axis=1)\n",
        "  table.columns = ['n', '% Total', 'n AD', '% AD Total','n BD', '% BD Total', '% AD Categoria', 'Razão AD/BD']\n",
        "\n",
        "  totais = round(table.sum())\n",
        "  totais_ = pd.DataFrame(data=totais, columns=['Total'])\n",
        "  totais_t = totais_.transpose()\n",
        "  totais_valid = pd.concat([totais_valid, totais_t])\n",
        "\n",
        "  table['Variavel'] = var\n",
        "  table_categ = pd.concat([table_categ, table])\n",
        "  i = i + 1\n",
        "\n",
        "  #n = table_categ.shape\n",
        "  #table_categ.loc[n[0]+1]=['','','','','',''] # Criar linha vazia entre as tabelas\n",
        "\n",
        "table_categ['Ano'] = 2020\n",
        "\n",
        "table_categ.to_excel('/content/drive/MyDrive/MBA_TCC/RESULTADOS/Table_Categorias_2020.xlsx')\n",
        "totais_valid.to_excel('/content/drive/MyDrive/MBA_TCC/RESULTADOS/Totais_Table_Categorias_2020.xlsx')"
      ],
      "metadata": {
        "id": "axxA261-eBba"
      },
      "execution_count": null,
      "outputs": []
    },
    {
      "cell_type": "markdown",
      "source": [
        "# **Análises Adicionais**"
      ],
      "metadata": {
        "id": "ECCS8445owAd"
      }
    },
    {
      "cell_type": "code",
      "source": [
        "df_teste = df_ft.loc[df_ft['Sum_Target_2'] == 1]\n",
        "df_teste.shape"
      ],
      "metadata": {
        "id": "wzEdYZ4TpOGi",
        "colab": {
          "base_uri": "https://localhost:8080/"
        },
        "outputId": "2da47ec3-d5cf-499d-b60e-5be172ad5aaa"
      },
      "execution_count": null,
      "outputs": [
        {
          "output_type": "execute_result",
          "data": {
            "text/plain": [
              "(1070098, 108)"
            ]
          },
          "metadata": {},
          "execution_count": 76
        }
      ]
    },
    {
      "cell_type": "code",
      "source": [
        "pd.crosstab(df_ft.TP_FAIXA_ETARIA,df_ft.TP_ST_CONCLUSAO, margins=True, dropna=False)"
      ],
      "metadata": {
        "id": "fppQXkH9o26H",
        "colab": {
          "base_uri": "https://localhost:8080/",
          "height": 739
        },
        "outputId": "ad1a60a3-791b-47b1-d02c-4412d82353fb"
      },
      "execution_count": null,
      "outputs": [
        {
          "output_type": "execute_result",
          "data": {
            "text/plain": [
              "TP_ST_CONCLUSAO        1       2      All\n",
              "TP_FAIXA_ETARIA                          \n",
              "1                    510   13492    14002\n",
              "2                  10132  381096   391228\n",
              "3                 175611  313792   489403\n",
              "4                 229664   60991   290655\n",
              "5                 176964   16811   193775\n",
              "6                 128874    5445   134319\n",
              "7                  93464    2395    95859\n",
              "8                  76385    1428    77813\n",
              "9                  61374    1091    62465\n",
              "10                 50337     879    51216\n",
              "11                153815    2470   156285\n",
              "12                 89697    1640    91337\n",
              "13                 63685    1258    64943\n",
              "14                 41124     905    42029\n",
              "15                 26119     674    26793\n",
              "16                 14594     394    14988\n",
              "17                  6794     208     7002\n",
              "18                  2514      73     2587\n",
              "19                   799      24      823\n",
              "20                   264       7      271\n",
              "All              1402720  805073  2207793"
            ],
            "text/html": [
              "\n",
              "  <div id=\"df-9cf950f2-ca52-43fb-998a-3817c9c3d541\">\n",
              "    <div class=\"colab-df-container\">\n",
              "      <div>\n",
              "<style scoped>\n",
              "    .dataframe tbody tr th:only-of-type {\n",
              "        vertical-align: middle;\n",
              "    }\n",
              "\n",
              "    .dataframe tbody tr th {\n",
              "        vertical-align: top;\n",
              "    }\n",
              "\n",
              "    .dataframe thead th {\n",
              "        text-align: right;\n",
              "    }\n",
              "</style>\n",
              "<table border=\"1\" class=\"dataframe\">\n",
              "  <thead>\n",
              "    <tr style=\"text-align: right;\">\n",
              "      <th>TP_ST_CONCLUSAO</th>\n",
              "      <th>1</th>\n",
              "      <th>2</th>\n",
              "      <th>All</th>\n",
              "    </tr>\n",
              "    <tr>\n",
              "      <th>TP_FAIXA_ETARIA</th>\n",
              "      <th></th>\n",
              "      <th></th>\n",
              "      <th></th>\n",
              "    </tr>\n",
              "  </thead>\n",
              "  <tbody>\n",
              "    <tr>\n",
              "      <th>1</th>\n",
              "      <td>510</td>\n",
              "      <td>13492</td>\n",
              "      <td>14002</td>\n",
              "    </tr>\n",
              "    <tr>\n",
              "      <th>2</th>\n",
              "      <td>10132</td>\n",
              "      <td>381096</td>\n",
              "      <td>391228</td>\n",
              "    </tr>\n",
              "    <tr>\n",
              "      <th>3</th>\n",
              "      <td>175611</td>\n",
              "      <td>313792</td>\n",
              "      <td>489403</td>\n",
              "    </tr>\n",
              "    <tr>\n",
              "      <th>4</th>\n",
              "      <td>229664</td>\n",
              "      <td>60991</td>\n",
              "      <td>290655</td>\n",
              "    </tr>\n",
              "    <tr>\n",
              "      <th>5</th>\n",
              "      <td>176964</td>\n",
              "      <td>16811</td>\n",
              "      <td>193775</td>\n",
              "    </tr>\n",
              "    <tr>\n",
              "      <th>6</th>\n",
              "      <td>128874</td>\n",
              "      <td>5445</td>\n",
              "      <td>134319</td>\n",
              "    </tr>\n",
              "    <tr>\n",
              "      <th>7</th>\n",
              "      <td>93464</td>\n",
              "      <td>2395</td>\n",
              "      <td>95859</td>\n",
              "    </tr>\n",
              "    <tr>\n",
              "      <th>8</th>\n",
              "      <td>76385</td>\n",
              "      <td>1428</td>\n",
              "      <td>77813</td>\n",
              "    </tr>\n",
              "    <tr>\n",
              "      <th>9</th>\n",
              "      <td>61374</td>\n",
              "      <td>1091</td>\n",
              "      <td>62465</td>\n",
              "    </tr>\n",
              "    <tr>\n",
              "      <th>10</th>\n",
              "      <td>50337</td>\n",
              "      <td>879</td>\n",
              "      <td>51216</td>\n",
              "    </tr>\n",
              "    <tr>\n",
              "      <th>11</th>\n",
              "      <td>153815</td>\n",
              "      <td>2470</td>\n",
              "      <td>156285</td>\n",
              "    </tr>\n",
              "    <tr>\n",
              "      <th>12</th>\n",
              "      <td>89697</td>\n",
              "      <td>1640</td>\n",
              "      <td>91337</td>\n",
              "    </tr>\n",
              "    <tr>\n",
              "      <th>13</th>\n",
              "      <td>63685</td>\n",
              "      <td>1258</td>\n",
              "      <td>64943</td>\n",
              "    </tr>\n",
              "    <tr>\n",
              "      <th>14</th>\n",
              "      <td>41124</td>\n",
              "      <td>905</td>\n",
              "      <td>42029</td>\n",
              "    </tr>\n",
              "    <tr>\n",
              "      <th>15</th>\n",
              "      <td>26119</td>\n",
              "      <td>674</td>\n",
              "      <td>26793</td>\n",
              "    </tr>\n",
              "    <tr>\n",
              "      <th>16</th>\n",
              "      <td>14594</td>\n",
              "      <td>394</td>\n",
              "      <td>14988</td>\n",
              "    </tr>\n",
              "    <tr>\n",
              "      <th>17</th>\n",
              "      <td>6794</td>\n",
              "      <td>208</td>\n",
              "      <td>7002</td>\n",
              "    </tr>\n",
              "    <tr>\n",
              "      <th>18</th>\n",
              "      <td>2514</td>\n",
              "      <td>73</td>\n",
              "      <td>2587</td>\n",
              "    </tr>\n",
              "    <tr>\n",
              "      <th>19</th>\n",
              "      <td>799</td>\n",
              "      <td>24</td>\n",
              "      <td>823</td>\n",
              "    </tr>\n",
              "    <tr>\n",
              "      <th>20</th>\n",
              "      <td>264</td>\n",
              "      <td>7</td>\n",
              "      <td>271</td>\n",
              "    </tr>\n",
              "    <tr>\n",
              "      <th>All</th>\n",
              "      <td>1402720</td>\n",
              "      <td>805073</td>\n",
              "      <td>2207793</td>\n",
              "    </tr>\n",
              "  </tbody>\n",
              "</table>\n",
              "</div>\n",
              "      <button class=\"colab-df-convert\" onclick=\"convertToInteractive('df-9cf950f2-ca52-43fb-998a-3817c9c3d541')\"\n",
              "              title=\"Convert this dataframe to an interactive table.\"\n",
              "              style=\"display:none;\">\n",
              "        \n",
              "  <svg xmlns=\"http://www.w3.org/2000/svg\" height=\"24px\"viewBox=\"0 0 24 24\"\n",
              "       width=\"24px\">\n",
              "    <path d=\"M0 0h24v24H0V0z\" fill=\"none\"/>\n",
              "    <path d=\"M18.56 5.44l.94 2.06.94-2.06 2.06-.94-2.06-.94-.94-2.06-.94 2.06-2.06.94zm-11 1L8.5 8.5l.94-2.06 2.06-.94-2.06-.94L8.5 2.5l-.94 2.06-2.06.94zm10 10l.94 2.06.94-2.06 2.06-.94-2.06-.94-.94-2.06-.94 2.06-2.06.94z\"/><path d=\"M17.41 7.96l-1.37-1.37c-.4-.4-.92-.59-1.43-.59-.52 0-1.04.2-1.43.59L10.3 9.45l-7.72 7.72c-.78.78-.78 2.05 0 2.83L4 21.41c.39.39.9.59 1.41.59.51 0 1.02-.2 1.41-.59l7.78-7.78 2.81-2.81c.8-.78.8-2.07 0-2.86zM5.41 20L4 18.59l7.72-7.72 1.47 1.35L5.41 20z\"/>\n",
              "  </svg>\n",
              "      </button>\n",
              "      \n",
              "  <style>\n",
              "    .colab-df-container {\n",
              "      display:flex;\n",
              "      flex-wrap:wrap;\n",
              "      gap: 12px;\n",
              "    }\n",
              "\n",
              "    .colab-df-convert {\n",
              "      background-color: #E8F0FE;\n",
              "      border: none;\n",
              "      border-radius: 50%;\n",
              "      cursor: pointer;\n",
              "      display: none;\n",
              "      fill: #1967D2;\n",
              "      height: 32px;\n",
              "      padding: 0 0 0 0;\n",
              "      width: 32px;\n",
              "    }\n",
              "\n",
              "    .colab-df-convert:hover {\n",
              "      background-color: #E2EBFA;\n",
              "      box-shadow: 0px 1px 2px rgba(60, 64, 67, 0.3), 0px 1px 3px 1px rgba(60, 64, 67, 0.15);\n",
              "      fill: #174EA6;\n",
              "    }\n",
              "\n",
              "    [theme=dark] .colab-df-convert {\n",
              "      background-color: #3B4455;\n",
              "      fill: #D2E3FC;\n",
              "    }\n",
              "\n",
              "    [theme=dark] .colab-df-convert:hover {\n",
              "      background-color: #434B5C;\n",
              "      box-shadow: 0px 1px 3px 1px rgba(0, 0, 0, 0.15);\n",
              "      filter: drop-shadow(0px 1px 2px rgba(0, 0, 0, 0.3));\n",
              "      fill: #FFFFFF;\n",
              "    }\n",
              "  </style>\n",
              "\n",
              "      <script>\n",
              "        const buttonEl =\n",
              "          document.querySelector('#df-9cf950f2-ca52-43fb-998a-3817c9c3d541 button.colab-df-convert');\n",
              "        buttonEl.style.display =\n",
              "          google.colab.kernel.accessAllowed ? 'block' : 'none';\n",
              "\n",
              "        async function convertToInteractive(key) {\n",
              "          const element = document.querySelector('#df-9cf950f2-ca52-43fb-998a-3817c9c3d541');\n",
              "          const dataTable =\n",
              "            await google.colab.kernel.invokeFunction('convertToInteractive',\n",
              "                                                     [key], {});\n",
              "          if (!dataTable) return;\n",
              "\n",
              "          const docLinkHtml = 'Like what you see? Visit the ' +\n",
              "            '<a target=\"_blank\" href=https://colab.research.google.com/notebooks/data_table.ipynb>data table notebook</a>'\n",
              "            + ' to learn more about interactive tables.';\n",
              "          element.innerHTML = '';\n",
              "          dataTable['output_type'] = 'display_data';\n",
              "          await google.colab.output.renderOutput(dataTable, element);\n",
              "          const docLink = document.createElement('div');\n",
              "          docLink.innerHTML = docLinkHtml;\n",
              "          element.appendChild(docLink);\n",
              "        }\n",
              "      </script>\n",
              "    </div>\n",
              "  </div>\n",
              "  "
            ]
          },
          "metadata": {},
          "execution_count": 77
        }
      ]
    },
    {
      "cell_type": "code",
      "source": [
        "pd.crosstab(df_teste.TP_FAIXA_ETARIA,df_teste.TP_ST_CONCLUSAO, margins=True, dropna=False)"
      ],
      "metadata": {
        "id": "6q2Q6n2fpTgz",
        "colab": {
          "base_uri": "https://localhost:8080/",
          "height": 739
        },
        "outputId": "40a2eb30-0fcd-409b-ca22-1f297b1f3ece"
      },
      "execution_count": null,
      "outputs": [
        {
          "output_type": "execute_result",
          "data": {
            "text/plain": [
              "TP_ST_CONCLUSAO       1       2      All\n",
              "TP_FAIXA_ETARIA                         \n",
              "1                   260    7617     7877\n",
              "2                  5705  217078   222783\n",
              "3                104221  149315   253536\n",
              "4                123949   19262   143211\n",
              "5                 88308    3776    92084\n",
              "6                 61213     881    62094\n",
              "7                 43473     314    43787\n",
              "8                 34847     175    35022\n",
              "9                 27340     131    27471\n",
              "10                22348     123    22471\n",
              "11                68716     297    69013\n",
              "12                38247     170    38417\n",
              "13                23542     102    23644\n",
              "14                13102      69    13171\n",
              "15                 8145      46     8191\n",
              "16                 4307      18     4325\n",
              "17                 2067      17     2084\n",
              "18                  685       3      688\n",
              "19                  173       1      174\n",
              "20                   55       0       55\n",
              "All              670703  399395  1070098"
            ],
            "text/html": [
              "\n",
              "  <div id=\"df-7f86eb37-bdea-4b65-a1e6-d917a8c05507\">\n",
              "    <div class=\"colab-df-container\">\n",
              "      <div>\n",
              "<style scoped>\n",
              "    .dataframe tbody tr th:only-of-type {\n",
              "        vertical-align: middle;\n",
              "    }\n",
              "\n",
              "    .dataframe tbody tr th {\n",
              "        vertical-align: top;\n",
              "    }\n",
              "\n",
              "    .dataframe thead th {\n",
              "        text-align: right;\n",
              "    }\n",
              "</style>\n",
              "<table border=\"1\" class=\"dataframe\">\n",
              "  <thead>\n",
              "    <tr style=\"text-align: right;\">\n",
              "      <th>TP_ST_CONCLUSAO</th>\n",
              "      <th>1</th>\n",
              "      <th>2</th>\n",
              "      <th>All</th>\n",
              "    </tr>\n",
              "    <tr>\n",
              "      <th>TP_FAIXA_ETARIA</th>\n",
              "      <th></th>\n",
              "      <th></th>\n",
              "      <th></th>\n",
              "    </tr>\n",
              "  </thead>\n",
              "  <tbody>\n",
              "    <tr>\n",
              "      <th>1</th>\n",
              "      <td>260</td>\n",
              "      <td>7617</td>\n",
              "      <td>7877</td>\n",
              "    </tr>\n",
              "    <tr>\n",
              "      <th>2</th>\n",
              "      <td>5705</td>\n",
              "      <td>217078</td>\n",
              "      <td>222783</td>\n",
              "    </tr>\n",
              "    <tr>\n",
              "      <th>3</th>\n",
              "      <td>104221</td>\n",
              "      <td>149315</td>\n",
              "      <td>253536</td>\n",
              "    </tr>\n",
              "    <tr>\n",
              "      <th>4</th>\n",
              "      <td>123949</td>\n",
              "      <td>19262</td>\n",
              "      <td>143211</td>\n",
              "    </tr>\n",
              "    <tr>\n",
              "      <th>5</th>\n",
              "      <td>88308</td>\n",
              "      <td>3776</td>\n",
              "      <td>92084</td>\n",
              "    </tr>\n",
              "    <tr>\n",
              "      <th>6</th>\n",
              "      <td>61213</td>\n",
              "      <td>881</td>\n",
              "      <td>62094</td>\n",
              "    </tr>\n",
              "    <tr>\n",
              "      <th>7</th>\n",
              "      <td>43473</td>\n",
              "      <td>314</td>\n",
              "      <td>43787</td>\n",
              "    </tr>\n",
              "    <tr>\n",
              "      <th>8</th>\n",
              "      <td>34847</td>\n",
              "      <td>175</td>\n",
              "      <td>35022</td>\n",
              "    </tr>\n",
              "    <tr>\n",
              "      <th>9</th>\n",
              "      <td>27340</td>\n",
              "      <td>131</td>\n",
              "      <td>27471</td>\n",
              "    </tr>\n",
              "    <tr>\n",
              "      <th>10</th>\n",
              "      <td>22348</td>\n",
              "      <td>123</td>\n",
              "      <td>22471</td>\n",
              "    </tr>\n",
              "    <tr>\n",
              "      <th>11</th>\n",
              "      <td>68716</td>\n",
              "      <td>297</td>\n",
              "      <td>69013</td>\n",
              "    </tr>\n",
              "    <tr>\n",
              "      <th>12</th>\n",
              "      <td>38247</td>\n",
              "      <td>170</td>\n",
              "      <td>38417</td>\n",
              "    </tr>\n",
              "    <tr>\n",
              "      <th>13</th>\n",
              "      <td>23542</td>\n",
              "      <td>102</td>\n",
              "      <td>23644</td>\n",
              "    </tr>\n",
              "    <tr>\n",
              "      <th>14</th>\n",
              "      <td>13102</td>\n",
              "      <td>69</td>\n",
              "      <td>13171</td>\n",
              "    </tr>\n",
              "    <tr>\n",
              "      <th>15</th>\n",
              "      <td>8145</td>\n",
              "      <td>46</td>\n",
              "      <td>8191</td>\n",
              "    </tr>\n",
              "    <tr>\n",
              "      <th>16</th>\n",
              "      <td>4307</td>\n",
              "      <td>18</td>\n",
              "      <td>4325</td>\n",
              "    </tr>\n",
              "    <tr>\n",
              "      <th>17</th>\n",
              "      <td>2067</td>\n",
              "      <td>17</td>\n",
              "      <td>2084</td>\n",
              "    </tr>\n",
              "    <tr>\n",
              "      <th>18</th>\n",
              "      <td>685</td>\n",
              "      <td>3</td>\n",
              "      <td>688</td>\n",
              "    </tr>\n",
              "    <tr>\n",
              "      <th>19</th>\n",
              "      <td>173</td>\n",
              "      <td>1</td>\n",
              "      <td>174</td>\n",
              "    </tr>\n",
              "    <tr>\n",
              "      <th>20</th>\n",
              "      <td>55</td>\n",
              "      <td>0</td>\n",
              "      <td>55</td>\n",
              "    </tr>\n",
              "    <tr>\n",
              "      <th>All</th>\n",
              "      <td>670703</td>\n",
              "      <td>399395</td>\n",
              "      <td>1070098</td>\n",
              "    </tr>\n",
              "  </tbody>\n",
              "</table>\n",
              "</div>\n",
              "      <button class=\"colab-df-convert\" onclick=\"convertToInteractive('df-7f86eb37-bdea-4b65-a1e6-d917a8c05507')\"\n",
              "              title=\"Convert this dataframe to an interactive table.\"\n",
              "              style=\"display:none;\">\n",
              "        \n",
              "  <svg xmlns=\"http://www.w3.org/2000/svg\" height=\"24px\"viewBox=\"0 0 24 24\"\n",
              "       width=\"24px\">\n",
              "    <path d=\"M0 0h24v24H0V0z\" fill=\"none\"/>\n",
              "    <path d=\"M18.56 5.44l.94 2.06.94-2.06 2.06-.94-2.06-.94-.94-2.06-.94 2.06-2.06.94zm-11 1L8.5 8.5l.94-2.06 2.06-.94-2.06-.94L8.5 2.5l-.94 2.06-2.06.94zm10 10l.94 2.06.94-2.06 2.06-.94-2.06-.94-.94-2.06-.94 2.06-2.06.94z\"/><path d=\"M17.41 7.96l-1.37-1.37c-.4-.4-.92-.59-1.43-.59-.52 0-1.04.2-1.43.59L10.3 9.45l-7.72 7.72c-.78.78-.78 2.05 0 2.83L4 21.41c.39.39.9.59 1.41.59.51 0 1.02-.2 1.41-.59l7.78-7.78 2.81-2.81c.8-.78.8-2.07 0-2.86zM5.41 20L4 18.59l7.72-7.72 1.47 1.35L5.41 20z\"/>\n",
              "  </svg>\n",
              "      </button>\n",
              "      \n",
              "  <style>\n",
              "    .colab-df-container {\n",
              "      display:flex;\n",
              "      flex-wrap:wrap;\n",
              "      gap: 12px;\n",
              "    }\n",
              "\n",
              "    .colab-df-convert {\n",
              "      background-color: #E8F0FE;\n",
              "      border: none;\n",
              "      border-radius: 50%;\n",
              "      cursor: pointer;\n",
              "      display: none;\n",
              "      fill: #1967D2;\n",
              "      height: 32px;\n",
              "      padding: 0 0 0 0;\n",
              "      width: 32px;\n",
              "    }\n",
              "\n",
              "    .colab-df-convert:hover {\n",
              "      background-color: #E2EBFA;\n",
              "      box-shadow: 0px 1px 2px rgba(60, 64, 67, 0.3), 0px 1px 3px 1px rgba(60, 64, 67, 0.15);\n",
              "      fill: #174EA6;\n",
              "    }\n",
              "\n",
              "    [theme=dark] .colab-df-convert {\n",
              "      background-color: #3B4455;\n",
              "      fill: #D2E3FC;\n",
              "    }\n",
              "\n",
              "    [theme=dark] .colab-df-convert:hover {\n",
              "      background-color: #434B5C;\n",
              "      box-shadow: 0px 1px 3px 1px rgba(0, 0, 0, 0.15);\n",
              "      filter: drop-shadow(0px 1px 2px rgba(0, 0, 0, 0.3));\n",
              "      fill: #FFFFFF;\n",
              "    }\n",
              "  </style>\n",
              "\n",
              "      <script>\n",
              "        const buttonEl =\n",
              "          document.querySelector('#df-7f86eb37-bdea-4b65-a1e6-d917a8c05507 button.colab-df-convert');\n",
              "        buttonEl.style.display =\n",
              "          google.colab.kernel.accessAllowed ? 'block' : 'none';\n",
              "\n",
              "        async function convertToInteractive(key) {\n",
              "          const element = document.querySelector('#df-7f86eb37-bdea-4b65-a1e6-d917a8c05507');\n",
              "          const dataTable =\n",
              "            await google.colab.kernel.invokeFunction('convertToInteractive',\n",
              "                                                     [key], {});\n",
              "          if (!dataTable) return;\n",
              "\n",
              "          const docLinkHtml = 'Like what you see? Visit the ' +\n",
              "            '<a target=\"_blank\" href=https://colab.research.google.com/notebooks/data_table.ipynb>data table notebook</a>'\n",
              "            + ' to learn more about interactive tables.';\n",
              "          element.innerHTML = '';\n",
              "          dataTable['output_type'] = 'display_data';\n",
              "          await google.colab.output.renderOutput(dataTable, element);\n",
              "          const docLink = document.createElement('div');\n",
              "          docLink.innerHTML = docLinkHtml;\n",
              "          element.appendChild(docLink);\n",
              "        }\n",
              "      </script>\n",
              "    </div>\n",
              "  </div>\n",
              "  "
            ]
          },
          "metadata": {},
          "execution_count": 78
        }
      ]
    },
    {
      "cell_type": "code",
      "source": [
        "pd.crosstab(df_ft.Q001,df_ft.Q002, margins=True, dropna=False)"
      ],
      "metadata": {
        "id": "1q7qxwGTZC2E",
        "colab": {
          "base_uri": "https://localhost:8080/",
          "height": 363
        },
        "outputId": "2244cbb2-9c1f-4926-c16b-b0f3f8217c5d"
      },
      "execution_count": null,
      "outputs": [
        {
          "output_type": "execute_result",
          "data": {
            "text/plain": [
              "Q002      A       B       C       D       E       F       G      H      All\n",
              "Q001                                                                       \n",
              "A     38324   35121   11811    6547   10997    1673    1054   1183   106710\n",
              "B     19013  189375   70668   47546   89394   15611   11156   3416   446179\n",
              "C      5383   36599   92617   48830   93528   18460   14469   2556   312442\n",
              "D      2201   19563   32321   62767   88052   21094   15729   2093   243820\n",
              "E      3608   30296   43528   62190  327217   87424   62540   5647   622450\n",
              "F       343    3234    5038    8668   62476   63672   38851   1048   183330\n",
              "G       115    1119    1708    3140   24506   27960   53673    671   112892\n",
              "H      4083   21781   20648   20975   56865   12736    8379  34503   179970\n",
              "All   73070  337088  278339  260663  753035  248630  205851  51117  2207793"
            ],
            "text/html": [
              "\n",
              "  <div id=\"df-1642e3a1-0d3f-4574-bc9b-9df064d1fcb8\">\n",
              "    <div class=\"colab-df-container\">\n",
              "      <div>\n",
              "<style scoped>\n",
              "    .dataframe tbody tr th:only-of-type {\n",
              "        vertical-align: middle;\n",
              "    }\n",
              "\n",
              "    .dataframe tbody tr th {\n",
              "        vertical-align: top;\n",
              "    }\n",
              "\n",
              "    .dataframe thead th {\n",
              "        text-align: right;\n",
              "    }\n",
              "</style>\n",
              "<table border=\"1\" class=\"dataframe\">\n",
              "  <thead>\n",
              "    <tr style=\"text-align: right;\">\n",
              "      <th>Q002</th>\n",
              "      <th>A</th>\n",
              "      <th>B</th>\n",
              "      <th>C</th>\n",
              "      <th>D</th>\n",
              "      <th>E</th>\n",
              "      <th>F</th>\n",
              "      <th>G</th>\n",
              "      <th>H</th>\n",
              "      <th>All</th>\n",
              "    </tr>\n",
              "    <tr>\n",
              "      <th>Q001</th>\n",
              "      <th></th>\n",
              "      <th></th>\n",
              "      <th></th>\n",
              "      <th></th>\n",
              "      <th></th>\n",
              "      <th></th>\n",
              "      <th></th>\n",
              "      <th></th>\n",
              "      <th></th>\n",
              "    </tr>\n",
              "  </thead>\n",
              "  <tbody>\n",
              "    <tr>\n",
              "      <th>A</th>\n",
              "      <td>38324</td>\n",
              "      <td>35121</td>\n",
              "      <td>11811</td>\n",
              "      <td>6547</td>\n",
              "      <td>10997</td>\n",
              "      <td>1673</td>\n",
              "      <td>1054</td>\n",
              "      <td>1183</td>\n",
              "      <td>106710</td>\n",
              "    </tr>\n",
              "    <tr>\n",
              "      <th>B</th>\n",
              "      <td>19013</td>\n",
              "      <td>189375</td>\n",
              "      <td>70668</td>\n",
              "      <td>47546</td>\n",
              "      <td>89394</td>\n",
              "      <td>15611</td>\n",
              "      <td>11156</td>\n",
              "      <td>3416</td>\n",
              "      <td>446179</td>\n",
              "    </tr>\n",
              "    <tr>\n",
              "      <th>C</th>\n",
              "      <td>5383</td>\n",
              "      <td>36599</td>\n",
              "      <td>92617</td>\n",
              "      <td>48830</td>\n",
              "      <td>93528</td>\n",
              "      <td>18460</td>\n",
              "      <td>14469</td>\n",
              "      <td>2556</td>\n",
              "      <td>312442</td>\n",
              "    </tr>\n",
              "    <tr>\n",
              "      <th>D</th>\n",
              "      <td>2201</td>\n",
              "      <td>19563</td>\n",
              "      <td>32321</td>\n",
              "      <td>62767</td>\n",
              "      <td>88052</td>\n",
              "      <td>21094</td>\n",
              "      <td>15729</td>\n",
              "      <td>2093</td>\n",
              "      <td>243820</td>\n",
              "    </tr>\n",
              "    <tr>\n",
              "      <th>E</th>\n",
              "      <td>3608</td>\n",
              "      <td>30296</td>\n",
              "      <td>43528</td>\n",
              "      <td>62190</td>\n",
              "      <td>327217</td>\n",
              "      <td>87424</td>\n",
              "      <td>62540</td>\n",
              "      <td>5647</td>\n",
              "      <td>622450</td>\n",
              "    </tr>\n",
              "    <tr>\n",
              "      <th>F</th>\n",
              "      <td>343</td>\n",
              "      <td>3234</td>\n",
              "      <td>5038</td>\n",
              "      <td>8668</td>\n",
              "      <td>62476</td>\n",
              "      <td>63672</td>\n",
              "      <td>38851</td>\n",
              "      <td>1048</td>\n",
              "      <td>183330</td>\n",
              "    </tr>\n",
              "    <tr>\n",
              "      <th>G</th>\n",
              "      <td>115</td>\n",
              "      <td>1119</td>\n",
              "      <td>1708</td>\n",
              "      <td>3140</td>\n",
              "      <td>24506</td>\n",
              "      <td>27960</td>\n",
              "      <td>53673</td>\n",
              "      <td>671</td>\n",
              "      <td>112892</td>\n",
              "    </tr>\n",
              "    <tr>\n",
              "      <th>H</th>\n",
              "      <td>4083</td>\n",
              "      <td>21781</td>\n",
              "      <td>20648</td>\n",
              "      <td>20975</td>\n",
              "      <td>56865</td>\n",
              "      <td>12736</td>\n",
              "      <td>8379</td>\n",
              "      <td>34503</td>\n",
              "      <td>179970</td>\n",
              "    </tr>\n",
              "    <tr>\n",
              "      <th>All</th>\n",
              "      <td>73070</td>\n",
              "      <td>337088</td>\n",
              "      <td>278339</td>\n",
              "      <td>260663</td>\n",
              "      <td>753035</td>\n",
              "      <td>248630</td>\n",
              "      <td>205851</td>\n",
              "      <td>51117</td>\n",
              "      <td>2207793</td>\n",
              "    </tr>\n",
              "  </tbody>\n",
              "</table>\n",
              "</div>\n",
              "      <button class=\"colab-df-convert\" onclick=\"convertToInteractive('df-1642e3a1-0d3f-4574-bc9b-9df064d1fcb8')\"\n",
              "              title=\"Convert this dataframe to an interactive table.\"\n",
              "              style=\"display:none;\">\n",
              "        \n",
              "  <svg xmlns=\"http://www.w3.org/2000/svg\" height=\"24px\"viewBox=\"0 0 24 24\"\n",
              "       width=\"24px\">\n",
              "    <path d=\"M0 0h24v24H0V0z\" fill=\"none\"/>\n",
              "    <path d=\"M18.56 5.44l.94 2.06.94-2.06 2.06-.94-2.06-.94-.94-2.06-.94 2.06-2.06.94zm-11 1L8.5 8.5l.94-2.06 2.06-.94-2.06-.94L8.5 2.5l-.94 2.06-2.06.94zm10 10l.94 2.06.94-2.06 2.06-.94-2.06-.94-.94-2.06-.94 2.06-2.06.94z\"/><path d=\"M17.41 7.96l-1.37-1.37c-.4-.4-.92-.59-1.43-.59-.52 0-1.04.2-1.43.59L10.3 9.45l-7.72 7.72c-.78.78-.78 2.05 0 2.83L4 21.41c.39.39.9.59 1.41.59.51 0 1.02-.2 1.41-.59l7.78-7.78 2.81-2.81c.8-.78.8-2.07 0-2.86zM5.41 20L4 18.59l7.72-7.72 1.47 1.35L5.41 20z\"/>\n",
              "  </svg>\n",
              "      </button>\n",
              "      \n",
              "  <style>\n",
              "    .colab-df-container {\n",
              "      display:flex;\n",
              "      flex-wrap:wrap;\n",
              "      gap: 12px;\n",
              "    }\n",
              "\n",
              "    .colab-df-convert {\n",
              "      background-color: #E8F0FE;\n",
              "      border: none;\n",
              "      border-radius: 50%;\n",
              "      cursor: pointer;\n",
              "      display: none;\n",
              "      fill: #1967D2;\n",
              "      height: 32px;\n",
              "      padding: 0 0 0 0;\n",
              "      width: 32px;\n",
              "    }\n",
              "\n",
              "    .colab-df-convert:hover {\n",
              "      background-color: #E2EBFA;\n",
              "      box-shadow: 0px 1px 2px rgba(60, 64, 67, 0.3), 0px 1px 3px 1px rgba(60, 64, 67, 0.15);\n",
              "      fill: #174EA6;\n",
              "    }\n",
              "\n",
              "    [theme=dark] .colab-df-convert {\n",
              "      background-color: #3B4455;\n",
              "      fill: #D2E3FC;\n",
              "    }\n",
              "\n",
              "    [theme=dark] .colab-df-convert:hover {\n",
              "      background-color: #434B5C;\n",
              "      box-shadow: 0px 1px 3px 1px rgba(0, 0, 0, 0.15);\n",
              "      filter: drop-shadow(0px 1px 2px rgba(0, 0, 0, 0.3));\n",
              "      fill: #FFFFFF;\n",
              "    }\n",
              "  </style>\n",
              "\n",
              "      <script>\n",
              "        const buttonEl =\n",
              "          document.querySelector('#df-1642e3a1-0d3f-4574-bc9b-9df064d1fcb8 button.colab-df-convert');\n",
              "        buttonEl.style.display =\n",
              "          google.colab.kernel.accessAllowed ? 'block' : 'none';\n",
              "\n",
              "        async function convertToInteractive(key) {\n",
              "          const element = document.querySelector('#df-1642e3a1-0d3f-4574-bc9b-9df064d1fcb8');\n",
              "          const dataTable =\n",
              "            await google.colab.kernel.invokeFunction('convertToInteractive',\n",
              "                                                     [key], {});\n",
              "          if (!dataTable) return;\n",
              "\n",
              "          const docLinkHtml = 'Like what you see? Visit the ' +\n",
              "            '<a target=\"_blank\" href=https://colab.research.google.com/notebooks/data_table.ipynb>data table notebook</a>'\n",
              "            + ' to learn more about interactive tables.';\n",
              "          element.innerHTML = '';\n",
              "          dataTable['output_type'] = 'display_data';\n",
              "          await google.colab.output.renderOutput(dataTable, element);\n",
              "          const docLink = document.createElement('div');\n",
              "          docLink.innerHTML = docLinkHtml;\n",
              "          element.appendChild(docLink);\n",
              "        }\n",
              "      </script>\n",
              "    </div>\n",
              "  </div>\n",
              "  "
            ]
          },
          "metadata": {},
          "execution_count": 79
        }
      ]
    },
    {
      "cell_type": "code",
      "source": [
        "pd.crosstab(df_teste.Q001,df_teste.Q002, margins=True, dropna=False)"
      ],
      "metadata": {
        "id": "Pllxp5rQZdoH",
        "colab": {
          "base_uri": "https://localhost:8080/",
          "height": 363
        },
        "outputId": "545b5986-69b2-4d0e-cecd-17945ac13470"
      },
      "execution_count": null,
      "outputs": [
        {
          "output_type": "execute_result",
          "data": {
            "text/plain": [
              "Q002      A      B       C       D       E       F       G      H      All\n",
              "Q001                                                                      \n",
              "A      6289   8089    3156    1867    3303     667     419    199    23989\n",
              "B      4425  51128   23060   17162   34649    7452    5607    829   144312\n",
              "C      1433  12840   32590   19688   43638   10511    8550    772   130022\n",
              "D       627   7501   14005   24814   44271   13088   10177    731   115214\n",
              "E       910  11592   20289   31351  178152   60919   45603   2206   351022\n",
              "F       136   1582    2984    5487   45895   52575   33461    629   142749\n",
              "G        40    505     974    1970   18294   24575   46800    432    93590\n",
              "H       882   6331    7025    7819   24758    7513    5306   9566    69200\n",
              "All   14742  99568  104083  110158  392960  177300  155923  15364  1070098"
            ],
            "text/html": [
              "\n",
              "  <div id=\"df-b93823a5-671d-4dc0-aa14-1b155296319d\">\n",
              "    <div class=\"colab-df-container\">\n",
              "      <div>\n",
              "<style scoped>\n",
              "    .dataframe tbody tr th:only-of-type {\n",
              "        vertical-align: middle;\n",
              "    }\n",
              "\n",
              "    .dataframe tbody tr th {\n",
              "        vertical-align: top;\n",
              "    }\n",
              "\n",
              "    .dataframe thead th {\n",
              "        text-align: right;\n",
              "    }\n",
              "</style>\n",
              "<table border=\"1\" class=\"dataframe\">\n",
              "  <thead>\n",
              "    <tr style=\"text-align: right;\">\n",
              "      <th>Q002</th>\n",
              "      <th>A</th>\n",
              "      <th>B</th>\n",
              "      <th>C</th>\n",
              "      <th>D</th>\n",
              "      <th>E</th>\n",
              "      <th>F</th>\n",
              "      <th>G</th>\n",
              "      <th>H</th>\n",
              "      <th>All</th>\n",
              "    </tr>\n",
              "    <tr>\n",
              "      <th>Q001</th>\n",
              "      <th></th>\n",
              "      <th></th>\n",
              "      <th></th>\n",
              "      <th></th>\n",
              "      <th></th>\n",
              "      <th></th>\n",
              "      <th></th>\n",
              "      <th></th>\n",
              "      <th></th>\n",
              "    </tr>\n",
              "  </thead>\n",
              "  <tbody>\n",
              "    <tr>\n",
              "      <th>A</th>\n",
              "      <td>6289</td>\n",
              "      <td>8089</td>\n",
              "      <td>3156</td>\n",
              "      <td>1867</td>\n",
              "      <td>3303</td>\n",
              "      <td>667</td>\n",
              "      <td>419</td>\n",
              "      <td>199</td>\n",
              "      <td>23989</td>\n",
              "    </tr>\n",
              "    <tr>\n",
              "      <th>B</th>\n",
              "      <td>4425</td>\n",
              "      <td>51128</td>\n",
              "      <td>23060</td>\n",
              "      <td>17162</td>\n",
              "      <td>34649</td>\n",
              "      <td>7452</td>\n",
              "      <td>5607</td>\n",
              "      <td>829</td>\n",
              "      <td>144312</td>\n",
              "    </tr>\n",
              "    <tr>\n",
              "      <th>C</th>\n",
              "      <td>1433</td>\n",
              "      <td>12840</td>\n",
              "      <td>32590</td>\n",
              "      <td>19688</td>\n",
              "      <td>43638</td>\n",
              "      <td>10511</td>\n",
              "      <td>8550</td>\n",
              "      <td>772</td>\n",
              "      <td>130022</td>\n",
              "    </tr>\n",
              "    <tr>\n",
              "      <th>D</th>\n",
              "      <td>627</td>\n",
              "      <td>7501</td>\n",
              "      <td>14005</td>\n",
              "      <td>24814</td>\n",
              "      <td>44271</td>\n",
              "      <td>13088</td>\n",
              "      <td>10177</td>\n",
              "      <td>731</td>\n",
              "      <td>115214</td>\n",
              "    </tr>\n",
              "    <tr>\n",
              "      <th>E</th>\n",
              "      <td>910</td>\n",
              "      <td>11592</td>\n",
              "      <td>20289</td>\n",
              "      <td>31351</td>\n",
              "      <td>178152</td>\n",
              "      <td>60919</td>\n",
              "      <td>45603</td>\n",
              "      <td>2206</td>\n",
              "      <td>351022</td>\n",
              "    </tr>\n",
              "    <tr>\n",
              "      <th>F</th>\n",
              "      <td>136</td>\n",
              "      <td>1582</td>\n",
              "      <td>2984</td>\n",
              "      <td>5487</td>\n",
              "      <td>45895</td>\n",
              "      <td>52575</td>\n",
              "      <td>33461</td>\n",
              "      <td>629</td>\n",
              "      <td>142749</td>\n",
              "    </tr>\n",
              "    <tr>\n",
              "      <th>G</th>\n",
              "      <td>40</td>\n",
              "      <td>505</td>\n",
              "      <td>974</td>\n",
              "      <td>1970</td>\n",
              "      <td>18294</td>\n",
              "      <td>24575</td>\n",
              "      <td>46800</td>\n",
              "      <td>432</td>\n",
              "      <td>93590</td>\n",
              "    </tr>\n",
              "    <tr>\n",
              "      <th>H</th>\n",
              "      <td>882</td>\n",
              "      <td>6331</td>\n",
              "      <td>7025</td>\n",
              "      <td>7819</td>\n",
              "      <td>24758</td>\n",
              "      <td>7513</td>\n",
              "      <td>5306</td>\n",
              "      <td>9566</td>\n",
              "      <td>69200</td>\n",
              "    </tr>\n",
              "    <tr>\n",
              "      <th>All</th>\n",
              "      <td>14742</td>\n",
              "      <td>99568</td>\n",
              "      <td>104083</td>\n",
              "      <td>110158</td>\n",
              "      <td>392960</td>\n",
              "      <td>177300</td>\n",
              "      <td>155923</td>\n",
              "      <td>15364</td>\n",
              "      <td>1070098</td>\n",
              "    </tr>\n",
              "  </tbody>\n",
              "</table>\n",
              "</div>\n",
              "      <button class=\"colab-df-convert\" onclick=\"convertToInteractive('df-b93823a5-671d-4dc0-aa14-1b155296319d')\"\n",
              "              title=\"Convert this dataframe to an interactive table.\"\n",
              "              style=\"display:none;\">\n",
              "        \n",
              "  <svg xmlns=\"http://www.w3.org/2000/svg\" height=\"24px\"viewBox=\"0 0 24 24\"\n",
              "       width=\"24px\">\n",
              "    <path d=\"M0 0h24v24H0V0z\" fill=\"none\"/>\n",
              "    <path d=\"M18.56 5.44l.94 2.06.94-2.06 2.06-.94-2.06-.94-.94-2.06-.94 2.06-2.06.94zm-11 1L8.5 8.5l.94-2.06 2.06-.94-2.06-.94L8.5 2.5l-.94 2.06-2.06.94zm10 10l.94 2.06.94-2.06 2.06-.94-2.06-.94-.94-2.06-.94 2.06-2.06.94z\"/><path d=\"M17.41 7.96l-1.37-1.37c-.4-.4-.92-.59-1.43-.59-.52 0-1.04.2-1.43.59L10.3 9.45l-7.72 7.72c-.78.78-.78 2.05 0 2.83L4 21.41c.39.39.9.59 1.41.59.51 0 1.02-.2 1.41-.59l7.78-7.78 2.81-2.81c.8-.78.8-2.07 0-2.86zM5.41 20L4 18.59l7.72-7.72 1.47 1.35L5.41 20z\"/>\n",
              "  </svg>\n",
              "      </button>\n",
              "      \n",
              "  <style>\n",
              "    .colab-df-container {\n",
              "      display:flex;\n",
              "      flex-wrap:wrap;\n",
              "      gap: 12px;\n",
              "    }\n",
              "\n",
              "    .colab-df-convert {\n",
              "      background-color: #E8F0FE;\n",
              "      border: none;\n",
              "      border-radius: 50%;\n",
              "      cursor: pointer;\n",
              "      display: none;\n",
              "      fill: #1967D2;\n",
              "      height: 32px;\n",
              "      padding: 0 0 0 0;\n",
              "      width: 32px;\n",
              "    }\n",
              "\n",
              "    .colab-df-convert:hover {\n",
              "      background-color: #E2EBFA;\n",
              "      box-shadow: 0px 1px 2px rgba(60, 64, 67, 0.3), 0px 1px 3px 1px rgba(60, 64, 67, 0.15);\n",
              "      fill: #174EA6;\n",
              "    }\n",
              "\n",
              "    [theme=dark] .colab-df-convert {\n",
              "      background-color: #3B4455;\n",
              "      fill: #D2E3FC;\n",
              "    }\n",
              "\n",
              "    [theme=dark] .colab-df-convert:hover {\n",
              "      background-color: #434B5C;\n",
              "      box-shadow: 0px 1px 3px 1px rgba(0, 0, 0, 0.15);\n",
              "      filter: drop-shadow(0px 1px 2px rgba(0, 0, 0, 0.3));\n",
              "      fill: #FFFFFF;\n",
              "    }\n",
              "  </style>\n",
              "\n",
              "      <script>\n",
              "        const buttonEl =\n",
              "          document.querySelector('#df-b93823a5-671d-4dc0-aa14-1b155296319d button.colab-df-convert');\n",
              "        buttonEl.style.display =\n",
              "          google.colab.kernel.accessAllowed ? 'block' : 'none';\n",
              "\n",
              "        async function convertToInteractive(key) {\n",
              "          const element = document.querySelector('#df-b93823a5-671d-4dc0-aa14-1b155296319d');\n",
              "          const dataTable =\n",
              "            await google.colab.kernel.invokeFunction('convertToInteractive',\n",
              "                                                     [key], {});\n",
              "          if (!dataTable) return;\n",
              "\n",
              "          const docLinkHtml = 'Like what you see? Visit the ' +\n",
              "            '<a target=\"_blank\" href=https://colab.research.google.com/notebooks/data_table.ipynb>data table notebook</a>'\n",
              "            + ' to learn more about interactive tables.';\n",
              "          element.innerHTML = '';\n",
              "          dataTable['output_type'] = 'display_data';\n",
              "          await google.colab.output.renderOutput(dataTable, element);\n",
              "          const docLink = document.createElement('div');\n",
              "          docLink.innerHTML = docLinkHtml;\n",
              "          element.appendChild(docLink);\n",
              "        }\n",
              "      </script>\n",
              "    </div>\n",
              "  </div>\n",
              "  "
            ]
          },
          "metadata": {},
          "execution_count": 80
        }
      ]
    },
    {
      "cell_type": "code",
      "source": [
        "pd.crosstab(df_ft.Q010,df_ft.Q011, margins=True, dropna=False)"
      ],
      "metadata": {
        "id": "u_E863-ec1BF",
        "colab": {
          "base_uri": "https://localhost:8080/",
          "height": 269
        },
        "outputId": "aa98e2e4-fa39-4157-b750-622a08a2ebea"
      },
      "execution_count": null,
      "outputs": [
        {
          "output_type": "execute_result",
          "data": {
            "text/plain": [
              "Q011        A       B      C     D    E      All\n",
              "Q010                                            \n",
              "A      973571  244083  17443  1025   81  1236203\n",
              "B      593751  169099  17984  1479  145   782458\n",
              "C      131096   27512   4832   630  115   164185\n",
              "D       16372    3415    825   223   48    20883\n",
              "E        2895     740    248    80  101     4064\n",
              "All   1717685  444849  41332  3437  490  2207793"
            ],
            "text/html": [
              "\n",
              "  <div id=\"df-0992e3e8-c58b-4a3f-b0eb-60f7cdb87c3e\">\n",
              "    <div class=\"colab-df-container\">\n",
              "      <div>\n",
              "<style scoped>\n",
              "    .dataframe tbody tr th:only-of-type {\n",
              "        vertical-align: middle;\n",
              "    }\n",
              "\n",
              "    .dataframe tbody tr th {\n",
              "        vertical-align: top;\n",
              "    }\n",
              "\n",
              "    .dataframe thead th {\n",
              "        text-align: right;\n",
              "    }\n",
              "</style>\n",
              "<table border=\"1\" class=\"dataframe\">\n",
              "  <thead>\n",
              "    <tr style=\"text-align: right;\">\n",
              "      <th>Q011</th>\n",
              "      <th>A</th>\n",
              "      <th>B</th>\n",
              "      <th>C</th>\n",
              "      <th>D</th>\n",
              "      <th>E</th>\n",
              "      <th>All</th>\n",
              "    </tr>\n",
              "    <tr>\n",
              "      <th>Q010</th>\n",
              "      <th></th>\n",
              "      <th></th>\n",
              "      <th></th>\n",
              "      <th></th>\n",
              "      <th></th>\n",
              "      <th></th>\n",
              "    </tr>\n",
              "  </thead>\n",
              "  <tbody>\n",
              "    <tr>\n",
              "      <th>A</th>\n",
              "      <td>973571</td>\n",
              "      <td>244083</td>\n",
              "      <td>17443</td>\n",
              "      <td>1025</td>\n",
              "      <td>81</td>\n",
              "      <td>1236203</td>\n",
              "    </tr>\n",
              "    <tr>\n",
              "      <th>B</th>\n",
              "      <td>593751</td>\n",
              "      <td>169099</td>\n",
              "      <td>17984</td>\n",
              "      <td>1479</td>\n",
              "      <td>145</td>\n",
              "      <td>782458</td>\n",
              "    </tr>\n",
              "    <tr>\n",
              "      <th>C</th>\n",
              "      <td>131096</td>\n",
              "      <td>27512</td>\n",
              "      <td>4832</td>\n",
              "      <td>630</td>\n",
              "      <td>115</td>\n",
              "      <td>164185</td>\n",
              "    </tr>\n",
              "    <tr>\n",
              "      <th>D</th>\n",
              "      <td>16372</td>\n",
              "      <td>3415</td>\n",
              "      <td>825</td>\n",
              "      <td>223</td>\n",
              "      <td>48</td>\n",
              "      <td>20883</td>\n",
              "    </tr>\n",
              "    <tr>\n",
              "      <th>E</th>\n",
              "      <td>2895</td>\n",
              "      <td>740</td>\n",
              "      <td>248</td>\n",
              "      <td>80</td>\n",
              "      <td>101</td>\n",
              "      <td>4064</td>\n",
              "    </tr>\n",
              "    <tr>\n",
              "      <th>All</th>\n",
              "      <td>1717685</td>\n",
              "      <td>444849</td>\n",
              "      <td>41332</td>\n",
              "      <td>3437</td>\n",
              "      <td>490</td>\n",
              "      <td>2207793</td>\n",
              "    </tr>\n",
              "  </tbody>\n",
              "</table>\n",
              "</div>\n",
              "      <button class=\"colab-df-convert\" onclick=\"convertToInteractive('df-0992e3e8-c58b-4a3f-b0eb-60f7cdb87c3e')\"\n",
              "              title=\"Convert this dataframe to an interactive table.\"\n",
              "              style=\"display:none;\">\n",
              "        \n",
              "  <svg xmlns=\"http://www.w3.org/2000/svg\" height=\"24px\"viewBox=\"0 0 24 24\"\n",
              "       width=\"24px\">\n",
              "    <path d=\"M0 0h24v24H0V0z\" fill=\"none\"/>\n",
              "    <path d=\"M18.56 5.44l.94 2.06.94-2.06 2.06-.94-2.06-.94-.94-2.06-.94 2.06-2.06.94zm-11 1L8.5 8.5l.94-2.06 2.06-.94-2.06-.94L8.5 2.5l-.94 2.06-2.06.94zm10 10l.94 2.06.94-2.06 2.06-.94-2.06-.94-.94-2.06-.94 2.06-2.06.94z\"/><path d=\"M17.41 7.96l-1.37-1.37c-.4-.4-.92-.59-1.43-.59-.52 0-1.04.2-1.43.59L10.3 9.45l-7.72 7.72c-.78.78-.78 2.05 0 2.83L4 21.41c.39.39.9.59 1.41.59.51 0 1.02-.2 1.41-.59l7.78-7.78 2.81-2.81c.8-.78.8-2.07 0-2.86zM5.41 20L4 18.59l7.72-7.72 1.47 1.35L5.41 20z\"/>\n",
              "  </svg>\n",
              "      </button>\n",
              "      \n",
              "  <style>\n",
              "    .colab-df-container {\n",
              "      display:flex;\n",
              "      flex-wrap:wrap;\n",
              "      gap: 12px;\n",
              "    }\n",
              "\n",
              "    .colab-df-convert {\n",
              "      background-color: #E8F0FE;\n",
              "      border: none;\n",
              "      border-radius: 50%;\n",
              "      cursor: pointer;\n",
              "      display: none;\n",
              "      fill: #1967D2;\n",
              "      height: 32px;\n",
              "      padding: 0 0 0 0;\n",
              "      width: 32px;\n",
              "    }\n",
              "\n",
              "    .colab-df-convert:hover {\n",
              "      background-color: #E2EBFA;\n",
              "      box-shadow: 0px 1px 2px rgba(60, 64, 67, 0.3), 0px 1px 3px 1px rgba(60, 64, 67, 0.15);\n",
              "      fill: #174EA6;\n",
              "    }\n",
              "\n",
              "    [theme=dark] .colab-df-convert {\n",
              "      background-color: #3B4455;\n",
              "      fill: #D2E3FC;\n",
              "    }\n",
              "\n",
              "    [theme=dark] .colab-df-convert:hover {\n",
              "      background-color: #434B5C;\n",
              "      box-shadow: 0px 1px 3px 1px rgba(0, 0, 0, 0.15);\n",
              "      filter: drop-shadow(0px 1px 2px rgba(0, 0, 0, 0.3));\n",
              "      fill: #FFFFFF;\n",
              "    }\n",
              "  </style>\n",
              "\n",
              "      <script>\n",
              "        const buttonEl =\n",
              "          document.querySelector('#df-0992e3e8-c58b-4a3f-b0eb-60f7cdb87c3e button.colab-df-convert');\n",
              "        buttonEl.style.display =\n",
              "          google.colab.kernel.accessAllowed ? 'block' : 'none';\n",
              "\n",
              "        async function convertToInteractive(key) {\n",
              "          const element = document.querySelector('#df-0992e3e8-c58b-4a3f-b0eb-60f7cdb87c3e');\n",
              "          const dataTable =\n",
              "            await google.colab.kernel.invokeFunction('convertToInteractive',\n",
              "                                                     [key], {});\n",
              "          if (!dataTable) return;\n",
              "\n",
              "          const docLinkHtml = 'Like what you see? Visit the ' +\n",
              "            '<a target=\"_blank\" href=https://colab.research.google.com/notebooks/data_table.ipynb>data table notebook</a>'\n",
              "            + ' to learn more about interactive tables.';\n",
              "          element.innerHTML = '';\n",
              "          dataTable['output_type'] = 'display_data';\n",
              "          await google.colab.output.renderOutput(dataTable, element);\n",
              "          const docLink = document.createElement('div');\n",
              "          docLink.innerHTML = docLinkHtml;\n",
              "          element.appendChild(docLink);\n",
              "        }\n",
              "      </script>\n",
              "    </div>\n",
              "  </div>\n",
              "  "
            ]
          },
          "metadata": {},
          "execution_count": 81
        }
      ]
    },
    {
      "cell_type": "code",
      "source": [
        "pd.crosstab(df_teste.Q010,df_teste.Q011, margins=True, dropna=False)"
      ],
      "metadata": {
        "id": "__IlEuwgG1J-",
        "colab": {
          "base_uri": "https://localhost:8080/",
          "height": 269
        },
        "outputId": "0e3a3c9f-53ed-4b36-990c-65f6844160ff"
      },
      "execution_count": null,
      "outputs": [
        {
          "output_type": "execute_result",
          "data": {
            "text/plain": [
              "Q011       A       B      C     D    E      All\n",
              "Q010                                           \n",
              "A     356348   84754   6675   363   23   448163\n",
              "B     366110   94232  10042   758   67   471209\n",
              "C     106264   19981   3265   413   75   129998\n",
              "D      13912    2644    605   157   38    17356\n",
              "E       2481     574    183    53   81     3372\n",
              "All   845115  202185  20770  1744  284  1070098"
            ],
            "text/html": [
              "\n",
              "  <div id=\"df-8c6b5b0f-6eac-4ef3-b17b-cb5b0792faf9\">\n",
              "    <div class=\"colab-df-container\">\n",
              "      <div>\n",
              "<style scoped>\n",
              "    .dataframe tbody tr th:only-of-type {\n",
              "        vertical-align: middle;\n",
              "    }\n",
              "\n",
              "    .dataframe tbody tr th {\n",
              "        vertical-align: top;\n",
              "    }\n",
              "\n",
              "    .dataframe thead th {\n",
              "        text-align: right;\n",
              "    }\n",
              "</style>\n",
              "<table border=\"1\" class=\"dataframe\">\n",
              "  <thead>\n",
              "    <tr style=\"text-align: right;\">\n",
              "      <th>Q011</th>\n",
              "      <th>A</th>\n",
              "      <th>B</th>\n",
              "      <th>C</th>\n",
              "      <th>D</th>\n",
              "      <th>E</th>\n",
              "      <th>All</th>\n",
              "    </tr>\n",
              "    <tr>\n",
              "      <th>Q010</th>\n",
              "      <th></th>\n",
              "      <th></th>\n",
              "      <th></th>\n",
              "      <th></th>\n",
              "      <th></th>\n",
              "      <th></th>\n",
              "    </tr>\n",
              "  </thead>\n",
              "  <tbody>\n",
              "    <tr>\n",
              "      <th>A</th>\n",
              "      <td>356348</td>\n",
              "      <td>84754</td>\n",
              "      <td>6675</td>\n",
              "      <td>363</td>\n",
              "      <td>23</td>\n",
              "      <td>448163</td>\n",
              "    </tr>\n",
              "    <tr>\n",
              "      <th>B</th>\n",
              "      <td>366110</td>\n",
              "      <td>94232</td>\n",
              "      <td>10042</td>\n",
              "      <td>758</td>\n",
              "      <td>67</td>\n",
              "      <td>471209</td>\n",
              "    </tr>\n",
              "    <tr>\n",
              "      <th>C</th>\n",
              "      <td>106264</td>\n",
              "      <td>19981</td>\n",
              "      <td>3265</td>\n",
              "      <td>413</td>\n",
              "      <td>75</td>\n",
              "      <td>129998</td>\n",
              "    </tr>\n",
              "    <tr>\n",
              "      <th>D</th>\n",
              "      <td>13912</td>\n",
              "      <td>2644</td>\n",
              "      <td>605</td>\n",
              "      <td>157</td>\n",
              "      <td>38</td>\n",
              "      <td>17356</td>\n",
              "    </tr>\n",
              "    <tr>\n",
              "      <th>E</th>\n",
              "      <td>2481</td>\n",
              "      <td>574</td>\n",
              "      <td>183</td>\n",
              "      <td>53</td>\n",
              "      <td>81</td>\n",
              "      <td>3372</td>\n",
              "    </tr>\n",
              "    <tr>\n",
              "      <th>All</th>\n",
              "      <td>845115</td>\n",
              "      <td>202185</td>\n",
              "      <td>20770</td>\n",
              "      <td>1744</td>\n",
              "      <td>284</td>\n",
              "      <td>1070098</td>\n",
              "    </tr>\n",
              "  </tbody>\n",
              "</table>\n",
              "</div>\n",
              "      <button class=\"colab-df-convert\" onclick=\"convertToInteractive('df-8c6b5b0f-6eac-4ef3-b17b-cb5b0792faf9')\"\n",
              "              title=\"Convert this dataframe to an interactive table.\"\n",
              "              style=\"display:none;\">\n",
              "        \n",
              "  <svg xmlns=\"http://www.w3.org/2000/svg\" height=\"24px\"viewBox=\"0 0 24 24\"\n",
              "       width=\"24px\">\n",
              "    <path d=\"M0 0h24v24H0V0z\" fill=\"none\"/>\n",
              "    <path d=\"M18.56 5.44l.94 2.06.94-2.06 2.06-.94-2.06-.94-.94-2.06-.94 2.06-2.06.94zm-11 1L8.5 8.5l.94-2.06 2.06-.94-2.06-.94L8.5 2.5l-.94 2.06-2.06.94zm10 10l.94 2.06.94-2.06 2.06-.94-2.06-.94-.94-2.06-.94 2.06-2.06.94z\"/><path d=\"M17.41 7.96l-1.37-1.37c-.4-.4-.92-.59-1.43-.59-.52 0-1.04.2-1.43.59L10.3 9.45l-7.72 7.72c-.78.78-.78 2.05 0 2.83L4 21.41c.39.39.9.59 1.41.59.51 0 1.02-.2 1.41-.59l7.78-7.78 2.81-2.81c.8-.78.8-2.07 0-2.86zM5.41 20L4 18.59l7.72-7.72 1.47 1.35L5.41 20z\"/>\n",
              "  </svg>\n",
              "      </button>\n",
              "      \n",
              "  <style>\n",
              "    .colab-df-container {\n",
              "      display:flex;\n",
              "      flex-wrap:wrap;\n",
              "      gap: 12px;\n",
              "    }\n",
              "\n",
              "    .colab-df-convert {\n",
              "      background-color: #E8F0FE;\n",
              "      border: none;\n",
              "      border-radius: 50%;\n",
              "      cursor: pointer;\n",
              "      display: none;\n",
              "      fill: #1967D2;\n",
              "      height: 32px;\n",
              "      padding: 0 0 0 0;\n",
              "      width: 32px;\n",
              "    }\n",
              "\n",
              "    .colab-df-convert:hover {\n",
              "      background-color: #E2EBFA;\n",
              "      box-shadow: 0px 1px 2px rgba(60, 64, 67, 0.3), 0px 1px 3px 1px rgba(60, 64, 67, 0.15);\n",
              "      fill: #174EA6;\n",
              "    }\n",
              "\n",
              "    [theme=dark] .colab-df-convert {\n",
              "      background-color: #3B4455;\n",
              "      fill: #D2E3FC;\n",
              "    }\n",
              "\n",
              "    [theme=dark] .colab-df-convert:hover {\n",
              "      background-color: #434B5C;\n",
              "      box-shadow: 0px 1px 3px 1px rgba(0, 0, 0, 0.15);\n",
              "      filter: drop-shadow(0px 1px 2px rgba(0, 0, 0, 0.3));\n",
              "      fill: #FFFFFF;\n",
              "    }\n",
              "  </style>\n",
              "\n",
              "      <script>\n",
              "        const buttonEl =\n",
              "          document.querySelector('#df-8c6b5b0f-6eac-4ef3-b17b-cb5b0792faf9 button.colab-df-convert');\n",
              "        buttonEl.style.display =\n",
              "          google.colab.kernel.accessAllowed ? 'block' : 'none';\n",
              "\n",
              "        async function convertToInteractive(key) {\n",
              "          const element = document.querySelector('#df-8c6b5b0f-6eac-4ef3-b17b-cb5b0792faf9');\n",
              "          const dataTable =\n",
              "            await google.colab.kernel.invokeFunction('convertToInteractive',\n",
              "                                                     [key], {});\n",
              "          if (!dataTable) return;\n",
              "\n",
              "          const docLinkHtml = 'Like what you see? Visit the ' +\n",
              "            '<a target=\"_blank\" href=https://colab.research.google.com/notebooks/data_table.ipynb>data table notebook</a>'\n",
              "            + ' to learn more about interactive tables.';\n",
              "          element.innerHTML = '';\n",
              "          dataTable['output_type'] = 'display_data';\n",
              "          await google.colab.output.renderOutput(dataTable, element);\n",
              "          const docLink = document.createElement('div');\n",
              "          docLink.innerHTML = docLinkHtml;\n",
              "          element.appendChild(docLink);\n",
              "        }\n",
              "      </script>\n",
              "    </div>\n",
              "  </div>\n",
              "  "
            ]
          },
          "metadata": {},
          "execution_count": 82
        }
      ]
    },
    {
      "cell_type": "markdown",
      "source": [
        "# **Exclusão de Colunas**"
      ],
      "metadata": {
        "id": "8zqCz9RIEa_Q"
      }
    },
    {
      "cell_type": "code",
      "source": [
        "df_ft.shape"
      ],
      "metadata": {
        "id": "3Zt9HmZSGZMu",
        "colab": {
          "base_uri": "https://localhost:8080/"
        },
        "outputId": "ce2e414e-5854-4854-c36d-8380dacc9738"
      },
      "execution_count": null,
      "outputs": [
        {
          "output_type": "execute_result",
          "data": {
            "text/plain": [
              "(2207793, 108)"
            ]
          },
          "metadata": {},
          "execution_count": 83
        }
      ]
    },
    {
      "cell_type": "code",
      "source": [
        "df_ft.drop(['TP_FAIXA_ETARIA','TP_ESTADO_CIVIL','TP_COR_RACA','TP_ST_CONCLUSAO','TP_ANO_CONCLUIU',\n",
        "            'TP_ESCOLA', 'TP_ENSINO', 'Q005', 'Q006', 'Q007', 'Q008', 'Q009', 'Q010', 'Q011',\n",
        "            'Q012', 'Q013', 'Q014', 'Q015', 'Q016', 'Q017', 'Q019', 'Q024', 'Sum_TIC3', 'Sum_TIC5',\n",
        "            'Sum_Elet', 'Car_Mot', 'Tot_PtCasa', 'Q001_', 'Q002_', 'Ter_Asp', 'Ter_TV', 'Ter_DVD',\n",
        "            'Ter_TVa', 'Ter_TFi', 'Ter_Gel', 'Ter_Fre', 'Ter_LvR', 'Ter_ScR', 'Ter_Mio', 'Ter_LvL',\n",
        "            'Q007_f2', 'Q007_f', 'Q008_f2', 'Q008_f', 'Q009_f2', 'Q009_f', 'Tot_PtCasa_2', 'Ter_Int'], axis = 1, inplace = True)\n",
        "df_ft.shape"
      ],
      "metadata": {
        "id": "NFDqcyeKEeDB",
        "colab": {
          "base_uri": "https://localhost:8080/"
        },
        "outputId": "bfc7889f-c482-44dd-b715-0b6da27f268b"
      },
      "execution_count": null,
      "outputs": [
        {
          "output_type": "execute_result",
          "data": {
            "text/plain": [
              "(2207793, 60)"
            ]
          },
          "metadata": {},
          "execution_count": 84
        }
      ]
    },
    {
      "cell_type": "code",
      "source": [
        "df_ft.columns"
      ],
      "metadata": {
        "colab": {
          "base_uri": "https://localhost:8080/"
        },
        "id": "lXal5YB7NkkX",
        "outputId": "5dd2817b-5b3c-4a4b-c6b4-f1d69a611fdc"
      },
      "execution_count": null,
      "outputs": [
        {
          "output_type": "execute_result",
          "data": {
            "text/plain": [
              "Index(['NU_INSCRICAO', 'NU_ANO', 'TP_SEXO', 'CO_MUNICIPIO_ESC',\n",
              "       'NO_MUNICIPIO_ESC', 'SG_UF_ESC', 'TP_LOCALIZACAO_ESC',\n",
              "       'CO_MUNICIPIO_PROVA', 'NO_MUNICIPIO_PROVA', 'SG_UF_PROVA', 'NU_NOTA_CN',\n",
              "       'NU_NOTA_CH', 'NU_NOTA_LC', 'NU_NOTA_MT', 'TP_LINGUA',\n",
              "       'NU_NOTA_REDACAO', 'Q001', 'Q002', 'Q003', 'Q004', 'Q018', 'Q020',\n",
              "       'Q021', 'Q022', 'Q023', 'Q025', 'Sum_Target', 'Sum_Target_2',\n",
              "       'Sum_Target_3', 'Ter_Cel', 'Ter_Com', 'Sum_TIC3_', 'Sum_TIC5_',\n",
              "       'Sum_Elet_', 'Esc_Max', 'Q010_', 'Q011_', 'Car_Mot_', 'Q007_', 'Q008_',\n",
              "       'Q009_', 'Tot_PtCasa_', 'RegGeo_Prova', 'SG_UF_PROVA_',\n",
              "       'TP_FAIXA_ETARIA_', 'TP_ESTADO_CIVIL_', 'TP_COR_RACA_',\n",
              "       'TP_ANO_CONCLUIU_', 'TP_ESCOLA_', 'TP_ENSINO_', 'Q005_', 'Q006_',\n",
              "       'Q012_', 'Q013_', 'Q014_', 'Q015_', 'Q016_', 'Q017_', 'Q019_', 'Q024_'],\n",
              "      dtype='object')"
            ]
          },
          "metadata": {},
          "execution_count": 85
        }
      ]
    },
    {
      "cell_type": "markdown",
      "source": [
        "# **Exportar Base Final**"
      ],
      "metadata": {
        "id": "ELpe4LhT-4xC"
      }
    },
    {
      "cell_type": "code",
      "source": [
        "df_ft.to_csv('/content/drive/MyDrive/MBA_TCC/DADOS/df_ft_2020_categ.csv', index=False)"
      ],
      "metadata": {
        "id": "bx8Msgub-_LO"
      },
      "execution_count": null,
      "outputs": []
    }
  ]
}
