{
  "nbformat": 4,
  "nbformat_minor": 0,
  "metadata": {
    "colab": {
      "provenance": [],
      "mount_file_id": "1ZSFRRMSXB02GnbIbpTtlfUnYlt-wPFgF",
      "authorship_tag": "ABX9TyNYZ+/7eRQfNQavA9iHMFmI",
      "include_colab_link": true
    },
    "kernelspec": {
      "name": "python3",
      "display_name": "Python 3"
    },
    "language_info": {
      "name": "python"
    }
  },
  "cells": [
    {
      "cell_type": "markdown",
      "metadata": {
        "id": "view-in-github",
        "colab_type": "text"
      },
      "source": [
        "<a href=\"https://colab.research.google.com/github/Adriana-FLW/MBA_TCC/blob/main/01_DefTarget_2020.ipynb\" target=\"_parent\"><img src=\"https://colab.research.google.com/assets/colab-badge.svg\" alt=\"Open In Colab\"/></a>"
      ]
    },
    {
      "cell_type": "markdown",
      "source": [
        "# **ENEM 2020**"
      ],
      "metadata": {
        "id": "cvmTA9hvz6WR"
      }
    },
    {
      "cell_type": "markdown",
      "source": [
        "# - **Bibliotecas**"
      ],
      "metadata": {
        "id": "mYMdtT9R0AGA"
      }
    },
    {
      "cell_type": "code",
      "source": [
        "import pandas as pd\n",
        "import numpy as np"
      ],
      "metadata": {
        "id": "vZP9nhSc0Fq_"
      },
      "execution_count": null,
      "outputs": []
    },
    {
      "cell_type": "markdown",
      "source": [
        "# **Importar Base 2020**"
      ],
      "metadata": {
        "id": "gH-3IGXK0MT3"
      }
    },
    {
      "cell_type": "code",
      "source": [
        "df_f = pd.read_csv('/content/drive/MyDrive/MBA_TCC/DADOS/df_f_2020.csv',sep=',',encoding='ISO-8859-1')\n",
        "df_f.shape"
      ],
      "metadata": {
        "colab": {
          "base_uri": "https://localhost:8080/"
        },
        "id": "8IA_ob080QPp",
        "outputId": "d7398cff-827b-4dc2-8363-6f14b85b1ca3"
      },
      "execution_count": null,
      "outputs": [
        {
          "output_type": "execute_result",
          "data": {
            "text/plain": [
              "(2207793, 48)"
            ]
          },
          "metadata": {},
          "execution_count": 3
        }
      ]
    },
    {
      "cell_type": "code",
      "source": [
        "df_f.info()"
      ],
      "metadata": {
        "colab": {
          "base_uri": "https://localhost:8080/"
        },
        "id": "9fyVyre10Wx5",
        "outputId": "b9c84516-c785-42f4-ded1-8ded1c183d85"
      },
      "execution_count": null,
      "outputs": [
        {
          "output_type": "stream",
          "name": "stdout",
          "text": [
            "<class 'pandas.core.frame.DataFrame'>\n",
            "RangeIndex: 2207793 entries, 0 to 2207792\n",
            "Data columns (total 48 columns):\n",
            " #   Column              Dtype  \n",
            "---  ------              -----  \n",
            " 0   NU_INSCRICAO        int64  \n",
            " 1   NU_ANO              int64  \n",
            " 2   TP_FAIXA_ETARIA     int64  \n",
            " 3   TP_SEXO             object \n",
            " 4   TP_ESTADO_CIVIL     int64  \n",
            " 5   TP_COR_RACA         int64  \n",
            " 6   TP_ST_CONCLUSAO     int64  \n",
            " 7   TP_ANO_CONCLUIU     int64  \n",
            " 8   TP_ESCOLA           int64  \n",
            " 9   TP_ENSINO           int64  \n",
            " 10  CO_MUNICIPIO_ESC    float64\n",
            " 11  NO_MUNICIPIO_ESC    object \n",
            " 12  SG_UF_ESC           object \n",
            " 13  TP_LOCALIZACAO_ESC  int64  \n",
            " 14  CO_MUNICIPIO_PROVA  float64\n",
            " 15  NO_MUNICIPIO_PROVA  object \n",
            " 16  SG_UF_PROVA         object \n",
            " 17  NU_NOTA_CN          float64\n",
            " 18  NU_NOTA_CH          float64\n",
            " 19  NU_NOTA_LC          float64\n",
            " 20  NU_NOTA_MT          float64\n",
            " 21  TP_LINGUA           int64  \n",
            " 22  NU_NOTA_REDACAO     float64\n",
            " 23  Q001                object \n",
            " 24  Q002                object \n",
            " 25  Q003                object \n",
            " 26  Q004                object \n",
            " 27  Q005                float64\n",
            " 28  Q006                object \n",
            " 29  Q007                object \n",
            " 30  Q008                object \n",
            " 31  Q009                object \n",
            " 32  Q010                object \n",
            " 33  Q011                object \n",
            " 34  Q012                object \n",
            " 35  Q013                object \n",
            " 36  Q014                object \n",
            " 37  Q015                object \n",
            " 38  Q016                object \n",
            " 39  Q017                object \n",
            " 40  Q018                object \n",
            " 41  Q019                object \n",
            " 42  Q020                object \n",
            " 43  Q021                object \n",
            " 44  Q022                object \n",
            " 45  Q023                object \n",
            " 46  Q024                object \n",
            " 47  Q025                object \n",
            "dtypes: float64(8), int64(11), object(29)\n",
            "memory usage: 808.5+ MB\n"
          ]
        }
      ]
    },
    {
      "cell_type": "markdown",
      "source": [
        "# **Classificação das Competências**"
      ],
      "metadata": {
        "id": "2YndI83d0Yzj"
      }
    },
    {
      "cell_type": "markdown",
      "source": [
        "- NU_NOTA_CN             "
      ],
      "metadata": {
        "id": "BWpnbgFL024l"
      }
    },
    {
      "cell_type": "code",
      "source": [
        "np.median(df_f.NU_NOTA_CN)"
      ],
      "metadata": {
        "colab": {
          "base_uri": "https://localhost:8080/"
        },
        "id": "6-TzQKU468wa",
        "outputId": "bdbd9b5b-6788-4522-c316-d9cafc27c85e"
      },
      "execution_count": null,
      "outputs": [
        {
          "output_type": "execute_result",
          "data": {
            "text/plain": [
              "483.5"
            ]
          },
          "metadata": {},
          "execution_count": 5
        }
      ]
    },
    {
      "cell_type": "code",
      "source": [
        "df_f['Target_CN'] = np.where(df_f['NU_NOTA_CN'] > np.median(df_f.NU_NOTA_CN), 1, 0)"
      ],
      "metadata": {
        "id": "EvHU1ODP6cYy"
      },
      "execution_count": null,
      "outputs": []
    },
    {
      "cell_type": "code",
      "source": [
        "df_f['Target_CN'].value_counts().sort_index()"
      ],
      "metadata": {
        "colab": {
          "base_uri": "https://localhost:8080/"
        },
        "id": "iDVBFyN38MpX",
        "outputId": "8d3ef4a8-f7eb-498f-b054-2163545c7fbb"
      },
      "execution_count": null,
      "outputs": [
        {
          "output_type": "execute_result",
          "data": {
            "text/plain": [
              "0    1104437\n",
              "1    1103356\n",
              "Name: Target_CN, dtype: int64"
            ]
          },
          "metadata": {},
          "execution_count": 7
        }
      ]
    },
    {
      "cell_type": "markdown",
      "source": [
        "- NU_NOTA_CH          "
      ],
      "metadata": {
        "id": "38Q_5HY88ruT"
      }
    },
    {
      "cell_type": "code",
      "source": [
        "np.median(df_f.NU_NOTA_CH)"
      ],
      "metadata": {
        "colab": {
          "base_uri": "https://localhost:8080/"
        },
        "id": "GenCRQQM8vaK",
        "outputId": "25360dac-0a28-46c7-ba63-2edff2ac8ad8"
      },
      "execution_count": null,
      "outputs": [
        {
          "output_type": "execute_result",
          "data": {
            "text/plain": [
              "515.0"
            ]
          },
          "metadata": {},
          "execution_count": 8
        }
      ]
    },
    {
      "cell_type": "code",
      "source": [
        "df_f['Target_CH'] = np.where(df_f['NU_NOTA_CH'] > np.median(df_f.NU_NOTA_CH), 1, 0)"
      ],
      "metadata": {
        "id": "EbnM3CbJ8vj6"
      },
      "execution_count": null,
      "outputs": []
    },
    {
      "cell_type": "code",
      "source": [
        "df_f['Target_CH'].value_counts().sort_index()"
      ],
      "metadata": {
        "colab": {
          "base_uri": "https://localhost:8080/"
        },
        "id": "F03vOAlc8vss",
        "outputId": "463dd1f8-0ebe-430b-9158-86bc2e9233a4"
      },
      "execution_count": null,
      "outputs": [
        {
          "output_type": "execute_result",
          "data": {
            "text/plain": [
              "0    1104139\n",
              "1    1103654\n",
              "Name: Target_CH, dtype: int64"
            ]
          },
          "metadata": {},
          "execution_count": 10
        }
      ]
    },
    {
      "cell_type": "markdown",
      "source": [
        "- NU_NOTA_LC          "
      ],
      "metadata": {
        "id": "bStyKQiD9LYE"
      }
    },
    {
      "cell_type": "code",
      "source": [
        "np.median(df_f.NU_NOTA_LC)"
      ],
      "metadata": {
        "colab": {
          "base_uri": "https://localhost:8080/"
        },
        "id": "GFViPW-L9P5S",
        "outputId": "d631e3d8-8017-4083-c7c1-f0970d92298c"
      },
      "execution_count": null,
      "outputs": [
        {
          "output_type": "execute_result",
          "data": {
            "text/plain": [
              "531.1"
            ]
          },
          "metadata": {},
          "execution_count": 11
        }
      ]
    },
    {
      "cell_type": "code",
      "source": [
        "df_f['Target_LC'] = np.where(df_f['NU_NOTA_LC'] > np.median(df_f.NU_NOTA_LC), 1, 0)"
      ],
      "metadata": {
        "id": "40vSD37B9QCd"
      },
      "execution_count": null,
      "outputs": []
    },
    {
      "cell_type": "code",
      "source": [
        "df_f['Target_LC'].value_counts().sort_index()"
      ],
      "metadata": {
        "colab": {
          "base_uri": "https://localhost:8080/"
        },
        "id": "oQ7tqFzD9QKq",
        "outputId": "06725c03-e622-4bf9-9aa8-de99f19ff907"
      },
      "execution_count": null,
      "outputs": [
        {
          "output_type": "execute_result",
          "data": {
            "text/plain": [
              "0    1104214\n",
              "1    1103579\n",
              "Name: Target_LC, dtype: int64"
            ]
          },
          "metadata": {},
          "execution_count": 13
        }
      ]
    },
    {
      "cell_type": "markdown",
      "source": [
        "- NU_NOTA_MT          "
      ],
      "metadata": {
        "id": "PVrYQ1he9qIe"
      }
    },
    {
      "cell_type": "code",
      "source": [
        "np.median(df_f.NU_NOTA_MT)"
      ],
      "metadata": {
        "colab": {
          "base_uri": "https://localhost:8080/"
        },
        "id": "VzbMLEi19rQc",
        "outputId": "d51e201f-12d8-41ff-d086-0b6fab381182"
      },
      "execution_count": null,
      "outputs": [
        {
          "output_type": "execute_result",
          "data": {
            "text/plain": [
              "503.1"
            ]
          },
          "metadata": {},
          "execution_count": 14
        }
      ]
    },
    {
      "cell_type": "code",
      "source": [
        "df_f['Target_MT'] = np.where(df_f['NU_NOTA_MT'] > np.median(df_f.NU_NOTA_MT), 1, 0)"
      ],
      "metadata": {
        "id": "2q5V31PS9rZM"
      },
      "execution_count": null,
      "outputs": []
    },
    {
      "cell_type": "code",
      "source": [
        "df_f['Target_MT'].value_counts().sort_index()"
      ],
      "metadata": {
        "colab": {
          "base_uri": "https://localhost:8080/"
        },
        "id": "DnSJBaBS9rhQ",
        "outputId": "85dedbd3-0626-46d1-d4f0-48482c2602ea"
      },
      "execution_count": null,
      "outputs": [
        {
          "output_type": "execute_result",
          "data": {
            "text/plain": [
              "0    1104119\n",
              "1    1103674\n",
              "Name: Target_MT, dtype: int64"
            ]
          },
          "metadata": {},
          "execution_count": 16
        }
      ]
    },
    {
      "cell_type": "markdown",
      "source": [
        "- NU_NOTA_REDACAO     "
      ],
      "metadata": {
        "id": "BtbB4ghy-JA7"
      }
    },
    {
      "cell_type": "code",
      "source": [
        "np.median(df_f.NU_NOTA_REDACAO)"
      ],
      "metadata": {
        "colab": {
          "base_uri": "https://localhost:8080/"
        },
        "id": "Esz42BCS-J_X",
        "outputId": "25519010-d61f-48a0-b032-d5bad8b0a828"
      },
      "execution_count": null,
      "outputs": [
        {
          "output_type": "execute_result",
          "data": {
            "text/plain": [
              "580.0"
            ]
          },
          "metadata": {},
          "execution_count": 17
        }
      ]
    },
    {
      "cell_type": "code",
      "source": [
        "df_f['Target_Red'] = np.where(df_f['NU_NOTA_REDACAO'] > np.median(df_f.NU_NOTA_REDACAO), 1, 0)"
      ],
      "metadata": {
        "id": "_5IsvwwX-KHK"
      },
      "execution_count": null,
      "outputs": []
    },
    {
      "cell_type": "code",
      "source": [
        "df_f['Target_Red'].value_counts().sort_index()"
      ],
      "metadata": {
        "colab": {
          "base_uri": "https://localhost:8080/"
        },
        "id": "WUO-npeM-KNi",
        "outputId": "7556e8f1-e117-4a5a-bae2-43a876857db0"
      },
      "execution_count": null,
      "outputs": [
        {
          "output_type": "execute_result",
          "data": {
            "text/plain": [
              "0    1182816\n",
              "1    1024977\n",
              "Name: Target_Red, dtype: int64"
            ]
          },
          "metadata": {},
          "execution_count": 23
        }
      ]
    },
    {
      "cell_type": "markdown",
      "source": [
        "# **Definição do Target**"
      ],
      "metadata": {
        "id": "SgjeIqfR-06-"
      }
    },
    {
      "cell_type": "code",
      "source": [
        "df_f['Sum_Target'] = df_f['Target_CN'] + df_f['Target_CH'] + df_f['Target_LC'] + df_f['Target_MT'] + df_f['Target_Red']"
      ],
      "metadata": {
        "id": "ZoFalzDk-4zl"
      },
      "execution_count": null,
      "outputs": []
    },
    {
      "cell_type": "code",
      "source": [
        "df_f['Sum_Target'].value_counts().sort_index()"
      ],
      "metadata": {
        "colab": {
          "base_uri": "https://localhost:8080/"
        },
        "id": "t59mVufp_xnk",
        "outputId": "1ba67f35-b0ec-4326-e294-d950424a448e"
      },
      "execution_count": null,
      "outputs": [
        {
          "output_type": "execute_result",
          "data": {
            "text/plain": [
              "0    474329\n",
              "1    369376\n",
              "2    293990\n",
              "3    274931\n",
              "4    318744\n",
              "5    476423\n",
              "Name: Sum_Target, dtype: int64"
            ]
          },
          "metadata": {},
          "execution_count": 25
        }
      ]
    },
    {
      "cell_type": "code",
      "source": [
        "df_f['Sum_Target_2'] = np.where(df_f['Sum_Target'] >=3, 1, 0)\n",
        "df_f['Sum_Target_2'].value_counts().sort_index()"
      ],
      "metadata": {
        "colab": {
          "base_uri": "https://localhost:8080/"
        },
        "id": "fcUMAp4NDxmG",
        "outputId": "2426d353-1e52-4cc0-9f2a-1c7fa3c37980"
      },
      "execution_count": null,
      "outputs": [
        {
          "output_type": "execute_result",
          "data": {
            "text/plain": [
              "0    1137695\n",
              "1    1070098\n",
              "Name: Sum_Target_2, dtype: int64"
            ]
          },
          "metadata": {},
          "execution_count": 26
        }
      ]
    },
    {
      "cell_type": "code",
      "source": [
        "conditionlist = [(df_f['Sum_Target'] <= 1) ,\n",
        "                 (df_f['Sum_Target'] > 1) & (df_f['Sum_Target'] <= 3),\n",
        "                 (df_f['Sum_Target'] > 3)]\n",
        "choicelist = [0, 1, 2]\n",
        "df_f['Sum_Target_3'] = np.select(conditionlist, choicelist, default='Not Specified')\n",
        "\n",
        "df_f.Sum_Target_3.value_counts().sort_index()"
      ],
      "metadata": {
        "colab": {
          "base_uri": "https://localhost:8080/"
        },
        "id": "ewceGEQ3A-XK",
        "outputId": "75fdef03-c121-43b7-d482-659f470a27b4"
      },
      "execution_count": null,
      "outputs": [
        {
          "output_type": "execute_result",
          "data": {
            "text/plain": [
              "0    843705\n",
              "1    568921\n",
              "2    795167\n",
              "Name: Sum_Target_3, dtype: int64"
            ]
          },
          "metadata": {},
          "execution_count": 27
        }
      ]
    },
    {
      "cell_type": "markdown",
      "source": [
        "# **Exclusao de Colunas**"
      ],
      "metadata": {
        "id": "7215thvAGfAY"
      }
    },
    {
      "cell_type": "code",
      "source": [
        "df_f.drop(['Target_CN','Target_CH','Target_LC','Target_MT','Target_Red'], axis = 1, inplace = True)\n",
        "df_f.shape"
      ],
      "metadata": {
        "colab": {
          "base_uri": "https://localhost:8080/"
        },
        "id": "GEwvBvuDGiOC",
        "outputId": "fe760d44-8fed-4a53-a2bd-ba4eb1629773"
      },
      "execution_count": null,
      "outputs": [
        {
          "output_type": "execute_result",
          "data": {
            "text/plain": [
              "(2207793, 51)"
            ]
          },
          "metadata": {},
          "execution_count": 28
        }
      ]
    },
    {
      "cell_type": "markdown",
      "source": [
        "# **Exportar Base Final**"
      ],
      "metadata": {
        "id": "zvepqC2FHDvL"
      }
    },
    {
      "cell_type": "code",
      "source": [
        "df_f.to_csv('/content/drive/MyDrive/MBA_TCC/DADOS/df_ft_2020.csv', index=False)"
      ],
      "metadata": {
        "id": "Q4oompiwHINi"
      },
      "execution_count": null,
      "outputs": []
    }
  ]
}
