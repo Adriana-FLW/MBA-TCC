{
  "nbformat": 4,
  "nbformat_minor": 0,
  "metadata": {
    "colab": {
      "provenance": [],
      "mount_file_id": "1prAgKszKL51mZoKWjNpfNoLGO_X5IsrM",
      "authorship_tag": "ABX9TyMzsuuKH4RchEmg4qb4hYsu",
      "include_colab_link": true
    },
    "kernelspec": {
      "name": "python3",
      "display_name": "Python 3"
    },
    "language_info": {
      "name": "python"
    }
  },
  "cells": [
    {
      "cell_type": "markdown",
      "metadata": {
        "id": "view-in-github",
        "colab_type": "text"
      },
      "source": [
        "<a href=\"https://colab.research.google.com/github/Adriana-FLW/MBA_TCC/blob/main/02_CategVariaveis_2021.ipynb\" target=\"_parent\"><img src=\"https://colab.research.google.com/assets/colab-badge.svg\" alt=\"Open In Colab\"/></a>"
      ]
    },
    {
      "cell_type": "markdown",
      "source": [
        "\n",
        "# **ENEM 2021**"
      ],
      "metadata": {
        "id": "cvmTA9hvz6WR"
      }
    },
    {
      "cell_type": "code",
      "source": [
        "#from google.colab import drive\n",
        "#drive.mount('/content/drive')"
      ],
      "metadata": {
        "id": "UVF1E7U0SZYa"
      },
      "execution_count": null,
      "outputs": []
    },
    {
      "cell_type": "markdown",
      "source": [
        "# - **Bibliotecas**"
      ],
      "metadata": {
        "id": "mYMdtT9R0AGA"
      }
    },
    {
      "cell_type": "code",
      "source": [
        "import pandas as pd\n",
        "import numpy as np"
      ],
      "metadata": {
        "id": "vZP9nhSc0Fq_"
      },
      "execution_count": null,
      "outputs": []
    },
    {
      "cell_type": "markdown",
      "source": [
        "# **Importar Base 2021**"
      ],
      "metadata": {
        "id": "gH-3IGXK0MT3"
      }
    },
    {
      "cell_type": "code",
      "source": [
        "df_ft = pd.read_csv('/content/drive/MyDrive/MBA_TCC/DADOS/df_ft_2021.csv',sep=',',encoding='ISO-8859-1')\n",
        "df_ft.shape"
      ],
      "metadata": {
        "colab": {
          "base_uri": "https://localhost:8080/"
        },
        "id": "8IA_ob080QPp",
        "outputId": "4e77cc36-5802-42a3-e863-aaf54f9928f5"
      },
      "execution_count": null,
      "outputs": [
        {
          "output_type": "execute_result",
          "data": {
            "text/plain": [
              "(1864223, 51)"
            ]
          },
          "metadata": {},
          "execution_count": 5
        }
      ]
    },
    {
      "cell_type": "code",
      "source": [
        "df_ft.info()"
      ],
      "metadata": {
        "colab": {
          "base_uri": "https://localhost:8080/"
        },
        "id": "9fyVyre10Wx5",
        "outputId": "20144b58-c497-4759-c783-a2c10deb9164"
      },
      "execution_count": null,
      "outputs": [
        {
          "output_type": "stream",
          "name": "stdout",
          "text": [
            "<class 'pandas.core.frame.DataFrame'>\n",
            "RangeIndex: 1864223 entries, 0 to 1864222\n",
            "Data columns (total 51 columns):\n",
            " #   Column              Dtype  \n",
            "---  ------              -----  \n",
            " 0   NU_INSCRICAO        int64  \n",
            " 1   NU_ANO              int64  \n",
            " 2   TP_FAIXA_ETARIA     int64  \n",
            " 3   TP_SEXO             object \n",
            " 4   TP_ESTADO_CIVIL     int64  \n",
            " 5   TP_COR_RACA         int64  \n",
            " 6   TP_ST_CONCLUSAO     int64  \n",
            " 7   TP_ANO_CONCLUIU     int64  \n",
            " 8   TP_ESCOLA           int64  \n",
            " 9   TP_ENSINO           int64  \n",
            " 10  CO_MUNICIPIO_ESC    float64\n",
            " 11  NO_MUNICIPIO_ESC    object \n",
            " 12  SG_UF_ESC           object \n",
            " 13  TP_LOCALIZACAO_ESC  int64  \n",
            " 14  CO_MUNICIPIO_PROVA  float64\n",
            " 15  NO_MUNICIPIO_PROVA  object \n",
            " 16  SG_UF_PROVA         object \n",
            " 17  NU_NOTA_CN          float64\n",
            " 18  NU_NOTA_CH          float64\n",
            " 19  NU_NOTA_LC          float64\n",
            " 20  NU_NOTA_MT          float64\n",
            " 21  TP_LINGUA           int64  \n",
            " 22  NU_NOTA_REDACAO     float64\n",
            " 23  Q001                object \n",
            " 24  Q002                object \n",
            " 25  Q003                object \n",
            " 26  Q004                object \n",
            " 27  Q005                float64\n",
            " 28  Q006                object \n",
            " 29  Q007                object \n",
            " 30  Q008                object \n",
            " 31  Q009                object \n",
            " 32  Q010                object \n",
            " 33  Q011                object \n",
            " 34  Q012                object \n",
            " 35  Q013                object \n",
            " 36  Q014                object \n",
            " 37  Q015                object \n",
            " 38  Q016                object \n",
            " 39  Q017                object \n",
            " 40  Q018                object \n",
            " 41  Q019                object \n",
            " 42  Q020                object \n",
            " 43  Q021                object \n",
            " 44  Q022                object \n",
            " 45  Q023                object \n",
            " 46  Q024                object \n",
            " 47  Q025                object \n",
            " 48  Sum_Target          int64  \n",
            " 49  Sum_Target_2        int64  \n",
            " 50  Sum_Target_3        int64  \n",
            "dtypes: float64(8), int64(14), object(29)\n",
            "memory usage: 725.4+ MB\n"
          ]
        }
      ]
    },
    {
      "cell_type": "code",
      "source": [
        "df_ft.head()"
      ],
      "metadata": {
        "colab": {
          "base_uri": "https://localhost:8080/",
          "height": 300
        },
        "id": "pd5hCXFqTTne",
        "outputId": "d0d8b8bb-d470-4d5e-fbbd-990be20d91cd"
      },
      "execution_count": null,
      "outputs": [
        {
          "output_type": "execute_result",
          "data": {
            "text/plain": [
              "   NU_INSCRICAO  NU_ANO  TP_FAIXA_ETARIA TP_SEXO  TP_ESTADO_CIVIL  \\\n",
              "0  210052384164    2021               12       M                1   \n",
              "1  210052128335    2021                3       M                1   \n",
              "2  210051353021    2021                2       F                1   \n",
              "3  210053417016    2021                8       F                1   \n",
              "4  210051128744    2021                4       F                1   \n",
              "\n",
              "   TP_COR_RACA  TP_ST_CONCLUSAO  TP_ANO_CONCLUIU  TP_ESCOLA  TP_ENSINO  ...  \\\n",
              "0            1                1               11          1          9  ...   \n",
              "1            3                2                0          2          1  ...   \n",
              "2            3                2                0          2          1  ...   \n",
              "3            3                2                0          2          9  ...   \n",
              "4            3                2                0          2          1  ...   \n",
              "\n",
              "   Q019 Q020 Q021  Q022  Q023 Q024 Q025  Sum_Target  Sum_Target_2  \\\n",
              "0     B    A    A     C     A    A    A           2             0   \n",
              "1     B    A    A     B     A    B    B           5             1   \n",
              "2     B    A    B     E     A    B    B           4             1   \n",
              "3     B    A    A     B     A    A    B           1             0   \n",
              "4     C    B    A     C     A    A    B           2             0   \n",
              "\n",
              "   Sum_Target_3  \n",
              "0             1  \n",
              "1             2  \n",
              "2             2  \n",
              "3             0  \n",
              "4             1  \n",
              "\n",
              "[5 rows x 51 columns]"
            ],
            "text/html": [
              "\n",
              "  <div id=\"df-4764e033-b942-4365-b246-3bddbaf3caec\">\n",
              "    <div class=\"colab-df-container\">\n",
              "      <div>\n",
              "<style scoped>\n",
              "    .dataframe tbody tr th:only-of-type {\n",
              "        vertical-align: middle;\n",
              "    }\n",
              "\n",
              "    .dataframe tbody tr th {\n",
              "        vertical-align: top;\n",
              "    }\n",
              "\n",
              "    .dataframe thead th {\n",
              "        text-align: right;\n",
              "    }\n",
              "</style>\n",
              "<table border=\"1\" class=\"dataframe\">\n",
              "  <thead>\n",
              "    <tr style=\"text-align: right;\">\n",
              "      <th></th>\n",
              "      <th>NU_INSCRICAO</th>\n",
              "      <th>NU_ANO</th>\n",
              "      <th>TP_FAIXA_ETARIA</th>\n",
              "      <th>TP_SEXO</th>\n",
              "      <th>TP_ESTADO_CIVIL</th>\n",
              "      <th>TP_COR_RACA</th>\n",
              "      <th>TP_ST_CONCLUSAO</th>\n",
              "      <th>TP_ANO_CONCLUIU</th>\n",
              "      <th>TP_ESCOLA</th>\n",
              "      <th>TP_ENSINO</th>\n",
              "      <th>...</th>\n",
              "      <th>Q019</th>\n",
              "      <th>Q020</th>\n",
              "      <th>Q021</th>\n",
              "      <th>Q022</th>\n",
              "      <th>Q023</th>\n",
              "      <th>Q024</th>\n",
              "      <th>Q025</th>\n",
              "      <th>Sum_Target</th>\n",
              "      <th>Sum_Target_2</th>\n",
              "      <th>Sum_Target_3</th>\n",
              "    </tr>\n",
              "  </thead>\n",
              "  <tbody>\n",
              "    <tr>\n",
              "      <th>0</th>\n",
              "      <td>210052384164</td>\n",
              "      <td>2021</td>\n",
              "      <td>12</td>\n",
              "      <td>M</td>\n",
              "      <td>1</td>\n",
              "      <td>1</td>\n",
              "      <td>1</td>\n",
              "      <td>11</td>\n",
              "      <td>1</td>\n",
              "      <td>9</td>\n",
              "      <td>...</td>\n",
              "      <td>B</td>\n",
              "      <td>A</td>\n",
              "      <td>A</td>\n",
              "      <td>C</td>\n",
              "      <td>A</td>\n",
              "      <td>A</td>\n",
              "      <td>A</td>\n",
              "      <td>2</td>\n",
              "      <td>0</td>\n",
              "      <td>1</td>\n",
              "    </tr>\n",
              "    <tr>\n",
              "      <th>1</th>\n",
              "      <td>210052128335</td>\n",
              "      <td>2021</td>\n",
              "      <td>3</td>\n",
              "      <td>M</td>\n",
              "      <td>1</td>\n",
              "      <td>3</td>\n",
              "      <td>2</td>\n",
              "      <td>0</td>\n",
              "      <td>2</td>\n",
              "      <td>1</td>\n",
              "      <td>...</td>\n",
              "      <td>B</td>\n",
              "      <td>A</td>\n",
              "      <td>A</td>\n",
              "      <td>B</td>\n",
              "      <td>A</td>\n",
              "      <td>B</td>\n",
              "      <td>B</td>\n",
              "      <td>5</td>\n",
              "      <td>1</td>\n",
              "      <td>2</td>\n",
              "    </tr>\n",
              "    <tr>\n",
              "      <th>2</th>\n",
              "      <td>210051353021</td>\n",
              "      <td>2021</td>\n",
              "      <td>2</td>\n",
              "      <td>F</td>\n",
              "      <td>1</td>\n",
              "      <td>3</td>\n",
              "      <td>2</td>\n",
              "      <td>0</td>\n",
              "      <td>2</td>\n",
              "      <td>1</td>\n",
              "      <td>...</td>\n",
              "      <td>B</td>\n",
              "      <td>A</td>\n",
              "      <td>B</td>\n",
              "      <td>E</td>\n",
              "      <td>A</td>\n",
              "      <td>B</td>\n",
              "      <td>B</td>\n",
              "      <td>4</td>\n",
              "      <td>1</td>\n",
              "      <td>2</td>\n",
              "    </tr>\n",
              "    <tr>\n",
              "      <th>3</th>\n",
              "      <td>210053417016</td>\n",
              "      <td>2021</td>\n",
              "      <td>8</td>\n",
              "      <td>F</td>\n",
              "      <td>1</td>\n",
              "      <td>3</td>\n",
              "      <td>2</td>\n",
              "      <td>0</td>\n",
              "      <td>2</td>\n",
              "      <td>9</td>\n",
              "      <td>...</td>\n",
              "      <td>B</td>\n",
              "      <td>A</td>\n",
              "      <td>A</td>\n",
              "      <td>B</td>\n",
              "      <td>A</td>\n",
              "      <td>A</td>\n",
              "      <td>B</td>\n",
              "      <td>1</td>\n",
              "      <td>0</td>\n",
              "      <td>0</td>\n",
              "    </tr>\n",
              "    <tr>\n",
              "      <th>4</th>\n",
              "      <td>210051128744</td>\n",
              "      <td>2021</td>\n",
              "      <td>4</td>\n",
              "      <td>F</td>\n",
              "      <td>1</td>\n",
              "      <td>3</td>\n",
              "      <td>2</td>\n",
              "      <td>0</td>\n",
              "      <td>2</td>\n",
              "      <td>1</td>\n",
              "      <td>...</td>\n",
              "      <td>C</td>\n",
              "      <td>B</td>\n",
              "      <td>A</td>\n",
              "      <td>C</td>\n",
              "      <td>A</td>\n",
              "      <td>A</td>\n",
              "      <td>B</td>\n",
              "      <td>2</td>\n",
              "      <td>0</td>\n",
              "      <td>1</td>\n",
              "    </tr>\n",
              "  </tbody>\n",
              "</table>\n",
              "<p>5 rows × 51 columns</p>\n",
              "</div>\n",
              "      <button class=\"colab-df-convert\" onclick=\"convertToInteractive('df-4764e033-b942-4365-b246-3bddbaf3caec')\"\n",
              "              title=\"Convert this dataframe to an interactive table.\"\n",
              "              style=\"display:none;\">\n",
              "        \n",
              "  <svg xmlns=\"http://www.w3.org/2000/svg\" height=\"24px\"viewBox=\"0 0 24 24\"\n",
              "       width=\"24px\">\n",
              "    <path d=\"M0 0h24v24H0V0z\" fill=\"none\"/>\n",
              "    <path d=\"M18.56 5.44l.94 2.06.94-2.06 2.06-.94-2.06-.94-.94-2.06-.94 2.06-2.06.94zm-11 1L8.5 8.5l.94-2.06 2.06-.94-2.06-.94L8.5 2.5l-.94 2.06-2.06.94zm10 10l.94 2.06.94-2.06 2.06-.94-2.06-.94-.94-2.06-.94 2.06-2.06.94z\"/><path d=\"M17.41 7.96l-1.37-1.37c-.4-.4-.92-.59-1.43-.59-.52 0-1.04.2-1.43.59L10.3 9.45l-7.72 7.72c-.78.78-.78 2.05 0 2.83L4 21.41c.39.39.9.59 1.41.59.51 0 1.02-.2 1.41-.59l7.78-7.78 2.81-2.81c.8-.78.8-2.07 0-2.86zM5.41 20L4 18.59l7.72-7.72 1.47 1.35L5.41 20z\"/>\n",
              "  </svg>\n",
              "      </button>\n",
              "      \n",
              "  <style>\n",
              "    .colab-df-container {\n",
              "      display:flex;\n",
              "      flex-wrap:wrap;\n",
              "      gap: 12px;\n",
              "    }\n",
              "\n",
              "    .colab-df-convert {\n",
              "      background-color: #E8F0FE;\n",
              "      border: none;\n",
              "      border-radius: 50%;\n",
              "      cursor: pointer;\n",
              "      display: none;\n",
              "      fill: #1967D2;\n",
              "      height: 32px;\n",
              "      padding: 0 0 0 0;\n",
              "      width: 32px;\n",
              "    }\n",
              "\n",
              "    .colab-df-convert:hover {\n",
              "      background-color: #E2EBFA;\n",
              "      box-shadow: 0px 1px 2px rgba(60, 64, 67, 0.3), 0px 1px 3px 1px rgba(60, 64, 67, 0.15);\n",
              "      fill: #174EA6;\n",
              "    }\n",
              "\n",
              "    [theme=dark] .colab-df-convert {\n",
              "      background-color: #3B4455;\n",
              "      fill: #D2E3FC;\n",
              "    }\n",
              "\n",
              "    [theme=dark] .colab-df-convert:hover {\n",
              "      background-color: #434B5C;\n",
              "      box-shadow: 0px 1px 3px 1px rgba(0, 0, 0, 0.15);\n",
              "      filter: drop-shadow(0px 1px 2px rgba(0, 0, 0, 0.3));\n",
              "      fill: #FFFFFF;\n",
              "    }\n",
              "  </style>\n",
              "\n",
              "      <script>\n",
              "        const buttonEl =\n",
              "          document.querySelector('#df-4764e033-b942-4365-b246-3bddbaf3caec button.colab-df-convert');\n",
              "        buttonEl.style.display =\n",
              "          google.colab.kernel.accessAllowed ? 'block' : 'none';\n",
              "\n",
              "        async function convertToInteractive(key) {\n",
              "          const element = document.querySelector('#df-4764e033-b942-4365-b246-3bddbaf3caec');\n",
              "          const dataTable =\n",
              "            await google.colab.kernel.invokeFunction('convertToInteractive',\n",
              "                                                     [key], {});\n",
              "          if (!dataTable) return;\n",
              "\n",
              "          const docLinkHtml = 'Like what you see? Visit the ' +\n",
              "            '<a target=\"_blank\" href=https://colab.research.google.com/notebooks/data_table.ipynb>data table notebook</a>'\n",
              "            + ' to learn more about interactive tables.';\n",
              "          element.innerHTML = '';\n",
              "          dataTable['output_type'] = 'display_data';\n",
              "          await google.colab.output.renderOutput(dataTable, element);\n",
              "          const docLink = document.createElement('div');\n",
              "          docLink.innerHTML = docLinkHtml;\n",
              "          element.appendChild(docLink);\n",
              "        }\n",
              "      </script>\n",
              "    </div>\n",
              "  </div>\n",
              "  "
            ]
          },
          "metadata": {},
          "execution_count": 7
        }
      ]
    },
    {
      "cell_type": "code",
      "source": [
        "df_ft.columns"
      ],
      "metadata": {
        "colab": {
          "base_uri": "https://localhost:8080/"
        },
        "id": "xw2IVuTTdWVs",
        "outputId": "98de78eb-39e1-4448-f4d9-9c383a40f06a"
      },
      "execution_count": null,
      "outputs": [
        {
          "output_type": "execute_result",
          "data": {
            "text/plain": [
              "Index(['NU_INSCRICAO', 'NU_ANO', 'TP_FAIXA_ETARIA', 'TP_SEXO',\n",
              "       'TP_ESTADO_CIVIL', 'TP_COR_RACA', 'TP_ST_CONCLUSAO', 'TP_ANO_CONCLUIU',\n",
              "       'TP_ESCOLA', 'TP_ENSINO', 'CO_MUNICIPIO_ESC', 'NO_MUNICIPIO_ESC',\n",
              "       'SG_UF_ESC', 'TP_LOCALIZACAO_ESC', 'CO_MUNICIPIO_PROVA',\n",
              "       'NO_MUNICIPIO_PROVA', 'SG_UF_PROVA', 'NU_NOTA_CN', 'NU_NOTA_CH',\n",
              "       'NU_NOTA_LC', 'NU_NOTA_MT', 'TP_LINGUA', 'NU_NOTA_REDACAO', 'Q001',\n",
              "       'Q002', 'Q003', 'Q004', 'Q005', 'Q006', 'Q007', 'Q008', 'Q009', 'Q010',\n",
              "       'Q011', 'Q012', 'Q013', 'Q014', 'Q015', 'Q016', 'Q017', 'Q018', 'Q019',\n",
              "       'Q020', 'Q021', 'Q022', 'Q023', 'Q024', 'Q025', 'Sum_Target',\n",
              "       'Sum_Target_2', 'Sum_Target_3'],\n",
              "      dtype='object')"
            ]
          },
          "metadata": {},
          "execution_count": 8
        }
      ]
    },
    {
      "cell_type": "markdown",
      "source": [
        "# **Criação de Variáveis**"
      ],
      "metadata": {
        "id": "_22D8WOQD-UK"
      }
    },
    {
      "cell_type": "markdown",
      "source": [
        "- - Computador/Celular/Internet"
      ],
      "metadata": {
        "id": "hF2OcXNiEnG9"
      }
    },
    {
      "cell_type": "code",
      "source": [
        "df_ft['Ter_Cel'] = np.where(df_ft['Q022'] == 'A', 0, 1)\n",
        "df_ft['Ter_Com'] = np.where(df_ft['Q024'] == 'A', 0, 1)\n",
        "df_ft['Ter_Int'] = np.where(df_ft['Q025'] == 'A', 0, 1)\n",
        "df_ft['Sum_TIC3'] = df_ft['Ter_Cel'] + df_ft['Ter_Com'] + df_ft['Ter_Int']"
      ],
      "metadata": {
        "id": "IMHHFqA3EoYQ"
      },
      "execution_count": null,
      "outputs": []
    },
    {
      "cell_type": "code",
      "source": [
        "df_ft['Ter_Cel'].value_counts().sort_index()"
      ],
      "metadata": {
        "id": "K9CyX7QgE842",
        "colab": {
          "base_uri": "https://localhost:8080/"
        },
        "outputId": "8ed97e0d-68da-4128-f414-535b79985402"
      },
      "execution_count": null,
      "outputs": [
        {
          "output_type": "execute_result",
          "data": {
            "text/plain": [
              "0      32557\n",
              "1    1831666\n",
              "Name: Ter_Cel, dtype: int64"
            ]
          },
          "metadata": {},
          "execution_count": 10
        }
      ]
    },
    {
      "cell_type": "code",
      "source": [
        "df_ft['Ter_Com'].value_counts().sort_index()"
      ],
      "metadata": {
        "id": "WUGPuZ7BE9AT",
        "colab": {
          "base_uri": "https://localhost:8080/"
        },
        "outputId": "73f6cb3a-4c20-44c0-d72d-d2b7589fc5eb"
      },
      "execution_count": null,
      "outputs": [
        {
          "output_type": "execute_result",
          "data": {
            "text/plain": [
              "0     736008\n",
              "1    1128215\n",
              "Name: Ter_Com, dtype: int64"
            ]
          },
          "metadata": {},
          "execution_count": 11
        }
      ]
    },
    {
      "cell_type": "code",
      "source": [
        "df_ft['Ter_Int'].value_counts().sort_index()"
      ],
      "metadata": {
        "id": "VR98ogHfE9G7",
        "colab": {
          "base_uri": "https://localhost:8080/"
        },
        "outputId": "056db5f1-1140-4112-f744-a6628b413456"
      },
      "execution_count": null,
      "outputs": [
        {
          "output_type": "execute_result",
          "data": {
            "text/plain": [
              "0     173143\n",
              "1    1691080\n",
              "Name: Ter_Int, dtype: int64"
            ]
          },
          "metadata": {},
          "execution_count": 12
        }
      ]
    },
    {
      "cell_type": "code",
      "source": [
        "df_ft['Sum_TIC3'].value_counts().sort_index()"
      ],
      "metadata": {
        "id": "GU7xoaMBE9N-",
        "colab": {
          "base_uri": "https://localhost:8080/"
        },
        "outputId": "6739c78c-7ebc-4ccd-c0f6-eadfe6e018c8"
      },
      "execution_count": null,
      "outputs": [
        {
          "output_type": "execute_result",
          "data": {
            "text/plain": [
              "0      10661\n",
              "1     156620\n",
              "2     596485\n",
              "3    1100457\n",
              "Name: Sum_TIC3, dtype: int64"
            ]
          },
          "metadata": {},
          "execution_count": 13
        }
      ]
    },
    {
      "cell_type": "code",
      "source": [
        "df_ft.loc[df_ft.Sum_TIC3 == 0 ,'Sum_TIC3_']='1'\n",
        "df_ft.loc[df_ft.Sum_TIC3 == 1 ,'Sum_TIC3_']='1'\n",
        "df_ft.loc[df_ft.Sum_TIC3 == 2 ,'Sum_TIC3_']='2'\n",
        "df_ft.loc[df_ft.Sum_TIC3 == 3 ,'Sum_TIC3_']='3'"
      ],
      "metadata": {
        "id": "6hRztoEiyIRZ"
      },
      "execution_count": null,
      "outputs": []
    },
    {
      "cell_type": "markdown",
      "source": [
        "- Computador/Celular/Internet/TV/Tel Fixo"
      ],
      "metadata": {
        "id": "5bvj-jgxFDYU"
      }
    },
    {
      "cell_type": "code",
      "source": [
        "df_ft['Ter_TVa'] = np.where(df_ft['Q021'] == 'A', 0, 1)\n",
        "df_ft['Ter_TFi'] = np.where(df_ft['Q023'] == 'A', 0, 1)\n",
        "df_ft['Sum_TIC5'] = df_ft['Ter_Cel'] + df_ft['Ter_Com'] + df_ft['Ter_Int'] + df_ft['Ter_TVa'] + df_ft['Ter_TFi']\n"
      ],
      "metadata": {
        "id": "n0-HpcqXFZi1"
      },
      "execution_count": null,
      "outputs": []
    },
    {
      "cell_type": "code",
      "source": [
        "df_ft['Ter_TVa'].value_counts().sort_index()"
      ],
      "metadata": {
        "id": "_DVNmJRrFZq4",
        "colab": {
          "base_uri": "https://localhost:8080/"
        },
        "outputId": "5470c390-60a9-4a15-ff44-ff6e503c18ba"
      },
      "execution_count": null,
      "outputs": [
        {
          "output_type": "execute_result",
          "data": {
            "text/plain": [
              "0    1440448\n",
              "1     423775\n",
              "Name: Ter_TVa, dtype: int64"
            ]
          },
          "metadata": {},
          "execution_count": 16
        }
      ]
    },
    {
      "cell_type": "code",
      "source": [
        "df_ft['Ter_TFi'].value_counts().sort_index()"
      ],
      "metadata": {
        "id": "ASr-QJd-FZx9",
        "colab": {
          "base_uri": "https://localhost:8080/"
        },
        "outputId": "f9c3d6b6-71bb-4b8b-f8c7-83d5ce39c41b"
      },
      "execution_count": null,
      "outputs": [
        {
          "output_type": "execute_result",
          "data": {
            "text/plain": [
              "0    1549957\n",
              "1     314266\n",
              "Name: Ter_TFi, dtype: int64"
            ]
          },
          "metadata": {},
          "execution_count": 17
        }
      ]
    },
    {
      "cell_type": "code",
      "source": [
        "df_ft['Sum_TIC5'].value_counts().sort_index()"
      ],
      "metadata": {
        "id": "Dx0wHQCYFZ48",
        "colab": {
          "base_uri": "https://localhost:8080/"
        },
        "outputId": "7634687d-3e31-40f2-c586-e191b37fba0b"
      },
      "execution_count": null,
      "outputs": [
        {
          "output_type": "execute_result",
          "data": {
            "text/plain": [
              "0     10339\n",
              "1    149581\n",
              "2    504528\n",
              "3    704602\n",
              "4    359306\n",
              "5    135867\n",
              "Name: Sum_TIC5, dtype: int64"
            ]
          },
          "metadata": {},
          "execution_count": 18
        }
      ]
    },
    {
      "cell_type": "code",
      "source": [
        "df_ft.loc[df_ft.Sum_TIC5 == 0 ,'Sum_TIC5_']='1'\n",
        "df_ft.loc[df_ft.Sum_TIC5 == 1 ,'Sum_TIC5_']='1'\n",
        "df_ft.loc[df_ft.Sum_TIC5 == 2 ,'Sum_TIC5_']='2'\n",
        "df_ft.loc[df_ft.Sum_TIC5 == 3 ,'Sum_TIC5_']='3'\n",
        "df_ft.loc[df_ft.Sum_TIC5 == 4 ,'Sum_TIC5_']='4'\n",
        "df_ft.loc[df_ft.Sum_TIC5 == 5 ,'Sum_TIC5_']='5'"
      ],
      "metadata": {
        "id": "hRBIqcIFylf_"
      },
      "execution_count": null,
      "outputs": []
    },
    {
      "cell_type": "markdown",
      "source": [
        "- Qtde de Eletrodomésticos"
      ],
      "metadata": {
        "id": "3Rf00n9PFkLz"
      }
    },
    {
      "cell_type": "code",
      "source": [
        "df_ft['Ter_Gel'] = np.where(df_ft['Q012'] == 'A', 0, 1)\n",
        "df_ft['Ter_Fre'] = np.where(df_ft['Q013'] == 'A', 0, 1)\n",
        "df_ft['Ter_LvR'] = np.where(df_ft['Q014'] == 'A', 0, 1)\n",
        "df_ft['Ter_ScR'] = np.where(df_ft['Q015'] == 'A', 0, 1)\n",
        "df_ft['Ter_Mio'] = np.where(df_ft['Q016'] == 'A', 0, 1)\n",
        "df_ft['Ter_LvL'] = np.where(df_ft['Q017'] == 'A', 0, 1)\n",
        "df_ft['Ter_Asp'] = np.where(df_ft['Q018'] == 'A', 0, 1)\n",
        "df_ft['Ter_TV'] = np.where(df_ft['Q019'] == 'A', 0, 1)\n",
        "df_ft['Ter_DVD'] = np.where(df_ft['Q020'] == 'A', 0, 1)\n",
        "df_ft['Sum_Elet'] = df_ft['Ter_Gel'] + df_ft['Ter_Fre'] + df_ft['Ter_LvR'] + df_ft['Ter_ScR'] + df_ft['Ter_Mio'] + df_ft['Ter_LvL'] + df_ft['Ter_Asp'] + df_ft['Ter_TV'] + df_ft['Ter_DVD']"
      ],
      "metadata": {
        "id": "DDQmxi3KFkaf"
      },
      "execution_count": null,
      "outputs": []
    },
    {
      "cell_type": "code",
      "source": [
        "df_ft['Ter_Gel'].value_counts().sort_index()"
      ],
      "metadata": {
        "id": "azQ6qenTFkhG",
        "colab": {
          "base_uri": "https://localhost:8080/"
        },
        "outputId": "7ed98b9e-33e3-4073-87d0-6cbe1905e7d1"
      },
      "execution_count": null,
      "outputs": [
        {
          "output_type": "execute_result",
          "data": {
            "text/plain": [
              "0      20850\n",
              "1    1843373\n",
              "Name: Ter_Gel, dtype: int64"
            ]
          },
          "metadata": {},
          "execution_count": 21
        }
      ]
    },
    {
      "cell_type": "code",
      "source": [
        "df_ft['Ter_Fre'].value_counts().sort_index()"
      ],
      "metadata": {
        "id": "lqBg7QseFkny",
        "colab": {
          "base_uri": "https://localhost:8080/"
        },
        "outputId": "23c92735-5416-4803-e2b3-7ad506845984"
      },
      "execution_count": null,
      "outputs": [
        {
          "output_type": "execute_result",
          "data": {
            "text/plain": [
              "0    993334\n",
              "1    870889\n",
              "Name: Ter_Fre, dtype: int64"
            ]
          },
          "metadata": {},
          "execution_count": 22
        }
      ]
    },
    {
      "cell_type": "code",
      "source": [
        "df_ft['Ter_LvR'].value_counts().sort_index()"
      ],
      "metadata": {
        "id": "ls7WBX3tFku5",
        "colab": {
          "base_uri": "https://localhost:8080/"
        },
        "outputId": "b97d110d-cf2e-41c3-fe7f-4d81706476c4"
      },
      "execution_count": null,
      "outputs": [
        {
          "output_type": "execute_result",
          "data": {
            "text/plain": [
              "0     662972\n",
              "1    1201251\n",
              "Name: Ter_LvR, dtype: int64"
            ]
          },
          "metadata": {},
          "execution_count": 23
        }
      ]
    },
    {
      "cell_type": "code",
      "source": [
        "df_ft['Ter_ScR'].value_counts().sort_index()"
      ],
      "metadata": {
        "id": "VkV0O2DlGBRO",
        "colab": {
          "base_uri": "https://localhost:8080/"
        },
        "outputId": "d3f3c275-f8bb-4ed7-826c-0074174734e5"
      },
      "execution_count": null,
      "outputs": [
        {
          "output_type": "execute_result",
          "data": {
            "text/plain": [
              "0    1625824\n",
              "1     238399\n",
              "Name: Ter_ScR, dtype: int64"
            ]
          },
          "metadata": {},
          "execution_count": 24
        }
      ]
    },
    {
      "cell_type": "code",
      "source": [
        "df_ft['Ter_Mio'].value_counts().sort_index()"
      ],
      "metadata": {
        "id": "CLczRd4lGBUd",
        "colab": {
          "base_uri": "https://localhost:8080/"
        },
        "outputId": "5b6608a3-c4a7-47e8-b890-1834ad095836"
      },
      "execution_count": null,
      "outputs": [
        {
          "output_type": "execute_result",
          "data": {
            "text/plain": [
              "0    887751\n",
              "1    976472\n",
              "Name: Ter_Mio, dtype: int64"
            ]
          },
          "metadata": {},
          "execution_count": 25
        }
      ]
    },
    {
      "cell_type": "code",
      "source": [
        "df_ft['Ter_LvL'].value_counts().sort_index()"
      ],
      "metadata": {
        "id": "Sxj1NSDiGBYE",
        "colab": {
          "base_uri": "https://localhost:8080/"
        },
        "outputId": "d2f2872e-744d-4866-f4c2-5d193ab44dea"
      },
      "execution_count": null,
      "outputs": [
        {
          "output_type": "execute_result",
          "data": {
            "text/plain": [
              "0    1805409\n",
              "1      58814\n",
              "Name: Ter_LvL, dtype: int64"
            ]
          },
          "metadata": {},
          "execution_count": 26
        }
      ]
    },
    {
      "cell_type": "code",
      "source": [
        "df_ft['Ter_Asp'].value_counts().sort_index()"
      ],
      "metadata": {
        "id": "QGtjNeeSGBba",
        "colab": {
          "base_uri": "https://localhost:8080/"
        },
        "outputId": "5feaa367-1bf2-4397-f085-ecb1e552a877"
      },
      "execution_count": null,
      "outputs": [
        {
          "output_type": "execute_result",
          "data": {
            "text/plain": [
              "0    1391768\n",
              "1     472455\n",
              "Name: Ter_Asp, dtype: int64"
            ]
          },
          "metadata": {},
          "execution_count": 27
        }
      ]
    },
    {
      "cell_type": "code",
      "source": [
        "df_ft['Ter_TV'].value_counts().sort_index()"
      ],
      "metadata": {
        "id": "g5dORvo7GBeV",
        "colab": {
          "base_uri": "https://localhost:8080/"
        },
        "outputId": "312ee655-9606-4199-b64b-41d693de9f31"
      },
      "execution_count": null,
      "outputs": [
        {
          "output_type": "execute_result",
          "data": {
            "text/plain": [
              "0      87171\n",
              "1    1777052\n",
              "Name: Ter_TV, dtype: int64"
            ]
          },
          "metadata": {},
          "execution_count": 28
        }
      ]
    },
    {
      "cell_type": "code",
      "source": [
        "df_ft['Ter_DVD'].value_counts().sort_index()"
      ],
      "metadata": {
        "id": "agxbobGGGBhr",
        "colab": {
          "base_uri": "https://localhost:8080/"
        },
        "outputId": "5050803c-f275-4632-d3ce-8c2e1191c65f"
      },
      "execution_count": null,
      "outputs": [
        {
          "output_type": "execute_result",
          "data": {
            "text/plain": [
              "0    1489388\n",
              "1     374835\n",
              "Name: Ter_DVD, dtype: int64"
            ]
          },
          "metadata": {},
          "execution_count": 29
        }
      ]
    },
    {
      "cell_type": "code",
      "source": [
        "df_ft['Sum_Elet'].value_counts().sort_index()"
      ],
      "metadata": {
        "id": "OY7_2uZ7GDkv",
        "colab": {
          "base_uri": "https://localhost:8080/"
        },
        "outputId": "a981376e-e34a-4993-e479-04c7bc2dc8a3"
      },
      "execution_count": null,
      "outputs": [
        {
          "output_type": "execute_result",
          "data": {
            "text/plain": [
              "0      7025\n",
              "1     42811\n",
              "2    347195\n",
              "3    338771\n",
              "4    338761\n",
              "5    323523\n",
              "6    255571\n",
              "7    144830\n",
              "8     51493\n",
              "9     14243\n",
              "Name: Sum_Elet, dtype: int64"
            ]
          },
          "metadata": {},
          "execution_count": 30
        }
      ]
    },
    {
      "cell_type": "code",
      "source": [
        "df_ft.loc[df_ft.Sum_Elet == 0 ,'Sum_Elet_']='1'\n",
        "df_ft.loc[df_ft.Sum_Elet == 1 ,'Sum_Elet_']='1'\n",
        "df_ft.loc[df_ft.Sum_Elet == 2 ,'Sum_Elet_']='2'\n",
        "df_ft.loc[df_ft.Sum_Elet == 3 ,'Sum_Elet_']='3'\n",
        "df_ft.loc[df_ft.Sum_Elet == 4 ,'Sum_Elet_']='4'\n",
        "df_ft.loc[df_ft.Sum_Elet == 5 ,'Sum_Elet_']='5'\n",
        "df_ft.loc[df_ft.Sum_Elet == 6 ,'Sum_Elet_']='6'\n",
        "df_ft.loc[df_ft.Sum_Elet == 7 ,'Sum_Elet_']='7'\n",
        "df_ft.loc[df_ft.Sum_Elet == 8 ,'Sum_Elet_']='8'\n",
        "df_ft.loc[df_ft.Sum_Elet == 9 ,'Sum_Elet_']='8'"
      ],
      "metadata": {
        "id": "7CVcoKzJI_So"
      },
      "execution_count": null,
      "outputs": []
    },
    {
      "cell_type": "markdown",
      "source": [
        "- Escolaridade máxima de pelo menos um dos pais"
      ],
      "metadata": {
        "id": "eAKWkMioW51V"
      }
    },
    {
      "cell_type": "code",
      "source": [
        "df_ft['Q001_'] = np.where(df_ft['Q001'] == 'H', ' ', df_ft.Q001)\n",
        "df_ft['Q002_'] = np.where(df_ft['Q002'] == 'H', ' ', df_ft.Q002)\n",
        "\n",
        "conditionlist = [(df_ft['Q001_'] >= df_ft['Q002_']),\n",
        "                 (df_ft['Q001_'] < df_ft['Q002_'])]\n",
        "choicelist = [df_ft.Q001, df_ft.Q002]\n",
        "df_ft['Esc_Max'] = np.select(conditionlist, choicelist, default='Not Specified')\n",
        "display(df_ft.Esc_Max.value_counts().sort_index())"
      ],
      "metadata": {
        "colab": {
          "base_uri": "https://localhost:8080/",
          "height": 173
        },
        "id": "-JzwkkKVW_Rf",
        "outputId": "14833eaa-60a1-421e-d5ca-ebd2a82525a6"
      },
      "execution_count": null,
      "outputs": [
        {
          "output_type": "display_data",
          "data": {
            "text/plain": [
              "A     27468\n",
              "B    178461\n",
              "C    170087\n",
              "D    193170\n",
              "E    691653\n",
              "F    291195\n",
              "G    282881\n",
              "H     29308\n",
              "Name: Esc_Max, dtype: int64"
            ]
          },
          "metadata": {}
        }
      ]
    },
    {
      "cell_type": "code",
      "source": [
        "df_valid = df_ft[['Q001','Q002','Q001_','Q002_','Esc_Max','NU_INSCRICAO']].loc[(df_ft['Q001'] == 'H') | (df_ft['Q002'] == 'H')].head(10)\n",
        "df_valid"
      ],
      "metadata": {
        "colab": {
          "base_uri": "https://localhost:8080/",
          "height": 363
        },
        "id": "6T1k0QhzW6Ng",
        "outputId": "15a24f43-e599-40a0-8c82-c747ac905835"
      },
      "execution_count": null,
      "outputs": [
        {
          "output_type": "execute_result",
          "data": {
            "text/plain": [
              "    Q001 Q002 Q001_ Q002_ Esc_Max  NU_INSCRICAO\n",
              "18     H    E           E       E  210052350230\n",
              "31     H    E           E       E  210054349027\n",
              "34     H    E           E       E  210052916275\n",
              "43     H    E           E       E  210052720953\n",
              "100    H    B           B       B  210054443236\n",
              "104    H    B           B       B  210052602690\n",
              "130    H    H                   H  210052918028\n",
              "136    H    E           E       E  210052100508\n",
              "138    H    B           B       B  210053975674\n",
              "165    H    H                   H  210052236680"
            ],
            "text/html": [
              "\n",
              "  <div id=\"df-4180dc40-0233-4333-a206-b6139874dc93\">\n",
              "    <div class=\"colab-df-container\">\n",
              "      <div>\n",
              "<style scoped>\n",
              "    .dataframe tbody tr th:only-of-type {\n",
              "        vertical-align: middle;\n",
              "    }\n",
              "\n",
              "    .dataframe tbody tr th {\n",
              "        vertical-align: top;\n",
              "    }\n",
              "\n",
              "    .dataframe thead th {\n",
              "        text-align: right;\n",
              "    }\n",
              "</style>\n",
              "<table border=\"1\" class=\"dataframe\">\n",
              "  <thead>\n",
              "    <tr style=\"text-align: right;\">\n",
              "      <th></th>\n",
              "      <th>Q001</th>\n",
              "      <th>Q002</th>\n",
              "      <th>Q001_</th>\n",
              "      <th>Q002_</th>\n",
              "      <th>Esc_Max</th>\n",
              "      <th>NU_INSCRICAO</th>\n",
              "    </tr>\n",
              "  </thead>\n",
              "  <tbody>\n",
              "    <tr>\n",
              "      <th>18</th>\n",
              "      <td>H</td>\n",
              "      <td>E</td>\n",
              "      <td></td>\n",
              "      <td>E</td>\n",
              "      <td>E</td>\n",
              "      <td>210052350230</td>\n",
              "    </tr>\n",
              "    <tr>\n",
              "      <th>31</th>\n",
              "      <td>H</td>\n",
              "      <td>E</td>\n",
              "      <td></td>\n",
              "      <td>E</td>\n",
              "      <td>E</td>\n",
              "      <td>210054349027</td>\n",
              "    </tr>\n",
              "    <tr>\n",
              "      <th>34</th>\n",
              "      <td>H</td>\n",
              "      <td>E</td>\n",
              "      <td></td>\n",
              "      <td>E</td>\n",
              "      <td>E</td>\n",
              "      <td>210052916275</td>\n",
              "    </tr>\n",
              "    <tr>\n",
              "      <th>43</th>\n",
              "      <td>H</td>\n",
              "      <td>E</td>\n",
              "      <td></td>\n",
              "      <td>E</td>\n",
              "      <td>E</td>\n",
              "      <td>210052720953</td>\n",
              "    </tr>\n",
              "    <tr>\n",
              "      <th>100</th>\n",
              "      <td>H</td>\n",
              "      <td>B</td>\n",
              "      <td></td>\n",
              "      <td>B</td>\n",
              "      <td>B</td>\n",
              "      <td>210054443236</td>\n",
              "    </tr>\n",
              "    <tr>\n",
              "      <th>104</th>\n",
              "      <td>H</td>\n",
              "      <td>B</td>\n",
              "      <td></td>\n",
              "      <td>B</td>\n",
              "      <td>B</td>\n",
              "      <td>210052602690</td>\n",
              "    </tr>\n",
              "    <tr>\n",
              "      <th>130</th>\n",
              "      <td>H</td>\n",
              "      <td>H</td>\n",
              "      <td></td>\n",
              "      <td></td>\n",
              "      <td>H</td>\n",
              "      <td>210052918028</td>\n",
              "    </tr>\n",
              "    <tr>\n",
              "      <th>136</th>\n",
              "      <td>H</td>\n",
              "      <td>E</td>\n",
              "      <td></td>\n",
              "      <td>E</td>\n",
              "      <td>E</td>\n",
              "      <td>210052100508</td>\n",
              "    </tr>\n",
              "    <tr>\n",
              "      <th>138</th>\n",
              "      <td>H</td>\n",
              "      <td>B</td>\n",
              "      <td></td>\n",
              "      <td>B</td>\n",
              "      <td>B</td>\n",
              "      <td>210053975674</td>\n",
              "    </tr>\n",
              "    <tr>\n",
              "      <th>165</th>\n",
              "      <td>H</td>\n",
              "      <td>H</td>\n",
              "      <td></td>\n",
              "      <td></td>\n",
              "      <td>H</td>\n",
              "      <td>210052236680</td>\n",
              "    </tr>\n",
              "  </tbody>\n",
              "</table>\n",
              "</div>\n",
              "      <button class=\"colab-df-convert\" onclick=\"convertToInteractive('df-4180dc40-0233-4333-a206-b6139874dc93')\"\n",
              "              title=\"Convert this dataframe to an interactive table.\"\n",
              "              style=\"display:none;\">\n",
              "        \n",
              "  <svg xmlns=\"http://www.w3.org/2000/svg\" height=\"24px\"viewBox=\"0 0 24 24\"\n",
              "       width=\"24px\">\n",
              "    <path d=\"M0 0h24v24H0V0z\" fill=\"none\"/>\n",
              "    <path d=\"M18.56 5.44l.94 2.06.94-2.06 2.06-.94-2.06-.94-.94-2.06-.94 2.06-2.06.94zm-11 1L8.5 8.5l.94-2.06 2.06-.94-2.06-.94L8.5 2.5l-.94 2.06-2.06.94zm10 10l.94 2.06.94-2.06 2.06-.94-2.06-.94-.94-2.06-.94 2.06-2.06.94z\"/><path d=\"M17.41 7.96l-1.37-1.37c-.4-.4-.92-.59-1.43-.59-.52 0-1.04.2-1.43.59L10.3 9.45l-7.72 7.72c-.78.78-.78 2.05 0 2.83L4 21.41c.39.39.9.59 1.41.59.51 0 1.02-.2 1.41-.59l7.78-7.78 2.81-2.81c.8-.78.8-2.07 0-2.86zM5.41 20L4 18.59l7.72-7.72 1.47 1.35L5.41 20z\"/>\n",
              "  </svg>\n",
              "      </button>\n",
              "      \n",
              "  <style>\n",
              "    .colab-df-container {\n",
              "      display:flex;\n",
              "      flex-wrap:wrap;\n",
              "      gap: 12px;\n",
              "    }\n",
              "\n",
              "    .colab-df-convert {\n",
              "      background-color: #E8F0FE;\n",
              "      border: none;\n",
              "      border-radius: 50%;\n",
              "      cursor: pointer;\n",
              "      display: none;\n",
              "      fill: #1967D2;\n",
              "      height: 32px;\n",
              "      padding: 0 0 0 0;\n",
              "      width: 32px;\n",
              "    }\n",
              "\n",
              "    .colab-df-convert:hover {\n",
              "      background-color: #E2EBFA;\n",
              "      box-shadow: 0px 1px 2px rgba(60, 64, 67, 0.3), 0px 1px 3px 1px rgba(60, 64, 67, 0.15);\n",
              "      fill: #174EA6;\n",
              "    }\n",
              "\n",
              "    [theme=dark] .colab-df-convert {\n",
              "      background-color: #3B4455;\n",
              "      fill: #D2E3FC;\n",
              "    }\n",
              "\n",
              "    [theme=dark] .colab-df-convert:hover {\n",
              "      background-color: #434B5C;\n",
              "      box-shadow: 0px 1px 3px 1px rgba(0, 0, 0, 0.15);\n",
              "      filter: drop-shadow(0px 1px 2px rgba(0, 0, 0, 0.3));\n",
              "      fill: #FFFFFF;\n",
              "    }\n",
              "  </style>\n",
              "\n",
              "      <script>\n",
              "        const buttonEl =\n",
              "          document.querySelector('#df-4180dc40-0233-4333-a206-b6139874dc93 button.colab-df-convert');\n",
              "        buttonEl.style.display =\n",
              "          google.colab.kernel.accessAllowed ? 'block' : 'none';\n",
              "\n",
              "        async function convertToInteractive(key) {\n",
              "          const element = document.querySelector('#df-4180dc40-0233-4333-a206-b6139874dc93');\n",
              "          const dataTable =\n",
              "            await google.colab.kernel.invokeFunction('convertToInteractive',\n",
              "                                                     [key], {});\n",
              "          if (!dataTable) return;\n",
              "\n",
              "          const docLinkHtml = 'Like what you see? Visit the ' +\n",
              "            '<a target=\"_blank\" href=https://colab.research.google.com/notebooks/data_table.ipynb>data table notebook</a>'\n",
              "            + ' to learn more about interactive tables.';\n",
              "          element.innerHTML = '';\n",
              "          dataTable['output_type'] = 'display_data';\n",
              "          await google.colab.output.renderOutput(dataTable, element);\n",
              "          const docLink = document.createElement('div');\n",
              "          docLink.innerHTML = docLinkHtml;\n",
              "          element.appendChild(docLink);\n",
              "        }\n",
              "      </script>\n",
              "    </div>\n",
              "  </div>\n",
              "  "
            ]
          },
          "metadata": {},
          "execution_count": 33
        }
      ]
    },
    {
      "cell_type": "markdown",
      "source": [
        "- Carro e Moto"
      ],
      "metadata": {
        "id": "8yRVXiwLXD5B"
      }
    },
    {
      "cell_type": "code",
      "source": [
        "df_ft['Q010_'] = np.where((df_ft['Q010'] == 'D') | (df_ft['Q010'] == 'E'), 'C', df_ft.Q010)\n",
        "df_ft['Q011_'] = np.where((df_ft['Q011'] == 'D') | (df_ft['Q011'] == 'E'), 'C', df_ft.Q011)\n",
        "\n",
        "conditionlist = [(df_ft['Q010_'] == 'A') & (df_ft['Q011_'] == 'A'), # 0 carro e 0 moto\n",
        "                 (df_ft['Q010_'] == 'A') & (df_ft['Q011_'] == 'B'), # 0 carro e 1 moto\n",
        "                 (df_ft['Q010_'] == 'A') & (df_ft['Q011_'] == 'C'), # 0 carro e >1 moto\n",
        "                 (df_ft['Q010_'] == 'B') & (df_ft['Q011_'] == 'A'), # 1 carro e 0 moto\n",
        "                 (df_ft['Q010_'] == 'B') & (df_ft['Q011_'] == 'B'), # 1 carro e 1 moto\n",
        "                 (df_ft['Q010_'] == 'B') & (df_ft['Q011_'] == 'C'), # 1 carro e >1 moto\n",
        "                 (df_ft['Q010_'] == 'C') & (df_ft['Q011_'] == 'A'), # >1 carro e 0 moto\n",
        "                 (df_ft['Q010_'] == 'C') & (df_ft['Q011_'] == 'B'), # >1 carro e 1 moto\n",
        "                 (df_ft['Q010_'] == 'C') & (df_ft['Q011_'] == 'C')] # >1 carro e >1 moto\n",
        "choicelist = [1,2,3,4,5,6,7,8,9]\n",
        "df_ft['Car_Mot'] = np.select(conditionlist, choicelist, default='Not Specified')\n",
        "df_ft.Car_Mot.value_counts().sort_index()"
      ],
      "metadata": {
        "colab": {
          "base_uri": "https://localhost:8080/"
        },
        "id": "8kFUgpbwXGT-",
        "outputId": "bb07f93a-f852-4b38-ccc9-cec7b959ba2f"
      },
      "execution_count": null,
      "outputs": [
        {
          "output_type": "execute_result",
          "data": {
            "text/plain": [
              "1    711881\n",
              "2    194237\n",
              "3     16872\n",
              "4    556665\n",
              "5    164620\n",
              "6     20468\n",
              "7    157507\n",
              "8     34033\n",
              "9      7940\n",
              "Name: Car_Mot, dtype: int64"
            ]
          },
          "metadata": {},
          "execution_count": 34
        }
      ]
    },
    {
      "cell_type": "code",
      "source": [
        "df_ft.loc[df_ft.Car_Mot == '1','Car_Mot_']='1'\n",
        "df_ft.loc[df_ft.Car_Mot == '2','Car_Mot_']='2'\n",
        "df_ft.loc[df_ft.Car_Mot == '3','Car_Mot_']='2'\n",
        "df_ft.loc[df_ft.Car_Mot == '4','Car_Mot_']='3'\n",
        "df_ft.loc[df_ft.Car_Mot == '5','Car_Mot_']='4'\n",
        "df_ft.loc[df_ft.Car_Mot == '6','Car_Mot_']='4'\n",
        "df_ft.loc[df_ft.Car_Mot == '7','Car_Mot_']='5'\n",
        "df_ft.loc[df_ft.Car_Mot == '8','Car_Mot_']='6'\n",
        "df_ft.loc[df_ft.Car_Mot == '9','Car_Mot_']='6'\n",
        "df_ft.Car_Mot_.value_counts().sort_index()"
      ],
      "metadata": {
        "id": "DZcwg5lsKNG9",
        "colab": {
          "base_uri": "https://localhost:8080/"
        },
        "outputId": "98885335-5f16-4850-9ba1-738471b8a027"
      },
      "execution_count": null,
      "outputs": [
        {
          "output_type": "execute_result",
          "data": {
            "text/plain": [
              "1    711881\n",
              "2    211109\n",
              "3    556665\n",
              "4    185088\n",
              "5    157507\n",
              "6     41973\n",
              "Name: Car_Mot_, dtype: int64"
            ]
          },
          "metadata": {},
          "execution_count": 35
        }
      ]
    },
    {
      "cell_type": "code",
      "source": [
        "df_valid = df_ft[['Q010','Q011','Q010_','Q011_','Car_Mot','Car_Mot_','NU_INSCRICAO']].loc[(df_ft['Q010'] == 'E')].head(10)\n",
        "df_valid"
      ],
      "metadata": {
        "colab": {
          "base_uri": "https://localhost:8080/",
          "height": 363
        },
        "id": "NCyd3VjS1wSt",
        "outputId": "a85abc63-ad2f-4c9c-e8e6-43ede652fbf0"
      },
      "execution_count": null,
      "outputs": [
        {
          "output_type": "execute_result",
          "data": {
            "text/plain": [
              "     Q010 Q011 Q010_ Q011_ Car_Mot Car_Mot_  NU_INSCRICAO\n",
              "533     E    A     C     A       7        5  210053930781\n",
              "2321    E    B     C     B       8        6  210053424614\n",
              "5424    E    C     C     C       9        6  210053999034\n",
              "6079    E    A     C     A       7        5  210053335596\n",
              "6422    E    A     C     A       7        5  210052879527\n",
              "6463    E    A     C     A       7        5  210053447560\n",
              "7009    E    B     C     B       8        6  210052854126\n",
              "7905    E    B     C     B       8        6  210051094912\n",
              "9499    E    A     C     A       7        5  210054077287\n",
              "9861    E    B     C     B       8        6  210054041052"
            ],
            "text/html": [
              "\n",
              "  <div id=\"df-3fead407-ae83-4442-95f4-3a9ab96c7400\">\n",
              "    <div class=\"colab-df-container\">\n",
              "      <div>\n",
              "<style scoped>\n",
              "    .dataframe tbody tr th:only-of-type {\n",
              "        vertical-align: middle;\n",
              "    }\n",
              "\n",
              "    .dataframe tbody tr th {\n",
              "        vertical-align: top;\n",
              "    }\n",
              "\n",
              "    .dataframe thead th {\n",
              "        text-align: right;\n",
              "    }\n",
              "</style>\n",
              "<table border=\"1\" class=\"dataframe\">\n",
              "  <thead>\n",
              "    <tr style=\"text-align: right;\">\n",
              "      <th></th>\n",
              "      <th>Q010</th>\n",
              "      <th>Q011</th>\n",
              "      <th>Q010_</th>\n",
              "      <th>Q011_</th>\n",
              "      <th>Car_Mot</th>\n",
              "      <th>Car_Mot_</th>\n",
              "      <th>NU_INSCRICAO</th>\n",
              "    </tr>\n",
              "  </thead>\n",
              "  <tbody>\n",
              "    <tr>\n",
              "      <th>533</th>\n",
              "      <td>E</td>\n",
              "      <td>A</td>\n",
              "      <td>C</td>\n",
              "      <td>A</td>\n",
              "      <td>7</td>\n",
              "      <td>5</td>\n",
              "      <td>210053930781</td>\n",
              "    </tr>\n",
              "    <tr>\n",
              "      <th>2321</th>\n",
              "      <td>E</td>\n",
              "      <td>B</td>\n",
              "      <td>C</td>\n",
              "      <td>B</td>\n",
              "      <td>8</td>\n",
              "      <td>6</td>\n",
              "      <td>210053424614</td>\n",
              "    </tr>\n",
              "    <tr>\n",
              "      <th>5424</th>\n",
              "      <td>E</td>\n",
              "      <td>C</td>\n",
              "      <td>C</td>\n",
              "      <td>C</td>\n",
              "      <td>9</td>\n",
              "      <td>6</td>\n",
              "      <td>210053999034</td>\n",
              "    </tr>\n",
              "    <tr>\n",
              "      <th>6079</th>\n",
              "      <td>E</td>\n",
              "      <td>A</td>\n",
              "      <td>C</td>\n",
              "      <td>A</td>\n",
              "      <td>7</td>\n",
              "      <td>5</td>\n",
              "      <td>210053335596</td>\n",
              "    </tr>\n",
              "    <tr>\n",
              "      <th>6422</th>\n",
              "      <td>E</td>\n",
              "      <td>A</td>\n",
              "      <td>C</td>\n",
              "      <td>A</td>\n",
              "      <td>7</td>\n",
              "      <td>5</td>\n",
              "      <td>210052879527</td>\n",
              "    </tr>\n",
              "    <tr>\n",
              "      <th>6463</th>\n",
              "      <td>E</td>\n",
              "      <td>A</td>\n",
              "      <td>C</td>\n",
              "      <td>A</td>\n",
              "      <td>7</td>\n",
              "      <td>5</td>\n",
              "      <td>210053447560</td>\n",
              "    </tr>\n",
              "    <tr>\n",
              "      <th>7009</th>\n",
              "      <td>E</td>\n",
              "      <td>B</td>\n",
              "      <td>C</td>\n",
              "      <td>B</td>\n",
              "      <td>8</td>\n",
              "      <td>6</td>\n",
              "      <td>210052854126</td>\n",
              "    </tr>\n",
              "    <tr>\n",
              "      <th>7905</th>\n",
              "      <td>E</td>\n",
              "      <td>B</td>\n",
              "      <td>C</td>\n",
              "      <td>B</td>\n",
              "      <td>8</td>\n",
              "      <td>6</td>\n",
              "      <td>210051094912</td>\n",
              "    </tr>\n",
              "    <tr>\n",
              "      <th>9499</th>\n",
              "      <td>E</td>\n",
              "      <td>A</td>\n",
              "      <td>C</td>\n",
              "      <td>A</td>\n",
              "      <td>7</td>\n",
              "      <td>5</td>\n",
              "      <td>210054077287</td>\n",
              "    </tr>\n",
              "    <tr>\n",
              "      <th>9861</th>\n",
              "      <td>E</td>\n",
              "      <td>B</td>\n",
              "      <td>C</td>\n",
              "      <td>B</td>\n",
              "      <td>8</td>\n",
              "      <td>6</td>\n",
              "      <td>210054041052</td>\n",
              "    </tr>\n",
              "  </tbody>\n",
              "</table>\n",
              "</div>\n",
              "      <button class=\"colab-df-convert\" onclick=\"convertToInteractive('df-3fead407-ae83-4442-95f4-3a9ab96c7400')\"\n",
              "              title=\"Convert this dataframe to an interactive table.\"\n",
              "              style=\"display:none;\">\n",
              "        \n",
              "  <svg xmlns=\"http://www.w3.org/2000/svg\" height=\"24px\"viewBox=\"0 0 24 24\"\n",
              "       width=\"24px\">\n",
              "    <path d=\"M0 0h24v24H0V0z\" fill=\"none\"/>\n",
              "    <path d=\"M18.56 5.44l.94 2.06.94-2.06 2.06-.94-2.06-.94-.94-2.06-.94 2.06-2.06.94zm-11 1L8.5 8.5l.94-2.06 2.06-.94-2.06-.94L8.5 2.5l-.94 2.06-2.06.94zm10 10l.94 2.06.94-2.06 2.06-.94-2.06-.94-.94-2.06-.94 2.06-2.06.94z\"/><path d=\"M17.41 7.96l-1.37-1.37c-.4-.4-.92-.59-1.43-.59-.52 0-1.04.2-1.43.59L10.3 9.45l-7.72 7.72c-.78.78-.78 2.05 0 2.83L4 21.41c.39.39.9.59 1.41.59.51 0 1.02-.2 1.41-.59l7.78-7.78 2.81-2.81c.8-.78.8-2.07 0-2.86zM5.41 20L4 18.59l7.72-7.72 1.47 1.35L5.41 20z\"/>\n",
              "  </svg>\n",
              "      </button>\n",
              "      \n",
              "  <style>\n",
              "    .colab-df-container {\n",
              "      display:flex;\n",
              "      flex-wrap:wrap;\n",
              "      gap: 12px;\n",
              "    }\n",
              "\n",
              "    .colab-df-convert {\n",
              "      background-color: #E8F0FE;\n",
              "      border: none;\n",
              "      border-radius: 50%;\n",
              "      cursor: pointer;\n",
              "      display: none;\n",
              "      fill: #1967D2;\n",
              "      height: 32px;\n",
              "      padding: 0 0 0 0;\n",
              "      width: 32px;\n",
              "    }\n",
              "\n",
              "    .colab-df-convert:hover {\n",
              "      background-color: #E2EBFA;\n",
              "      box-shadow: 0px 1px 2px rgba(60, 64, 67, 0.3), 0px 1px 3px 1px rgba(60, 64, 67, 0.15);\n",
              "      fill: #174EA6;\n",
              "    }\n",
              "\n",
              "    [theme=dark] .colab-df-convert {\n",
              "      background-color: #3B4455;\n",
              "      fill: #D2E3FC;\n",
              "    }\n",
              "\n",
              "    [theme=dark] .colab-df-convert:hover {\n",
              "      background-color: #434B5C;\n",
              "      box-shadow: 0px 1px 3px 1px rgba(0, 0, 0, 0.15);\n",
              "      filter: drop-shadow(0px 1px 2px rgba(0, 0, 0, 0.3));\n",
              "      fill: #FFFFFF;\n",
              "    }\n",
              "  </style>\n",
              "\n",
              "      <script>\n",
              "        const buttonEl =\n",
              "          document.querySelector('#df-3fead407-ae83-4442-95f4-3a9ab96c7400 button.colab-df-convert');\n",
              "        buttonEl.style.display =\n",
              "          google.colab.kernel.accessAllowed ? 'block' : 'none';\n",
              "\n",
              "        async function convertToInteractive(key) {\n",
              "          const element = document.querySelector('#df-3fead407-ae83-4442-95f4-3a9ab96c7400');\n",
              "          const dataTable =\n",
              "            await google.colab.kernel.invokeFunction('convertToInteractive',\n",
              "                                                     [key], {});\n",
              "          if (!dataTable) return;\n",
              "\n",
              "          const docLinkHtml = 'Like what you see? Visit the ' +\n",
              "            '<a target=\"_blank\" href=https://colab.research.google.com/notebooks/data_table.ipynb>data table notebook</a>'\n",
              "            + ' to learn more about interactive tables.';\n",
              "          element.innerHTML = '';\n",
              "          dataTable['output_type'] = 'display_data';\n",
              "          await google.colab.output.renderOutput(dataTable, element);\n",
              "          const docLink = document.createElement('div');\n",
              "          docLink.innerHTML = docLinkHtml;\n",
              "          element.appendChild(docLink);\n",
              "        }\n",
              "      </script>\n",
              "    </div>\n",
              "  </div>\n",
              "  "
            ]
          },
          "metadata": {},
          "execution_count": 36
        }
      ]
    },
    {
      "cell_type": "markdown",
      "source": [
        "- Porte da Casa"
      ],
      "metadata": {
        "id": "yqeMz0gyXGyy"
      }
    },
    {
      "cell_type": "code",
      "source": [
        "# Q007\n",
        "df_ft['Q007_'] = df_ft['Q007']\n",
        "conditionlist = [(df_ft['Q007_'] == 'A'),\n",
        "                 (df_ft['Q007_'] == 'B'),\n",
        "                 (df_ft['Q007_'] == 'C'),\n",
        "                 (df_ft['Q007_'] == 'D')]\n",
        "choicelist = [0,1,2,2]\n",
        "df_ft['Q007_f2'] = np.select(conditionlist, choicelist, default='Not Specified')\n",
        "df_ft['Q007_f'] = pd.to_numeric(np.select(conditionlist, choicelist, default='Not Specified'), errors = 'coerce')\n",
        "\n",
        "\n",
        "# Q008\n",
        "df_ft['Q008_'] = df_ft['Q008']\n",
        "conditionlist = [(df_ft['Q008_'] == 'A'),\n",
        "                 (df_ft['Q008_'] == 'B'),\n",
        "                 (df_ft['Q008_'] == 'C'),\n",
        "                 (df_ft['Q008_'] == 'D'),\n",
        "                 (df_ft['Q008_'] == 'E')]\n",
        "choicelist = [0,1,2,3,3]\n",
        "df_ft['Q008_f2'] = np.select(conditionlist, choicelist, default='Not Specified')\n",
        "df_ft['Q008_f'] = pd.to_numeric(np.select(conditionlist, choicelist, default='Not Specified'), errors = 'coerce')\n",
        "\n",
        "\n",
        "# Q009\n",
        "df_ft['Q009_'] = df_ft['Q009']\n",
        "conditionlist = [(df_ft['Q009_'] == 'A'),\n",
        "                 (df_ft['Q009_'] == 'B'),\n",
        "                 (df_ft['Q009_'] == 'C'),\n",
        "                 (df_ft['Q009_'] == 'D'),\n",
        "                 (df_ft['Q009_'] == 'E')]\n",
        "choicelist = [0,1,2,3,3]\n",
        "df_ft['Q009_f2'] = np.select(conditionlist, choicelist, default='Not Specified')\n",
        "df_ft['Q009_f'] = pd.to_numeric(np.select(conditionlist, choicelist, default='Not Specified'), errors = 'coerce')\n",
        "\n",
        "\n",
        "# Soma\n",
        "df_ft['Tot_PtCasa_2'] = df_ft['Q007_f2'] + df_ft['Q008_f2'] + df_ft['Q009_f2']\n",
        "df_ft['Tot_PtCasa'] = df_ft['Q007_f'] + df_ft['Q008_f'] + df_ft['Q009_f']\n"
      ],
      "metadata": {
        "id": "cwhf75IGeLy6"
      },
      "execution_count": null,
      "outputs": []
    },
    {
      "cell_type": "code",
      "source": [
        "df_ft.Q007_f.value_counts().sort_index()"
      ],
      "metadata": {
        "colab": {
          "base_uri": "https://localhost:8080/"
        },
        "id": "nV3Q91PYf4ve",
        "outputId": "857b037d-0192-493b-c65b-8e93cd99984b"
      },
      "execution_count": null,
      "outputs": [
        {
          "output_type": "execute_result",
          "data": {
            "text/plain": [
              "0    1715998\n",
              "1      81517\n",
              "2      66708\n",
              "Name: Q007_f, dtype: int64"
            ]
          },
          "metadata": {},
          "execution_count": 38
        }
      ]
    },
    {
      "cell_type": "code",
      "source": [
        "df_ft.Q008_f.value_counts().sort_index()"
      ],
      "metadata": {
        "colab": {
          "base_uri": "https://localhost:8080/"
        },
        "id": "nBeuRXPxgxmT",
        "outputId": "15a6f596-8c8e-41f5-d5d4-6fb77f5a8eff"
      },
      "execution_count": null,
      "outputs": [
        {
          "output_type": "execute_result",
          "data": {
            "text/plain": [
              "0      10720\n",
              "1    1183200\n",
              "2     462598\n",
              "3     207705\n",
              "Name: Q008_f, dtype: int64"
            ]
          },
          "metadata": {},
          "execution_count": 39
        }
      ]
    },
    {
      "cell_type": "code",
      "source": [
        "df_ft.Q009_f.value_counts().sort_index()"
      ],
      "metadata": {
        "colab": {
          "base_uri": "https://localhost:8080/"
        },
        "id": "ZH0AShktgxv0",
        "outputId": "9daf7881-7ee4-4d80-b1fb-466942b5ea4a"
      },
      "execution_count": null,
      "outputs": [
        {
          "output_type": "execute_result",
          "data": {
            "text/plain": [
              "0     11054\n",
              "1    193479\n",
              "2    914719\n",
              "3    744971\n",
              "Name: Q009_f, dtype: int64"
            ]
          },
          "metadata": {},
          "execution_count": 40
        }
      ]
    },
    {
      "cell_type": "code",
      "source": [
        "df_ft.Tot_PtCasa_2.value_counts().sort_index()"
      ],
      "metadata": {
        "colab": {
          "base_uri": "https://localhost:8080/"
        },
        "id": "lEM_5MezlwTy",
        "outputId": "c0ed9c5f-0831-438c-cbc9-32c5546d8cca"
      },
      "execution_count": null,
      "outputs": [
        {
          "output_type": "execute_result",
          "data": {
            "text/plain": [
              "000      1872\n",
              "001      3368\n",
              "002      3867\n",
              "003      1270\n",
              "010      8660\n",
              "011    180840\n",
              "012    707211\n",
              "013    255857\n",
              "020       102\n",
              "021      3419\n",
              "022    157583\n",
              "023    264315\n",
              "030        17\n",
              "031       117\n",
              "032     13478\n",
              "033    114022\n",
              "100        46\n",
              "101       113\n",
              "102        64\n",
              "103        17\n",
              "110       215\n",
              "111      3421\n",
              "112     10342\n",
              "113      3734\n",
              "120         4\n",
              "121       127\n",
              "122      7162\n",
              "123     17229\n",
              "130         6\n",
              "131        24\n",
              "132      2813\n",
              "133     36200\n",
              "200        16\n",
              "201        32\n",
              "202        37\n",
              "203        18\n",
              "210       106\n",
              "211      1955\n",
              "212      7675\n",
              "213      3184\n",
              "220         4\n",
              "221        50\n",
              "222      3036\n",
              "223      9567\n",
              "230         6\n",
              "231        13\n",
              "232      1451\n",
              "233     39558\n",
              "Name: Tot_PtCasa_2, dtype: int64"
            ]
          },
          "metadata": {},
          "execution_count": 41
        }
      ]
    },
    {
      "cell_type": "code",
      "source": [
        "df_ft.Tot_PtCasa.value_counts().sort_index()"
      ],
      "metadata": {
        "colab": {
          "base_uri": "https://localhost:8080/"
        },
        "id": "6qzNZf19hAc1",
        "outputId": "79756dea-f46d-44e4-9326-4737560a03e2"
      },
      "execution_count": null,
      "outputs": [
        {
          "output_type": "execute_result",
          "data": {
            "text/plain": [
              "0      1872\n",
              "1     12074\n",
              "2    185153\n",
              "3    715544\n",
              "4    426045\n",
              "5    296462\n",
              "6    140297\n",
              "7     47218\n",
              "8     39558\n",
              "Name: Tot_PtCasa, dtype: int64"
            ]
          },
          "metadata": {},
          "execution_count": 42
        }
      ]
    },
    {
      "cell_type": "code",
      "source": [
        "df_valid = df_ft[['Q007','Q008','Q009','Q007_f','Q008_f','Q009_f','Tot_PtCasa','NU_INSCRICAO']].loc[(df_ft['Q007_f'] == 2) & (df_ft['Q009_f'] < 1)].head(10)\n",
        "df_valid"
      ],
      "metadata": {
        "id": "Jkb0V4RvjtaF",
        "colab": {
          "base_uri": "https://localhost:8080/",
          "height": 363
        },
        "outputId": "5b6a797a-ed3b-4296-9021-e885cf05804e"
      },
      "execution_count": null,
      "outputs": [
        {
          "output_type": "execute_result",
          "data": {
            "text/plain": [
              "       Q007 Q008 Q009  Q007_f  Q008_f  Q009_f  Tot_PtCasa  NU_INSCRICAO\n",
              "3804      D    B    A       2       1       0           3  210052641689\n",
              "7362      D    B    A       2       1       0           3  210051892176\n",
              "8465      D    B    A       2       1       0           3  210053139827\n",
              "24919     D    B    A       2       1       0           3  210051556213\n",
              "39732     C    A    A       2       0       0           2  210054378234\n",
              "72506     D    B    A       2       1       0           3  210053574088\n",
              "73133     D    B    A       2       1       0           3  210054145311\n",
              "74090     D    B    A       2       1       0           3  210054410195\n",
              "107145    D    B    A       2       1       0           3  210051539104\n",
              "118557    C    A    A       2       0       0           2  210053675131"
            ],
            "text/html": [
              "\n",
              "  <div id=\"df-07c71bbe-2703-4362-bd4a-3f9d9be8e62f\">\n",
              "    <div class=\"colab-df-container\">\n",
              "      <div>\n",
              "<style scoped>\n",
              "    .dataframe tbody tr th:only-of-type {\n",
              "        vertical-align: middle;\n",
              "    }\n",
              "\n",
              "    .dataframe tbody tr th {\n",
              "        vertical-align: top;\n",
              "    }\n",
              "\n",
              "    .dataframe thead th {\n",
              "        text-align: right;\n",
              "    }\n",
              "</style>\n",
              "<table border=\"1\" class=\"dataframe\">\n",
              "  <thead>\n",
              "    <tr style=\"text-align: right;\">\n",
              "      <th></th>\n",
              "      <th>Q007</th>\n",
              "      <th>Q008</th>\n",
              "      <th>Q009</th>\n",
              "      <th>Q007_f</th>\n",
              "      <th>Q008_f</th>\n",
              "      <th>Q009_f</th>\n",
              "      <th>Tot_PtCasa</th>\n",
              "      <th>NU_INSCRICAO</th>\n",
              "    </tr>\n",
              "  </thead>\n",
              "  <tbody>\n",
              "    <tr>\n",
              "      <th>3804</th>\n",
              "      <td>D</td>\n",
              "      <td>B</td>\n",
              "      <td>A</td>\n",
              "      <td>2</td>\n",
              "      <td>1</td>\n",
              "      <td>0</td>\n",
              "      <td>3</td>\n",
              "      <td>210052641689</td>\n",
              "    </tr>\n",
              "    <tr>\n",
              "      <th>7362</th>\n",
              "      <td>D</td>\n",
              "      <td>B</td>\n",
              "      <td>A</td>\n",
              "      <td>2</td>\n",
              "      <td>1</td>\n",
              "      <td>0</td>\n",
              "      <td>3</td>\n",
              "      <td>210051892176</td>\n",
              "    </tr>\n",
              "    <tr>\n",
              "      <th>8465</th>\n",
              "      <td>D</td>\n",
              "      <td>B</td>\n",
              "      <td>A</td>\n",
              "      <td>2</td>\n",
              "      <td>1</td>\n",
              "      <td>0</td>\n",
              "      <td>3</td>\n",
              "      <td>210053139827</td>\n",
              "    </tr>\n",
              "    <tr>\n",
              "      <th>24919</th>\n",
              "      <td>D</td>\n",
              "      <td>B</td>\n",
              "      <td>A</td>\n",
              "      <td>2</td>\n",
              "      <td>1</td>\n",
              "      <td>0</td>\n",
              "      <td>3</td>\n",
              "      <td>210051556213</td>\n",
              "    </tr>\n",
              "    <tr>\n",
              "      <th>39732</th>\n",
              "      <td>C</td>\n",
              "      <td>A</td>\n",
              "      <td>A</td>\n",
              "      <td>2</td>\n",
              "      <td>0</td>\n",
              "      <td>0</td>\n",
              "      <td>2</td>\n",
              "      <td>210054378234</td>\n",
              "    </tr>\n",
              "    <tr>\n",
              "      <th>72506</th>\n",
              "      <td>D</td>\n",
              "      <td>B</td>\n",
              "      <td>A</td>\n",
              "      <td>2</td>\n",
              "      <td>1</td>\n",
              "      <td>0</td>\n",
              "      <td>3</td>\n",
              "      <td>210053574088</td>\n",
              "    </tr>\n",
              "    <tr>\n",
              "      <th>73133</th>\n",
              "      <td>D</td>\n",
              "      <td>B</td>\n",
              "      <td>A</td>\n",
              "      <td>2</td>\n",
              "      <td>1</td>\n",
              "      <td>0</td>\n",
              "      <td>3</td>\n",
              "      <td>210054145311</td>\n",
              "    </tr>\n",
              "    <tr>\n",
              "      <th>74090</th>\n",
              "      <td>D</td>\n",
              "      <td>B</td>\n",
              "      <td>A</td>\n",
              "      <td>2</td>\n",
              "      <td>1</td>\n",
              "      <td>0</td>\n",
              "      <td>3</td>\n",
              "      <td>210054410195</td>\n",
              "    </tr>\n",
              "    <tr>\n",
              "      <th>107145</th>\n",
              "      <td>D</td>\n",
              "      <td>B</td>\n",
              "      <td>A</td>\n",
              "      <td>2</td>\n",
              "      <td>1</td>\n",
              "      <td>0</td>\n",
              "      <td>3</td>\n",
              "      <td>210051539104</td>\n",
              "    </tr>\n",
              "    <tr>\n",
              "      <th>118557</th>\n",
              "      <td>C</td>\n",
              "      <td>A</td>\n",
              "      <td>A</td>\n",
              "      <td>2</td>\n",
              "      <td>0</td>\n",
              "      <td>0</td>\n",
              "      <td>2</td>\n",
              "      <td>210053675131</td>\n",
              "    </tr>\n",
              "  </tbody>\n",
              "</table>\n",
              "</div>\n",
              "      <button class=\"colab-df-convert\" onclick=\"convertToInteractive('df-07c71bbe-2703-4362-bd4a-3f9d9be8e62f')\"\n",
              "              title=\"Convert this dataframe to an interactive table.\"\n",
              "              style=\"display:none;\">\n",
              "        \n",
              "  <svg xmlns=\"http://www.w3.org/2000/svg\" height=\"24px\"viewBox=\"0 0 24 24\"\n",
              "       width=\"24px\">\n",
              "    <path d=\"M0 0h24v24H0V0z\" fill=\"none\"/>\n",
              "    <path d=\"M18.56 5.44l.94 2.06.94-2.06 2.06-.94-2.06-.94-.94-2.06-.94 2.06-2.06.94zm-11 1L8.5 8.5l.94-2.06 2.06-.94-2.06-.94L8.5 2.5l-.94 2.06-2.06.94zm10 10l.94 2.06.94-2.06 2.06-.94-2.06-.94-.94-2.06-.94 2.06-2.06.94z\"/><path d=\"M17.41 7.96l-1.37-1.37c-.4-.4-.92-.59-1.43-.59-.52 0-1.04.2-1.43.59L10.3 9.45l-7.72 7.72c-.78.78-.78 2.05 0 2.83L4 21.41c.39.39.9.59 1.41.59.51 0 1.02-.2 1.41-.59l7.78-7.78 2.81-2.81c.8-.78.8-2.07 0-2.86zM5.41 20L4 18.59l7.72-7.72 1.47 1.35L5.41 20z\"/>\n",
              "  </svg>\n",
              "      </button>\n",
              "      \n",
              "  <style>\n",
              "    .colab-df-container {\n",
              "      display:flex;\n",
              "      flex-wrap:wrap;\n",
              "      gap: 12px;\n",
              "    }\n",
              "\n",
              "    .colab-df-convert {\n",
              "      background-color: #E8F0FE;\n",
              "      border: none;\n",
              "      border-radius: 50%;\n",
              "      cursor: pointer;\n",
              "      display: none;\n",
              "      fill: #1967D2;\n",
              "      height: 32px;\n",
              "      padding: 0 0 0 0;\n",
              "      width: 32px;\n",
              "    }\n",
              "\n",
              "    .colab-df-convert:hover {\n",
              "      background-color: #E2EBFA;\n",
              "      box-shadow: 0px 1px 2px rgba(60, 64, 67, 0.3), 0px 1px 3px 1px rgba(60, 64, 67, 0.15);\n",
              "      fill: #174EA6;\n",
              "    }\n",
              "\n",
              "    [theme=dark] .colab-df-convert {\n",
              "      background-color: #3B4455;\n",
              "      fill: #D2E3FC;\n",
              "    }\n",
              "\n",
              "    [theme=dark] .colab-df-convert:hover {\n",
              "      background-color: #434B5C;\n",
              "      box-shadow: 0px 1px 3px 1px rgba(0, 0, 0, 0.15);\n",
              "      filter: drop-shadow(0px 1px 2px rgba(0, 0, 0, 0.3));\n",
              "      fill: #FFFFFF;\n",
              "    }\n",
              "  </style>\n",
              "\n",
              "      <script>\n",
              "        const buttonEl =\n",
              "          document.querySelector('#df-07c71bbe-2703-4362-bd4a-3f9d9be8e62f button.colab-df-convert');\n",
              "        buttonEl.style.display =\n",
              "          google.colab.kernel.accessAllowed ? 'block' : 'none';\n",
              "\n",
              "        async function convertToInteractive(key) {\n",
              "          const element = document.querySelector('#df-07c71bbe-2703-4362-bd4a-3f9d9be8e62f');\n",
              "          const dataTable =\n",
              "            await google.colab.kernel.invokeFunction('convertToInteractive',\n",
              "                                                     [key], {});\n",
              "          if (!dataTable) return;\n",
              "\n",
              "          const docLinkHtml = 'Like what you see? Visit the ' +\n",
              "            '<a target=\"_blank\" href=https://colab.research.google.com/notebooks/data_table.ipynb>data table notebook</a>'\n",
              "            + ' to learn more about interactive tables.';\n",
              "          element.innerHTML = '';\n",
              "          dataTable['output_type'] = 'display_data';\n",
              "          await google.colab.output.renderOutput(dataTable, element);\n",
              "          const docLink = document.createElement('div');\n",
              "          docLink.innerHTML = docLinkHtml;\n",
              "          element.appendChild(docLink);\n",
              "        }\n",
              "      </script>\n",
              "    </div>\n",
              "  </div>\n",
              "  "
            ]
          },
          "metadata": {},
          "execution_count": 43
        }
      ]
    },
    {
      "cell_type": "code",
      "source": [
        "df_ft.loc[df_ft.Tot_PtCasa == 0,'Tot_PtCasa_']='1'\n",
        "df_ft.loc[df_ft.Tot_PtCasa == 1,'Tot_PtCasa_']='1'\n",
        "df_ft.loc[df_ft.Tot_PtCasa == 2,'Tot_PtCasa_']='1'\n",
        "df_ft.loc[df_ft.Tot_PtCasa == 3,'Tot_PtCasa_']='2'\n",
        "df_ft.loc[df_ft.Tot_PtCasa == 4,'Tot_PtCasa_']='3'\n",
        "df_ft.loc[df_ft.Tot_PtCasa == 5,'Tot_PtCasa_']='4'\n",
        "df_ft.loc[df_ft.Tot_PtCasa == 6,'Tot_PtCasa_']='5'\n",
        "df_ft.loc[df_ft.Tot_PtCasa == 7,'Tot_PtCasa_']='6'\n",
        "df_ft.loc[df_ft.Tot_PtCasa == 8,'Tot_PtCasa_']='6'"
      ],
      "metadata": {
        "id": "t2Np--1oL-yO"
      },
      "execution_count": null,
      "outputs": []
    },
    {
      "cell_type": "markdown",
      "source": [
        "- Região Geográfica"
      ],
      "metadata": {
        "id": "hdEWeeydC18H"
      }
    },
    {
      "cell_type": "code",
      "source": [
        "df_ft['RegGeo_Prova'] = df_ft.CO_MUNICIPIO_PROVA.astype(str).str[0] # transforma primeiro em string, depois seleciona o digito"
      ],
      "metadata": {
        "id": "uqc7eiCrEs4P"
      },
      "execution_count": null,
      "outputs": []
    },
    {
      "cell_type": "code",
      "source": [
        "df_ft.RegGeo_Prova.value_counts().sort_index()"
      ],
      "metadata": {
        "id": "IYaKTFQ3GRVd",
        "colab": {
          "base_uri": "https://localhost:8080/"
        },
        "outputId": "fe5d6c91-4b6a-4ff0-c91e-78648a75f568"
      },
      "execution_count": null,
      "outputs": [
        {
          "output_type": "execute_result",
          "data": {
            "text/plain": [
              "1    200406\n",
              "2    660702\n",
              "3    640513\n",
              "4    206194\n",
              "5    156408\n",
              "Name: RegGeo_Prova, dtype: int64"
            ]
          },
          "metadata": {},
          "execution_count": 46
        }
      ]
    },
    {
      "cell_type": "code",
      "source": [
        "pd.crosstab(df_ft.SG_UF_PROVA, df_ft.RegGeo_Prova, margins=True, dropna=False)"
      ],
      "metadata": {
        "id": "mEdtS7lhGX85",
        "colab": {
          "base_uri": "https://localhost:8080/",
          "height": 959
        },
        "outputId": "13872573-f0d0-4c4d-ca35-5c8a070ff5a9"
      },
      "execution_count": null,
      "outputs": [
        {
          "output_type": "execute_result",
          "data": {
            "text/plain": [
              "RegGeo_Prova       1       2       3       4       5      All\n",
              "SG_UF_PROVA                                                  \n",
              "AC             11247       0       0       0       0    11247\n",
              "AL                 0   32791       0       0       0    32791\n",
              "AM             40780       0       0       0       0    40780\n",
              "AP             11347       0       0       0       0    11347\n",
              "BA                 0  146419       0       0       0   146419\n",
              "CE                 0  119636       0       0       0   119636\n",
              "DF                 0       0       0       0   40086    40086\n",
              "ES                 0       0   34833       0       0    34833\n",
              "GO                 0       0       0       0   66256    66256\n",
              "MA                 0   71675       0       0       0    71675\n",
              "MG                 0       0  180701       0       0   180701\n",
              "MS                 0       0       0       0   21986    21986\n",
              "MT                 0       0       0       0   28080    28080\n",
              "PA            101852       0       0       0       0   101852\n",
              "PB                 0   58048       0       0       0    58048\n",
              "PE                 0  108516       0       0       0   108516\n",
              "PI                 0   45878       0       0       0    45878\n",
              "PR                 0       0       0   80391       0    80391\n",
              "RJ                 0       0  134119       0       0   134119\n",
              "RN                 0   47924       0       0       0    47924\n",
              "RO             15369       0       0       0       0    15369\n",
              "RR              4081       0       0       0       0     4081\n",
              "RS                 0       0       0   83922       0    83922\n",
              "SC                 0       0       0   41881       0    41881\n",
              "SE                 0   29815       0       0       0    29815\n",
              "SP                 0       0  290860       0       0   290860\n",
              "TO             15730       0       0       0       0    15730\n",
              "All           200406  660702  640513  206194  156408  1864223"
            ],
            "text/html": [
              "\n",
              "  <div id=\"df-c2f5959a-d02f-41f1-836a-8d3d039f7167\">\n",
              "    <div class=\"colab-df-container\">\n",
              "      <div>\n",
              "<style scoped>\n",
              "    .dataframe tbody tr th:only-of-type {\n",
              "        vertical-align: middle;\n",
              "    }\n",
              "\n",
              "    .dataframe tbody tr th {\n",
              "        vertical-align: top;\n",
              "    }\n",
              "\n",
              "    .dataframe thead th {\n",
              "        text-align: right;\n",
              "    }\n",
              "</style>\n",
              "<table border=\"1\" class=\"dataframe\">\n",
              "  <thead>\n",
              "    <tr style=\"text-align: right;\">\n",
              "      <th>RegGeo_Prova</th>\n",
              "      <th>1</th>\n",
              "      <th>2</th>\n",
              "      <th>3</th>\n",
              "      <th>4</th>\n",
              "      <th>5</th>\n",
              "      <th>All</th>\n",
              "    </tr>\n",
              "    <tr>\n",
              "      <th>SG_UF_PROVA</th>\n",
              "      <th></th>\n",
              "      <th></th>\n",
              "      <th></th>\n",
              "      <th></th>\n",
              "      <th></th>\n",
              "      <th></th>\n",
              "    </tr>\n",
              "  </thead>\n",
              "  <tbody>\n",
              "    <tr>\n",
              "      <th>AC</th>\n",
              "      <td>11247</td>\n",
              "      <td>0</td>\n",
              "      <td>0</td>\n",
              "      <td>0</td>\n",
              "      <td>0</td>\n",
              "      <td>11247</td>\n",
              "    </tr>\n",
              "    <tr>\n",
              "      <th>AL</th>\n",
              "      <td>0</td>\n",
              "      <td>32791</td>\n",
              "      <td>0</td>\n",
              "      <td>0</td>\n",
              "      <td>0</td>\n",
              "      <td>32791</td>\n",
              "    </tr>\n",
              "    <tr>\n",
              "      <th>AM</th>\n",
              "      <td>40780</td>\n",
              "      <td>0</td>\n",
              "      <td>0</td>\n",
              "      <td>0</td>\n",
              "      <td>0</td>\n",
              "      <td>40780</td>\n",
              "    </tr>\n",
              "    <tr>\n",
              "      <th>AP</th>\n",
              "      <td>11347</td>\n",
              "      <td>0</td>\n",
              "      <td>0</td>\n",
              "      <td>0</td>\n",
              "      <td>0</td>\n",
              "      <td>11347</td>\n",
              "    </tr>\n",
              "    <tr>\n",
              "      <th>BA</th>\n",
              "      <td>0</td>\n",
              "      <td>146419</td>\n",
              "      <td>0</td>\n",
              "      <td>0</td>\n",
              "      <td>0</td>\n",
              "      <td>146419</td>\n",
              "    </tr>\n",
              "    <tr>\n",
              "      <th>CE</th>\n",
              "      <td>0</td>\n",
              "      <td>119636</td>\n",
              "      <td>0</td>\n",
              "      <td>0</td>\n",
              "      <td>0</td>\n",
              "      <td>119636</td>\n",
              "    </tr>\n",
              "    <tr>\n",
              "      <th>DF</th>\n",
              "      <td>0</td>\n",
              "      <td>0</td>\n",
              "      <td>0</td>\n",
              "      <td>0</td>\n",
              "      <td>40086</td>\n",
              "      <td>40086</td>\n",
              "    </tr>\n",
              "    <tr>\n",
              "      <th>ES</th>\n",
              "      <td>0</td>\n",
              "      <td>0</td>\n",
              "      <td>34833</td>\n",
              "      <td>0</td>\n",
              "      <td>0</td>\n",
              "      <td>34833</td>\n",
              "    </tr>\n",
              "    <tr>\n",
              "      <th>GO</th>\n",
              "      <td>0</td>\n",
              "      <td>0</td>\n",
              "      <td>0</td>\n",
              "      <td>0</td>\n",
              "      <td>66256</td>\n",
              "      <td>66256</td>\n",
              "    </tr>\n",
              "    <tr>\n",
              "      <th>MA</th>\n",
              "      <td>0</td>\n",
              "      <td>71675</td>\n",
              "      <td>0</td>\n",
              "      <td>0</td>\n",
              "      <td>0</td>\n",
              "      <td>71675</td>\n",
              "    </tr>\n",
              "    <tr>\n",
              "      <th>MG</th>\n",
              "      <td>0</td>\n",
              "      <td>0</td>\n",
              "      <td>180701</td>\n",
              "      <td>0</td>\n",
              "      <td>0</td>\n",
              "      <td>180701</td>\n",
              "    </tr>\n",
              "    <tr>\n",
              "      <th>MS</th>\n",
              "      <td>0</td>\n",
              "      <td>0</td>\n",
              "      <td>0</td>\n",
              "      <td>0</td>\n",
              "      <td>21986</td>\n",
              "      <td>21986</td>\n",
              "    </tr>\n",
              "    <tr>\n",
              "      <th>MT</th>\n",
              "      <td>0</td>\n",
              "      <td>0</td>\n",
              "      <td>0</td>\n",
              "      <td>0</td>\n",
              "      <td>28080</td>\n",
              "      <td>28080</td>\n",
              "    </tr>\n",
              "    <tr>\n",
              "      <th>PA</th>\n",
              "      <td>101852</td>\n",
              "      <td>0</td>\n",
              "      <td>0</td>\n",
              "      <td>0</td>\n",
              "      <td>0</td>\n",
              "      <td>101852</td>\n",
              "    </tr>\n",
              "    <tr>\n",
              "      <th>PB</th>\n",
              "      <td>0</td>\n",
              "      <td>58048</td>\n",
              "      <td>0</td>\n",
              "      <td>0</td>\n",
              "      <td>0</td>\n",
              "      <td>58048</td>\n",
              "    </tr>\n",
              "    <tr>\n",
              "      <th>PE</th>\n",
              "      <td>0</td>\n",
              "      <td>108516</td>\n",
              "      <td>0</td>\n",
              "      <td>0</td>\n",
              "      <td>0</td>\n",
              "      <td>108516</td>\n",
              "    </tr>\n",
              "    <tr>\n",
              "      <th>PI</th>\n",
              "      <td>0</td>\n",
              "      <td>45878</td>\n",
              "      <td>0</td>\n",
              "      <td>0</td>\n",
              "      <td>0</td>\n",
              "      <td>45878</td>\n",
              "    </tr>\n",
              "    <tr>\n",
              "      <th>PR</th>\n",
              "      <td>0</td>\n",
              "      <td>0</td>\n",
              "      <td>0</td>\n",
              "      <td>80391</td>\n",
              "      <td>0</td>\n",
              "      <td>80391</td>\n",
              "    </tr>\n",
              "    <tr>\n",
              "      <th>RJ</th>\n",
              "      <td>0</td>\n",
              "      <td>0</td>\n",
              "      <td>134119</td>\n",
              "      <td>0</td>\n",
              "      <td>0</td>\n",
              "      <td>134119</td>\n",
              "    </tr>\n",
              "    <tr>\n",
              "      <th>RN</th>\n",
              "      <td>0</td>\n",
              "      <td>47924</td>\n",
              "      <td>0</td>\n",
              "      <td>0</td>\n",
              "      <td>0</td>\n",
              "      <td>47924</td>\n",
              "    </tr>\n",
              "    <tr>\n",
              "      <th>RO</th>\n",
              "      <td>15369</td>\n",
              "      <td>0</td>\n",
              "      <td>0</td>\n",
              "      <td>0</td>\n",
              "      <td>0</td>\n",
              "      <td>15369</td>\n",
              "    </tr>\n",
              "    <tr>\n",
              "      <th>RR</th>\n",
              "      <td>4081</td>\n",
              "      <td>0</td>\n",
              "      <td>0</td>\n",
              "      <td>0</td>\n",
              "      <td>0</td>\n",
              "      <td>4081</td>\n",
              "    </tr>\n",
              "    <tr>\n",
              "      <th>RS</th>\n",
              "      <td>0</td>\n",
              "      <td>0</td>\n",
              "      <td>0</td>\n",
              "      <td>83922</td>\n",
              "      <td>0</td>\n",
              "      <td>83922</td>\n",
              "    </tr>\n",
              "    <tr>\n",
              "      <th>SC</th>\n",
              "      <td>0</td>\n",
              "      <td>0</td>\n",
              "      <td>0</td>\n",
              "      <td>41881</td>\n",
              "      <td>0</td>\n",
              "      <td>41881</td>\n",
              "    </tr>\n",
              "    <tr>\n",
              "      <th>SE</th>\n",
              "      <td>0</td>\n",
              "      <td>29815</td>\n",
              "      <td>0</td>\n",
              "      <td>0</td>\n",
              "      <td>0</td>\n",
              "      <td>29815</td>\n",
              "    </tr>\n",
              "    <tr>\n",
              "      <th>SP</th>\n",
              "      <td>0</td>\n",
              "      <td>0</td>\n",
              "      <td>290860</td>\n",
              "      <td>0</td>\n",
              "      <td>0</td>\n",
              "      <td>290860</td>\n",
              "    </tr>\n",
              "    <tr>\n",
              "      <th>TO</th>\n",
              "      <td>15730</td>\n",
              "      <td>0</td>\n",
              "      <td>0</td>\n",
              "      <td>0</td>\n",
              "      <td>0</td>\n",
              "      <td>15730</td>\n",
              "    </tr>\n",
              "    <tr>\n",
              "      <th>All</th>\n",
              "      <td>200406</td>\n",
              "      <td>660702</td>\n",
              "      <td>640513</td>\n",
              "      <td>206194</td>\n",
              "      <td>156408</td>\n",
              "      <td>1864223</td>\n",
              "    </tr>\n",
              "  </tbody>\n",
              "</table>\n",
              "</div>\n",
              "      <button class=\"colab-df-convert\" onclick=\"convertToInteractive('df-c2f5959a-d02f-41f1-836a-8d3d039f7167')\"\n",
              "              title=\"Convert this dataframe to an interactive table.\"\n",
              "              style=\"display:none;\">\n",
              "        \n",
              "  <svg xmlns=\"http://www.w3.org/2000/svg\" height=\"24px\"viewBox=\"0 0 24 24\"\n",
              "       width=\"24px\">\n",
              "    <path d=\"M0 0h24v24H0V0z\" fill=\"none\"/>\n",
              "    <path d=\"M18.56 5.44l.94 2.06.94-2.06 2.06-.94-2.06-.94-.94-2.06-.94 2.06-2.06.94zm-11 1L8.5 8.5l.94-2.06 2.06-.94-2.06-.94L8.5 2.5l-.94 2.06-2.06.94zm10 10l.94 2.06.94-2.06 2.06-.94-2.06-.94-.94-2.06-.94 2.06-2.06.94z\"/><path d=\"M17.41 7.96l-1.37-1.37c-.4-.4-.92-.59-1.43-.59-.52 0-1.04.2-1.43.59L10.3 9.45l-7.72 7.72c-.78.78-.78 2.05 0 2.83L4 21.41c.39.39.9.59 1.41.59.51 0 1.02-.2 1.41-.59l7.78-7.78 2.81-2.81c.8-.78.8-2.07 0-2.86zM5.41 20L4 18.59l7.72-7.72 1.47 1.35L5.41 20z\"/>\n",
              "  </svg>\n",
              "      </button>\n",
              "      \n",
              "  <style>\n",
              "    .colab-df-container {\n",
              "      display:flex;\n",
              "      flex-wrap:wrap;\n",
              "      gap: 12px;\n",
              "    }\n",
              "\n",
              "    .colab-df-convert {\n",
              "      background-color: #E8F0FE;\n",
              "      border: none;\n",
              "      border-radius: 50%;\n",
              "      cursor: pointer;\n",
              "      display: none;\n",
              "      fill: #1967D2;\n",
              "      height: 32px;\n",
              "      padding: 0 0 0 0;\n",
              "      width: 32px;\n",
              "    }\n",
              "\n",
              "    .colab-df-convert:hover {\n",
              "      background-color: #E2EBFA;\n",
              "      box-shadow: 0px 1px 2px rgba(60, 64, 67, 0.3), 0px 1px 3px 1px rgba(60, 64, 67, 0.15);\n",
              "      fill: #174EA6;\n",
              "    }\n",
              "\n",
              "    [theme=dark] .colab-df-convert {\n",
              "      background-color: #3B4455;\n",
              "      fill: #D2E3FC;\n",
              "    }\n",
              "\n",
              "    [theme=dark] .colab-df-convert:hover {\n",
              "      background-color: #434B5C;\n",
              "      box-shadow: 0px 1px 3px 1px rgba(0, 0, 0, 0.15);\n",
              "      filter: drop-shadow(0px 1px 2px rgba(0, 0, 0, 0.3));\n",
              "      fill: #FFFFFF;\n",
              "    }\n",
              "  </style>\n",
              "\n",
              "      <script>\n",
              "        const buttonEl =\n",
              "          document.querySelector('#df-c2f5959a-d02f-41f1-836a-8d3d039f7167 button.colab-df-convert');\n",
              "        buttonEl.style.display =\n",
              "          google.colab.kernel.accessAllowed ? 'block' : 'none';\n",
              "\n",
              "        async function convertToInteractive(key) {\n",
              "          const element = document.querySelector('#df-c2f5959a-d02f-41f1-836a-8d3d039f7167');\n",
              "          const dataTable =\n",
              "            await google.colab.kernel.invokeFunction('convertToInteractive',\n",
              "                                                     [key], {});\n",
              "          if (!dataTable) return;\n",
              "\n",
              "          const docLinkHtml = 'Like what you see? Visit the ' +\n",
              "            '<a target=\"_blank\" href=https://colab.research.google.com/notebooks/data_table.ipynb>data table notebook</a>'\n",
              "            + ' to learn more about interactive tables.';\n",
              "          element.innerHTML = '';\n",
              "          dataTable['output_type'] = 'display_data';\n",
              "          await google.colab.output.renderOutput(dataTable, element);\n",
              "          const docLink = document.createElement('div');\n",
              "          docLink.innerHTML = docLinkHtml;\n",
              "          element.appendChild(docLink);\n",
              "        }\n",
              "      </script>\n",
              "    </div>\n",
              "  </div>\n",
              "  "
            ]
          },
          "metadata": {},
          "execution_count": 47
        }
      ]
    },
    {
      "cell_type": "markdown",
      "source": [
        "- SG PROVA"
      ],
      "metadata": {
        "id": "pnrhpPq0mPie"
      }
    },
    {
      "cell_type": "code",
      "source": [
        "gr_uf = {'AC': 1,'AL': 1,'AM': 1,'AP': 1,'MA': 1,'PA': 1,'PI': 1,'RO': 1,'TO': 1,\n",
        "         'BA': 2,'CE': 2,'MT': 2,'PB': 2,'PE': 2,'RR': 2,'SE': 2,\n",
        "         'GO': 3,'MS': 3,'RN': 3,\n",
        "         'DF': 4,'ES': 4,'MG': 4,'PR': 4,'RJ': 4,'RS': 4,'SC': 4,'SP': 4}"
      ],
      "metadata": {
        "id": "ewhEnd1Cd1XA"
      },
      "execution_count": null,
      "outputs": []
    },
    {
      "cell_type": "code",
      "source": [
        "df_ft['SG_UF_PROVA_'] = df_ft['SG_UF_PROVA'].map(gr_uf)"
      ],
      "metadata": {
        "id": "FpyU8Y8lx7cU"
      },
      "execution_count": null,
      "outputs": []
    },
    {
      "cell_type": "code",
      "source": [
        "df_ft.SG_UF_PROVA_.value_counts().sort_index()"
      ],
      "metadata": {
        "id": "Tscl1WYCzV_h",
        "colab": {
          "base_uri": "https://localhost:8080/"
        },
        "outputId": "b02e3f69-782b-4ee3-b1db-a713d30b252a"
      },
      "execution_count": null,
      "outputs": [
        {
          "output_type": "execute_result",
          "data": {
            "text/plain": [
              "1    346669\n",
              "2    494595\n",
              "3    136166\n",
              "4    886793\n",
              "Name: SG_UF_PROVA_, dtype: int64"
            ]
          },
          "metadata": {},
          "execution_count": 50
        }
      ]
    },
    {
      "cell_type": "code",
      "source": [
        "# Exemplo\n",
        "# df['Status'] = [\"Senior\" if s >=400 else \"Junior\" for s in df['Salary']]"
      ],
      "metadata": {
        "id": "QQazVOgj1D9S"
      },
      "execution_count": null,
      "outputs": []
    },
    {
      "cell_type": "markdown",
      "source": [
        "# **Recategorização das Variáveis**"
      ],
      "metadata": {
        "id": "6Vg0gzaCnLpo"
      }
    },
    {
      "cell_type": "markdown",
      "source": [
        "- Faixa Etária     "
      ],
      "metadata": {
        "id": "BWpnbgFL024l"
      }
    },
    {
      "cell_type": "code",
      "source": [
        "df_ft.loc[df_ft.TP_FAIXA_ETARIA == 1 ,'TP_FAIXA_ETARIA_']='1'\n",
        "df_ft.loc[df_ft.TP_FAIXA_ETARIA == 2 ,'TP_FAIXA_ETARIA_']='1'\n",
        "df_ft.loc[df_ft.TP_FAIXA_ETARIA == 3 ,'TP_FAIXA_ETARIA_']='2'\n",
        "df_ft.loc[df_ft.TP_FAIXA_ETARIA == 4 ,'TP_FAIXA_ETARIA_']='2'\n",
        "df_ft.loc[df_ft.TP_FAIXA_ETARIA == 5 ,'TP_FAIXA_ETARIA_']='2'\n",
        "df_ft.loc[df_ft.TP_FAIXA_ETARIA == 6 ,'TP_FAIXA_ETARIA_']='3'\n",
        "df_ft.loc[df_ft.TP_FAIXA_ETARIA == 7 ,'TP_FAIXA_ETARIA_']='3'\n",
        "df_ft.loc[df_ft.TP_FAIXA_ETARIA == 8 ,'TP_FAIXA_ETARIA_']='3'\n",
        "df_ft.loc[df_ft.TP_FAIXA_ETARIA == 9 ,'TP_FAIXA_ETARIA_']='3'\n",
        "df_ft.loc[df_ft.TP_FAIXA_ETARIA == 10 ,'TP_FAIXA_ETARIA_']='3'\n",
        "df_ft.loc[df_ft.TP_FAIXA_ETARIA == 11 ,'TP_FAIXA_ETARIA_']='3'\n",
        "df_ft.loc[df_ft.TP_FAIXA_ETARIA == 12 ,'TP_FAIXA_ETARIA_']='4'\n",
        "df_ft.loc[df_ft.TP_FAIXA_ETARIA == 13 ,'TP_FAIXA_ETARIA_']='4'\n",
        "df_ft.loc[df_ft.TP_FAIXA_ETARIA == 14 ,'TP_FAIXA_ETARIA_']='5'\n",
        "df_ft.loc[df_ft.TP_FAIXA_ETARIA == 15 ,'TP_FAIXA_ETARIA_']='5'\n",
        "df_ft.loc[df_ft.TP_FAIXA_ETARIA == 16 ,'TP_FAIXA_ETARIA_']='5'\n",
        "df_ft.loc[df_ft.TP_FAIXA_ETARIA == 17 ,'TP_FAIXA_ETARIA_']='5'\n",
        "df_ft.loc[df_ft.TP_FAIXA_ETARIA == 18 ,'TP_FAIXA_ETARIA_']='5'\n",
        "df_ft.loc[df_ft.TP_FAIXA_ETARIA == 19 ,'TP_FAIXA_ETARIA_']='5'\n",
        "df_ft.loc[df_ft.TP_FAIXA_ETARIA == 20 ,'TP_FAIXA_ETARIA_']='5'"
      ],
      "metadata": {
        "id": "FvCuzryJWUzm"
      },
      "execution_count": null,
      "outputs": []
    },
    {
      "cell_type": "markdown",
      "source": [
        "- Estado Civil"
      ],
      "metadata": {
        "id": "LznZJtzeAjgu"
      }
    },
    {
      "cell_type": "code",
      "source": [
        "df_ft.loc[df_ft.TP_ESTADO_CIVIL == 0 ,'TP_ESTADO_CIVIL_']='1'\n",
        "df_ft.loc[df_ft.TP_ESTADO_CIVIL == 1 ,'TP_ESTADO_CIVIL_']='2'\n",
        "df_ft.loc[df_ft.TP_ESTADO_CIVIL == 2 ,'TP_ESTADO_CIVIL_']='3'\n",
        "df_ft.loc[df_ft.TP_ESTADO_CIVIL == 3 ,'TP_ESTADO_CIVIL_']='3'\n",
        "df_ft.loc[df_ft.TP_ESTADO_CIVIL == 4 ,'TP_ESTADO_CIVIL_']='3'"
      ],
      "metadata": {
        "id": "1xH94aYNBPXX"
      },
      "execution_count": null,
      "outputs": []
    },
    {
      "cell_type": "markdown",
      "source": [
        "- Cor/Raça"
      ],
      "metadata": {
        "id": "jaPsnY6MB614"
      }
    },
    {
      "cell_type": "code",
      "source": [
        "df_ft.loc[df_ft.TP_COR_RACA == 0 ,'TP_COR_RACA_']='1'\n",
        "df_ft.loc[df_ft.TP_COR_RACA == 1 ,'TP_COR_RACA_']='2'\n",
        "df_ft.loc[df_ft.TP_COR_RACA == 2 ,'TP_COR_RACA_']='3'\n",
        "df_ft.loc[df_ft.TP_COR_RACA == 3 ,'TP_COR_RACA_']='3'\n",
        "df_ft.loc[df_ft.TP_COR_RACA == 4 ,'TP_COR_RACA_']='4'\n",
        "df_ft.loc[df_ft.TP_COR_RACA == 5 ,'TP_COR_RACA_']='5'\n",
        "df_ft.loc[df_ft.TP_COR_RACA == 6 ,'TP_COR_RACA_']='1'"
      ],
      "metadata": {
        "id": "4bV8KM8YCgby"
      },
      "execution_count": null,
      "outputs": []
    },
    {
      "cell_type": "markdown",
      "source": [
        "- Ano que concluiu"
      ],
      "metadata": {
        "id": "GPMpHLO6PAnv"
      }
    },
    {
      "cell_type": "code",
      "source": [
        "df_ft.loc[df_ft.TP_ANO_CONCLUIU == 0 ,'TP_ANO_CONCLUIU_']='1'\n",
        "df_ft.loc[df_ft.TP_ANO_CONCLUIU == 1 ,'TP_ANO_CONCLUIU_']='2'\n",
        "df_ft.loc[df_ft.TP_ANO_CONCLUIU == 2 ,'TP_ANO_CONCLUIU_']='2'\n",
        "df_ft.loc[df_ft.TP_ANO_CONCLUIU == 3 ,'TP_ANO_CONCLUIU_']='3'\n",
        "df_ft.loc[df_ft.TP_ANO_CONCLUIU == 4 ,'TP_ANO_CONCLUIU_']='3'\n",
        "df_ft.loc[df_ft.TP_ANO_CONCLUIU == 5 ,'TP_ANO_CONCLUIU_']='3'\n",
        "df_ft.loc[df_ft.TP_ANO_CONCLUIU == 6 ,'TP_ANO_CONCLUIU_']='4'\n",
        "df_ft.loc[df_ft.TP_ANO_CONCLUIU == 7 ,'TP_ANO_CONCLUIU_']='4'\n",
        "df_ft.loc[df_ft.TP_ANO_CONCLUIU == 8 ,'TP_ANO_CONCLUIU_']='4'\n",
        "df_ft.loc[df_ft.TP_ANO_CONCLUIU == 9 ,'TP_ANO_CONCLUIU_']='5'\n",
        "df_ft.loc[df_ft.TP_ANO_CONCLUIU == 10 ,'TP_ANO_CONCLUIU_']='5'\n",
        "df_ft.loc[df_ft.TP_ANO_CONCLUIU == 11 ,'TP_ANO_CONCLUIU_']='5'\n",
        "df_ft.loc[df_ft.TP_ANO_CONCLUIU == 12 ,'TP_ANO_CONCLUIU_']='6'\n",
        "df_ft.loc[df_ft.TP_ANO_CONCLUIU == 13 ,'TP_ANO_CONCLUIU_']='6'\n",
        "df_ft.loc[df_ft.TP_ANO_CONCLUIU == 14 ,'TP_ANO_CONCLUIU_']='6'\n",
        "df_ft.loc[df_ft.TP_ANO_CONCLUIU == 15 ,'TP_ANO_CONCLUIU_']='6'\n",
        "df_ft.loc[df_ft.TP_ANO_CONCLUIU == 16 ,'TP_ANO_CONCLUIU_']='6'"
      ],
      "metadata": {
        "id": "gb-147ngPfhs"
      },
      "execution_count": null,
      "outputs": []
    },
    {
      "cell_type": "markdown",
      "source": [
        "- Tipo de Escola"
      ],
      "metadata": {
        "id": "Ehxbnf7PQ9n9"
      }
    },
    {
      "cell_type": "code",
      "source": [
        "df_ft.loc[df_ft.TP_ESCOLA == 1 ,'TP_ESCOLA_']='1'\n",
        "df_ft.loc[df_ft.TP_ESCOLA == 2 ,'TP_ESCOLA_']='2'\n",
        "df_ft.loc[df_ft.TP_ESCOLA == 3 ,'TP_ESCOLA_']='3'\n",
        "df_ft.loc[df_ft.TP_ESCOLA == 4 ,'TP_ESCOLA_']='1'"
      ],
      "metadata": {
        "id": "YskTTCSbSi9V"
      },
      "execution_count": null,
      "outputs": []
    },
    {
      "cell_type": "markdown",
      "source": [
        "- Tipo de Ensino"
      ],
      "metadata": {
        "id": "Y39fm66cT2SV"
      }
    },
    {
      "cell_type": "code",
      "source": [
        "df_ft.loc[df_ft.TP_ENSINO == 1 ,'TP_ENSINO_']='1'\n",
        "df_ft.loc[df_ft.TP_ENSINO == 2 ,'TP_ENSINO_']='2'\n",
        "df_ft.loc[df_ft.TP_ENSINO == 3 ,'TP_ENSINO_']='2'\n",
        "df_ft.loc[df_ft.TP_ENSINO == 9 ,'TP_ENSINO_']='9'"
      ],
      "metadata": {
        "id": "Ws2VGMEwUcRV"
      },
      "execution_count": null,
      "outputs": []
    },
    {
      "cell_type": "markdown",
      "source": [
        "- Quantidade de Moradores na Residência"
      ],
      "metadata": {
        "id": "xaFjwhgur8wx"
      }
    },
    {
      "cell_type": "code",
      "source": [
        "df_ft.loc[df_ft.Q005 == 1 ,'Q005_']='1'\n",
        "df_ft.loc[df_ft.Q005 == 2 ,'Q005_']='1'\n",
        "df_ft.loc[df_ft.Q005 == 3 ,'Q005_']='1'\n",
        "df_ft.loc[df_ft.Q005 == 4 ,'Q005_']='1'\n",
        "df_ft.loc[df_ft.Q005 == 5 ,'Q005_']='2'\n",
        "df_ft.loc[df_ft.Q005 == 6 ,'Q005_']='3'\n",
        "df_ft.loc[df_ft.Q005 == 7 ,'Q005_']='4'\n",
        "df_ft.loc[df_ft.Q005 == 8 ,'Q005_']='5'\n",
        "df_ft.loc[df_ft.Q005 == 9 ,'Q005_']='5'\n",
        "df_ft.loc[df_ft.Q005 == 10 ,'Q005_']='5'\n",
        "df_ft.loc[df_ft.Q005 == 11 ,'Q005_']='5'\n",
        "df_ft.loc[df_ft.Q005 == 12 ,'Q005_']='5'\n",
        "df_ft.loc[df_ft.Q005 == 13 ,'Q005_']='5'\n",
        "df_ft.loc[df_ft.Q005 == 14 ,'Q005_']='5'\n",
        "df_ft.loc[df_ft.Q005 == 15 ,'Q005_']='5'\n",
        "df_ft.loc[df_ft.Q005 == 16 ,'Q005_']='5'\n",
        "df_ft.loc[df_ft.Q005 == 17 ,'Q005_']='5'\n",
        "df_ft.loc[df_ft.Q005 == 18 ,'Q005_']='5'\n",
        "df_ft.loc[df_ft.Q005 == 19 ,'Q005_']='5'\n",
        "df_ft.loc[df_ft.Q005 == 20 ,'Q005_']='5'"
      ],
      "metadata": {
        "id": "DI5SVBvgsAW-"
      },
      "execution_count": null,
      "outputs": []
    },
    {
      "cell_type": "markdown",
      "source": [
        "- Renda"
      ],
      "metadata": {
        "id": "_G3MiZ6AtUKI"
      }
    },
    {
      "cell_type": "code",
      "source": [
        "df_ft.loc[df_ft.Q006 == 'A' ,'Q006_']='1'\n",
        "df_ft.loc[df_ft.Q006 == 'B' ,'Q006_']='2'\n",
        "df_ft.loc[df_ft.Q006 == 'C' ,'Q006_']='3'\n",
        "df_ft.loc[df_ft.Q006 == 'D' ,'Q006_']='4'\n",
        "df_ft.loc[df_ft.Q006 == 'E' ,'Q006_']='5'\n",
        "df_ft.loc[df_ft.Q006 == 'F' ,'Q006_']='6'\n",
        "df_ft.loc[df_ft.Q006 == 'G' ,'Q006_']='6'\n",
        "df_ft.loc[df_ft.Q006 == 'H' ,'Q006_']='7'\n",
        "df_ft.loc[df_ft.Q006 == 'I' ,'Q006_']='7'\n",
        "df_ft.loc[df_ft.Q006 == 'J' ,'Q006_']='8'\n",
        "df_ft.loc[df_ft.Q006 == 'K' ,'Q006_']='8'\n",
        "df_ft.loc[df_ft.Q006 == 'L' ,'Q006_']='9'\n",
        "df_ft.loc[df_ft.Q006 == 'M' ,'Q006_']='9'\n",
        "df_ft.loc[df_ft.Q006 == 'N' ,'Q006_']='10'\n",
        "df_ft.loc[df_ft.Q006 == 'O' ,'Q006_']='10'\n",
        "df_ft.loc[df_ft.Q006 == 'P' ,'Q006_']='10'\n",
        "df_ft.loc[df_ft.Q006 == 'Q' ,'Q006_']='10'"
      ],
      "metadata": {
        "id": "jmnD8XO0tUUS"
      },
      "execution_count": null,
      "outputs": []
    },
    {
      "cell_type": "markdown",
      "source": [
        "- Ter Empregada Doméstica"
      ],
      "metadata": {
        "id": "RFzwvvhIvHc4"
      }
    },
    {
      "cell_type": "code",
      "source": [
        "df_ft.loc[df_ft.Q007 == 'A' ,'Q007_']='1'\n",
        "df_ft.loc[df_ft.Q007 == 'B' ,'Q007_']='2'\n",
        "df_ft.loc[df_ft.Q007 == 'C' ,'Q007_']='2'\n",
        "df_ft.loc[df_ft.Q007 == 'D' ,'Q007_']='2'"
      ],
      "metadata": {
        "id": "MAVGaCpevHmZ"
      },
      "execution_count": null,
      "outputs": []
    },
    {
      "cell_type": "markdown",
      "source": [
        "- Qtde de Banheiros"
      ],
      "metadata": {
        "id": "KmYHiLuzwGIj"
      }
    },
    {
      "cell_type": "code",
      "source": [
        "df_ft.loc[df_ft.Q008 == 'A' ,'Q008_']='1'\n",
        "df_ft.loc[df_ft.Q008 == 'B' ,'Q008_']='1'\n",
        "df_ft.loc[df_ft.Q008 == 'C' ,'Q008_']='2'\n",
        "df_ft.loc[df_ft.Q008 == 'D' ,'Q008_']='3'\n",
        "df_ft.loc[df_ft.Q008 == 'E' ,'Q008_']='4'"
      ],
      "metadata": {
        "id": "AfXP2wY0wGSm"
      },
      "execution_count": null,
      "outputs": []
    },
    {
      "cell_type": "markdown",
      "source": [
        "- Qtde de Quartos"
      ],
      "metadata": {
        "id": "0wsN9ifSwuYc"
      }
    },
    {
      "cell_type": "code",
      "source": [
        "df_ft.loc[df_ft.Q009 == 'A' ,'Q009_']='1'\n",
        "df_ft.loc[df_ft.Q009 == 'B' ,'Q009_']='1'\n",
        "df_ft.loc[df_ft.Q009 == 'C' ,'Q009_']='2'\n",
        "df_ft.loc[df_ft.Q009 == 'D' ,'Q009_']='3'\n",
        "df_ft.loc[df_ft.Q009 == 'E' ,'Q009_']='4'"
      ],
      "metadata": {
        "id": "RdhjBpzuwuhC"
      },
      "execution_count": null,
      "outputs": []
    },
    {
      "cell_type": "markdown",
      "source": [
        "- Qtde de Carros"
      ],
      "metadata": {
        "id": "tsLiUC7VxNoN"
      }
    },
    {
      "cell_type": "code",
      "source": [
        "df_ft.loc[df_ft.Q010 == 'A' ,'Q010_']='1'\n",
        "df_ft.loc[df_ft.Q010 == 'B' ,'Q010_']='2'\n",
        "df_ft.loc[df_ft.Q010 == 'C' ,'Q010_']='3'\n",
        "df_ft.loc[df_ft.Q010 == 'D' ,'Q010_']='4'\n",
        "df_ft.loc[df_ft.Q010 == 'E' ,'Q010_']='4'"
      ],
      "metadata": {
        "id": "2TLqMB63xNwx"
      },
      "execution_count": null,
      "outputs": []
    },
    {
      "cell_type": "markdown",
      "source": [
        "- Qtde de Motos"
      ],
      "metadata": {
        "id": "MIe-ytOlxqzh"
      }
    },
    {
      "cell_type": "code",
      "source": [
        "df_ft.loc[df_ft.Q011 == 'A' ,'Q011_']='1'\n",
        "df_ft.loc[df_ft.Q011 == 'B' ,'Q011_']='2'\n",
        "df_ft.loc[df_ft.Q011 == 'C' ,'Q011_']='3'\n",
        "df_ft.loc[df_ft.Q011 == 'D' ,'Q011_']='3'\n",
        "df_ft.loc[df_ft.Q011 == 'E' ,'Q011_']='3'"
      ],
      "metadata": {
        "id": "XsBLvQ4Lxq8U"
      },
      "execution_count": null,
      "outputs": []
    },
    {
      "cell_type": "markdown",
      "source": [
        "- Qtde de Geladeiras"
      ],
      "metadata": {
        "id": "BMHN5x5tyowt"
      }
    },
    {
      "cell_type": "code",
      "source": [
        "df_ft.loc[df_ft.Q012 == 'A' ,'Q012_']='1'\n",
        "df_ft.loc[df_ft.Q012 == 'B' ,'Q012_']='2'\n",
        "df_ft.loc[df_ft.Q012 == 'C' ,'Q012_']='3'\n",
        "df_ft.loc[df_ft.Q012 == 'D' ,'Q012_']='3'\n",
        "df_ft.loc[df_ft.Q012 == 'E' ,'Q012_']='3'"
      ],
      "metadata": {
        "id": "ppl49W2hyo8C"
      },
      "execution_count": null,
      "outputs": []
    },
    {
      "cell_type": "markdown",
      "source": [
        "- Qtde de Freezer"
      ],
      "metadata": {
        "id": "YgSjY8HQy5dE"
      }
    },
    {
      "cell_type": "code",
      "source": [
        "df_ft.loc[df_ft.Q013 == 'A' ,'Q013_']='1'\n",
        "df_ft.loc[df_ft.Q013 == 'B' ,'Q013_']='2'\n",
        "df_ft.loc[df_ft.Q013 == 'C' ,'Q013_']='3'\n",
        "df_ft.loc[df_ft.Q013 == 'D' ,'Q013_']='3'\n",
        "df_ft.loc[df_ft.Q013 == 'E' ,'Q013_']='3'"
      ],
      "metadata": {
        "id": "Ual5LhU4y5qR"
      },
      "execution_count": null,
      "outputs": []
    },
    {
      "cell_type": "markdown",
      "source": [
        "- Qtde de Lavadora de Roupa"
      ],
      "metadata": {
        "id": "kfvX_DZCzgww"
      }
    },
    {
      "cell_type": "code",
      "source": [
        "df_ft.loc[df_ft.Q014 == 'A' ,'Q014_']='1'\n",
        "df_ft.loc[df_ft.Q014 == 'B' ,'Q014_']='2'\n",
        "df_ft.loc[df_ft.Q014 == 'C' ,'Q014_']='3'\n",
        "df_ft.loc[df_ft.Q014 == 'D' ,'Q014_']='3'\n",
        "df_ft.loc[df_ft.Q014 == 'E' ,'Q014_']='3'"
      ],
      "metadata": {
        "id": "qujTGuRMzg7X"
      },
      "execution_count": null,
      "outputs": []
    },
    {
      "cell_type": "markdown",
      "source": [
        "- Qtde de Secadora de Roupa"
      ],
      "metadata": {
        "id": "bUdAlDA9z-lI"
      }
    },
    {
      "cell_type": "code",
      "source": [
        "df_ft.loc[df_ft.Q015 == 'A' ,'Q015_']='1'\n",
        "df_ft.loc[df_ft.Q015 == 'B' ,'Q015_']='2'\n",
        "df_ft.loc[df_ft.Q015 == 'C' ,'Q015_']='2'\n",
        "df_ft.loc[df_ft.Q015 == 'D' ,'Q015_']='2'\n",
        "df_ft.loc[df_ft.Q015 == 'E' ,'Q015_']='2'"
      ],
      "metadata": {
        "id": "Pm1MyRT8z-tX"
      },
      "execution_count": null,
      "outputs": []
    },
    {
      "cell_type": "markdown",
      "source": [
        "- Qtde de Microondas"
      ],
      "metadata": {
        "id": "SJOillJJ0Vxn"
      }
    },
    {
      "cell_type": "code",
      "source": [
        "df_ft.loc[df_ft.Q016 == 'A' ,'Q016_']='1'\n",
        "df_ft.loc[df_ft.Q016 == 'B' ,'Q016_']='2'\n",
        "df_ft.loc[df_ft.Q016 == 'C' ,'Q016_']='2'\n",
        "df_ft.loc[df_ft.Q016 == 'D' ,'Q016_']='2'\n",
        "df_ft.loc[df_ft.Q016 == 'E' ,'Q016_']='2'"
      ],
      "metadata": {
        "id": "cXqQdRPh0V4K"
      },
      "execution_count": null,
      "outputs": []
    },
    {
      "cell_type": "markdown",
      "source": [
        "- Qtde de Lavadora de Louças"
      ],
      "metadata": {
        "id": "5I-6DAVu0lyu"
      }
    },
    {
      "cell_type": "code",
      "source": [
        "df_ft.loc[df_ft.Q017 == 'A' ,'Q017_']='1'\n",
        "df_ft.loc[df_ft.Q017 == 'B' ,'Q017_']='2'\n",
        "df_ft.loc[df_ft.Q017 == 'C' ,'Q017_']='2'\n",
        "df_ft.loc[df_ft.Q017 == 'D' ,'Q017_']='2'\n",
        "df_ft.loc[df_ft.Q017 == 'E' ,'Q017_']='2'"
      ],
      "metadata": {
        "id": "QtCOPNZq0l7q"
      },
      "execution_count": null,
      "outputs": []
    },
    {
      "cell_type": "markdown",
      "source": [
        "- Qtde de TVs"
      ],
      "metadata": {
        "id": "qnUe4FCF1I4V"
      }
    },
    {
      "cell_type": "code",
      "source": [
        "df_ft.loc[df_ft.Q019 == 'A' ,'Q019_']='1'\n",
        "df_ft.loc[df_ft.Q019 == 'B' ,'Q019_']='2'\n",
        "df_ft.loc[df_ft.Q019 == 'C' ,'Q019_']='3'\n",
        "df_ft.loc[df_ft.Q019 == 'D' ,'Q019_']='4'\n",
        "df_ft.loc[df_ft.Q019 == 'E' ,'Q019_']='5'"
      ],
      "metadata": {
        "id": "SAoC34rG02IY"
      },
      "execution_count": null,
      "outputs": []
    },
    {
      "cell_type": "markdown",
      "source": [
        "- Qtde de computadores"
      ],
      "metadata": {
        "id": "rUTcrnjT2cHU"
      }
    },
    {
      "cell_type": "code",
      "source": [
        "df_ft.loc[df_ft.Q024 == 'A' ,'Q024_']='1'\n",
        "df_ft.loc[df_ft.Q024 == 'B' ,'Q024_']='2'\n",
        "df_ft.loc[df_ft.Q024 == 'C' ,'Q024_']='3'\n",
        "df_ft.loc[df_ft.Q024 == 'D' ,'Q024_']='4'\n",
        "df_ft.loc[df_ft.Q024 == 'E' ,'Q024_']='4'"
      ],
      "metadata": {
        "id": "Rs9iwMXf2cOn"
      },
      "execution_count": null,
      "outputs": []
    },
    {
      "cell_type": "markdown",
      "source": [
        "# **Definição de Variáveis**"
      ],
      "metadata": {
        "id": "hiBS1KNcEI1M"
      }
    },
    {
      "cell_type": "code",
      "source": [
        "df_ft.columns"
      ],
      "metadata": {
        "id": "jmWQjMy2zXqd",
        "colab": {
          "base_uri": "https://localhost:8080/"
        },
        "outputId": "8b7de89b-0e2c-45ca-b521-023bd5c2ea6b"
      },
      "execution_count": null,
      "outputs": [
        {
          "output_type": "execute_result",
          "data": {
            "text/plain": [
              "Index(['NU_INSCRICAO', 'NU_ANO', 'TP_FAIXA_ETARIA', 'TP_SEXO',\n",
              "       'TP_ESTADO_CIVIL', 'TP_COR_RACA', 'TP_ST_CONCLUSAO', 'TP_ANO_CONCLUIU',\n",
              "       'TP_ESCOLA', 'TP_ENSINO',\n",
              "       ...\n",
              "       'Q005_', 'Q006_', 'Q012_', 'Q013_', 'Q014_', 'Q015_', 'Q016_', 'Q017_',\n",
              "       'Q019_', 'Q024_'],\n",
              "      dtype='object', length=108)"
            ]
          },
          "metadata": {},
          "execution_count": 73
        }
      ]
    },
    {
      "cell_type": "code",
      "source": [
        "df_varquali = df_ft[['TP_FAIXA_ETARIA','TP_FAIXA_ETARIA_',\n",
        "                     'TP_SEXO',\n",
        "                     'TP_ESTADO_CIVIL', 'TP_ESTADO_CIVIL_',\n",
        "                     'TP_COR_RACA', 'TP_COR_RACA_',\n",
        "                     'TP_ESCOLA', 'TP_ESCOLA_',\n",
        "                     'TP_ENSINO', 'TP_ENSINO_',\n",
        "                     'SG_UF_ESC',\n",
        "                     'SG_UF_PROVA', 'SG_UF_PROVA_',\n",
        "                     'TP_ANO_CONCLUIU', 'TP_ANO_CONCLUIU_',\n",
        "                     'TP_LINGUA',\n",
        "                     'Q001',\n",
        "                     'Q002',\n",
        "                     'Q003',\n",
        "                     'Q004',\n",
        "                     'Q005', 'Q005_',\n",
        "                     'Q006', 'Q006_',\n",
        "                     'Q007', 'Q007_',\n",
        "                     'Q008', 'Q008_',\n",
        "                     'Q009', 'Q009_',\n",
        "                     'Q010', 'Q010_',\n",
        "                     'Q011', 'Q011_',\n",
        "                     'Q012', 'Q012_',\n",
        "                     'Q013', 'Q013_',\n",
        "                     'Q014', 'Q014_',\n",
        "                     'Q015', 'Q015_',\n",
        "                     'Q016', 'Q016_',\n",
        "                     'Q017', 'Q017_',\n",
        "                     'Q018',\n",
        "                     'Q019', 'Q019_',\n",
        "                     'Q020',\n",
        "                     'Q021',\n",
        "                     'Q022',\n",
        "                     'Q023',\n",
        "                     'Q024', 'Q024_',\n",
        "                     'Q025',\n",
        "                     'Sum_TIC3', 'Sum_TIC3_',\n",
        "                     'Sum_TIC5', 'Sum_TIC5_',\n",
        "                     'Sum_Elet', 'Sum_Elet_',\n",
        "                     'Esc_Max',\n",
        "                     'Car_Mot', 'Car_Mot_',\n",
        "                     'Tot_PtCasa', 'Tot_PtCasa_',\n",
        "                     'RegGeo_Prova',\n",
        "                     'Ter_Cel', 'Ter_Com',\n",
        "                     'Sum_Target_2']]"
      ],
      "metadata": {
        "id": "Kq_8tKS0dbKs"
      },
      "execution_count": null,
      "outputs": []
    },
    {
      "cell_type": "code",
      "source": [
        "df_varquali.info()"
      ],
      "metadata": {
        "id": "ZCCRs5MxUbly",
        "colab": {
          "base_uri": "https://localhost:8080/"
        },
        "outputId": "46c2e476-64d5-4434-caa5-bb2ee441783d"
      },
      "execution_count": null,
      "outputs": [
        {
          "output_type": "stream",
          "name": "stdout",
          "text": [
            "<class 'pandas.core.frame.DataFrame'>\n",
            "RangeIndex: 1864223 entries, 0 to 1864222\n",
            "Data columns (total 72 columns):\n",
            " #   Column            Dtype  \n",
            "---  ------            -----  \n",
            " 0   TP_FAIXA_ETARIA   int64  \n",
            " 1   TP_FAIXA_ETARIA_  object \n",
            " 2   TP_SEXO           object \n",
            " 3   TP_ESTADO_CIVIL   int64  \n",
            " 4   TP_ESTADO_CIVIL_  object \n",
            " 5   TP_COR_RACA       int64  \n",
            " 6   TP_COR_RACA_      object \n",
            " 7   TP_ESCOLA         int64  \n",
            " 8   TP_ESCOLA_        object \n",
            " 9   TP_ENSINO         int64  \n",
            " 10  TP_ENSINO_        object \n",
            " 11  SG_UF_ESC         object \n",
            " 12  SG_UF_PROVA       object \n",
            " 13  SG_UF_PROVA_      int64  \n",
            " 14  TP_ANO_CONCLUIU   int64  \n",
            " 15  TP_ANO_CONCLUIU_  object \n",
            " 16  TP_LINGUA         int64  \n",
            " 17  Q001              object \n",
            " 18  Q002              object \n",
            " 19  Q003              object \n",
            " 20  Q004              object \n",
            " 21  Q005              float64\n",
            " 22  Q005_             object \n",
            " 23  Q006              object \n",
            " 24  Q006_             object \n",
            " 25  Q007              object \n",
            " 26  Q007_             object \n",
            " 27  Q008              object \n",
            " 28  Q008_             object \n",
            " 29  Q009              object \n",
            " 30  Q009_             object \n",
            " 31  Q010              object \n",
            " 32  Q010_             object \n",
            " 33  Q011              object \n",
            " 34  Q011_             object \n",
            " 35  Q012              object \n",
            " 36  Q012_             object \n",
            " 37  Q013              object \n",
            " 38  Q013_             object \n",
            " 39  Q014              object \n",
            " 40  Q014_             object \n",
            " 41  Q015              object \n",
            " 42  Q015_             object \n",
            " 43  Q016              object \n",
            " 44  Q016_             object \n",
            " 45  Q017              object \n",
            " 46  Q017_             object \n",
            " 47  Q018              object \n",
            " 48  Q019              object \n",
            " 49  Q019_             object \n",
            " 50  Q020              object \n",
            " 51  Q021              object \n",
            " 52  Q022              object \n",
            " 53  Q023              object \n",
            " 54  Q024              object \n",
            " 55  Q024_             object \n",
            " 56  Q025              object \n",
            " 57  Sum_TIC3          int64  \n",
            " 58  Sum_TIC3_         object \n",
            " 59  Sum_TIC5          int64  \n",
            " 60  Sum_TIC5_         object \n",
            " 61  Sum_Elet          int64  \n",
            " 62  Sum_Elet_         object \n",
            " 63  Esc_Max           object \n",
            " 64  Car_Mot           object \n",
            " 65  Car_Mot_          object \n",
            " 66  Tot_PtCasa        int64  \n",
            " 67  Tot_PtCasa_       object \n",
            " 68  RegGeo_Prova      object \n",
            " 69  Ter_Cel           int64  \n",
            " 70  Ter_Com           int64  \n",
            " 71  Sum_Target_2      int64  \n",
            "dtypes: float64(1), int64(15), object(56)\n",
            "memory usage: 1.0+ GB\n"
          ]
        }
      ]
    },
    {
      "cell_type": "markdown",
      "source": [
        "# **Análise das Categorias das Variáveis**"
      ],
      "metadata": {
        "id": "2YndI83d0Yzj"
      }
    },
    {
      "cell_type": "code",
      "source": [
        "table_categ = pd.DataFrame()\n",
        "totais_valid = pd.DataFrame()\n",
        "i = 0\n",
        "\n",
        "for column in df_varquali:\n",
        "  var = df_varquali.columns[i]\n",
        "  c1 = df_varquali[column].value_counts().sort_index()\n",
        "  c2 = round(df_varquali[column].value_counts().sort_index()/df_varquali.shape[0] * 100,2)\n",
        "  c3 = df_varquali.groupby([column])['Sum_Target_2'].sum()\n",
        "  c4 = round(c3/df_ft['Sum_Target_2'].sum() * 100, 2)\n",
        "  c5 = c1 - c3\n",
        "  c6 = round(c5/df_ft['Sum_Target_2'].loc[df_ft.Sum_Target_2 == 0].count() * 100, 2)\n",
        "  c7 = round(c3/c1 * 100, 2)\n",
        "  c8 = round(c4/c6,2)\n",
        "\n",
        "  table = pd.concat([c1, c2, c3, c4, c5, c6, c7, c8], axis=1)\n",
        "  table.columns = ['n', '% Total', 'n AD', '% AD Total','n BD', '% BD Total', '% AD Categoria', 'Razão AD/BD']\n",
        "\n",
        "  totais = round(table.sum())\n",
        "  totais_ = pd.DataFrame(data=totais, columns=['Total'])\n",
        "  totais_t = totais_.transpose()\n",
        "  totais_valid = pd.concat([totais_valid, totais_t])\n",
        "\n",
        "  table['Variavel'] = var\n",
        "  table_categ = pd.concat([table_categ, table])\n",
        "  i = i + 1\n",
        "\n",
        "  #n = table_categ.shape\n",
        "  #table_categ.loc[n[0]+1]=['','','','','',''] # Criar linha vazia entre as tabelas\n",
        "\n",
        "table_categ['Ano'] = 2021\n",
        "\n",
        "table_categ.to_excel('/content/drive/MyDrive/MBA_TCC/RESULTADOS/Table_Categorias_2021.xlsx')\n",
        "totais_valid.to_excel('/content/drive/MyDrive/MBA_TCC/RESULTADOS/Totais_Table_Categorias_2021.xlsx')"
      ],
      "metadata": {
        "id": "axxA261-eBba"
      },
      "execution_count": null,
      "outputs": []
    },
    {
      "cell_type": "markdown",
      "source": [
        "# **Análises Adicionais**"
      ],
      "metadata": {
        "id": "ECCS8445owAd"
      }
    },
    {
      "cell_type": "code",
      "source": [
        "df_teste = df_ft.loc[df_ft['Sum_Target_2'] == 1]\n",
        "df_teste.shape"
      ],
      "metadata": {
        "id": "wzEdYZ4TpOGi",
        "colab": {
          "base_uri": "https://localhost:8080/"
        },
        "outputId": "624cb514-7c73-4fdd-e878-4c63206c85a5"
      },
      "execution_count": null,
      "outputs": [
        {
          "output_type": "execute_result",
          "data": {
            "text/plain": [
              "(919281, 108)"
            ]
          },
          "metadata": {},
          "execution_count": 77
        }
      ]
    },
    {
      "cell_type": "code",
      "source": [
        "pd.crosstab(df_ft.TP_FAIXA_ETARIA,df_ft.TP_ST_CONCLUSAO, margins=True, dropna=False)"
      ],
      "metadata": {
        "id": "fppQXkH9o26H",
        "colab": {
          "base_uri": "https://localhost:8080/",
          "height": 739
        },
        "outputId": "4f3d7ef9-95ec-4afe-98be-258929c27ccc"
      },
      "execution_count": null,
      "outputs": [
        {
          "output_type": "execute_result",
          "data": {
            "text/plain": [
              "TP_ST_CONCLUSAO        1       2      All\n",
              "TP_FAIXA_ETARIA                          \n",
              "1                    542   10054    10596\n",
              "2                   6332  379858   386190\n",
              "3                 149221  359967   509188\n",
              "4                 193626   63487   257113\n",
              "5                 132754   17795   150549\n",
              "6                  93644    5435    99079\n",
              "7                  67402    2244    69646\n",
              "8                  49329    1200    50529\n",
              "9                  39952     884    40836\n",
              "10                 31750     630    32380\n",
              "11                 96323    2006    98329\n",
              "12                 54368    1247    55615\n",
              "13                 39577     934    40511\n",
              "14                 26230     641    26871\n",
              "15                 16935     475    17410\n",
              "16                 10207     299    10506\n",
              "17                  5474     158     5632\n",
              "18                  2144      57     2201\n",
              "19                   717      21      738\n",
              "20                   297       7      304\n",
              "All              1016824  847399  1864223"
            ],
            "text/html": [
              "\n",
              "  <div id=\"df-5df829bb-042a-4048-882a-dd9186e23758\">\n",
              "    <div class=\"colab-df-container\">\n",
              "      <div>\n",
              "<style scoped>\n",
              "    .dataframe tbody tr th:only-of-type {\n",
              "        vertical-align: middle;\n",
              "    }\n",
              "\n",
              "    .dataframe tbody tr th {\n",
              "        vertical-align: top;\n",
              "    }\n",
              "\n",
              "    .dataframe thead th {\n",
              "        text-align: right;\n",
              "    }\n",
              "</style>\n",
              "<table border=\"1\" class=\"dataframe\">\n",
              "  <thead>\n",
              "    <tr style=\"text-align: right;\">\n",
              "      <th>TP_ST_CONCLUSAO</th>\n",
              "      <th>1</th>\n",
              "      <th>2</th>\n",
              "      <th>All</th>\n",
              "    </tr>\n",
              "    <tr>\n",
              "      <th>TP_FAIXA_ETARIA</th>\n",
              "      <th></th>\n",
              "      <th></th>\n",
              "      <th></th>\n",
              "    </tr>\n",
              "  </thead>\n",
              "  <tbody>\n",
              "    <tr>\n",
              "      <th>1</th>\n",
              "      <td>542</td>\n",
              "      <td>10054</td>\n",
              "      <td>10596</td>\n",
              "    </tr>\n",
              "    <tr>\n",
              "      <th>2</th>\n",
              "      <td>6332</td>\n",
              "      <td>379858</td>\n",
              "      <td>386190</td>\n",
              "    </tr>\n",
              "    <tr>\n",
              "      <th>3</th>\n",
              "      <td>149221</td>\n",
              "      <td>359967</td>\n",
              "      <td>509188</td>\n",
              "    </tr>\n",
              "    <tr>\n",
              "      <th>4</th>\n",
              "      <td>193626</td>\n",
              "      <td>63487</td>\n",
              "      <td>257113</td>\n",
              "    </tr>\n",
              "    <tr>\n",
              "      <th>5</th>\n",
              "      <td>132754</td>\n",
              "      <td>17795</td>\n",
              "      <td>150549</td>\n",
              "    </tr>\n",
              "    <tr>\n",
              "      <th>6</th>\n",
              "      <td>93644</td>\n",
              "      <td>5435</td>\n",
              "      <td>99079</td>\n",
              "    </tr>\n",
              "    <tr>\n",
              "      <th>7</th>\n",
              "      <td>67402</td>\n",
              "      <td>2244</td>\n",
              "      <td>69646</td>\n",
              "    </tr>\n",
              "    <tr>\n",
              "      <th>8</th>\n",
              "      <td>49329</td>\n",
              "      <td>1200</td>\n",
              "      <td>50529</td>\n",
              "    </tr>\n",
              "    <tr>\n",
              "      <th>9</th>\n",
              "      <td>39952</td>\n",
              "      <td>884</td>\n",
              "      <td>40836</td>\n",
              "    </tr>\n",
              "    <tr>\n",
              "      <th>10</th>\n",
              "      <td>31750</td>\n",
              "      <td>630</td>\n",
              "      <td>32380</td>\n",
              "    </tr>\n",
              "    <tr>\n",
              "      <th>11</th>\n",
              "      <td>96323</td>\n",
              "      <td>2006</td>\n",
              "      <td>98329</td>\n",
              "    </tr>\n",
              "    <tr>\n",
              "      <th>12</th>\n",
              "      <td>54368</td>\n",
              "      <td>1247</td>\n",
              "      <td>55615</td>\n",
              "    </tr>\n",
              "    <tr>\n",
              "      <th>13</th>\n",
              "      <td>39577</td>\n",
              "      <td>934</td>\n",
              "      <td>40511</td>\n",
              "    </tr>\n",
              "    <tr>\n",
              "      <th>14</th>\n",
              "      <td>26230</td>\n",
              "      <td>641</td>\n",
              "      <td>26871</td>\n",
              "    </tr>\n",
              "    <tr>\n",
              "      <th>15</th>\n",
              "      <td>16935</td>\n",
              "      <td>475</td>\n",
              "      <td>17410</td>\n",
              "    </tr>\n",
              "    <tr>\n",
              "      <th>16</th>\n",
              "      <td>10207</td>\n",
              "      <td>299</td>\n",
              "      <td>10506</td>\n",
              "    </tr>\n",
              "    <tr>\n",
              "      <th>17</th>\n",
              "      <td>5474</td>\n",
              "      <td>158</td>\n",
              "      <td>5632</td>\n",
              "    </tr>\n",
              "    <tr>\n",
              "      <th>18</th>\n",
              "      <td>2144</td>\n",
              "      <td>57</td>\n",
              "      <td>2201</td>\n",
              "    </tr>\n",
              "    <tr>\n",
              "      <th>19</th>\n",
              "      <td>717</td>\n",
              "      <td>21</td>\n",
              "      <td>738</td>\n",
              "    </tr>\n",
              "    <tr>\n",
              "      <th>20</th>\n",
              "      <td>297</td>\n",
              "      <td>7</td>\n",
              "      <td>304</td>\n",
              "    </tr>\n",
              "    <tr>\n",
              "      <th>All</th>\n",
              "      <td>1016824</td>\n",
              "      <td>847399</td>\n",
              "      <td>1864223</td>\n",
              "    </tr>\n",
              "  </tbody>\n",
              "</table>\n",
              "</div>\n",
              "      <button class=\"colab-df-convert\" onclick=\"convertToInteractive('df-5df829bb-042a-4048-882a-dd9186e23758')\"\n",
              "              title=\"Convert this dataframe to an interactive table.\"\n",
              "              style=\"display:none;\">\n",
              "        \n",
              "  <svg xmlns=\"http://www.w3.org/2000/svg\" height=\"24px\"viewBox=\"0 0 24 24\"\n",
              "       width=\"24px\">\n",
              "    <path d=\"M0 0h24v24H0V0z\" fill=\"none\"/>\n",
              "    <path d=\"M18.56 5.44l.94 2.06.94-2.06 2.06-.94-2.06-.94-.94-2.06-.94 2.06-2.06.94zm-11 1L8.5 8.5l.94-2.06 2.06-.94-2.06-.94L8.5 2.5l-.94 2.06-2.06.94zm10 10l.94 2.06.94-2.06 2.06-.94-2.06-.94-.94-2.06-.94 2.06-2.06.94z\"/><path d=\"M17.41 7.96l-1.37-1.37c-.4-.4-.92-.59-1.43-.59-.52 0-1.04.2-1.43.59L10.3 9.45l-7.72 7.72c-.78.78-.78 2.05 0 2.83L4 21.41c.39.39.9.59 1.41.59.51 0 1.02-.2 1.41-.59l7.78-7.78 2.81-2.81c.8-.78.8-2.07 0-2.86zM5.41 20L4 18.59l7.72-7.72 1.47 1.35L5.41 20z\"/>\n",
              "  </svg>\n",
              "      </button>\n",
              "      \n",
              "  <style>\n",
              "    .colab-df-container {\n",
              "      display:flex;\n",
              "      flex-wrap:wrap;\n",
              "      gap: 12px;\n",
              "    }\n",
              "\n",
              "    .colab-df-convert {\n",
              "      background-color: #E8F0FE;\n",
              "      border: none;\n",
              "      border-radius: 50%;\n",
              "      cursor: pointer;\n",
              "      display: none;\n",
              "      fill: #1967D2;\n",
              "      height: 32px;\n",
              "      padding: 0 0 0 0;\n",
              "      width: 32px;\n",
              "    }\n",
              "\n",
              "    .colab-df-convert:hover {\n",
              "      background-color: #E2EBFA;\n",
              "      box-shadow: 0px 1px 2px rgba(60, 64, 67, 0.3), 0px 1px 3px 1px rgba(60, 64, 67, 0.15);\n",
              "      fill: #174EA6;\n",
              "    }\n",
              "\n",
              "    [theme=dark] .colab-df-convert {\n",
              "      background-color: #3B4455;\n",
              "      fill: #D2E3FC;\n",
              "    }\n",
              "\n",
              "    [theme=dark] .colab-df-convert:hover {\n",
              "      background-color: #434B5C;\n",
              "      box-shadow: 0px 1px 3px 1px rgba(0, 0, 0, 0.15);\n",
              "      filter: drop-shadow(0px 1px 2px rgba(0, 0, 0, 0.3));\n",
              "      fill: #FFFFFF;\n",
              "    }\n",
              "  </style>\n",
              "\n",
              "      <script>\n",
              "        const buttonEl =\n",
              "          document.querySelector('#df-5df829bb-042a-4048-882a-dd9186e23758 button.colab-df-convert');\n",
              "        buttonEl.style.display =\n",
              "          google.colab.kernel.accessAllowed ? 'block' : 'none';\n",
              "\n",
              "        async function convertToInteractive(key) {\n",
              "          const element = document.querySelector('#df-5df829bb-042a-4048-882a-dd9186e23758');\n",
              "          const dataTable =\n",
              "            await google.colab.kernel.invokeFunction('convertToInteractive',\n",
              "                                                     [key], {});\n",
              "          if (!dataTable) return;\n",
              "\n",
              "          const docLinkHtml = 'Like what you see? Visit the ' +\n",
              "            '<a target=\"_blank\" href=https://colab.research.google.com/notebooks/data_table.ipynb>data table notebook</a>'\n",
              "            + ' to learn more about interactive tables.';\n",
              "          element.innerHTML = '';\n",
              "          dataTable['output_type'] = 'display_data';\n",
              "          await google.colab.output.renderOutput(dataTable, element);\n",
              "          const docLink = document.createElement('div');\n",
              "          docLink.innerHTML = docLinkHtml;\n",
              "          element.appendChild(docLink);\n",
              "        }\n",
              "      </script>\n",
              "    </div>\n",
              "  </div>\n",
              "  "
            ]
          },
          "metadata": {},
          "execution_count": 78
        }
      ]
    },
    {
      "cell_type": "code",
      "source": [
        "pd.crosstab(df_teste.TP_FAIXA_ETARIA,df_teste.TP_ST_CONCLUSAO, margins=True, dropna=False)"
      ],
      "metadata": {
        "id": "6q2Q6n2fpTgz",
        "colab": {
          "base_uri": "https://localhost:8080/",
          "height": 739
        },
        "outputId": "e2dbc0bf-e787-4aca-c039-fe67f7fbfe32"
      },
      "execution_count": null,
      "outputs": [
        {
          "output_type": "execute_result",
          "data": {
            "text/plain": [
              "TP_ST_CONCLUSAO       1       2     All\n",
              "TP_FAIXA_ETARIA                        \n",
              "1                   296    5253    5549\n",
              "2                  3601  198118  201719\n",
              "3                 89145  158984  248129\n",
              "4                107187   19191  126378\n",
              "5                 70624    4404   75028\n",
              "6                 49096     953   50049\n",
              "7                 34837     335   35172\n",
              "8                 25429     165   25594\n",
              "9                 20310     100   20410\n",
              "10                16095      53   16148\n",
              "11                48358     218   48576\n",
              "12                26517     124   26641\n",
              "13                17143      72   17215\n",
              "14                 9753      44    9797\n",
              "15                 6018      40    6058\n",
              "16                 3762      27    3789\n",
              "17                 1995      14    2009\n",
              "18                  737       5     742\n",
              "19                  206       1     207\n",
              "20                   71       0      71\n",
              "All              531180  388101  919281"
            ],
            "text/html": [
              "\n",
              "  <div id=\"df-3cee95c9-dd1a-49e8-b7ab-05488d1765a5\">\n",
              "    <div class=\"colab-df-container\">\n",
              "      <div>\n",
              "<style scoped>\n",
              "    .dataframe tbody tr th:only-of-type {\n",
              "        vertical-align: middle;\n",
              "    }\n",
              "\n",
              "    .dataframe tbody tr th {\n",
              "        vertical-align: top;\n",
              "    }\n",
              "\n",
              "    .dataframe thead th {\n",
              "        text-align: right;\n",
              "    }\n",
              "</style>\n",
              "<table border=\"1\" class=\"dataframe\">\n",
              "  <thead>\n",
              "    <tr style=\"text-align: right;\">\n",
              "      <th>TP_ST_CONCLUSAO</th>\n",
              "      <th>1</th>\n",
              "      <th>2</th>\n",
              "      <th>All</th>\n",
              "    </tr>\n",
              "    <tr>\n",
              "      <th>TP_FAIXA_ETARIA</th>\n",
              "      <th></th>\n",
              "      <th></th>\n",
              "      <th></th>\n",
              "    </tr>\n",
              "  </thead>\n",
              "  <tbody>\n",
              "    <tr>\n",
              "      <th>1</th>\n",
              "      <td>296</td>\n",
              "      <td>5253</td>\n",
              "      <td>5549</td>\n",
              "    </tr>\n",
              "    <tr>\n",
              "      <th>2</th>\n",
              "      <td>3601</td>\n",
              "      <td>198118</td>\n",
              "      <td>201719</td>\n",
              "    </tr>\n",
              "    <tr>\n",
              "      <th>3</th>\n",
              "      <td>89145</td>\n",
              "      <td>158984</td>\n",
              "      <td>248129</td>\n",
              "    </tr>\n",
              "    <tr>\n",
              "      <th>4</th>\n",
              "      <td>107187</td>\n",
              "      <td>19191</td>\n",
              "      <td>126378</td>\n",
              "    </tr>\n",
              "    <tr>\n",
              "      <th>5</th>\n",
              "      <td>70624</td>\n",
              "      <td>4404</td>\n",
              "      <td>75028</td>\n",
              "    </tr>\n",
              "    <tr>\n",
              "      <th>6</th>\n",
              "      <td>49096</td>\n",
              "      <td>953</td>\n",
              "      <td>50049</td>\n",
              "    </tr>\n",
              "    <tr>\n",
              "      <th>7</th>\n",
              "      <td>34837</td>\n",
              "      <td>335</td>\n",
              "      <td>35172</td>\n",
              "    </tr>\n",
              "    <tr>\n",
              "      <th>8</th>\n",
              "      <td>25429</td>\n",
              "      <td>165</td>\n",
              "      <td>25594</td>\n",
              "    </tr>\n",
              "    <tr>\n",
              "      <th>9</th>\n",
              "      <td>20310</td>\n",
              "      <td>100</td>\n",
              "      <td>20410</td>\n",
              "    </tr>\n",
              "    <tr>\n",
              "      <th>10</th>\n",
              "      <td>16095</td>\n",
              "      <td>53</td>\n",
              "      <td>16148</td>\n",
              "    </tr>\n",
              "    <tr>\n",
              "      <th>11</th>\n",
              "      <td>48358</td>\n",
              "      <td>218</td>\n",
              "      <td>48576</td>\n",
              "    </tr>\n",
              "    <tr>\n",
              "      <th>12</th>\n",
              "      <td>26517</td>\n",
              "      <td>124</td>\n",
              "      <td>26641</td>\n",
              "    </tr>\n",
              "    <tr>\n",
              "      <th>13</th>\n",
              "      <td>17143</td>\n",
              "      <td>72</td>\n",
              "      <td>17215</td>\n",
              "    </tr>\n",
              "    <tr>\n",
              "      <th>14</th>\n",
              "      <td>9753</td>\n",
              "      <td>44</td>\n",
              "      <td>9797</td>\n",
              "    </tr>\n",
              "    <tr>\n",
              "      <th>15</th>\n",
              "      <td>6018</td>\n",
              "      <td>40</td>\n",
              "      <td>6058</td>\n",
              "    </tr>\n",
              "    <tr>\n",
              "      <th>16</th>\n",
              "      <td>3762</td>\n",
              "      <td>27</td>\n",
              "      <td>3789</td>\n",
              "    </tr>\n",
              "    <tr>\n",
              "      <th>17</th>\n",
              "      <td>1995</td>\n",
              "      <td>14</td>\n",
              "      <td>2009</td>\n",
              "    </tr>\n",
              "    <tr>\n",
              "      <th>18</th>\n",
              "      <td>737</td>\n",
              "      <td>5</td>\n",
              "      <td>742</td>\n",
              "    </tr>\n",
              "    <tr>\n",
              "      <th>19</th>\n",
              "      <td>206</td>\n",
              "      <td>1</td>\n",
              "      <td>207</td>\n",
              "    </tr>\n",
              "    <tr>\n",
              "      <th>20</th>\n",
              "      <td>71</td>\n",
              "      <td>0</td>\n",
              "      <td>71</td>\n",
              "    </tr>\n",
              "    <tr>\n",
              "      <th>All</th>\n",
              "      <td>531180</td>\n",
              "      <td>388101</td>\n",
              "      <td>919281</td>\n",
              "    </tr>\n",
              "  </tbody>\n",
              "</table>\n",
              "</div>\n",
              "      <button class=\"colab-df-convert\" onclick=\"convertToInteractive('df-3cee95c9-dd1a-49e8-b7ab-05488d1765a5')\"\n",
              "              title=\"Convert this dataframe to an interactive table.\"\n",
              "              style=\"display:none;\">\n",
              "        \n",
              "  <svg xmlns=\"http://www.w3.org/2000/svg\" height=\"24px\"viewBox=\"0 0 24 24\"\n",
              "       width=\"24px\">\n",
              "    <path d=\"M0 0h24v24H0V0z\" fill=\"none\"/>\n",
              "    <path d=\"M18.56 5.44l.94 2.06.94-2.06 2.06-.94-2.06-.94-.94-2.06-.94 2.06-2.06.94zm-11 1L8.5 8.5l.94-2.06 2.06-.94-2.06-.94L8.5 2.5l-.94 2.06-2.06.94zm10 10l.94 2.06.94-2.06 2.06-.94-2.06-.94-.94-2.06-.94 2.06-2.06.94z\"/><path d=\"M17.41 7.96l-1.37-1.37c-.4-.4-.92-.59-1.43-.59-.52 0-1.04.2-1.43.59L10.3 9.45l-7.72 7.72c-.78.78-.78 2.05 0 2.83L4 21.41c.39.39.9.59 1.41.59.51 0 1.02-.2 1.41-.59l7.78-7.78 2.81-2.81c.8-.78.8-2.07 0-2.86zM5.41 20L4 18.59l7.72-7.72 1.47 1.35L5.41 20z\"/>\n",
              "  </svg>\n",
              "      </button>\n",
              "      \n",
              "  <style>\n",
              "    .colab-df-container {\n",
              "      display:flex;\n",
              "      flex-wrap:wrap;\n",
              "      gap: 12px;\n",
              "    }\n",
              "\n",
              "    .colab-df-convert {\n",
              "      background-color: #E8F0FE;\n",
              "      border: none;\n",
              "      border-radius: 50%;\n",
              "      cursor: pointer;\n",
              "      display: none;\n",
              "      fill: #1967D2;\n",
              "      height: 32px;\n",
              "      padding: 0 0 0 0;\n",
              "      width: 32px;\n",
              "    }\n",
              "\n",
              "    .colab-df-convert:hover {\n",
              "      background-color: #E2EBFA;\n",
              "      box-shadow: 0px 1px 2px rgba(60, 64, 67, 0.3), 0px 1px 3px 1px rgba(60, 64, 67, 0.15);\n",
              "      fill: #174EA6;\n",
              "    }\n",
              "\n",
              "    [theme=dark] .colab-df-convert {\n",
              "      background-color: #3B4455;\n",
              "      fill: #D2E3FC;\n",
              "    }\n",
              "\n",
              "    [theme=dark] .colab-df-convert:hover {\n",
              "      background-color: #434B5C;\n",
              "      box-shadow: 0px 1px 3px 1px rgba(0, 0, 0, 0.15);\n",
              "      filter: drop-shadow(0px 1px 2px rgba(0, 0, 0, 0.3));\n",
              "      fill: #FFFFFF;\n",
              "    }\n",
              "  </style>\n",
              "\n",
              "      <script>\n",
              "        const buttonEl =\n",
              "          document.querySelector('#df-3cee95c9-dd1a-49e8-b7ab-05488d1765a5 button.colab-df-convert');\n",
              "        buttonEl.style.display =\n",
              "          google.colab.kernel.accessAllowed ? 'block' : 'none';\n",
              "\n",
              "        async function convertToInteractive(key) {\n",
              "          const element = document.querySelector('#df-3cee95c9-dd1a-49e8-b7ab-05488d1765a5');\n",
              "          const dataTable =\n",
              "            await google.colab.kernel.invokeFunction('convertToInteractive',\n",
              "                                                     [key], {});\n",
              "          if (!dataTable) return;\n",
              "\n",
              "          const docLinkHtml = 'Like what you see? Visit the ' +\n",
              "            '<a target=\"_blank\" href=https://colab.research.google.com/notebooks/data_table.ipynb>data table notebook</a>'\n",
              "            + ' to learn more about interactive tables.';\n",
              "          element.innerHTML = '';\n",
              "          dataTable['output_type'] = 'display_data';\n",
              "          await google.colab.output.renderOutput(dataTable, element);\n",
              "          const docLink = document.createElement('div');\n",
              "          docLink.innerHTML = docLinkHtml;\n",
              "          element.appendChild(docLink);\n",
              "        }\n",
              "      </script>\n",
              "    </div>\n",
              "  </div>\n",
              "  "
            ]
          },
          "metadata": {},
          "execution_count": 79
        }
      ]
    },
    {
      "cell_type": "code",
      "source": [
        "pd.crosstab(df_ft.Q001,df_ft.Q002, margins=True, dropna=False)"
      ],
      "metadata": {
        "id": "1q7qxwGTZC2E",
        "colab": {
          "base_uri": "https://localhost:8080/",
          "height": 363
        },
        "outputId": "cd234960-816e-4d27-ea3f-be3d571b3e83"
      },
      "execution_count": null,
      "outputs": [
        {
          "output_type": "execute_result",
          "data": {
            "text/plain": [
              "Q002      A       B       C       D       E       F       G      H      All\n",
              "Q001                                                                       \n",
              "A     23992   22718    8261    4998    8283    1303     914    818    71287\n",
              "B     11736  126505   49010   37184   70080   12926   10175   2411   320027\n",
              "C      3480   25156   66940   38653   77646   16686   13847   1979   244387\n",
              "D      1458   14177   24864   52479   76779   19872   16066   1874   207569\n",
              "E      2255   21131   33189   52841  294090   84919   65319   4916   558660\n",
              "F       244    2429    4120    7754   60378   66795   42292   1142   185154\n",
              "G       105     911    1573    3158   25947   30538   61881    769   124882\n",
              "H      2658   15091   15261   17483   50443   12627    9386  29308   152257\n",
              "All   45928  228118  203218  214550  663646  245666  219880  43217  1864223"
            ],
            "text/html": [
              "\n",
              "  <div id=\"df-490eba0a-bd0d-465a-ba4d-a5bf2eae44b3\">\n",
              "    <div class=\"colab-df-container\">\n",
              "      <div>\n",
              "<style scoped>\n",
              "    .dataframe tbody tr th:only-of-type {\n",
              "        vertical-align: middle;\n",
              "    }\n",
              "\n",
              "    .dataframe tbody tr th {\n",
              "        vertical-align: top;\n",
              "    }\n",
              "\n",
              "    .dataframe thead th {\n",
              "        text-align: right;\n",
              "    }\n",
              "</style>\n",
              "<table border=\"1\" class=\"dataframe\">\n",
              "  <thead>\n",
              "    <tr style=\"text-align: right;\">\n",
              "      <th>Q002</th>\n",
              "      <th>A</th>\n",
              "      <th>B</th>\n",
              "      <th>C</th>\n",
              "      <th>D</th>\n",
              "      <th>E</th>\n",
              "      <th>F</th>\n",
              "      <th>G</th>\n",
              "      <th>H</th>\n",
              "      <th>All</th>\n",
              "    </tr>\n",
              "    <tr>\n",
              "      <th>Q001</th>\n",
              "      <th></th>\n",
              "      <th></th>\n",
              "      <th></th>\n",
              "      <th></th>\n",
              "      <th></th>\n",
              "      <th></th>\n",
              "      <th></th>\n",
              "      <th></th>\n",
              "      <th></th>\n",
              "    </tr>\n",
              "  </thead>\n",
              "  <tbody>\n",
              "    <tr>\n",
              "      <th>A</th>\n",
              "      <td>23992</td>\n",
              "      <td>22718</td>\n",
              "      <td>8261</td>\n",
              "      <td>4998</td>\n",
              "      <td>8283</td>\n",
              "      <td>1303</td>\n",
              "      <td>914</td>\n",
              "      <td>818</td>\n",
              "      <td>71287</td>\n",
              "    </tr>\n",
              "    <tr>\n",
              "      <th>B</th>\n",
              "      <td>11736</td>\n",
              "      <td>126505</td>\n",
              "      <td>49010</td>\n",
              "      <td>37184</td>\n",
              "      <td>70080</td>\n",
              "      <td>12926</td>\n",
              "      <td>10175</td>\n",
              "      <td>2411</td>\n",
              "      <td>320027</td>\n",
              "    </tr>\n",
              "    <tr>\n",
              "      <th>C</th>\n",
              "      <td>3480</td>\n",
              "      <td>25156</td>\n",
              "      <td>66940</td>\n",
              "      <td>38653</td>\n",
              "      <td>77646</td>\n",
              "      <td>16686</td>\n",
              "      <td>13847</td>\n",
              "      <td>1979</td>\n",
              "      <td>244387</td>\n",
              "    </tr>\n",
              "    <tr>\n",
              "      <th>D</th>\n",
              "      <td>1458</td>\n",
              "      <td>14177</td>\n",
              "      <td>24864</td>\n",
              "      <td>52479</td>\n",
              "      <td>76779</td>\n",
              "      <td>19872</td>\n",
              "      <td>16066</td>\n",
              "      <td>1874</td>\n",
              "      <td>207569</td>\n",
              "    </tr>\n",
              "    <tr>\n",
              "      <th>E</th>\n",
              "      <td>2255</td>\n",
              "      <td>21131</td>\n",
              "      <td>33189</td>\n",
              "      <td>52841</td>\n",
              "      <td>294090</td>\n",
              "      <td>84919</td>\n",
              "      <td>65319</td>\n",
              "      <td>4916</td>\n",
              "      <td>558660</td>\n",
              "    </tr>\n",
              "    <tr>\n",
              "      <th>F</th>\n",
              "      <td>244</td>\n",
              "      <td>2429</td>\n",
              "      <td>4120</td>\n",
              "      <td>7754</td>\n",
              "      <td>60378</td>\n",
              "      <td>66795</td>\n",
              "      <td>42292</td>\n",
              "      <td>1142</td>\n",
              "      <td>185154</td>\n",
              "    </tr>\n",
              "    <tr>\n",
              "      <th>G</th>\n",
              "      <td>105</td>\n",
              "      <td>911</td>\n",
              "      <td>1573</td>\n",
              "      <td>3158</td>\n",
              "      <td>25947</td>\n",
              "      <td>30538</td>\n",
              "      <td>61881</td>\n",
              "      <td>769</td>\n",
              "      <td>124882</td>\n",
              "    </tr>\n",
              "    <tr>\n",
              "      <th>H</th>\n",
              "      <td>2658</td>\n",
              "      <td>15091</td>\n",
              "      <td>15261</td>\n",
              "      <td>17483</td>\n",
              "      <td>50443</td>\n",
              "      <td>12627</td>\n",
              "      <td>9386</td>\n",
              "      <td>29308</td>\n",
              "      <td>152257</td>\n",
              "    </tr>\n",
              "    <tr>\n",
              "      <th>All</th>\n",
              "      <td>45928</td>\n",
              "      <td>228118</td>\n",
              "      <td>203218</td>\n",
              "      <td>214550</td>\n",
              "      <td>663646</td>\n",
              "      <td>245666</td>\n",
              "      <td>219880</td>\n",
              "      <td>43217</td>\n",
              "      <td>1864223</td>\n",
              "    </tr>\n",
              "  </tbody>\n",
              "</table>\n",
              "</div>\n",
              "      <button class=\"colab-df-convert\" onclick=\"convertToInteractive('df-490eba0a-bd0d-465a-ba4d-a5bf2eae44b3')\"\n",
              "              title=\"Convert this dataframe to an interactive table.\"\n",
              "              style=\"display:none;\">\n",
              "        \n",
              "  <svg xmlns=\"http://www.w3.org/2000/svg\" height=\"24px\"viewBox=\"0 0 24 24\"\n",
              "       width=\"24px\">\n",
              "    <path d=\"M0 0h24v24H0V0z\" fill=\"none\"/>\n",
              "    <path d=\"M18.56 5.44l.94 2.06.94-2.06 2.06-.94-2.06-.94-.94-2.06-.94 2.06-2.06.94zm-11 1L8.5 8.5l.94-2.06 2.06-.94-2.06-.94L8.5 2.5l-.94 2.06-2.06.94zm10 10l.94 2.06.94-2.06 2.06-.94-2.06-.94-.94-2.06-.94 2.06-2.06.94z\"/><path d=\"M17.41 7.96l-1.37-1.37c-.4-.4-.92-.59-1.43-.59-.52 0-1.04.2-1.43.59L10.3 9.45l-7.72 7.72c-.78.78-.78 2.05 0 2.83L4 21.41c.39.39.9.59 1.41.59.51 0 1.02-.2 1.41-.59l7.78-7.78 2.81-2.81c.8-.78.8-2.07 0-2.86zM5.41 20L4 18.59l7.72-7.72 1.47 1.35L5.41 20z\"/>\n",
              "  </svg>\n",
              "      </button>\n",
              "      \n",
              "  <style>\n",
              "    .colab-df-container {\n",
              "      display:flex;\n",
              "      flex-wrap:wrap;\n",
              "      gap: 12px;\n",
              "    }\n",
              "\n",
              "    .colab-df-convert {\n",
              "      background-color: #E8F0FE;\n",
              "      border: none;\n",
              "      border-radius: 50%;\n",
              "      cursor: pointer;\n",
              "      display: none;\n",
              "      fill: #1967D2;\n",
              "      height: 32px;\n",
              "      padding: 0 0 0 0;\n",
              "      width: 32px;\n",
              "    }\n",
              "\n",
              "    .colab-df-convert:hover {\n",
              "      background-color: #E2EBFA;\n",
              "      box-shadow: 0px 1px 2px rgba(60, 64, 67, 0.3), 0px 1px 3px 1px rgba(60, 64, 67, 0.15);\n",
              "      fill: #174EA6;\n",
              "    }\n",
              "\n",
              "    [theme=dark] .colab-df-convert {\n",
              "      background-color: #3B4455;\n",
              "      fill: #D2E3FC;\n",
              "    }\n",
              "\n",
              "    [theme=dark] .colab-df-convert:hover {\n",
              "      background-color: #434B5C;\n",
              "      box-shadow: 0px 1px 3px 1px rgba(0, 0, 0, 0.15);\n",
              "      filter: drop-shadow(0px 1px 2px rgba(0, 0, 0, 0.3));\n",
              "      fill: #FFFFFF;\n",
              "    }\n",
              "  </style>\n",
              "\n",
              "      <script>\n",
              "        const buttonEl =\n",
              "          document.querySelector('#df-490eba0a-bd0d-465a-ba4d-a5bf2eae44b3 button.colab-df-convert');\n",
              "        buttonEl.style.display =\n",
              "          google.colab.kernel.accessAllowed ? 'block' : 'none';\n",
              "\n",
              "        async function convertToInteractive(key) {\n",
              "          const element = document.querySelector('#df-490eba0a-bd0d-465a-ba4d-a5bf2eae44b3');\n",
              "          const dataTable =\n",
              "            await google.colab.kernel.invokeFunction('convertToInteractive',\n",
              "                                                     [key], {});\n",
              "          if (!dataTable) return;\n",
              "\n",
              "          const docLinkHtml = 'Like what you see? Visit the ' +\n",
              "            '<a target=\"_blank\" href=https://colab.research.google.com/notebooks/data_table.ipynb>data table notebook</a>'\n",
              "            + ' to learn more about interactive tables.';\n",
              "          element.innerHTML = '';\n",
              "          dataTable['output_type'] = 'display_data';\n",
              "          await google.colab.output.renderOutput(dataTable, element);\n",
              "          const docLink = document.createElement('div');\n",
              "          docLink.innerHTML = docLinkHtml;\n",
              "          element.appendChild(docLink);\n",
              "        }\n",
              "      </script>\n",
              "    </div>\n",
              "  </div>\n",
              "  "
            ]
          },
          "metadata": {},
          "execution_count": 80
        }
      ]
    },
    {
      "cell_type": "code",
      "source": [
        "pd.crosstab(df_teste.Q001,df_teste.Q002, margins=True, dropna=False)"
      ],
      "metadata": {
        "id": "Pllxp5rQZdoH",
        "colab": {
          "base_uri": "https://localhost:8080/",
          "height": 363
        },
        "outputId": "ad9e967a-af48-4258-9070-370d7d683e21"
      },
      "execution_count": null,
      "outputs": [
        {
          "output_type": "execute_result",
          "data": {
            "text/plain": [
              "Q002     A      B      C      D       E       F       G      H     All\n",
              "Q001                                                                  \n",
              "A     4098   5465   2235   1348    2526     501     354    155   16682\n",
              "B     2881  34935  16006  12932   27013    6038    4995    557  105357\n",
              "C      901   8831  22833  15002   35012    9245    7835    562  100221\n",
              "D      419   5456  10500  19478   36792   11740    9684    607   94676\n",
              "E      601   8208  15285  25599  153834   56437   44772   1830  306566\n",
              "F       94   1203   2358   4837   42401   52998   34823    690  139404\n",
              "G       39    423    835   1828   18044   25704   51568    471   98912\n",
              "H      591   4404   4968   6090   20934    7270    5528   7678   57463\n",
              "All   9624  68925  75020  87114  336556  169933  159559  12550  919281"
            ],
            "text/html": [
              "\n",
              "  <div id=\"df-e42ffac2-76fe-40f0-ab96-6c1c1b6aad8a\">\n",
              "    <div class=\"colab-df-container\">\n",
              "      <div>\n",
              "<style scoped>\n",
              "    .dataframe tbody tr th:only-of-type {\n",
              "        vertical-align: middle;\n",
              "    }\n",
              "\n",
              "    .dataframe tbody tr th {\n",
              "        vertical-align: top;\n",
              "    }\n",
              "\n",
              "    .dataframe thead th {\n",
              "        text-align: right;\n",
              "    }\n",
              "</style>\n",
              "<table border=\"1\" class=\"dataframe\">\n",
              "  <thead>\n",
              "    <tr style=\"text-align: right;\">\n",
              "      <th>Q002</th>\n",
              "      <th>A</th>\n",
              "      <th>B</th>\n",
              "      <th>C</th>\n",
              "      <th>D</th>\n",
              "      <th>E</th>\n",
              "      <th>F</th>\n",
              "      <th>G</th>\n",
              "      <th>H</th>\n",
              "      <th>All</th>\n",
              "    </tr>\n",
              "    <tr>\n",
              "      <th>Q001</th>\n",
              "      <th></th>\n",
              "      <th></th>\n",
              "      <th></th>\n",
              "      <th></th>\n",
              "      <th></th>\n",
              "      <th></th>\n",
              "      <th></th>\n",
              "      <th></th>\n",
              "      <th></th>\n",
              "    </tr>\n",
              "  </thead>\n",
              "  <tbody>\n",
              "    <tr>\n",
              "      <th>A</th>\n",
              "      <td>4098</td>\n",
              "      <td>5465</td>\n",
              "      <td>2235</td>\n",
              "      <td>1348</td>\n",
              "      <td>2526</td>\n",
              "      <td>501</td>\n",
              "      <td>354</td>\n",
              "      <td>155</td>\n",
              "      <td>16682</td>\n",
              "    </tr>\n",
              "    <tr>\n",
              "      <th>B</th>\n",
              "      <td>2881</td>\n",
              "      <td>34935</td>\n",
              "      <td>16006</td>\n",
              "      <td>12932</td>\n",
              "      <td>27013</td>\n",
              "      <td>6038</td>\n",
              "      <td>4995</td>\n",
              "      <td>557</td>\n",
              "      <td>105357</td>\n",
              "    </tr>\n",
              "    <tr>\n",
              "      <th>C</th>\n",
              "      <td>901</td>\n",
              "      <td>8831</td>\n",
              "      <td>22833</td>\n",
              "      <td>15002</td>\n",
              "      <td>35012</td>\n",
              "      <td>9245</td>\n",
              "      <td>7835</td>\n",
              "      <td>562</td>\n",
              "      <td>100221</td>\n",
              "    </tr>\n",
              "    <tr>\n",
              "      <th>D</th>\n",
              "      <td>419</td>\n",
              "      <td>5456</td>\n",
              "      <td>10500</td>\n",
              "      <td>19478</td>\n",
              "      <td>36792</td>\n",
              "      <td>11740</td>\n",
              "      <td>9684</td>\n",
              "      <td>607</td>\n",
              "      <td>94676</td>\n",
              "    </tr>\n",
              "    <tr>\n",
              "      <th>E</th>\n",
              "      <td>601</td>\n",
              "      <td>8208</td>\n",
              "      <td>15285</td>\n",
              "      <td>25599</td>\n",
              "      <td>153834</td>\n",
              "      <td>56437</td>\n",
              "      <td>44772</td>\n",
              "      <td>1830</td>\n",
              "      <td>306566</td>\n",
              "    </tr>\n",
              "    <tr>\n",
              "      <th>F</th>\n",
              "      <td>94</td>\n",
              "      <td>1203</td>\n",
              "      <td>2358</td>\n",
              "      <td>4837</td>\n",
              "      <td>42401</td>\n",
              "      <td>52998</td>\n",
              "      <td>34823</td>\n",
              "      <td>690</td>\n",
              "      <td>139404</td>\n",
              "    </tr>\n",
              "    <tr>\n",
              "      <th>G</th>\n",
              "      <td>39</td>\n",
              "      <td>423</td>\n",
              "      <td>835</td>\n",
              "      <td>1828</td>\n",
              "      <td>18044</td>\n",
              "      <td>25704</td>\n",
              "      <td>51568</td>\n",
              "      <td>471</td>\n",
              "      <td>98912</td>\n",
              "    </tr>\n",
              "    <tr>\n",
              "      <th>H</th>\n",
              "      <td>591</td>\n",
              "      <td>4404</td>\n",
              "      <td>4968</td>\n",
              "      <td>6090</td>\n",
              "      <td>20934</td>\n",
              "      <td>7270</td>\n",
              "      <td>5528</td>\n",
              "      <td>7678</td>\n",
              "      <td>57463</td>\n",
              "    </tr>\n",
              "    <tr>\n",
              "      <th>All</th>\n",
              "      <td>9624</td>\n",
              "      <td>68925</td>\n",
              "      <td>75020</td>\n",
              "      <td>87114</td>\n",
              "      <td>336556</td>\n",
              "      <td>169933</td>\n",
              "      <td>159559</td>\n",
              "      <td>12550</td>\n",
              "      <td>919281</td>\n",
              "    </tr>\n",
              "  </tbody>\n",
              "</table>\n",
              "</div>\n",
              "      <button class=\"colab-df-convert\" onclick=\"convertToInteractive('df-e42ffac2-76fe-40f0-ab96-6c1c1b6aad8a')\"\n",
              "              title=\"Convert this dataframe to an interactive table.\"\n",
              "              style=\"display:none;\">\n",
              "        \n",
              "  <svg xmlns=\"http://www.w3.org/2000/svg\" height=\"24px\"viewBox=\"0 0 24 24\"\n",
              "       width=\"24px\">\n",
              "    <path d=\"M0 0h24v24H0V0z\" fill=\"none\"/>\n",
              "    <path d=\"M18.56 5.44l.94 2.06.94-2.06 2.06-.94-2.06-.94-.94-2.06-.94 2.06-2.06.94zm-11 1L8.5 8.5l.94-2.06 2.06-.94-2.06-.94L8.5 2.5l-.94 2.06-2.06.94zm10 10l.94 2.06.94-2.06 2.06-.94-2.06-.94-.94-2.06-.94 2.06-2.06.94z\"/><path d=\"M17.41 7.96l-1.37-1.37c-.4-.4-.92-.59-1.43-.59-.52 0-1.04.2-1.43.59L10.3 9.45l-7.72 7.72c-.78.78-.78 2.05 0 2.83L4 21.41c.39.39.9.59 1.41.59.51 0 1.02-.2 1.41-.59l7.78-7.78 2.81-2.81c.8-.78.8-2.07 0-2.86zM5.41 20L4 18.59l7.72-7.72 1.47 1.35L5.41 20z\"/>\n",
              "  </svg>\n",
              "      </button>\n",
              "      \n",
              "  <style>\n",
              "    .colab-df-container {\n",
              "      display:flex;\n",
              "      flex-wrap:wrap;\n",
              "      gap: 12px;\n",
              "    }\n",
              "\n",
              "    .colab-df-convert {\n",
              "      background-color: #E8F0FE;\n",
              "      border: none;\n",
              "      border-radius: 50%;\n",
              "      cursor: pointer;\n",
              "      display: none;\n",
              "      fill: #1967D2;\n",
              "      height: 32px;\n",
              "      padding: 0 0 0 0;\n",
              "      width: 32px;\n",
              "    }\n",
              "\n",
              "    .colab-df-convert:hover {\n",
              "      background-color: #E2EBFA;\n",
              "      box-shadow: 0px 1px 2px rgba(60, 64, 67, 0.3), 0px 1px 3px 1px rgba(60, 64, 67, 0.15);\n",
              "      fill: #174EA6;\n",
              "    }\n",
              "\n",
              "    [theme=dark] .colab-df-convert {\n",
              "      background-color: #3B4455;\n",
              "      fill: #D2E3FC;\n",
              "    }\n",
              "\n",
              "    [theme=dark] .colab-df-convert:hover {\n",
              "      background-color: #434B5C;\n",
              "      box-shadow: 0px 1px 3px 1px rgba(0, 0, 0, 0.15);\n",
              "      filter: drop-shadow(0px 1px 2px rgba(0, 0, 0, 0.3));\n",
              "      fill: #FFFFFF;\n",
              "    }\n",
              "  </style>\n",
              "\n",
              "      <script>\n",
              "        const buttonEl =\n",
              "          document.querySelector('#df-e42ffac2-76fe-40f0-ab96-6c1c1b6aad8a button.colab-df-convert');\n",
              "        buttonEl.style.display =\n",
              "          google.colab.kernel.accessAllowed ? 'block' : 'none';\n",
              "\n",
              "        async function convertToInteractive(key) {\n",
              "          const element = document.querySelector('#df-e42ffac2-76fe-40f0-ab96-6c1c1b6aad8a');\n",
              "          const dataTable =\n",
              "            await google.colab.kernel.invokeFunction('convertToInteractive',\n",
              "                                                     [key], {});\n",
              "          if (!dataTable) return;\n",
              "\n",
              "          const docLinkHtml = 'Like what you see? Visit the ' +\n",
              "            '<a target=\"_blank\" href=https://colab.research.google.com/notebooks/data_table.ipynb>data table notebook</a>'\n",
              "            + ' to learn more about interactive tables.';\n",
              "          element.innerHTML = '';\n",
              "          dataTable['output_type'] = 'display_data';\n",
              "          await google.colab.output.renderOutput(dataTable, element);\n",
              "          const docLink = document.createElement('div');\n",
              "          docLink.innerHTML = docLinkHtml;\n",
              "          element.appendChild(docLink);\n",
              "        }\n",
              "      </script>\n",
              "    </div>\n",
              "  </div>\n",
              "  "
            ]
          },
          "metadata": {},
          "execution_count": 81
        }
      ]
    },
    {
      "cell_type": "code",
      "source": [
        "pd.crosstab(df_ft.Q010,df_ft.Q011, margins=True, dropna=False)"
      ],
      "metadata": {
        "id": "u_E863-ec1BF",
        "colab": {
          "base_uri": "https://localhost:8080/",
          "height": 269
        },
        "outputId": "91cca7e8-f075-498f-c75d-ebaada96c362"
      },
      "execution_count": null,
      "outputs": [
        {
          "output_type": "execute_result",
          "data": {
            "text/plain": [
              "Q011        A       B      C     D    E      All\n",
              "Q010                                            \n",
              "A      711881  194237  15816   976   80   922990\n",
              "B      556665  164620  18708  1596  164   741753\n",
              "C      137982   29484   5242   695  161   173564\n",
              "D       16642    3663    978   285   68    21636\n",
              "E        2883     886    292   106  113     4280\n",
              "All   1426053  392890  41036  3658  586  1864223"
            ],
            "text/html": [
              "\n",
              "  <div id=\"df-77171f76-750d-4939-b8ab-08f0d0ddee76\">\n",
              "    <div class=\"colab-df-container\">\n",
              "      <div>\n",
              "<style scoped>\n",
              "    .dataframe tbody tr th:only-of-type {\n",
              "        vertical-align: middle;\n",
              "    }\n",
              "\n",
              "    .dataframe tbody tr th {\n",
              "        vertical-align: top;\n",
              "    }\n",
              "\n",
              "    .dataframe thead th {\n",
              "        text-align: right;\n",
              "    }\n",
              "</style>\n",
              "<table border=\"1\" class=\"dataframe\">\n",
              "  <thead>\n",
              "    <tr style=\"text-align: right;\">\n",
              "      <th>Q011</th>\n",
              "      <th>A</th>\n",
              "      <th>B</th>\n",
              "      <th>C</th>\n",
              "      <th>D</th>\n",
              "      <th>E</th>\n",
              "      <th>All</th>\n",
              "    </tr>\n",
              "    <tr>\n",
              "      <th>Q010</th>\n",
              "      <th></th>\n",
              "      <th></th>\n",
              "      <th></th>\n",
              "      <th></th>\n",
              "      <th></th>\n",
              "      <th></th>\n",
              "    </tr>\n",
              "  </thead>\n",
              "  <tbody>\n",
              "    <tr>\n",
              "      <th>A</th>\n",
              "      <td>711881</td>\n",
              "      <td>194237</td>\n",
              "      <td>15816</td>\n",
              "      <td>976</td>\n",
              "      <td>80</td>\n",
              "      <td>922990</td>\n",
              "    </tr>\n",
              "    <tr>\n",
              "      <th>B</th>\n",
              "      <td>556665</td>\n",
              "      <td>164620</td>\n",
              "      <td>18708</td>\n",
              "      <td>1596</td>\n",
              "      <td>164</td>\n",
              "      <td>741753</td>\n",
              "    </tr>\n",
              "    <tr>\n",
              "      <th>C</th>\n",
              "      <td>137982</td>\n",
              "      <td>29484</td>\n",
              "      <td>5242</td>\n",
              "      <td>695</td>\n",
              "      <td>161</td>\n",
              "      <td>173564</td>\n",
              "    </tr>\n",
              "    <tr>\n",
              "      <th>D</th>\n",
              "      <td>16642</td>\n",
              "      <td>3663</td>\n",
              "      <td>978</td>\n",
              "      <td>285</td>\n",
              "      <td>68</td>\n",
              "      <td>21636</td>\n",
              "    </tr>\n",
              "    <tr>\n",
              "      <th>E</th>\n",
              "      <td>2883</td>\n",
              "      <td>886</td>\n",
              "      <td>292</td>\n",
              "      <td>106</td>\n",
              "      <td>113</td>\n",
              "      <td>4280</td>\n",
              "    </tr>\n",
              "    <tr>\n",
              "      <th>All</th>\n",
              "      <td>1426053</td>\n",
              "      <td>392890</td>\n",
              "      <td>41036</td>\n",
              "      <td>3658</td>\n",
              "      <td>586</td>\n",
              "      <td>1864223</td>\n",
              "    </tr>\n",
              "  </tbody>\n",
              "</table>\n",
              "</div>\n",
              "      <button class=\"colab-df-convert\" onclick=\"convertToInteractive('df-77171f76-750d-4939-b8ab-08f0d0ddee76')\"\n",
              "              title=\"Convert this dataframe to an interactive table.\"\n",
              "              style=\"display:none;\">\n",
              "        \n",
              "  <svg xmlns=\"http://www.w3.org/2000/svg\" height=\"24px\"viewBox=\"0 0 24 24\"\n",
              "       width=\"24px\">\n",
              "    <path d=\"M0 0h24v24H0V0z\" fill=\"none\"/>\n",
              "    <path d=\"M18.56 5.44l.94 2.06.94-2.06 2.06-.94-2.06-.94-.94-2.06-.94 2.06-2.06.94zm-11 1L8.5 8.5l.94-2.06 2.06-.94-2.06-.94L8.5 2.5l-.94 2.06-2.06.94zm10 10l.94 2.06.94-2.06 2.06-.94-2.06-.94-.94-2.06-.94 2.06-2.06.94z\"/><path d=\"M17.41 7.96l-1.37-1.37c-.4-.4-.92-.59-1.43-.59-.52 0-1.04.2-1.43.59L10.3 9.45l-7.72 7.72c-.78.78-.78 2.05 0 2.83L4 21.41c.39.39.9.59 1.41.59.51 0 1.02-.2 1.41-.59l7.78-7.78 2.81-2.81c.8-.78.8-2.07 0-2.86zM5.41 20L4 18.59l7.72-7.72 1.47 1.35L5.41 20z\"/>\n",
              "  </svg>\n",
              "      </button>\n",
              "      \n",
              "  <style>\n",
              "    .colab-df-container {\n",
              "      display:flex;\n",
              "      flex-wrap:wrap;\n",
              "      gap: 12px;\n",
              "    }\n",
              "\n",
              "    .colab-df-convert {\n",
              "      background-color: #E8F0FE;\n",
              "      border: none;\n",
              "      border-radius: 50%;\n",
              "      cursor: pointer;\n",
              "      display: none;\n",
              "      fill: #1967D2;\n",
              "      height: 32px;\n",
              "      padding: 0 0 0 0;\n",
              "      width: 32px;\n",
              "    }\n",
              "\n",
              "    .colab-df-convert:hover {\n",
              "      background-color: #E2EBFA;\n",
              "      box-shadow: 0px 1px 2px rgba(60, 64, 67, 0.3), 0px 1px 3px 1px rgba(60, 64, 67, 0.15);\n",
              "      fill: #174EA6;\n",
              "    }\n",
              "\n",
              "    [theme=dark] .colab-df-convert {\n",
              "      background-color: #3B4455;\n",
              "      fill: #D2E3FC;\n",
              "    }\n",
              "\n",
              "    [theme=dark] .colab-df-convert:hover {\n",
              "      background-color: #434B5C;\n",
              "      box-shadow: 0px 1px 3px 1px rgba(0, 0, 0, 0.15);\n",
              "      filter: drop-shadow(0px 1px 2px rgba(0, 0, 0, 0.3));\n",
              "      fill: #FFFFFF;\n",
              "    }\n",
              "  </style>\n",
              "\n",
              "      <script>\n",
              "        const buttonEl =\n",
              "          document.querySelector('#df-77171f76-750d-4939-b8ab-08f0d0ddee76 button.colab-df-convert');\n",
              "        buttonEl.style.display =\n",
              "          google.colab.kernel.accessAllowed ? 'block' : 'none';\n",
              "\n",
              "        async function convertToInteractive(key) {\n",
              "          const element = document.querySelector('#df-77171f76-750d-4939-b8ab-08f0d0ddee76');\n",
              "          const dataTable =\n",
              "            await google.colab.kernel.invokeFunction('convertToInteractive',\n",
              "                                                     [key], {});\n",
              "          if (!dataTable) return;\n",
              "\n",
              "          const docLinkHtml = 'Like what you see? Visit the ' +\n",
              "            '<a target=\"_blank\" href=https://colab.research.google.com/notebooks/data_table.ipynb>data table notebook</a>'\n",
              "            + ' to learn more about interactive tables.';\n",
              "          element.innerHTML = '';\n",
              "          dataTable['output_type'] = 'display_data';\n",
              "          await google.colab.output.renderOutput(dataTable, element);\n",
              "          const docLink = document.createElement('div');\n",
              "          docLink.innerHTML = docLinkHtml;\n",
              "          element.appendChild(docLink);\n",
              "        }\n",
              "      </script>\n",
              "    </div>\n",
              "  </div>\n",
              "  "
            ]
          },
          "metadata": {},
          "execution_count": 82
        }
      ]
    },
    {
      "cell_type": "code",
      "source": [
        "pd.crosstab(df_teste.Q010,df_teste.Q011, margins=True, dropna=False)"
      ],
      "metadata": {
        "id": "__IlEuwgG1J-",
        "colab": {
          "base_uri": "https://localhost:8080/",
          "height": 269
        },
        "outputId": "2aa602aa-f863-444b-f608-cfc6ea9f390b"
      },
      "execution_count": null,
      "outputs": [
        {
          "output_type": "execute_result",
          "data": {
            "text/plain": [
              "Q011       A       B      C     D    E     All\n",
              "Q010                                          \n",
              "A     264902   65146   5657   290   30  336025\n",
              "B     336141   86291   9513   736   86  432767\n",
              "C     106535   19963   3277   435   96  130306\n",
              "D      13393    2638    654   180   48   16913\n",
              "E       2289     653    190    64   74    3270\n",
              "All   723260  174691  19291  1705  334  919281"
            ],
            "text/html": [
              "\n",
              "  <div id=\"df-c4b1aaec-9903-4912-8e91-b712ba7f752a\">\n",
              "    <div class=\"colab-df-container\">\n",
              "      <div>\n",
              "<style scoped>\n",
              "    .dataframe tbody tr th:only-of-type {\n",
              "        vertical-align: middle;\n",
              "    }\n",
              "\n",
              "    .dataframe tbody tr th {\n",
              "        vertical-align: top;\n",
              "    }\n",
              "\n",
              "    .dataframe thead th {\n",
              "        text-align: right;\n",
              "    }\n",
              "</style>\n",
              "<table border=\"1\" class=\"dataframe\">\n",
              "  <thead>\n",
              "    <tr style=\"text-align: right;\">\n",
              "      <th>Q011</th>\n",
              "      <th>A</th>\n",
              "      <th>B</th>\n",
              "      <th>C</th>\n",
              "      <th>D</th>\n",
              "      <th>E</th>\n",
              "      <th>All</th>\n",
              "    </tr>\n",
              "    <tr>\n",
              "      <th>Q010</th>\n",
              "      <th></th>\n",
              "      <th></th>\n",
              "      <th></th>\n",
              "      <th></th>\n",
              "      <th></th>\n",
              "      <th></th>\n",
              "    </tr>\n",
              "  </thead>\n",
              "  <tbody>\n",
              "    <tr>\n",
              "      <th>A</th>\n",
              "      <td>264902</td>\n",
              "      <td>65146</td>\n",
              "      <td>5657</td>\n",
              "      <td>290</td>\n",
              "      <td>30</td>\n",
              "      <td>336025</td>\n",
              "    </tr>\n",
              "    <tr>\n",
              "      <th>B</th>\n",
              "      <td>336141</td>\n",
              "      <td>86291</td>\n",
              "      <td>9513</td>\n",
              "      <td>736</td>\n",
              "      <td>86</td>\n",
              "      <td>432767</td>\n",
              "    </tr>\n",
              "    <tr>\n",
              "      <th>C</th>\n",
              "      <td>106535</td>\n",
              "      <td>19963</td>\n",
              "      <td>3277</td>\n",
              "      <td>435</td>\n",
              "      <td>96</td>\n",
              "      <td>130306</td>\n",
              "    </tr>\n",
              "    <tr>\n",
              "      <th>D</th>\n",
              "      <td>13393</td>\n",
              "      <td>2638</td>\n",
              "      <td>654</td>\n",
              "      <td>180</td>\n",
              "      <td>48</td>\n",
              "      <td>16913</td>\n",
              "    </tr>\n",
              "    <tr>\n",
              "      <th>E</th>\n",
              "      <td>2289</td>\n",
              "      <td>653</td>\n",
              "      <td>190</td>\n",
              "      <td>64</td>\n",
              "      <td>74</td>\n",
              "      <td>3270</td>\n",
              "    </tr>\n",
              "    <tr>\n",
              "      <th>All</th>\n",
              "      <td>723260</td>\n",
              "      <td>174691</td>\n",
              "      <td>19291</td>\n",
              "      <td>1705</td>\n",
              "      <td>334</td>\n",
              "      <td>919281</td>\n",
              "    </tr>\n",
              "  </tbody>\n",
              "</table>\n",
              "</div>\n",
              "      <button class=\"colab-df-convert\" onclick=\"convertToInteractive('df-c4b1aaec-9903-4912-8e91-b712ba7f752a')\"\n",
              "              title=\"Convert this dataframe to an interactive table.\"\n",
              "              style=\"display:none;\">\n",
              "        \n",
              "  <svg xmlns=\"http://www.w3.org/2000/svg\" height=\"24px\"viewBox=\"0 0 24 24\"\n",
              "       width=\"24px\">\n",
              "    <path d=\"M0 0h24v24H0V0z\" fill=\"none\"/>\n",
              "    <path d=\"M18.56 5.44l.94 2.06.94-2.06 2.06-.94-2.06-.94-.94-2.06-.94 2.06-2.06.94zm-11 1L8.5 8.5l.94-2.06 2.06-.94-2.06-.94L8.5 2.5l-.94 2.06-2.06.94zm10 10l.94 2.06.94-2.06 2.06-.94-2.06-.94-.94-2.06-.94 2.06-2.06.94z\"/><path d=\"M17.41 7.96l-1.37-1.37c-.4-.4-.92-.59-1.43-.59-.52 0-1.04.2-1.43.59L10.3 9.45l-7.72 7.72c-.78.78-.78 2.05 0 2.83L4 21.41c.39.39.9.59 1.41.59.51 0 1.02-.2 1.41-.59l7.78-7.78 2.81-2.81c.8-.78.8-2.07 0-2.86zM5.41 20L4 18.59l7.72-7.72 1.47 1.35L5.41 20z\"/>\n",
              "  </svg>\n",
              "      </button>\n",
              "      \n",
              "  <style>\n",
              "    .colab-df-container {\n",
              "      display:flex;\n",
              "      flex-wrap:wrap;\n",
              "      gap: 12px;\n",
              "    }\n",
              "\n",
              "    .colab-df-convert {\n",
              "      background-color: #E8F0FE;\n",
              "      border: none;\n",
              "      border-radius: 50%;\n",
              "      cursor: pointer;\n",
              "      display: none;\n",
              "      fill: #1967D2;\n",
              "      height: 32px;\n",
              "      padding: 0 0 0 0;\n",
              "      width: 32px;\n",
              "    }\n",
              "\n",
              "    .colab-df-convert:hover {\n",
              "      background-color: #E2EBFA;\n",
              "      box-shadow: 0px 1px 2px rgba(60, 64, 67, 0.3), 0px 1px 3px 1px rgba(60, 64, 67, 0.15);\n",
              "      fill: #174EA6;\n",
              "    }\n",
              "\n",
              "    [theme=dark] .colab-df-convert {\n",
              "      background-color: #3B4455;\n",
              "      fill: #D2E3FC;\n",
              "    }\n",
              "\n",
              "    [theme=dark] .colab-df-convert:hover {\n",
              "      background-color: #434B5C;\n",
              "      box-shadow: 0px 1px 3px 1px rgba(0, 0, 0, 0.15);\n",
              "      filter: drop-shadow(0px 1px 2px rgba(0, 0, 0, 0.3));\n",
              "      fill: #FFFFFF;\n",
              "    }\n",
              "  </style>\n",
              "\n",
              "      <script>\n",
              "        const buttonEl =\n",
              "          document.querySelector('#df-c4b1aaec-9903-4912-8e91-b712ba7f752a button.colab-df-convert');\n",
              "        buttonEl.style.display =\n",
              "          google.colab.kernel.accessAllowed ? 'block' : 'none';\n",
              "\n",
              "        async function convertToInteractive(key) {\n",
              "          const element = document.querySelector('#df-c4b1aaec-9903-4912-8e91-b712ba7f752a');\n",
              "          const dataTable =\n",
              "            await google.colab.kernel.invokeFunction('convertToInteractive',\n",
              "                                                     [key], {});\n",
              "          if (!dataTable) return;\n",
              "\n",
              "          const docLinkHtml = 'Like what you see? Visit the ' +\n",
              "            '<a target=\"_blank\" href=https://colab.research.google.com/notebooks/data_table.ipynb>data table notebook</a>'\n",
              "            + ' to learn more about interactive tables.';\n",
              "          element.innerHTML = '';\n",
              "          dataTable['output_type'] = 'display_data';\n",
              "          await google.colab.output.renderOutput(dataTable, element);\n",
              "          const docLink = document.createElement('div');\n",
              "          docLink.innerHTML = docLinkHtml;\n",
              "          element.appendChild(docLink);\n",
              "        }\n",
              "      </script>\n",
              "    </div>\n",
              "  </div>\n",
              "  "
            ]
          },
          "metadata": {},
          "execution_count": 83
        }
      ]
    },
    {
      "cell_type": "markdown",
      "source": [
        "# **Exclusão de Colunas**"
      ],
      "metadata": {
        "id": "8zqCz9RIEa_Q"
      }
    },
    {
      "cell_type": "code",
      "source": [
        "df_ft.shape"
      ],
      "metadata": {
        "id": "3Zt9HmZSGZMu",
        "colab": {
          "base_uri": "https://localhost:8080/"
        },
        "outputId": "6556416a-777a-48ef-acf6-a0550271253b"
      },
      "execution_count": null,
      "outputs": [
        {
          "output_type": "execute_result",
          "data": {
            "text/plain": [
              "(1864223, 108)"
            ]
          },
          "metadata": {},
          "execution_count": 84
        }
      ]
    },
    {
      "cell_type": "code",
      "source": [
        "df_ft.drop(['TP_FAIXA_ETARIA','TP_ESTADO_CIVIL','TP_COR_RACA','TP_ST_CONCLUSAO','TP_ANO_CONCLUIU',\n",
        "            'TP_ESCOLA', 'TP_ENSINO', 'Q005', 'Q006', 'Q007', 'Q008', 'Q009', 'Q010', 'Q011',\n",
        "            'Q012', 'Q013', 'Q014', 'Q015', 'Q016', 'Q017', 'Q019', 'Q024', 'Sum_TIC3', 'Sum_TIC5',\n",
        "            'Sum_Elet', 'Car_Mot', 'Tot_PtCasa', 'Q001_', 'Q002_', 'Ter_Asp', 'Ter_TV', 'Ter_DVD',\n",
        "            'Ter_TVa', 'Ter_TFi', 'Ter_Gel', 'Ter_Fre', 'Ter_LvR', 'Ter_ScR', 'Ter_Mio', 'Ter_LvL',\n",
        "            'Q007_f2', 'Q007_f', 'Q008_f2', 'Q008_f', 'Q009_f2', 'Q009_f', 'Tot_PtCasa_2', 'Ter_Int'], axis = 1, inplace = True)\n",
        "df_ft.shape"
      ],
      "metadata": {
        "id": "NFDqcyeKEeDB",
        "colab": {
          "base_uri": "https://localhost:8080/"
        },
        "outputId": "5a10853b-1c8b-4c11-d3d8-c96973f53ec4"
      },
      "execution_count": null,
      "outputs": [
        {
          "output_type": "execute_result",
          "data": {
            "text/plain": [
              "(1864223, 60)"
            ]
          },
          "metadata": {},
          "execution_count": 85
        }
      ]
    },
    {
      "cell_type": "code",
      "source": [
        "df_ft.columns"
      ],
      "metadata": {
        "colab": {
          "base_uri": "https://localhost:8080/"
        },
        "id": "lXal5YB7NkkX",
        "outputId": "41eff2b2-0bff-489b-f9be-054850c7687f"
      },
      "execution_count": null,
      "outputs": [
        {
          "output_type": "execute_result",
          "data": {
            "text/plain": [
              "Index(['NU_INSCRICAO', 'NU_ANO', 'TP_SEXO', 'CO_MUNICIPIO_ESC',\n",
              "       'NO_MUNICIPIO_ESC', 'SG_UF_ESC', 'TP_LOCALIZACAO_ESC',\n",
              "       'CO_MUNICIPIO_PROVA', 'NO_MUNICIPIO_PROVA', 'SG_UF_PROVA', 'NU_NOTA_CN',\n",
              "       'NU_NOTA_CH', 'NU_NOTA_LC', 'NU_NOTA_MT', 'TP_LINGUA',\n",
              "       'NU_NOTA_REDACAO', 'Q001', 'Q002', 'Q003', 'Q004', 'Q018', 'Q020',\n",
              "       'Q021', 'Q022', 'Q023', 'Q025', 'Sum_Target', 'Sum_Target_2',\n",
              "       'Sum_Target_3', 'Ter_Cel', 'Ter_Com', 'Sum_TIC3_', 'Sum_TIC5_',\n",
              "       'Sum_Elet_', 'Esc_Max', 'Q010_', 'Q011_', 'Car_Mot_', 'Q007_', 'Q008_',\n",
              "       'Q009_', 'Tot_PtCasa_', 'RegGeo_Prova', 'SG_UF_PROVA_',\n",
              "       'TP_FAIXA_ETARIA_', 'TP_ESTADO_CIVIL_', 'TP_COR_RACA_',\n",
              "       'TP_ANO_CONCLUIU_', 'TP_ESCOLA_', 'TP_ENSINO_', 'Q005_', 'Q006_',\n",
              "       'Q012_', 'Q013_', 'Q014_', 'Q015_', 'Q016_', 'Q017_', 'Q019_', 'Q024_'],\n",
              "      dtype='object')"
            ]
          },
          "metadata": {},
          "execution_count": 86
        }
      ]
    },
    {
      "cell_type": "markdown",
      "source": [
        "# **Exportar Base Final**"
      ],
      "metadata": {
        "id": "ELpe4LhT-4xC"
      }
    },
    {
      "cell_type": "code",
      "source": [
        "df_ft.to_csv('/content/drive/MyDrive/MBA_TCC/DADOS/df_ft_2021_categ.csv', index=False)"
      ],
      "metadata": {
        "id": "bx8Msgub-_LO"
      },
      "execution_count": null,
      "outputs": []
    }
  ]
}
