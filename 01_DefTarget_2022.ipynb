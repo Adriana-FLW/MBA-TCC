{
  "nbformat": 4,
  "nbformat_minor": 0,
  "metadata": {
    "colab": {
      "provenance": [],
      "mount_file_id": "1GfIPsWEAjrAN3MvkdpD7ZSfR9Zm9A5Lk",
      "authorship_tag": "ABX9TyPx8ZPd2q4P7F9LfxSrRcfr",
      "include_colab_link": true
    },
    "kernelspec": {
      "name": "python3",
      "display_name": "Python 3"
    },
    "language_info": {
      "name": "python"
    }
  },
  "cells": [
    {
      "cell_type": "markdown",
      "metadata": {
        "id": "view-in-github",
        "colab_type": "text"
      },
      "source": [
        "<a href=\"https://colab.research.google.com/github/Adriana-FLW/MBA_TCC/blob/main/01_DefTarget_2022.ipynb\" target=\"_parent\"><img src=\"https://colab.research.google.com/assets/colab-badge.svg\" alt=\"Open In Colab\"/></a>"
      ]
    },
    {
      "cell_type": "markdown",
      "source": [
        "# **ENEM 2022**"
      ],
      "metadata": {
        "id": "cvmTA9hvz6WR"
      }
    },
    {
      "cell_type": "markdown",
      "source": [
        "# - **Bibliotecas**"
      ],
      "metadata": {
        "id": "mYMdtT9R0AGA"
      }
    },
    {
      "cell_type": "code",
      "source": [
        "import pandas as pd\n",
        "import numpy as np"
      ],
      "metadata": {
        "id": "vZP9nhSc0Fq_"
      },
      "execution_count": null,
      "outputs": []
    },
    {
      "cell_type": "markdown",
      "source": [
        "# **Importar Base 2022**"
      ],
      "metadata": {
        "id": "gH-3IGXK0MT3"
      }
    },
    {
      "cell_type": "code",
      "source": [
        "df_f = pd.read_csv('/content/drive/MyDrive/MBA_TCC/DADOS/df_f_2022.csv',sep=',',encoding='ISO-8859-1')\n",
        "df_f.shape"
      ],
      "metadata": {
        "colab": {
          "base_uri": "https://localhost:8080/"
        },
        "id": "8IA_ob080QPp",
        "outputId": "ee92acf4-fe90-47f9-aa55-afc1bc0b2f70"
      },
      "execution_count": null,
      "outputs": [
        {
          "output_type": "execute_result",
          "data": {
            "text/plain": [
              "(1920850, 48)"
            ]
          },
          "metadata": {},
          "execution_count": 3
        }
      ]
    },
    {
      "cell_type": "code",
      "source": [
        "df_f.info()"
      ],
      "metadata": {
        "colab": {
          "base_uri": "https://localhost:8080/"
        },
        "id": "9fyVyre10Wx5",
        "outputId": "080ecea4-b9c7-4c87-8974-e1feb8852440"
      },
      "execution_count": null,
      "outputs": [
        {
          "output_type": "stream",
          "name": "stdout",
          "text": [
            "<class 'pandas.core.frame.DataFrame'>\n",
            "RangeIndex: 1920850 entries, 0 to 1920849\n",
            "Data columns (total 48 columns):\n",
            " #   Column              Dtype  \n",
            "---  ------              -----  \n",
            " 0   NU_INSCRICAO        int64  \n",
            " 1   NU_ANO              int64  \n",
            " 2   TP_FAIXA_ETARIA     int64  \n",
            " 3   TP_SEXO             object \n",
            " 4   TP_ESTADO_CIVIL     int64  \n",
            " 5   TP_COR_RACA         int64  \n",
            " 6   TP_ST_CONCLUSAO     int64  \n",
            " 7   TP_ANO_CONCLUIU     int64  \n",
            " 8   TP_ESCOLA           int64  \n",
            " 9   TP_ENSINO           int64  \n",
            " 10  CO_MUNICIPIO_ESC    float64\n",
            " 11  NO_MUNICIPIO_ESC    object \n",
            " 12  SG_UF_ESC           object \n",
            " 13  TP_LOCALIZACAO_ESC  int64  \n",
            " 14  CO_MUNICIPIO_PROVA  float64\n",
            " 15  NO_MUNICIPIO_PROVA  object \n",
            " 16  SG_UF_PROVA         object \n",
            " 17  NU_NOTA_CN          float64\n",
            " 18  NU_NOTA_CH          float64\n",
            " 19  NU_NOTA_LC          float64\n",
            " 20  NU_NOTA_MT          float64\n",
            " 21  TP_LINGUA           int64  \n",
            " 22  NU_NOTA_REDACAO     float64\n",
            " 23  Q001                object \n",
            " 24  Q002                object \n",
            " 25  Q003                object \n",
            " 26  Q004                object \n",
            " 27  Q005                float64\n",
            " 28  Q006                object \n",
            " 29  Q007                object \n",
            " 30  Q008                object \n",
            " 31  Q009                object \n",
            " 32  Q010                object \n",
            " 33  Q011                object \n",
            " 34  Q012                object \n",
            " 35  Q013                object \n",
            " 36  Q014                object \n",
            " 37  Q015                object \n",
            " 38  Q016                object \n",
            " 39  Q017                object \n",
            " 40  Q018                object \n",
            " 41  Q019                object \n",
            " 42  Q020                object \n",
            " 43  Q021                object \n",
            " 44  Q022                object \n",
            " 45  Q023                object \n",
            " 46  Q024                object \n",
            " 47  Q025                object \n",
            "dtypes: float64(8), int64(11), object(29)\n",
            "memory usage: 703.4+ MB\n"
          ]
        }
      ]
    },
    {
      "cell_type": "markdown",
      "source": [
        "# **Classificação das Competências**"
      ],
      "metadata": {
        "id": "2YndI83d0Yzj"
      }
    },
    {
      "cell_type": "markdown",
      "source": [
        "- NU_NOTA_CN             "
      ],
      "metadata": {
        "id": "BWpnbgFL024l"
      }
    },
    {
      "cell_type": "code",
      "source": [
        "np.median(df_f.NU_NOTA_CN)"
      ],
      "metadata": {
        "colab": {
          "base_uri": "https://localhost:8080/"
        },
        "id": "6-TzQKU468wa",
        "outputId": "4cb1c517-8ac8-4ef1-dae7-150e5f5e59cd"
      },
      "execution_count": null,
      "outputs": [
        {
          "output_type": "execute_result",
          "data": {
            "text/plain": [
              "486.8"
            ]
          },
          "metadata": {},
          "execution_count": 5
        }
      ]
    },
    {
      "cell_type": "code",
      "source": [
        "df_f['Target_CN'] = np.where(df_f['NU_NOTA_CN'] > np.median(df_f.NU_NOTA_CN), 1, 0)"
      ],
      "metadata": {
        "id": "EvHU1ODP6cYy"
      },
      "execution_count": null,
      "outputs": []
    },
    {
      "cell_type": "code",
      "source": [
        "df_f['Target_CN'].value_counts().sort_index()"
      ],
      "metadata": {
        "colab": {
          "base_uri": "https://localhost:8080/"
        },
        "id": "iDVBFyN38MpX",
        "outputId": "2fe02007-c46a-41c1-fd68-d311cf763d58"
      },
      "execution_count": null,
      "outputs": [
        {
          "output_type": "execute_result",
          "data": {
            "text/plain": [
              "0    960771\n",
              "1    960079\n",
              "Name: Target_CN, dtype: int64"
            ]
          },
          "metadata": {},
          "execution_count": 7
        }
      ]
    },
    {
      "cell_type": "markdown",
      "source": [
        "- NU_NOTA_CH          "
      ],
      "metadata": {
        "id": "38Q_5HY88ruT"
      }
    },
    {
      "cell_type": "code",
      "source": [
        "np.median(df_f.NU_NOTA_CH)"
      ],
      "metadata": {
        "colab": {
          "base_uri": "https://localhost:8080/"
        },
        "id": "GenCRQQM8vaK",
        "outputId": "4f3b0eba-20a2-4158-beef-6420b0c60001"
      },
      "execution_count": null,
      "outputs": [
        {
          "output_type": "execute_result",
          "data": {
            "text/plain": [
              "532.5"
            ]
          },
          "metadata": {},
          "execution_count": 8
        }
      ]
    },
    {
      "cell_type": "code",
      "source": [
        "df_f['Target_CH'] = np.where(df_f['NU_NOTA_CH'] > np.median(df_f.NU_NOTA_CH), 1, 0)"
      ],
      "metadata": {
        "id": "EbnM3CbJ8vj6"
      },
      "execution_count": null,
      "outputs": []
    },
    {
      "cell_type": "code",
      "source": [
        "df_f['Target_CH'].value_counts().sort_index()"
      ],
      "metadata": {
        "colab": {
          "base_uri": "https://localhost:8080/"
        },
        "id": "F03vOAlc8vss",
        "outputId": "efcab80a-bae1-4bee-bbb2-f1c162c4901b"
      },
      "execution_count": null,
      "outputs": [
        {
          "output_type": "execute_result",
          "data": {
            "text/plain": [
              "0    960456\n",
              "1    960394\n",
              "Name: Target_CH, dtype: int64"
            ]
          },
          "metadata": {},
          "execution_count": 10
        }
      ]
    },
    {
      "cell_type": "markdown",
      "source": [
        "- NU_NOTA_LC          "
      ],
      "metadata": {
        "id": "bStyKQiD9LYE"
      }
    },
    {
      "cell_type": "code",
      "source": [
        "np.median(df_f.NU_NOTA_LC)"
      ],
      "metadata": {
        "colab": {
          "base_uri": "https://localhost:8080/"
        },
        "id": "GFViPW-L9P5S",
        "outputId": "38e8429d-6b61-4ec7-a425-dde640299466"
      },
      "execution_count": null,
      "outputs": [
        {
          "output_type": "execute_result",
          "data": {
            "text/plain": [
              "527.5"
            ]
          },
          "metadata": {},
          "execution_count": 11
        }
      ]
    },
    {
      "cell_type": "code",
      "source": [
        "df_f['Target_LC'] = np.where(df_f['NU_NOTA_LC'] > np.median(df_f.NU_NOTA_LC), 1, 0)"
      ],
      "metadata": {
        "id": "40vSD37B9QCd"
      },
      "execution_count": null,
      "outputs": []
    },
    {
      "cell_type": "code",
      "source": [
        "df_f['Target_LC'].value_counts().sort_index()"
      ],
      "metadata": {
        "colab": {
          "base_uri": "https://localhost:8080/"
        },
        "id": "oQ7tqFzD9QKq",
        "outputId": "77c43eaa-ce81-4310-b623-e1efc085231d"
      },
      "execution_count": null,
      "outputs": [
        {
          "output_type": "execute_result",
          "data": {
            "text/plain": [
              "0    961392\n",
              "1    959458\n",
              "Name: Target_LC, dtype: int64"
            ]
          },
          "metadata": {},
          "execution_count": 13
        }
      ]
    },
    {
      "cell_type": "markdown",
      "source": [
        "- NU_NOTA_MT          "
      ],
      "metadata": {
        "id": "PVrYQ1he9qIe"
      }
    },
    {
      "cell_type": "code",
      "source": [
        "np.median(df_f.NU_NOTA_MT)"
      ],
      "metadata": {
        "colab": {
          "base_uri": "https://localhost:8080/"
        },
        "id": "VzbMLEi19rQc",
        "outputId": "316c7c72-fcde-4543-a8ad-a916c9df66f5"
      },
      "execution_count": null,
      "outputs": [
        {
          "output_type": "execute_result",
          "data": {
            "text/plain": [
              "529.1"
            ]
          },
          "metadata": {},
          "execution_count": 14
        }
      ]
    },
    {
      "cell_type": "code",
      "source": [
        "df_f['Target_MT'] = np.where(df_f['NU_NOTA_MT'] > np.median(df_f.NU_NOTA_MT), 1, 0)"
      ],
      "metadata": {
        "id": "2q5V31PS9rZM"
      },
      "execution_count": null,
      "outputs": []
    },
    {
      "cell_type": "code",
      "source": [
        "df_f['Target_MT'].value_counts().sort_index()"
      ],
      "metadata": {
        "colab": {
          "base_uri": "https://localhost:8080/"
        },
        "id": "DnSJBaBS9rhQ",
        "outputId": "e4911909-b6f2-4cb9-852a-7f5f57fec9c8"
      },
      "execution_count": null,
      "outputs": [
        {
          "output_type": "execute_result",
          "data": {
            "text/plain": [
              "0    960837\n",
              "1    960013\n",
              "Name: Target_MT, dtype: int64"
            ]
          },
          "metadata": {},
          "execution_count": 16
        }
      ]
    },
    {
      "cell_type": "markdown",
      "source": [
        "- NU_NOTA_REDACAO     "
      ],
      "metadata": {
        "id": "BtbB4ghy-JA7"
      }
    },
    {
      "cell_type": "code",
      "source": [
        "np.median(df_f.NU_NOTA_REDACAO)"
      ],
      "metadata": {
        "colab": {
          "base_uri": "https://localhost:8080/"
        },
        "id": "Esz42BCS-J_X",
        "outputId": "d5069faa-b3d0-4124-fd22-861f9309610a"
      },
      "execution_count": null,
      "outputs": [
        {
          "output_type": "execute_result",
          "data": {
            "text/plain": [
              "620.0"
            ]
          },
          "metadata": {},
          "execution_count": 17
        }
      ]
    },
    {
      "cell_type": "code",
      "source": [
        "df_f['Target_Red'] = np.where(df_f['NU_NOTA_REDACAO'] > np.median(df_f.NU_NOTA_REDACAO), 1, 0)"
      ],
      "metadata": {
        "id": "_5IsvwwX-KHK"
      },
      "execution_count": null,
      "outputs": []
    },
    {
      "cell_type": "code",
      "source": [
        "df_f['Target_Red'].value_counts().sort_index()"
      ],
      "metadata": {
        "colab": {
          "base_uri": "https://localhost:8080/"
        },
        "id": "WUO-npeM-KNi",
        "outputId": "13a6b6f6-b571-40f0-e381-a528e5d025ac"
      },
      "execution_count": null,
      "outputs": [
        {
          "output_type": "execute_result",
          "data": {
            "text/plain": [
              "0    965909\n",
              "1    954941\n",
              "Name: Target_Red, dtype: int64"
            ]
          },
          "metadata": {},
          "execution_count": 21
        }
      ]
    },
    {
      "cell_type": "markdown",
      "source": [
        "# **Definição do Target**"
      ],
      "metadata": {
        "id": "SgjeIqfR-06-"
      }
    },
    {
      "cell_type": "code",
      "source": [
        "df_f['Sum_Target'] = df_f['Target_CN'] + df_f['Target_CH'] + df_f['Target_LC'] + df_f['Target_MT'] + df_f['Target_Red']"
      ],
      "metadata": {
        "id": "ZoFalzDk-4zl"
      },
      "execution_count": null,
      "outputs": []
    },
    {
      "cell_type": "code",
      "source": [
        "df_f['Sum_Target'].value_counts().sort_index()"
      ],
      "metadata": {
        "colab": {
          "base_uri": "https://localhost:8080/"
        },
        "id": "t59mVufp_xnk",
        "outputId": "4691d660-4fdc-4b52-e330-438a0aa19794"
      },
      "execution_count": null,
      "outputs": [
        {
          "output_type": "execute_result",
          "data": {
            "text/plain": [
              "0    383691\n",
              "1    324218\n",
              "2    266412\n",
              "3    255409\n",
              "4    283984\n",
              "5    407136\n",
              "Name: Sum_Target, dtype: int64"
            ]
          },
          "metadata": {},
          "execution_count": 23
        }
      ]
    },
    {
      "cell_type": "code",
      "source": [
        "df_f['Sum_Target_2'] = np.where(df_f['Sum_Target'] >=3, 1, 0)\n",
        "df_f['Sum_Target_2'].value_counts().sort_index()"
      ],
      "metadata": {
        "colab": {
          "base_uri": "https://localhost:8080/"
        },
        "id": "fcUMAp4NDxmG",
        "outputId": "cfefb41b-8891-407f-8a40-92f249495e66"
      },
      "execution_count": null,
      "outputs": [
        {
          "output_type": "execute_result",
          "data": {
            "text/plain": [
              "0    974321\n",
              "1    946529\n",
              "Name: Sum_Target_2, dtype: int64"
            ]
          },
          "metadata": {},
          "execution_count": 24
        }
      ]
    },
    {
      "cell_type": "code",
      "source": [
        "conditionlist = [(df_f['Sum_Target'] <= 1) ,\n",
        "                 (df_f['Sum_Target'] > 1) & (df_f['Sum_Target'] <= 3),\n",
        "                 (df_f['Sum_Target'] > 3)]\n",
        "choicelist = [0, 1, 2]\n",
        "df_f['Sum_Target_3'] = np.select(conditionlist, choicelist, default='Not Specified')\n",
        "\n",
        "df_f.Sum_Target_3.value_counts().sort_index()"
      ],
      "metadata": {
        "colab": {
          "base_uri": "https://localhost:8080/"
        },
        "id": "ewceGEQ3A-XK",
        "outputId": "17f31ef2-2691-4e21-d5c5-42f27132cf4e"
      },
      "execution_count": null,
      "outputs": [
        {
          "output_type": "execute_result",
          "data": {
            "text/plain": [
              "0    707909\n",
              "1    521821\n",
              "2    691120\n",
              "Name: Sum_Target_3, dtype: int64"
            ]
          },
          "metadata": {},
          "execution_count": 25
        }
      ]
    },
    {
      "cell_type": "markdown",
      "source": [
        "# **Exclusao de Colunas**"
      ],
      "metadata": {
        "id": "7215thvAGfAY"
      }
    },
    {
      "cell_type": "code",
      "source": [
        "df_f.drop(['Target_CN','Target_CH','Target_LC','Target_MT','Target_Red'], axis = 1, inplace = True)\n",
        "df_f.shape"
      ],
      "metadata": {
        "colab": {
          "base_uri": "https://localhost:8080/"
        },
        "id": "GEwvBvuDGiOC",
        "outputId": "816229e6-af8d-41a7-c2f4-06e4fe3518e2"
      },
      "execution_count": null,
      "outputs": [
        {
          "output_type": "execute_result",
          "data": {
            "text/plain": [
              "(1920850, 51)"
            ]
          },
          "metadata": {},
          "execution_count": 26
        }
      ]
    },
    {
      "cell_type": "markdown",
      "source": [
        "# **Exportar Base Final**"
      ],
      "metadata": {
        "id": "zvepqC2FHDvL"
      }
    },
    {
      "cell_type": "code",
      "source": [
        "df_f.to_csv('/content/drive/MyDrive/MBA_TCC/DADOS/df_ft_2022.csv', index=False)"
      ],
      "metadata": {
        "id": "Q4oompiwHINi"
      },
      "execution_count": null,
      "outputs": []
    }
  ]
}